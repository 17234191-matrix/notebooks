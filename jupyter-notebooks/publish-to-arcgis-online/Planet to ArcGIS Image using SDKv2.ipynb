{
 "cells": [
  {
   "cell_type": "markdown",
   "id": "5b2ce989",
   "metadata": {},
   "source": [
    "# Publish PlanetScope Imagery to ArcGIS Image for ArcGIS Online\n",
    "\n",
    "This script takes activated Planet orders and publishes them as Image Services with ArcGIS Online.  With Planet imagery published in ArcGIS Online, you are able to:\n",
    "\n",
    "* Use the imagery in analytics workflows using raster functions or raster analytics\n",
    "* Access full bit-depth imagery for custom stretching or band combinations performed on the fly\n",
    "* Securely share imagery with your end-users since it is hosted inside of ArcGIS Online\n",
    "\n",
    "This script specifically works with PlanetScope 8-band analytics surface reflectance assets, but could be modified to work with additional asset types.  For example, this could be extended to support Planet Basemaps or SkySat imagery.\n",
    "\n",
    "### Prerequisites\n",
    "\n",
    "* Access to the Planet API's (Don't have access? ([Sign up for our Developer Trial to get access!](https://developers.planet.com/devtrial/))\n",
    "* Access to ArcGIS Online with an [ArcGIS Image for ArcGIS Online license](https://www.esri.com/en-us/arcgis/products/arcgis-image/options/arcgis-online)\n",
    "* A previously placed order for PlanetScope 8-band imagery, either through our [Order's API](https://developers.planet.com/docs/orders/), [ArcGIS Pro Integration](https://developers.planet.com/docs/integrations/arcgis/), or [Explorer](https://www.planet.com/explorer)\n",
    "* Edit the config.py file in this notebooks folder which is used to store credentials for ArcGIS Online and Planet's platform.\n"
   ]
  },
  {
   "cell_type": "code",
   "execution_count": 1,
   "id": "b8616126",
   "metadata": {},
   "outputs": [],
   "source": [
    "from arcgis.raster.analytics import copy_raster\n",
    "from zipfile import ZipFile\n",
    "import azure.storage.blob\n",
    "import datetime\n",
    "import shutil\n",
    "import arcgis\n",
    "import planet\n",
    "import config #local python file which is storing credentials to ArcGIS Online and Planet's Platform\n",
    "import glob\n",
    "import os\n",
    "\n",
    "arcgis.env.verbose = True"
   ]
  },
  {
   "cell_type": "code",
   "execution_count": 2,
   "id": "2bc129b7",
   "metadata": {},
   "outputs": [],
   "source": [
    "planet_auth = planet.auth.APIKeyAuth(config.planet_api_key)"
   ]
  },
  {
   "cell_type": "markdown",
   "id": "dec189be",
   "metadata": {},
   "source": [
    "First, you need to provide an order ID to publish.  You could get the order ID from:\n",
    "\n",
    "* Manually from [Planet Explorer](https://www.planet.com/explorer) or your [planet.com account orders page](https://www.planet.com/account/#/orders)\n",
    "* Or programatically from Planet's Orders API\n",
    "\n",
    "For example, a script could be used to search for orders from with the last 24 hours to be published to ArcGIS Online.\n",
    "\n",
    "For this script, choose an order for the asset type <code>analytic_8b_sr_udm2</code> and which was not delivered to hosted data."
   ]
  },
  {
   "cell_type": "code",
   "execution_count": 6,
   "id": "b0fcd186",
   "metadata": {},
   "outputs": [],
   "source": [
    "# Provide an order ID.  \n",
    "my_order_id = \"INSERT ORDER ID HERE\""
   ]
  },
  {
   "cell_type": "code",
   "execution_count": 4,
   "id": "4aa7f645",
   "metadata": {},
   "outputs": [],
   "source": [
    "async def get_images(my_order_id):\n",
    "    \"\"\"This function returns either a list tiff URLs or file paths for an order id that is provided as input.\n",
    "    \n",
    "    The input order is limited to PlanetScope 8-band assets.\"\"\"\n",
    "    \n",
    "    #create an async Planet API session\n",
    "    async with planet.Session() as ps:\n",
    "        \n",
    "        #create a Planet API client\n",
    "        client = planet.OrdersClient(ps)\n",
    "        \n",
    "        #get the orders details and name\n",
    "        order_details = await client.get_order(order_id=my_order_id)\n",
    "        order_name = order_details['name']\n",
    "\n",
    "        #check if the order has been successfully completed, if not, exit the function\n",
    "        if order_details['state'] != 'success':\n",
    "            print(\"Order isn't completed yet\")\n",
    "            return\n",
    "        #also check that this is 8 band PlanetScope imagery\n",
    "        if order_details[\"products\"][0][\"product_bundle\"] != \"analytic_8b_sr_udm2\":\n",
    "            print(\"Order is not 8 band PlanetScope Imagery\")\n",
    "            return\n",
    "                \n",
    "        #check if the order is zip archives or tiffs\n",
    "        #zip archives are the default delivery option for orders placed from GIS integrations and Explorer\n",
    "        zip_archives = [r['name'] for r in order_details['_links']['results'] if r['name'].endswith(\".zip\")]\n",
    "        \n",
    "        #if order is zip archives:\n",
    "        #     extract zips and get list of tiff file paths\n",
    "        #else:\n",
    "        #     get list tiff urls\n",
    "        if len(zip_archives)>0:\n",
    "            \n",
    "            #download the assets, including zip archives\n",
    "            download_results = await client.download_order(my_order_id)\n",
    "            \n",
    "            #create a list of all zip files that were downloaded\n",
    "            zip_files = [x for x in download_results if x.suffix == \".zip\" ]\n",
    "            \n",
    "            #for each zip file downloaded, extract the files\n",
    "            for zip_file in zip_files:\n",
    "                #get the folder\n",
    "                folder = zip_file.parent.__str__()\n",
    "                z = ZipFile(zip_file)\n",
    "                z.extractall(os.path.join(os.getcwd(), folder))\n",
    "                \n",
    "            #create a list of file paths to the downloaded and unzipped tiff file\n",
    "            #looking for tiff files using search term *_SR_*.tif to exclude UDMs and metadata files\n",
    "            tiff_paths = glob.glob(os.path.join(os.getcwd(), \"**\\\\*_SR_*.tif\"), recursive = True)\n",
    "            \n",
    "            #return the order name and list of file paths to tiffs\n",
    "            return [order_name, tiff_paths]\n",
    "        \n",
    "        #if the order is not zip archives, but just tiffs\n",
    "        #this is the default option when ordering through Planet's API\n",
    "        else:\n",
    "            \n",
    "            #create a list of the URLs directly to tiffs\n",
    "            tiff_urls = [r['location'] for r in order_details['_links']['results'] if '_SR_' in r['name']]\n",
    "            \n",
    "            #return the order name and list of URLs to tiffs\n",
    "            return [order_name, tiff_urls]"
   ]
  },
  {
   "cell_type": "code",
   "execution_count": 13,
   "id": "4930783b",
   "metadata": {},
   "outputs": [
    {
     "name": "stdout",
     "output_type": "stream",
     "text": [
      "--- Order Name ---\n",
      "wildfire - AGOL Jupyter Notebook test\n",
      "\n",
      "--- TIFF Paths ---\n",
      "['https://api.planet.com/compute/ops/download/?token', 'https://api.planet.com/compute/ops/download/?token']\n"
     ]
    }
   ],
   "source": [
    "# From the above function, we get the order name and the paths to our TIFF files to publish\n",
    "tiffs = await get_images(my_order_id)\n",
    "print(\"--- Order Name ---\")\n",
    "print(tiffs[0])\n",
    "print(\"\\n--- TIFF Paths ---\")\n",
    "print([path[:50] for path in tiffs[1]])"
   ]
  },
  {
   "cell_type": "markdown",
   "id": "13a0ea08",
   "metadata": {},
   "source": [
    "## Publish to ArcGIS Online\n",
    "\n",
    "Now the imagery can be published to ArcGIS Online!  Simply authenticate to ArcGIS Online, create a unique name for your imagery layer, and publish the imagery layer."
   ]
  },
  {
   "cell_type": "code",
   "execution_count": 14,
   "id": "50703e4a",
   "metadata": {},
   "outputs": [
    {
     "data": {
      "text/html": [
       "GIS @ <a href=\"https://PlanetLabs.maps.arcgis.com\">https://PlanetLabs.maps.arcgis.com</a>"
      ],
      "text/plain": [
       "GIS @ https://PlanetLabs.maps.arcgis.com version:10.1"
      ]
     },
     "execution_count": 14,
     "metadata": {},
     "output_type": "execute_result"
    }
   ],
   "source": [
    "# Connect to ArcGIS Online\n",
    "gis = arcgis.gis.GIS(url=\"https://www.arcgis.com\", username = config.arcgis_online_username, password = config.arcgis_online_password)\n",
    "gis"
   ]
  },
  {
   "cell_type": "code",
   "execution_count": 21,
   "id": "4c507dd7",
   "metadata": {},
   "outputs": [
    {
     "name": "stdout",
     "output_type": "stream",
     "text": [
      "PlanetLabs_Queretaro_20220613203606\n"
     ]
    }
   ],
   "source": [
    "# Create a unique timestamp\n",
    "timestamp = datetime.datetime.now().strftime('%Y%m%d%H%M%S')\n",
    "\n",
    "# Use timestamp and order name to create a unique name for the image service\n",
    "layer_name = \"PlanetLabs_\" + str(tiffs[0])[:8] + \"_\" + timestamp\n",
    "\n",
    "print(layer_name)"
   ]
  },
  {
   "cell_type": "code",
   "execution_count": 22,
   "id": "45991944",
   "metadata": {},
   "outputs": [
    {
     "name": "stdout",
     "output_type": "stream",
     "text": [
      "Submitted.\n",
      "Executing...\n",
      "Start Time: Tuesday, June 14, 2022 1:36:20 AM\n",
      "Hosted Imagery Privilege Check: OK\n",
      "Image service {'name': 'PlanetLabs_Queretaro_20220613203606', 'serviceUrl': 'https://tiledimageservices8.arcgis.com/12345/arcgis/rest/services/PlanetLabs_Queretaro_20220613203606/ImageServer'} already existed.\n",
      "Output item id is: 123432542351\n",
      "Output image service url is: https://tiledimageservices8.arcgis.com/12345/arcgis/rest/services/PlanetLabs_Queretaro_20220613203606/ImageServer\n",
      "Output cloud raster name is: PlanetLabs_Queretaro_20220613203606\n",
      "Input raster is: []\n",
      "Org ID is: \n",
      "Org ID is: \n",
      "Hosted data folder is: /cloudStores//\n",
      "Finished creating empty mosaic dataset.\n",
      "Create empty image collection successfully.\n",
      "Add image data to mosaic dataset.\n",
      "Define Nodata pixels...\n",
      "Finished define nodata value.\n",
      "Set mosaic dataset default properties.\n",
      "Publishing Raster...\n",
      "/cloudStores/12345/123432542351/PlanetLabs_Queretaro_20220613203606.crf\n",
      "Updating image service...\n",
      "Updating service with data store URI.\n",
      "Getting image service info...\n",
      "Updating service: https://tiledimageservices8.arcgis.com/12345/arcgis/rest/admin/services/PlanetLabs_Queretaro_20220613203606/ImageServer/edit\n",
      "{'success': True}\n",
      "Portal item refreshed.\n",
      "CopyRaster GP Job: 1234142412 finished successfully.\n"
     ]
    }
   ],
   "source": [
    "# Publish your images as an image service to ArcGIS Online\n",
    "# Note that this can take significant time with large datasets.\n",
    "\n",
    "published_rasters = copy_raster(input_raster=tiffs[1],\n",
    "                                outpute_cellsize = {\"distance\":3.5,\"units\":\"meters\"},\n",
    "                                output_name=layer_name,\n",
    "                                raster_type_name=\"Raster Dataset\",\n",
    "                                context={\"outSR\":{\"wkid\":3857},\n",
    "                                         \"resamplingMethod\":\"BILINEAR\",\n",
    "                                         \"compression\":\"LERC 0\",\n",
    "                                         \"bandMapping\":[{\"bandName\":\"coastal_blue\",\"wavelengthMin\":431,\"wavelengthMax\":452},\n",
    "                                                        {\"bandName\":\"blue\",\"wavelengthMin\":465,\"wavelengthMax\":515},\n",
    "                                                        {\"bandName\":\"green_i\",\"wavelengthMin\":513,\"wavelengthMax\":549},\n",
    "                                                        {\"bandName\":\"green\",\"wavelengthMin\":547,\"wavelengthMax\":583},\n",
    "                                                        {\"bandName\":\"yellow\",\"wavelengthMin\":600,\"wavelengthMax\":620},\n",
    "                                                        {\"bandName\":\"red\",\"wavelengthMin\":650,\"wavelengthMax\":680},\n",
    "                                                        {\"bandName\":\"rededge\",\"wavelengthMin\":697,\"wavelengthMax\":713},\n",
    "                                                        {\"bandName\":\"nir\",\"wavelengthMin\":845,\"wavelengthMax\":885}\n",
    "                                                       ],\n",
    "                                         \"buildFootprints\":False,\n",
    "                                         \"defineNodata\":True,\n",
    "                                         \"noDataArguments\":{\"noDataValues\":[0],\n",
    "                                                            \"compositeValue\":True}\n",
    "                                        },\n",
    "                                gis=gis)"
   ]
  },
  {
   "cell_type": "markdown",
   "id": "07122317",
   "metadata": {},
   "source": [
    "## View the New Image Service and Clean Up Folders\n",
    "Now we can view the Image Service by drawing it on a map directly in this notebook!  Or you can view it in your ArcGIS Online environment.\n",
    "\n",
    "#### Want to see the data now? [Check out this map here.](https://planetlabs.maps.arcgis.com/apps/instant/basic/index.html?appid=eaeaa5cf78694c63b9955ff7c87e479f)"
   ]
  },
  {
   "cell_type": "code",
   "execution_count": 24,
   "id": "998c0ed0",
   "metadata": {},
   "outputs": [
    {
     "data": {
      "application/vnd.jupyter.widget-view+json": {
       "model_id": "3c819e6cbaa64666bb64260c161b982f",
       "version_major": 2,
       "version_minor": 0
      },
      "text/plain": [
       "MapView(layout=Layout(height='400px', width='100%'))"
      ]
     },
     "metadata": {},
     "output_type": "display_data"
    },
    {
     "data": {
      "text/html": [
       "<div class=\"map-static-img-preview-7f0dd9c3-d909-494d-a6f8-a802e94b4729\"><img src=\"\"></img></div>"
      ],
      "text/plain": [
       "<IPython.core.display.HTML object>"
      ]
     },
     "metadata": {},
     "output_type": "display_data"
    },
    {
     "data": {
      "text/html": [
       "<div class=\"map-html-embed-preview-7f0dd9c3-d909-494d-a6f8-a802e94b4729\"></div>"
      ],
      "text/plain": [
       "<IPython.core.display.HTML object>"
      ]
     },
     "metadata": {},
     "output_type": "display_data"
    }
   ],
   "source": [
    "# view the new imagery layer on an arcgis map\n",
    "# this layer can now be added to other maps, analyzed with ArcGIS Raster Analytics tools, and more\n",
    "\n",
    "my_map = gis.map(location = published_rasters.extent, zoomlevel = 11)\n",
    "my_map.basemap = \"imagery\"\n",
    "my_map.add_layer(published_rasters)\n",
    "my_map\n"
   ]
  },
  {
   "cell_type": "markdown",
   "id": "b9e590d2",
   "metadata": {},
   "source": [
    "![PlanetScope Image Service in Jupyter Notebook](/images/PlanetImageryInNotebook.png)"
   ]
  },
  {
   "cell_type": "code",
   "execution_count": 25,
   "id": "657946f4",
   "metadata": {},
   "outputs": [
    {
     "name": "stdout",
     "output_type": "stream",
     "text": [
      "Nothing to delete\n"
     ]
    }
   ],
   "source": [
    "# deletes the folder and contents created when downloading order and unzipping \n",
    "if os.path.exists(my_order_id) and os.path.isdir(my_order_id):\n",
    "    shutil.rmtree(my_order_id)\n",
    "else:\n",
    "    print(\"Nothing to delete\")"
   ]
  }
 ],
 "metadata": {
  "kernelspec": {
   "display_name": "Python 3",
   "language": "python",
   "name": "python3"
  },
  "language_info": {
   "codemirror_mode": {
    "name": "ipython",
    "version": 3
   },
   "file_extension": ".py",
   "mimetype": "text/x-python",
   "name": "python",
   "nbconvert_exporter": "python",
   "pygments_lexer": "ipython3",
   "version": "3.7.13"
  }
 },
 "nbformat": 4,
 "nbformat_minor": 5
}
