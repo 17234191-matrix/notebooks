{
 "cells": [
  {
   "cell_type": "markdown",
   "source": [
    "##__Announcement!__ \n",
    "__[STAC metadata](https://developers.planet.com/docs/orders/delivery/#stac-metadata) in the Orders API is in Beta now. You no longer need to use PySTAC or other third-party solutions to create a STAC catalog of imagery. Instead of working your way through this article, we recommend trying out the Orders API STAC metadata. We will unpublish this Introduction to STAC Part 2 tutorial when Beta is complete.__"
   ],
   "metadata": {}
  },
  {
   "cell_type": "markdown",
   "source": [
    "In this tutorial, we will highlight how to create a simple STAC catalog using the python library PySTAC. We will refer back to the catalog of items we obtained from our Planet order and the corresponding analytic assets (our COGs stored in our Google Cloud Storage bucket)."
   ],
   "metadata": {}
  },
  {
   "cell_type": "markdown",
   "source": [
    "## Import Dependencies"
   ],
   "metadata": {}
  },
  {
   "cell_type": "code",
   "execution_count": 1,
   "source": [
    "import pystac\n",
    "import os\n",
    "import json\n",
    "import requests\n",
    "import urllib.request\n",
    "import rasterio\n",
    "from tempfile import TemporaryDirectory\n",
    "from pathlib import Path\n",
    "import typing"
   ],
   "outputs": [],
   "metadata": {}
  },
  {
   "cell_type": "markdown",
   "source": [
    "## Create Empty STAC Catalog"
   ],
   "metadata": {}
  },
  {
   "cell_type": "markdown",
   "source": [
    "Get the STAC version pystac defaults to"
   ],
   "metadata": {}
  },
  {
   "cell_type": "code",
   "execution_count": 2,
   "source": [
    "pystac.get_stac_version()"
   ],
   "outputs": [
    {
     "output_type": "execute_result",
     "data": {
      "text/plain": [
       "'1.0.0-beta.2'"
      ]
     },
     "metadata": {},
     "execution_count": 2
    }
   ],
   "metadata": {}
  },
  {
   "cell_type": "code",
   "execution_count": 3,
   "source": [
    "catalog = pystac.Catalog(id='sample-catalog', description='Simple STAC catalog.')"
   ],
   "outputs": [],
   "metadata": {}
  },
  {
   "cell_type": "code",
   "execution_count": 4,
   "source": [
    "catalog"
   ],
   "outputs": [
    {
     "output_type": "execute_result",
     "data": {
      "text/plain": [
       "<Catalog id=sample-catalog>"
      ]
     },
     "metadata": {},
     "execution_count": 4
    }
   ],
   "metadata": {}
  },
  {
   "cell_type": "markdown",
   "source": [
    "Our catalog is currently empty. Let's go ahead and add some items to it."
   ],
   "metadata": {}
  },
  {
   "cell_type": "code",
   "execution_count": 5,
   "source": [
    "print(list(catalog.get_all_items()))\n",
    "print(list(catalog.get_children()))"
   ],
   "outputs": [
    {
     "output_type": "stream",
     "name": "stdout",
     "text": [
      "[]\n",
      "[]\n"
     ]
    }
   ],
   "metadata": {}
  },
  {
   "cell_type": "markdown",
   "source": [
    "## Creating STAC Items from a Planet Order"
   ],
   "metadata": {}
  },
  {
   "cell_type": "markdown",
   "source": [
    "### Setup Planet Authentication"
   ],
   "metadata": {}
  },
  {
   "cell_type": "code",
   "execution_count": 6,
   "source": [
    "import requests\n",
    "from requests.auth import HTTPBasicAuth\n",
    "import json\n",
    "\n",
    "## Get Planet API key stored as an environment variable on your system\n",
    "PLANET_API_KEY = os.getenv('PLANET_API_KEY')\n",
    "\n",
    "## HTTP Basic Authentication\n",
    "planet_auth = HTTPBasicAuth(PLANET_API_KEY, '')\n",
    "\n",
    "# set content type to json\n",
    "headers = {'content-type': 'application/json'}"
   ],
   "outputs": [],
   "metadata": {}
  },
  {
   "cell_type": "code",
   "execution_count": 7,
   "source": [
    "# Base Order URL\n",
    "planet_orders_url = 'https://api.planet.com/compute/ops/orders/v2'\n",
    "\n",
    "# order id\n",
    "order_id = 'cb363b75-b4e4-46f1-8d32-0ef87afb6215'"
   ],
   "outputs": [],
   "metadata": {}
  },
  {
   "cell_type": "markdown",
   "source": [
    "List containing some of the item ids from our order"
   ],
   "metadata": {}
  },
  {
   "cell_type": "code",
   "execution_count": 8,
   "source": [
    "item_ids = [\n",
    "         '20210515_145754_03_245c',\n",
    "         '20210514_145807_70_2455',\n",
    "]"
   ],
   "outputs": [],
   "metadata": {}
  },
  {
   "cell_type": "markdown",
   "source": [
    "### Downloading and Storing Planet Order Metadata.json for the Items"
   ],
   "metadata": {}
  },
  {
   "cell_type": "code",
   "execution_count": 9,
   "source": [
    "def store_item_metadata(order_id, metadata_folder_name, item_type, item_ids):\n",
    "   \n",
    "    # Get previous Planet order results with the order id associated with the order\n",
    "    current_order = planet_orders_url + '/' + order_id\n",
    "    order_response = requests.get(current_order, auth=planet_auth)\n",
    "    order_response.status_code\n",
    "    order_results = order_response.json()['_links']['results']\n",
    " \n",
    "\n",
    "    # List of metadata json file names from the selected items from the order\n",
    "    file_names = [file_name := order_id + '/' +  item_type + '/' + item_id + '_metadata.json' for item_id in item_ids]\n",
    "\n",
    "    \n",
    "    # Create folder to store metadata if the folder does not already exist\n",
    "    metadata_folder = Path.cwd() / metadata_folder_name\n",
    "    try:\n",
    "        metadata_folder.mkdir(parents=True, exist_ok=False)\n",
    "    except FileExistsError as err:\n",
    "        print(\"Directory already exists\")\n",
    "    \n",
    "    file_paths = []\n",
    "    for result in order_results:\n",
    "        if result['name'] in file_names:\n",
    "            json_file = result['location']\n",
    "            metadata_path = Path.joinpath(metadata_folder).joinpath(result[\"name\"])   \n",
    "            file_paths.append(str(metadata_path))\n",
    "            metadata_path.parent.mkdir(parents=True, exist_ok=True)\n",
    "            item_metadata_download = requests.get(json_file, allow_redirects=True)\n",
    "            open(metadata_path, 'wb').write(item_metadata_download.content)"
   ],
   "outputs": [],
   "metadata": {}
  },
  {
   "cell_type": "code",
   "execution_count": 10,
   "source": [
    "def load_item_metadata(file):\n",
    "    with open(file, \"r\") as f:\n",
    "        data = json.load(f)\n",
    "        return data"
   ],
   "outputs": [],
   "metadata": {}
  },
  {
   "cell_type": "markdown",
   "source": [
    "### Functionality for Creating STAC Items"
   ],
   "metadata": {}
  },
  {
   "cell_type": "markdown",
   "source": [
    "In order to generate PySTAC items, we will use the rasterio and shapely to extract each item's bounding box and geometry. We will also refer to each item's metadata.json file delivered from our previous Planet order to apply some additional item properties that are not part of the core STAC Item specification but often widely used."
   ],
   "metadata": {}
  },
  {
   "cell_type": "markdown",
   "source": [
    "The resources below provide a great breakdown of common metadata fields and extensions to the core STAC specification that are available to us. "
   ],
   "metadata": {}
  },
  {
   "cell_type": "markdown",
   "source": [
    "https://github.com/radiantearth/stac-spec/tree/master/extensions"
   ],
   "metadata": {}
  },
  {
   "cell_type": "markdown",
   "source": [
    "https://github.com/radiantearth/stac-spec/blob/master/item-spec/common-metadata.md"
   ],
   "metadata": {}
  },
  {
   "cell_type": "code",
   "execution_count": 11,
   "source": [
    "from rasterio.warp import calculate_default_transform\n",
    "from shapely.geometry import Polygon, mapping\n",
    "from datetime import datetime\n",
    "from itertools import islice\n",
    "\n",
    "def create_STAC_Item(tiff_path, metadata_json):\n",
    "\n",
    "    with rasterio.open(tiff_path) as sample_cog:\n",
    "        \n",
    "        bounds = sample_cog.bounds\n",
    "        src_crs = sample_cog.crs\n",
    "        dst_crs = 'EPSG:4326'  # EPSG identifier for WGS84 coordinate system used by the geojson format\n",
    "        \n",
    "        left, bottom, right, top = rasterio.warp.transform_bounds(sample_cog.crs, dst_crs, *bounds)\n",
    "        bbox = [left, bottom, right, top]\n",
    "        \n",
    "        # Create geojson feature\n",
    "        geom = mapping(Polygon([\n",
    "          [left, bottom],\n",
    "           [left, top],\n",
    "           [right, top],\n",
    "           [right, bottom]\n",
    "        ]))\n",
    "        \n",
    "        time_acquired = datetime.strptime(metadata_json[\"properties\"][\"acquired\"][:-1], '%Y-%m-%dT%H:%M:%S.%f')\n",
    "        \n",
    "        # Instantiate pystac item\n",
    "        item = pystac.Item(id=metadata_json[\"id\"],\n",
    "                 geometry=geom,\n",
    "                 bbox=bbox,\n",
    "                 datetime = time_acquired,\n",
    "                 properties={\n",
    "                 })\n",
    "\n",
    "        # Use Planet metadata.json to add some common metadata to the STAC item\n",
    "        metadata_properties = metadata_json[\"properties\"]\n",
    "\n",
    "        # Enable item extensions\n",
    "        item.ext.enable('eo')\n",
    "        item.ext.enable('view') \n",
    "        item.ext.enable('projection')\n",
    "        \n",
    "        for key, value in islice(metadata_properties.items(), 1, None):\n",
    "\n",
    "            # Add some common metadata for the item not included in the core item specification\n",
    "            if(key == 'gsd'):\n",
    "                item.common_metadata.gsd = value\n",
    "            \n",
    "            # View Geometry Extension \n",
    "            if (key == 'sun_azimuth'):\n",
    "                item.ext.view.sun_azimuth = value\n",
    "            if (key == 'sun_elevation'):\n",
    "                item.ext.view.sun_elevation = value\n",
    "            \n",
    "            # Electro Optical Extension - \n",
    "            if(key == 'cloud_cover'):\n",
    "                item.ext.eo.cloud_cover = value\n",
    "           \n",
    "           # Projection Extension\n",
    "            if(key == 'epsg_code'):\n",
    "                item.ext.projection.epsg = value\n",
    "\n",
    "        # Tuple containing spatial and temporal extent information to use later in this tutorial\n",
    "        item_extent_info =  (bbox, geom, time_acquired)\n",
    "     \n",
    "    # Returns a list containing the PySTAC Item object and a tuple \n",
    "    # holding the bounding box, geojson polygon, and date the item was acquired\n",
    "    return item, (item_extent_info)"
   ],
   "outputs": [],
   "metadata": {}
  },
  {
   "cell_type": "markdown",
   "source": [
    "Let's create our set of STAC Items from the Planet order metadata.json files and set the asset types to be the COGs stored in our Google Cloud Storage Bucket. "
   ],
   "metadata": {}
  },
  {
   "cell_type": "code",
   "execution_count": 12,
   "source": [
    "def create_STAC_Items(metadata_folder_name, planet_order_id, item_type, item_ids, storage_bucket_name):\n",
    "\n",
    "    # Store metadata \n",
    "    store_item_metadata(order_id, metadata_folder_name, item_type , item_ids)\n",
    "    metadata_directory = metadata_folder_name + '/' + order_id + '/' + item_type\n",
    "    metadata_files = sorted(Path(metadata_directory).glob('*'), reverse=True)\n",
    "\n",
    "    urls = []\n",
    "    urls = sorted([storage_bucket_name + item_id + '_3B_AnalyticMS.tif' for item_id in item_ids], reverse=True)\n",
    "\n",
    "    # empty list to store STAC items\n",
    "    stac_items = []\n",
    "    \n",
    "    for asset_url, item_metadata in zip(urls, metadata_files):\n",
    "        m = load_item_metadata(item_metadata)\n",
    "\n",
    "        item, extent = create_STAC_Item(asset_url, m)\n",
    "        item.add_asset(\n",
    "              key='analytic',\n",
    "              asset=pystac.Asset(\n",
    "                  href=asset_url,\n",
    "                  title= \"4-Band Analytic\",\n",
    "                  # indicate it is a cloud optimized geotiff\n",
    "                  media_type=pystac.MediaType.COG,\n",
    "                  roles=([\n",
    "                    \"analytic\"\n",
    "                  ])\n",
    "              )\n",
    "        ) \n",
    "        stac_items.append((item, extent))\n",
    "    return stac_items"
   ],
   "outputs": [],
   "metadata": {}
  },
  {
   "cell_type": "code",
   "execution_count": 13,
   "source": [
    "item_type = 'PSScene4Band'\n",
    "metadata_folder = 'catalog_metadata'\n",
    "storage_bucket_name = 'https://storage.googleapis.com/sample-cogs/cog/'\n",
    "stac_items = create_STAC_Items(metadata_folder, order_id, item_type , item_ids, storage_bucket_name)"
   ],
   "outputs": [
    {
     "output_type": "stream",
     "name": "stdout",
     "text": [
      "Directory already exists\n"
     ]
    }
   ],
   "metadata": {}
  },
  {
   "cell_type": "markdown",
   "source": [
    "## Add STAC Items to the STAC Catalog "
   ],
   "metadata": {}
  },
  {
   "cell_type": "markdown",
   "source": [
    "Now we can inspect the contents of our STAC Items individually and add each item to our STAC Catalog. "
   ],
   "metadata": {}
  },
  {
   "cell_type": "code",
   "execution_count": 14,
   "source": [
    "for index, item in enumerate(stac_items):\n",
    "    catalog.add_item(item[0])\n",
    "    print(json.dumps(item[0].to_dict(), indent=4))"
   ],
   "outputs": [
    {
     "output_type": "stream",
     "name": "stdout",
     "text": [
      "{\n",
      "    \"type\": \"Feature\",\n",
      "    \"stac_version\": \"1.0.0-beta.2\",\n",
      "    \"id\": \"20210515_145754_03_245c\",\n",
      "    \"properties\": {\n",
      "        \"eo:cloud_cover\": 0,\n",
      "        \"proj:epsg\": 32618,\n",
      "        \"gsd\": 4.1,\n",
      "        \"view:sun_azimuth\": 122.8,\n",
      "        \"view:sun_elevation\": 57.3,\n",
      "        \"datetime\": \"2021-05-15T14:57:54.037986Z\"\n",
      "    },\n",
      "    \"geometry\": {\n",
      "        \"type\": \"Polygon\",\n",
      "        \"coordinates\": [\n",
      "            [\n",
      "                [\n",
      "                    -74.43459546492133,\n",
      "                    40.59496845871806\n",
      "                ],\n",
      "                [\n",
      "                    -74.43459546492133,\n",
      "                    40.8630991753778\n",
      "                ],\n",
      "                [\n",
      "                    -73.94789184374838,\n",
      "                    40.8630991753778\n",
      "                ],\n",
      "                [\n",
      "                    -73.94789184374838,\n",
      "                    40.59496845871806\n",
      "                ],\n",
      "                [\n",
      "                    -74.43459546492133,\n",
      "                    40.59496845871806\n",
      "                ]\n",
      "            ]\n",
      "        ]\n",
      "    },\n",
      "    \"links\": [\n",
      "        {\n",
      "            \"rel\": \"root\",\n",
      "            \"href\": null,\n",
      "            \"type\": \"application/json\"\n",
      "        },\n",
      "        {\n",
      "            \"rel\": \"parent\",\n",
      "            \"href\": null,\n",
      "            \"type\": \"application/json\"\n",
      "        }\n",
      "    ],\n",
      "    \"assets\": {\n",
      "        \"analytic\": {\n",
      "            \"href\": \"https://storage.googleapis.com/sample-cogs/cog/20210515_145754_03_245c_3B_AnalyticMS.tif\",\n",
      "            \"type\": \"image/tiff; application=geotiff; profile=cloud-optimized\",\n",
      "            \"title\": \"4-Band Analytic\",\n",
      "            \"roles\": [\n",
      "                \"analytic\"\n",
      "            ]\n",
      "        }\n",
      "    },\n",
      "    \"bbox\": [\n",
      "        -74.43459546492133,\n",
      "        40.59496845871806,\n",
      "        -73.94789184374838,\n",
      "        40.8630991753778\n",
      "    ],\n",
      "    \"stac_extensions\": [\n",
      "        \"eo\",\n",
      "        \"view\",\n",
      "        \"projection\"\n",
      "    ]\n",
      "}\n",
      "{\n",
      "    \"type\": \"Feature\",\n",
      "    \"stac_version\": \"1.0.0-beta.2\",\n",
      "    \"id\": \"20210514_145807_70_2455\",\n",
      "    \"properties\": {\n",
      "        \"eo:cloud_cover\": 0,\n",
      "        \"proj:epsg\": 32618,\n",
      "        \"gsd\": 4.1,\n",
      "        \"view:sun_azimuth\": 122.9,\n",
      "        \"view:sun_elevation\": 56.9,\n",
      "        \"datetime\": \"2021-05-14T14:58:07.707762Z\"\n",
      "    },\n",
      "    \"geometry\": {\n",
      "        \"type\": \"Polygon\",\n",
      "        \"coordinates\": [\n",
      "            [\n",
      "                [\n",
      "                    -74.30860815002872,\n",
      "                    40.53685919989149\n",
      "                ],\n",
      "                [\n",
      "                    -74.30860815002872,\n",
      "                    40.80976203894409\n",
      "                ],\n",
      "                [\n",
      "                    -73.81522948934723,\n",
      "                    40.80976203894409\n",
      "                ],\n",
      "                [\n",
      "                    -73.81522948934723,\n",
      "                    40.53685919989149\n",
      "                ],\n",
      "                [\n",
      "                    -74.30860815002872,\n",
      "                    40.53685919989149\n",
      "                ]\n",
      "            ]\n",
      "        ]\n",
      "    },\n",
      "    \"links\": [\n",
      "        {\n",
      "            \"rel\": \"root\",\n",
      "            \"href\": null,\n",
      "            \"type\": \"application/json\"\n",
      "        },\n",
      "        {\n",
      "            \"rel\": \"parent\",\n",
      "            \"href\": null,\n",
      "            \"type\": \"application/json\"\n",
      "        }\n",
      "    ],\n",
      "    \"assets\": {\n",
      "        \"analytic\": {\n",
      "            \"href\": \"https://storage.googleapis.com/sample-cogs/cog/20210514_145807_70_2455_3B_AnalyticMS.tif\",\n",
      "            \"type\": \"image/tiff; application=geotiff; profile=cloud-optimized\",\n",
      "            \"title\": \"4-Band Analytic\",\n",
      "            \"roles\": [\n",
      "                \"analytic\"\n",
      "            ]\n",
      "        }\n",
      "    },\n",
      "    \"bbox\": [\n",
      "        -74.30860815002872,\n",
      "        40.53685919989149,\n",
      "        -73.81522948934723,\n",
      "        40.80976203894409\n",
      "    ],\n",
      "    \"stac_extensions\": [\n",
      "        \"eo\",\n",
      "        \"view\",\n",
      "        \"projection\"\n",
      "    ]\n",
      "}\n"
     ]
    }
   ],
   "metadata": {
    "scrolled": false
   }
  },
  {
   "cell_type": "markdown",
   "source": [
    "We can indeed verify that we have added two STAC items as children to the catalog. "
   ],
   "metadata": {}
  },
  {
   "cell_type": "code",
   "execution_count": 15,
   "source": [
    "print(list(catalog.get_all_items()))"
   ],
   "outputs": [
    {
     "output_type": "stream",
     "name": "stdout",
     "text": [
      "[<Item id=20210515_145754_03_245c>, <Item id=20210514_145807_70_2455>]\n"
     ]
    }
   ],
   "metadata": {}
  },
  {
   "cell_type": "code",
   "execution_count": 16,
   "source": [
    "catalog.describe()"
   ],
   "outputs": [
    {
     "output_type": "stream",
     "name": "stdout",
     "text": [
      "* <Catalog id=sample-catalog>\n",
      "  * <Item id=20210515_145754_03_245c>\n",
      "  * <Item id=20210514_145807_70_2455>\n"
     ]
    }
   ],
   "metadata": {}
  },
  {
   "cell_type": "markdown",
   "source": [
    "### Catalog Types"
   ],
   "metadata": {}
  },
  {
   "cell_type": "markdown",
   "source": [
    "STAC supports the use of both relative and absolute links in json files. To provide some standard uniformity in selecting which type to use and when, the specification encourages the use of three catalog types."
   ],
   "metadata": {}
  },
  {
   "cell_type": "markdown",
   "source": [
    "<b>Self-Contained</b>"
   ],
   "metadata": {}
  },
  {
   "cell_type": "markdown",
   "source": [
    "All links are relative to allow for maximum transferability. This allows a STAC catalog to be downloaded and used locally."
   ],
   "metadata": {}
  },
  {
   "cell_type": "markdown",
   "source": [
    "Links to the item assets can either be absolute links to their online locations or can be relative links to the where in the local directory they are stored."
   ],
   "metadata": {}
  },
  {
   "cell_type": "markdown",
   "source": [
    "<b>Published</b>"
   ],
   "metadata": {}
  },
  {
   "cell_type": "markdown",
   "source": [
    "Published catalogs are STAC Catalogs that exist online rather than stored on a local machine."
   ],
   "metadata": {}
  },
  {
   "cell_type": "markdown",
   "source": [
    " - <b>Absolute Published</b>"
   ],
   "metadata": {}
  },
  {
   "cell_type": "markdown",
   "source": [
    "This is a published catalog that stores all links as absolute."
   ],
   "metadata": {}
  },
  {
   "cell_type": "markdown",
   "source": [
    " - <b>Relative Published</b>"
   ],
   "metadata": {}
  },
  {
   "cell_type": "markdown",
   "source": [
    "The catalog is self-contained with the exception that it contains an absolute link at the root to where it is stored online."
   ],
   "metadata": {}
  },
  {
   "cell_type": "markdown",
   "source": [
    "## Adding a Collection to Our Catalog"
   ],
   "metadata": {}
  },
  {
   "cell_type": "markdown",
   "source": [
    "As mentioned earlier, a Collection is really just an extension of a STAC Catalog. It has some additional metadata like <b>spatial extent</b> and <b>temporal extent</b>. We will describe extent in detail later in this notebook. We'll create a Collection using some other COGs from our Google Cloud Storage Bucket and demonstrate how to generate one using PySTAC. This Collection will exist as a subdirectory within our already existing STAC Catalog."
   ],
   "metadata": {}
  },
  {
   "cell_type": "markdown",
   "source": [
    "### Create Additional STAC Items"
   ],
   "metadata": {}
  },
  {
   "cell_type": "code",
   "execution_count": 17,
   "source": [
    "collection_item_ids = [\n",
    "        '20210513_150715_17_1067',\n",
    "        '20210512_152647_0f15',\n",
    "        '20210512_152646_0f15',\n",
    "]\n",
    "collection_metadata_folder = \"collection_metadata\""
   ],
   "outputs": [],
   "metadata": {}
  },
  {
   "cell_type": "code",
   "execution_count": 18,
   "source": [
    "collection_stac_items = create_STAC_Items(collection_metadata_folder, order_id, item_type , collection_item_ids, storage_bucket_name)"
   ],
   "outputs": [
    {
     "output_type": "stream",
     "name": "stdout",
     "text": [
      "Directory already exists\n"
     ]
    }
   ],
   "metadata": {}
  },
  {
   "cell_type": "code",
   "execution_count": 19,
   "source": [
    "for index, collection_item in enumerate(collection_stac_items):\n",
    "    print(json.dumps(collection_item[0].to_dict(), indent=4))"
   ],
   "outputs": [
    {
     "output_type": "stream",
     "name": "stdout",
     "text": [
      "{\n",
      "    \"type\": \"Feature\",\n",
      "    \"stac_version\": \"1.0.0-beta.2\",\n",
      "    \"id\": \"20210513_150715_17_1067\",\n",
      "    \"properties\": {\n",
      "        \"eo:cloud_cover\": 0,\n",
      "        \"proj:epsg\": 32618,\n",
      "        \"gsd\": 3.7,\n",
      "        \"view:sun_azimuth\": 126.1,\n",
      "        \"view:sun_elevation\": 58.1,\n",
      "        \"datetime\": \"2021-05-13T15:07:15.171792Z\"\n",
      "    },\n",
      "    \"geometry\": {\n",
      "        \"type\": \"Polygon\",\n",
      "        \"coordinates\": [\n",
      "            [\n",
      "                [\n",
      "                    -74.27891390114934,\n",
      "                    40.687388944405484\n",
      "                ],\n",
      "                [\n",
      "                    -74.27891390114934,\n",
      "                    40.88465957427119\n",
      "                ],\n",
      "                [\n",
      "                    -73.94518702625808,\n",
      "                    40.88465957427119\n",
      "                ],\n",
      "                [\n",
      "                    -73.94518702625808,\n",
      "                    40.687388944405484\n",
      "                ],\n",
      "                [\n",
      "                    -74.27891390114934,\n",
      "                    40.687388944405484\n",
      "                ]\n",
      "            ]\n",
      "        ]\n",
      "    },\n",
      "    \"links\": [],\n",
      "    \"assets\": {\n",
      "        \"analytic\": {\n",
      "            \"href\": \"https://storage.googleapis.com/sample-cogs/cog/20210513_150715_17_1067_3B_AnalyticMS.tif\",\n",
      "            \"type\": \"image/tiff; application=geotiff; profile=cloud-optimized\",\n",
      "            \"title\": \"4-Band Analytic\",\n",
      "            \"roles\": [\n",
      "                \"analytic\"\n",
      "            ]\n",
      "        }\n",
      "    },\n",
      "    \"bbox\": [\n",
      "        -74.27891390114934,\n",
      "        40.687388944405484,\n",
      "        -73.94518702625808,\n",
      "        40.88465957427119\n",
      "    ],\n",
      "    \"stac_extensions\": [\n",
      "        \"eo\",\n",
      "        \"view\",\n",
      "        \"projection\"\n",
      "    ]\n",
      "}\n",
      "{\n",
      "    \"type\": \"Feature\",\n",
      "    \"stac_version\": \"1.0.0-beta.2\",\n",
      "    \"id\": \"20210512_152647_0f15\",\n",
      "    \"properties\": {\n",
      "        \"eo:cloud_cover\": 0.02,\n",
      "        \"proj:epsg\": 32618,\n",
      "        \"gsd\": 3.9,\n",
      "        \"view:sun_azimuth\": 133.9,\n",
      "        \"view:sun_elevation\": 60.8,\n",
      "        \"datetime\": \"2021-05-12T15:26:47.889760Z\"\n",
      "    },\n",
      "    \"geometry\": {\n",
      "        \"type\": \"Polygon\",\n",
      "        \"coordinates\": [\n",
      "            [\n",
      "                [\n",
      "                    -74.28521956035253,\n",
      "                    40.715449945504595\n",
      "                ],\n",
      "                [\n",
      "                    -74.28521956035253,\n",
      "                    40.8380858015212\n",
      "                ],\n",
      "                [\n",
      "                    -73.96833974020785,\n",
      "                    40.8380858015212\n",
      "                ],\n",
      "                [\n",
      "                    -73.96833974020785,\n",
      "                    40.715449945504595\n",
      "                ],\n",
      "                [\n",
      "                    -74.28521956035253,\n",
      "                    40.715449945504595\n",
      "                ]\n",
      "            ]\n",
      "        ]\n",
      "    },\n",
      "    \"links\": [],\n",
      "    \"assets\": {\n",
      "        \"analytic\": {\n",
      "            \"href\": \"https://storage.googleapis.com/sample-cogs/cog/20210512_152647_0f15_3B_AnalyticMS.tif\",\n",
      "            \"type\": \"image/tiff; application=geotiff; profile=cloud-optimized\",\n",
      "            \"title\": \"4-Band Analytic\",\n",
      "            \"roles\": [\n",
      "                \"analytic\"\n",
      "            ]\n",
      "        }\n",
      "    },\n",
      "    \"bbox\": [\n",
      "        -74.28521956035253,\n",
      "        40.715449945504595,\n",
      "        -73.96833974020785,\n",
      "        40.8380858015212\n",
      "    ],\n",
      "    \"stac_extensions\": [\n",
      "        \"eo\",\n",
      "        \"view\",\n",
      "        \"projection\"\n",
      "    ]\n",
      "}\n",
      "{\n",
      "    \"type\": \"Feature\",\n",
      "    \"stac_version\": \"1.0.0-beta.2\",\n",
      "    \"id\": \"20210512_152646_0f15\",\n",
      "    \"properties\": {\n",
      "        \"eo:cloud_cover\": 0.01,\n",
      "        \"proj:epsg\": 32618,\n",
      "        \"gsd\": 3.9,\n",
      "        \"view:sun_azimuth\": 134,\n",
      "        \"view:sun_elevation\": 60.8,\n",
      "        \"datetime\": \"2021-05-12T15:26:46.883127Z\"\n",
      "    },\n",
      "    \"geometry\": {\n",
      "        \"type\": \"Polygon\",\n",
      "        \"coordinates\": [\n",
      "            [\n",
      "                [\n",
      "                    -74.26694023232191,\n",
      "                    40.778899122937155\n",
      "                ],\n",
      "                [\n",
      "                    -74.26694023232191,\n",
      "                    40.901587524162004\n",
      "                ],\n",
      "                [\n",
      "                    -73.94961769018644,\n",
      "                    40.901587524162004\n",
      "                ],\n",
      "                [\n",
      "                    -73.94961769018644,\n",
      "                    40.778899122937155\n",
      "                ],\n",
      "                [\n",
      "                    -74.26694023232191,\n",
      "                    40.778899122937155\n",
      "                ]\n",
      "            ]\n",
      "        ]\n",
      "    },\n",
      "    \"links\": [],\n",
      "    \"assets\": {\n",
      "        \"analytic\": {\n",
      "            \"href\": \"https://storage.googleapis.com/sample-cogs/cog/20210512_152646_0f15_3B_AnalyticMS.tif\",\n",
      "            \"type\": \"image/tiff; application=geotiff; profile=cloud-optimized\",\n",
      "            \"title\": \"4-Band Analytic\",\n",
      "            \"roles\": [\n",
      "                \"analytic\"\n",
      "            ]\n",
      "        }\n",
      "    },\n",
      "    \"bbox\": [\n",
      "        -74.26694023232191,\n",
      "        40.778899122937155,\n",
      "        -73.94961769018644,\n",
      "        40.901587524162004\n",
      "    ],\n",
      "    \"stac_extensions\": [\n",
      "        \"eo\",\n",
      "        \"view\",\n",
      "        \"projection\"\n",
      "    ]\n",
      "}\n"
     ]
    }
   ],
   "metadata": {
    "scrolled": false
   }
  },
  {
   "cell_type": "markdown",
   "source": [
    "### SpatialTemporal Extents of a Collection"
   ],
   "metadata": {}
  },
  {
   "cell_type": "markdown",
   "source": [
    "#### Spatial Extent"
   ],
   "metadata": {}
  },
  {
   "cell_type": "markdown",
   "source": [
    "One of the key things a Collection includes is the spatial extent of the items it holds. What do we mean by spatial extent?"
   ],
   "metadata": {}
  },
  {
   "cell_type": "markdown",
   "source": [
    "Spatial Extent refers to the the extent of geographic space a raster covers. This is represented by the four corners of a raster image ( xmin, y min, x max, y max)."
   ],
   "metadata": {}
  },
  {
   "cell_type": "markdown",
   "source": [
    "Since we are items into our collection, we will need to determine the full extent of geographic space both items cover when combined. To do this, we will need to find the union of the items geojson polygons and merge them into one polygon."
   ],
   "metadata": {}
  },
  {
   "cell_type": "markdown",
   "source": [
    "![polygon_union.png](attachment:polygon_union.png)"
   ],
   "metadata": {},
   "attachments": {
    "polygon_union.png": {
     "image/png": "[encoded data removed]"
    }
   }
  },
  {
   "cell_type": "markdown",
   "source": [
    "![spatial_extent.png](attachment:spatial_extent.png)"
   ],
   "metadata": {},
   "attachments": {
    "spatial_extent.png": {
     "image/png": "[encoded data removed]"
    }
   }
  },
  {
   "cell_type": "code",
   "execution_count": 20,
   "source": [
    "from shapely.ops import unary_union\n",
    "import matplotlib.pyplot as plt \n",
    "from shapely.geometry import shape\n",
    "\n",
    "def get_spatial_extent(polygons):\n",
    "    \n",
    "    # Plot of polygons overlay\n",
    "    plt.figure(figsize=(14, 8))\n",
    "    for polygon in polygons:\n",
    "        plt.plot(*shape(polygon).exterior.xy)\n",
    "\n",
    "    # Returns a union of the two geojson polygons for each item\n",
    "    unioned_geometry = unary_union(polygons)\n",
    "\n",
    "    # Plot the unified polygon\n",
    "    x, y = shape(unioned_geometry).exterior.xy\n",
    "    plt.figure(figsize=(14,8))\n",
    "    plt.fill(x, y, alpha=0.5, facecolor='none', edgecolor='purple', linewidth=7)\n",
    "    plt.show()\n",
    "    \n",
    "    # Set the bbox to be the bounds of the unified polygon and return the spatial extent of the collection\n",
    "    return pystac.SpatialExtent(bboxes=[unioned_geometry.bounds])"
   ],
   "outputs": [],
   "metadata": {}
  },
  {
   "cell_type": "markdown",
   "source": [
    "#### Temporal Extent"
   ],
   "metadata": {}
  },
  {
   "cell_type": "markdown",
   "source": [
    "The other type of extent that is important to a Collection is Temporal Extent."
   ],
   "metadata": {}
  },
  {
   "cell_type": "markdown",
   "source": [
    "Temporal Extent refers to the extent of time over which items in the Collection were acquired from a start date to an end date."
   ],
   "metadata": {}
  },
  {
   "cell_type": "code",
   "execution_count": 21,
   "source": [
    "def get_temporal_extent(startime, endtime):\n",
    "    time_interval = [startime, endtime]\n",
    "    temporal_extent = pystac.TemporalExtent(intervals=[time_interval])\n",
    "    return temporal_extent"
   ],
   "outputs": [],
   "metadata": {}
  },
  {
   "cell_type": "markdown",
   "source": [
    "### Combining Spatial and Temporal Extent to Create Full Extent of the Collection"
   ],
   "metadata": {}
  },
  {
   "cell_type": "code",
   "execution_count": 22,
   "source": [
    "def create_full_extent(stac_item_list):\n",
    "    polygons = []\n",
    "    datetimes = []\n",
    "    \n",
    "    for index, stac_item in enumerate(stac_item_list):\n",
    "        geometry = stac_item[1][1]\n",
    "        polygons.append(shape(geometry))\n",
    "        datetime = stac_item[1][2]\n",
    "        datetimes.append(datetime)\n",
    "        \n",
    "    # Get the spatial extent\n",
    "    spatial_extent = get_spatial_extent(polygons)\n",
    "    \n",
    "    # Get temporal extent\n",
    "    temporal_extent = get_temporal_extent(min(datetimes), max(datetimes))\n",
    "    collection_extent = pystac.Extent(spatial=spatial_extent, temporal=temporal_extent)\n",
    "    \n",
    "    return collection_extent"
   ],
   "outputs": [],
   "metadata": {}
  },
  {
   "cell_type": "code",
   "execution_count": 23,
   "source": [
    "extent = create_full_extent(collection_stac_items)"
   ],
   "outputs": [
    {
     "output_type": "display_data",
     "data": {
      "text/plain": [
       "<Figure size 1008x576 with 1 Axes>"
      ],
      "image/png": "[encoded data removed]"
     },
     "metadata": {
      "needs_background": "light"
     }
    },
    {
     "output_type": "display_data",
     "data": {
      "text/plain": [
       "<Figure size 1008x576 with 1 Axes>"
      ],
      "image/png": "[encoded data removed]"
     },
     "metadata": {
      "needs_background": "light"
     }
    }
   ],
   "metadata": {}
  },
  {
   "cell_type": "markdown",
   "source": [
    "### Create the Collection, Add STAC Items, and Set the Collection as a Child to the Catalog"
   ],
   "metadata": {}
  },
  {
   "cell_type": "code",
   "execution_count": 24,
   "source": [
    "collection = pystac.Collection(id='nyc-images',\n",
    "                               description='Planet PSScene4Band Analytic Images Over Midtown Manhattan',\n",
    "                               extent=extent,\n",
    "                               license='test')"
   ],
   "outputs": [],
   "metadata": {}
  },
  {
   "cell_type": "code",
   "execution_count": 25,
   "source": [
    "collection.providers = [\n",
    "    pystac.Provider(name='Planet', roles=['producer', 'processor'], url='https://www.planet.com')\n",
    "]"
   ],
   "outputs": [],
   "metadata": {}
  },
  {
   "cell_type": "code",
   "execution_count": 26,
   "source": [
    "collection_items =[collection_stac_item[0] for collection_stac_item in collection_stac_items]\n",
    "collection.add_items(collection_items)"
   ],
   "outputs": [],
   "metadata": {}
  },
  {
   "cell_type": "code",
   "execution_count": 27,
   "source": [
    "collection.describe()"
   ],
   "outputs": [
    {
     "output_type": "stream",
     "name": "stdout",
     "text": [
      "* <Collection id=nyc-images>\n",
      "  * <Item id=20210513_150715_17_1067>\n",
      "  * <Item id=20210512_152647_0f15>\n",
      "  * <Item id=20210512_152646_0f15>\n"
     ]
    }
   ],
   "metadata": {}
  },
  {
   "cell_type": "code",
   "execution_count": 28,
   "source": [
    "catalog.add_child(collection)"
   ],
   "outputs": [],
   "metadata": {}
  },
  {
   "cell_type": "markdown",
   "source": [
    "### Normalize HREFS and Save Catalog"
   ],
   "metadata": {}
  },
  {
   "cell_type": "markdown",
   "source": [
    "We'll setup a temporary directory that will serve as the entry point for our STAC Catalog.The HREFs for all STAC links are structured according to the location of the root catalog. For the purpose of this tutorial, we are creating a self-contained catalog. Asset links will be absolute to reference the location of our COGs online. Feel free to adjust to your own use case."
   ],
   "metadata": {}
  },
  {
   "cell_type": "code",
   "execution_count": 29,
   "source": [
    "tmp_dir = TemporaryDirectory()\n",
    "root_path = str(Path(tmp_dir.name).joinpath('sample-stac'))\n",
    "catalog.normalize_and_save(root_href = root_path, \n",
    "                         catalog_type=pystac.CatalogType.SELF_CONTAINED)"
   ],
   "outputs": [],
   "metadata": {}
  },
  {
   "cell_type": "markdown",
   "source": [
    "## Here is Our Simple STAC Created with Planet Imagery!"
   ],
   "metadata": {}
  },
  {
   "cell_type": "markdown",
   "source": [
    "Now we can see our entire sample Planet STAC in action!"
   ],
   "metadata": {}
  },
  {
   "cell_type": "markdown",
   "source": [
    "If we look below, we can see our outermost root catalog linking to the STAC Items we created at the start of this tutorial followed by our newly created STAC Collection containing three other STAC Items. "
   ],
   "metadata": {}
  },
  {
   "cell_type": "code",
   "execution_count": 30,
   "source": [
    "catalog.describe()"
   ],
   "outputs": [
    {
     "output_type": "stream",
     "name": "stdout",
     "text": [
      "* <Catalog id=sample-catalog>\n",
      "    * <Collection id=nyc-images>\n",
      "      * <Item id=20210513_150715_17_1067>\n",
      "      * <Item id=20210512_152647_0f15>\n",
      "      * <Item id=20210512_152646_0f15>\n",
      "  * <Item id=20210515_145754_03_245c>\n",
      "  * <Item id=20210514_145807_70_2455>\n"
     ]
    }
   ],
   "metadata": {}
  },
  {
   "cell_type": "markdown",
   "source": [
    "![final_stac.png](attachment:final_stac.png)"
   ],
   "metadata": {},
   "attachments": {
    "final_stac.png": {
     "image/png": "[encoded data removed]"
    }
   }
  },
  {
   "cell_type": "markdown",
   "source": [
    "And if we open our catalog.json document, we can see the root self-referencing relative link, the relative link to the two STAC items within the catalog and the relative link to the Collection.json file childed to it."
   ],
   "metadata": {}
  },
  {
   "cell_type": "code",
   "execution_count": 31,
   "source": [
    "with open(catalog.get_self_href()) as f:\n",
    "    print(f.read())"
   ],
   "outputs": [
    {
     "output_type": "stream",
     "name": "stdout",
     "text": [
      "{\n",
      "    \"id\": \"sample-catalog\",\n",
      "    \"stac_version\": \"1.0.0-beta.2\",\n",
      "    \"description\": \"Simple STAC catalog.\",\n",
      "    \"links\": [\n",
      "        {\n",
      "            \"rel\": \"root\",\n",
      "            \"href\": \"./catalog.json\",\n",
      "            \"type\": \"application/json\"\n",
      "        },\n",
      "        {\n",
      "            \"rel\": \"item\",\n",
      "            \"href\": \"./20210515_145754_03_245c/20210515_145754_03_245c.json\",\n",
      "            \"type\": \"application/json\"\n",
      "        },\n",
      "        {\n",
      "            \"rel\": \"item\",\n",
      "            \"href\": \"./20210514_145807_70_2455/20210514_145807_70_2455.json\",\n",
      "            \"type\": \"application/json\"\n",
      "        },\n",
      "        {\n",
      "            \"rel\": \"child\",\n",
      "            \"href\": \"./nyc-images/collection.json\",\n",
      "            \"type\": \"application/json\"\n",
      "        }\n",
      "    ]\n",
      "}\n"
     ]
    }
   ],
   "metadata": {}
  },
  {
   "cell_type": "markdown",
   "source": [
    "And here is our collection.json that is a child to our root catalog."
   ],
   "metadata": {}
  },
  {
   "cell_type": "code",
   "execution_count": 32,
   "source": [
    "with open(collection.get_self_href()) as f:\n",
    "    print(f.read())"
   ],
   "outputs": [
    {
     "output_type": "stream",
     "name": "stdout",
     "text": [
      "{\n",
      "    \"id\": \"nyc-images\",\n",
      "    \"stac_version\": \"1.0.0-beta.2\",\n",
      "    \"description\": \"Planet PSScene4Band Analytic Images Over Midtown Manhattan\",\n",
      "    \"links\": [\n",
      "        {\n",
      "            \"rel\": \"root\",\n",
      "            \"href\": \"../catalog.json\",\n",
      "            \"type\": \"application/json\"\n",
      "        },\n",
      "        {\n",
      "            \"rel\": \"item\",\n",
      "            \"href\": \"./20210513_150715_17_1067/20210513_150715_17_1067.json\",\n",
      "            \"type\": \"application/json\"\n",
      "        },\n",
      "        {\n",
      "            \"rel\": \"item\",\n",
      "            \"href\": \"./20210512_152647_0f15/20210512_152647_0f15.json\",\n",
      "            \"type\": \"application/json\"\n",
      "        },\n",
      "        {\n",
      "            \"rel\": \"item\",\n",
      "            \"href\": \"./20210512_152646_0f15/20210512_152646_0f15.json\",\n",
      "            \"type\": \"application/json\"\n",
      "        },\n",
      "        {\n",
      "            \"rel\": \"parent\",\n",
      "            \"href\": \"../catalog.json\",\n",
      "            \"type\": \"application/json\"\n",
      "        }\n",
      "    ],\n",
      "    \"extent\": {\n",
      "        \"spatial\": {\n",
      "            \"bbox\": [\n",
      "                [\n",
      "                    -74.28521956035253,\n",
      "                    40.687388944405484,\n",
      "                    -73.94518702625808,\n",
      "                    40.901587524162004\n",
      "                ]\n",
      "            ]\n",
      "        },\n",
      "        \"temporal\": {\n",
      "            \"interval\": [\n",
      "                [\n",
      "                    \"2021-05-12T15:26:46.883127Z\",\n",
      "                    \"2021-05-13T15:07:15.171792Z\"\n",
      "                ]\n",
      "            ]\n",
      "        }\n",
      "    },\n",
      "    \"license\": \"test\",\n",
      "    \"providers\": [\n",
      "        {\n",
      "            \"name\": \"Planet\",\n",
      "            \"roles\": [\n",
      "                \"producer\",\n",
      "                \"processor\"\n",
      "            ],\n",
      "            \"url\": \"https://www.planet.com\"\n",
      "        }\n",
      "    ]\n",
      "}\n"
     ]
    }
   ],
   "metadata": {}
  },
  {
   "cell_type": "markdown",
   "source": [
    "## STAC Validation"
   ],
   "metadata": {}
  },
  {
   "cell_type": "markdown",
   "source": [
    "### Using STAC Validator"
   ],
   "metadata": {}
  },
  {
   "cell_type": "markdown",
   "source": [
    "One option to validate our STAC is to use the STACValidator python utility. We can see that every json file in our STAC meet the criteria for a valid STAC entity."
   ],
   "metadata": {}
  },
  {
   "cell_type": "code",
   "execution_count": 33,
   "source": [
    "from stac_validator import stac_validator\n",
    "\n",
    "# Instantiate a STACValidate Object. Setting recursive to -1 will do a full recursive validation \n",
    "# for the STAC catalog\n",
    "stac = stac_validator.StacValidate(catalog.get_self_href(), recursive=-1)\n",
    "stac.run()\n",
    "validation_check = [message for message in stac.message]\n",
    "validation_check"
   ],
   "outputs": [
    {
     "output_type": "execute_result",
     "data": {
      "text/plain": [
       "[{'version': '1.0.0-beta.2',\n",
       "  'path': '/tmp/tmp4cqko1fi/sample-stac/catalog.json',\n",
       "  'schema': ['https://schemas.stacspec.org/v1.0.0-beta.2/catalog-spec/json-schema/catalog.json'],\n",
       "  'valid_stac': True,\n",
       "  'asset_type': 'CATALOG',\n",
       "  'validation_method': 'recursive'},\n",
       " {'version': '1.0.0-beta.2',\n",
       "  'path': '/tmp/tmp4cqko1fi/sample-stac/./20210515_145754_03_245c/20210515_145754_03_245c.json',\n",
       "  'schema': ['https://cdn.staclint.com/v1.0.0-beta.1/extension/eo.json',\n",
       "   'https://cdn.staclint.com/v1.0.0-beta.1/extension/view.json',\n",
       "   'https://cdn.staclint.com/v1.0.0-beta.1/extension/projection.json',\n",
       "   'https://schemas.stacspec.org/v1.0.0-beta.2/item-spec/json-schema/item.json'],\n",
       "  'valid_stac': True,\n",
       "  'asset_type': 'ITEM',\n",
       "  'validation_method': 'recursive'},\n",
       " {'version': '1.0.0-beta.1',\n",
       "  'path': '/tmp/tmp4cqko1fi/sample-stac/./20210514_145807_70_2455/20210514_145807_70_2455.json',\n",
       "  'schema': ['https://cdn.staclint.com/v1.0.0-beta.1/extension/eo.json',\n",
       "   'https://cdn.staclint.com/v1.0.0-beta.1/extension/view.json',\n",
       "   'https://cdn.staclint.com/v1.0.0-beta.1/extension/projection.json',\n",
       "   'https://cdn.staclint.com/v1.0.0-beta.1/item.json'],\n",
       "  'valid_stac': True,\n",
       "  'asset_type': 'ITEM',\n",
       "  'validation_method': 'recursive'},\n",
       " {'version': '1.0.0-beta.1',\n",
       "  'path': '/tmp/tmp4cqko1fi/sample-stac/./nyc-images/collection.json',\n",
       "  'schema': ['https://cdn.staclint.com/v1.0.0-beta.1/collection.json'],\n",
       "  'valid_stac': True,\n",
       "  'asset_type': 'COLLECTION',\n",
       "  'validation_method': 'recursive'},\n",
       " {'version': '1.0.0-beta.1',\n",
       "  'path': '/tmp/tmp4cqko1fi/sample-stac/./nyc-images/./20210513_150715_17_1067/20210513_150715_17_1067.json',\n",
       "  'schema': ['https://cdn.staclint.com/v1.0.0-beta.1/extension/eo.json',\n",
       "   'https://cdn.staclint.com/v1.0.0-beta.1/extension/view.json',\n",
       "   'https://cdn.staclint.com/v1.0.0-beta.1/extension/projection.json',\n",
       "   'https://cdn.staclint.com/v1.0.0-beta.1/item.json'],\n",
       "  'valid_stac': True,\n",
       "  'asset_type': 'ITEM',\n",
       "  'validation_method': 'recursive'},\n",
       " {'version': '1.0.0-beta.1',\n",
       "  'path': '/tmp/tmp4cqko1fi/sample-stac/./nyc-images/./20210512_152647_0f15/20210512_152647_0f15.json',\n",
       "  'schema': ['https://cdn.staclint.com/v1.0.0-beta.1/extension/eo.json',\n",
       "   'https://cdn.staclint.com/v1.0.0-beta.1/extension/view.json',\n",
       "   'https://cdn.staclint.com/v1.0.0-beta.1/extension/projection.json',\n",
       "   'https://cdn.staclint.com/v1.0.0-beta.1/item.json'],\n",
       "  'valid_stac': True,\n",
       "  'asset_type': 'ITEM',\n",
       "  'validation_method': 'recursive'},\n",
       " {'version': '1.0.0-beta.1',\n",
       "  'path': '/tmp/tmp4cqko1fi/sample-stac/./nyc-images/./20210512_152646_0f15/20210512_152646_0f15.json',\n",
       "  'schema': ['https://cdn.staclint.com/v1.0.0-beta.1/extension/eo.json',\n",
       "   'https://cdn.staclint.com/v1.0.0-beta.1/extension/view.json',\n",
       "   'https://cdn.staclint.com/v1.0.0-beta.1/extension/projection.json',\n",
       "   'https://cdn.staclint.com/v1.0.0-beta.1/item.json'],\n",
       "  'valid_stac': True,\n",
       "  'asset_type': 'ITEM',\n",
       "  'validation_method': 'recursive'}]"
      ]
     },
     "metadata": {},
     "execution_count": 33
    }
   ],
   "metadata": {}
  },
  {
   "cell_type": "markdown",
   "source": [
    "### Using PySTAC"
   ],
   "metadata": {}
  },
  {
   "cell_type": "markdown",
   "source": [
    "We can also walk over the STAC by using the Catalog.walk() method in PySTAC. The output below shows that there are no validation errors."
   ],
   "metadata": {}
  },
  {
   "cell_type": "code",
   "execution_count": 34,
   "source": [
    "for root, subcategories, items in catalog.walk():\n",
    "\n",
    "    print('{} is the current root in the STAC'.format(root.id))\n",
    "    print('Are there any any STAC validation errors ?: {}'.format(root.validate()))\n",
    "    \n",
    "    for subcat in subcategories:\n",
    "        print('{} is a subcatalog or collection for the current root in the STAC'.format(subcat.id))\n",
    "        print('Are there any STAC validation errors ?: {}'.format(subcat.validate()))\n",
    "        \n",
    "    for item in items:\n",
    "        print('{} is a STAC Item within the current root'.format(item.id))\n",
    "        print('Are there any STAC validation errors ?: {}'.format(item.validate()))"
   ],
   "outputs": [
    {
     "output_type": "stream",
     "name": "stdout",
     "text": [
      "sample-catalog is the current root in the STAC\n",
      "Are there any any STAC validation errors ?: None\n",
      "nyc-images is a subcatalog or collection for the current root in the STAC\n",
      "Are there any STAC validation errors ?: None\n",
      "20210515_145754_03_245c is a STAC Item within the current root\n",
      "Are there any STAC validation errors ?: None\n",
      "20210514_145807_70_2455 is a STAC Item within the current root\n",
      "Are there any STAC validation errors ?: None\n",
      "nyc-images is the current root in the STAC\n",
      "Are there any any STAC validation errors ?: None\n",
      "20210513_150715_17_1067 is a STAC Item within the current root\n",
      "Are there any STAC validation errors ?: None\n",
      "20210512_152647_0f15 is a STAC Item within the current root\n",
      "Are there any STAC validation errors ?: None\n",
      "20210512_152646_0f15 is a STAC Item within the current root\n",
      "Are there any STAC validation errors ?: None\n"
     ]
    }
   ],
   "metadata": {}
  },
  {
   "cell_type": "markdown",
   "source": [
    "#### Clear Catalog and Cleanup Temporary Directory"
   ],
   "metadata": {}
  },
  {
   "cell_type": "code",
   "execution_count": 35,
   "source": [
    "catalog.clear_children()\n",
    "catalog.clear_items()\n",
    "list(catalog.get_children())"
   ],
   "outputs": [
    {
     "output_type": "execute_result",
     "data": {
      "text/plain": [
       "[]"
      ]
     },
     "metadata": {},
     "execution_count": 35
    }
   ],
   "metadata": {}
  },
  {
   "cell_type": "code",
   "execution_count": 36,
   "source": [
    "list(catalog.get_items())"
   ],
   "outputs": [
    {
     "output_type": "execute_result",
     "data": {
      "text/plain": [
       "[]"
      ]
     },
     "metadata": {},
     "execution_count": 36
    }
   ],
   "metadata": {}
  },
  {
   "cell_type": "code",
   "execution_count": 37,
   "source": [
    "tmp_dir.cleanup()"
   ],
   "outputs": [],
   "metadata": {}
  }
 ],
 "metadata": {
  "kernelspec": {
   "display_name": "Python 3",
   "language": "python",
   "name": "python3"
  },
  "language_info": {
   "codemirror_mode": {
    "name": "ipython",
    "version": 3
   },
   "file_extension": ".py",
   "mimetype": "text/x-python",
   "name": "python",
   "nbconvert_exporter": "python",
   "pygments_lexer": "ipython3",
   "version": "3.8.10"
  }
 },
 "nbformat": 4,
 "nbformat_minor": 5
}