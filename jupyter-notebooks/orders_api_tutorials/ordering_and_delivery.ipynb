{
 "cells": [
  {
   "cell_type": "markdown",
   "metadata": {},
   "source": [
    "# Ordering and Delivery\n",
    "\n",
    "This notebook demonstrates ordering and download with the orders api. In this notebook, we check authentication by requesting an orders list, then we create an order for two `ortho_analytic_4b` `PSScene` images. We poll for order success then download images individually. And finally, we create, poll, and download the same order delivered as a single zip file.\n",
    "\n",
    "Reference information can be found at [Orders API](https://developers.planet.com/apis/orders/)."
   ]
  },
  {
   "cell_type": "code",
   "execution_count": 22,
   "metadata": {},
   "outputs": [],
   "source": [
    "import json\n",
    "import os\n",
    "import pathlib\n",
    "import time\n",
    "\n",
    "import requests\n",
    "from planet import Session, DataClient, OrdersClient, Auth"
   ]
  },
  {
   "cell_type": "markdown",
   "metadata": {},
   "source": [
    "## Authenticating"
   ]
  },
  {
   "cell_type": "code",
   "execution_count": 47,
   "metadata": {},
   "outputs": [],
   "source": [
    "# if your Planet API Key is not set as an environment variable, you can paste it below\n",
    "if os.environ.get('PL_API_KEY', ''):\n",
    "    API_KEY = os.environ.get('PL_API_KEY', '')\n",
    "else:\n",
    "    API_KEY = 'PASTE_YOUR_API_KEY_HERE'\n",
    "    \n",
    "# Setup the session\n",
    "session = requests.Session()\n",
    "\n",
    "# Authenticate\n",
    "session.auth = (API_KEY, \"\")"
   ]
  },
  {
   "cell_type": "code",
   "execution_count": 35,
   "metadata": {},
   "outputs": [],
   "source": [
    "orders_url = 'https://api.planet.com/compute/ops/orders/v2' "
   ]
  },
  {
   "cell_type": "markdown",
   "metadata": {},
   "source": [
    "### Curl example\n",
    "\n",
    "To check your orders list and make sure you have the permissions you need, uncomment the following line to run `curl`"
   ]
  },
  {
   "cell_type": "code",
   "execution_count": 36,
   "metadata": {},
   "outputs": [],
   "source": [
    "# !curl -L -H \"Authorization: api-key $API_KEY\" $orders_url"
   ]
  },
  {
   "cell_type": "markdown",
   "metadata": {},
   "source": [
    "### Requests example\n",
    "\n",
    "In this notebook, we will be using `requests` to communicate with the orders v2 API. First, we will check our orders list to make sure authentication and communication is working as expected.\n",
    "\n",
    "We want to get a response code of `200` from this API call. To troubleshoot other response codes, see the [List Orders](https://developers.planet.com/apis/orders/reference/#tag/Orders/operation/listOrders) API reference."
   ]
  },
  {
   "cell_type": "code",
   "execution_count": 49,
   "metadata": {},
   "outputs": [
    {
     "data": {
      "text/plain": [
       "<Response [200]>"
      ]
     },
     "execution_count": 49,
     "metadata": {},
     "output_type": "execute_result"
    }
   ],
   "source": [
    "response = requests.get(orders_url, auth=session.auth)\n",
    "response"
   ]
  },
  {
   "cell_type": "markdown",
   "metadata": {},
   "source": [
    "Now we will list the orders we have created thus far. Your list may be empty if you have not created an order yet."
   ]
  },
  {
   "cell_type": "code",
   "execution_count": 50,
   "metadata": {},
   "outputs": [
    {
     "data": {
      "text/plain": [
       "20"
      ]
     },
     "execution_count": 50,
     "metadata": {},
     "output_type": "execute_result"
    }
   ],
   "source": [
    "orders = response.json()['orders']\n",
    "len(orders)"
   ]
  },
  {
   "cell_type": "markdown",
   "metadata": {},
   "source": [
    "## Ordering\n",
    "\n",
    "In this example, we will order two `PSScene` `ortho_analytic_4b` images. For variations on this kind of order, see [Ordering Data](https://developers.planet.com/apis/orders/).\n",
    "\n",
    "In this order, we request an `analytic` bundle. A bundle is a group of assets for an item. The `analytic_udm2` bundle for the  `PSScene` item contains 3 assets: the ortho-analytic image, the ortho-analytic xml file, and the ortho-udm2. See the [Scenes Product Bundles Reference](https://developers.planet.com/apis/orders/product-bundles-reference/) to learn about other bundles and other items.\n",
    "\n",
    "### Place Order"
   ]
  },
  {
   "cell_type": "code",
   "execution_count": 51,
   "metadata": {},
   "outputs": [],
   "source": [
    "# set content type to json\n",
    "headers = {'content-type': 'application/json'}"
   ]
  },
  {
   "cell_type": "code",
   "execution_count": 52,
   "metadata": {},
   "outputs": [],
   "source": [
    "request = {  \n",
    "   \"name\":\"simple order\",\n",
    "   \"products\":[\n",
    "      {  \n",
    "         \"item_ids\":[  \n",
    "            \"20151119_025740_0c74\",\n",
    "            \"20151119_025741_0c74\"\n",
    "         ],\n",
    "         \"item_type\":\"PSScene\",\n",
    "         \"product_bundle\":\"analytic_udm2\"\n",
    "      }\n",
    "   ],\n",
    "}"
   ]
  },
  {
   "cell_type": "code",
   "execution_count": 53,
   "metadata": {},
   "outputs": [],
   "source": [
    "def place_order(request, auth):\n",
    "    response = requests.post(orders_url, data=json.dumps(request), auth=auth, headers=headers)\n",
    "    print(response)\n",
    "    order_id = response.json()['id']\n",
    "    print(order_id)\n",
    "    order_url = orders_url + '/' + order_id\n",
    "    return order_url"
   ]
  },
  {
   "cell_type": "code",
   "execution_count": 54,
   "metadata": {},
   "outputs": [
    {
     "name": "stdout",
     "output_type": "stream",
     "text": [
      "<Response [202]>\n",
      "7555c25c-b090-4413-88c0-20ebe1df8952\n"
     ]
    }
   ],
   "source": [
    "order_url = place_order(request, session.auth)"
   ]
  },
  {
   "cell_type": "markdown",
   "metadata": {},
   "source": [
    "### Cancel an Order"
   ]
  },
  {
   "cell_type": "code",
   "execution_count": 55,
   "metadata": {},
   "outputs": [
    {
     "data": {
      "text/plain": [
       "'running'"
      ]
     },
     "execution_count": 55,
     "metadata": {},
     "output_type": "execute_result"
    }
   ],
   "source": [
    "# report order state\n",
    "requests.get(order_url, auth=session.auth).json()['state']"
   ]
  },
  {
   "cell_type": "code",
   "execution_count": 56,
   "metadata": {
    "scrolled": true
   },
   "outputs": [
    {
     "data": {
      "text/plain": [
       "<Response [409]>"
      ]
     },
     "execution_count": 56,
     "metadata": {},
     "output_type": "execute_result"
    }
   ],
   "source": [
    "response = requests.put(order_url, auth=session.auth)\n",
    "response"
   ]
  },
  {
   "cell_type": "code",
   "execution_count": 57,
   "metadata": {
    "scrolled": true
   },
   "outputs": [
    {
     "data": {
      "text/plain": [
       "'running'"
      ]
     },
     "execution_count": 57,
     "metadata": {},
     "output_type": "execute_result"
    }
   ],
   "source": [
    "# report order state - it could take a little while to cancel\n",
    "requests.get(order_url, auth=session.auth).json()['state']"
   ]
  },
  {
   "cell_type": "markdown",
   "metadata": {},
   "source": [
    "### Poll for Order Success"
   ]
  },
  {
   "cell_type": "code",
   "execution_count": 58,
   "metadata": {},
   "outputs": [
    {
     "name": "stdout",
     "output_type": "stream",
     "text": [
      "<Response [202]>\n",
      "9c6dc5fe-8081-4998-9baa-e0308a01e4e4\n"
     ]
    }
   ],
   "source": [
    "# re-order since we canceled our last order\n",
    "order_url = place_order(request, session.auth)"
   ]
  },
  {
   "cell_type": "code",
   "execution_count": 59,
   "metadata": {},
   "outputs": [
    {
     "name": "stdout",
     "output_type": "stream",
     "text": [
      "queued\n",
      "running\n",
      "running\n",
      "running\n",
      "running\n",
      "running\n",
      "running\n",
      "running\n",
      "running\n",
      "running\n",
      "running\n",
      "running\n",
      "running\n",
      "running\n",
      "running\n",
      "running\n",
      "running\n",
      "success\n"
     ]
    }
   ],
   "source": [
    "def poll_for_success(order_url, auth, num_loops=30):\n",
    "    count = 0\n",
    "    while(count < num_loops):\n",
    "        count += 1\n",
    "        r = requests.get(order_url, auth=session.auth)\n",
    "        response = r.json()\n",
    "        state = response['state']\n",
    "        print(state)\n",
    "        end_states = ['success', 'failed', 'partial']\n",
    "        if state in end_states:\n",
    "            break\n",
    "        time.sleep(10)\n",
    "        \n",
    "poll_for_success(order_url, auth)"
   ]
  },
  {
   "cell_type": "markdown",
   "metadata": {},
   "source": [
    "### View Results"
   ]
  },
  {
   "cell_type": "code",
   "execution_count": 62,
   "metadata": {
    "scrolled": false
   },
   "outputs": [],
   "source": [
    "r = requests.get(order_url, auth=session.auth)\n",
    "response = r.json()\n",
    "results = response['_links']['results']"
   ]
  },
  {
   "cell_type": "code",
   "execution_count": 63,
   "metadata": {
    "scrolled": true
   },
   "outputs": [
    {
     "data": {
      "text/plain": [
       "['9c6dc5fe-8081-4998-9baa-e0308a01e4e4/PSScene/20151119_025740_0c74_3B_udm2.tif',\n",
       " '9c6dc5fe-8081-4998-9baa-e0308a01e4e4/PSScene/20151119_025740_0c74_3B_AnalyticMS_metadata.xml',\n",
       " '9c6dc5fe-8081-4998-9baa-e0308a01e4e4/PSScene/20151119_025740_0c74_3B_AnalyticMS.tif',\n",
       " '9c6dc5fe-8081-4998-9baa-e0308a01e4e4/PSScene/20151119_025740_0c74_metadata.json',\n",
       " '9c6dc5fe-8081-4998-9baa-e0308a01e4e4/PSScene/20151119_025741_0c74_3B_udm2.tif',\n",
       " '9c6dc5fe-8081-4998-9baa-e0308a01e4e4/PSScene/20151119_025741_0c74_3B_AnalyticMS_metadata.xml',\n",
       " '9c6dc5fe-8081-4998-9baa-e0308a01e4e4/PSScene/20151119_025741_0c74_3B_AnalyticMS.tif',\n",
       " '9c6dc5fe-8081-4998-9baa-e0308a01e4e4/PSScene/20151119_025741_0c74_metadata.json',\n",
       " '9c6dc5fe-8081-4998-9baa-e0308a01e4e4/manifest.json']"
      ]
     },
     "execution_count": 63,
     "metadata": {},
     "output_type": "execute_result"
    }
   ],
   "source": [
    "[r['name'] for r in results]"
   ]
  },
  {
   "cell_type": "markdown",
   "metadata": {},
   "source": [
    "## Download\n",
    "\n",
    "### Downloading each asset individually"
   ]
  },
  {
   "cell_type": "code",
   "execution_count": 65,
   "metadata": {},
   "outputs": [],
   "source": [
    "def download_results(results, overwrite=False):\n",
    "    results_urls = [r['location'] for r in results]\n",
    "    results_names = [r['name'] for r in results]\n",
    "    print('{} items to download'.format(len(results_urls)))\n",
    "    \n",
    "    for url, name in zip(results_urls, results_names):\n",
    "        path = pathlib.Path(os.path.join('data', name))\n",
    "        \n",
    "        if overwrite or not path.exists():\n",
    "            print('downloading {} to {}'.format(name, path))\n",
    "            r = requests.get(url, allow_redirects=True)\n",
    "            path.parent.mkdir(parents=True, exist_ok=True)\n",
    "            open(path, 'wb').write(r.content)\n",
    "        else:\n",
    "            print('{} already exists, skipping {}'.format(path, name))"
   ]
  },
  {
   "cell_type": "code",
   "execution_count": 66,
   "metadata": {},
   "outputs": [
    {
     "name": "stdout",
     "output_type": "stream",
     "text": [
      "9 items to download\n",
      "downloading 9c6dc5fe-8081-4998-9baa-e0308a01e4e4/PSScene/20151119_025740_0c74_3B_udm2.tif to data/9c6dc5fe-8081-4998-9baa-e0308a01e4e4/PSScene/20151119_025740_0c74_3B_udm2.tif\n",
      "downloading 9c6dc5fe-8081-4998-9baa-e0308a01e4e4/PSScene/20151119_025740_0c74_3B_AnalyticMS_metadata.xml to data/9c6dc5fe-8081-4998-9baa-e0308a01e4e4/PSScene/20151119_025740_0c74_3B_AnalyticMS_metadata.xml\n",
      "downloading 9c6dc5fe-8081-4998-9baa-e0308a01e4e4/PSScene/20151119_025740_0c74_3B_AnalyticMS.tif to data/9c6dc5fe-8081-4998-9baa-e0308a01e4e4/PSScene/20151119_025740_0c74_3B_AnalyticMS.tif\n",
      "downloading 9c6dc5fe-8081-4998-9baa-e0308a01e4e4/PSScene/20151119_025740_0c74_metadata.json to data/9c6dc5fe-8081-4998-9baa-e0308a01e4e4/PSScene/20151119_025740_0c74_metadata.json\n",
      "downloading 9c6dc5fe-8081-4998-9baa-e0308a01e4e4/PSScene/20151119_025741_0c74_3B_udm2.tif to data/9c6dc5fe-8081-4998-9baa-e0308a01e4e4/PSScene/20151119_025741_0c74_3B_udm2.tif\n",
      "downloading 9c6dc5fe-8081-4998-9baa-e0308a01e4e4/PSScene/20151119_025741_0c74_3B_AnalyticMS_metadata.xml to data/9c6dc5fe-8081-4998-9baa-e0308a01e4e4/PSScene/20151119_025741_0c74_3B_AnalyticMS_metadata.xml\n",
      "downloading 9c6dc5fe-8081-4998-9baa-e0308a01e4e4/PSScene/20151119_025741_0c74_3B_AnalyticMS.tif to data/9c6dc5fe-8081-4998-9baa-e0308a01e4e4/PSScene/20151119_025741_0c74_3B_AnalyticMS.tif\n",
      "downloading 9c6dc5fe-8081-4998-9baa-e0308a01e4e4/PSScene/20151119_025741_0c74_metadata.json to data/9c6dc5fe-8081-4998-9baa-e0308a01e4e4/PSScene/20151119_025741_0c74_metadata.json\n",
      "downloading 9c6dc5fe-8081-4998-9baa-e0308a01e4e4/manifest.json to data/9c6dc5fe-8081-4998-9baa-e0308a01e4e4/manifest.json\n"
     ]
    }
   ],
   "source": [
    "download_results(results)"
   ]
  },
  {
   "cell_type": "markdown",
   "metadata": {},
   "source": [
    "### Downloading as a single zip\n",
    "\n",
    "To download all of the order assets as a single zip, the order request needs to be changed slightly with delivery instructions. After that, polling and downloading are the same."
   ]
  },
  {
   "cell_type": "code",
   "execution_count": 67,
   "metadata": {},
   "outputs": [
    {
     "data": {
      "text/plain": [
       "{'name': 'simple order',\n",
       " 'products': [{'item_ids': ['20151119_025740_0c74', '20151119_025741_0c74'],\n",
       "   'item_type': 'PSScene',\n",
       "   'product_bundle': 'analytic_udm2'}],\n",
       " 'delivery': {'single_archive': True, 'archive_type': 'zip'}}"
      ]
     },
     "execution_count": 67,
     "metadata": {},
     "output_type": "execute_result"
    }
   ],
   "source": [
    "zip_delivery = {\"delivery\": {\"single_archive\": True, \"archive_type\": \"zip\"}}\n",
    "request_zip = request.copy()\n",
    "request_zip.update(zip_delivery)\n",
    "request_zip"
   ]
  },
  {
   "cell_type": "code",
   "execution_count": 68,
   "metadata": {},
   "outputs": [
    {
     "name": "stdout",
     "output_type": "stream",
     "text": [
      "<Response [202]>\n",
      "118c2da8-6512-41c4-a0fe-541bcfbe6285\n"
     ]
    }
   ],
   "source": [
    "order_url = place_order(request_zip, auth=session.auth)"
   ]
  },
  {
   "cell_type": "code",
   "execution_count": 69,
   "metadata": {},
   "outputs": [
    {
     "name": "stdout",
     "output_type": "stream",
     "text": [
      "queued\n",
      "running\n",
      "running\n",
      "running\n",
      "running\n",
      "running\n",
      "running\n",
      "running\n",
      "running\n",
      "running\n",
      "running\n",
      "running\n",
      "running\n",
      "running\n",
      "running\n",
      "running\n",
      "running\n",
      "running\n",
      "running\n",
      "running\n",
      "running\n",
      "running\n",
      "running\n",
      "running\n",
      "running\n",
      "running\n",
      "running\n",
      "success\n"
     ]
    }
   ],
   "source": [
    "poll_for_success(order_url, session.auth)"
   ]
  },
  {
   "cell_type": "code",
   "execution_count": 70,
   "metadata": {},
   "outputs": [],
   "source": [
    "r = requests.get(order_url, auth=session.auth)\n",
    "response = r.json()\n",
    "results = response['_links']['results']"
   ]
  },
  {
   "cell_type": "code",
   "execution_count": 71,
   "metadata": {
    "scrolled": true
   },
   "outputs": [
    {
     "name": "stdout",
     "output_type": "stream",
     "text": [
      "2 items to download\n",
      "downloading 118c2da8-6512-41c4-a0fe-541bcfbe6285/output.zip to data/118c2da8-6512-41c4-a0fe-541bcfbe6285/output.zip\n",
      "downloading 118c2da8-6512-41c4-a0fe-541bcfbe6285/manifest.json to data/118c2da8-6512-41c4-a0fe-541bcfbe6285/manifest.json\n"
     ]
    }
   ],
   "source": [
    "download_results(results)"
   ]
  }
 ],
 "metadata": {
  "kernelspec": {
   "display_name": "Python 3 (ipykernel)",
   "language": "python",
   "name": "python3"
  },
  "language_info": {
   "codemirror_mode": {
    "name": "ipython",
    "version": 3
   },
   "file_extension": ".py",
   "mimetype": "text/x-python",
   "name": "python",
   "nbconvert_exporter": "python",
   "pygments_lexer": "ipython3",
   "version": "3.8.13"
  }
 },
 "nbformat": 4,
 "nbformat_minor": 2
}
