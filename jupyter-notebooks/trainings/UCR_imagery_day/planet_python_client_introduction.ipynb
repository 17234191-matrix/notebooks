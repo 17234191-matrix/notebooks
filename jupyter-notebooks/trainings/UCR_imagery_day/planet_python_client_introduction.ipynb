{
 "cells": [
  {
   "cell_type": "markdown",
   "metadata": {},
   "source": [
    "# Planet API Python Client\n"
   ]
  },
  {
   "cell_type": "markdown",
   "metadata": {},
   "source": [
    "This tutorial is an introduction to [Planet](https://www.planet.com)'s Data and Orders API using the official [Python client](https://github.com/planetlabs/planet-client-python), the `planet` module. It shows you how to create bulk orders, use our tools, and deliver to the cloud.\n",
    "\n",
    "## Requirements\n",
    "\n",
    "This tutorial assumes familiarity with the [Python](https://python.org) programming language throughout. Python modules used in this tutorial are:\n",
    "* [IPython](https://ipython.org/) and [Jupyter](https://jupyter.org/)\n",
    "* [planet](https://github.com/planetlabs/planet-client-python)\n",
    "* [geojsonio](https://pypi.python.org/pypi/geojsonio)\n",
    "* [rasterio](https://rasterio.readthedocs.io/en/latest/index.html)\n",
    "* [asyncio](https://docs.python.org/3/library/asyncio.html)\n",
    "\n",
    "You should also have an account on the Planet Platform and retrieve your API key from your [account page](https://www.planet.com/account/).\n",
    "\n",
    "## Useful links \n",
    "* [Planet Client V2 Documentation](https://github.com/planetlabs/planet-client-python)\n",
    "* [Planet Data API reference](https://developers.planet.com/docs/apis/data/)"
   ]
  },
  {
   "cell_type": "markdown",
   "metadata": {},
   "source": [
    "This tutorial will cover the basic operations possible with the Python client, particularly those that interact with the Data API and Orders API"
   ]
  },
  {
   "cell_type": "markdown",
   "metadata": {},
   "source": [
    "## Set up\n",
    "\n",
    "In order to interact with the Planet API using the client, we need to import the necessary packages & define helper functions."
   ]
  },
  {
   "cell_type": "code",
   "execution_count": null,
   "metadata": {},
   "outputs": [],
   "source": [
    "#general packages\n",
    "import os\n",
    "import json\n",
    "import glob\n",
    "import asyncio\n",
    "import requests\n",
    "import numpy as np\n",
    "import nest_asyncio \n",
    "import contextily as ctx\n",
    "import matplotlib.pyplot as plt\n",
    "from requests.auth import HTTPBasicAuth\n",
    "from datetime import datetime, timedelta\n",
    "\n",
    "#geospatial packages\n",
    "import rasterio\n",
    "from rasterio import features\n",
    "import geopandas as gpd\n",
    "\n",
    "\n",
    "#planet SDK\n",
    "from planet import Auth, reporting, Session, OrdersClient, order_request, data_filter\n",
    "\n",
    "\n",
    "# We will also create a small helper function to print out JSON with proper indentation.\n",
    "def indent(data):\n",
    "    print(json.dumps(data, indent=2))"
   ]
  },
  {
   "cell_type": "markdown",
   "metadata": {},
   "source": [
    "We next need to create a `client` object registered with our API key. The API key will be automatically read from the `PL_API_KEY` environment variable if it exists. If not, you can provide it below. You can also authenticate via the CLI using [`auth init`](https://planet-sdk-for-python-v2.readthedocs.io/en/latest/cli/cli-reference/?h=auth#auth:~:text=message%20and%20exit.-,auth,-%C2%B6), this will store your API key as an environment variable."
   ]
  },
  {
   "cell_type": "code",
   "execution_count": null,
   "metadata": {},
   "outputs": [],
   "source": [
    "# if your Planet API Key is not set as an environment variable, you can paste it below\n",
    "if 'PL_API_KEY' in os.environ:\n",
    "    API_KEY = os.environ['PL_API_KEY']\n",
    "else:\n",
    "    API_KEY = 'PASTE_API_KEY_HERE'\n",
    "    os.environ['PL_API_KEY'] = API_KEY\n",
    "\n",
    "client = Auth.from_key(API_KEY)"
   ]
  },
  {
   "cell_type": "markdown",
   "metadata": {},
   "source": [
    "## Searching\n",
    "\n",
    "We can search for items that are interesting by using the `quick_search` member function. Searches, however, always require a proper request that includes a filter that selects the specific items to return as seach results."
   ]
  },
  {
   "cell_type": "markdown",
   "metadata": {},
   "source": [
    "Let's also read in a GeoJSON geometry into a variable so we can use it during testing. The geometry can only have one polygon to work with the data API"
   ]
  },
  {
   "cell_type": "code",
   "execution_count": null,
   "metadata": {},
   "outputs": [],
   "source": [
    "def plot_aoi(gdf):\n",
    "    gdf = gdf.to_crs(epsg=3857)  # reproject it in Web mercator\n",
    "    ax = gdf.boundary.plot()\n",
    "\n",
    "    # Add an openstreet map\n",
    "    ctx.add_basemap(ax, url=ctx.providers.OpenStreetMap.Mapnik.url)\n",
    "    ax.set_axis_off()\n",
    "    plt.show()"
   ]
  },
  {
   "cell_type": "code",
   "execution_count": null,
   "metadata": {},
   "outputs": [],
   "source": [
    "# GEOMETRY\n",
    "gdf = gpd.read_file(\"ucr_fields.geojson\")\n",
    "geom = json.loads(gdf.to_json())[\"features\"][0][\"geometry\"]\n",
    "\n",
    "plot_aoi(gdf)"
   ]
  },
  {
   "cell_type": "code",
   "execution_count": null,
   "metadata": {},
   "outputs": [],
   "source": [
    "json.loads(gdf.to_json())"
   ]
  },
  {
   "cell_type": "markdown",
   "metadata": {},
   "source": [
    "### Filters"
   ]
  },
  {
   "cell_type": "markdown",
   "metadata": {},
   "source": [
    "The possible filters include `and_filter`, `date_range_filter`, `range_filter` and so on, mirroring the options supported by the Planet API. Additional filters are described [here](https://planet-sdk-for-python-v2.readthedocs.io/en/latest/python/sdk-guide/#filter:~:text=(main())-,Filter,-%C2%B6)."
   ]
  },
  {
   "cell_type": "code",
   "execution_count": null,
   "metadata": {},
   "outputs": [],
   "source": [
    "# Define the filters we'll use to find our data\n",
    "\n",
    "item_types = [\"PSScene\"]\n",
    "\n",
    "#Geometry filter\n",
    "geom_filter = data_filter.geometry_filter(geom)\n",
    "\n",
    "#Date range filter\n",
    "date_range_filter = data_filter.date_range_filter(\n",
    "    \"acquired\", gt = datetime(month=12, day=31, year=2022),\n",
    "    lt = datetime(month=12, day=12, year=2023))\n",
    "\n",
    "#Clear pixel filter\n",
    "#clear_filter = data_filter.range_filter('clear_percent', gt = 80)\n",
    "\n",
    "#Combine all of the filters\n",
    "combined_filter = data_filter.and_filter([geom_filter, date_range_filter])#, clear_cover_filter])"
   ]
  },
  {
   "cell_type": "code",
   "execution_count": null,
   "metadata": {
    "scrolled": true
   },
   "outputs": [],
   "source": [
    "combined_filter"
   ]
  },
  {
   "cell_type": "markdown",
   "metadata": {},
   "source": [
    "#### Directly pinging the API"
   ]
  },
  {
   "cell_type": "code",
   "execution_count": null,
   "metadata": {},
   "outputs": [],
   "source": [
    "item_type = \"PSScene\"\n",
    "\n",
    "# API request object\n",
    "search_request = {\n",
    "  \"item_types\": [item_type], \n",
    "  \"filter\": combined_filter\n",
    "}"
   ]
  },
  {
   "cell_type": "code",
   "execution_count": null,
   "metadata": {},
   "outputs": [],
   "source": [
    "# fire off the POST request\n",
    "search_result = \\\n",
    "  requests.post(\n",
    "    'https://api.planet.com/data/v1/quick-search',\n",
    "    auth=HTTPBasicAuth(API_KEY, ''),\n",
    "    json=search_request)\n",
    "\n",
    "# extract image IDs only\n",
    "image_ids = [feature['id'] for feature in search_result.json()['features']]\n",
    "print(len(image_ids))"
   ]
  },
  {
   "cell_type": "markdown",
   "metadata": {},
   "source": [
    "Pagination links"
   ]
  },
  {
   "cell_type": "code",
   "execution_count": null,
   "metadata": {},
   "outputs": [],
   "source": [
    "search_result.json()['_links']"
   ]
  },
  {
   "cell_type": "markdown",
   "metadata": {},
   "source": [
    "#### Using the SDK"
   ]
  },
  {
   "cell_type": "code",
   "execution_count": null,
   "metadata": {},
   "outputs": [],
   "source": [
    "async with Session() as sess:\n",
    "    cl = sess.client('data')\n",
    "    item_list = [i async for i in cl.search(search_filter=combined_filter, item_types=item_types,limit=2000)]"
   ]
  },
  {
   "cell_type": "markdown",
   "metadata": {},
   "source": [
    "If the number of items requested is more than 250, the client will automatically fetch more pages of results in order to get the exact number requested.\n",
    "\n",
    "Then we can save the output to be visualized as a geojson"
   ]
  },
  {
   "cell_type": "code",
   "execution_count": null,
   "metadata": {},
   "outputs": [],
   "source": [
    "len(item_list)"
   ]
  },
  {
   "cell_type": "markdown",
   "metadata": {},
   "source": [
    "Inspecting the metadata"
   ]
  },
  {
   "cell_type": "code",
   "execution_count": null,
   "metadata": {},
   "outputs": [],
   "source": [
    "item_list[0]"
   ]
  },
  {
   "cell_type": "code",
   "execution_count": null,
   "metadata": {},
   "outputs": [],
   "source": [
    "#Cloud cover filter\n",
    "cloud_cover_filter = data_filter.range_filter('clear_percent', gt = 90)\n",
    "\n",
    "#Combine all of the filters\n",
    "combined_filter = data_filter.and_filter([geom_filter, date_range_filter, cloud_cover_filter])\n",
    "\n",
    "async with Session() as sess:\n",
    "    cl = sess.client('data')\n",
    "    item_list = [i async for i in cl.search(search_filter=combined_filter, item_types=item_types,limit=500)]"
   ]
  },
  {
   "cell_type": "code",
   "execution_count": null,
   "metadata": {},
   "outputs": [],
   "source": [
    "len(item_list)"
   ]
  },
  {
   "cell_type": "markdown",
   "metadata": {},
   "source": [
    "Now, we can iterate through our search results."
   ]
  },
  {
   "cell_type": "code",
   "execution_count": null,
   "metadata": {
    "scrolled": true
   },
   "outputs": [],
   "source": [
    "for item in item_list:\n",
    "    print(item['id'], item['properties']['item_type'], item['properties']['clear_percent'])\n",
    "\n",
    "image_ids = [feature['id'] for feature in item_list]   "
   ]
  },
  {
   "cell_type": "markdown",
   "metadata": {},
   "source": [
    "## Ordering"
   ]
  },
  {
   "cell_type": "markdown",
   "metadata": {},
   "source": [
    "### Place a Order\n",
    "Create the order structure using `planet` functions"
   ]
  },
  {
   "cell_type": "code",
   "execution_count": null,
   "metadata": {},
   "outputs": [],
   "source": [
    "async def assemble_order(name,item_ids):\n",
    "    products = [\n",
    "        order_request.product(item_ids, 'analytic_udm2', 'PSScene')\n",
    "    ]\n",
    "    \n",
    "    clip = order_request.clip_tool(aoi=geom_all)\n",
    "    bandmath = order_request.band_math_tool(b1=\"b1\",\n",
    "                                            b2=\"b2\",\n",
    "                                            b3=\"b3\",\n",
    "                                            b4=\"b4\",\n",
    "                                            b5=\"(b4-b3)/(b4+b3)*1000+1000\",\n",
    "                                            pixel_type='16U')\n",
    "\n",
    "    \n",
    "    \n",
    "    tools = [clip,bandmath]\n",
    "\n",
    "    request = order_request.build_request(\n",
    "        name, products=products, tools=tools)\n",
    "    return request\n",
    "    \n",
    "request =  await assemble_order(\"test\",image_ids[:2])"
   ]
  },
  {
   "cell_type": "code",
   "execution_count": null,
   "metadata": {},
   "outputs": [],
   "source": [
    "print(request)"
   ]
  },
  {
   "cell_type": "markdown",
   "metadata": {},
   "source": [
    "Lets create a funcion to order imagery"
   ]
  },
  {
   "cell_type": "code",
   "execution_count": null,
   "metadata": {},
   "outputs": [],
   "source": [
    "async def do_order(request):\n",
    "    async with Session() as sess:\n",
    "        cl = OrdersClient(sess)\n",
    "        with reporting.StateBar(state='creating') as bar:\n",
    "            order = await cl.create_order(request)\n",
    "            bar.update(state='created', order_id=order['id'])\n",
    "\n",
    "            await cl.wait(order['id'],max_attempts=0, callback=bar.update_state)\n",
    "        os.mkdir(request['name'])\n",
    "        \n",
    "        # if we get here that means the order completed. Yay! Download the files.\n",
    "        await cl.download_order(order['id'],directory=request['name'])\n"
   ]
  },
  {
   "cell_type": "markdown",
   "metadata": {},
   "source": [
    "Now we can create all our orders"
   ]
  },
  {
   "cell_type": "code",
   "execution_count": null,
   "metadata": {},
   "outputs": [],
   "source": [
    "await do_order(request)"
   ]
  },
  {
   "cell_type": "markdown",
   "metadata": {},
   "source": [
    "Now lets visualize our output!"
   ]
  },
  {
   "cell_type": "code",
   "execution_count": null,
   "metadata": {},
   "outputs": [],
   "source": [
    "files = []\n",
    "\n",
    "files.extend(glob.glob(\"test/*/*/*bandmath.tif\"))\n",
    "files\n",
    "\n",
    "# Read the file with Rasterio\n",
    "with rasterio.open(files[0]) as src:\n",
    "    print(src.meta)\n",
    "    # From the open src image, let's save the array as a variable.\n",
    "    arr = src.read()/10000"
   ]
  },
  {
   "cell_type": "code",
   "execution_count": null,
   "metadata": {},
   "outputs": [],
   "source": [
    "# Order of the bands for 8-band planetscope imagery is from lowest to highest wavelength\n",
    "band_order = [\"blue\", \"green\", \"red\", \"nir\",\"NDVI\"]\n",
    "\n",
    "# Define the layout of our figure\n",
    "nrow = 1\n",
    "ncol = 5\n",
    "f, axes = plt.subplots(nrow, ncol, figsize=(5*ncol, 3.5*nrow))\n",
    "\n",
    "# Loop over every band name and axis available in the plot together\n",
    "for band_name, ax in zip(band_order, axes.flatten()):\n",
    "    # Extract the band from our array\n",
    "    band_index = band_order.index(band_name)\n",
    "    band = arr[band_index]\n",
    "\n",
    "    # Plot in greyscale to the subplot\n",
    "    im = ax.imshow(band, cmap=\"Greys_r\")\n",
    "    f.colorbar(im, ax=ax)\n",
    "\n",
    "    # Set the title for the subplot\n",
    "    ax.set_title(band_name)"
   ]
  },
  {
   "cell_type": "code",
   "execution_count": null,
   "metadata": {},
   "outputs": [],
   "source": [
    "# Save R, G, and B as variables\n",
    "red = arr[band_order.index(\"red\")]\n",
    "green = arr[band_order.index(\"green\")]\n",
    "blue = arr[band_order.index(\"blue\")]\n",
    "nir = arr[band_order.index(\"nir\")]\n",
    "\n",
    "# Stack them into a single array\n",
    "img = np.stack([red, green, blue], axis=2)\n",
    "nir_img = np.stack([nir, green, blue], axis=2)"
   ]
  },
  {
   "cell_type": "code",
   "execution_count": null,
   "metadata": {},
   "outputs": [],
   "source": [
    "f, axes = plt.subplots(1, 2, figsize=(8, 3))\n",
    "axes[0].imshow(img)\n",
    "axes[0].set_title(\"RGB\")\n",
    "axes[1].imshow(nir_img)\n",
    "axes[1].set_title(\"False Color\")"
   ]
  },
  {
   "cell_type": "markdown",
   "metadata": {
    "tags": []
   },
   "source": [
    "### Google Earth Engine Delivery\n",
    "\n",
    "In order to deliver straight to earth engine you need to connect your gee account to a google cloud project and authorize planet to deliver to it. [Here](https://developers.planet.com/docs/integrations/gee/quickstart/) are some instrucitons to help with the process."
   ]
  },
  {
   "cell_type": "code",
   "execution_count": null,
   "metadata": {},
   "outputs": [],
   "source": [
    "async def assemble_gee_order(item_ids, name):\n",
    "    products = [\n",
    "        order_request.product(item_ids, 'analytic_sr_udm2', 'PSScene')\n",
    "    ]\n",
    "    \n",
    "    tools = [order_request.clip_tool(aoi=geom)]\n",
    "    \n",
    "    delivery = order_request.google_earth_engine(\n",
    "        project=\"planet-services-staging\",\n",
    "        collection=\"gis-day-gee-demo\")\n",
    "    \n",
    "    request = order_request.build_request(\n",
    "        name=name, products=products, tools=tools, delivery=delivery)\n",
    "    return request"
   ]
  },
  {
   "cell_type": "code",
   "execution_count": null,
   "metadata": {},
   "outputs": [],
   "source": [
    "item_ids = [item[\"id\"] for item in item_list]\n",
    "name = 'gee_delivery_UCR'\n",
    "request =  await assemble_order(item_ids, name)\n",
    "\n",
    "\n",
    "# an async Orders client to request order creation\n",
    "async with Session() as sess:\n",
    "    cl = OrdersClient(sess)\n",
    "    with reporting.StateBar(state='creating') as bar:\n",
    "        # create order via Orders client\n",
    "        order = await cl.create_order(request)\n",
    "        bar.update(state='created', order_id=order['id'])\n",
    "        await cl.wait(order['id'], callback=bar.update_state)"
   ]
  },
  {
   "cell_type": "markdown",
   "metadata": {},
   "source": [
    "### Google Cloud Delivery\n",
    "You will need your credentials encoded as base64 with the right accees credentails to your bucket as explained [here](https://developers.planet.com/apis/orders/delivery/#:~:text=Preparing%20Your%20Google%20Cloud%20Storage%20Credentials%C2%B6)."
   ]
  },
  {
   "cell_type": "code",
   "execution_count": null,
   "metadata": {},
   "outputs": [],
   "source": [
    "async def assemble_gcp_order(item_ids, name):\n",
    "    products = [\n",
    "        order_request.product(item_ids, 'analytic_sr_udm2', 'PSScene')\n",
    "    ]\n",
    "    \n",
    "    tools = [order_request.clip_tool(aoi=geom)]\n",
    "    \n",
    "    delivery = order_request.google_cloud_storage(\n",
    "        bucket= \"gcp_bucket\", \n",
    "        credentials=\"base64-encoded-credentials\", \n",
    "        path_prefix = \"\")\n",
    "    \n",
    "    request = order_request.build_request(\n",
    "        name=name, products=products, tools=tools, delivery=delivery)\n",
    "    return request"
   ]
  }
 ],
 "metadata": {
  "kernelspec": {
   "display_name": "Python 3 (ipykernel)",
   "language": "python",
   "name": "python3"
  },
  "language_info": {
   "codemirror_mode": {
    "name": "ipython",
    "version": 3
   },
   "file_extension": ".py",
   "mimetype": "text/x-python",
   "name": "python",
   "nbconvert_exporter": "python",
   "pygments_lexer": "ipython3",
   "version": "3.9.5"
  }
 },
 "nbformat": 4,
 "nbformat_minor": 4
}
