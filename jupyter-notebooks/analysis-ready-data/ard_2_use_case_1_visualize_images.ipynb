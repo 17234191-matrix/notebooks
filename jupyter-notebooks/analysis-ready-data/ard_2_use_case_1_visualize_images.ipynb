{
 "cells": [
  {
   "attachments": {},
   "cell_type": "markdown",
   "metadata": {},
   "source": [
    "# Analysis Ready Data Tutorial Part 2: Use Case 1\n",
    "## Visualize Images\n",
    "\n",
    "In [ard_2_use_case_1.ipynb](ard_2_use_case_1.ipynb), we found scenes that match a certain search date and AOI, grouped them by dates, and for each date, we submitted an order that calculated NDVI, clipped the scenes to the AOI, and composited them into one image. In that notebook, we used QGIS to visualize the result. In this notebook, we will visualize the NDVI image with a colormap that makes it easier to understand and we will also mask out any unusable pixels identified in the UDM2.\n",
    "\n",
    "As mentioned in that notebook, NDVI values range from -1 to 1. Values closer to 1 represent dense, growing vegetation and values closer to 0 represent little to no vegetation.\n",
    "\n",
    "In this notebook we do a few things to save on memory. If we didn't, the kernel would crash after displaying one or two images. First, we convert the NDVI values from float32 to uint16. This could make a difference in an analytic calculation (although it is wise to keep in mind that NDVI is *normalized*), but our eyes won't be able to tell the difference. Also, we downsample the pixels by just skipping a pixel or two (or 4 or 8...) in each direction. This is pretty blunt-force downsampling, but we don't really need anything fancy for visualization.\n",
    "\n",
    "#### Import Dependencies"
   ]
  },
  {
   "cell_type": "code",
   "execution_count": 21,
   "metadata": {},
   "outputs": [],
   "source": [
    "from itertools import chain\n",
    "import json\n",
    "import os\n",
    "from pathlib import Path\n",
    "\n",
    "import numpy as np\n",
    "import rasterio\n",
    "from zipfile import ZipFile\n",
    "import pprint"
   ]
  },
  {
   "attachments": {},
   "cell_type": "markdown",
   "metadata": {},
   "source": [
    "#### Step 1: Locate order folders"
   ]
  },
  {
   "cell_type": "code",
   "execution_count": 22,
   "metadata": {},
   "outputs": [
    {
     "name": "stdout",
     "output_type": "stream",
     "text": [
      "['data/use_case_1/6d00095c-474b-4c69-8024-bc21a5241c25', 'data/use_case_1/b9ddd81d-0539-435b-b635-6bed947ef2ee']\n"
     ]
    }
   ],
   "source": [
    "# You should fill these in with orders you downloaded in the previous notebook. \n",
    "# Order IDs will not be the same.\n",
    "order_folders = [\n",
    "    'data/use_case_1/6d00095c-474b-4c69-8024-bc21a5241c25',\n",
    "    'data/use_case_1/b9ddd81d-0539-435b-b635-6bed947ef2ee'\n",
    "]\n",
    "\n",
    "print(order_folders)"
   ]
  },
  {
   "cell_type": "code",
   "execution_count": 23,
   "metadata": {},
   "outputs": [
    {
     "name": "stdout",
     "output_type": "stream",
     "text": [
      "[['data/use_case_1/6d00095c-474b-4c69-8024-bc21a5241c25/20190420_163153_0e19_metadata.json', 'data/use_case_1/6d00095c-474b-4c69-8024-bc21a5241c25/20190420_163148_0e19_3B_AnalyticMS_metadata_clip.xml', 'data/use_case_1/6d00095c-474b-4c69-8024-bc21a5241c25/20190420_164136_1002_3B_AnalyticMS_metadata_clip.xml', 'data/use_case_1/6d00095c-474b-4c69-8024-bc21a5241c25/20190420_164135_1002_3B_AnalyticMS_metadata_clip.xml', 'data/use_case_1/6d00095c-474b-4c69-8024-bc21a5241c25/20190420_164133_1002_3B_AnalyticMS_metadata_clip.xml', 'data/use_case_1/6d00095c-474b-4c69-8024-bc21a5241c25/20190420_163152_0e19_metadata.json', 'data/use_case_1/6d00095c-474b-4c69-8024-bc21a5241c25/20190420_163150_0e19_3B_AnalyticMS_metadata_clip.xml', 'data/use_case_1/6d00095c-474b-4c69-8024-bc21a5241c25/composite.tif', 'data/use_case_1/6d00095c-474b-4c69-8024-bc21a5241c25/20190420_164135_1002_metadata.json', 'data/use_case_1/6d00095c-474b-4c69-8024-bc21a5241c25/20190420_163148_0e19_metadata.json', 'data/use_case_1/6d00095c-474b-4c69-8024-bc21a5241c25/20190420_164136_1002_metadata.json', 'data/use_case_1/6d00095c-474b-4c69-8024-bc21a5241c25/composite_metadata.json', 'data/use_case_1/6d00095c-474b-4c69-8024-bc21a5241c25/20190420_163152_0e19_3B_AnalyticMS_metadata_clip.xml', 'data/use_case_1/6d00095c-474b-4c69-8024-bc21a5241c25/20190420_163149_0e19_3B_AnalyticMS_metadata_clip.xml', 'data/use_case_1/6d00095c-474b-4c69-8024-bc21a5241c25/20190420_164134_1002_metadata.json', 'data/use_case_1/6d00095c-474b-4c69-8024-bc21a5241c25/20190420_164133_1002_metadata.json', 'data/use_case_1/6d00095c-474b-4c69-8024-bc21a5241c25/20190420_164137_1002_3B_AnalyticMS_metadata_clip.xml', 'data/use_case_1/6d00095c-474b-4c69-8024-bc21a5241c25/20190420_164134_1002_3B_AnalyticMS_metadata_clip.xml', 'data/use_case_1/6d00095c-474b-4c69-8024-bc21a5241c25/20190420_164137_1002_metadata.json', 'data/use_case_1/6d00095c-474b-4c69-8024-bc21a5241c25/20190420_163150_0e19_metadata.json', 'data/use_case_1/6d00095c-474b-4c69-8024-bc21a5241c25/20190420_163149_0e19_metadata.json', 'data/use_case_1/6d00095c-474b-4c69-8024-bc21a5241c25/20190420_163153_0e19_3B_AnalyticMS_metadata_clip.xml', 'data/use_case_1/6d00095c-474b-4c69-8024-bc21a5241c25/composite_udm2.tif']]\n",
      "[['data/use_case_1/6d00095c-474b-4c69-8024-bc21a5241c25/20190420_163153_0e19_metadata.json', 'data/use_case_1/6d00095c-474b-4c69-8024-bc21a5241c25/20190420_163148_0e19_3B_AnalyticMS_metadata_clip.xml', 'data/use_case_1/6d00095c-474b-4c69-8024-bc21a5241c25/20190420_164136_1002_3B_AnalyticMS_metadata_clip.xml', 'data/use_case_1/6d00095c-474b-4c69-8024-bc21a5241c25/20190420_164135_1002_3B_AnalyticMS_metadata_clip.xml', 'data/use_case_1/6d00095c-474b-4c69-8024-bc21a5241c25/20190420_164133_1002_3B_AnalyticMS_metadata_clip.xml', 'data/use_case_1/6d00095c-474b-4c69-8024-bc21a5241c25/20190420_163152_0e19_metadata.json', 'data/use_case_1/6d00095c-474b-4c69-8024-bc21a5241c25/20190420_163150_0e19_3B_AnalyticMS_metadata_clip.xml', 'data/use_case_1/6d00095c-474b-4c69-8024-bc21a5241c25/composite.tif', 'data/use_case_1/6d00095c-474b-4c69-8024-bc21a5241c25/20190420_164135_1002_metadata.json', 'data/use_case_1/6d00095c-474b-4c69-8024-bc21a5241c25/20190420_163148_0e19_metadata.json', 'data/use_case_1/6d00095c-474b-4c69-8024-bc21a5241c25/20190420_164136_1002_metadata.json', 'data/use_case_1/6d00095c-474b-4c69-8024-bc21a5241c25/composite_metadata.json', 'data/use_case_1/6d00095c-474b-4c69-8024-bc21a5241c25/20190420_163152_0e19_3B_AnalyticMS_metadata_clip.xml', 'data/use_case_1/6d00095c-474b-4c69-8024-bc21a5241c25/20190420_163149_0e19_3B_AnalyticMS_metadata_clip.xml', 'data/use_case_1/6d00095c-474b-4c69-8024-bc21a5241c25/20190420_164134_1002_metadata.json', 'data/use_case_1/6d00095c-474b-4c69-8024-bc21a5241c25/20190420_164133_1002_metadata.json', 'data/use_case_1/6d00095c-474b-4c69-8024-bc21a5241c25/20190420_164137_1002_3B_AnalyticMS_metadata_clip.xml', 'data/use_case_1/6d00095c-474b-4c69-8024-bc21a5241c25/20190420_164134_1002_3B_AnalyticMS_metadata_clip.xml', 'data/use_case_1/6d00095c-474b-4c69-8024-bc21a5241c25/20190420_164137_1002_metadata.json', 'data/use_case_1/6d00095c-474b-4c69-8024-bc21a5241c25/20190420_163150_0e19_metadata.json', 'data/use_case_1/6d00095c-474b-4c69-8024-bc21a5241c25/20190420_163149_0e19_metadata.json', 'data/use_case_1/6d00095c-474b-4c69-8024-bc21a5241c25/20190420_163153_0e19_3B_AnalyticMS_metadata_clip.xml', 'data/use_case_1/6d00095c-474b-4c69-8024-bc21a5241c25/composite_udm2.tif'], ['data/use_case_1/b9ddd81d-0539-435b-b635-6bed947ef2ee/20190419_164002_1035_3B_AnalyticMS_metadata_clip.xml', 'data/use_case_1/b9ddd81d-0539-435b-b635-6bed947ef2ee/20190419_164001_1035_3B_AnalyticMS_metadata_clip.xml', 'data/use_case_1/b9ddd81d-0539-435b-b635-6bed947ef2ee/20190419_164004_1035_3B_AnalyticMS_metadata_clip.xml', 'data/use_case_1/b9ddd81d-0539-435b-b635-6bed947ef2ee/20190419_164002_1035_metadata.json', 'data/use_case_1/b9ddd81d-0539-435b-b635-6bed947ef2ee/20190419_164003_1035_3B_AnalyticMS_metadata_clip.xml', 'data/use_case_1/b9ddd81d-0539-435b-b635-6bed947ef2ee/20190419_164004_1035_metadata.json', 'data/use_case_1/b9ddd81d-0539-435b-b635-6bed947ef2ee/20190419_164001_1035_metadata.json', 'data/use_case_1/b9ddd81d-0539-435b-b635-6bed947ef2ee/composite_metadata.json', 'data/use_case_1/b9ddd81d-0539-435b-b635-6bed947ef2ee/20190419_164000_1035_3B_AnalyticMS_metadata_clip.xml', 'data/use_case_1/b9ddd81d-0539-435b-b635-6bed947ef2ee/20190419_164003_1035_metadata.json', 'data/use_case_1/b9ddd81d-0539-435b-b635-6bed947ef2ee/20190419_164000_1035_metadata.json', 'data/use_case_1/b9ddd81d-0539-435b-b635-6bed947ef2ee/composite_udm2.tif', 'data/use_case_1/b9ddd81d-0539-435b-b635-6bed947ef2ee/composite.tif']]\n"
     ]
    }
   ],
   "source": [
    "def get_download_locations(download_dir):\n",
    "    manifest_file = os.path.join(download_dir, 'manifest.json')\n",
    "    with open(manifest_file, 'r') as src:\n",
    "        manifest = json.load(src)\n",
    "        \n",
    "    locations = [os.path.join(download_dir, f['path'])\n",
    "                 for f in manifest['files']]\n",
    "    return locations\n",
    "\n",
    "\n",
    "locations = []\n",
    "for i in order_folders:\n",
    "    location = get_download_locations(i)\n",
    "    locations.append(location)\n",
    "    print(locations)\n",
    "\n",
    "# Un-nest our locations object\n",
    "locations = list(chain.from_iterable(locations))"
   ]
  },
  {
   "cell_type": "code",
   "execution_count": 24,
   "metadata": {},
   "outputs": [
    {
     "ename": "TypeError",
     "evalue": "'module' object is not callable",
     "output_type": "error",
     "traceback": [
      "\u001b[0;31m---------------------------------------------------------------------------\u001b[0m",
      "\u001b[0;31mTypeError\u001b[0m                                 Traceback (most recent call last)",
      "\u001b[1;32m/Users/em.steuer/repos/notebooks/jupyter-notebooks/analysis-ready-data/ard_2_use_case_1_visualize_images.ipynb Cell 6\u001b[0m in \u001b[0;36m<cell line: 1>\u001b[0;34m()\u001b[0m\n\u001b[0;32m----> <a href='vscode-notebook-cell:/Users/em.steuer/repos/notebooks/jupyter-notebooks/analysis-ready-data/ard_2_use_case_1_visualize_images.ipynb#W5sZmlsZQ%3D%3D?line=0'>1</a>\u001b[0m pprint(locations)\n",
      "\u001b[0;31mTypeError\u001b[0m: 'module' object is not callable"
     ]
    }
   ],
   "source": [
    "pprint(locations)"
   ]
  },
  {
   "attachments": {},
   "cell_type": "markdown",
   "metadata": {},
   "source": [
    "#### Step 2: Visualize Images\n",
    "\n",
    "In this section we will find the image files and their associated UDMs and we will visualize them.\n",
    "\n",
    "The first band of the UDM2 file is the clear/not-clear band. 0: not-clear, 1: clear."
   ]
  },
  {
   "cell_type": "code",
   "execution_count": null,
   "metadata": {},
   "outputs": [],
   "source": [
    "\"\"\"\n",
    "These functions are a little different than what was introduced in the best practices tutorial.\n",
    "First, we have to change our search a little bit to find the composite image.\n",
    "Second, we convert the NDVI image to int16 to save some memory storage.\n",
    "\"\"\"\n",
    "\n",
    "def get_composite_image_and_udm_files(directory):\n",
    "    print(directory)\n",
    "    files = [f for f in get_unzipped_files(directory)]\n",
    "    \n",
    "    def find_file(files, filename):\n",
    "        return next((f for f in files if os.path.basename(f) == filename),\n",
    "                    None)\n",
    "    imgfile = find_file(files, 'composite.tif')\n",
    "    \n",
    "    if imgfile:\n",
    "        udmfile = find_file(files, 'composite_udm2.tif')\n",
    "    else:\n",
    "        udmfile = None\n",
    "    \n",
    "    return str(imgfile), str(udmfile)\n",
    "\n",
    "def read_ndvi_as_int(img_filename, not_clear):\n",
    "    \"\"\"the ndvi band is float32. lets save memory by moving to int16\"\"\"\n",
    "    with rasterio.open(img_filename) as img:\n",
    "        # ndvi is a single-band image\n",
    "        ndvi = img.read(1)\n",
    "        \n",
    "        # scale to int16\n",
    "        new_dtype = np.int16\n",
    "        new_max_value = np.iinfo(new_dtype).max\n",
    "        new_ndvi = (ndvi * new_max_value).astype(new_dtype)\n",
    "    return new_ndvi"
   ]
  },
  {
   "cell_type": "code",
   "execution_count": null,
   "metadata": {},
   "outputs": [],
   "source": [
    "# This functionality was introduced in the best practices tutorial\n",
    "\n",
    "def unzip(filename):\n",
    "    location = Path(filename)\n",
    "    \n",
    "    zipdir = location.parent / location.stem\n",
    "    with ZipFile(location) as myzip:\n",
    "        myzip.extractall(zipdir)\n",
    "    return zipdir\n",
    "\n",
    "def get_unzipped_files(zipdir):\n",
    "    filedir = zipdir / 'files'\n",
    "    filenames = os.listdir(filedir)\n",
    "    return [filedir / f for f in filenames]\n",
    "\n",
    "\n",
    "def get_image_and_udm_files(file_paths):\n",
    "    files = [str(p) for p in file_paths]\n",
    "    \n",
    "    # The image files are tiffs and are identified with '_SR_' in the name\n",
    "    img_id = '_AnalyticMS_SR_'\n",
    "    imgfiles = [f for f in files\n",
    "                if f.endswith('.tif') and img_id in f]\n",
    "    \n",
    "    # Get associated udm files for image files\n",
    "    # Each image has a unique id at the beginning of the name\n",
    "    imgroots = [str(f).split(img_id)[0] for f in imgfiles]\n",
    "    \n",
    "    # The udm files are identified with '_udm2' in the name\n",
    "    udmfiles = [next(f for f in files if f.startswith(r + '_udm2'))\n",
    "                for r in imgroots]\n",
    "    \n",
    "    return imgfiles, udmfiles\n",
    "\n",
    "\n",
    "# Read UDM2 file\n",
    "def read_notclear(udm2_filename):\n",
    "    with rasterio.open(udm2_filename) as img:\n",
    "        # the first band is the clear/not clear band\n",
    "        mask=img.read(1)\n",
    "        not_clear = mask == 0\n",
    "        return not_clear\n",
    "\n",
    "# There is an issue where some udms aren't the same size as the images\n",
    "# To deal with this just cut off any trailing rows/columns\n",
    "# This isn't ideal as it can result in up to one pixel shift in x or y direction\n",
    "def crop(img, shape):\n",
    "    return img[:shape[0], :shape[1]]\n",
    "\n",
    "def crop_and_mask(img, not_clear):\n",
    "    # crop image and mask to same size\n",
    "    img_shape = min(img.shape, not_clear.shape)\n",
    "    return np.ma.array(crop(img, img_shape),\n",
    "                       mask=crop(not_clear, img_shape))\n",
    "    \n",
    "def downsample_img(img, amt=2):\n",
    "    return img[::amt, ::amt]"
   ]
  },
  {
   "cell_type": "code",
   "execution_count": null,
   "metadata": {},
   "outputs": [],
   "source": [
    "# We demonstrated visualization in the best practices tutorial\n",
    "# Here, we save space by just importing the functionality\n",
    "from visual import show_ndvi"
   ]
  },
  {
   "cell_type": "code",
   "execution_count": null,
   "metadata": {
    "scrolled": false
   },
   "outputs": [
    {
     "ename": "BadZipFile",
     "evalue": "File is not a zip file",
     "output_type": "error",
     "traceback": [
      "\u001b[0;31m---------------------------------------------------------------------------\u001b[0m",
      "\u001b[0;31mBadZipFile\u001b[0m                                Traceback (most recent call last)",
      "\u001b[1;32m/Users/em.steuer/repos/notebooks/jupyter-notebooks/analysis-ready-data/ard_2_use_case_1_visualize_images.ipynb Cell 11\u001b[0m in \u001b[0;36m<cell line: 1>\u001b[0;34m()\u001b[0m\n\u001b[1;32m      <a href='vscode-notebook-cell:/Users/em.steuer/repos/notebooks/jupyter-notebooks/analysis-ready-data/ard_2_use_case_1_visualize_images.ipynb#X13sZmlsZQ%3D%3D?line=0'>1</a>\u001b[0m \u001b[39mfor\u001b[39;00m i \u001b[39min\u001b[39;00m locations:\n\u001b[0;32m----> <a href='vscode-notebook-cell:/Users/em.steuer/repos/notebooks/jupyter-notebooks/analysis-ready-data/ard_2_use_case_1_visualize_images.ipynb#X13sZmlsZQ%3D%3D?line=1'>2</a>\u001b[0m     zipdir \u001b[39m=\u001b[39m unzip(i)\n\u001b[1;32m      <a href='vscode-notebook-cell:/Users/em.steuer/repos/notebooks/jupyter-notebooks/analysis-ready-data/ard_2_use_case_1_visualize_images.ipynb#X13sZmlsZQ%3D%3D?line=2'>3</a>\u001b[0m     imgfile, udmfile \u001b[39m=\u001b[39m get_composite_image_and_udm_files(zipdir)\n\u001b[1;32m      <a href='vscode-notebook-cell:/Users/em.steuer/repos/notebooks/jupyter-notebooks/analysis-ready-data/ard_2_use_case_1_visualize_images.ipynb#X13sZmlsZQ%3D%3D?line=3'>4</a>\u001b[0m     \u001b[39mprint\u001b[39m(imgfile)\n",
      "\u001b[1;32m/Users/em.steuer/repos/notebooks/jupyter-notebooks/analysis-ready-data/ard_2_use_case_1_visualize_images.ipynb Cell 11\u001b[0m in \u001b[0;36munzip\u001b[0;34m(filename)\u001b[0m\n\u001b[1;32m      <a href='vscode-notebook-cell:/Users/em.steuer/repos/notebooks/jupyter-notebooks/analysis-ready-data/ard_2_use_case_1_visualize_images.ipynb#X13sZmlsZQ%3D%3D?line=3'>4</a>\u001b[0m location \u001b[39m=\u001b[39m Path(filename)\n\u001b[1;32m      <a href='vscode-notebook-cell:/Users/em.steuer/repos/notebooks/jupyter-notebooks/analysis-ready-data/ard_2_use_case_1_visualize_images.ipynb#X13sZmlsZQ%3D%3D?line=5'>6</a>\u001b[0m zipdir \u001b[39m=\u001b[39m location\u001b[39m.\u001b[39mparent \u001b[39m/\u001b[39m location\u001b[39m.\u001b[39mstem\n\u001b[0;32m----> <a href='vscode-notebook-cell:/Users/em.steuer/repos/notebooks/jupyter-notebooks/analysis-ready-data/ard_2_use_case_1_visualize_images.ipynb#X13sZmlsZQ%3D%3D?line=6'>7</a>\u001b[0m \u001b[39mwith\u001b[39;00m ZipFile(location) \u001b[39mas\u001b[39;00m myzip:\n\u001b[1;32m      <a href='vscode-notebook-cell:/Users/em.steuer/repos/notebooks/jupyter-notebooks/analysis-ready-data/ard_2_use_case_1_visualize_images.ipynb#X13sZmlsZQ%3D%3D?line=7'>8</a>\u001b[0m     myzip\u001b[39m.\u001b[39mextractall(zipdir)\n\u001b[1;32m      <a href='vscode-notebook-cell:/Users/em.steuer/repos/notebooks/jupyter-notebooks/analysis-ready-data/ard_2_use_case_1_visualize_images.ipynb#X13sZmlsZQ%3D%3D?line=8'>9</a>\u001b[0m \u001b[39mreturn\u001b[39;00m zipdir\n",
      "File \u001b[0;32m/opt/anaconda3/lib/python3.9/zipfile.py:1266\u001b[0m, in \u001b[0;36mZipFile.__init__\u001b[0;34m(self, file, mode, compression, allowZip64, compresslevel, strict_timestamps)\u001b[0m\n\u001b[1;32m   1264\u001b[0m \u001b[39mtry\u001b[39;00m:\n\u001b[1;32m   1265\u001b[0m     \u001b[39mif\u001b[39;00m mode \u001b[39m==\u001b[39m \u001b[39m'\u001b[39m\u001b[39mr\u001b[39m\u001b[39m'\u001b[39m:\n\u001b[0;32m-> 1266\u001b[0m         \u001b[39mself\u001b[39;49m\u001b[39m.\u001b[39;49m_RealGetContents()\n\u001b[1;32m   1267\u001b[0m     \u001b[39melif\u001b[39;00m mode \u001b[39min\u001b[39;00m (\u001b[39m'\u001b[39m\u001b[39mw\u001b[39m\u001b[39m'\u001b[39m, \u001b[39m'\u001b[39m\u001b[39mx\u001b[39m\u001b[39m'\u001b[39m):\n\u001b[1;32m   1268\u001b[0m         \u001b[39m# set the modified flag so central directory gets written\u001b[39;00m\n\u001b[1;32m   1269\u001b[0m         \u001b[39m# even if no files are added to the archive\u001b[39;00m\n\u001b[1;32m   1270\u001b[0m         \u001b[39mself\u001b[39m\u001b[39m.\u001b[39m_didModify \u001b[39m=\u001b[39m \u001b[39mTrue\u001b[39;00m\n",
      "File \u001b[0;32m/opt/anaconda3/lib/python3.9/zipfile.py:1333\u001b[0m, in \u001b[0;36mZipFile._RealGetContents\u001b[0;34m(self)\u001b[0m\n\u001b[1;32m   1331\u001b[0m     \u001b[39mraise\u001b[39;00m BadZipFile(\u001b[39m\"\u001b[39m\u001b[39mFile is not a zip file\u001b[39m\u001b[39m\"\u001b[39m)\n\u001b[1;32m   1332\u001b[0m \u001b[39mif\u001b[39;00m \u001b[39mnot\u001b[39;00m endrec:\n\u001b[0;32m-> 1333\u001b[0m     \u001b[39mraise\u001b[39;00m BadZipFile(\u001b[39m\"\u001b[39m\u001b[39mFile is not a zip file\u001b[39m\u001b[39m\"\u001b[39m)\n\u001b[1;32m   1334\u001b[0m \u001b[39mif\u001b[39;00m \u001b[39mself\u001b[39m\u001b[39m.\u001b[39mdebug \u001b[39m>\u001b[39m \u001b[39m1\u001b[39m:\n\u001b[1;32m   1335\u001b[0m     \u001b[39mprint\u001b[39m(endrec)\n",
      "\u001b[0;31mBadZipFile\u001b[0m: File is not a zip file"
     ]
    }
   ],
   "source": [
    "for i in locations:\n",
    "    zipdir = unzip(i)\n",
    "    imgfile, udmfile = get_composite_image_and_udm_files(zipdir)\n",
    "    print(imgfile)\n",
    "    \n",
    "    ndvi = read_ndvi_as_int(imgfile, udmfile)\n",
    "    not_clear = read_notclear(udmfile)\n",
    "    show_ndvi(downsample_img(crop_and_mask(ndvi, not_clear), 4), figsize=(20,20))"
   ]
  },
  {
   "attachments": {},
   "cell_type": "markdown",
   "metadata": {},
   "source": [
    "Okay, we got some beautiful NDVI images down! Note the UDM2 masking of pixels outside of the footprint and the occasional errant cloud or two."
   ]
  }
 ],
 "metadata": {
  "kernelspec": {
   "display_name": "Python 3 (ipykernel)",
   "language": "python",
   "name": "python3"
  },
  "language_info": {
   "codemirror_mode": {
    "name": "ipython",
    "version": 3
   },
   "file_extension": ".py",
   "mimetype": "text/x-python",
   "name": "python",
   "nbconvert_exporter": "python",
   "pygments_lexer": "ipython3",
   "version": "3.9.12"
  }
 },
 "nbformat": 4,
 "nbformat_minor": 4
}
