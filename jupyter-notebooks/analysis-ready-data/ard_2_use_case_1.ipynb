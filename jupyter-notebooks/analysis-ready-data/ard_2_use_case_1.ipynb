{
 "cells": [
  {
   "cell_type": "markdown",
   "metadata": {},
   "source": [
    "# Analysis Ready Data Tutorial Part 2: Use Case 1\n",
    "\n",
    "Time-series analysis (e.g. change detection and trend detection) is a powerful application of satellite imagery. However, a great deal of processing is required to prepare imagery for analysis. Analysis Ready Data (ARD), preprocessed time-series stacks of overhead imagery, allow for time-series analysis without any additional processing of the imagery. See [Analysis Data Defined](https://medium.com/planet-stories/analysis-ready-data-defined-5694f6f48815) for an excellent introduction and discussion on ARD.\n",
    "\n",
    "In [Part 1](ard_1_intro_and_best_practices.ipynb) of this tutorial, we introduced ARD and covered the how and whys of using the Data and Orders APIs to create and interpret ARD.\n",
    "\n",
    "This second part of the tutorial focuses on the first of two use cases. The use case addressed in this tutorial is:\n",
    "\n",
    "* As a software engineer at an ag-tech company, I'd like to be able to order Planet imagery programmatically in a way that enables the data scientist at my organization to create time-series algorithms (e.g. monitoring ndvi curves over time) without further data cleaning and processing.\n",
    "\n",
    "Please see the first part of the tutorial for an introduction to the Data and Orders APIs along with best practices. A lot of functionality developed in that tutorial will be copied here in a compact form.\n",
    "\n",
    "## Introduction\n",
    "\n",
    "Two things are interesting about this use case. First, we are calculating NDVI, and second, we are compositing scenes together. What is NDVI and what is compositing and why do we want to do it?\n",
    "\n",
    "Great questions!\n",
    "\n",
    "First, NDVI stands for normalized difference vegitation index. It is used a **LOT** to find out if vegetation is growing. You can find out more about NDVI at [USGS](https://www.usgs.gov/land-resources/eros/phenology/science/ndvi-foundation-remote-sensing-phenology?qt-science_center_objects=0#qt-science_center_objects) and [Wikipedia](https://en.wikipedia.org/wiki/Normalized_difference_vegetation_index). What we care about here is that NDVI uses the red and near-infrared bands of an image and returns one band with values that range from -1 to 1. So, we expect a single-band image for each order.\n",
    "\n",
    "Compositing is a way to stitch multiple scenes together for maximum coverage. We want this because for a time series, we just want one image for each date and we want that one image to have the most coverage to minimize holes in our data. The composite tool takes in multiple scenes and returns one image. If we feed it scenes from a whole timestack, we still just get one image back! So, to avoid that disaster, we group our scenes by date and only composite the scenes that were collected on the same date.\n",
    "\n",
    "\n",
    "## Implementation\n",
    "\n",
    "The use case we will cover is: *As a software engineer at an ag-tech company, I'd like to be able to order Planet imagery programmatically in a way that enables the data scientist at my organization to create time-series algorithms (e.g. monitoring ndvi curves over time) without further data cleaning and processing.*\n",
    "\n",
    "For this use case, the area of interest and time range are not specified. The need for no further processing indicates we should specify a strict usable pixel data filter. For time-series analysis the daily coverage of PS satellites is ideal. For our time-series analysis, we would like a single image that covers the entire area of interest (AOI). However, it may take multiple scenes to cover the entire AOI. Therefore, we will use the Composite tool to make a composite for each day in the time series analysis. This is a little tricky because the Composite tool just composites all of the scenes associated with the ids ordered. So we need to parse the scene ids we got from the Data API to get scene ids for each day, then submit an order for each day.\n",
    "\n",
    "To summarize, these are the steps:\n",
    "1. [Initialize API client](#Step-1:-Initialize-API-client)\n",
    "1. [Search Data API](#Step-2:-Search-Data-API)\n",
    "1. [Group IDs by Date](#Step-3:-Group-IDs-by-Date)\n",
    "1. [Submit Orders](#Step-4:-Submit-Orders)\n",
    "1. [Download Orders](#Step-5:-Download-Orders)\n",
    "1. [Unzip and Verify Orders](#Step-6:-Unzip-and-Verify-Orders)\n",
    "\n",
    "Note that, due to the processing-intensiveness of visualizing the NDVI images and UDM2s, we will be covering visualization in the next notebook, [Analysis Ready Data Tutorial Part 2: Use Case 1 - Visualization](ard_2_use_case_1_visualize_images.ipynb)\n",
    "\n",
    "#### Import Dependencies"
   ]
  },
  {
   "cell_type": "code",
   "execution_count": 77,
   "metadata": {},
   "outputs": [],
   "source": [
    "import asyncio\n",
    "from copy import copy\n",
    "import datetime\n",
    "import json\n",
    "import os\n",
    "from pathlib import Path\n",
    "from pprint import pprint\n",
    "import shutil\n",
    "import time\n",
    "from zipfile import ZipFile\n",
    "\n",
    "import numpy as np\n",
    "from planet import Auth\n",
    "from planet import Session, DataClient, OrdersClient"
   ]
  },
  {
   "cell_type": "markdown",
   "metadata": {},
   "source": [
    "#### Step 1: Initialize API client"
   ]
  },
  {
   "cell_type": "code",
   "execution_count": 3,
   "metadata": {},
   "outputs": [],
   "source": [
    "# if your Planet API Key is not set as an environment variable, you can paste it below\n",
    "API_KEY = os.environ.get('PL_API_KEY', 'PASTE_YOUR_KEY_HERE')\n",
    "\n",
    "client = Auth.from_key(API_KEY)"
   ]
  },
  {
   "cell_type": "markdown",
   "metadata": {},
   "source": [
    "#### Step 2: Search Data API\n",
    "\n",
    "The goal of this step is to get the scene ids that meet the search criteria for this use case."
   ]
  },
  {
   "cell_type": "code",
   "execution_count": 6,
   "metadata": {},
   "outputs": [],
   "source": [
    "# define test data for the filter\n",
    "\n",
    "# iowa crops aoi\n",
    "test_aoi_geom = {\n",
    "    \"type\": \"Polygon\",\n",
    "    \"coordinates\": [\n",
    "        [\n",
    "            [-93.299129, 42.699599],\n",
    "            [-93.299674, 42.812757],\n",
    "            [-93.288436, 42.861921],\n",
    "            [-93.265332, 42.924817],\n",
    "            [-92.993873, 42.925124],\n",
    "            [-92.993888, 42.773637],\n",
    "            [-92.998396, 42.754529],\n",
    "            [-93.019154, 42.699988],\n",
    "            [-93.299129, 42.699599]\n",
    "        ]\n",
    "    ]\n",
    "}\n",
    "\n",
    "### Let's search:\n",
    "# for the geometry above\n",
    "# a PSScene image\n",
    "# Date Range: April 1st - May 1st 2019\n",
    "# Clear Percent: 90% or above"
   ]
  },
  {
   "cell_type": "code",
   "execution_count": 7,
   "metadata": {},
   "outputs": [],
   "source": [
    "# create an API Request from the search specifications\n",
    "\n",
    "item_type = ['PSScene']\n",
    "\n",
    "geom_filter = {\n",
    "   \"type\":\"GeometryFilter\",\n",
    "   \"field_name\":\"geometry\",\n",
    "   \"config\":test_aoi_geom\n",
    "}\n",
    "\n",
    "clear_percent_filter = {\n",
    "\"type\":\"RangeFilter\",\n",
    "\"field_name\":\"clear_percent\",\n",
    "\"config\":{\n",
    "  \"gte\":0.9}\n",
    "}\n",
    "\n",
    "date_range_filter = {\n",
    "\"type\":\"DateRangeFilter\",\n",
    "\"field_name\":\"acquired\",\n",
    "\"config\":{\n",
    "  \"gt\":\"2019-04-01T00:00:00Z\", \n",
    "   \"lt\": \"2019-05-01T00:00:00Z\"}\n",
    "}\n",
    "\n",
    "combined_filter = {\n",
    "\"type\":\"AndFilter\",\n",
    "\"config\":[\n",
    "    geom_filter,\n",
    "    date_range_filter,\n",
    "    clear_percent_filter]\n",
    "}\n",
    "\n",
    "async with Session() as sess:\n",
    "    cl = DataClient(sess)\n",
    "    request = await cl.create_search(name='temp_search2',search_filter=combined_filter, item_types=item_type)\n"
   ]
  },
  {
   "cell_type": "code",
   "execution_count": 8,
   "metadata": {},
   "outputs": [
    {
     "data": {
      "text/plain": [
       "{'__daily_email_enabled': False,\n",
       " '_links': {'_self': 'https://api.planet.com/data/v1/searches/175c0105d4b14866b34b2e2ecf4c8345',\n",
       "  'results': 'https://api.planet.com/data/v1/searches/175c0105d4b14866b34b2e2ecf4c8345/results'},\n",
       " 'created': '2022-07-25T18:57:01.478646Z',\n",
       " 'filter': {'config': [{'config': {'coordinates': [[[-93.299129, 42.699599],\n",
       "       [-93.299674, 42.812757],\n",
       "       [-93.288436, 42.861921],\n",
       "       [-93.265332, 42.924817],\n",
       "       [-92.993873, 42.925124],\n",
       "       [-92.993888, 42.773637],\n",
       "       [-92.998396, 42.754529],\n",
       "       [-93.019154, 42.699988],\n",
       "       [-93.299129, 42.699599]]],\n",
       "     'type': 'Polygon'},\n",
       "    'field_name': 'geometry',\n",
       "    'type': 'GeometryFilter'},\n",
       "   {'config': {'gt': '2019-04-01T00:00:00Z', 'lt': '2019-05-01T00:00:00Z'},\n",
       "    'field_name': 'acquired',\n",
       "    'type': 'DateRangeFilter'},\n",
       "   {'config': {'gte': 0.9},\n",
       "    'field_name': 'clear_percent',\n",
       "    'type': 'RangeFilter'}],\n",
       "  'type': 'AndFilter'},\n",
       " 'id': '175c0105d4b14866b34b2e2ecf4c8345',\n",
       " 'item_types': ['PSScene'],\n",
       " 'last_executed': None,\n",
       " 'name': 'temp_search2',\n",
       " 'search_type': 'saved',\n",
       " 'updated': '2022-07-25T18:57:01.478646Z'}"
      ]
     },
     "execution_count": 8,
     "metadata": {},
     "output_type": "execute_result"
    }
   ],
   "source": [
    "# Let's look at our search request.\n",
    "# Note: This is just the request's structure, the search hasn't been implemented yet\n",
    "request"
   ]
  },
  {
   "cell_type": "code",
   "execution_count": 9,
   "metadata": {},
   "outputs": [],
   "source": [
    "# Search the Data API\n",
    "async with Session() as sess:\n",
    "    cl = DataClient(sess)\n",
    "    items = await cl.run_search(search_id=request['id'])\n",
    "    item_list = [i async for i in items]"
   ]
  },
  {
   "cell_type": "code",
   "execution_count": 10,
   "metadata": {},
   "outputs": [
    {
     "name": "stdout",
     "output_type": "stream",
     "text": [
      "100\n"
     ]
    }
   ],
   "source": [
    "print(len(item_list))"
   ]
  },
  {
   "cell_type": "markdown",
   "metadata": {},
   "source": [
    "#### Step 3: Group IDs by Date"
   ]
  },
  {
   "cell_type": "code",
   "execution_count": 73,
   "metadata": {
    "scrolled": true
   },
   "outputs": [
    {
     "name": "stdout",
     "output_type": "stream",
     "text": [
      "{'_links': {'_self': 'https://api.planet.com/data/v1/item-types/PSScene/items/20190415_163716_1035', 'assets': 'https://api.planet.com/data/v1/item-types/PSScene/items/20190415_163716_1035/assets/', 'thumbnail': 'https://tiles.planet.com/data/v1/item-types/PSScene/items/20190415_163716_1035/thumb'}, '_permissions': ['assets.basic_analytic_4b:download', 'assets.basic_analytic_4b_rpc:download', 'assets.basic_analytic_4b_xml:download', 'assets.basic_udm2:download', 'assets.ortho_analytic_3b:download', 'assets.ortho_analytic_3b_xml:download', 'assets.ortho_analytic_4b:download', 'assets.ortho_analytic_4b_sr:download', 'assets.ortho_analytic_4b_xml:download', 'assets.ortho_udm2:download', 'assets.ortho_visual:download', 'assets.ps3b_analytic:download', 'assets.ps3b_analytic_dn:download', 'assets.ps3b_analytic_dn_xml:download', 'assets.ps3b_analytic_xml:download', 'assets.ps3b_basic_analytic:download', 'assets.ps3b_basic_analytic_dn:download', 'assets.ps3b_basic_analytic_dn_rpc:download', 'assets.ps3b_basic_analytic_dn_xml:download', 'assets.ps3b_basic_analytic_rpc:download', 'assets.ps3b_basic_analytic_xml:download', 'assets.ps3b_basic_udm:download', 'assets.ps3b_udm:download', 'assets.ps3b_visual_xml:download', 'assets.ps4b_analytic:download', 'assets.ps4b_analytic_dn:download', 'assets.ps4b_analytic_dn_xml:download', 'assets.ps4b_analytic_sr:download', 'assets.ps4b_analytic_xml:download', 'assets.ps4b_basic_analytic:download', 'assets.ps4b_basic_analytic_dn:download', 'assets.ps4b_basic_analytic_dn_nitf:download', 'assets.ps4b_basic_analytic_dn_rpc:download', 'assets.ps4b_basic_analytic_dn_rpc_nitf:download', 'assets.ps4b_basic_analytic_dn_xml:download', 'assets.ps4b_basic_analytic_dn_xml_nitf:download', 'assets.ps4b_basic_analytic_nitf:download', 'assets.ps4b_basic_analytic_rpc:download', 'assets.ps4b_basic_analytic_rpc_nitf:download', 'assets.ps4b_basic_analytic_xml:download', 'assets.ps4b_basic_analytic_xml_nitf:download', 'assets.ps4b_basic_udm:download', 'assets.ps4b_udm:download'], 'assets': ['basic_analytic_4b', 'basic_analytic_4b_rpc', 'basic_analytic_4b_xml', 'basic_udm2', 'ortho_analytic_3b', 'ortho_analytic_3b_xml', 'ortho_analytic_4b', 'ortho_analytic_4b_sr', 'ortho_analytic_4b_xml', 'ortho_udm2', 'ortho_visual', 'ps3b_analytic', 'ps3b_analytic_dn', 'ps3b_analytic_dn_xml', 'ps3b_analytic_xml', 'ps3b_basic_analytic', 'ps3b_basic_analytic_dn', 'ps3b_basic_analytic_dn_rpc', 'ps3b_basic_analytic_dn_xml', 'ps3b_basic_analytic_rpc', 'ps3b_basic_analytic_xml', 'ps3b_basic_udm', 'ps3b_udm', 'ps3b_visual_xml', 'ps4b_analytic', 'ps4b_analytic_dn', 'ps4b_analytic_dn_xml', 'ps4b_analytic_sr', 'ps4b_analytic_xml', 'ps4b_basic_analytic', 'ps4b_basic_analytic_dn', 'ps4b_basic_analytic_dn_nitf', 'ps4b_basic_analytic_dn_rpc', 'ps4b_basic_analytic_dn_rpc_nitf', 'ps4b_basic_analytic_dn_xml', 'ps4b_basic_analytic_dn_xml_nitf', 'ps4b_basic_analytic_nitf', 'ps4b_basic_analytic_rpc', 'ps4b_basic_analytic_rpc_nitf', 'ps4b_basic_analytic_xml', 'ps4b_basic_analytic_xml_nitf', 'ps4b_basic_udm', 'ps4b_udm'], 'geometry': {'coordinates': [[[-92.99950815013342, 42.89131122764822], [-93.0216806205871, 42.81832452851653], [-92.7123535253401, 42.76766016662267], [-92.69045404634306, 42.84053967847285], [-92.99950815013342, 42.89131122764822]]], 'type': 'Polygon'}, 'id': '20190415_163716_1035', 'properties': {'acquired': '2019-04-15T16:37:16.944964Z', 'anomalous_pixels': 0, 'clear_confidence_percent': 96, 'clear_percent': 80, 'cloud_cover': 0.01, 'cloud_percent': 1, 'ground_control': True, 'gsd': 3.9, 'heavy_haze_percent': 0, 'instrument': 'PS2', 'item_type': 'PSScene', 'light_haze_percent': 19, 'pixel_resolution': 3, 'provider': 'planetscope', 'published': '2021-03-09T09:30:56Z', 'publishing_stage': 'finalized', 'quality_category': 'standard', 'satellite_azimuth': 105.5, 'satellite_id': '1035', 'shadow_percent': 1, 'snow_ice_percent': 0, 'strip_id': '2287030', 'sun_azimuth': 141.4, 'sun_elevation': 51.3, 'updated': '2021-03-09T09:30:56Z', 'view_angle': 2, 'visible_confidence_percent': 85, 'visible_percent': 99}, 'type': 'Feature'}\n"
     ]
    }
   ],
   "source": [
    "# check out an item just for fun\n",
    "print(item_list[0])"
   ]
  },
  {
   "cell_type": "code",
   "execution_count": 12,
   "metadata": {},
   "outputs": [
    {
     "data": {
      "text/plain": [
       "'2019-04-15'"
      ]
     },
     "execution_count": 12,
     "metadata": {},
     "output_type": "execute_result"
    }
   ],
   "source": [
    "# let's grab this first item in our list and look at the date it was acquired\n",
    "item = item_list[0]\n",
    "acquired_date = item['properties']['acquired'].split('T')[0]\n",
    "acquired_date"
   ]
  },
  {
   "cell_type": "code",
   "execution_count": 13,
   "metadata": {},
   "outputs": [],
   "source": [
    "# We can create a function to get the acquired dates for all of our search results\n",
    "def get_acquired_date(item):\n",
    "    return item['properties']['acquired'].split('T')[0]\n",
    "\n",
    "acquired_dates = [get_acquired_date(item) for item in item_list]"
   ]
  },
  {
   "cell_type": "code",
   "execution_count": 14,
   "metadata": {},
   "outputs": [
    {
     "data": {
      "text/plain": [
       "{'2019-04-09',\n",
       " '2019-04-15',\n",
       " '2019-04-16',\n",
       " '2019-04-17',\n",
       " '2019-04-18',\n",
       " '2019-04-19',\n",
       " '2019-04-20',\n",
       " '2019-04-21',\n",
       " '2019-04-23',\n",
       " '2019-04-24',\n",
       " '2019-04-26',\n",
       " '2019-04-29'}"
      ]
     },
     "execution_count": 14,
     "metadata": {},
     "output_type": "execute_result"
    }
   ],
   "source": [
    "# Let's look at the unique values of Acquired Date for our results\n",
    "unique_acquired_dates = set(acquired_dates)\n",
    "unique_acquired_dates"
   ]
  },
  {
   "cell_type": "code",
   "execution_count": 15,
   "metadata": {
    "scrolled": true
   },
   "outputs": [
    {
     "name": "stdout",
     "output_type": "stream",
     "text": [
      "{'2019-04-09': ['20190409_153931_0f4a',\n",
      "                '20190409_153932_0f4a',\n",
      "                '20190409_153933_0f4a',\n",
      "                '20190409_153929_0f4a',\n",
      "                '20190409_153930_0f4a'],\n",
      " '2019-04-15': ['20190415_163716_1035',\n",
      "                '20190415_163719_1035',\n",
      "                '20190415_163717_1035',\n",
      "                '20190415_163715_1035',\n",
      "                '20190415_164131_0f22',\n",
      "                '20190415_164130_0f22'],\n",
      " '2019-04-16': ['20190416_153839_1020',\n",
      "                '20190416_153838_1020',\n",
      "                '20190416_153837_1020',\n",
      "                '20190416_153836_1020',\n",
      "                '20190416_153840_1020',\n",
      "                '20190416_163752_1001',\n",
      "                '20190416_163845_1002'],\n",
      " '2019-04-17': ['20190417_153957_0f2b',\n",
      "                '20190417_153959_0f2b',\n",
      "                '20190417_153958_0f2b',\n",
      "                '20190417_154000_0f2b'],\n",
      " '2019-04-18': ['20190418_164023_103a'],\n",
      " '2019-04-19': ['20190419_164002_1035',\n",
      "                '20190419_164003_1035',\n",
      "                '20190419_164000_1035',\n",
      "                '20190419_164001_1035',\n",
      "                '20190419_164004_1035'],\n",
      " '2019-04-20': ['20190420_164137_1002',\n",
      "                '20190420_164136_1002',\n",
      "                '20190420_164135_1002',\n",
      "                '20190420_164134_1002',\n",
      "                '20190420_164133_1002',\n",
      "                '20190420_163148_0e19',\n",
      "                '20190420_163149_0e19',\n",
      "                '20190420_163153_0e19',\n",
      "                '20190420_163150_0e19',\n",
      "                '20190420_163152_0e19'],\n",
      " '2019-04-21': ['20190421_164036_1011',\n",
      "                '20190421_164035_1011',\n",
      "                '20190421_164033_1011',\n",
      "                '20190421_164037_1011',\n",
      "                '20190421_164034_1011',\n",
      "                '20190421_165015_92_105d',\n",
      "                '20190421_165019_96_105d',\n",
      "                '20190421_165017_94_105d',\n",
      "                '20190421_153723_0f46',\n",
      "                '20190421_153725_0f46',\n",
      "                '20190421_153724_0f46',\n",
      "                '20190421_153722_0f46',\n",
      "                '20190421_153722_1_0f46'],\n",
      " '2019-04-23': ['20190423_164035_0f15',\n",
      "                '20190423_164036_0f15',\n",
      "                '20190423_164033_0f15',\n",
      "                '20190423_164037_0f15',\n",
      "                '20190423_164034_0f15',\n",
      "                '20190423_164113_0f12',\n",
      "                '20190423_164114_0f12',\n",
      "                '20190423_164115_0f12',\n",
      "                '20190423_164112_0f12',\n",
      "                '20190423_153728_0f36',\n",
      "                '20190423_153729_0f36',\n",
      "                '20190423_153725_0f36',\n",
      "                '20190423_153726_0f36',\n",
      "                '20190423_153727_0f36'],\n",
      " '2019-04-24': ['20190424_163723_0f35',\n",
      "                '20190424_163721_0f35',\n",
      "                '20190424_163724_0f35',\n",
      "                '20190424_163725_0f35',\n",
      "                '20190424_163720_0f35',\n",
      "                '20190424_153652_1020',\n",
      "                '20190424_153651_1020',\n",
      "                '20190424_153650_1020',\n",
      "                '20190424_153649_1020',\n",
      "                '20190424_153648_1020',\n",
      "                '20190424_163409_0e19',\n",
      "                '20190424_163404_0e19',\n",
      "                '20190424_163405_0e19',\n",
      "                '20190424_163408_0e19',\n",
      "                '20190424_163407_0e19'],\n",
      " '2019-04-26': ['20190426_163458_0e3a',\n",
      "                '20190426_163501_0e3a',\n",
      "                '20190426_163500_0e3a',\n",
      "                '20190426_163459_0e3a',\n",
      "                '20190426_170325_31_105c',\n",
      "                '20190426_153655_1054',\n",
      "                '20190426_153657_1054',\n",
      "                '20190426_153656_1054',\n",
      "                '20190426_153658_1054',\n",
      "                '20190426_153656_1_1054',\n",
      "                '20190426_170322_82_105c',\n",
      "                '20190426_170320_32_105c'],\n",
      " '2019-04-29': ['20190429_164315_1012',\n",
      "                '20190429_164316_1012',\n",
      "                '20190429_164314_1012',\n",
      "                '20190429_164050_0f4e',\n",
      "                '20190429_164049_0f4e',\n",
      "                '20190429_164051_0f4e',\n",
      "                '20190429_164047_0f4e',\n",
      "                '20190429_164048_0f4e']}\n"
     ]
    }
   ],
   "source": [
    "# We can also list our Image IDs grouped based on Acquired Date\n",
    "\n",
    "def get_date_item_ids(date, all_items):\n",
    "    return [i['id'] for i in all_items if get_acquired_date(i) == date]\n",
    "\n",
    "def get_ids_by_date(items):\n",
    "    acquired_dates = [get_acquired_date(item) for item in items]\n",
    "    unique_acquired_dates = set(acquired_dates)\n",
    "    \n",
    "    ids_by_date = dict((d, get_date_item_ids(d, items))\n",
    "                       for d in unique_acquired_dates)\n",
    "    return ids_by_date\n",
    "    \n",
    "ids_by_date = get_ids_by_date(item_list)\n",
    "pprint(ids_by_date)"
   ]
  },
  {
   "cell_type": "code",
   "execution_count": 29,
   "metadata": {
    "scrolled": true
   },
   "outputs": [
    {
     "data": {
      "text/plain": [
       "['20190421_164036_1011',\n",
       " '20190421_164035_1011',\n",
       " '20190421_164033_1011',\n",
       " '20190421_164037_1011',\n",
       " '20190421_164034_1011',\n",
       " '20190421_165015_92_105d',\n",
       " '20190421_165019_96_105d',\n",
       " '20190421_165017_94_105d',\n",
       " '20190421_153723_0f46',\n",
       " '20190421_153725_0f46',\n",
       " '20190421_153724_0f46',\n",
       " '20190421_153722_0f46',\n",
       " '20190421_153722_1_0f46']"
      ]
     },
     "execution_count": 29,
     "metadata": {},
     "output_type": "execute_result"
    }
   ],
   "source": [
    "ids_by_date[list(unique_acquired_dates)[0]]"
   ]
  },
  {
   "cell_type": "markdown",
   "metadata": {},
   "source": [
    "#### Step 4: Submit Orders\n",
    "\n",
    "Now that we have the scene ids for each collect date, we can create the orders for each date. The output of each order is a single zip file that contains one composited scene and one composited UDM2.\n",
    "\n",
    "For this step we will just use the python api. See part 1 for a demonstration of how to use the CLI.\n",
    "\n",
    "##### Step 4.1: Build Order Toolchain"
   ]
  },
  {
   "cell_type": "code",
   "execution_count": 19,
   "metadata": {},
   "outputs": [],
   "source": [
    "item_type = 'PSScene'\n",
    "bundle = 'analytic_sr_udm2'\n",
    "name = 'tutorial_order2'"
   ]
  },
  {
   "cell_type": "code",
   "execution_count": 20,
   "metadata": {},
   "outputs": [
    {
     "name": "stdout",
     "output_type": "stream",
     "text": [
      "[{'clip': {'aoi': {'coordinates': [[[-93.299129, 42.699599],\n",
      "                                    [-93.299674, 42.812757],\n",
      "                                    [-93.288436, 42.861921],\n",
      "                                    [-93.265332, 42.924817],\n",
      "                                    [-92.993873, 42.925124],\n",
      "                                    [-92.993888, 42.773637],\n",
      "                                    [-92.998396, 42.754529],\n",
      "                                    [-93.019154, 42.699988],\n",
      "                                    [-93.299129, 42.699599]]],\n",
      "                   'type': 'Polygon'}}},\n",
      " {'bandmath': {'b1': '(b4 - b3) / (b4+b3)', 'pixel_type': '32R'}}]\n"
     ]
    }
   ],
   "source": [
    "# specify tools\n",
    "\n",
    "# clip to AOI\n",
    "clip_tool = {'clip': {'aoi': test_aoi_geom}}\n",
    "\n",
    "# convert to NDVI\n",
    "bandmath_tool = {'bandmath': {\n",
    "    \"pixel_type\": \"32R\",\n",
    "    \"b1\": \"(b4 - b3) / (b4+b3)\"\n",
    "}}\n",
    "\n",
    "tools = [clip_tool, bandmath_tool]\n",
    "pprint(tools)"
   ]
  },
  {
   "cell_type": "code",
   "execution_count": 31,
   "metadata": {},
   "outputs": [],
   "source": [
    "# Build the order request\n",
    "# We will put this into a function so we can loop over all of our dates/image_IDs of interest.\n",
    "def build_order_request(ids):\n",
    "    orders_request = {\n",
    "        \"name\": name,\n",
    "        \"products\": [{\n",
    "            \"item_ids\": ids,\n",
    "            \"item_type\": item_type,\n",
    "            \"product_bundle\": bundle\n",
    "        }],\n",
    "        \"tools\": tools,\n",
    "        \"delivery\": {\n",
    "            \"single_archive\": True,\n",
    "            \"archive_filename\":\"{{name}}_{{order_id}}.zip\",\n",
    "            \"archive_type\":\"zip\"\n",
    "        },\n",
    "            \"notifications\": {\n",
    "                       \"email\": False\n",
    "        },\n",
    "    }\n",
    "    return orders_request"
   ]
  },
  {
   "cell_type": "code",
   "execution_count": 35,
   "metadata": {
    "scrolled": true
   },
   "outputs": [
    {
     "name": "stdout",
     "output_type": "stream",
     "text": [
      "{'name': 'tutorial_order2', 'products': [{'item_ids': ['20190421_164036_1011', '20190421_164035_1011', '20190421_164033_1011', '20190421_164037_1011', '20190421_164034_1011', '20190421_165015_92_105d', '20190421_165019_96_105d', '20190421_165017_94_105d', '20190421_153723_0f46', '20190421_153725_0f46', '20190421_153724_0f46', '20190421_153722_0f46', '20190421_153722_1_0f46'], 'item_type': 'PSScene', 'product_bundle': 'analytic_sr_udm2'}], 'tools': [{'clip': {'aoi': {'type': 'Polygon', 'coordinates': [[[-93.299129, 42.699599], [-93.299674, 42.812757], [-93.288436, 42.861921], [-93.265332, 42.924817], [-92.993873, 42.925124], [-92.993888, 42.773637], [-92.998396, 42.754529], [-93.019154, 42.699988], [-93.299129, 42.699599]]]}}}, {'bandmath': {'pixel_type': '32R', 'b1': '(b4 - b3) / (b4+b3)'}}], 'delivery': {'single_archive': True, 'archive_filename': '{{name}}_{{order_id}}.zip', 'archive_type': 'zip'}, 'notifications': {'email': False}}\n"
     ]
    }
   ],
   "source": [
    "list_of_order_requests = []\n",
    "\n",
    "for date in list(unique_acquired_dates):\n",
    "    ids = ids_by_date[date]\n",
    "    list_of_order_requests.append(build_order_request(ids))\n",
    "    \n",
    "print(list_of_order_requests)"
   ]
  },
  {
   "cell_type": "markdown",
   "metadata": {},
   "source": [
    "##### Step 4.2: Submit Orders\n",
    "\n",
    "In this section, for the sake of demonstration, we limit our orders to 2. Feel free to increase this limit if you want!"
   ]
  },
  {
   "cell_type": "code",
   "execution_count": 42,
   "metadata": {},
   "outputs": [],
   "source": [
    "order_limit = 2\n",
    "list_orders = []\n",
    "\n",
    "# Place the order\n",
    "for order_request in list_of_order_requests[:order_limit]:\n",
    "    async with Session() as sess:\n",
    "        cl = OrdersClient(sess)\n",
    "        order = await cl.create_order(order_request)\n",
    "    list_orders.append(order)"
   ]
  },
  {
   "cell_type": "code",
   "execution_count": 58,
   "metadata": {},
   "outputs": [
    {
     "data": {
      "text/plain": [
       "[{'_links': {'_self': 'https://api.planet.com/compute/ops/orders/v2/70e9be9b-8660-4415-b9fa-49800d322190'},\n",
       "  'created_on': '2022-07-25T19:50:01.876Z',\n",
       "  'delivery': {'archive_filename': '{{name}}_{{order_id}}.zip',\n",
       "   'archive_type': 'zip',\n",
       "   'single_archive': True},\n",
       "  'error_hints': [],\n",
       "  'id': '70e9be9b-8660-4415-b9fa-49800d322190',\n",
       "  'last_message': 'Preparing order',\n",
       "  'last_modified': '2022-07-25T19:50:01.876Z',\n",
       "  'name': 'tutorial_order2',\n",
       "  'notifications': {},\n",
       "  'products': [{'item_ids': ['20190421_153722_1_0f46',\n",
       "     '20190421_164034_1011',\n",
       "     '20190421_165015_92_105d',\n",
       "     '20190421_153723_0f46',\n",
       "     '20190421_153724_0f46',\n",
       "     '20190421_165019_96_105d',\n",
       "     '20190421_165017_94_105d',\n",
       "     '20190421_153725_0f46',\n",
       "     '20190421_153722_0f46',\n",
       "     '20190421_164036_1011',\n",
       "     '20190421_164035_1011',\n",
       "     '20190421_164033_1011',\n",
       "     '20190421_164037_1011'],\n",
       "    'item_type': 'PSScene',\n",
       "    'product_bundle': 'analytic_sr_udm2'}],\n",
       "  'state': 'queued',\n",
       "  'tools': [{'clip': {'aoi': {'coordinates': [[[-93.299129, 42.699599],\n",
       "        [-93.299674, 42.812757],\n",
       "        [-93.288436, 42.861921],\n",
       "        [-93.265332, 42.924817],\n",
       "        [-92.993873, 42.925124],\n",
       "        [-92.993888, 42.773637],\n",
       "        [-92.998396, 42.754529],\n",
       "        [-93.019154, 42.699988],\n",
       "        [-93.299129, 42.699599]]],\n",
       "      'type': 'Polygon'}}},\n",
       "   {'bandmath': {'b1': '(b4 - b3) / (b4+b3)', 'pixel_type': '32R'}}]},\n",
       " {'_links': {'_self': 'https://api.planet.com/compute/ops/orders/v2/4fbe5507-5145-48ba-bf4b-be6dd1b5faa9'},\n",
       "  'created_on': '2022-07-25T19:50:02.968Z',\n",
       "  'delivery': {'archive_filename': '{{name}}_{{order_id}}.zip',\n",
       "   'archive_type': 'zip',\n",
       "   'single_archive': True},\n",
       "  'error_hints': [],\n",
       "  'id': '4fbe5507-5145-48ba-bf4b-be6dd1b5faa9',\n",
       "  'last_message': 'Preparing order',\n",
       "  'last_modified': '2022-07-25T19:50:02.968Z',\n",
       "  'name': 'tutorial_order2',\n",
       "  'notifications': {},\n",
       "  'products': [{'item_ids': ['20190417_153957_0f2b',\n",
       "     '20190417_153959_0f2b',\n",
       "     '20190417_153958_0f2b',\n",
       "     '20190417_154000_0f2b'],\n",
       "    'item_type': 'PSScene',\n",
       "    'product_bundle': 'analytic_sr_udm2'}],\n",
       "  'state': 'queued',\n",
       "  'tools': [{'clip': {'aoi': {'coordinates': [[[-93.299129, 42.699599],\n",
       "        [-93.299674, 42.812757],\n",
       "        [-93.288436, 42.861921],\n",
       "        [-93.265332, 42.924817],\n",
       "        [-92.993873, 42.925124],\n",
       "        [-92.993888, 42.773637],\n",
       "        [-92.998396, 42.754529],\n",
       "        [-93.019154, 42.699988],\n",
       "        [-93.299129, 42.699599]]],\n",
       "      'type': 'Polygon'}}},\n",
       "   {'bandmath': {'b1': '(b4 - b3) / (b4+b3)', 'pixel_type': '32R'}}]}]"
      ]
     },
     "execution_count": 58,
     "metadata": {},
     "output_type": "execute_result"
    }
   ],
   "source": [
    "# View the orders info\n",
    "list_orders"
   ]
  },
  {
   "cell_type": "markdown",
   "metadata": {},
   "source": [
    "### Step 5: Download Orders\n",
    "\n",
    "##### Step 5.1: Wait Until Orders are Successful\n",
    "\n",
    "Before we can download the orders, they have to be prepared on the server.\n",
    "\n",
    "##### Step 5.2: Run Download\n",
    "\n",
    "For this step we will use the planet python orders API because we want to be able to download multiple orders at once, something the CLI does not yet support."
   ]
  },
  {
   "cell_type": "code",
   "execution_count": 67,
   "metadata": {},
   "outputs": [
    {
     "name": "stdout",
     "output_type": "stream",
     "text": [
      "['70e9be9b-8660-4415-b9fa-49800d322190', '4fbe5507-5145-48ba-bf4b-be6dd1b5faa9']\n"
     ]
    }
   ],
   "source": [
    "# Since we have multiple Order IDs, let's get them into a list\n",
    "order_id_list = []\n",
    "\n",
    "for order in list_orders:\n",
    "    order_id = order[\"id\"]\n",
    "    order_id_list.append(order_id)\n",
    "    \n",
    "print(order_id_list)"
   ]
  },
  {
   "cell_type": "code",
   "execution_count": 64,
   "metadata": {},
   "outputs": [],
   "source": [
    "data_dir = os.path.join('data', 'use_case_1')\n",
    "\n",
    "# make the download directory if it doesn't exist\n",
    "Path(data_dir).mkdir(parents=True, exist_ok=True)"
   ]
  },
  {
   "cell_type": "code",
   "execution_count": 72,
   "metadata": {},
   "outputs": [],
   "source": [
    "# First, we will make sure the orders have reached a downloadable state. \n",
    "# Then, we will download the orders.\n",
    "# This may take several minutes.\n",
    "\n",
    "async with Session() as sess:\n",
    "        client = OrdersClient(sess)\n",
    "        await asyncio.gather(\n",
    "            client.wait(order_id_list[0]),\n",
    "            client.wait(order_id_list[1]),\n",
    "        )\n",
    "        await asyncio.gather(\n",
    "            client.download_order(order_id_list[0], data_dir, client),\n",
    "            client.download_order(order_id_list[1], data_dir, client),\n",
    "        )"
   ]
  },
  {
   "cell_type": "code",
   "execution_count": 74,
   "metadata": {},
   "outputs": [
    {
     "name": "stdout",
     "output_type": "stream",
     "text": [
      "\u001b[34m4fbe5507-5145-48ba-bf4b-be6dd1b5faa9\u001b[m\u001b[m \u001b[34m70e9be9b-8660-4415-b9fa-49800d322190\u001b[m\u001b[m\r\n"
     ]
    }
   ],
   "source": [
    "# Let's check our downloaded file locations\n",
    "!ls data/use_case_1"
   ]
  },
  {
   "cell_type": "code",
   "execution_count": 78,
   "metadata": {},
   "outputs": [
    {
     "name": "stdout",
     "output_type": "stream",
     "text": [
      "['data/use_case_1/4fbe5507-5145-48ba-bf4b-be6dd1b5faa9/tutorial_order2_4fbe5507-5145-48ba-bf4b-be6dd1b5faa9.zip']\n"
     ]
    }
   ],
   "source": [
    "def get_download_locations(download_dir):\n",
    "    manifest_file = os.path.join(download_dir, order_id, 'manifest.json')\n",
    "    with open(manifest_file, 'r') as src:\n",
    "        manifest = json.load(src)\n",
    "    \n",
    "    # uncomment to see the manifest\n",
    "    # pprint(manifest)\n",
    "        \n",
    "    locations = [os.path.join(data_dir, order_id, f['path'])\n",
    "                 for f in manifest['files']]\n",
    "    return locations\n",
    "\n",
    "locations = get_download_locations(data_dir)\n",
    "pprint(locations)"
   ]
  },
  {
   "cell_type": "markdown",
   "metadata": {
    "collapsed": true
   },
   "source": [
    "#### Step 6: Unzip and Verify Orders\n",
    "\n",
    "In this step we will simply unzip the orders and view one of the ordered composite images.\n",
    "\n",
    "##### 6.1: Unzip Order\n",
    "\n",
    "In this section, we will unzip each order into a directory named after the downloaded zip file."
   ]
  },
  {
   "cell_type": "code",
   "execution_count": 79,
   "metadata": {},
   "outputs": [
    {
     "ename": "NameError",
     "evalue": "name 'downloaded_files' is not defined",
     "output_type": "error",
     "traceback": [
      "\u001b[0;31m---------------------------------------------------------------------------\u001b[0m",
      "\u001b[0;31mNameError\u001b[0m                                 Traceback (most recent call last)",
      "Input \u001b[0;32mIn [79]\u001b[0m, in \u001b[0;36m<cell line: 16>\u001b[0;34m()\u001b[0m\n\u001b[1;32m     13\u001b[0m         myzip\u001b[38;5;241m.\u001b[39mextractall(zipdir)\n\u001b[1;32m     14\u001b[0m     \u001b[38;5;28;01mreturn\u001b[39;00m zipdir\n\u001b[0;32m---> 16\u001b[0m zipdirs \u001b[38;5;241m=\u001b[39m [unzip(f, overwrite\u001b[38;5;241m=\u001b[39m\u001b[38;5;28;01mTrue\u001b[39;00m) \u001b[38;5;28;01mfor\u001b[39;00m f \u001b[38;5;129;01min\u001b[39;00m \u001b[43mdownloaded_files\u001b[49m]\n\u001b[1;32m     17\u001b[0m pprint(zipdirs)\n",
      "\u001b[0;31mNameError\u001b[0m: name 'downloaded_files' is not defined"
     ]
    }
   ],
   "source": [
    "def unzip(filename, overwrite=False):\n",
    "    location = Path(filename)\n",
    "    zipdir = location.parent / location.stem\n",
    "\n",
    "    if os.path.isdir(zipdir):\n",
    "        if overwrite:\n",
    "            print('{} exists. overwriting.'.format(zipdir))\n",
    "            shutil.rmtree(zipdir)\n",
    "        else:\n",
    "            raise Exception('{} already exists'.format(zipdir))\n",
    "        \n",
    "    with ZipFile(location) as myzip:\n",
    "        myzip.extractall(zipdir)\n",
    "    return zipdir\n",
    "\n",
    "zipdirs = [unzip(f, overwrite=True) for f in downloaded_files]\n",
    "pprint(zipdirs)"
   ]
  },
  {
   "cell_type": "markdown",
   "metadata": {},
   "source": [
    "##### 6.2: Verify Orders\n",
    "\n",
    "In this section we will view the orders manually in QGIS. In the next part of this tutorial, we will visualize the NDVI composite image with the UDM. But for now, we just want to make sure we got what we ordered.\n",
    "\n",
    "In the explorer, navigate to the data folder (should be `*/notebooks/analysis-ready-data/data/use_case_1/`). In any of the subfolders (named something like `2019-04-26_b219cbe1-79a1-49c6-87a0-e1416d7e761d`), go into `files` and find the file named `composite.tif`). Drag that file into QGIS to visualize."
   ]
  }
 ],
 "metadata": {
  "kernelspec": {
   "display_name": "Python 3 (ipykernel)",
   "language": "python",
   "name": "python3"
  },
  "language_info": {
   "codemirror_mode": {
    "name": "ipython",
    "version": 3
   },
   "file_extension": ".py",
   "mimetype": "text/x-python",
   "name": "python",
   "nbconvert_exporter": "python",
   "pygments_lexer": "ipython3",
   "version": "3.8.13"
  }
 },
 "nbformat": 4,
 "nbformat_minor": 4
}
