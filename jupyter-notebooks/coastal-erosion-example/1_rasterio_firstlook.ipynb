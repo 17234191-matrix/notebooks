{
 "cells": [
  {
   "cell_type": "markdown",
   "metadata": {},
   "source": [
    "# Reading satellite data with rasterio"
   ]
  },
  {
   "cell_type": "markdown",
   "metadata": {},
   "source": [
    "[![Open in Colab](https://colab.research.google.com/assets/colab-badge.svg)](https://colab.research.google.com/github/planetlabs/notebooks/blob/master/jupyter-notebooks/coastal-erosion-example/1_rasterio_firstlook.ipynb)"
   ]
  },
  {
   "cell_type": "markdown",
   "metadata": {},
   "source": [
    "For these examples, we will be using an image of Houston flooded during Hurrican Harvey in August of 2017. \n",
    "\n",
    "Did You Know: This imagery was released during the immediate days following the hurricane, and first responders on the ground used it to help plan & facilitate rescuing people stuck in flooded neighborhoods."
   ]
  },
  {
   "cell_type": "markdown",
   "metadata": {},
   "source": [
    "You can download the image here: https://storage.googleapis.com/pdd-stac/disasters/hurricane-harvey/0831/20170831_172754_101c_3B_AnalyticMS.tif"
   ]
  },
  {
   "cell_type": "markdown",
   "metadata": {},
   "source": [
    "# Preparing Your Workspace"
   ]
  },
  {
   "cell_type": "markdown",
   "metadata": {},
   "source": [
    "## Option 1: (recommended) Run in Google Colab"
   ]
  },
  {
   "cell_type": "markdown",
   "metadata": {},
   "source": [
    "[Open this Notebook in Colab](https://colab.research.google.com/github/planetlabs/notebooks/blob/master/jupyter-notebooks/sdsc-2022-workshop/1_rasterio_firstlook.ipynb), then run the following:"
   ]
  },
  {
   "cell_type": "code",
   "execution_count": 1,
   "metadata": {},
   "outputs": [
    {
     "name": "stdout",
     "output_type": "stream",
     "text": [
      "--2023-04-14 11:23:53--  https://storage.googleapis.com/pdd-stac/disasters/hurricane-harvey/0831/20170831_172754_101c_3B_AnalyticMS.tif\n",
      "Resolving storage.googleapis.com (storage.googleapis.com)... 2607:f8b0:400a:805::2010, 2607:f8b0:400a:807::2010, 2607:f8b0:400a:804::2010, ...\n",
      "Connecting to storage.googleapis.com (storage.googleapis.com)|2607:f8b0:400a:805::2010|:443... connected.\n",
      "HTTP request sent, awaiting response... 200 OK\n",
      "Length: 154251084 (147M) [image/tiff]\n",
      "Saving to: ‘20170831_172754_101c_3B_AnalyticMS.tif’\n",
      "\n",
      "20170831_172754_101 100%[===================>] 147.10M  32.9MB/s    in 4.5s    \n",
      "\n",
      "2023-04-14 11:23:58 (32.9 MB/s) - ‘20170831_172754_101c_3B_AnalyticMS.tif’ saved [154251084/154251084]\n",
      "\n",
      "--2023-04-14 11:23:58--  https://storage.googleapis.com/pdd-stac/disasters/hurricane-harvey/0831/20170831_172754_101c_3b_Visual.tif\n",
      "Resolving storage.googleapis.com (storage.googleapis.com)... 2607:f8b0:400a:807::2010, 2607:f8b0:400a:804::2010, 2607:f8b0:400a:806::2010, ...\n",
      "Connecting to storage.googleapis.com (storage.googleapis.com)|2607:f8b0:400a:807::2010|:443... connected.\n",
      "HTTP request sent, awaiting response... 200 OK\n",
      "Length: 73748334 (70M) [image/tiff]\n",
      "Saving to: ‘20170831_172754_101c_3b_Visual.tif’\n",
      "\n",
      "20170831_172754_101 100%[===================>]  70.33M  36.6MB/s    in 1.9s    \n",
      "\n",
      "2023-04-14 11:24:00 (36.6 MB/s) - ‘20170831_172754_101c_3b_Visual.tif’ saved [73748334/73748334]\n",
      "\n"
     ]
    }
   ],
   "source": [
    "# !pip install rasterio\n",
    "!wget https://storage.googleapis.com/pdd-stac/disasters/hurricane-harvey/0831/20170831_172754_101c_3b_Visual.tif"
   ]
  },
  {
   "cell_type": "markdown",
   "metadata": {},
   "source": [
    "## Option 2: Run local Jupyter instance"
   ]
  },
  {
   "cell_type": "markdown",
   "metadata": {},
   "source": [
    "You can also choose to open this Notebook in your own local Jupyter instance."
   ]
  },
  {
   "attachments": {},
   "cell_type": "markdown",
   "metadata": {},
   "source": [
    "**Prerequisites**\n",
    "- Install: [rasterio](https://pypi.org/project/rasterio) library\n",
    "- Download example data: [20170831_172754_101c_3b_Visual.tif](https://storage.googleapis.com/pdd-stac/disasters/hurricane-harvey/0831/20170831_172754_101c_3b_Visual.tif)"
   ]
  },
  {
   "cell_type": "markdown",
   "metadata": {},
   "source": [
    "## Loading a dataset"
   ]
  },
  {
   "cell_type": "code",
   "execution_count": 2,
   "metadata": {},
   "outputs": [],
   "source": [
    "# Let's import Rasterio\n",
    "import rasterio"
   ]
  },
  {
   "cell_type": "code",
   "execution_count": 7,
   "metadata": {},
   "outputs": [],
   "source": [
    "# This notebook explores a single 4 band (blue, green, red, NIR) PlanetScope scene in a UTM projection.\n",
    "image_file = \"/content/20170831_172754_101c_3b_Visual.tif\""
   ]
  },
  {
   "cell_type": "code",
   "execution_count": 8,
   "metadata": {},
   "outputs": [
    {
     "name": "stdout",
     "output_type": "stream",
     "text": [
      "<open DatasetReader name='20170831_172754_101c_3b_Visual.tif' mode='r'>\n"
     ]
    }
   ],
   "source": [
    "# Open our image\n",
    "satdat = rasterio.open(image_file)\n",
    "\n",
    "# satdat is our open dataset object\n",
    "print(satdat)"
   ]
  },
  {
   "cell_type": "code",
   "execution_count": 9,
   "metadata": {},
   "outputs": [
    {
     "name": "stdout",
     "output_type": "stream",
     "text": [
      "20170831_172754_101c_3b_Visual.tif\n",
      "3\n"
     ]
    }
   ],
   "source": [
    "# let's look at some basic information about this geoTIFF:\n",
    "\n",
    "# dataset name\n",
    "print(satdat.name)\n",
    "\n",
    "# number of bands in this dataset\n",
    "print(satdat.count)"
   ]
  },
  {
   "cell_type": "markdown",
   "metadata": {},
   "source": [
    "## Parsing bands"
   ]
  },
  {
   "cell_type": "code",
   "execution_count": 10,
   "metadata": {},
   "outputs": [
    {
     "name": "stdout",
     "output_type": "stream",
     "text": [
      "(1, 2, 3)\n"
     ]
    }
   ],
   "source": [
    "# And provides a sequence of band indexes.  These are one indexing, not zero indexing like Numpy arrays.\n",
    "print(satdat.indexes)"
   ]
  },
  {
   "cell_type": "markdown",
   "metadata": {},
   "source": [
    "Because we know we're look at a PlanetScope 3-band visual satellite image, we can define the bands by their order:"
   ]
  },
  {
   "cell_type": "code",
   "execution_count": 11,
   "metadata": {},
   "outputs": [],
   "source": [
    "# PlanetScope 3-band band order: BGR\n",
    "\n",
    "# Extract the raster bands\n",
    "with rasterio.open(image_file) as src:\n",
    "    blue = src.read(1)\n",
    "    green = src.read(2)\n",
    "    red = src.read(3)\n",
    "\n",
    "# Or the slightly less efficient:\n",
    "#    blue = satdat.read(1)\n",
    "#    green = satdat.read(2)\n",
    "#    red = satdat.read(3)\n",
    "\n",
    "# Or read the entire dataset into a single 3D array:\n",
    "#    data = satdat.read()"
   ]
  },
  {
   "cell_type": "code",
   "execution_count": null,
   "metadata": {},
   "outputs": [],
   "source": [
    "# each band is stored as a numpy array, and its values are a numpy data type\n",
    "print(blue.dtype)"
   ]
  },
  {
   "cell_type": "code",
   "execution_count": null,
   "metadata": {},
   "outputs": [],
   "source": [
    "# using the blue band as an example, examine the width & height of the image (in pixels)\n",
    "\n",
    "h = blue.shape[0]\n",
    "w = blue.shape[1]\n",
    "\n",
    "print(\"width: {w}, height: {h}\".format(w=w, h=h))"
   ]
  }
 ],
 "metadata": {
  "kernelspec": {
   "display_name": "Python 3 (ipykernel)",
   "language": "python",
   "name": "python3"
  },
  "language_info": {
   "codemirror_mode": {
    "name": "ipython",
    "version": 3
   },
   "file_extension": ".py",
   "mimetype": "text/x-python",
   "name": "python",
   "nbconvert_exporter": "python",
   "pygments_lexer": "ipython3",
   "version": "3.9.6"
  }
 },
 "nbformat": 4,
 "nbformat_minor": 2
}
