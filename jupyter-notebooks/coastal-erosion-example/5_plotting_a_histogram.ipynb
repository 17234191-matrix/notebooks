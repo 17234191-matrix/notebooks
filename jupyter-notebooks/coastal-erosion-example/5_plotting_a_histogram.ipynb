{
 "cells": [
  {
   "cell_type": "markdown",
   "id": "34957e06",
   "metadata": {},
   "source": [
    "[![Open in Colab](https://colab.research.google.com/assets/colab-badge.svg)](https://colab.research.google.com/github/planetlabs/notebooks/blob/master/jupyter-notebooks/coastal-erosion-example/5_plotting_a_histogram.ipynb)"
   ]
  },
  {
   "cell_type": "markdown",
   "id": "5717a480",
   "metadata": {},
   "source": [
    "## Preparing Your Workspace"
   ]
  },
  {
   "cell_type": "markdown",
   "id": "d2e3e255",
   "metadata": {},
   "source": [
    "### Option 1: (recommended) Run in Google Colab"
   ]
  },
  {
   "cell_type": "markdown",
   "id": "a55af417",
   "metadata": {},
   "source": [
    "[Open this Notebook in Colab](https://colab.research.google.com/github/planetlabs/notebooks/blob/master/jupyter-notebooks/sdsc-2022-workshop/5_plotting_a_histogram.ipynb), then run the following:"
   ]
  },
  {
   "cell_type": "code",
   "execution_count": null,
   "id": "bccefb7f",
   "metadata": {},
   "outputs": [],
   "source": [
    "!pip install rasterio\n",
    "!wget https://storage.googleapis.com/pdd-stac/disasters/hurricane-harvey/0831/20170831_172754_101c_3B_AnalyticMS.tif\n",
    "!wget https://storage.googleapis.com/pdd-stac/disasters/hurricane-harvey/0831/20170831_172754_101c_3b_Visual.tif"
   ]
  },
  {
   "cell_type": "markdown",
   "id": "6e97b82e",
   "metadata": {},
   "source": [
    "### Option 2: Run local Jupyter instance"
   ]
  },
  {
   "cell_type": "markdown",
   "id": "ec2937c5",
   "metadata": {},
   "source": [
    "You can also choose to open this Notebook in your own local Jupyter instance."
   ]
  },
  {
   "cell_type": "markdown",
   "id": "64f7325f",
   "metadata": {},
   "source": [
    "**Prerequisites**\n",
    "- Install: [rasterio](https://pypi.org/project/rasterio) library\n",
    "- Download example data: [20170831_172754_101c_3B_AnalyticMS.tif](https://storage.googleapis.com/pdd-stac/disasters/hurricane-harvey/0831/20170831_172754_101c_3B_AnalyticMS.tif) & [20170831_172754_101c_3b_Visual.tif](https://storage.googleapis.com/pdd-stac/disasters/hurricane-harvey/0831/20170831_172754_101c_3b_Visual.tif)\n",
    "- Download tutorial data: [Tutorial Data](http://go.planet.com/scipy2022repo)"
   ]
  },
  {
   "cell_type": "code",
   "execution_count": null,
   "id": "1f17f977",
   "metadata": {},
   "outputs": [],
   "source": [
    "import rasterio\n",
    "import numpy as np\n",
    "from matplotlib import pyplot as plt\n",
    "\n",
    "# This notebook explores a single 4 band (blue, green, red, NIR) PlanetScope scene in a UTM projection.\n",
    "image_file = \"/content/20170831_172754_101c_3B_AnalyticMS.tif\"\n",
    "\n",
    "# Use Rasterio to open the image.\n",
    "satdat = rasterio.open(image_file)"
   ]
  },
  {
   "cell_type": "code",
   "execution_count": null,
   "id": "6963b7d3",
   "metadata": {},
   "outputs": [],
   "source": [
    "# Load the 4 bands into 2d arrays - recall that we previously learned PlanetScope band order is BGRN.\n",
    "blue, green, red, nir = satdat.read()"
   ]
  },
  {
   "cell_type": "code",
   "execution_count": null,
   "id": "86a94b70",
   "metadata": {},
   "outputs": [],
   "source": [
    "# Define a new figure\n",
    "fig2 = plt.figure(figsize=(20,10))\n",
    "\n",
    "# Give this new figure a subplot, which will contain the histogram itself\n",
    "ax = fig2.add_subplot(111)\n",
    "\n",
    "# Add a title & (x,y) labels to the plot\n",
    "plt.title(\"Histogram Example\", fontsize=18, fontweight='bold')\n",
    "plt.xlabel(\"pixel values\", fontsize=14)\n",
    "plt.ylabel(\"Number of pixels\", fontsize=14)\n",
    "\n",
    "# let's plot non-null blue band values as an example\n",
    "# For the x-axis, we want to count every pixel that has a value\n",
    "x = blue[np.not_equal(blue, satdat.nodata)]\n",
    "\n",
    "# Define the number of bins to divide the data into\n",
    "bins = 50\n",
    "\n",
    "# Define a color for the histogram\n",
    "# You can use https://matplotlib.org/2.0.0/examples/color/named_colors.html as a reference\n",
    "color = 'royalblue'\n",
    "\n",
    "# call 'hist` with our x-axis, bins, and color details\n",
    "ax.hist(x,bins,color=color)\n",
    "\n",
    "# Save the generated figure to an external image file\n",
    "fig2.savefig(\"histogram.png\", dpi=200, bbox_inches='tight', pad_inches=0.7)\n",
    "\n",
    "# Finally - let's take a look!\n",
    "plt.show()"
   ]
  },
  {
   "cell_type": "markdown",
   "id": "b70c572d",
   "metadata": {},
   "source": [
    "We can see that most of the blue band values in our image seem to be around the 7000 range. In our image, this corresponds to the value of the blue band when we are looking at flooded areas. It makes sense then that most of the blue band would correspond to water values!!"
   ]
  }
 ],
 "metadata": {
  "kernelspec": {
   "display_name": "Python 3 (ipykernel)",
   "language": "python",
   "name": "python3"
  },
  "language_info": {
   "codemirror_mode": {
    "name": "ipython",
    "version": 3
   },
   "file_extension": ".py",
   "mimetype": "text/x-python",
   "name": "python",
   "nbconvert_exporter": "python",
   "pygments_lexer": "ipython3",
   "version": "3.8.13"
  }
 },
 "nbformat": 4,
 "nbformat_minor": 5
}
