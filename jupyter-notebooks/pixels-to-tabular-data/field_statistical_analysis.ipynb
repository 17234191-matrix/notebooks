{
 "cells": [
  {
   "cell_type": "markdown",
   "metadata": {},
   "source": [
    "# Pixels to Tabular Data\n",
    "## Agricultural Statistical Analysis Use Case\n",
    "\n",
    "Talk about pixels and tabular data.\n",
    "\n",
    "The use case addressed in this tutorial is:  \n",
    "\n",
    "* As an agriculture customer, I'd like to create an imagery pipeline that provides for trialing different fungicides by ordering Planet imagery within a single field (AOI), cutting the imagery into multiple field blocks, filtering based on cloud coverage within the blocks, and comparing values across blocks in two ways. First, comparison is performed by extracting median, mean, variance NDVI values for each day (using random point sampling) in each block. Second, comparison is performed by random point selection in each block.\n",
    "\n",
    "\n",
    "## Introduction\n",
    "\n",
    "Two things are interesting about this use case. First, we are gridding the AOI into blocks. Second, we are performing some calculations with the output to compare results across different blocks in the field. \n",
    "\n",
    "\n",
    "## Implementation\n",
    "\n",
    "For this use case, the area of interest is specified (the field) but the time range is not. For time-series analysis the daily coverage of PS satellites is ideal. Because we are only looking at a field, we want to clip the images to the field area of interest to avoid unnecessary pixel wrangling. Also, we don't need all the bands, we are only interested in NDVI. We can use the Orders API to help us clip the images and calculate NDVI. Finally, we will need to implement a bit of functionality to filter to images that have no unusable pixels within the area of interest and for the comparisons across the field blocks.\n",
    "\n",
    "To summarize, these are the major steps:\n",
    "1. [Part 1: Setup](#Part-1:-Setup)\n",
    "1. [Part 2: Get Field NDVI](#Part-2:-Get-Field-NDVI)\n",
    "1. [Part 3: Sample Field Blocks](#Part-3:-Sample-Field-Blocks)"
   ]
  },
  {
   "cell_type": "markdown",
   "metadata": {},
   "source": [
    "### Part 1: Setup\n",
    "\n",
    "In this section, we set up the notebook and define the field and field block geometries.\n",
    "\n",
    "#### Import Dependencies"
   ]
  },
  {
   "cell_type": "code",
   "execution_count": 78,
   "metadata": {},
   "outputs": [],
   "source": [
    "import datetime\n",
    "import json\n",
    "import os\n",
    "from pathlib import Path\n",
    "from pprint import pprint\n",
    "import shutil\n",
    "import time\n",
    "from zipfile import ZipFile\n",
    "\n",
    "import matplotlib.pyplot as plt\n",
    "import numpy as np\n",
    "import pandas as pd\n",
    "from planet import Auth, reporting\n",
    "from planet import Session, DataClient, OrdersClient\n",
    "import pyproj\n",
    "import rasterio\n",
    "from rasterio import plot\n",
    "import requests\n",
    "from rasterio.mask import raster_geometry_mask\n",
    "from shapely.geometry import shape, MultiPolygon\n",
    "from shapely.ops import transform"
   ]
  },
  {
   "cell_type": "markdown",
   "metadata": {},
   "source": [
    "#### Get Field and Sample Blocks AOIs"
   ]
  },
  {
   "cell_type": "code",
   "execution_count": 2,
   "metadata": {},
   "outputs": [],
   "source": [
    "def load_geojson(filename):\n",
    "    with open(filename, 'r') as f:\n",
    "        return json.load(f)"
   ]
  },
  {
   "cell_type": "code",
   "execution_count": 3,
   "metadata": {},
   "outputs": [
    {
     "name": "stdout",
     "output_type": "stream",
     "text": [
      "{'geometry': {'coordinates': [[[-121.26311573121106, 38.28911976564886],\n",
      "                               [-121.26309824204209, 38.289263573446426],\n",
      "                               [-121.26340336500914, 38.28927552343227],\n",
      "                               [-121.26341580611164, 38.28958419507872],\n",
      "                               [-121.26335908094813, 38.290060214043095],\n",
      "                               [-121.2633553819847, 38.29021303818384],\n",
      "                               [-121.26200888330872, 38.2901989348931],\n",
      "                               [-121.26202642045222, 38.28924931063856],\n",
      "                               [-121.26202881277432, 38.28911976564886],\n",
      "                               [-121.26311573121106, 38.28911976564886]]],\n",
      "              'type': 'Polygon'},\n",
      " 'id': '10906',\n",
      " 'properties': {'ACRES': 5.382,\n",
      "                'AREA': 21779.33318,\n",
      "                'BL_X': 651939,\n",
      "                'BL_Y': 4239347,\n",
      "                'CLASS1': 'G',\n",
      "                'CLASS2': '**',\n",
      "                'CLASS3': '**',\n",
      "                'IRR_TYP1PA': 'n',\n",
      "                'IRR_TYP1PB': '*',\n",
      "                'IRR_TYP2PA': '*',\n",
      "                'IRR_TYP2PB': '*',\n",
      "                'IRR_TYP3PA': '*',\n",
      "                'IRR_TYP3PB': '*',\n",
      "                'LABEL': 'G',\n",
      "                'MULTIUSE': 'S',\n",
      "                'PCNT1': '00',\n",
      "                'PCNT2': '**',\n",
      "                'PCNT3': '**',\n",
      "                'PERIMETER': 662.19543,\n",
      "                'SPECOND1': '*',\n",
      "                'SPECOND2': '*',\n",
      "                'SPECOND3': '*',\n",
      "                'SUBCLASS1': '**',\n",
      "                'SUBCLASS2': '**',\n",
      "                'SUBCLASS3': '**',\n",
      "                'SURVEYAREA': 'SACRAMENTO',\n",
      "                'SURVEYYEAR': '2015',\n",
      "                'UCF_ATT': 'S G***n*00******************',\n",
      "                'WATERSOURC': '*',\n",
      "                'style': {'fillColor': '#ffffd9',\n",
      "                          'fillOpacity': 1,\n",
      "                          'weight': 0}},\n",
      " 'type': 'Feature'}\n"
     ]
    }
   ],
   "source": [
    "# this feature comes from within the sacramento_crops aoi\n",
    "# it is the first feature in 'ground-truth-test.geojson', which\n",
    "# was prepared in crop-classification/datasets-prepare.ipynb\n",
    "field_filename = os.path.join('pre-data', 'field.geojson')\n",
    "field = load_geojson(field_filename)\n",
    "pprint(field)"
   ]
  },
  {
   "cell_type": "code",
   "execution_count": 4,
   "metadata": {},
   "outputs": [
    {
     "name": "stdout",
     "output_type": "stream",
     "text": [
      "5.382 acres\n"
     ]
    },
    {
     "data": {
      "image/svg+xml": [
       "<svg xmlns=\"http://www.w3.org/2000/svg\" xmlns:xlink=\"http://www.w3.org/1999/xlink\" width=\"100.0\" height=\"100.0\" viewBox=\"-121.26347208302376 38.289063488736744 0.0015194766271520166 0.0012058263592180651\" preserveAspectRatio=\"xMinYMin meet\"><g transform=\"matrix(1,0,0,-1,0,76.5793328038327)\"><path fill-rule=\"evenodd\" fill=\"#66cc99\" stroke=\"#555555\" stroke-width=\"3.0389532543040332e-05\" opacity=\"0.6\" d=\"M -121.26311573121106,38.28911976564886 L -121.26309824204209,38.289263573446426 L -121.26340336500914,38.28927552343227 L -121.26341580611164,38.28958419507872 L -121.26335908094813,38.290060214043095 L -121.2633553819847,38.29021303818384 L -121.26200888330872,38.2901989348931 L -121.26202642045222,38.28924931063856 L -121.26202881277432,38.28911976564886 L -121.26311573121106,38.28911976564886 z\" /></g></svg>"
      ],
      "text/plain": [
       "<shapely.geometry.polygon.Polygon at 0x7f842007bd60>"
      ]
     },
     "execution_count": 4,
     "metadata": {},
     "output_type": "execute_result"
    }
   ],
   "source": [
    "# visualize field and determine size in acres\n",
    "\n",
    "print('{} acres'.format(field['properties']['ACRES']))\n",
    "field_aoi = field['geometry']\n",
    "shape(field_aoi)"
   ]
  },
  {
   "cell_type": "code",
   "execution_count": 5,
   "metadata": {},
   "outputs": [
    {
     "data": {
      "image/svg+xml": [
       "<svg xmlns=\"http://www.w3.org/2000/svg\" xmlns:xlink=\"http://www.w3.org/1999/xlink\" width=\"100.0\" height=\"100.0\" viewBox=\"-121.26347208302376 38.289063488736744 0.0015194766271520166 0.0012058263592180651\" preserveAspectRatio=\"xMinYMin meet\"><g transform=\"matrix(1,0,0,-1,0,76.5793328038327)\"><g><path fill-rule=\"evenodd\" fill=\"#ff3333\" stroke=\"#555555\" stroke-width=\"3.0389532543040332e-05\" opacity=\"0.6\" d=\"M -121.26311573121106,38.28911976564886 L -121.26309824204209,38.289263573446426 L -121.26340336500914,38.28927552343227 L -121.26341580611164,38.28958419507872 L -121.26335908094813,38.290060214043095 L -121.2633553819847,38.29021303818384 L -121.26200888330872,38.2901989348931 L -121.26202642045222,38.28924931063856 L -121.26202881277432,38.28911976564886 L -121.26311573121106,38.28911976564886 z\" /><path fill-rule=\"evenodd\" fill=\"#ff3333\" stroke=\"#555555\" stroke-width=\"3.0389532543040332e-05\" opacity=\"0.6\" d=\"M -121.26332402229309,38.290185014278734 L -121.26332402229309,38.29004396446891 L -121.26337230205536,38.289747127406486 L -121.2628921866417,38.289768179720404 L -121.2628921866417,38.290185014278734 L -121.26332402229309,38.290185014278734 z\" /><path fill-rule=\"evenodd\" fill=\"#ff3333\" stroke=\"#555555\" stroke-width=\"3.0389532543040332e-05\" opacity=\"0.6\" d=\"M -121.26337230205536,38.28964607621462 L -121.26339375972746,38.28958923485736 L -121.26336425542831,38.289300816914135 L -121.26296728849411,38.28929450117992 L -121.26293510198593,38.289658707621285 L -121.26337230205536,38.28964607621462 z\" /><path fill-rule=\"evenodd\" fill=\"#ff3333\" stroke=\"#555555\" stroke-width=\"3.0389532543040332e-05\" opacity=\"0.6\" d=\"M -121.26276880502701,38.2901681725248 L -121.26279294490813,38.28992607188025 L -121.26210093498229,38.28991975620043 L -121.26207679510117,38.29016185686607 L -121.26276880502701,38.2901681725248 z\" /><path fill-rule=\"evenodd\" fill=\"#ff3333\" stroke=\"#555555\" stroke-width=\"3.0389532543040332e-05\" opacity=\"0.6\" d=\"M -121.2627875804901,38.289812389559785 L -121.26278221607207,38.289803968640086 L -121.26284122467041,38.28949870964092 L -121.26211166381837,38.289496604402004 L -121.26210629940032,38.28981028432996 L -121.2627875804901,38.289812389559785 z\" /><path fill-rule=\"evenodd\" fill=\"#ff3333\" stroke=\"#555555\" stroke-width=\"3.0389532543040332e-05\" opacity=\"0.6\" d=\"M -121.26284390687943,38.289427131482896 L -121.26286536455153,38.289153449639386 L -121.2621384859085,38.28916397588324 L -121.2621384859085,38.289425026241865 L -121.26284390687943,38.289427131482896 z\" /></g></g></svg>"
      ],
      "text/plain": [
       "<shapely.geometry.multipolygon.MultiPolygon at 0x7f8420052e20>"
      ]
     },
     "execution_count": 5,
     "metadata": {},
     "output_type": "execute_result"
    }
   ],
   "source": [
    "# visualize field and sample blocks\n",
    "# these blocks were drawn by hand randomly for this demo\n",
    "# they don't actually represent test field blocks\n",
    "\n",
    "blocks = load_geojson(os.path.join('pre-data', 'blocks.geojson'))\n",
    "block_aois = [b['geometry'] for b in blocks]\n",
    "MultiPolygon([shape(a) for a in [field_aoi] + block_aois])"
   ]
  },
  {
   "cell_type": "markdown",
   "metadata": {},
   "source": [
    "### Part 2: Get Field NDVI\n",
    "\n",
    "In this section, we use the Data and Orders APIs to find images that overlap the field AOI in the specified time period and then to download the NDVI values of pixels within the field for all of the images. Once the images are downloaded, we use the UDM2 asset to filter to images that have no unusable pixels within the AOI. Finally, we get to check out what the NDVI of the field looks like!\n",
    "\n",
    "#### Step 1: Search Data API\n",
    "\n",
    "The goal of this step is to get the scene ids that meet the search criteria for this use case."
   ]
  },
  {
   "cell_type": "code",
   "execution_count": 10,
   "metadata": {},
   "outputs": [],
   "source": [
    "# if your Planet API Key is not set as an environment variable, you can paste it below\n",
    "API_KEY = os.environ.get('PL_API_KEY', 'PASTE_API_KEY_HERE')\n",
    "\n",
    "# Setup Planet Data API base URL\n",
    "URL = \"https://api.planet.com/data/v1\"\n",
    "\n",
    "# Setup the session\n",
    "session = requests.Session()\n",
    "\n",
    "# Authenticate\n",
    "session.auth = (API_KEY, \"\")"
   ]
  },
  {
   "cell_type": "code",
   "execution_count": 12,
   "metadata": {},
   "outputs": [],
   "source": [
    "# create an API Request from the search specifications\n",
    "\n",
    "item_type = ['PSScene']\n",
    "\n",
    "geom_filter = {\n",
    "   \"type\":\"GeometryFilter\",\n",
    "   \"field_name\":\"geometry\",\n",
    "   \"config\":field_aoi\n",
    "}\n",
    "\n",
    "date_range_filter = {\n",
    "\"type\":\"DateRangeFilter\",\n",
    "\"field_name\":\"acquired\",\n",
    "\"config\":{\n",
    "  \"gt\":\"2019-04-01T00:00:00Z\", \n",
    "   \"lt\": \"2019-05-01T00:00:00Z\"}\n",
    "}\n",
    "\n",
    "combined_filter = {\n",
    "\"type\":\"AndFilter\",\n",
    "\"config\":[\n",
    "    geom_filter,\n",
    "    date_range_filter]\n",
    "}\n",
    "\n",
    "async with Session() as sess:\n",
    "    cl = DataClient(sess)\n",
    "    request = await cl.create_search(name='fsa_search',search_filter=combined_filter, item_types=item_type)"
   ]
  },
  {
   "cell_type": "code",
   "execution_count": 15,
   "metadata": {
    "scrolled": true
   },
   "outputs": [
    {
     "name": "stdout",
     "output_type": "stream",
     "text": [
      "{'__daily_email_enabled': False, '_links': {'_self': 'https://api.planet.com/data/v1/searches/c912aa02a91b4fe3b733b3d8c28c315d', 'results': 'https://api.planet.com/data/v1/searches/c912aa02a91b4fe3b733b3d8c28c315d/results'}, 'created': '2022-09-15T21:07:37.901990Z', 'filter': {'config': [{'config': {'coordinates': [[[-121.26311573121106, 38.28911976564886], [-121.26309824204209, 38.289263573446426], [-121.26340336500914, 38.28927552343227], [-121.26341580611164, 38.28958419507872], [-121.26335908094813, 38.290060214043095], [-121.2633553819847, 38.29021303818384], [-121.26200888330872, 38.2901989348931], [-121.26202642045222, 38.28924931063856], [-121.26202881277432, 38.28911976564886], [-121.26311573121106, 38.28911976564886]]], 'type': 'Polygon'}, 'field_name': 'geometry', 'type': 'GeometryFilter'}, {'config': {'gt': '2019-04-01T00:00:00Z', 'lt': '2019-05-01T00:00:00Z'}, 'field_name': 'acquired', 'type': 'DateRangeFilter'}], 'type': 'AndFilter'}, 'id': 'c912aa02a91b4fe3b733b3d8c28c315d', 'item_types': ['PSScene'], 'last_executed': None, 'name': 'temp_search2', 'search_type': 'saved', 'updated': '2022-09-15T21:07:37.901990Z'}\n"
     ]
    }
   ],
   "source": [
    "print(request)"
   ]
  },
  {
   "cell_type": "code",
   "execution_count": 16,
   "metadata": {},
   "outputs": [],
   "source": [
    "# Search the Data API\n",
    "async with Session() as sess:\n",
    "    cl = DataClient(sess)\n",
    "    items = await cl.run_search(search_id=request['id'])\n",
    "    item_list = [i async for i in items]"
   ]
  },
  {
   "cell_type": "code",
   "execution_count": 17,
   "metadata": {},
   "outputs": [
    {
     "name": "stdout",
     "output_type": "stream",
     "text": [
      "34 images match the search criteria.\n"
     ]
    }
   ],
   "source": [
    "print('{} images match the search criteria.'.format(len(item_list)))"
   ]
  },
  {
   "cell_type": "code",
   "execution_count": 638,
   "metadata": {},
   "outputs": [],
   "source": [
    "# uncomment to see what an item looks like\n",
    "# pprint(item_list[0])"
   ]
  },
  {
   "cell_type": "markdown",
   "metadata": {},
   "source": [
    "Now that we have found the images that match the search criteria, let's make sure all of the images fully contain the field AOI (we don't want to just get half of the field) and then let's see what the image footprint and the AOI look like together."
   ]
  },
  {
   "cell_type": "code",
   "execution_count": 18,
   "metadata": {},
   "outputs": [],
   "source": [
    "footprints = [shape(i['geometry']) for i in item_list]"
   ]
  },
  {
   "cell_type": "code",
   "execution_count": 19,
   "metadata": {},
   "outputs": [],
   "source": [
    "# make sure all footprints contain the field aoi (that is, no partial overlaps)\n",
    "for f in footprints:\n",
    "    assert f.contains(shape(field_aoi))"
   ]
  },
  {
   "cell_type": "code",
   "execution_count": 20,
   "metadata": {},
   "outputs": [
    {
     "data": {
      "image/svg+xml": [
       "<svg xmlns=\"http://www.w3.org/2000/svg\" xmlns:xlink=\"http://www.w3.org/1999/xlink\" width=\"100.0\" height=\"100.0\" viewBox=\"-121.40974810171521 38.20978652744188 0.29732295627728433 0.1298632985208883\" preserveAspectRatio=\"xMinYMin meet\"><g transform=\"matrix(1,0,0,-1,0,76.54943635340464)\"><g><path fill-rule=\"evenodd\" fill=\"#ff3333\" stroke=\"#555555\" stroke-width=\"0.005946459125545687\" opacity=\"0.6\" d=\"M -121.26311573121106,38.28911976564886 L -121.26309824204209,38.289263573446426 L -121.26340336500914,38.28927552343227 L -121.26341580611164,38.28958419507872 L -121.26335908094813,38.290060214043095 L -121.2633553819847,38.29021303818384 L -121.26200888330872,38.2901989348931 L -121.26202642045222,38.28924931063856 L -121.26202881277432,38.28911976564886 L -121.26311573121106,38.28911976564886 z\" /><path fill-rule=\"evenodd\" fill=\"#ff3333\" stroke=\"#555555\" stroke-width=\"0.005946459125545687\" opacity=\"0.6\" d=\"M -121.39873614037161,38.28662351467706 L -121.38179830243497,38.22079848878548 L -121.12343710678152,38.26301245569034 L -121.14070842967244,38.32863786461916 L -121.39873614037161,38.28662351467706 z\" /></g></g></svg>"
      ],
      "text/plain": [
       "<shapely.geometry.multipolygon.MultiPolygon at 0x7f84122b3700>"
      ]
     },
     "execution_count": 20,
     "metadata": {},
     "output_type": "execute_result"
    }
   ],
   "source": [
    "# visualize aoi and footprint\n",
    "MultiPolygon([shape(field_aoi), footprints[0]])"
   ]
  },
  {
   "cell_type": "markdown",
   "metadata": {},
   "source": [
    "Whoa look! That AOI is tiny relative to the image footprint. We don't want to wrangle all those pixels outside of the AOI. We definately want to clip the imagery footprints to the AOI."
   ]
  },
  {
   "cell_type": "markdown",
   "metadata": {},
   "source": [
    "#### Step 2: Submit Order\n",
    "\n",
    "Now that we have the scene ids, we can create the order. The output of this step is a single zip file that contains all of the scenes that meet our criteria.\n",
    "\n",
    "The tools we want to apply are: clip imagery to AOI and convert imagery to NDVI. \n",
    "\n",
    "##### Step 2.1: Define Toolchain Tools"
   ]
  },
  {
   "cell_type": "code",
   "execution_count": 30,
   "metadata": {},
   "outputs": [],
   "source": [
    "# define the clip tool\n",
    "clip = {\n",
    "    \"clip\": {\n",
    "        \"aoi\": field_aoi\n",
    "    }\n",
    "}"
   ]
  },
  {
   "cell_type": "code",
   "execution_count": 31,
   "metadata": {},
   "outputs": [],
   "source": [
    "# Define bandmath tool: NDVI\n",
    "ndvi_tool = {'bandmath': {\n",
    "    \"pixel_type\": \"32R\",\n",
    "    \"b1\": \"(b4 - b3) / (b4+b3)\"\n",
    "}}"
   ]
  },
  {
   "cell_type": "code",
   "execution_count": 21,
   "metadata": {},
   "outputs": [],
   "source": [
    "def get_tools(aoi_geom):\n",
    "    # clip to AOI\n",
    "    clip_tool = {'clip': {'aoi': aoi_geom}}\n",
    "\n",
    "    # convert to NDVI\n",
    "    ndvi_tool = {'bandmath': {\n",
    "        \"pixel_type\": \"32R\",\n",
    "        \"b1\": \"(b4 - b3) / (b4+b3)\"\n",
    "    }}\n",
    "\n",
    "    tools = [clip_tool, ndvi_tool]\n",
    "    return tools"
   ]
  },
  {
   "cell_type": "markdown",
   "metadata": {},
   "source": [
    "##### Step 2.2: Build Order Requests"
   ]
  },
  {
   "cell_type": "code",
   "execution_count": 35,
   "metadata": {},
   "outputs": [],
   "source": [
    "# specify the PSScene 4-Band surface reflectance product\n",
    "# make sure to get the *_udm2 bundle so you get the udm2 product\n",
    "# note: capitalization really matters in item_type when using planet client orders api\n",
    "item_type = 'PSScene'\n",
    "bundle = 'analytic_sr_udm2'\n",
    "ids = [i['id'] for i in item_list]\n",
    "name = 'pixels_to_tabular'\n",
    "\n",
    "orders_request = {\n",
    "    'name': name,\n",
    "    'products': [{\n",
    "        'item_ids': ids,\n",
    "        'item_type': item_type,\n",
    "        'product_bundle': bundle\n",
    "    }],\n",
    "    'tools': [clip, ndvi_tool],\n",
    "    'delivery': {\n",
    "        'single_archive': True,\n",
    "        'archive_filename':'{{name}}_{{order_id}}.zip',\n",
    "        'archive_type':'zip'\n",
    "    },\n",
    "        'notifications': {\n",
    "                   'email': False\n",
    "    },\n",
    "}"
   ]
  },
  {
   "cell_type": "markdown",
   "metadata": {},
   "source": [
    "##### Step 2.3: Submit Order"
   ]
  },
  {
   "cell_type": "code",
   "execution_count": null,
   "metadata": {},
   "outputs": [],
   "source": [
    "async with Session() as sess:\n",
    "    cl = OrdersClient(sess)\n",
    "    order = await cl.create_order(orders_request)"
   ]
  },
  {
   "cell_type": "code",
   "execution_count": null,
   "metadata": {},
   "outputs": [],
   "source": [
    "order"
   ]
  },
  {
   "cell_type": "markdown",
   "metadata": {},
   "source": [
    "#### Step 3: Poll for Success & Download Orders\n",
    "\n",
    "Before we can download the orders, they have to be prepared on the server. Then, we can use the Python SDK to download our order."
   ]
  },
  {
   "cell_type": "code",
   "execution_count": 62,
   "metadata": {},
   "outputs": [
    {
     "name": "stderr",
     "output_type": "stream",
     "text": [
      "00:00 - order b866959c-8332-4d07-8ea8-2f53b40613a0 - state: success\n"
     ]
    }
   ],
   "source": [
    "# \"async def\" to create the async coroutine\n",
    "\n",
    "async with Session() as sess:\n",
    "    cl = OrdersClient(sess)\n",
    "\n",
    "    # Use \"reporting\" to manage polling for order status\n",
    "    with reporting.StateBar(state='creating') as bar:\n",
    "        # Grab the order ID\n",
    "        bar.update(state='created', order_id=order['id'])\n",
    "\n",
    "        # poll...poll...poll...\n",
    "        await cl.wait(order['id'], callback=bar.update_state)\n",
    "\n",
    "    # if we get here that means the order completed. Yay! Download the files.\n",
    "    filenames = await cl.download_order(order['id'])\n"
   ]
  },
  {
   "cell_type": "code",
   "execution_count": 63,
   "metadata": {
    "scrolled": true
   },
   "outputs": [
    {
     "data": {
      "text/plain": [
       "[PosixPath('b866959c-8332-4d07-8ea8-2f53b40613a0/pixels_to_tabular_b866959c-8332-4d07-8ea8-2f53b40613a0.zip'),\n",
       " PosixPath('b866959c-8332-4d07-8ea8-2f53b40613a0/manifest.json')]"
      ]
     },
     "execution_count": 63,
     "metadata": {},
     "output_type": "execute_result"
    }
   ],
   "source": [
    "filenames"
   ]
  },
  {
   "cell_type": "markdown",
   "metadata": {
    "collapsed": true
   },
   "source": [
    "#### Step 4: Unzip Order\n",
    "\n",
    "In this section, we will unzip the order into a directory named after the downloaded zip file."
   ]
  },
  {
   "cell_type": "code",
   "execution_count": 73,
   "metadata": {},
   "outputs": [
    {
     "name": "stdout",
     "output_type": "stream",
     "text": [
      "b866959c-8332-4d07-8ea8-2f53b40613a0/pixels_to_tabular_b866959c-8332-4d07-8ea8-2f53b40613a0 exists. overwriting.\n"
     ]
    },
    {
     "data": {
      "text/plain": [
       "PosixPath('b866959c-8332-4d07-8ea8-2f53b40613a0/pixels_to_tabular_b866959c-8332-4d07-8ea8-2f53b40613a0')"
      ]
     },
     "execution_count": 73,
     "metadata": {},
     "output_type": "execute_result"
    }
   ],
   "source": [
    "def unzip(filenames, overwrite=True):\n",
    "    for filename in filenames:\n",
    "        if Path(filename).name.endswith('.zip'):\n",
    "            location = Path(filename)\n",
    "            zipdir = location.parent / location.stem\n",
    "\n",
    "            if os.path.isdir(zipdir):\n",
    "                if overwrite:\n",
    "                    print('{} exists. overwriting.'.format(zipdir))\n",
    "                    shutil.rmtree(zipdir)\n",
    "                else:\n",
    "                    raise Exception('{} already exists'.format(zipdir))\n",
    "\n",
    "            with ZipFile(location) as myzip:\n",
    "                myzip.extractall(zipdir)\n",
    "        return zipdir\n",
    "\n",
    "zipdir = unzip(filenames)\n",
    "zipdir"
   ]
  },
  {
   "cell_type": "code",
   "execution_count": 74,
   "metadata": {
    "scrolled": false
   },
   "outputs": [
    {
     "data": {
      "text/plain": [
       "PosixPath('b866959c-8332-4d07-8ea8-2f53b40613a0/pixels_to_tabular_b866959c-8332-4d07-8ea8-2f53b40613a0/files/20190426_173530_1049_metadata.json')"
      ]
     },
     "execution_count": 74,
     "metadata": {},
     "output_type": "execute_result"
    }
   ],
   "source": [
    "def get_unzipped_files(zipdir):\n",
    "    filedir = zipdir / 'files'\n",
    "    filenames = os.listdir(filedir)\n",
    "    return [filedir / f for f in filenames]\n",
    "\n",
    "file_paths = get_unzipped_files(zipdir)\n",
    "file_paths[0]"
   ]
  },
  {
   "cell_type": "markdown",
   "metadata": {},
   "source": [
    "#### Step 5: Filter by Cloudiness\n",
    "\n",
    "In this section, we will filter images that have any clouds within the AOI. We use the Unusable Data Mask (UDM2) to determine cloud pixels."
   ]
  },
  {
   "cell_type": "code",
   "execution_count": 75,
   "metadata": {},
   "outputs": [],
   "source": [
    "udm2_files = [f for f in file_paths if 'udm2' in str(f)]"
   ]
  },
  {
   "cell_type": "code",
   "execution_count": 90,
   "metadata": {},
   "outputs": [],
   "source": [
    "# we want to find pixels that are inside the footprint but cloudy\n",
    "# the easiest way to do this is is the udm values (band 8)\n",
    "# https://developers.planet.com/docs/data/udm-2/\n",
    "# the UDM values are given in \n",
    "# https://assets.planet.com/docs/Combined-Imagery-Product-Spec-Dec-2018.pdf\n",
    "# Bit 0: blackfill (footprint)\n",
    "# Bit 1: cloud covered\n",
    "def read_udm(udm2_filename):\n",
    "    with rasterio.open(udm2_filename) as img:\n",
    "        # band 8 is the udm band\n",
    "        return img.read(8)"
   ]
  },
  {
   "cell_type": "code",
   "execution_count": 79,
   "metadata": {},
   "outputs": [
    {
     "data": {
      "text/plain": [
       "0.0"
      ]
     },
     "execution_count": 79,
     "metadata": {},
     "output_type": "execute_result"
    }
   ],
   "source": [
    "def get_cloudy_percent(udm_band):\n",
    "    blackfill = udm_band == int('1', 2)\n",
    "    footprint_count = udm_band.size - np.count_nonzero(blackfill)\n",
    "    cloudy = udm_band.size - udm_band == int('10', 2)\n",
    "    cloudy_count = np.count_nonzero(cloudy)\n",
    "    return (cloudy_count / footprint_count)\n",
    "\n",
    "get_cloudy_percent(read_udm(udm2_files[0]))"
   ]
  },
  {
   "cell_type": "code",
   "execution_count": 80,
   "metadata": {},
   "outputs": [
    {
     "name": "stdout",
     "output_type": "stream",
     "text": [
      "33\n"
     ]
    }
   ],
   "source": [
    "clear_udm2_files = [f for f in udm2_files\n",
    "                    if get_cloudy_percent(read_udm(f)) < 0.00001]\n",
    "print(len(clear_udm2_files))"
   ]
  },
  {
   "cell_type": "code",
   "execution_count": 81,
   "metadata": {},
   "outputs": [
    {
     "data": {
      "text/plain": [
       "'20190403_182837_1002'"
      ]
     },
     "execution_count": 81,
     "metadata": {},
     "output_type": "execute_result"
    }
   ],
   "source": [
    "def get_id(udm2_filename):\n",
    "    return udm2_filename.name.split('_3B')[0]\n",
    "    \n",
    "clear_ids = [get_id(f) for f in clear_udm2_files]\n",
    "clear_ids[0]"
   ]
  },
  {
   "cell_type": "markdown",
   "metadata": {},
   "source": [
    "#### Step 6: Get Clear Images\n"
   ]
  },
  {
   "cell_type": "code",
   "execution_count": 82,
   "metadata": {},
   "outputs": [
    {
     "data": {
      "image/png": "[encoded data removed]",
      "text/plain": [
       "<Figure size 432x288 with 1 Axes>"
      ]
     },
     "metadata": {
      "needs_background": "light"
     },
     "output_type": "display_data"
    },
    {
     "data": {
      "text/plain": [
       "<AxesSubplot:>"
      ]
     },
     "execution_count": 82,
     "metadata": {},
     "output_type": "execute_result"
    }
   ],
   "source": [
    "def get_img_path(img_id, file_paths):\n",
    "    filename = '{}_3B_AnalyticMS_SR_clip_bandmath.tif'.format(img_id)\n",
    "    return next(f for f in file_paths if f.name == filename)\n",
    "\n",
    "def read_ndvi(img_filename):\n",
    "    with rasterio.open(img_filename) as img:\n",
    "        # ndvi is a single-band image\n",
    "        band = img.read(1)\n",
    "    return band\n",
    "\n",
    "plot.show(read_ndvi(get_img_path(clear_ids[0], file_paths)))"
   ]
  },
  {
   "cell_type": "markdown",
   "metadata": {},
   "source": [
    "The field AOI isn't an exact square so there are some blank pixels. Let's mask those out. We can use the UDM for that."
   ]
  },
  {
   "cell_type": "code",
   "execution_count": 83,
   "metadata": {},
   "outputs": [
    {
     "data": {
      "image/png": "[encoded data removed]",
      "text/plain": [
       "<Figure size 432x288 with 1 Axes>"
      ]
     },
     "metadata": {
      "needs_background": "light"
     },
     "output_type": "display_data"
    },
    {
     "data": {
      "text/plain": [
       "<AxesSubplot:>"
      ]
     },
     "execution_count": 83,
     "metadata": {},
     "output_type": "execute_result"
    }
   ],
   "source": [
    "def get_udm2_path(img_id, file_paths):\n",
    "    filename = '{}_3B_udm2_clip.tif'.format(img_id)\n",
    "    return next(f for f in file_paths if f.name == filename)\n",
    "    \n",
    "def read_blackfill(udm2_filename):\n",
    "    with rasterio.open(udm2_filename) as img:\n",
    "        # the last band is the udm band\n",
    "        udm_band = img.read(8)\n",
    "    blackfill = udm_band == int('1', 2)\n",
    "    return blackfill\n",
    "\n",
    "plot.show(read_blackfill(get_udm2_path(clear_ids[0], file_paths)))"
   ]
  },
  {
   "cell_type": "code",
   "execution_count": 84,
   "metadata": {},
   "outputs": [
    {
     "data": {
      "image/png": "[encoded data removed]",
      "text/plain": [
       "<Figure size 432x288 with 1 Axes>"
      ]
     },
     "metadata": {
      "needs_background": "light"
     },
     "output_type": "display_data"
    },
    {
     "data": {
      "text/plain": [
       "<AxesSubplot:>"
      ]
     },
     "execution_count": 84,
     "metadata": {},
     "output_type": "execute_result"
    }
   ],
   "source": [
    "# there is an issue where some udms aren't the same size as the images\n",
    "# to deal with this just cut off any trailing rows/columns\n",
    "# this isn't ideal as it can result in up to one pixel shift in x or y direction\n",
    "def crop(img, shape):\n",
    "    return img[:shape[0], :shape[1]]\n",
    "\n",
    "def read_masked_ndvi(img_filename, udm2_filename):\n",
    "    ndvi = read_ndvi(img_filename)\n",
    "    blackfill = read_blackfill(udm2_filename)\n",
    "        \n",
    "    # crop image and mask to same size\n",
    "    img_shape = min(ndvi.shape, blackfill.shape)\n",
    "    ndvi = np.ma.array(crop(ndvi, img_shape), mask=crop(blackfill, img_shape))\n",
    "    return ndvi\n",
    "\n",
    "plot.show(read_masked_ndvi(get_img_path(clear_ids[0], file_paths),\n",
    "                           get_udm2_path(clear_ids[0], file_paths)))"
   ]
  },
  {
   "cell_type": "markdown",
   "metadata": {},
   "source": [
    "That looks better! We now have the NDVI values for the pixels within the field AOI.\n",
    "\n",
    "Now, lets make that a little easier to generate."
   ]
  },
  {
   "cell_type": "code",
   "execution_count": 85,
   "metadata": {},
   "outputs": [
    {
     "data": {
      "image/png": "[encoded data removed]",
      "text/plain": [
       "<Figure size 432x288 with 1 Axes>"
      ]
     },
     "metadata": {
      "needs_background": "light"
     },
     "output_type": "display_data"
    },
    {
     "data": {
      "text/plain": [
       "<AxesSubplot:>"
      ]
     },
     "execution_count": 85,
     "metadata": {},
     "output_type": "execute_result"
    }
   ],
   "source": [
    "def read_masked_ndvi_by_id(iid, file_paths):\n",
    "    return read_masked_ndvi(get_img_path(iid, file_paths), get_udm2_path(iid, file_paths))\n",
    "\n",
    "plot.show(read_masked_ndvi_by_id(clear_ids[0], file_paths))"
   ]
  },
  {
   "cell_type": "markdown",
   "metadata": {},
   "source": [
    "In the images above, we are just using the default visualization for the imagery.\n",
    "\n",
    "But this is NDVI imagery. Values are given between -1 and 1. Let's see how this looks if we use visualization specivic to NDVI."
   ]
  },
  {
   "cell_type": "code",
   "execution_count": 86,
   "metadata": {},
   "outputs": [],
   "source": [
    "# we demonstrated visualization in the best practices tutorial\n",
    "# here, we save space by just importing the functionality\n",
    "from visual import show_ndvi"
   ]
  },
  {
   "cell_type": "code",
   "execution_count": 87,
   "metadata": {},
   "outputs": [
    {
     "data": {
      "image/png": "[encoded data removed]",
      "text/plain": [
       "<Figure size 1440x720 with 2 Axes>"
      ]
     },
     "metadata": {
      "needs_background": "light"
     },
     "output_type": "display_data"
    }
   ],
   "source": [
    "# and here's what it looks like when we visualize as ndvi\n",
    "# (data range -1 to 1). it actually looks worse becaue the\n",
    "# pixel value range is so small\n",
    "show_ndvi(read_masked_ndvi_by_id(clear_ids[0], file_paths))"
   ]
  },
  {
   "cell_type": "markdown",
   "metadata": {},
   "source": [
    "Well, the contrast has certainly gone down. This is because the NDVI values within the field are pretty uniform. That's what we would expect for a uniform field! So it is actually good news. The NDVI values are pretty low, ranging from 0.16 to just above 0.22. The time range used for this search is basically the month of April. This is pretty early in the growth season and so likely the plants are still tiny seedlings. So even the low NDVI value makes sense here."
   ]
  },
  {
   "cell_type": "markdown",
   "metadata": {},
   "source": [
    "### Part 3: Sample Field Blocks\n",
    "\n",
    "Ok, here is where we convert pixels to tabular data. We do this for one image then we expand to doing this for all images in the time series.\n",
    "\n",
    "In this section, we want to sample the pixel values within each field block and put the values into a table. For this, we first need to identify the field block pixels. Next, we calculate the median, mean, variance, and random point value for each field block. We put those into a table. And at the end we visualize the results.\n",
    "\n",
    "#### Step 1: Get Field Block Pixels\n",
    "\n",
    "In this step, we find the pixel values that are associated with each field block. To get the field block pixels, we have to project the block geometries into the image coordinates. Then we create masks that just pull the field block pixels from the aoi."
   ]
  },
  {
   "cell_type": "code",
   "execution_count": 106,
   "metadata": {},
   "outputs": [],
   "source": [
    "def block_aoi_masks(block_aois, ref_img_path):\n",
    "    \n",
    "    # find the coordinate reference system of the image\n",
    "    with rasterio.open(ref_img_path) as src:\n",
    "        dst_crs = src.crs\n",
    "        \n",
    "        # geojson features (the field block geometries)\n",
    "        # are always given in WGS84\n",
    "        # project these to the image coordinates\n",
    "        wgs84 = pyproj.CRS('EPSG:4326')\n",
    "\n",
    "        project = pyproj.Transformer.from_crs(wgs84, dst_crs, always_xy=True).transform\n",
    "        proj_block_aois = [transform(project, shape(b)) for b in block_aois]\n",
    "\n",
    "        masks = [raster_geometry_mask(src, [b], crop=False)[0]\n",
    "                 for b in proj_block_aois]\n",
    "    return masks\n",
    "\n",
    "ref_img_path = get_img_path(clear_ids[0], file_paths)\n",
    "block_masks = block_aoi_masks(block_aois, ref_img_path)"
   ]
  },
  {
   "cell_type": "code",
   "execution_count": 107,
   "metadata": {},
   "outputs": [
    {
     "data": {
      "image/png": "[encoded data removed]",
      "text/plain": [
       "<Figure size 1080x720 with 5 Axes>"
      ]
     },
     "metadata": {
      "needs_background": "light"
     },
     "output_type": "display_data"
    }
   ],
   "source": [
    "ndvi = read_masked_ndvi_by_id(clear_ids[0], file_paths)\n",
    "\n",
    "fig, ax = plt.subplots(2,3, figsize=(15,10))\n",
    "axf = ax.flatten()\n",
    "fig.delaxes(axf[-1])\n",
    "for i, mask in enumerate(block_masks):\n",
    "    ndvi.mask = mask\n",
    "    plot.show(ndvi, ax=axf[i])"
   ]
  },
  {
   "cell_type": "markdown",
   "metadata": {},
   "source": [
    "#### Step 2: Random Sampling\n",
    "\n",
    "Summary statistics such as mean, mode, and variance will be easy to calculate with the numpy python package. We need to do a little work to get random sampling, however."
   ]
  },
  {
   "cell_type": "code",
   "execution_count": 110,
   "metadata": {},
   "outputs": [
    {
     "data": {
      "image/png": "[encoded data removed]",
      "text/plain": [
       "<Figure size 432x288 with 1 Axes>"
      ]
     },
     "metadata": {
      "needs_background": "light"
     },
     "output_type": "display_data"
    },
    {
     "data": {
      "image/png": "[encoded data removed]",
      "text/plain": [
       "<Figure size 432x288 with 1 Axes>"
      ]
     },
     "metadata": {
      "needs_background": "light"
     },
     "output_type": "display_data"
    },
    {
     "data": {
      "text/plain": [
       "<AxesSubplot:>"
      ]
     },
     "execution_count": 110,
     "metadata": {},
     "output_type": "execute_result"
    }
   ],
   "source": [
    "np.random.seed(0) # 0 - make random sampling repeatable, no arg - nonrepeatable\n",
    "\n",
    "def random_mask_sample(mask, count):\n",
    "    # get shape of unmasked pixels\n",
    "    unmasked = mask == False\n",
    "    unmasked_shape = mask[unmasked].shape\n",
    "    \n",
    "    # uniformly sample pixel indices\n",
    "    num_unmasked = unmasked_shape[0]\n",
    "    idx = np.random.choice(num_unmasked, count, replace=False)\n",
    "    \n",
    "    # assign uniformly sampled indices to False (unmasked)\n",
    "    random_mask = np.ones(unmasked_shape, dtype=bool)\n",
    "    random_mask[idx] = False\n",
    "    \n",
    "    # reshape back to image shape and account for image mask\n",
    "    random_sample_mask = np.ones(mask.shape, dtype=bool)\n",
    "    random_sample_mask[unmasked] = random_mask\n",
    "    return random_sample_mask\n",
    "\n",
    "\n",
    "# lets just check out how our random sampling performs\n",
    "ndvi = read_masked_ndvi_by_id(clear_ids[0], file_paths)\n",
    "ndvi.mask = random_mask_sample(ndvi.mask, 13)\n",
    "plot.show(ndvi)\n",
    "\n",
    "ndvi = read_masked_ndvi_by_id(clear_ids[0], file_paths)\n",
    "ndvi.mask = random_mask_sample(ndvi.mask, 1300)\n",
    "plot.show(ndvi)"
   ]
  },
  {
   "cell_type": "markdown",
   "metadata": {},
   "source": [
    "Ok, great! The first image shows what would result from sampling 13 pixels. The second image is for nearly all the pixels and demonstrates that the mask is taken into account with sampling.\n",
    "\n",
    "Now lets get down to calculating the summary statistics and placing them in a table entry."
   ]
  },
  {
   "cell_type": "markdown",
   "metadata": {},
   "source": [
    "#### Step 3: Prepare Table of Summary Statistics\n",
    "\n",
    "Now that we have all the tools we need, we are ready to calculate summary statistics for each field block and put them into a table. We will calculate the median, mean, variance, and single random point value for each field block."
   ]
  },
  {
   "cell_type": "code",
   "execution_count": 111,
   "metadata": {},
   "outputs": [
    {
     "data": {
      "text/html": [
       "<div>\n",
       "<style scoped>\n",
       "    .dataframe tbody tr th:only-of-type {\n",
       "        vertical-align: middle;\n",
       "    }\n",
       "\n",
       "    .dataframe tbody tr th {\n",
       "        vertical-align: top;\n",
       "    }\n",
       "\n",
       "    .dataframe thead th {\n",
       "        text-align: right;\n",
       "    }\n",
       "</style>\n",
       "<table border=\"1\" class=\"dataframe\">\n",
       "  <thead>\n",
       "    <tr style=\"text-align: right;\">\n",
       "      <th></th>\n",
       "      <th>block</th>\n",
       "      <th>mean</th>\n",
       "      <th>median</th>\n",
       "      <th>variance</th>\n",
       "      <th>random</th>\n",
       "    </tr>\n",
       "  </thead>\n",
       "  <tbody>\n",
       "    <tr>\n",
       "      <th>0</th>\n",
       "      <td>0</td>\n",
       "      <td>0.176674</td>\n",
       "      <td>0.176204</td>\n",
       "      <td>0.000030</td>\n",
       "      <td>0.168622</td>\n",
       "    </tr>\n",
       "    <tr>\n",
       "      <th>1</th>\n",
       "      <td>1</td>\n",
       "      <td>0.162676</td>\n",
       "      <td>0.161814</td>\n",
       "      <td>0.000054</td>\n",
       "      <td>0.157794</td>\n",
       "    </tr>\n",
       "    <tr>\n",
       "      <th>2</th>\n",
       "      <td>2</td>\n",
       "      <td>0.184550</td>\n",
       "      <td>0.184010</td>\n",
       "      <td>0.000089</td>\n",
       "      <td>0.175415</td>\n",
       "    </tr>\n",
       "    <tr>\n",
       "      <th>3</th>\n",
       "      <td>3</td>\n",
       "      <td>0.162456</td>\n",
       "      <td>0.161059</td>\n",
       "      <td>0.000040</td>\n",
       "      <td>0.160133</td>\n",
       "    </tr>\n",
       "    <tr>\n",
       "      <th>4</th>\n",
       "      <td>4</td>\n",
       "      <td>0.170481</td>\n",
       "      <td>0.169622</td>\n",
       "      <td>0.000067</td>\n",
       "      <td>0.167139</td>\n",
       "    </tr>\n",
       "  </tbody>\n",
       "</table>\n",
       "</div>"
      ],
      "text/plain": [
       "   block      mean    median  variance    random\n",
       "0      0  0.176674  0.176204  0.000030  0.168622\n",
       "1      1  0.162676  0.161814  0.000054  0.157794\n",
       "2      2  0.184550  0.184010  0.000089  0.175415\n",
       "3      3  0.162456  0.161059  0.000040  0.160133\n",
       "4      4  0.170481  0.169622  0.000067  0.167139"
      ]
     },
     "execution_count": 111,
     "metadata": {},
     "output_type": "execute_result"
    }
   ],
   "source": [
    "def get_stats(ndvi, masks):\n",
    "    def _get_stats(mask, block_number):\n",
    "        block = np.ma.array(ndvi, mask=mask)\n",
    "\n",
    "        mean = np.ma.mean(block)\n",
    "        median = np.ma.median(block)\n",
    "        var = np.ma.var(block)\n",
    "        \n",
    "        random_mask = random_mask_sample(block.mask, 1)\n",
    "        random_val = np.ma.mean(np.ma.array(block, mask=random_mask))\n",
    "        \n",
    "        return {'block': block_number,\n",
    "                'mean': mean,\n",
    "                'median': median,\n",
    "                'variance': var,\n",
    "                'random': random_val}\n",
    "    \n",
    "    data = [_get_stats(m, i) for i, m in enumerate(masks)]\n",
    "    df = pd.DataFrame(data)\n",
    "    return df\n",
    "        \n",
    "\n",
    "ndvi = read_masked_ndvi_by_id(clear_ids[0], file_paths)\n",
    "get_stats(ndvi, block_masks)       "
   ]
  },
  {
   "cell_type": "markdown",
   "metadata": {},
   "source": [
    "Okay! We have statistics for each block in a table. Yay! Okay, now lets move on to running this across a time series."
   ]
  },
  {
   "cell_type": "markdown",
   "metadata": {},
   "source": [
    "#### Step 4: Perform Time Series Analysis\n"
   ]
  },
  {
   "cell_type": "code",
   "execution_count": 112,
   "metadata": {},
   "outputs": [
    {
     "data": {
      "text/html": [
       "<div>\n",
       "<style scoped>\n",
       "    .dataframe tbody tr th:only-of-type {\n",
       "        vertical-align: middle;\n",
       "    }\n",
       "\n",
       "    .dataframe tbody tr th {\n",
       "        vertical-align: top;\n",
       "    }\n",
       "\n",
       "    .dataframe thead th {\n",
       "        text-align: right;\n",
       "    }\n",
       "</style>\n",
       "<table border=\"1\" class=\"dataframe\">\n",
       "  <thead>\n",
       "    <tr style=\"text-align: right;\">\n",
       "      <th></th>\n",
       "      <th>block</th>\n",
       "      <th>mean</th>\n",
       "      <th>median</th>\n",
       "      <th>variance</th>\n",
       "      <th>random</th>\n",
       "      <th>acquired</th>\n",
       "    </tr>\n",
       "  </thead>\n",
       "  <tbody>\n",
       "    <tr>\n",
       "      <th>0</th>\n",
       "      <td>0</td>\n",
       "      <td>0.176674</td>\n",
       "      <td>0.176204</td>\n",
       "      <td>0.000030</td>\n",
       "      <td>0.181682</td>\n",
       "      <td>2019-04-03T18:28:37.143803Z</td>\n",
       "    </tr>\n",
       "    <tr>\n",
       "      <th>1</th>\n",
       "      <td>1</td>\n",
       "      <td>0.162676</td>\n",
       "      <td>0.161814</td>\n",
       "      <td>0.000054</td>\n",
       "      <td>0.158862</td>\n",
       "      <td>2019-04-03T18:28:37.143803Z</td>\n",
       "    </tr>\n",
       "    <tr>\n",
       "      <th>2</th>\n",
       "      <td>2</td>\n",
       "      <td>0.184550</td>\n",
       "      <td>0.184010</td>\n",
       "      <td>0.000089</td>\n",
       "      <td>0.193439</td>\n",
       "      <td>2019-04-03T18:28:37.143803Z</td>\n",
       "    </tr>\n",
       "    <tr>\n",
       "      <th>3</th>\n",
       "      <td>3</td>\n",
       "      <td>0.162456</td>\n",
       "      <td>0.161059</td>\n",
       "      <td>0.000040</td>\n",
       "      <td>0.171806</td>\n",
       "      <td>2019-04-03T18:28:37.143803Z</td>\n",
       "    </tr>\n",
       "    <tr>\n",
       "      <th>4</th>\n",
       "      <td>4</td>\n",
       "      <td>0.170481</td>\n",
       "      <td>0.169622</td>\n",
       "      <td>0.000067</td>\n",
       "      <td>0.172035</td>\n",
       "      <td>2019-04-03T18:28:37.143803Z</td>\n",
       "    </tr>\n",
       "  </tbody>\n",
       "</table>\n",
       "</div>"
      ],
      "text/plain": [
       "   block      mean    median  variance    random                     acquired\n",
       "0      0  0.176674  0.176204  0.000030  0.181682  2019-04-03T18:28:37.143803Z\n",
       "1      1  0.162676  0.161814  0.000054  0.158862  2019-04-03T18:28:37.143803Z\n",
       "2      2  0.184550  0.184010  0.000089  0.193439  2019-04-03T18:28:37.143803Z\n",
       "3      3  0.162456  0.161059  0.000040  0.171806  2019-04-03T18:28:37.143803Z\n",
       "4      4  0.170481  0.169622  0.000067  0.172035  2019-04-03T18:28:37.143803Z"
      ]
     },
     "execution_count": 112,
     "metadata": {},
     "output_type": "execute_result"
    }
   ],
   "source": [
    "def get_stats_by_id(iid, block_masks, file_paths):\n",
    "    ndvi = read_masked_ndvi_by_id(iid, file_paths)\n",
    "    ndvi_stats = get_stats(ndvi, block_masks)\n",
    "    acquired = get_acquired(iid)\n",
    "    ndvi_stats['acquired'] = [acquired]*len(block_masks)\n",
    "    return ndvi_stats\n",
    "\n",
    "def get_acquired(iid):\n",
    "    metadata_path = get_metadata(iid, file_paths)\n",
    "    \n",
    "    with open(metadata_path) as src:\n",
    "        md = json.load(src)\n",
    "    return md['properties']['acquired']\n",
    "    \n",
    "\n",
    "def get_metadata(img_id, file_paths):\n",
    "    filename = '{}_metadata.json'.format(img_id)\n",
    "    return next(f for f in file_paths if f.name == filename)\n",
    "\n",
    "get_stats_by_id(clear_ids[0], block_masks, file_paths)"
   ]
  },
  {
   "cell_type": "code",
   "execution_count": 113,
   "metadata": {},
   "outputs": [],
   "source": [
    "dfs = [get_stats_by_id(i, block_masks, file_paths) for i in clear_ids]\n",
    "all_stats = pd.concat(dfs)"
   ]
  },
  {
   "cell_type": "code",
   "execution_count": 114,
   "metadata": {},
   "outputs": [
    {
     "data": {
      "text/html": [
       "<div>\n",
       "<style scoped>\n",
       "    .dataframe tbody tr th:only-of-type {\n",
       "        vertical-align: middle;\n",
       "    }\n",
       "\n",
       "    .dataframe tbody tr th {\n",
       "        vertical-align: top;\n",
       "    }\n",
       "\n",
       "    .dataframe thead th {\n",
       "        text-align: right;\n",
       "    }\n",
       "</style>\n",
       "<table border=\"1\" class=\"dataframe\">\n",
       "  <thead>\n",
       "    <tr style=\"text-align: right;\">\n",
       "      <th></th>\n",
       "      <th>block</th>\n",
       "      <th>mean</th>\n",
       "      <th>median</th>\n",
       "      <th>variance</th>\n",
       "      <th>random</th>\n",
       "      <th>acquired</th>\n",
       "    </tr>\n",
       "  </thead>\n",
       "  <tbody>\n",
       "    <tr>\n",
       "      <th>0</th>\n",
       "      <td>0</td>\n",
       "      <td>0.176674</td>\n",
       "      <td>0.176204</td>\n",
       "      <td>0.000030</td>\n",
       "      <td>0.177962</td>\n",
       "      <td>2019-04-03T18:28:37.143803Z</td>\n",
       "    </tr>\n",
       "    <tr>\n",
       "      <th>1</th>\n",
       "      <td>1</td>\n",
       "      <td>0.162676</td>\n",
       "      <td>0.161814</td>\n",
       "      <td>0.000054</td>\n",
       "      <td>0.163213</td>\n",
       "      <td>2019-04-03T18:28:37.143803Z</td>\n",
       "    </tr>\n",
       "    <tr>\n",
       "      <th>2</th>\n",
       "      <td>2</td>\n",
       "      <td>0.184550</td>\n",
       "      <td>0.184010</td>\n",
       "      <td>0.000089</td>\n",
       "      <td>0.178571</td>\n",
       "      <td>2019-04-03T18:28:37.143803Z</td>\n",
       "    </tr>\n",
       "    <tr>\n",
       "      <th>3</th>\n",
       "      <td>3</td>\n",
       "      <td>0.162456</td>\n",
       "      <td>0.161059</td>\n",
       "      <td>0.000040</td>\n",
       "      <td>0.165022</td>\n",
       "      <td>2019-04-03T18:28:37.143803Z</td>\n",
       "    </tr>\n",
       "    <tr>\n",
       "      <th>4</th>\n",
       "      <td>4</td>\n",
       "      <td>0.170481</td>\n",
       "      <td>0.169622</td>\n",
       "      <td>0.000067</td>\n",
       "      <td>0.162897</td>\n",
       "      <td>2019-04-03T18:28:37.143803Z</td>\n",
       "    </tr>\n",
       "    <tr>\n",
       "      <th>...</th>\n",
       "      <td>...</td>\n",
       "      <td>...</td>\n",
       "      <td>...</td>\n",
       "      <td>...</td>\n",
       "      <td>...</td>\n",
       "      <td>...</td>\n",
       "    </tr>\n",
       "    <tr>\n",
       "      <th>0</th>\n",
       "      <td>0</td>\n",
       "      <td>0.644797</td>\n",
       "      <td>0.645764</td>\n",
       "      <td>0.001507</td>\n",
       "      <td>0.675464</td>\n",
       "      <td>2019-04-21T18:36:02.604233Z</td>\n",
       "    </tr>\n",
       "    <tr>\n",
       "      <th>1</th>\n",
       "      <td>1</td>\n",
       "      <td>0.674348</td>\n",
       "      <td>0.670893</td>\n",
       "      <td>0.003925</td>\n",
       "      <td>0.721262</td>\n",
       "      <td>2019-04-21T18:36:02.604233Z</td>\n",
       "    </tr>\n",
       "    <tr>\n",
       "      <th>2</th>\n",
       "      <td>2</td>\n",
       "      <td>0.635032</td>\n",
       "      <td>0.627330</td>\n",
       "      <td>0.001488</td>\n",
       "      <td>0.644399</td>\n",
       "      <td>2019-04-21T18:36:02.604233Z</td>\n",
       "    </tr>\n",
       "    <tr>\n",
       "      <th>3</th>\n",
       "      <td>3</td>\n",
       "      <td>0.674618</td>\n",
       "      <td>0.670831</td>\n",
       "      <td>0.000835</td>\n",
       "      <td>0.668413</td>\n",
       "      <td>2019-04-21T18:36:02.604233Z</td>\n",
       "    </tr>\n",
       "    <tr>\n",
       "      <th>4</th>\n",
       "      <td>4</td>\n",
       "      <td>0.630733</td>\n",
       "      <td>0.626548</td>\n",
       "      <td>0.001741</td>\n",
       "      <td>0.536138</td>\n",
       "      <td>2019-04-21T18:36:02.604233Z</td>\n",
       "    </tr>\n",
       "  </tbody>\n",
       "</table>\n",
       "<p>165 rows × 6 columns</p>\n",
       "</div>"
      ],
      "text/plain": [
       "    block      mean    median  variance    random                     acquired\n",
       "0       0  0.176674  0.176204  0.000030  0.177962  2019-04-03T18:28:37.143803Z\n",
       "1       1  0.162676  0.161814  0.000054  0.163213  2019-04-03T18:28:37.143803Z\n",
       "2       2  0.184550  0.184010  0.000089  0.178571  2019-04-03T18:28:37.143803Z\n",
       "3       3  0.162456  0.161059  0.000040  0.165022  2019-04-03T18:28:37.143803Z\n",
       "4       4  0.170481  0.169622  0.000067  0.162897  2019-04-03T18:28:37.143803Z\n",
       "..    ...       ...       ...       ...       ...                          ...\n",
       "0       0  0.644797  0.645764  0.001507  0.675464  2019-04-21T18:36:02.604233Z\n",
       "1       1  0.674348  0.670893  0.003925  0.721262  2019-04-21T18:36:02.604233Z\n",
       "2       2  0.635032  0.627330  0.001488  0.644399  2019-04-21T18:36:02.604233Z\n",
       "3       3  0.674618  0.670831  0.000835  0.668413  2019-04-21T18:36:02.604233Z\n",
       "4       4  0.630733  0.626548  0.001741  0.536138  2019-04-21T18:36:02.604233Z\n",
       "\n",
       "[165 rows x 6 columns]"
      ]
     },
     "execution_count": 114,
     "metadata": {},
     "output_type": "execute_result"
    }
   ],
   "source": [
    "all_stats"
   ]
  },
  {
   "cell_type": "markdown",
   "metadata": {},
   "source": [
    "Okay! We have 165 rows, which is (number of blocks)x(number of images). It all checks out.\n",
    "\n",
    "Lets check out these stats in some plots!\n",
    "\n",
    "In these plots, color indicates the blocks. The blocks are colored red, blue, green, black, and purple. The x axis is acquisition time. So each 'column' of colored dots is the block statistic value for a given image."
   ]
  },
  {
   "cell_type": "code",
   "execution_count": 115,
   "metadata": {},
   "outputs": [
    {
     "data": {
      "image/png": "[encoded data removed]",
      "text/plain": [
       "<Figure size 1080x1080 with 4 Axes>"
      ]
     },
     "metadata": {
      "needs_background": "light"
     },
     "output_type": "display_data"
    }
   ],
   "source": [
    "colors = {0:'red', 1:'blue', 2:'green', 3:'black', 4:'purple'}\n",
    "\n",
    "df = all_stats\n",
    "\n",
    "stats = ['mean', 'median', 'random', 'variance']\n",
    "fig, axes = plt.subplots(2, 2, sharex=True, figsize=(15,15))\n",
    "# print(dir(axes[0][0]))\n",
    "for stat, ax in zip(stats, axes.flatten()):\n",
    "    ax.scatter(df['acquired'], df[stat], c=df['block'].apply(lambda x: colors[x]))\n",
    "    ax.set_title(stat)\n",
    "    plt.sca(ax)\n",
    "    plt.xticks(rotation=90)\n",
    "plt.show()"
   ]
  },
  {
   "cell_type": "markdown",
   "metadata": {},
   "source": [
    "Well. We did it! We created a table of summary statistics from test blocks within a field for a time series. If the field blocks had been *actual* test blocks, we would likely see variation between the blocks! But in this demo, the field blocks were drawn randomly by hand. So it is no surprise there isn't much variation. That is actually a good thing!\n",
    "\n",
    "Now that you know how to convert pixels within an aoi to tabular data, the sky is the limit! "
   ]
  }
 ],
 "metadata": {
  "kernelspec": {
   "display_name": "Python 3 (ipykernel)",
   "language": "python",
   "name": "python3"
  },
  "language_info": {
   "codemirror_mode": {
    "name": "ipython",
    "version": 3
   },
   "file_extension": ".py",
   "mimetype": "text/x-python",
   "name": "python",
   "nbconvert_exporter": "python",
   "pygments_lexer": "ipython3",
   "version": "3.8.13"
  }
 },
 "nbformat": 4,
 "nbformat_minor": 4
}
