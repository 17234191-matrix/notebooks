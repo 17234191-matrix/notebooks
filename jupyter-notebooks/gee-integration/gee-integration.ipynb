{
 "cells": [
  {
   "cell_type": "markdown",
   "metadata": {},
   "source": [
    "# Order and Delivery to Google Earth Engine\n",
    "\n",
    "In this notebook we're going to cover how to order data using the [Orders API](https://developers.planet.com/apis/orders/) and deliver it to [Google Earth Engine (GEE)](https://earthengine.google.com/) using [Planet’s GEE Delivery integration](https://developers.planet.com/docs/integrations/gee/).\n",
    "\n",
    "This example demonstrates how to:\n",
    "1. Define the data to be ordered\n",
    "2. Build a cloud delivery configuration object (`delivery_config`), which tells the Orders API where to deliver the data\n",
    "3. Build an order request to be sent off to the Orders API, `iowa_order`\n",
    "4. Create the order and have it deliver to your GEE project\n",
    "\n",
    "**Prerequsites:** \n",
    "- An AOI - `iowa_aoi`\n",
    "- Item ID(s) - `iowa_images`\n",
    "- A GEE project with EE API enabled - `planet-devrel-dev`\n",
    "- A pre-existing GEE [ImageCollection](https://developers.google.com/earth-engine/guides/ic_creating) - `gee-integration-testing`\n",
    "- An account with a download quota. Not sure if you have download quota? Please [get in touch](https://www.planet.com/contact-sales/)."
   ]
  },
  {
   "cell_type": "code",
   "execution_count": 1,
   "metadata": {},
   "outputs": [],
   "source": [
    "import planet"
   ]
  },
  {
   "cell_type": "markdown",
   "metadata": {},
   "source": [
    "## Define data to be ordered"
   ]
  },
  {
   "cell_type": "code",
   "execution_count": 2,
   "metadata": {},
   "outputs": [],
   "source": [
    "# The area of interest (AOI) defined as a polygon\n",
    "iowa_aoi = {\n",
    "    \"type\":\n",
    "    \"Polygon\",\n",
    "    \"coordinates\": [[[-91.198465, 42.893071], [-91.121931, 42.893071],\n",
    "                     [-91.121931, 42.946205], [-91.198465, 42.946205],\n",
    "                     [-91.198465, 42.893071]]]\n",
    "}\n",
    "\n",
    "# The item IDs we wish to order\n",
    "iowa_images = ['20200925_161029_69_2223', '20200925_161027_48_2223']"
   ]
  },
  {
   "cell_type": "markdown",
   "metadata": {},
   "source": [
    "## Define cloud delivery location\n",
    "This is the *key concept* of this notebook. Here, we are defining a cloud delivery configuration object, `cloud_config`, where we are defining the destination to be Google Earth Engine, in the project named `planet-devrel-dev`, in the ImageCollection named `gee-integration-testing`."
   ]
  },
  {
   "cell_type": "code",
   "execution_count": 16,
   "metadata": {},
   "outputs": [],
   "source": [
    "# Google Earth Engine configuration\n",
    "cloud_config = planet.order_request.google_earth_engine(\n",
    "    project='planet-devrel-dev', collection='gee-integration-testing')\n",
    "# Order delivery configuration\n",
    "delivery_config = planet.order_request.delivery(cloud_config=cloud_config)"
   ]
  },
  {
   "cell_type": "markdown",
   "metadata": {},
   "source": [
    "## Build order request\n",
    "Here we are building an order request, where we specify the products we wish to order. Spesifically, here we are requesting the IDs defined in `iowa_images`, as `analytic_udm2` assets, from the Planet Scope Scene product, `PSScene`."
   ]
  },
  {
   "cell_type": "code",
   "execution_count": 4,
   "metadata": {},
   "outputs": [
    {
     "name": "stdout",
     "output_type": "stream",
     "text": [
      "{'name': 'iowa_order', 'products': [{'item_ids': ['20200925_161029_69_2223', '20200925_161027_48_2223'], 'item_type': 'PSScene', 'product_bundle': 'analytic_udm2'}], 'delivery': {'google_earth_engine': {'project': 'planet-devrel-dev', 'collection': 'gee-integration-testing'}}, 'tools': [{'clip': {'aoi': {'type': 'Polygon', 'coordinates': [[[-91.198465, 42.893071], [-91.121931, 42.893071], [-91.121931, 42.946205], [-91.198465, 42.946205], [-91.198465, 42.893071]]]}}}]}\n"
     ]
    }
   ],
   "source": [
    "# Product description for the order request\n",
    "data_products = [\n",
    "    planet.order_request.product(item_ids=iowa_images,\n",
    "                                 product_bundle='analytic_udm2',\n",
    "                                 item_type='PSScene')\n",
    "]\n",
    "# Clip the images to the AOI's perimeter\n",
    "tools = [planet.order_request.clip_tool(iowa_aoi)]\n",
    "\n",
    "# Build the order request\n",
    "iowa_order = planet.order_request.build_request(name='iowa_order',\n",
    "                                                products=data_products,\n",
    "                                                delivery=delivery_config,\n",
    "                                                tools=tools)\n",
    "\n",
    "print(iowa_order)"
   ]
  },
  {
   "cell_type": "markdown",
   "metadata": {},
   "source": [
    "## Create and deliver the order\n",
    "Define a function that will create an order and update you with its progress. In this case, since we specified the delivery destination to be Google Earth Engine with `delivery_config`, it will also wait for it to be delivered to your project."
   ]
  },
  {
   "cell_type": "code",
   "execution_count": 5,
   "metadata": {},
   "outputs": [],
   "source": [
    "async def create_and_deliver_order(order_request, client):\n",
    "    '''Create and deliver an order.\n",
    "\n",
    "    Parameters:\n",
    "        order_request: An order request\n",
    "        client: An Order client object\n",
    "    '''\n",
    "    with planet.reporting.StateBar(state='creating') as reporter:\n",
    "        # Place an order to the Orders API\n",
    "        order = await client.create_order(order_request)\n",
    "        reporter.update(state='created', order_id=order['id'])\n",
    "        # Wait while the order is being completed\n",
    "        await client.wait(order['id'], callback=reporter.update_state)\n",
    "\n",
    "    # Grab the details of the orders\n",
    "    order_details = await client.get_order(order_id=order['id'])\n",
    "\n",
    "    return order_details"
   ]
  },
  {
   "cell_type": "markdown",
   "metadata": {},
   "source": [
    "Create and deliver the order `iowa_order` to the GEE project `planet-devrel-dev` in the ImageCollection `gee-integration-testing`."
   ]
  },
  {
   "cell_type": "code",
   "execution_count": 6,
   "metadata": {},
   "outputs": [
    {
     "name": "stderr",
     "output_type": "stream",
     "text": [
      "04:51 - order c2e1cecd-1c8b-4f6f-b29b-2e44a813e2fb - state: success\n"
     ]
    }
   ],
   "source": [
    "async with planet.Session() as ps:\n",
    "    # The Orders API client\n",
    "    client = planet.OrdersClient(ps)\n",
    "    # Create the order and deliver it to GEE\n",
    "    order_details = await create_and_deliver_order(iowa_order, client)"
   ]
  },
  {
   "cell_type": "markdown",
   "metadata": {},
   "source": [
    "Display the results for the item data in the order."
   ]
  },
  {
   "cell_type": "code",
   "execution_count": 17,
   "metadata": {},
   "outputs": [
    {
     "name": "stdout",
     "output_type": "stream",
     "text": [
      "{'delivery': 'success', 'expires_at': '2022-11-15T23:11:57.623Z', 'location': 'https://api.planet.com/compute/ops/download/?token=eyJhbGciOiJIUzUxMiIsInR5cCI6IkpXVCJ9.eyJleHAiOjE2Njg1NTM5MTcsInN1YiI6ImtMcXdiVEpKVFZieXdsSnNrZDF6Y083YVd2aW9pZE9zaTIzL0VkaTNMNUhjT1pGcndXVCtnYUt4MGxXOVpxbUIzYVJxTTNXOHFuUGRTU2djR1lpcUZ3PT0iLCJ0b2tlbl90eXBlIjoiZG93bmxvYWQtYXNzZXQtc3RhY2siLCJhb2kiOiIiLCJhc3NldHMiOlt7Iml0ZW1fdHlwZSI6IiIsImFzc2V0X3R5cGUiOiIiLCJpdGVtX2lkIjoiIn1dLCJ1cmwiOiJodHRwczovL3N0b3JhZ2UuZ29vZ2xlYXBpcy5jb20vY29tcHV0ZS1vcmRlcnMtbGl2ZS9jMmUxY2VjZC0xYzhiLTRmNmYtYjI5Yi0yZTQ0YTgxM2UyZmIvUFNTY2VuZS8yMDIwMDkyNV8xNjEwMjdfNDhfMjIyM18zQl9BbmFseXRpY01TX21ldGFkYXRhX2NsaXAueG1sP1gtR29vZy1BbGdvcml0aG09R09PRzQtUlNBLVNIQTI1Nlx1MDAyNlgtR29vZy1DcmVkZW50aWFsPWNvbXB1dGUtZ2NzLXN2Y2FjYyU0MHBsYW5ldC1jb21wdXRlLXByb2QuaWFtLmdzZXJ2aWNlYWNjb3VudC5jb20lMkYyMDIyMTExNCUyRmF1dG8lMkZzdG9yYWdlJTJGZ29vZzRfcmVxdWVzdFx1MDAyNlgtR29vZy1EYXRlPTIwMjIxMTE0VDIzMTE1N1pcdTAwMjZYLUdvb2ctRXhwaXJlcz04NjM5OVx1MDAyNlgtR29vZy1TaWduYXR1cmU9NmY4MzkzMmI5ZjY5MGJmOWQ4MTczZmU2MTczYzc2ZjU1NTFlYjMyYzNjYjRmNmNmZjJhOGY2MzM5OTI5NzFlODU2YTg2ZDFlNDllNjlhOTdlYmVmMTMzYjlmNWZiOWQ4MWMyYTFjYjU3YmM1MjAxOGYwMWIxYTY5OTNkYzYyZGRiYWI1NzhiOTY3MmRiM2IwYjcyYTlhOTkzYThlYTE0YzQ3ODcxNmY1NzcxZWJjOTdmNDY4YTkyNTdhZWM1MDM3NGVjNjVkMWU4NmFiZmI5N2JlMmVlZmEyNmMyYTI1ZmE0MTA3OTA5ZmZkNWI5MmE2MTBhMDJjZmQzNjA5OTIwY2Q5NGU2MWFjYTkwODA4Y2NiOWQzOWNjZTZhMjEwNjM4NTFlOTc5NjU2YTNmYmMxMWQ3NDBlZjU5NjY3OWRlM2JjMDg2ZDNlMzc0NzIxNjAzZGZiM2VmZTcwYjg2ZGQ4Nzg5ZGNlZGE1NjJkNzRkZDZhZjRhNTNkZWVmYzVhZWRjMDAwZjk5MjAzYTE1ZmE2ZmNhMDAyMzVmMmE3NzY2YzUyMmRmMzhkYTM3OTY5NzkxOTEwMTMyNzU3ZWZlZmQ2MTI5OTBlNjhiYzE4MDAyZTE3ZDllOWQxZWM1MWYyZWQ1OTk5MDg4ZTM1NDljNDdkNTM1ZWU2YjU3NWY1MTA1ODNcdTAwMjZYLUdvb2ctU2lnbmVkSGVhZGVycz1ob3N0Iiwic291cmNlIjoiT3JkZXJzIFNlcnZpY2UifQ.fxqlml7zMapYMfQp_tfUCouiz9AIJgIeECK2Gw3agaRgdjEGJkJcwdHddLS_GHbFtrbxYC_Jz--3cVPz0nJRHw', 'name': 'c2e1cecd-1c8b-4f6f-b29b-2e44a813e2fb/PSScene/20200925_161027_48_2223_3B_AnalyticMS_metadata_clip.xml'}\n"
     ]
    }
   ],
   "source": [
    "print(order_details['_links']['results'][0])"
   ]
  }
 ],
 "metadata": {
  "kernelspec": {
   "display_name": "Python 3.9.6 64-bit ('3.9.6')",
   "language": "python",
   "name": "python3"
  },
  "language_info": {
   "codemirror_mode": {
    "name": "ipython",
    "version": 3
   },
   "file_extension": ".py",
   "mimetype": "text/x-python",
   "name": "python",
   "nbconvert_exporter": "python",
   "pygments_lexer": "ipython3",
   "version": "3.9.6"
  },
  "orig_nbformat": 4,
  "vscode": {
   "interpreter": {
    "hash": "1bedda3fce59fa236ffac8164c02851c562f094c6d8f95a48784416ec3bbb813"
   }
  }
 },
 "nbformat": 4,
 "nbformat_minor": 2
}
