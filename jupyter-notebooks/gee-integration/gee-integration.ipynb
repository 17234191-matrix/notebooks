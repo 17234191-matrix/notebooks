{
 "cells": [
  {
   "cell_type": "markdown",
   "metadata": {},
   "source": [
    "Ordering and Delivery to Google Earth Engine (GEE)\n",
    "\n",
    "Based off of the client's example (https://github.com/planetlabs/planet-client-python/blob/main/examples/orders_create_and_download_multiple_orders.py)"
   ]
  },
  {
   "cell_type": "code",
   "execution_count": 1,
   "metadata": {},
   "outputs": [],
   "source": [
    "import planet"
   ]
  },
  {
   "cell_type": "markdown",
   "metadata": {},
   "source": [
    "Define order"
   ]
  },
  {
   "cell_type": "code",
   "execution_count": 2,
   "metadata": {},
   "outputs": [],
   "source": [
    "iowa_aoi = {\n",
    "    \"type\":\n",
    "    \"Polygon\",\n",
    "    \"coordinates\": [[[-91.198465, 42.893071], [-91.121931, 42.893071],\n",
    "                     [-91.121931, 42.946205], [-91.198465, 42.946205],\n",
    "                     [-91.198465, 42.893071]]]\n",
    "}\n",
    "\n",
    "iowa_images = ['20200925_161029_69_2223', '20200925_161027_48_2223']"
   ]
  },
  {
   "cell_type": "markdown",
   "metadata": {},
   "source": [
    "Define cloud delivery location"
   ]
  },
  {
   "cell_type": "code",
   "execution_count": 3,
   "metadata": {},
   "outputs": [
    {
     "name": "stdout",
     "output_type": "stream",
     "text": [
      "{'google_earth_engine': {'project': 'planet-devrel-dev', 'collection': 'gee-integration-testing'}}\n"
     ]
    }
   ],
   "source": [
    "delivery_config = planet.order_request.delivery(\n",
    "    cloud_config=planet.order_request.google_earth_engine(\n",
    "        project='planet-devrel-dev', collection='gee-integration-testing'))\n",
    "print(delivery_config)"
   ]
  },
  {
   "cell_type": "markdown",
   "metadata": {},
   "source": [
    "Build order request"
   ]
  },
  {
   "cell_type": "code",
   "execution_count": 4,
   "metadata": {},
   "outputs": [
    {
     "name": "stdout",
     "output_type": "stream",
     "text": [
      "{'name': 'iowa_order', 'products': [{'item_ids': ['20200925_161029_69_2223', '20200925_161027_48_2223'], 'item_type': 'PSScene', 'product_bundle': 'analytic_udm2'}], 'delivery': {'google_earth_engine': {'project': 'planet-devrel-dev', 'collection': 'gee-integration-testing'}}, 'tools': [{'clip': {'aoi': {'type': 'Polygon', 'coordinates': [[[-91.198465, 42.893071], [-91.121931, 42.893071], [-91.121931, 42.946205], [-91.198465, 42.946205], [-91.198465, 42.893071]]]}}}]}\n"
     ]
    }
   ],
   "source": [
    "data_products = [\n",
    "    planet.order_request.product(iowa_images, 'analytic_udm2', 'PSScene')\n",
    "]\n",
    "tools = [planet.order_request.clip_tool(iowa_aoi)]\n",
    "\n",
    "iowa_order = planet.order_request.build_request(name='iowa_order',\n",
    "                                                products=data_products,\n",
    "                                                delivery=delivery_config,\n",
    "                                                tools=tools)\n",
    "\n",
    "print(iowa_order)"
   ]
  },
  {
   "cell_type": "markdown",
   "metadata": {},
   "source": [
    "Define create and download order functions"
   ]
  },
  {
   "cell_type": "code",
   "execution_count": 5,
   "metadata": {},
   "outputs": [],
   "source": [
    "async def create_and_get_order(order_detail, client):\n",
    "    with planet.reporting.StateBar(state='creating') as reporter:\n",
    "        # create\n",
    "        order = await client.create_order(order_detail)\n",
    "        reporter.update(state='created', order_id=order['id'])\n",
    "        # wait for completion\n",
    "        await client.wait(order['id'], callback=reporter.update_state)\n",
    "\n",
    "    order_details = await client.get_order(order_id=order['id'])\n",
    "    return order_details"
   ]
  },
  {
   "cell_type": "markdown",
   "metadata": {},
   "source": []
  },
  {
   "cell_type": "markdown",
   "metadata": {},
   "source": [
    "Create and download order"
   ]
  },
  {
   "cell_type": "code",
   "execution_count": 6,
   "metadata": {},
   "outputs": [
    {
     "name": "stderr",
     "output_type": "stream",
     "text": [
      "05:06 - order cd214ce6-d3e3-46eb-a852-74d4f4899443 - state: success\n"
     ]
    }
   ],
   "source": [
    "async with planet.Session() as ps:\n",
    "    client = planet.OrdersClient(ps)\n",
    "    order_details = await create_and_get_order(iowa_order, client)"
   ]
  },
  {
   "cell_type": "code",
   "execution_count": 7,
   "metadata": {},
   "outputs": [
    {
     "name": "stdout",
     "output_type": "stream",
     "text": [
      "{'_links': {'_self': 'https://api.planet.com/compute/ops/orders/v2/cd214ce6-d3e3-46eb-a852-74d4f4899443', 'results': [{'delivery': 'success', 'expires_at': '2022-11-15T18:22:49.403Z', 'location': 'https://api.planet.com/compute/ops/download/?token=eyJhbGciOiJIUzUxMiIsInR5cCI6IkpXVCJ9.eyJleHAiOjE2Njg1MzY1NjksInN1YiI6IjZoNGl1RDVFY2dMbnh0WkE1ZzErZTNrMnJxOCttMFRuemx1S1QzSzBIQTNleUtVT3pXaFd0aTNuZFNZSTZxd0dWbUN4SHozdmVGSzEvYTVydGJmdkFBPT0iLCJ0b2tlbl90eXBlIjoiZG93bmxvYWQtYXNzZXQtc3RhY2siLCJhb2kiOiIiLCJhc3NldHMiOlt7Iml0ZW1fdHlwZSI6IiIsImFzc2V0X3R5cGUiOiIiLCJpdGVtX2lkIjoiIn1dLCJ1cmwiOiJodHRwczovL3N0b3JhZ2UuZ29vZ2xlYXBpcy5jb20vY29tcHV0ZS1vcmRlcnMtbGl2ZS9jZDIxNGNlNi1kM2UzLTQ2ZWItYTg1Mi03NGQ0ZjQ4OTk0NDMvUFNTY2VuZS8yMDIwMDkyNV8xNjEwMjdfNDhfMjIyM19tZXRhZGF0YS5qc29uP1gtR29vZy1BbGdvcml0aG09R09PRzQtUlNBLVNIQTI1Nlx1MDAyNlgtR29vZy1DcmVkZW50aWFsPWNvbXB1dGUtZ2NzLXN2Y2FjYyU0MHBsYW5ldC1jb21wdXRlLXByb2QuaWFtLmdzZXJ2aWNlYWNjb3VudC5jb20lMkYyMDIyMTExNCUyRmF1dG8lMkZzdG9yYWdlJTJGZ29vZzRfcmVxdWVzdFx1MDAyNlgtR29vZy1EYXRlPTIwMjIxMTE0VDE4MjI0OVpcdTAwMjZYLUdvb2ctRXhwaXJlcz04NjM5OVx1MDAyNlgtR29vZy1TaWduYXR1cmU9MGY1NmI3MTZjYzgwZDFlNzMwNTJmMjRlOTE5N2M3YzhjZjk0OWMzNTFlZGRmOWMzMGE1MjdhNzI2YzFlYTc1MDM0YmYxNzcwNmU2ZTRjOWMwMGVhYjY4OWVjMzAzY2IzM2MzNjc1ZTk4Y2IwYWU4ZGMwNWQzN2EyZmE1NzM2YTNkNDFlODM1MTQ0OTk1ZTJkM2I5YWNlN2QxOWYzZjhlNTkwNzJlN2JkNjRhY2I4ZjY5YjY4MzEyZWFmMGEwYTI2N2JhNTUyNjZmMjliZTI5OGUxNWUzZTM5NTY4NDk5MGVjYmY3MjhmZWI2ZGI5OTQxYjI3YjU4ODNlNTVhMGQwN2MwOTkxYThiMTA2MmE0MGJlNTViMzlhN2NhMDc0ZTk3YTVlOTc2YzcxOWZkOTg1YmFjYmZiZDA2YmQwMjFhNDcyMTBhNjMyMDA5NWI2MjUzMTIzYWY5MDZjOWM2NTM0M2QzMWY3OTg0YmFmMzI3YTA2NDcwNjhiMWFiZGNlZjlmNzc5MWM5ODQ2ZDM1MjQwODNhZWE5ZDUyZDkyZTY5ZGU1MWIxNWE0ZGEyMThjZjU0NzBiZTY4NjE2ZDdhNzg3Y2YzZWU1ZWVhMTZhM2M5MzI2YWZiNjZkOGE0NTI5NzczZmQ5ZDIxNTJiNzlhY2EzYTViOWZmNDAwN2M5MDNhM2NcdTAwMjZYLUdvb2ctU2lnbmVkSGVhZGVycz1ob3N0Iiwic291cmNlIjoiT3JkZXJzIFNlcnZpY2UifQ.7kg3-fKgfMDjkUo7OXJG2ffH2hm6oS8_pSYsj2cPTeT1Z9g_Ck8dh-PXe83rRKV9bIoUUIm2_ApIz6nhVx6IlQ', 'name': 'cd214ce6-d3e3-46eb-a852-74d4f4899443/PSScene/20200925_161027_48_2223_metadata.json'}, {'delivery': 'success', 'expires_at': '2022-11-15T18:22:49.406Z', 'location': 'https://api.planet.com/compute/ops/download/?token=eyJhbGciOiJIUzUxMiIsInR5cCI6IkpXVCJ9.eyJleHAiOjE2Njg1MzY1NjksInN1YiI6Iml5eW9rZUFBcEpOR2wzQzdLWkRFV1VhTkhaM282VC9IRGtFdDhyZ201VkMzWi9uK0ZhMVZ3ZzM4enZsS0J5QkVPSzBKdldGc1ZaV1dzSVc0MnNGS0Z3PT0iLCJ0b2tlbl90eXBlIjoiZG93bmxvYWQtYXNzZXQtc3RhY2siLCJhb2kiOiIiLCJhc3NldHMiOlt7Iml0ZW1fdHlwZSI6IiIsImFzc2V0X3R5cGUiOiIiLCJpdGVtX2lkIjoiIn1dLCJ1cmwiOiJodHRwczovL3N0b3JhZ2UuZ29vZ2xlYXBpcy5jb20vY29tcHV0ZS1vcmRlcnMtbGl2ZS8yMDIwMDkyNV8xNjEwMjdfNDhfMjIyM18zQl91ZG0yX2NsaXAudGlmP1gtR29vZy1BbGdvcml0aG09R09PRzQtUlNBLVNIQTI1Nlx1MDAyNlgtR29vZy1DcmVkZW50aWFsPWNvbXB1dGUtZ2NzLXN2Y2FjYyU0MHBsYW5ldC1jb21wdXRlLXByb2QuaWFtLmdzZXJ2aWNlYWNjb3VudC5jb20lMkYyMDIyMTExNCUyRmF1dG8lMkZzdG9yYWdlJTJGZ29vZzRfcmVxdWVzdFx1MDAyNlgtR29vZy1EYXRlPTIwMjIxMTE0VDE4MjI0OVpcdTAwMjZYLUdvb2ctRXhwaXJlcz04NjM5OVx1MDAyNlgtR29vZy1TaWduYXR1cmU9YTg0YzA3NWNmNGE2MWQ4ZGI3OWU0YTFmYmYxMDUwNDAxNTA5MzhlMDU0YmFmNzI2YTAxZmIxMjFkNGRkMTc0MjA1MzAyNWViMGYyMmE4NDI3MWMyODU3MGE5ZTk5NzM4ZmMzNjVlMWVkNzYwOTkyNzg2ODNiMDJlOGZhMjlmMmQzZjkwYzg4M2ViZjQ5MDY3MmQ4YmNhMzEzOTI5NzJjMWViMjZiNmYwMDk5ZmJmMzIxOGM5NDU3MTQ1ZjFlYjhkYzRiMzgxMTllZTRiZTA0YjgwNzc1MWIzZjQyMjc1YmEyZGRiN2NjY2I4MTk5NTRmZWRmOGI1ZGU5YmQ2MmQ5MGVhOGVkYjY5MWRmZjUzMjU0NmEyNjBiNTJkYjEyNzI4NzNmOWI5ZTIwYzgxNDgyYTU1MmVhZTMwM2Q0MjUwNjdjNDljZjcwODQxYmU0OTc1ODkxMWY0NjczY2YyMGI4ZDlmMzY2ZGI5MWU0OGRmNjZkOGViOGY2ZjUxYTU3MmJlMGE4MTdkNGQwZTY3MWJhMzA4ZmJlNTg5YTVkMmZjYjdmMGYzODYwOWExODYwZTY4N2U5ZTBiODgyYzUyOTIxMDQzNjNhZTkwNmYxYWQ3NzBhYTczNWFkMjNhNDU2ODMyM2JlYzk5ZDRlOWJkOTg0Y2Q1NTBiNGY4ZDE2YjU5Y2ZcdTAwMjZYLUdvb2ctU2lnbmVkSGVhZGVycz1ob3N0Iiwic291cmNlIjoiT3JkZXJzIFNlcnZpY2UifQ.Vzg0wYeHd2Zw_XaN6Gi9GIgNqv9WMEXV8ZasG0W946ajZRNHA8X4tCMDm5P7dQarr5-Cm_2amPUPuYd9GK6_IA', 'name': '20200925_161027_48_2223_3B_udm2_clip.tif'}, {'delivery': 'success', 'expires_at': '2022-11-15T18:22:49.409Z', 'location': 'https://api.planet.com/compute/ops/download/?token=eyJhbGciOiJIUzUxMiIsInR5cCI6IkpXVCJ9.eyJleHAiOjE2Njg1MzY1NjksInN1YiI6IjByQ1VNb2RLeE1HNk80WmVZWWpIc0phMXFCRFp2UzNLdmV2dld3dktyZ1JMMEZGajhhbWRjN1kvaG1rWUVpTmJYYncwMlFVcHU0MStHc1R6VFd2amZRPT0iLCJ0b2tlbl90eXBlIjoiZG93bmxvYWQtYXNzZXQtc3RhY2siLCJhb2kiOiIiLCJhc3NldHMiOlt7Iml0ZW1fdHlwZSI6IiIsImFzc2V0X3R5cGUiOiIiLCJpdGVtX2lkIjoiIn1dLCJ1cmwiOiJodHRwczovL3N0b3JhZ2UuZ29vZ2xlYXBpcy5jb20vY29tcHV0ZS1vcmRlcnMtbGl2ZS9jZDIxNGNlNi1kM2UzLTQ2ZWItYTg1Mi03NGQ0ZjQ4OTk0NDMvUFNTY2VuZS8yMDIwMDkyNV8xNjEwMjdfNDhfMjIyM18zQl9BbmFseXRpY01TX21ldGFkYXRhX2NsaXAueG1sP1gtR29vZy1BbGdvcml0aG09R09PRzQtUlNBLVNIQTI1Nlx1MDAyNlgtR29vZy1DcmVkZW50aWFsPWNvbXB1dGUtZ2NzLXN2Y2FjYyU0MHBsYW5ldC1jb21wdXRlLXByb2QuaWFtLmdzZXJ2aWNlYWNjb3VudC5jb20lMkYyMDIyMTExNCUyRmF1dG8lMkZzdG9yYWdlJTJGZ29vZzRfcmVxdWVzdFx1MDAyNlgtR29vZy1EYXRlPTIwMjIxMTE0VDE4MjI0OVpcdTAwMjZYLUdvb2ctRXhwaXJlcz04NjM5OVx1MDAyNlgtR29vZy1TaWduYXR1cmU9MjBlMTg0YjQxYmFkMjgwYWE5ZGJkZTM5ZDZjY2QxNjgyNGRkZGM2YzQ2YmE1NDI0NGVkZTdlNTQ5NzFhYjg2MDNmMjQxYTBlYTk1MGYwZmVhNGM1MWM0YWU2YjlhZjU5YzM1NzBlZjFlZTYwMTNkODU1M2MwOGRjN2IyMzk5MWM5M2MxM2RkNGZmZDI0Yzg1NTQ5OTU5NWVjMjdkODA1OTA3ZjliYTI4MjdlYWQ2ODdiODVkMThjMjBlNmFiODNjMDcxODE5NzIxMGUxYThmYzQ1MTMyMzI1OWQ5ODU5ZjA3ODdmZGYyYzcwZWZmYTIwMGVkYjZlYjY0MWE0OTI2MTc2NDYwZDhlOTYyZGNmYzM3MzlmNTdlYjNlMDY3NzBmMTJhYjY2ZTI1YmJiYzJmYTNlZjI1MDQwNjdmZDFmMGNlZTdjODEyZWQ2MWNjODY4MmI0OGVjYTQ3ZGU1YmY2NDEzOWI5NDYzZjQ0ZDViM2Y0YWU2ZDdkOTkyMTI3MjAxOGYzOGRhMTBjZmNlMmZmMTQ0MTE1NzRkMWM4NmI5NTAyMGUyN2YzODU2YzVmMzM3MjE2NTQ1NWJiN2QzMTliNWY1Y2JhODlhZDBmZTQzZDQyY2UxYzk2ZmE5N2FkM2FiNTZiYzFmMWQ3YjUzNjUzYTI4ODY5ZjkyN2EwOTYxMzVcdTAwMjZYLUdvb2ctU2lnbmVkSGVhZGVycz1ob3N0Iiwic291cmNlIjoiT3JkZXJzIFNlcnZpY2UifQ.d0WPNQCWTwLvbyLKqAZDL29gIDYJhPStjlz1wlqNgqmCw5Ar_e07fo6Sl2DJcKIJxGHoQe6XykbQAgKBRrzbCA', 'name': 'cd214ce6-d3e3-46eb-a852-74d4f4899443/PSScene/20200925_161027_48_2223_3B_AnalyticMS_metadata_clip.xml'}, {'delivery': 'success', 'expires_at': '2022-11-15T18:22:49.412Z', 'location': 'https://api.planet.com/compute/ops/download/?token=eyJhbGciOiJIUzUxMiIsInR5cCI6IkpXVCJ9.eyJleHAiOjE2Njg1MzY1NjksInN1YiI6InF2SXlwbk5oejVmUEFJWEsyaFJxMndqeENzSEJjMEI1SUpCWU9oSWhqY0ZZMXJyZEdNaWZhQlZLZEU1TWFtQ1ljSktJUlROS3VveWJLUkZtcUt6U3VnPT0iLCJ0b2tlbl90eXBlIjoiZG93bmxvYWQtYXNzZXQtc3RhY2siLCJhb2kiOiIiLCJhc3NldHMiOlt7Iml0ZW1fdHlwZSI6IiIsImFzc2V0X3R5cGUiOiIiLCJpdGVtX2lkIjoiIn1dLCJ1cmwiOiJodHRwczovL3N0b3JhZ2UuZ29vZ2xlYXBpcy5jb20vY29tcHV0ZS1vcmRlcnMtbGl2ZS8yMDIwMDkyNV8xNjEwMjdfNDhfMjIyM18zQl9BbmFseXRpY01TX2NsaXAudGlmP1gtR29vZy1BbGdvcml0aG09R09PRzQtUlNBLVNIQTI1Nlx1MDAyNlgtR29vZy1DcmVkZW50aWFsPWNvbXB1dGUtZ2NzLXN2Y2FjYyU0MHBsYW5ldC1jb21wdXRlLXByb2QuaWFtLmdzZXJ2aWNlYWNjb3VudC5jb20lMkYyMDIyMTExNCUyRmF1dG8lMkZzdG9yYWdlJTJGZ29vZzRfcmVxdWVzdFx1MDAyNlgtR29vZy1EYXRlPTIwMjIxMTE0VDE4MjI0OVpcdTAwMjZYLUdvb2ctRXhwaXJlcz04NjM5OVx1MDAyNlgtR29vZy1TaWduYXR1cmU9OGVlNTdmMjZkZTM5OGQ1YTJjMzBjYTVlNmZmNWNiMGE0YWJmNDM2OGY3Njk1ZjU3Mzk0OGM3MzU2MjkxNGMyNjE2Yzg0MDFjYjA1ZTdjODAwNzkxOTE0MWEyYzM4ODEwZGE3NDdhMDNjMmVmZDg0MWQ0OTI1MmFmMzA5ZjFmZDYxNTY0MTZkOTJhZTYwN2RhZDU4OWJiZTY2NTM4NDM1MDcxNWIzNDY5MGI2NWY0MGJmMDRlY2JhYzAwNDEyYWU2Y2VhMzU1MzA4YzM4Mjc0MjMwMjU0NjQyMWYyM2IzNWVhMTdiZWEzNTcxOWMwYWQ0NGZhMjhhMWQwM2IxZTU0NjUyMGY4MjgzODA2NDBmZGY2NDViNmYxYmJiNjYwZjI4NDEwYzRmMjg4ZmU0YzVkY2I4NWI5NjhmNWMwODRlZTQ2YmZhMWYyMDBjNWM3OTgxYjBlODU4NmRiYjkwODM2MWUxYjJjMTgzYTdmYzFhMGM0YTlmMjY2ZTJlY2VmNmEwZDllODQwMWI1NWMzNjBmOGRlMTU0YTZmMzJjMTFlYTg5NDI4ODJhYjc4OTk2M2MyMDZlZTQ4MzFmYzQyZmU2NTZjYWFmN2U2M2U5MTY4NjhiOWVjMjFmMzI2MGI0ZDNiNTBjNWFiZmIxN2I5NWQyZTE2NWM5YzBhYzQ4NmJlMTBcdTAwMjZYLUdvb2ctU2lnbmVkSGVhZGVycz1ob3N0Iiwic291cmNlIjoiT3JkZXJzIFNlcnZpY2UifQ.ZShJ1FpiflvmbculHyMUNi7fsD2wMEOLYRQa0Rxxe4wC-vJ68HxOYVRknb1B6qJVRmVnwhxwiy-q1853AKkQQw', 'name': '20200925_161027_48_2223_3B_AnalyticMS_clip.tif'}, {'delivery': 'success', 'expires_at': '2022-11-15T18:22:49.403Z', 'location': 'https://api.planet.com/compute/ops/download/?token=eyJhbGciOiJIUzUxMiIsInR5cCI6IkpXVCJ9.eyJleHAiOjE2Njg1MzY1NjksInN1YiI6IkZNZ3lKRE00YWkxaitTTXVZcndHYVhlVDBLMk5BRnVJdzZQYTA5MFdGYXpOT1U2UFZEVHg4ZVBsUXZpS0k0dURhMW5ZaCtKbVNLdnZBTWljQ09URDlnPT0iLCJ0b2tlbl90eXBlIjoiZG93bmxvYWQtYXNzZXQtc3RhY2siLCJhb2kiOiIiLCJhc3NldHMiOlt7Iml0ZW1fdHlwZSI6IiIsImFzc2V0X3R5cGUiOiIiLCJpdGVtX2lkIjoiIn1dLCJ1cmwiOiJodHRwczovL3N0b3JhZ2UuZ29vZ2xlYXBpcy5jb20vY29tcHV0ZS1vcmRlcnMtbGl2ZS9jZDIxNGNlNi1kM2UzLTQ2ZWItYTg1Mi03NGQ0ZjQ4OTk0NDMvUFNTY2VuZS8yMDIwMDkyNV8xNjEwMjlfNjlfMjIyM19tZXRhZGF0YS5qc29uP1gtR29vZy1BbGdvcml0aG09R09PRzQtUlNBLVNIQTI1Nlx1MDAyNlgtR29vZy1DcmVkZW50aWFsPWNvbXB1dGUtZ2NzLXN2Y2FjYyU0MHBsYW5ldC1jb21wdXRlLXByb2QuaWFtLmdzZXJ2aWNlYWNjb3VudC5jb20lMkYyMDIyMTExNCUyRmF1dG8lMkZzdG9yYWdlJTJGZ29vZzRfcmVxdWVzdFx1MDAyNlgtR29vZy1EYXRlPTIwMjIxMTE0VDE4MjI0OVpcdTAwMjZYLUdvb2ctRXhwaXJlcz04NjM5OVx1MDAyNlgtR29vZy1TaWduYXR1cmU9NDMwOWE3MjNiNWFiMTMwMmEwMWE5ODFhNmE2OGY4ZGQxYTI4MTQyZGE0OTgyOTJjNGRiZjc5MTYwMzU4OWVkOTgyYjFmOGU4YWQxZGY5Yjk5NDE5ZTAwMjgzNDJhNWYzMGIxOGI3YjNlMzY1Y2QwYjBkMjk3ZDBhNjU5NDdlODQzZTk5OWQ5OWU2ZDNkNDM3YzczNjBhNTRmN2YxMGI4ZTEwY2IxMDM5MTAyMTY1YzEwZWM2ZWRiZGNhN2U5ZjAwOGMzYWVjYzkxYzMyMjBhYzEzN2U3MTMzMzc1NmM5ZDk0Nzk1ZTM1YmU0YTMwMzQ0Mzc4Y2MwYmQ5YmQwYTRmMDc1NTI3ZGUxZmQ0NmFlY2IwN2RlZGFiNzQ3ZDY5YjM4YzA5YTZkMjljNmZhM2QwMDg2YTJiNmYxYzc3OTU3Mzg4NDMxOGNlZTlmMTE2NGVmNTQ0ZmEyMmZlZmFkYTgzM2E0NmU5MmM4YmY5NGVlYjcxYzVkOGRmNDk3OWIwNTU0MDUwODJiNTFjM2RjOGI0YTIxM2UzMzY0ZWM1ZWQ1YTkzM2ZiYjYwNTA2ZmU4YjJkNzIwZTFhMGU1ZjYzYmY2ZDY3ODljY2EwNDMzYTM3MTE4Y2QyZWNiMmZkOGU3NzBkM2NhNjI4MTEzZWY5ZWFhZGNkNWQyMjJlZWFjN2E4YThcdTAwMjZYLUdvb2ctU2lnbmVkSGVhZGVycz1ob3N0Iiwic291cmNlIjoiT3JkZXJzIFNlcnZpY2UifQ.b77BDOA59aHK4XuJMdW1MStJ5s2atKz8E3LXx-2sUGUYYZgR0NawBvPESLUlCzic-nZ1vLYZV6RgJPImhlc-CQ', 'name': 'cd214ce6-d3e3-46eb-a852-74d4f4899443/PSScene/20200925_161029_69_2223_metadata.json'}, {'delivery': 'success', 'expires_at': '2022-11-15T18:22:49.406Z', 'location': 'https://api.planet.com/compute/ops/download/?token=eyJhbGciOiJIUzUxMiIsInR5cCI6IkpXVCJ9.eyJleHAiOjE2Njg1MzY1NjksInN1YiI6InFhdXJhSE1QZDNVZU5WdzZ5eHpkZ2JPWXRPZkN2cVhnamRJb2FDb2lJcDJLMEFKQ2M3TElwYUJvc01Xd0JNc3c2UHFkV2dlR2ZEeThXdlZ1T1p0ODBRPT0iLCJ0b2tlbl90eXBlIjoiZG93bmxvYWQtYXNzZXQtc3RhY2siLCJhb2kiOiIiLCJhc3NldHMiOlt7Iml0ZW1fdHlwZSI6IiIsImFzc2V0X3R5cGUiOiIiLCJpdGVtX2lkIjoiIn1dLCJ1cmwiOiJodHRwczovL3N0b3JhZ2UuZ29vZ2xlYXBpcy5jb20vY29tcHV0ZS1vcmRlcnMtbGl2ZS8yMDIwMDkyNV8xNjEwMjlfNjlfMjIyM18zQl91ZG0yX2NsaXAudGlmP1gtR29vZy1BbGdvcml0aG09R09PRzQtUlNBLVNIQTI1Nlx1MDAyNlgtR29vZy1DcmVkZW50aWFsPWNvbXB1dGUtZ2NzLXN2Y2FjYyU0MHBsYW5ldC1jb21wdXRlLXByb2QuaWFtLmdzZXJ2aWNlYWNjb3VudC5jb20lMkYyMDIyMTExNCUyRmF1dG8lMkZzdG9yYWdlJTJGZ29vZzRfcmVxdWVzdFx1MDAyNlgtR29vZy1EYXRlPTIwMjIxMTE0VDE4MjI0OVpcdTAwMjZYLUdvb2ctRXhwaXJlcz04NjM5OVx1MDAyNlgtR29vZy1TaWduYXR1cmU9OGI4ZWRlMTg1MTliYThiZTg1ZTI1ZjI3ZDc4ODRiODFlN2Q0ODBjM2VlZDNkYjY3YmVkMWIyZWUzMjQzNTExMTlhNzNhNTJkMjM1OTNjM2FiM2ViMzIxNDY5NmQwNWM2MTE4NWRhMWMyZWFhMmM3NzI4MjJmNzg2MDcyZjNmNDE3ZWFmNjM2ZmUzNmI4MmU0MWU3YmJkNTA1Yjg4M2I0NWNkZjVkMmM1ZTU3MmQ1NjZmYmI4ZGMxMTdmZWY1Y2NmYzNkM2E0YTYyMjhiMTdkOGM0ZTA2Y2NmNGNlZjM1ZjBhMDk5MTRiYzA1MGM5YjFiZTQ5YzA3ZjNkYzA0ZTkzZjBjNDI4N2NjNDM5MDhjZDhlNjZhMzdjYTM1Y2NjYzdmOWM4ZGJmZjczZjIwZmI3ZTJiYjczNmFiNGU3MjVmNjY5MjBkMTg3NTQ4OWE1YTBlYmMxNWE0NGVhNWUxNTk0OTBiOWY5NTg4ZWQ1OWY1Nzg2MDdkZmE3NmQxZmRlYTUxOTcxOTA5MGFlNTlmZDIxZDU0YWYwZDkwZmY5ZGRlOGZjODFlMjFkZmU2OWUyOWFiNzRmZjEyNzI0OWRhMDMzYWNkNWM1MWU1NmZkZWZkMjk1YjI5NmMxNzFmNWZlYzM0MzQ2MWEwMTMyODY0Yzk2ODc3YzQwNjA2MDA1OTYyOGFcdTAwMjZYLUdvb2ctU2lnbmVkSGVhZGVycz1ob3N0Iiwic291cmNlIjoiT3JkZXJzIFNlcnZpY2UifQ.Vh0IdEeEmpP0sBMg3QGGj1jruB6FYDlm4336SEgCKR7hnk1GAQrvJ--CBw2G0oAeBGm5yvucVkVDPqtbt2TXXQ', 'name': '20200925_161029_69_2223_3B_udm2_clip.tif'}, {'delivery': 'success', 'expires_at': '2022-11-15T18:22:49.410Z', 'location': 'https://api.planet.com/compute/ops/download/?token=eyJhbGciOiJIUzUxMiIsInR5cCI6IkpXVCJ9.eyJleHAiOjE2Njg1MzY1NjksInN1YiI6IlJaSHhxK2NIQVdSU29pWlFTZm1VaFBLVThxTTh3cFFZUEk4NVNNRGZSNTFaUFd5eWdycnJxTHNVaTA5bmRheWZZMDB5R0NtekZncVNyZ2FSOWZ5WkpBPT0iLCJ0b2tlbl90eXBlIjoiZG93bmxvYWQtYXNzZXQtc3RhY2siLCJhb2kiOiIiLCJhc3NldHMiOlt7Iml0ZW1fdHlwZSI6IiIsImFzc2V0X3R5cGUiOiIiLCJpdGVtX2lkIjoiIn1dLCJ1cmwiOiJodHRwczovL3N0b3JhZ2UuZ29vZ2xlYXBpcy5jb20vY29tcHV0ZS1vcmRlcnMtbGl2ZS9jZDIxNGNlNi1kM2UzLTQ2ZWItYTg1Mi03NGQ0ZjQ4OTk0NDMvUFNTY2VuZS8yMDIwMDkyNV8xNjEwMjlfNjlfMjIyM18zQl9BbmFseXRpY01TX21ldGFkYXRhX2NsaXAueG1sP1gtR29vZy1BbGdvcml0aG09R09PRzQtUlNBLVNIQTI1Nlx1MDAyNlgtR29vZy1DcmVkZW50aWFsPWNvbXB1dGUtZ2NzLXN2Y2FjYyU0MHBsYW5ldC1jb21wdXRlLXByb2QuaWFtLmdzZXJ2aWNlYWNjb3VudC5jb20lMkYyMDIyMTExNCUyRmF1dG8lMkZzdG9yYWdlJTJGZ29vZzRfcmVxdWVzdFx1MDAyNlgtR29vZy1EYXRlPTIwMjIxMTE0VDE4MjI0OVpcdTAwMjZYLUdvb2ctRXhwaXJlcz04NjM5OVx1MDAyNlgtR29vZy1TaWduYXR1cmU9NjA4NTQ0MWMxOWJiYzdhZDg3YWU2ODcyMDg5NGRmNGQzZDM2MjcxZDUyYWJjOTkxZmU1ODMyMzNiMmMzMDM0ODA3MTI3OTEwNjAyNTM2MmU4NTBjZTI4OGI2NDQ5OTdlOWUwODAwODAxZGJmYjVhZjJmOGQ5OGE5NDI0M2Y1OGJhMDZkMWU2MmJmZThiOGFmMDVmYzI3OGQ2OTk2YjliMjI4YWY0MjI3MDhhN2EzYzNiM2I1NzVjODRjNmUyOTQ4ZjllNWFkMzNkNDljNzlmMTUyMDJjOWJmZGMxZTQ5OTI0NGY1NGUwOWU3ODgwNGViMzhmNzViZmFkMzFiOTIzNTg1MDg4Njc3NGNmNjgyNWE4NDlkZDEyNmZhMzdkN2Q3OTY5M2E4ZmNjZGNjNzEzOGExNTk4MTI0YzQzYjI3ZWMwZGM1MGZlYjQzYWU3OTliNTFhM2U2MWQ2MDAzYThkNmE2YWY4N2QzNmNlZjg2YjJkZWRhMDU5YWNlMjk3ZDY2OWRkNjhiZjRmNTRmZWFjZDAzMDgxY2JkODJlYWQ0MTI4MjRkNzI0NzMyODk4ZGE0YjhmNmEwOWNmN2UzOTcwY2VjZWJhNjBkODg3MjQwNzAwOWYwNTM0OWI4ZWFmOGM3ZDIxYWUzN2Y0YzUyOWI1OTVmZTRjNTJmYzY1YTkzOGZcdTAwMjZYLUdvb2ctU2lnbmVkSGVhZGVycz1ob3N0Iiwic291cmNlIjoiT3JkZXJzIFNlcnZpY2UifQ.ec5HIJBuFlGoAdlB4vU-S8R68msTbr0s4FgA6PG7L6bsr9bRxJNeHW60mRiPy9zwHoSc-E689aeYmaM7sFxfEw', 'name': 'cd214ce6-d3e3-46eb-a852-74d4f4899443/PSScene/20200925_161029_69_2223_3B_AnalyticMS_metadata_clip.xml'}, {'delivery': 'success', 'expires_at': '2022-11-15T18:22:49.413Z', 'location': 'https://api.planet.com/compute/ops/download/?token=eyJhbGciOiJIUzUxMiIsInR5cCI6IkpXVCJ9.eyJleHAiOjE2Njg1MzY1NjksInN1YiI6ImpNaUlZVzM1aEZTNFFoNDlleEV2dEIrTU1BV0RLa0JnN2Ewdk53ckhGTHUwcFBQcFRTd2N3YXdOQzFBUkR0bnR6c3B0Y3FXZDdtUHc5SEtBZHFUbjR3PT0iLCJ0b2tlbl90eXBlIjoiZG93bmxvYWQtYXNzZXQtc3RhY2siLCJhb2kiOiIiLCJhc3NldHMiOlt7Iml0ZW1fdHlwZSI6IiIsImFzc2V0X3R5cGUiOiIiLCJpdGVtX2lkIjoiIn1dLCJ1cmwiOiJodHRwczovL3N0b3JhZ2UuZ29vZ2xlYXBpcy5jb20vY29tcHV0ZS1vcmRlcnMtbGl2ZS8yMDIwMDkyNV8xNjEwMjlfNjlfMjIyM18zQl9BbmFseXRpY01TX2NsaXAudGlmP1gtR29vZy1BbGdvcml0aG09R09PRzQtUlNBLVNIQTI1Nlx1MDAyNlgtR29vZy1DcmVkZW50aWFsPWNvbXB1dGUtZ2NzLXN2Y2FjYyU0MHBsYW5ldC1jb21wdXRlLXByb2QuaWFtLmdzZXJ2aWNlYWNjb3VudC5jb20lMkYyMDIyMTExNCUyRmF1dG8lMkZzdG9yYWdlJTJGZ29vZzRfcmVxdWVzdFx1MDAyNlgtR29vZy1EYXRlPTIwMjIxMTE0VDE4MjI0OVpcdTAwMjZYLUdvb2ctRXhwaXJlcz04NjM5OVx1MDAyNlgtR29vZy1TaWduYXR1cmU9NGRhOWE3Zjk2MGZjODM0NmFmZjEzZWYyZTdiMGE3YzcxMmNhOGU2NTE1NDEyYzExNjk0ZDQ3MzNiOWRiZGM0MzBiMGE2ODBmNWY0OWNjNmEzNmNiMGM1YmZlNzIxYzliMDk2M2E2MGQzMzhkMTllNDE2OWE4YmQxNmMwMGE3MTQ5OTUwODQxYzVmZmM2NjU5ZDViODlmOTdlMDBmNzI5OTAwNjg2MzI3NWQzNTM3NTNlOGY5MjU3ZjhmMjQwMzNkNGFkYjczMTk1NjYxNmViODdmOWQ5ZjdhMGQ1ZjVlNjIzZWVjNjVkZjFmYjBhNGRhNzc2OTFmYjk0OGM0MzJmNjZhNzE0ZGFjNWQ2Zjk0ZTkzODNkMjYzOWE0ZDNkZGIzZjAwMWY3N2FkOTM0ZjI2YWMwYTI4NjMwY2YwMjVkNjRhYmI1NWVjYzM5NjgyNDAyNGMxZjRiZTUwYmY0MzE2ZDZlMjljZTMwZTAzZjQ4YmEwZmY3ZGRjMzAwYWU3ZjYwMGE0MjhiZjY1YmQyOTU3M2FhZTI2N2RlYjlkNTIzM2Y5ZjM3YzFlOTQ2MmFhMWQ2MDI5ZDYyMjU3M2U2OGFmOGNiYzllYTA0YjZjZjVkMGNlYzMzMjkxNWNhZDRjNWZjMjQzZTRiNzhhMDhlYjliNzM5MDg3MzVhZTM2M2Q1ZTJcdTAwMjZYLUdvb2ctU2lnbmVkSGVhZGVycz1ob3N0Iiwic291cmNlIjoiT3JkZXJzIFNlcnZpY2UifQ.SDKOLx0tsfiArYmGAwbyT5nwNoioO44x0F9rRzt8ZOAfvj9lOJy7G-rZz3Vt5WEwaTbdbT5lg7OSVnXOieNkFQ', 'name': '20200925_161029_69_2223_3B_AnalyticMS_clip.tif'}]}, 'created_on': '2022-11-14T18:17:43.617Z', 'delivery': {'google_earth_engine': {'collection': 'gee-integration-testing', 'credentials': '<REDACTED>', 'project': 'planet-devrel-dev'}}, 'error_hints': [], 'id': 'cd214ce6-d3e3-46eb-a852-74d4f4899443', 'last_message': 'Delivery completed', 'last_modified': '2022-11-14T18:22:47.809Z', 'name': 'iowa_order', 'products': [{'item_ids': ['20200925_161029_69_2223', '20200925_161027_48_2223'], 'item_type': 'PSScene', 'product_bundle': 'analytic_udm2'}], 'state': 'success', 'tools': [{'clip': {'aoi': {'coordinates': [[[-91.198465, 42.893071], [-91.121931, 42.893071], [-91.121931, 42.946205], [-91.198465, 42.946205], [-91.198465, 42.893071]]], 'type': 'Polygon'}}}]}\n"
     ]
    }
   ],
   "source": [
    "print(order_details)"
   ]
  }
 ],
 "metadata": {
  "kernelspec": {
   "display_name": "Python 3.9.6 64-bit ('3.9.6')",
   "language": "python",
   "name": "python3"
  },
  "language_info": {
   "codemirror_mode": {
    "name": "ipython",
    "version": 3
   },
   "file_extension": ".py",
   "mimetype": "text/x-python",
   "name": "python",
   "nbconvert_exporter": "python",
   "pygments_lexer": "ipython3",
   "version": "3.9.6"
  },
  "orig_nbformat": 4,
  "vscode": {
   "interpreter": {
    "hash": "1bedda3fce59fa236ffac8164c02851c562f094c6d8f95a48784416ec3bbb813"
   }
  }
 },
 "nbformat": 4,
 "nbformat_minor": 2
}
