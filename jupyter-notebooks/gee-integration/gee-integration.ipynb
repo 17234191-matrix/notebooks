{
 "cells": [
  {
   "cell_type": "markdown",
   "metadata": {},
   "source": [
    "# Order and Delivery to Google Earth Engine\n",
    "\n",
    "In this notebook we're going to cover how to order data using the [Orders API](https://developers.planet.com/apis/orders/) and deliver it to [Google Earth Engine (GEE)](https://earthengine.google.com/) using [Planet’s GEE Delivery integration](https://developers.planet.com/docs/integrations/gee/).\n",
    "\n",
    "This example demonstrates how to:\n",
    "1. Define the data to be ordered\n",
    "2. Build a cloud delivery configuration object (`delivery_config`), which tells the Orders API where to deliver the data\n",
    "3. Build an order request to be sent off to the Orders API, `iowa_order`\n",
    "4. Create the order and have it deliver to your GEE project\n",
    "\n",
    "**Prerequsites:** A known AOI, Scene IDs, GEE project with EE API enabled containing a pre-existing GEE [ImageCollection](https://developers.google.com/earth-engine/guides/ic_creating), and your account must have a download quota. \n",
    "\n",
    "For this example, here are the aformentioned prerequisets as they are defined in this notebook:\n",
    "- AOI: `iowa_aoi`\n",
    "- Scene IDs: `iowa_images`\n",
    "- GEE project: `planet-devrel-dev`\n",
    "- GEE ImageCollection: `gee-integration-testing`"
   ]
  },
  {
   "cell_type": "code",
   "execution_count": 1,
   "metadata": {},
   "outputs": [],
   "source": [
    "import planet"
   ]
  },
  {
   "cell_type": "markdown",
   "metadata": {},
   "source": [
    "## Define data to be ordered"
   ]
  },
  {
   "cell_type": "code",
   "execution_count": 2,
   "metadata": {},
   "outputs": [],
   "source": [
    "# The area of interest (AOI) defined as a polygon\n",
    "iowa_aoi = {\n",
    "    \"type\":\n",
    "    \"Polygon\",\n",
    "    \"coordinates\": [[[-91.198465, 42.893071], [-91.121931, 42.893071],\n",
    "                     [-91.121931, 42.946205], [-91.198465, 42.946205],\n",
    "                     [-91.198465, 42.893071]]]\n",
    "}\n",
    "\n",
    "# The scene IDs we wish to order\n",
    "iowa_images = ['20200925_161029_69_2223', '20200925_161027_48_2223']"
   ]
  },
  {
   "cell_type": "markdown",
   "metadata": {},
   "source": [
    "## Define cloud delivery location\n",
    "This is the *key concept* of this notebook. Here, we are defining a cloud delivery configuration object, `cloud_config`, where we are defining the destination to be Google Earth Engine, in the project named `planet-devrel-dev`, in the ImageCollection named `gee-integration-testing`."
   ]
  },
  {
   "cell_type": "code",
   "execution_count": 3,
   "metadata": {},
   "outputs": [
    {
     "name": "stdout",
     "output_type": "stream",
     "text": [
      "{'google_earth_engine': {'project': 'planet-devrel-dev', 'collection': 'gee-integration-testing'}}\n"
     ]
    }
   ],
   "source": [
    "# Google Earth Engine configuration\n",
    "cloud_config = planet.order_request.google_earth_engine(\n",
    "    project='planet-devrel-dev', collection='gee-integration-testing')\n",
    "# Order delivery configuration\n",
    "delivery_config = planet.order_request.delivery(cloud_config=cloud_config)\n",
    "\n",
    "print(delivery_config)"
   ]
  },
  {
   "cell_type": "markdown",
   "metadata": {},
   "source": [
    "## Build order request\n",
    "Here we are building an order request, where we specify the products we wish to order. Spesifically, here we are requesting the IDs defined in `iowa_images`, as `analytic_udm2` assets, from the Planet Scope Scene product, `PSScene`."
   ]
  },
  {
   "cell_type": "code",
   "execution_count": 4,
   "metadata": {},
   "outputs": [
    {
     "name": "stdout",
     "output_type": "stream",
     "text": [
      "{'name': 'iowa_order', 'products': [{'item_ids': ['20200925_161029_69_2223', '20200925_161027_48_2223'], 'item_type': 'PSScene', 'product_bundle': 'analytic_udm2'}], 'delivery': {'google_earth_engine': {'project': 'planet-devrel-dev', 'collection': 'gee-integration-testing'}}, 'tools': [{'clip': {'aoi': {'type': 'Polygon', 'coordinates': [[[-91.198465, 42.893071], [-91.121931, 42.893071], [-91.121931, 42.946205], [-91.198465, 42.946205], [-91.198465, 42.893071]]]}}}]}\n"
     ]
    }
   ],
   "source": [
    "# Product description for the order request\n",
    "data_products = [\n",
    "    planet.order_request.product(item_ids=iowa_images,\n",
    "                                 product_bundle='analytic_udm2',\n",
    "                                 item_type='PSScene')\n",
    "]\n",
    "# Clip the images to the AOI's perimeter\n",
    "tools = [planet.order_request.clip_tool(iowa_aoi)]\n",
    "\n",
    "# Build the order request\n",
    "iowa_order = planet.order_request.build_request(name='iowa_order',\n",
    "                                                products=data_products,\n",
    "                                                delivery=delivery_config,\n",
    "                                                tools=tools)\n",
    "\n",
    "print(iowa_order)"
   ]
  },
  {
   "cell_type": "markdown",
   "metadata": {},
   "source": [
    "## Create and deliver the order\n",
    "Define a function that will create an order and update you with its progress. In this case, since we specified the delivery destination to be Google Earth Engine with `delivery_config`, it will also wait for it to be delivered to your project."
   ]
  },
  {
   "cell_type": "code",
   "execution_count": 5,
   "metadata": {},
   "outputs": [],
   "source": [
    "async def create_and_deliver_order(order_request, client):\n",
    "    '''Create and deliver an order.\n",
    "\n",
    "    Parameters:\n",
    "        order_request: An order request\n",
    "        client: An Order client object\n",
    "    '''\n",
    "    with planet.reporting.StateBar(state='creating') as reporter:\n",
    "        # Place an order to the Orders API\n",
    "        order = await client.create_order(order_request)\n",
    "        reporter.update(state='created', order_id=order['id'])\n",
    "        # Wait while the order is being completed\n",
    "        await client.wait(order['id'], callback=reporter.update_state)\n",
    "\n",
    "    # Grab the details of the orders\n",
    "    order_details = await client.get_order(order_id=order['id'])\n",
    "\n",
    "    return order_details"
   ]
  },
  {
   "cell_type": "markdown",
   "metadata": {},
   "source": [
    "Create and deliver the order `iowa_order` to the GEE project `planet-devrel-dev` in the ImageCollection `gee-integration-testing`."
   ]
  },
  {
   "cell_type": "code",
   "execution_count": 6,
   "metadata": {},
   "outputs": [
    {
     "name": "stderr",
     "output_type": "stream",
     "text": [
      "04:51 - order c2e1cecd-1c8b-4f6f-b29b-2e44a813e2fb - state: success\n"
     ]
    }
   ],
   "source": [
    "async with planet.Session() as ps:\n",
    "    # The Orders API client\n",
    "    client = planet.OrdersClient(ps)\n",
    "    # Create the order and deliver it to GEE\n",
    "    order_details = await create_and_deliver_order(iowa_order, client)"
   ]
  },
  {
   "cell_type": "markdown",
   "metadata": {},
   "source": [
    "Show the result of the order."
   ]
  },
  {
   "cell_type": "code",
   "execution_count": 14,
   "metadata": {},
   "outputs": [
    {
     "name": "stdout",
     "output_type": "stream",
     "text": [
      "{'delivery': 'success', 'expires_at': '2022-11-15T23:11:57.623Z', 'location': 'https://api.planet.com/compute/ops/download/?token=eyJhbGciOiJIUzUxMiIsInR5cCI6IkpXVCJ9.eyJleHAiOjE2Njg1NTM5MTcsInN1YiI6ImtMcXdiVEpKVFZieXdsSnNrZDF6Y083YVd2aW9pZE9zaTIzL0VkaTNMNUhjT1pGcndXVCtnYUt4MGxXOVpxbUIzYVJxTTNXOHFuUGRTU2djR1lpcUZ3PT0iLCJ0b2tlbl90eXBlIjoiZG93bmxvYWQtYXNzZXQtc3RhY2siLCJhb2kiOiIiLCJhc3NldHMiOlt7Iml0ZW1fdHlwZSI6IiIsImFzc2V0X3R5cGUiOiIiLCJpdGVtX2lkIjoiIn1dLCJ1cmwiOiJodHRwczovL3N0b3JhZ2UuZ29vZ2xlYXBpcy5jb20vY29tcHV0ZS1vcmRlcnMtbGl2ZS9jMmUxY2VjZC0xYzhiLTRmNmYtYjI5Yi0yZTQ0YTgxM2UyZmIvUFNTY2VuZS8yMDIwMDkyNV8xNjEwMjdfNDhfMjIyM18zQl9BbmFseXRpY01TX21ldGFkYXRhX2NsaXAueG1sP1gtR29vZy1BbGdvcml0aG09R09PRzQtUlNBLVNIQTI1Nlx1MDAyNlgtR29vZy1DcmVkZW50aWFsPWNvbXB1dGUtZ2NzLXN2Y2FjYyU0MHBsYW5ldC1jb21wdXRlLXByb2QuaWFtLmdzZXJ2aWNlYWNjb3VudC5jb20lMkYyMDIyMTExNCUyRmF1dG8lMkZzdG9yYWdlJTJGZ29vZzRfcmVxdWVzdFx1MDAyNlgtR29vZy1EYXRlPTIwMjIxMTE0VDIzMTE1N1pcdTAwMjZYLUdvb2ctRXhwaXJlcz04NjM5OVx1MDAyNlgtR29vZy1TaWduYXR1cmU9NmY4MzkzMmI5ZjY5MGJmOWQ4MTczZmU2MTczYzc2ZjU1NTFlYjMyYzNjYjRmNmNmZjJhOGY2MzM5OTI5NzFlODU2YTg2ZDFlNDllNjlhOTdlYmVmMTMzYjlmNWZiOWQ4MWMyYTFjYjU3YmM1MjAxOGYwMWIxYTY5OTNkYzYyZGRiYWI1NzhiOTY3MmRiM2IwYjcyYTlhOTkzYThlYTE0YzQ3ODcxNmY1NzcxZWJjOTdmNDY4YTkyNTdhZWM1MDM3NGVjNjVkMWU4NmFiZmI5N2JlMmVlZmEyNmMyYTI1ZmE0MTA3OTA5ZmZkNWI5MmE2MTBhMDJjZmQzNjA5OTIwY2Q5NGU2MWFjYTkwODA4Y2NiOWQzOWNjZTZhMjEwNjM4NTFlOTc5NjU2YTNmYmMxMWQ3NDBlZjU5NjY3OWRlM2JjMDg2ZDNlMzc0NzIxNjAzZGZiM2VmZTcwYjg2ZGQ4Nzg5ZGNlZGE1NjJkNzRkZDZhZjRhNTNkZWVmYzVhZWRjMDAwZjk5MjAzYTE1ZmE2ZmNhMDAyMzVmMmE3NzY2YzUyMmRmMzhkYTM3OTY5NzkxOTEwMTMyNzU3ZWZlZmQ2MTI5OTBlNjhiYzE4MDAyZTE3ZDllOWQxZWM1MWYyZWQ1OTk5MDg4ZTM1NDljNDdkNTM1ZWU2YjU3NWY1MTA1ODNcdTAwMjZYLUdvb2ctU2lnbmVkSGVhZGVycz1ob3N0Iiwic291cmNlIjoiT3JkZXJzIFNlcnZpY2UifQ.fxqlml7zMapYMfQp_tfUCouiz9AIJgIeECK2Gw3agaRgdjEGJkJcwdHddLS_GHbFtrbxYC_Jz--3cVPz0nJRHw', 'name': 'c2e1cecd-1c8b-4f6f-b29b-2e44a813e2fb/PSScene/20200925_161027_48_2223_3B_AnalyticMS_metadata_clip.xml'}\n",
      "{'delivery': 'success', 'expires_at': '2022-11-15T23:11:57.626Z', 'location': 'https://api.planet.com/compute/ops/download/?token=eyJhbGciOiJIUzUxMiIsInR5cCI6IkpXVCJ9.eyJleHAiOjE2Njg1NTM5MTcsInN1YiI6IlNaYzhQaE9qS0Q0ZSszWkJmTFczMVpwSXNMRWYxbUhyZlZNRTBkS0U2Z1NFaXVMRVl5eTU0UlV4VDlpMnpDa1FmVW80WGE2aG8rbVErTWVtNURPaEl3PT0iLCJ0b2tlbl90eXBlIjoiZG93bmxvYWQtYXNzZXQtc3RhY2siLCJhb2kiOiIiLCJhc3NldHMiOlt7Iml0ZW1fdHlwZSI6IiIsImFzc2V0X3R5cGUiOiIiLCJpdGVtX2lkIjoiIn1dLCJ1cmwiOiJodHRwczovL3N0b3JhZ2UuZ29vZ2xlYXBpcy5jb20vY29tcHV0ZS1vcmRlcnMtbGl2ZS9jMmUxY2VjZC0xYzhiLTRmNmYtYjI5Yi0yZTQ0YTgxM2UyZmIvUFNTY2VuZS8yMDIwMDkyNV8xNjEwMjdfNDhfMjIyM19tZXRhZGF0YS5qc29uP1gtR29vZy1BbGdvcml0aG09R09PRzQtUlNBLVNIQTI1Nlx1MDAyNlgtR29vZy1DcmVkZW50aWFsPWNvbXB1dGUtZ2NzLXN2Y2FjYyU0MHBsYW5ldC1jb21wdXRlLXByb2QuaWFtLmdzZXJ2aWNlYWNjb3VudC5jb20lMkYyMDIyMTExNCUyRmF1dG8lMkZzdG9yYWdlJTJGZ29vZzRfcmVxdWVzdFx1MDAyNlgtR29vZy1EYXRlPTIwMjIxMTE0VDIzMTE1N1pcdTAwMjZYLUdvb2ctRXhwaXJlcz04NjM5OVx1MDAyNlgtR29vZy1TaWduYXR1cmU9MzNmMDMxZDE0YTkxMTk5MjY2OGY2YWM0YTVlNjMyZTZkNGJlOGRkMDJmMjVhNTMyODgzNmQzZGFlOTAxMjYzZDIzNDA5YzQxYzAzOTkxY2E1YThmNjhiOGEyMzZhMjZmNTVlNDJkMTg2ZDE1N2Q1YzM3ZDQyNGFkNDlhOTIxYTUxZWIyZWQyODg3MjFiYTU5MTgyMTY4NDM3YjA0NDg0YmQ5ZTM2Y2FhZTY3MWVkNDAwMmNhYjI3N2M0OTU5OWUzNzc1YjMzNDExZmU3M2NjNjhlZmM3MjhmYzU1MTViOTM4ODVlNjMwMTgzNmNjNGQ0ODNkOTA3ODU0N2I0ZDBlMWY4NjYwODFiMDg5OGEzOTg5OWFjYzE4MjRiZDFjN2RmYTQ2MjIwYjY2YjJmNThiYTUzYWMxNTcxMjgyMDNmNTQxZjU3ZWYzNGM2YTZmMDdiNmNhZDU4NjNkZDMxNDQzZjQ1MDhkZjk0MGE2MzI2NDRjYTE2NDI3YTlhMTBlMmVkM2I5NTI4YjA1YzQyMzVjMmYzNTQ1NGY0ODRkZDVjNzhlMzg2MDMxM2JjZDY5NTM0Y2MzMWQwNDI2MWFjY2JjYmZkODlmODIxODliZDczOTQwYjdjZTViMTk4MDQ3MWJhYzVlNDU2OGUzNTMyY2UyZWQxM2MzYjhhYWQ4YmMxMDJcdTAwMjZYLUdvb2ctU2lnbmVkSGVhZGVycz1ob3N0Iiwic291cmNlIjoiT3JkZXJzIFNlcnZpY2UifQ.5nth2FikWWnfaO3gL8B7KUB3ENzGK_Jgmn1sfGBOIPVj5KoUP-2RNPlzIS6R3QXTJXtbqrpLE9EQuPA9_AU3Zw', 'name': 'c2e1cecd-1c8b-4f6f-b29b-2e44a813e2fb/PSScene/20200925_161027_48_2223_metadata.json'}\n",
      "{'delivery': 'success', 'expires_at': '2022-11-15T23:11:57.631Z', 'location': 'https://api.planet.com/compute/ops/download/?token=eyJhbGciOiJIUzUxMiIsInR5cCI6IkpXVCJ9.eyJleHAiOjE2Njg1NTM5MTcsInN1YiI6IjJyaGsxQkpjVFlBUTZXVUw4Wk16empGcG93NnJXbXMxME40bmdmVExZcC9RSGgwTnUvek83a0o1QTFWOEF4bnpaUUFaZXVuTGF4VVZqQzZ4MDhreHB3PT0iLCJ0b2tlbl90eXBlIjoiZG93bmxvYWQtYXNzZXQtc3RhY2siLCJhb2kiOiIiLCJhc3NldHMiOlt7Iml0ZW1fdHlwZSI6IiIsImFzc2V0X3R5cGUiOiIiLCJpdGVtX2lkIjoiIn1dLCJ1cmwiOiJodHRwczovL3N0b3JhZ2UuZ29vZ2xlYXBpcy5jb20vY29tcHV0ZS1vcmRlcnMtbGl2ZS8yMDIwMDkyNV8xNjEwMjdfNDhfMjIyM18zQl9BbmFseXRpY01TX2NsaXAudGlmP1gtR29vZy1BbGdvcml0aG09R09PRzQtUlNBLVNIQTI1Nlx1MDAyNlgtR29vZy1DcmVkZW50aWFsPWNvbXB1dGUtZ2NzLXN2Y2FjYyU0MHBsYW5ldC1jb21wdXRlLXByb2QuaWFtLmdzZXJ2aWNlYWNjb3VudC5jb20lMkYyMDIyMTExNCUyRmF1dG8lMkZzdG9yYWdlJTJGZ29vZzRfcmVxdWVzdFx1MDAyNlgtR29vZy1EYXRlPTIwMjIxMTE0VDIzMTE1N1pcdTAwMjZYLUdvb2ctRXhwaXJlcz04NjM5OVx1MDAyNlgtR29vZy1TaWduYXR1cmU9OWFjODk3ZmU2ZTZkODg2N2U3NDgzM2NjMTEwYTBiZmI1MzE4MmJhYmMxZmE0MjcxNjg3OWNiNzVjMGJjNmExMWNmOTFiYjAxMzI2ZTkyY2JlOWZhYzZiYjA0Y2Y1YzJiNjIxMzAyNTE0OGVhNzMyOGJkOWNiMTFkYTk4MzQyMWQxNzc5MTBiNDBjMTg1NDZlYzI0Nzc2MzQzMmY4NDhjNDMwNjc4YWU4OTM2MjhkZmQ1N2U2MTNmYzY5MDhhY2E1ZTlhNTkxNmMxYWYzODkwODkyNDI5NDZmYmYwMjZiNDAyYTVlODhkNjAxZGJiYTAzYjU4ZWI4NDQwYmUwZDZhZDgzZWMyZDMzYjU2YjY5Yjc2ZGQ4ZTZjZDQ2NzcxNTA2NzYzYzkyZjcwMDA4OTVkYjE4NzZjODcyOGQxZjQyNWM3Mjc2N2U4MjViNGYzOGU4ZjQ4Y2E2ODg1NWVhMmM5MWZmMTZmNTJlYzFmZDBhNDAyYjhiZmRlMDBkZjc4Y2Q1ZmJhMjU3Nzg0NjE3MWU5NDE2YTQwZmQxMTNmZDc5MDE2NDIxMTA2MzllM2RiZWI0NDgwMTkzNGQwNmYyODBjODU4ZGFlOTk5MWU3MzI0ZjQ5MDA5MGRmMzUyYThkNjFiMDg2NmU4MjAzMWNmMTkyNTdmZDI1OTkzYjQwZWUzMGRcdTAwMjZYLUdvb2ctU2lnbmVkSGVhZGVycz1ob3N0Iiwic291cmNlIjoiT3JkZXJzIFNlcnZpY2UifQ.0eGag2x8GmveAs9CfCI_1nez3wHHZNco34T5pg-6ABlasOzAOovRgzk5wBV1dQXY28eXMUDvoILTwcUVulzYUA', 'name': '20200925_161027_48_2223_3B_AnalyticMS_clip.tif'}\n",
      "{'delivery': 'success', 'expires_at': '2022-11-15T23:11:57.634Z', 'location': 'https://api.planet.com/compute/ops/download/?token=eyJhbGciOiJIUzUxMiIsInR5cCI6IkpXVCJ9.eyJleHAiOjE2Njg1NTM5MTcsInN1YiI6IitEZXlkMUs5SXNQUGV2N25EM2FYUnFKK2pNNCszNFpGekZwY3Y2RW9sTDl0bUZJcHZmakNUVkgzUnpvRnZ1RngzTjdWQzl2eGhnS2p2K0J5MjdIeTZRPT0iLCJ0b2tlbl90eXBlIjoiZG93bmxvYWQtYXNzZXQtc3RhY2siLCJhb2kiOiIiLCJhc3NldHMiOlt7Iml0ZW1fdHlwZSI6IiIsImFzc2V0X3R5cGUiOiIiLCJpdGVtX2lkIjoiIn1dLCJ1cmwiOiJodHRwczovL3N0b3JhZ2UuZ29vZ2xlYXBpcy5jb20vY29tcHV0ZS1vcmRlcnMtbGl2ZS8yMDIwMDkyNV8xNjEwMjdfNDhfMjIyM18zQl91ZG0yX2NsaXAudGlmP1gtR29vZy1BbGdvcml0aG09R09PRzQtUlNBLVNIQTI1Nlx1MDAyNlgtR29vZy1DcmVkZW50aWFsPWNvbXB1dGUtZ2NzLXN2Y2FjYyU0MHBsYW5ldC1jb21wdXRlLXByb2QuaWFtLmdzZXJ2aWNlYWNjb3VudC5jb20lMkYyMDIyMTExNCUyRmF1dG8lMkZzdG9yYWdlJTJGZ29vZzRfcmVxdWVzdFx1MDAyNlgtR29vZy1EYXRlPTIwMjIxMTE0VDIzMTE1N1pcdTAwMjZYLUdvb2ctRXhwaXJlcz04NjM5OVx1MDAyNlgtR29vZy1TaWduYXR1cmU9MjA5NDA3ODZiMjcxY2QxMmYxMGE3ZTJiYWViZDhiMDViMzYyMTI1OGIwY2ZjZjY0NjZiM2MxMTBmNmVlZGZiNjEyZjk3NWNmMTk2YWNjZjQ0YjlkYTBhOTIwYTVkYzhmZDQyMWUzYzcwNjBmZmVkYWY1NDMyOTcyYjQ5NDFjMTE5YzMyMTQ2OTEzNTY5NTdhNzRjODkxNDc5NjUzM2EyMDJmZjk0NjE5MTE2NTRjNjIwMjk3M2Q2ZmRhY2I5YjZmZTNhYmFlMmI3NDg2MWM0OTQ3NmQ2OWY2YWIzMmE0ZTIwMzkzOWY3YWQ1YTU2ZmNjMTIyNDA3YjMzOTM0NGJlYjEzYmY1YWFkNTk4NTQ3NzhiZWY1NjkzN2NlN2JlYTRiNTNmODBlNDVkOWJlMGVmZDczNTg3ZDFkODgzZTg1NmY3YjJmMzhlZDFhM2VmOTAzMGI3M2QzNTFiNGQwODljZmNkMGVmMTMwNGM4MjVhMzZjOGVhNzI4MWVmODhjYzU1MzkzMzExODEwZDVhYzI5MDViNDIzMzQ4N2M1NjViNDA3MWY5OGQ1YjRkMmQyZDdmZTNjNzUzMDEyZjlhNTc1MTJkNWQ0ODY5ODQ4ZTQ0YzIyOTZiN2Q0YzViODhjODlkOTVlNTA4YzdlMDAxNTY0NDE4MGU3NmZjYmUxYjRmOTlcdTAwMjZYLUdvb2ctU2lnbmVkSGVhZGVycz1ob3N0Iiwic291cmNlIjoiT3JkZXJzIFNlcnZpY2UifQ.JRRmdhkwPAeissclqUEnGkaBroFeEh0AAN2GNALb4pmUe0R86DR9h72G2RWN2Yc5U4PtiyOaej-2-gJEQFnh7A', 'name': '20200925_161027_48_2223_3B_udm2_clip.tif'}\n",
      "{'delivery': 'success', 'expires_at': '2022-11-15T23:11:57.623Z', 'location': 'https://api.planet.com/compute/ops/download/?token=eyJhbGciOiJIUzUxMiIsInR5cCI6IkpXVCJ9.eyJleHAiOjE2Njg1NTM5MTcsInN1YiI6InRNbFV6a1ZGTXNmOE9mSGJLS0kzUGlCVVZIcnlzeHZhS0xZZkttODZqb3BZbXJhMm41MG81bnUyL04vY1FFQS9mTWZvck11YnBTc0VJV2J6TlppQll3PT0iLCJ0b2tlbl90eXBlIjoiZG93bmxvYWQtYXNzZXQtc3RhY2siLCJhb2kiOiIiLCJhc3NldHMiOlt7Iml0ZW1fdHlwZSI6IiIsImFzc2V0X3R5cGUiOiIiLCJpdGVtX2lkIjoiIn1dLCJ1cmwiOiJodHRwczovL3N0b3JhZ2UuZ29vZ2xlYXBpcy5jb20vY29tcHV0ZS1vcmRlcnMtbGl2ZS9jMmUxY2VjZC0xYzhiLTRmNmYtYjI5Yi0yZTQ0YTgxM2UyZmIvUFNTY2VuZS8yMDIwMDkyNV8xNjEwMjlfNjlfMjIyM18zQl9BbmFseXRpY01TX21ldGFkYXRhX2NsaXAueG1sP1gtR29vZy1BbGdvcml0aG09R09PRzQtUlNBLVNIQTI1Nlx1MDAyNlgtR29vZy1DcmVkZW50aWFsPWNvbXB1dGUtZ2NzLXN2Y2FjYyU0MHBsYW5ldC1jb21wdXRlLXByb2QuaWFtLmdzZXJ2aWNlYWNjb3VudC5jb20lMkYyMDIyMTExNCUyRmF1dG8lMkZzdG9yYWdlJTJGZ29vZzRfcmVxdWVzdFx1MDAyNlgtR29vZy1EYXRlPTIwMjIxMTE0VDIzMTE1N1pcdTAwMjZYLUdvb2ctRXhwaXJlcz04NjM5OVx1MDAyNlgtR29vZy1TaWduYXR1cmU9NzRhNGE5ZGI2ZGViOWVmMjM4Zjg3MTNiOWMzOGI1Y2MwODdjZmVmZDlhZWIzNjlhMWQ0OGNkYWZjMzg1OGRiMTZhYjFhODk1N2ZiNzM2YmYxZWVkY2I4Mzg2ZmI4ZmFiNTI0NTcwZjkxMzY3NDI3NDVjODE1ODZlYmI4N2EyY2Q2Yjg2YjBlZmFkNjZlZDg3NGM5OTRkNTdjOWFmNmU5ZWE0NjEwMzM0ODU2YTk3OWFhODAwMjI4MGVhYjliOTc2Y2NhNDBhNGQ4ZmY5MTNhZDcxYzQ5NmIyMzljNzlmMzQwYzRkNGJiNjRkOGU0NGMwYjJmMTI3MzljNWYwYTBiYmRhM2U3YTg3Y2I5OGZkNWI2ZmYzMWQ5NzI1ODhkZjIyODQ4YWQ4NzZhNjc4NGFjYWE0ZmFiMGFmZjIzZWVjN2MzNjYwNTg1NjhjMTFkZmVkY2EwYzMxNGUyM2JjNTMzNTM0YzQ5N2QzOTA5OGNhZDI2MDJmOGRiMWNjNTVmZDZiODQ0Y2RkYTk5NTRhMDE5N2VhY2I0NDc1N2JmN2ViZTRjZjgxMTc4Mzg0YjdhYzlhMTY0NDJmYzU0YTQ1YjNlODcxZWFjODk5ZmRiZjIxMmMwNDEwYmM0NGNlN2E0ZGM3MThjYTdkNTM3YjFlZjhhNWU5MWZlMTJhNzljNTlkN2VcdTAwMjZYLUdvb2ctU2lnbmVkSGVhZGVycz1ob3N0Iiwic291cmNlIjoiT3JkZXJzIFNlcnZpY2UifQ.SowgHQZbWbtUJba7ibuYsEmb5qRPpOtBv5C71ZimuVphoKyA3rQVqdvCtCLDE5JOJAv_kaxBLUQ1b7I-2ime7A', 'name': 'c2e1cecd-1c8b-4f6f-b29b-2e44a813e2fb/PSScene/20200925_161029_69_2223_3B_AnalyticMS_metadata_clip.xml'}\n",
      "{'delivery': 'success', 'expires_at': '2022-11-15T23:11:57.626Z', 'location': 'https://api.planet.com/compute/ops/download/?token=eyJhbGciOiJIUzUxMiIsInR5cCI6IkpXVCJ9.eyJleHAiOjE2Njg1NTM5MTcsInN1YiI6Im5tWTNPRDNrVGFrc1Z2Z1l5TVhsdjBnaGFLUGNFUzIyYlNSN1FYRmExN0hGeDNrOUhqSSs5YXFOUGl6c0lxRjFmVnRTQm5mdjBsdlJvLzV2Ync5Vjl3PT0iLCJ0b2tlbl90eXBlIjoiZG93bmxvYWQtYXNzZXQtc3RhY2siLCJhb2kiOiIiLCJhc3NldHMiOlt7Iml0ZW1fdHlwZSI6IiIsImFzc2V0X3R5cGUiOiIiLCJpdGVtX2lkIjoiIn1dLCJ1cmwiOiJodHRwczovL3N0b3JhZ2UuZ29vZ2xlYXBpcy5jb20vY29tcHV0ZS1vcmRlcnMtbGl2ZS9jMmUxY2VjZC0xYzhiLTRmNmYtYjI5Yi0yZTQ0YTgxM2UyZmIvUFNTY2VuZS8yMDIwMDkyNV8xNjEwMjlfNjlfMjIyM19tZXRhZGF0YS5qc29uP1gtR29vZy1BbGdvcml0aG09R09PRzQtUlNBLVNIQTI1Nlx1MDAyNlgtR29vZy1DcmVkZW50aWFsPWNvbXB1dGUtZ2NzLXN2Y2FjYyU0MHBsYW5ldC1jb21wdXRlLXByb2QuaWFtLmdzZXJ2aWNlYWNjb3VudC5jb20lMkYyMDIyMTExNCUyRmF1dG8lMkZzdG9yYWdlJTJGZ29vZzRfcmVxdWVzdFx1MDAyNlgtR29vZy1EYXRlPTIwMjIxMTE0VDIzMTE1N1pcdTAwMjZYLUdvb2ctRXhwaXJlcz04NjM5OVx1MDAyNlgtR29vZy1TaWduYXR1cmU9NWM1MWQyNTRlNmM3MzgxYjQyM2RjMGI1NGRiNjIzMzQyZjY2MWFlMjk2Y2FmNWU4NzhkNzliMWVhYjBhM2I1ZmJlYzQ0MDUwY2RkYzZlNjAwMGEwYzdlMTcxN2I5MjFkMmFjNDllODk1MTk1OTMwOTIwZTU1NDZkMDdiOWFmZmNlNWM3ZmMxNWM2OTVjNGMyOTNhY2UwODBlOGQ2YmQxOTYyYzk2NzQzYWVmYTAyMTVkYjk1MGM3NDNlZjc5ZWI2NjNhMDJiNjg2NmJkY2ZhNzQ2NGEyMTIxMTZiNTVkZmEyZmRiMzBjYjc0YWZkOWYwN2FiYzhmODExM2E3ZmJjY2RlMTNmZGVkYzI1NDU5ZjhiYzg0OWM4OTMxZDlhNzc2YmRmNTg1MzE4ZmQ4NDA4OTg2ZjRiZmRlZGM1MjkzODRhMjBkZmU4MDZhYTQ2Y2Q5MWE5MGIzNDc1NjE2OGVmMTRiOTJjZjc2NGNhMzcwMDk5NmRlMDY1MWJkOWJjYTE4MDJlMWU4NDMzOGExNmE3ZGQ0N2UxYmU4MDZkYjg1ZGMzMTIxMmJkYzVhZTU0NDMyNmNjOTE5ODk0ZDNlMmE0OTg1MjI3OWY2NDZmODdiMWJhZGU3Y2I1NGFjNzNkYzFmZjdlYzg4NWY0OTVjMTJjNDZlYmRkNGFjOTQ3NTlkYTNcdTAwMjZYLUdvb2ctU2lnbmVkSGVhZGVycz1ob3N0Iiwic291cmNlIjoiT3JkZXJzIFNlcnZpY2UifQ.TIXYnttfHuADWlCwd_En70IOe16zp4ZANIXSfqC3HBvLEIywNFfXSwyx3ym1DW-_-4PFKJdtuz_2yjOv-ZnetQ', 'name': 'c2e1cecd-1c8b-4f6f-b29b-2e44a813e2fb/PSScene/20200925_161029_69_2223_metadata.json'}\n",
      "{'delivery': 'success', 'expires_at': '2022-11-15T23:11:57.629Z', 'location': 'https://api.planet.com/compute/ops/download/?token=eyJhbGciOiJIUzUxMiIsInR5cCI6IkpXVCJ9.eyJleHAiOjE2Njg1NTM5MTcsInN1YiI6IkZ5WDAzTFYzMTVCSllNek5qdTUwbWJqaWI3SG1OalEvb2Nid1dVYXg2SUpxcTBRWWM2eVYvdi9ncTNPL3JvSGxMUUovVDZhNHF5WkxucGFjTTJOOXJRPT0iLCJ0b2tlbl90eXBlIjoiZG93bmxvYWQtYXNzZXQtc3RhY2siLCJhb2kiOiIiLCJhc3NldHMiOlt7Iml0ZW1fdHlwZSI6IiIsImFzc2V0X3R5cGUiOiIiLCJpdGVtX2lkIjoiIn1dLCJ1cmwiOiJodHRwczovL3N0b3JhZ2UuZ29vZ2xlYXBpcy5jb20vY29tcHV0ZS1vcmRlcnMtbGl2ZS8yMDIwMDkyNV8xNjEwMjlfNjlfMjIyM18zQl91ZG0yX2NsaXAudGlmP1gtR29vZy1BbGdvcml0aG09R09PRzQtUlNBLVNIQTI1Nlx1MDAyNlgtR29vZy1DcmVkZW50aWFsPWNvbXB1dGUtZ2NzLXN2Y2FjYyU0MHBsYW5ldC1jb21wdXRlLXByb2QuaWFtLmdzZXJ2aWNlYWNjb3VudC5jb20lMkYyMDIyMTExNCUyRmF1dG8lMkZzdG9yYWdlJTJGZ29vZzRfcmVxdWVzdFx1MDAyNlgtR29vZy1EYXRlPTIwMjIxMTE0VDIzMTE1N1pcdTAwMjZYLUdvb2ctRXhwaXJlcz04NjM5OVx1MDAyNlgtR29vZy1TaWduYXR1cmU9NTY3NWZlZDRmODM0NzA2OWUwNzkxZDk4MGEyZTIwZjQ1MDE4NDg0YzljNWJlNWIxOGI5MTA1NDU1ZTU4NDEyNDM4YzZlOGFiYTUyZWYxNjU4MGI4OWExZjJiZTM0MzkzMWUwMTU2MmExMjQ3NzlhNDg5ZWJjZjIzN2QxYmNiZTE2MzkyODM0OWRmOGM5MDQyNTU5MDgwMWNlOGIzYjViYjQ5ZGQ0NDE2YmJhYzVmNDU0MGEwNDEyYzczMDhiZDc5M2ZkNjY2YTIzYzIwODgwZTQyOTMzMTFiMTdmYTFiZTQyMmZjYTIyNzAyYTcxZmViMGFhM2RhZThiODk1ZGM0OWFhMzc3ZTE0ZGIxNDNhMTJjY2Y1NDE1N2YzOWJhODY1ZWMzYzI5NmRlYTU1MmRmODcyYTZhYmVmZWQ4OTQzMDI3MGZhMGE3NWI0NDM1ZTNkYjA2Y2EwY2ZhMGU5YTFlNmZmMjFkYjFiMDQ5NTJhMDMzN2I3MTIwZTFhMDI0NmE1ZTE0MjY1ZTU1MTI4NDlkYzM5YjNlNWIzMTI5Y2UyZjA2YWM3NzU5NGM0Yzg2ZDc2YmYwNDMyMjZkZDA5MTMxODljMGE1YzQ3ZTVkNGYwZWIzMmM0MWNjMDU0MjRiYzI5ZjlmZWY1NGU1ZmExZjZlNTY3NWZmODdjMDM5NjFmNWNcdTAwMjZYLUdvb2ctU2lnbmVkSGVhZGVycz1ob3N0Iiwic291cmNlIjoiT3JkZXJzIFNlcnZpY2UifQ.KFQdDpPjn3urfbwZgs4cdxv8oXAXjmvpLSMBoGTE98w3S8XP-306nDNKkATTCOTFAgffs002u4fMbVhoBzsVbQ', 'name': '20200925_161029_69_2223_3B_udm2_clip.tif'}\n",
      "{'delivery': 'success', 'expires_at': '2022-11-15T23:11:57.632Z', 'location': 'https://api.planet.com/compute/ops/download/?token=eyJhbGciOiJIUzUxMiIsInR5cCI6IkpXVCJ9.eyJleHAiOjE2Njg1NTM5MTcsInN1YiI6Img1ZTRKZk5CekpJMDIwY2t0Y25sUEFkY2M2bWxDbUF3OTRrK3BlSFluMGNEVFFSYXgvTjJHaHZaZ1p4S1MwMVRHZS9rOXNMWmFlMWw0eVcyNERuOUlBPT0iLCJ0b2tlbl90eXBlIjoiZG93bmxvYWQtYXNzZXQtc3RhY2siLCJhb2kiOiIiLCJhc3NldHMiOlt7Iml0ZW1fdHlwZSI6IiIsImFzc2V0X3R5cGUiOiIiLCJpdGVtX2lkIjoiIn1dLCJ1cmwiOiJodHRwczovL3N0b3JhZ2UuZ29vZ2xlYXBpcy5jb20vY29tcHV0ZS1vcmRlcnMtbGl2ZS8yMDIwMDkyNV8xNjEwMjlfNjlfMjIyM18zQl9BbmFseXRpY01TX2NsaXAudGlmP1gtR29vZy1BbGdvcml0aG09R09PRzQtUlNBLVNIQTI1Nlx1MDAyNlgtR29vZy1DcmVkZW50aWFsPWNvbXB1dGUtZ2NzLXN2Y2FjYyU0MHBsYW5ldC1jb21wdXRlLXByb2QuaWFtLmdzZXJ2aWNlYWNjb3VudC5jb20lMkYyMDIyMTExNCUyRmF1dG8lMkZzdG9yYWdlJTJGZ29vZzRfcmVxdWVzdFx1MDAyNlgtR29vZy1EYXRlPTIwMjIxMTE0VDIzMTE1N1pcdTAwMjZYLUdvb2ctRXhwaXJlcz04NjM5OVx1MDAyNlgtR29vZy1TaWduYXR1cmU9NmY4YjNjZmM4ZGVhYjNlMmI0NjE3MWM4M2FkNWJmYjZiN2NiYjdmODcwY2I0NWFlNzc4NzFhMDk4MWRlZGNlNzUwYjgyMThlYmRmNWU1MjVlNGNiY2I2OGI0MjMyZmU4NzMxY2QwNTRlOTc1OWViYTUwZDdhZTdmOGM4ODE2MDRkNDk5YTFiZDIxMzFkZGQyYzJmNDJlZmQwM2VlOWY4OWE1ODMzNThmODM3NGY0NWFkMjNkMzgwYTcxNWRhYjNhMmY2NDA0ZGVkNGQyMjg5NzIzODM1ODkyZWJjM2Y5ZDNkNzE1M2ZiZjliMGQ1ZDBlNjZmZDY1NjU3MTFhNTNhMzg0NzgwYzIyOTQxZTQwODM5NDIwYTI1NGZkNDcxNDllYTc4MWUwNDY2MTg0ZDRmNGJiMzJjYjBkNDM0ODVjNWNlM2IwYTRhMGQ0YmJhNzNiOTMwMTlhZGI5ZGE5ZjcwNmFlNGIwOTI4MmI3ZWNmOTlhMmE5Y2UwNjNlN2ExNzFiYjc1OGQzZjM1ODIzOGE2YzE3YzNkMGQ0MDFlYWNiZGE5YjhkYTcxNGE0MDgzODEwNWY5MjIwYjFkYjM2MmE1MDEwZGEzNTgzOTBjNWE4MDAwN2FlMGI2NTU2NzM2NmVhYTdmMjk2MmZmNmYxZjRkMzdhMmNkZWU2NGUyNmI5OTZcdTAwMjZYLUdvb2ctU2lnbmVkSGVhZGVycz1ob3N0Iiwic291cmNlIjoiT3JkZXJzIFNlcnZpY2UifQ.bSAkY8zstRbIpWTX2i0FeOe38CQf0E8eDWO8s7U2rDaBA9-12Pr2jyeR2XxU-wswUhJAWdQrup6m7rcJE_mZvg', 'name': '20200925_161029_69_2223_3B_AnalyticMS_clip.tif'}\n"
     ]
    }
   ],
   "source": [
    "order_results = order_details['_links']['results']\n",
    "for i in range(len(order_results)):\n",
    "    print(order_results[i])"
   ]
  }
 ],
 "metadata": {
  "kernelspec": {
   "display_name": "Python 3.9.6 64-bit ('3.9.6')",
   "language": "python",
   "name": "python3"
  },
  "language_info": {
   "codemirror_mode": {
    "name": "ipython",
    "version": 3
   },
   "file_extension": ".py",
   "mimetype": "text/x-python",
   "name": "python",
   "nbconvert_exporter": "python",
   "pygments_lexer": "ipython3",
   "version": "3.9.6"
  },
  "orig_nbformat": 4,
  "vscode": {
   "interpreter": {
    "hash": "1bedda3fce59fa236ffac8164c02851c562f094c6d8f95a48784416ec3bbb813"
   }
  }
 },
 "nbformat": 4,
 "nbformat_minor": 2
}
