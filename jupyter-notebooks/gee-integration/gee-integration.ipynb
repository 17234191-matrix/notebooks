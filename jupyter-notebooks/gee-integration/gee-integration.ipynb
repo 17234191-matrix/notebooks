{
 "cells": [
  {
   "cell_type": "markdown",
   "metadata": {},
   "source": [
    "Ordering and Delivery to Google Earth Engine (GEE)\n",
    "\n",
    "Based off of the client's example (https://github.com/planetlabs/planet-client-python/blob/main/examples/orders_create_and_download_multiple_orders.py)"
   ]
  },
  {
   "cell_type": "code",
   "execution_count": 3,
   "metadata": {},
   "outputs": [],
   "source": [
    "import asyncio\n",
    "import os\n",
    "\n",
    "import planet"
   ]
  },
  {
   "cell_type": "markdown",
   "metadata": {},
   "source": [
    "Authetication"
   ]
  },
  {
   "cell_type": "code",
   "execution_count": null,
   "metadata": {},
   "outputs": [],
   "source": [
    "# API Keys stored as an env variable\n",
    "PLANET_API_KEY = os.getenv('PL_API_KEY')\n",
    "GEE_API_KEY = os.getenv('GEE_API_KEY')"
   ]
  },
  {
   "cell_type": "markdown",
   "metadata": {},
   "source": [
    "Define order"
   ]
  },
  {
   "cell_type": "code",
   "execution_count": 5,
   "metadata": {},
   "outputs": [],
   "source": [
    "DOWNLOAD_DIR = os.getenv('TEST_DOWNLOAD_DIR', '.')\n",
    "\n",
    "iowa_aoi = {\n",
    "    \"type\":\n",
    "    \"Polygon\",\n",
    "    \"coordinates\": [[[-91.198465, 42.893071], [-91.121931, 42.893071],\n",
    "                     [-91.121931, 42.946205], [-91.198465, 42.946205],\n",
    "                     [-91.198465, 42.893071]]]\n",
    "}\n",
    "\n",
    "iowa_images = ['20200925_161029_69_2223', '20200925_161027_48_2223']"
   ]
  },
  {
   "cell_type": "markdown",
   "metadata": {},
   "source": [
    "Define cloud delivery location"
   ]
  },
  {
   "cell_type": "code",
   "execution_count": 6,
   "metadata": {},
   "outputs": [],
   "source": [
    "google_cloud_storage_config = {\n",
    "        \"delivery\": {\n",
    "            \"google_cloud_storage\": {\n",
    "                \"project\": \"planet-earthengine-staging\",\n",
    "                \"collection\": \"gee-integration-testing\",\n",
    "                \"credentials\": GEE_API_KEY\n",
    "            }\n",
    "    }\n",
    "}\n",
    "delivery_config = planet.order_request.delivery(\n",
    "    cloud_config=planet.order_request.google_earth_engine(project='planet-earthengine-staging', collection='gee-integration-testing')\n",
    ")"
   ]
  },
  {
   "cell_type": "markdown",
   "metadata": {},
   "source": [
    "Build order request"
   ]
  },
  {
   "cell_type": "code",
   "execution_count": 7,
   "metadata": {},
   "outputs": [
    {
     "name": "stdout",
     "output_type": "stream",
     "text": [
      "{'name': 'iowa_order', 'products': [{'item_ids': ['20200925_161029_69_2223', '20200925_161027_48_2223'], 'item_type': 'PSScene4Band', 'product_bundle': 'analytic'}], 'delivery': {'google_earth_engine': {'project': 'planet-earthengine-staging', 'collection': 'gee-integration-testing'}}, 'tools': [{'clip': {'aoi': {'type': 'Polygon', 'coordinates': [[[-91.198465, 42.893071], [-91.121931, 42.893071], [-91.121931, 42.946205], [-91.198465, 42.946205], [-91.198465, 42.893071]]]}}}]}\n"
     ]
    }
   ],
   "source": [
    "iowa_order = planet.order_request.build_request(\n",
    "    'iowa_order',\n",
    "    [planet.order_request.product(iowa_images, 'analytic', 'PSScene4Band')],\n",
    "    delivery=planet.order_request.delivery(cloud_config=delivery_config),\n",
    "    tools=[planet.order_request.clip_tool(iowa_aoi)])\n",
    "\n",
    "print(iowa_order)"
   ]
  },
  {
   "cell_type": "markdown",
   "metadata": {},
   "source": [
    "Define create and download order functions"
   ]
  },
  {
   "cell_type": "code",
   "execution_count": 8,
   "metadata": {},
   "outputs": [],
   "source": [
    "async def create_and_download(order_detail, directory, client):\n",
    "    with planet.reporting.StateBar(state='creating') as reporter:\n",
    "        # create\n",
    "        order = await client.create_order(order_detail)\n",
    "        reporter.update(state='created', order_id=order['id'])\n",
    "        # wait for completion\n",
    "        await client.wait(order['id'], callback=reporter.update_state)\n",
    "\n",
    "    order_details = await client.get_order(order_id=order['id'])\n",
    "    return order_details"
   ]
  },
  {
   "cell_type": "markdown",
   "metadata": {},
   "source": []
  },
  {
   "cell_type": "markdown",
   "metadata": {},
   "source": [
    "Create and download order"
   ]
  },
  {
   "cell_type": "code",
   "execution_count": 9,
   "metadata": {},
   "outputs": [
    {
     "name": "stderr",
     "output_type": "stream",
     "text": [
      "07:42 - order 4e8e46ee-7d62-425c-b9c3-2bc6a48a9c36 - state: success\n"
     ]
    }
   ],
   "source": [
    "async with planet.Session() as ps:\n",
    "    client = planet.OrdersClient(ps)\n",
    "    order_details = await create_and_download(iowa_order, DOWNLOAD_DIR, client)"
   ]
  },
  {
   "cell_type": "code",
   "execution_count": 10,
   "metadata": {},
   "outputs": [
    {
     "name": "stdout",
     "output_type": "stream",
     "text": [
      "4e8e46ee-7d62-425c-b9c3-2bc6a48a9c36\n",
      "{'delivery': 'success', 'expires_at': '2022-10-21T18:36:12.110Z', 'location': 'https://api.planet.com/compute/ops/download/?token=eyJhbGciOiJIUzUxMiIsInR5cCI6IkpXVCJ9.eyJleHAiOjE2NjYzNzczNzIsInN1YiI6InZwdTN2WitMeTdjdHdhN3JPR1ZmYkUxNlcrdjc5Y0RZQ0FsZUYrN1N4S0dFT1RjbjBVOTJIRmxEZVhzNlA3RDlVeCtmb1FLdkttVjlzWldmYnFSS213PT0iLCJ0b2tlbl90eXBlIjoiZG93bmxvYWQtYXNzZXQtc3RhY2siLCJhb2kiOiIiLCJhc3NldHMiOlt7Iml0ZW1fdHlwZSI6IiIsImFzc2V0X3R5cGUiOiIiLCJpdGVtX2lkIjoiIn1dLCJ1cmwiOiJodHRwczovL3N0b3JhZ2UuZ29vZ2xlYXBpcy5jb20vY29tcHV0ZS1vcmRlcnMtbGl2ZS80ZThlNDZlZS03ZDYyLTQyNWMtYjljMy0yYmM2YTQ4YTljMzYvUFNTY2VuZTRCYW5kLzIwMjAwOTI1XzE2MTAyN180OF8yMjIzX21ldGFkYXRhLmpzb24_WC1Hb29nLUFsZ29yaXRobT1HT09HNC1SU0EtU0hBMjU2XHUwMDI2WC1Hb29nLUNyZWRlbnRpYWw9Y29tcHV0ZS1nY3Mtc3ZjYWNjJTQwcGxhbmV0LWNvbXB1dGUtcHJvZC5pYW0uZ3NlcnZpY2VhY2NvdW50LmNvbSUyRjIwMjIxMDIwJTJGYXV0byUyRnN0b3JhZ2UlMkZnb29nNF9yZXF1ZXN0XHUwMDI2WC1Hb29nLURhdGU9MjAyMjEwMjBUMTgzNjEyWlx1MDAyNlgtR29vZy1FeHBpcmVzPTg2Mzk5XHUwMDI2WC1Hb29nLVNpZ25hdHVyZT0yODJkZjVmYmE3OWZmODQ0M2ZmZjRkYTAyYWFjOTdmZjBhNGU4ZDQ0Yzc2M2FjZDZmNmUwNDM4N2ViMjNmYjJmYzBhMWJkZDI5ZmZlZjkxYmFkNTNjM2U2NDcyZDQ1Nzg5NjUxODJlMjM5YjllMmJhMzI4ZDgxOWVkNTQxZDAyNTQyMDZhM2ZjYmUyZmE4MTFkYmZiMDkyYTA2MjI1YjcyYmI1MWI1NjNlZThiMTBlODNkOTM5MTVjZjk3MzVlNjUzZjZlNzQ5NTQ1YzlmNGE0MzlmNDAxYWE0OTU5YTI0ODNiODhhZDVjOWVkNDAxZmFiMjhhMzJkMzFhYjNiMTg2Mjg3MzQ0N2I2ZTRlZDE5ZjIyYmQyOWIzMWVmYjhlOTYzN2UzZTU1NzJmYzFiZjJlNzJkMWJjOGMyNzllMGE2ZTRkMzZjZDZjZGYyNDhhYmU3Y2IxOGNjMzVmNGJkYWMxODkzYmY5YmU1NTA4ZTkxZTVjYjJkNTY4N2U3MTBlNjY5NDMxZWFjYWY5MTJhM2MwY2YyNTlhODFmZDlhNWQwMDgyMDY0ZWYyODlhZjIwMmZiZGVjYzk2MTZhZmI5MWViZjIxOTEzMzI2ZWNmY2Y2NjA1YjM0YjRjZWNhMGYzOGI1YmQxMTVmN2VlY2Q5MjFlNDVhMWQ0ZGM5MzM1NWE4NVx1MDAyNlgtR29vZy1TaWduZWRIZWFkZXJzPWhvc3QiLCJzb3VyY2UiOiJPcmRlcnMgU2VydmljZSJ9.tsqzry0VDDaTsLTFMk5GfLollflxhwxI2AzKn8X5rCxwW243j9pU1vZfj-4fCPjqlMbkKrabaEeXBY-4Wfgu0w', 'name': '4e8e46ee-7d62-425c-b9c3-2bc6a48a9c36/PSScene4Band/20200925_161027_48_2223_metadata.json'}\n"
     ]
    }
   ],
   "source": [
    "print(order_details['id'])\n",
    "print(order_details['_links']['results'][0])"
   ]
  }
 ],
 "metadata": {
  "kernelspec": {
   "display_name": "Python 3.9.6 64-bit ('3.9.6')",
   "language": "python",
   "name": "python3"
  },
  "language_info": {
   "codemirror_mode": {
    "name": "ipython",
    "version": 3
   },
   "file_extension": ".py",
   "mimetype": "text/x-python",
   "name": "python",
   "nbconvert_exporter": "python",
   "pygments_lexer": "ipython3",
   "version": "3.9.6"
  },
  "orig_nbformat": 4,
  "vscode": {
   "interpreter": {
    "hash": "1bedda3fce59fa236ffac8164c02851c562f094c6d8f95a48784416ec3bbb813"
   }
  }
 },
 "nbformat": 4,
 "nbformat_minor": 2
}
