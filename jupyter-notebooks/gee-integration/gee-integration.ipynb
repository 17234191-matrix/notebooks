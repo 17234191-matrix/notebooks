{
 "cells": [
  {
   "cell_type": "markdown",
   "metadata": {},
   "source": [
    "Ordering and Delivery to Google Earth Engine (GEE)\n",
    "\n",
    "Based off of the client's example (https://github.com/planetlabs/planet-client-python/blob/main/examples/orders_create_and_download_multiple_orders.py)"
   ]
  },
  {
   "cell_type": "code",
   "execution_count": 1,
   "metadata": {},
   "outputs": [],
   "source": [
    "import asyncio\n",
    "import os\n",
    "\n",
    "import planet"
   ]
  },
  {
   "cell_type": "markdown",
   "metadata": {},
   "source": [
    "Authetication"
   ]
  },
  {
   "cell_type": "code",
   "execution_count": 2,
   "metadata": {},
   "outputs": [
    {
     "name": "stdout",
     "output_type": "stream",
     "text": [
      "None\n"
     ]
    }
   ],
   "source": [
    "# API Keys stored as an env variable\n",
    "PLANET_API_KEY = os.getenv('PL_API_KEY')\n",
    "GEE_API_KEY = os.getenv('GEE_API_KEY')\n",
    "print(GEE_API_KEY)"
   ]
  },
  {
   "cell_type": "markdown",
   "metadata": {},
   "source": [
    "Define order"
   ]
  },
  {
   "cell_type": "code",
   "execution_count": null,
   "metadata": {},
   "outputs": [],
   "source": [
    "DOWNLOAD_DIR = os.getenv('TEST_DOWNLOAD_DIR', '.')\n",
    "\n",
    "iowa_aoi = {\n",
    "    \"type\":\n",
    "    \"Polygon\",\n",
    "    \"coordinates\": [[[-91.198465, 42.893071], [-91.121931, 42.893071],\n",
    "                     [-91.121931, 42.946205], [-91.198465, 42.946205],\n",
    "                     [-91.198465, 42.893071]]]\n",
    "}\n",
    "\n",
    "iowa_images = ['20200925_161029_69_2223', '20200925_161027_48_2223']"
   ]
  },
  {
   "cell_type": "markdown",
   "metadata": {},
   "source": [
    "Define cloud delivery location"
   ]
  },
  {
   "cell_type": "code",
   "execution_count": null,
   "metadata": {},
   "outputs": [],
   "source": [
    "google_cloud_storage_config = {\n",
    "        \"delivery\": {\n",
    "            \"google_cloud_storage\": {\n",
    "                \"project\": \"planet-earthengine-staging\",\n",
    "                \"collection\": \"gee-integration-testing\",\n",
    "                \"credentials\": GEE_API_KEY\n",
    "            }\n",
    "    }\n",
    "}\n",
    "delivery_config = planet.order_request.delivery(\n",
    "    cloud_config=planet.order_request.google_earth_engine(project='planet-earthengine-staging', collection='gee-integration-testing')\n",
    ")"
   ]
  },
  {
   "cell_type": "markdown",
   "metadata": {},
   "source": [
    "Build order request"
   ]
  },
  {
   "cell_type": "code",
   "execution_count": null,
   "metadata": {},
   "outputs": [],
   "source": [
    "iowa_order = planet.order_request.build_request(\n",
    "    'iowa_order',\n",
    "    [planet.order_request.product(iowa_images, 'analytic', 'PSScene4Band')],\n",
    "    delivery=planet.order_request.delivery(cloud_config=delivery_config),\n",
    "    tools=[planet.order_request.clip_tool(iowa_aoi)])\n",
    "\n",
    "print(iowa_order)"
   ]
  },
  {
   "cell_type": "markdown",
   "metadata": {},
   "source": [
    "Define create and download order functions"
   ]
  },
  {
   "cell_type": "code",
   "execution_count": null,
   "metadata": {},
   "outputs": [],
   "source": [
    "async def create_and_download(order_detail, directory, client):\n",
    "    with planet.reporting.StateBar(state='creating') as reporter:\n",
    "        # create\n",
    "        order = await client.create_order(order_detail)\n",
    "        reporter.update(state='created', order_id=order['id'])\n",
    "        # wait for completion\n",
    "        await client.wait(order['id'], callback=reporter.update_state)\n",
    "\n",
    "    order_details = await client.get_order(order_id=order['id'])\n",
    "    return order_details"
   ]
  },
  {
   "cell_type": "markdown",
   "metadata": {},
   "source": []
  },
  {
   "cell_type": "markdown",
   "metadata": {},
   "source": [
    "Create and download order"
   ]
  },
  {
   "cell_type": "code",
   "execution_count": null,
   "metadata": {},
   "outputs": [],
   "source": [
    "async with planet.Session() as ps:\n",
    "    client = planet.OrdersClient(ps)\n",
    "    order_details = await create_and_download(iowa_order, DOWNLOAD_DIR, client)"
   ]
  },
  {
   "cell_type": "code",
   "execution_count": null,
   "metadata": {},
   "outputs": [],
   "source": [
    "print(order_details['id'])\n",
    "print(order_details['_links']['results'][0])"
   ]
  }
 ],
 "metadata": {
  "kernelspec": {
   "display_name": "Python 3.9.6 64-bit ('3.9.6')",
   "language": "python",
   "name": "python3"
  },
  "language_info": {
   "codemirror_mode": {
    "name": "ipython",
    "version": 3
   },
   "file_extension": ".py",
   "mimetype": "text/x-python",
   "name": "python",
   "nbconvert_exporter": "python",
   "pygments_lexer": "ipython3",
   "version": "3.9.6"
  },
  "orig_nbformat": 4,
  "vscode": {
   "interpreter": {
    "hash": "1bedda3fce59fa236ffac8164c02851c562f094c6d8f95a48784416ec3bbb813"
   }
  }
 },
 "nbformat": 4,
 "nbformat_minor": 2
}
