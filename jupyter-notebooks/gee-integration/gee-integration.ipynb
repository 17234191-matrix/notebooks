{
 "cells": [
  {
   "cell_type": "markdown",
   "metadata": {},
   "source": [
    "# Order and Delivery to Google Earth Engine\n",
    "\n",
    "In this notebook we're going to cover how to order data using the [Orders API](https://developers.planet.com/apis/orders/) and deliver it to [Google Earth Engine (GEE)](https://earthengine.google.com/) using [Planet’s GEE Delivery integration](https://developers.planet.com/docs/integrations/gee/).\n",
    "\n",
    "This example demonstrates how to:\n",
    "1. Define the data to be ordered\n",
    "2. Build a cloud delivery configuration object (`delivery_config`), which tells the Orders API where to deliver the data\n",
    "3. Build an order request to be sent off to the Orders API, `iowa_order`\n",
    "4. Create the order and have it deliver to your GEE project\n",
    "\n",
    "**Prerequsites:** \n",
    "- An AOI - `iowa_aoi`\n",
    "- Item ID(s) - `iowa_images`\n",
    "- A GEE project with EE API enabled - `planet-devrel-dev`\n",
    "- A pre-existing GEE [ImageCollection](https://developers.google.com/earth-engine/guides/ic_creating) - `gee-integration-testing`\n",
    "- An account with a download quota. Not sure if you have download quota? Please [get in touch](https://www.planet.com/contact-sales/)."
   ]
  },
  {
   "cell_type": "code",
   "execution_count": 8,
   "metadata": {},
   "outputs": [],
   "source": [
    "import planet"
   ]
  },
  {
   "cell_type": "markdown",
   "metadata": {},
   "source": [
    "## Define data to be ordered"
   ]
  },
  {
   "cell_type": "code",
   "execution_count": 9,
   "metadata": {},
   "outputs": [],
   "source": [
    "# The area of interest (AOI) defined as a polygon\n",
    "iowa_aoi = {\n",
    "    \"type\":\n",
    "    \"Polygon\",\n",
    "    \"coordinates\": [[[-91.198465, 42.893071], [-91.121931, 42.893071],\n",
    "                     [-91.121931, 42.946205], [-91.198465, 42.946205],\n",
    "                     [-91.198465, 42.893071]]]\n",
    "}\n",
    "\n",
    "# The item IDs we wish to order\n",
    "iowa_images = ['20200925_161029_69_2223', '20200925_161027_48_2223']"
   ]
  },
  {
   "cell_type": "markdown",
   "metadata": {},
   "source": [
    "## Define cloud delivery location\n",
    "This is the *key concept* of this notebook. Here, we are defining a cloud delivery configuration object, `cloud_config`, where we are defining the destination to be Google Earth Engine, in the project named `planet-devrel-dev`, in the ImageCollection named `gee-integration-testing`."
   ]
  },
  {
   "cell_type": "code",
   "execution_count": 10,
   "metadata": {},
   "outputs": [],
   "source": [
    "# Google Earth Engine configuration\n",
    "cloud_config = planet.order_request.google_earth_engine(\n",
    "    project='planet-devrel-dev', collection='gee-integration-testing')\n",
    "# Order delivery configuration\n",
    "delivery_config = planet.order_request.delivery(cloud_config=cloud_config)"
   ]
  },
  {
   "cell_type": "markdown",
   "metadata": {},
   "source": [
    "## Build a simple order request\n",
    "Here we are building an order request, where we specify the products we wish to order. Spesifically, here we are requesting the IDs defined in `iowa_images`, as `analytic_udm2` assets, from the Planet Scope Scene product, `PSScene`."
   ]
  },
  {
   "cell_type": "code",
   "execution_count": 11,
   "metadata": {},
   "outputs": [
    {
     "name": "stdout",
     "output_type": "stream",
     "text": [
      "{'name': 'iowa_order', 'products': [{'item_ids': ['20200925_161029_69_2223', '20200925_161027_48_2223'], 'item_type': 'PSScene', 'product_bundle': 'analytic_sr_udm2'}], 'delivery': {'google_earth_engine': {'project': 'planet-devrel-dev', 'collection': 'gee-integration-testing'}}}\n"
     ]
    }
   ],
   "source": [
    "# Product description for the order request\n",
    "data_products = [\n",
    "    planet.order_request.product(item_ids=iowa_images,\n",
    "                                 product_bundle='analytic_sr_udm2',\n",
    "                                 item_type='PSScene')\n",
    "]\n",
    "\n",
    "# Build the order request\n",
    "iowa_order = planet.order_request.build_request(name='iowa_order',\n",
    "                                                products=data_products,\n",
    "                                                delivery=delivery_config)\n",
    "\n",
    "print(iowa_order)"
   ]
  },
  {
   "cell_type": "markdown",
   "metadata": {},
   "source": [
    "## Create and deliver the order\n",
    "Define a function that will create an order and update you with its progress. In this case, since we specified the delivery destination to be Google Earth Engine with `delivery_config`, it will also wait for it to be delivered to your project."
   ]
  },
  {
   "cell_type": "code",
   "execution_count": 12,
   "metadata": {},
   "outputs": [],
   "source": [
    "async def create_and_deliver_order(order_request, client):\n",
    "    '''Create and deliver an order.\n",
    "\n",
    "    Parameters:\n",
    "        order_request: An order request\n",
    "        client: An Order client object\n",
    "    '''\n",
    "    with planet.reporting.StateBar(state='creating') as reporter:\n",
    "        # Place an order to the Orders API\n",
    "        order = await client.create_order(order_request)\n",
    "        reporter.update(state='created', order_id=order['id'])\n",
    "        # Wait while the order is being completed\n",
    "        await client.wait(order['id'],\n",
    "                          callback=reporter.update_state,\n",
    "                          max_attempts=0)\n",
    "\n",
    "    # Grab the details of the orders\n",
    "    order_details = await client.get_order(order_id=order['id'])\n",
    "\n",
    "    return order_details"
   ]
  },
  {
   "cell_type": "markdown",
   "metadata": {},
   "source": [
    "Create and deliver the order `iowa_order` to the GEE project `planet-devrel-dev` in the ImageCollection `gee-integration-testing`."
   ]
  },
  {
   "cell_type": "code",
   "execution_count": 13,
   "metadata": {},
   "outputs": [
    {
     "name": "stderr",
     "output_type": "stream",
     "text": [
      "21:49 - order 94a59a78-a530-4068-b78a-6c82b4605e5d - state: success\n"
     ]
    }
   ],
   "source": [
    "async with planet.Session() as ps:\n",
    "    # The Orders API client\n",
    "    client = planet.OrdersClient(ps)\n",
    "    # Create the order and deliver it to GEE\n",
    "    order_details = await create_and_deliver_order(iowa_order, client)"
   ]
  },
  {
   "cell_type": "markdown",
   "metadata": {},
   "source": [
    "Display the results for the item data in the order."
   ]
  },
  {
   "cell_type": "code",
   "execution_count": 14,
   "metadata": {},
   "outputs": [
    {
     "name": "stdout",
     "output_type": "stream",
     "text": [
      "{'delivery': 'success', 'expires_at': '2022-11-19T19:42:55.896Z', 'location': 'https://api.planet.com/compute/ops/download/?token=eyJhbGciOiJIUzUxMiIsInR5cCI6IkpXVCJ9.eyJleHAiOjE2Njg4ODY5NzUsInN1YiI6IlF3T3o4UFdNK2JxVDhBWVl1RzNaMVlpM2hhSUxRcThWQzJWSWF5QTdaazdNUWswRnVkL3FXdXFqeXBnd21DQTErSUNWQWxhblNUdUkzZU1yNjljTVFBPT0iLCJ0b2tlbl90eXBlIjoiZG93bmxvYWQtYXNzZXQtc3RhY2siLCJhb2kiOiIiLCJhc3NldHMiOlt7Iml0ZW1fdHlwZSI6IiIsImFzc2V0X3R5cGUiOiIiLCJpdGVtX2lkIjoiIn1dLCJ1cmwiOiJodHRwczovL3N0b3JhZ2UuZ29vZ2xlYXBpcy5jb20vY29tcHV0ZS1vcmRlcnMtbGl2ZS8yMDIwMDkyNV8xNjEwMjdfNDhfMjIyM18zQl9BbmFseXRpY01TX1NSLnRpZj9YLUdvb2ctQWxnb3JpdGhtPUdPT0c0LVJTQS1TSEEyNTZcdTAwMjZYLUdvb2ctQ3JlZGVudGlhbD1jb21wdXRlLWdjcy1zdmNhY2MlNDBwbGFuZXQtY29tcHV0ZS1wcm9kLmlhbS5nc2VydmljZWFjY291bnQuY29tJTJGMjAyMjExMTglMkZhdXRvJTJGc3RvcmFnZSUyRmdvb2c0X3JlcXVlc3RcdTAwMjZYLUdvb2ctRGF0ZT0yMDIyMTExOFQxOTQyNTVaXHUwMDI2WC1Hb29nLUV4cGlyZXM9ODYzOTlcdTAwMjZYLUdvb2ctU2lnbmF0dXJlPTllZTZiNzNkM2I4MGNhZGE1NGYyYmE0ZjEzNDA2NmIzOWVlM2U1YjQ2NWEzOGJlZDE0Yzc5M2NiOGI0NTRlMGZlMTg0NjMwMDZiNDkzN2NjOTA3ZTFiYWEwNDE4YjhlOWExYjU5OWM2NDc5MDliOTc3YTk3YTIwMzRkNTFhMGM2NmI3YjBjNTU4MGRmMDQxZGE4NGVhM2QxZmMxNDRmOGJlZDgwNDIxZDcxZjA0YmY0OThkMmFiYzBlMzM2MDliYzM4Nzg2YTU3OTZlMWJkOWE2MTU5MjZkODE3MzRlYzg0ZGRkNDFkNDZjZTFkN2RiZWEzYzk4YjEyZjM2MTQwOTQ1OWRjZjE2OGM4MWFhYjc5ODI0NGMyMGQwODg0M2JmNzE4MTY0MzJlODI4M2QzNTUzMjY2NjgwMTUyMDUzMWRiMTkwNzU0ZGI4ODRjNTQ0NWFlMDg5ZjkwODExZDBhNmQ3NGI0Njc2NTU4M2UyZDdkMmU2MjViODA1NTMyOTk5YzVhNDcxOWVhNDFiNDZhMTY3MzAyNzI2NjdiNWM4Mzk2MjlhODljZjJhYWVmYjgzN2JlNjc5NjRkYjYwOTQ1YmY3MjY4YzQ2MzhhNWQ5ZDgwOGY2NmMwNWFkZDA0NTBmM2EzYjYyOGNmNmFhYzcyZjViYjQ0NTE1MmFlNzUyZDNkXHUwMDI2WC1Hb29nLVNpZ25lZEhlYWRlcnM9aG9zdCIsInNvdXJjZSI6Ik9yZGVycyBTZXJ2aWNlIn0.YMwqVDhuZ1UbO3My4BFrHOkwM53rYGgDTA6VRwujBhfzY2N78bUzj91B9qDTQ4d4zFKvwuV6PzJBW_1OLNot-A', 'name': '20200925_161027_48_2223_3B_AnalyticMS_SR.tif'}\n"
     ]
    }
   ],
   "source": [
    "print(order_details['_links']['results'][0])"
   ]
  },
  {
   "cell_type": "markdown",
   "metadata": {},
   "source": [
    "## Build an order request with clipping and harmonization applied\n",
    "Here we are building an order request similar to the one above, but with [clipping](https://developers.planet.com/apis/orders/tools/#clip) and [harmonization](https://developers.planet.com/apis/orders/tools/#harmonization) applied. Namely, we are asking the Orders API to clip our images to the AOI, as defined by `iowa_aoi`, and radiometrically harmonizing the imagery with Sentinel-2's sensor."
   ]
  },
  {
   "cell_type": "code",
   "execution_count": 15,
   "metadata": {},
   "outputs": [
    {
     "name": "stdout",
     "output_type": "stream",
     "text": [
      "{'name': 'iowa_order', 'products': [{'item_ids': ['20200925_161029_69_2223', '20200925_161027_48_2223'], 'item_type': 'PSScene', 'product_bundle': 'analytic_sr_udm2'}], 'delivery': {'google_earth_engine': {'project': 'planet-devrel-dev', 'collection': 'gee-integration-testing'}}, 'tools': [{'harmonize': {'target_sensor': 'Sentinel-2'}}]}\n",
      "[{'harmonize': {'target_sensor': 'Sentinel-2'}}]\n"
     ]
    }
   ],
   "source": [
    "# Clip images to the AOI's perimeter and harmonize the data with Dove Classic\n",
    "tools = [\n",
    "    planet.order_request.harmonize_tool('Sentinel-2')\n",
    "]\n",
    "\n",
    "# Build the order request\n",
    "iowa_order = planet.order_request.build_request(name='iowa_order',\n",
    "                                                products=data_products,\n",
    "                                                delivery=delivery_config,\n",
    "                                                tools=tools)\n",
    "\n",
    "print(iowa_order)\n",
    "print(tools)"
   ]
  },
  {
   "cell_type": "markdown",
   "metadata": {},
   "source": [
    "Create and deliver the clipped and harmonized data to `planet-devrel-dev` in `gee-integration-testing`."
   ]
  },
  {
   "cell_type": "code",
   "execution_count": 16,
   "metadata": {},
   "outputs": [
    {
     "name": "stderr",
     "output_type": "stream",
     "text": [
      "17:21 - order 0ab34a44-1242-498e-b7c9-6e2c73621913 - state: success\n"
     ]
    }
   ],
   "source": [
    "async with planet.Session() as ps:\n",
    "    # The Orders API client\n",
    "    client = planet.OrdersClient(ps)\n",
    "    # Create the order and deliver it to GEE\n",
    "    order_details = await create_and_deliver_order(iowa_order, client)"
   ]
  },
  {
   "cell_type": "markdown",
   "metadata": {},
   "source": [
    "Display the results for the item data in the order."
   ]
  },
  {
   "cell_type": "code",
   "execution_count": 17,
   "metadata": {},
   "outputs": [
    {
     "name": "stdout",
     "output_type": "stream",
     "text": [
      "{'delivery': 'success', 'expires_at': '2022-11-19T20:00:18.171Z', 'location': 'https://api.planet.com/compute/ops/download/?token=eyJhbGciOiJIUzUxMiIsInR5cCI6IkpXVCJ9.eyJleHAiOjE2Njg4ODgwMTgsInN1YiI6IlByNEY3YmthSXg2cU5laVRTNnN2V3FUbWRNRjc2THhmNWlJNk96Z094VzVYOTBDMitzUGJPclNnNlE5WGtuUXVOSFJTSk5GWm5aTDZER0VXY3FwYWNnPT0iLCJ0b2tlbl90eXBlIjoiZG93bmxvYWQtYXNzZXQtc3RhY2siLCJhb2kiOiIiLCJhc3NldHMiOlt7Iml0ZW1fdHlwZSI6IiIsImFzc2V0X3R5cGUiOiIiLCJpdGVtX2lkIjoiIn1dLCJ1cmwiOiJodHRwczovL3N0b3JhZ2UuZ29vZ2xlYXBpcy5jb20vY29tcHV0ZS1vcmRlcnMtbGl2ZS8wYWIzNGE0NC0xMjQyLTQ5OGUtYjdjOS02ZTJjNzM2MjE5MTMvUFNTY2VuZS8yMDIwMDkyNV8xNjEwMjdfNDhfMjIyM19tZXRhZGF0YS5qc29uP1gtR29vZy1BbGdvcml0aG09R09PRzQtUlNBLVNIQTI1Nlx1MDAyNlgtR29vZy1DcmVkZW50aWFsPWNvbXB1dGUtZ2NzLXN2Y2FjYyU0MHBsYW5ldC1jb21wdXRlLXByb2QuaWFtLmdzZXJ2aWNlYWNjb3VudC5jb20lMkYyMDIyMTExOCUyRmF1dG8lMkZzdG9yYWdlJTJGZ29vZzRfcmVxdWVzdFx1MDAyNlgtR29vZy1EYXRlPTIwMjIxMTE4VDIwMDAxOFpcdTAwMjZYLUdvb2ctRXhwaXJlcz04NjM5OVx1MDAyNlgtR29vZy1TaWduYXR1cmU9NWMxOTQxOThlYTZhODZhMzU0ZTgwNjczODQ1NzhiYzZhZjc4MGYwOTFkZmE0ODMxYTk0M2FiZDBiZjNlNDI4MGVhODE0YzFiZmIxNTFkNDBjOWQ3NjZmY2I4Nzk0NGY4MzUyMmY4OTliYmM5NWE2ZWRiZjIzYjBkZDI4ZjFkZWM5NmM3MWFjOWQ4NGViNGMzMDM3YTJlNGU1YzcwOTNkNDc0NTA0ODEwZGNkNTE4NDI3NmYzYmYzYjU3NjI2YzQ3MGE5N2JjYTlhZTZlNTQ3YWFiYjZmYzE1MDU0NjExYjJiMGFmNzBhMTY3MWViNjQ0YmNjMzlkZWE3MzFlN2Q4MzhmNTEyYTRkZGI4MGMxOGI1NWUzMzllMmY0MDJiNjg3YTE2YzhjMTA4M2M0M2YxYzMxMTg2ZjQ5YzNjYjA3NWM3N2Y3NTNiZjQwZWQxYzRmZjRhMjIxMGUwYmRkMmQyYzJjYTQwYmU4NjRjZDc5MDc3MjY4YTY4ZGViZGU4NzgxNTQ3Y2RlOTc3NzRiMWM0NjM5ZWE0NjQ2N2M4YTdmMzQyMmIyOWNhYTVkN2EyOGM2ZDdjNjkwZmRhODc2ZmI1YWFhYmM4YTRiZjY2ZGNmZmNiNzBkMzNlZGZiN2ExYzA1OTViMGM1ZDkxYTc1YzhiNTBhOTFjZDQ5NDBkMmNiZWFcdTAwMjZYLUdvb2ctU2lnbmVkSGVhZGVycz1ob3N0Iiwic291cmNlIjoiT3JkZXJzIFNlcnZpY2UifQ.DV6uJEBh6tKIrl86EU5MACyxXn7ySIybSFqJHRhJA0kEK7eRDVYK8OKPuan_w5lMPnat98Qs904Rx5wTHomBvA', 'name': '0ab34a44-1242-498e-b7c9-6e2c73621913/PSScene/20200925_161027_48_2223_metadata.json'}\n"
     ]
    }
   ],
   "source": [
    "print(order_details['_links']['results'][0])"
   ]
  }
 ],
 "metadata": {
  "kernelspec": {
   "display_name": "Python 3.9.6 64-bit ('3.9.6')",
   "language": "python",
   "name": "python3"
  },
  "language_info": {
   "codemirror_mode": {
    "name": "ipython",
    "version": 3
   },
   "file_extension": ".py",
   "mimetype": "text/x-python",
   "name": "python",
   "nbconvert_exporter": "python",
   "pygments_lexer": "ipython3",
   "version": "3.9.6"
  },
  "orig_nbformat": 4,
  "vscode": {
   "interpreter": {
    "hash": "1bedda3fce59fa236ffac8164c02851c562f094c6d8f95a48784416ec3bbb813"
   }
  }
 },
 "nbformat": 4,
 "nbformat_minor": 2
}
