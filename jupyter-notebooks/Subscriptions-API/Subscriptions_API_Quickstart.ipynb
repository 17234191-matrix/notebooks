{
 "cells": [
  {
   "cell_type": "markdown",
   "id": "4ff14791",
   "metadata": {},
   "source": [
    "# Subscriptions API & Planet SDK Quickstart\n",
    "\n",
    "\n",
    "Getting started with Planet SDK and the Subscriptions API.\n",
    "\n",
    "The Subscriptions API is Planet's next-gen data delivery API. With a single API call, the Subscriptions API allows you to subscribe to continuous cloud delivery of imagery and metadata collections, which meet your item filter criteria. In this notebook, we'll take a look at this functionality and how you might be able to incorporate it into your own workflows."
   ]
  },
  {
   "cell_type": "markdown",
   "id": "add66e0a",
   "metadata": {},
   "source": [
    "## Planet API Authentication & Cloud Delivery Credentials\n",
    "The new SDK supports a couple different methods of authentication (and soon, will support OIDC / Okta token-based authentication as well). Read more in the docs here.\n",
    "\n",
    "For this example, we'll use the getpass tool to pass in our API key as a string to the from_key method.\n",
    "\n",
    "In this example, we will also be using Gogle Cloud Storage as our cloud delivery service. However, it is also possible to use: <br> <br> - Amazon S3 <br>  - Oracle Cloud Storage <br>  - Microsoft Azure <br> <br> Regardless of the platform you're using, ensure that you have both write and delete access to your storage location. <br> For how details on how to change the delivery schema when using each of these cloud delivery platforms, see the [Subscriptions API Delivery Documentation](https://developers.planet.com/docs/subscriptions/delivery/) on our Developer's Center."
   ]
  },
  {
   "cell_type": "code",
   "execution_count": 372,
   "id": "da69cdee",
   "metadata": {},
   "outputs": [],
   "source": [
    "import datetime"
   ]
  },
  {
   "cell_type": "code",
   "execution_count": null,
   "id": "6f19d411",
   "metadata": {},
   "outputs": [],
   "source": [
    "from getpass import getpass\n",
    "from planet import Auth\n",
    "api_key = getpass('Enter your API key:')\n",
    "bucket_name = \"GCS_BUCKET_NAME_HERE\"\n",
    "gcs_key = \"GCS_API_KEY_HERE\"\n",
    "\n",
    "auth = Auth.from_key(api_key)"
   ]
  },
  {
   "cell_type": "markdown",
   "id": "e9cd5453",
   "metadata": {},
   "source": [
    "## Listing a Subscription"
   ]
  },
  {
   "cell_type": "markdown",
   "id": "37cdef91",
   "metadata": {},
   "source": [
    "First, let's try listing any existing subscriptions we already have in our Planet accounts. If you've never made a subscription before, this may show up as an empty list. <br> <br> We'll try this again below after we've created our first subscription."
   ]
  },
  {
   "cell_type": "code",
   "execution_count": null,
   "id": "3879c0c4",
   "metadata": {},
   "outputs": [],
   "source": [
    "from planet import Session\n",
    "from planet.clients.subscriptions import SubscriptionsClient"
   ]
  },
  {
   "cell_type": "code",
   "execution_count": null,
   "id": "2cef1b0c",
   "metadata": {},
   "outputs": [],
   "source": [
    "# We want to initiate and authenticate into the Client, and then list up to 5 of our recent running or pending subscriptions\n",
    "async with Session(auth=auth) as sess:\n",
    "    cl = SubscriptionsClient(sess)\n",
    "    subscriptions = cl.list_subscriptions(limit=5, status=['running', 'pending', 'completed'])\n",
    "    sub_list = [i async for i in subscriptions]"
   ]
  },
  {
   "cell_type": "code",
   "execution_count": null,
   "id": "36b3a567",
   "metadata": {},
   "outputs": [],
   "source": [
    "# Note: if this shows an empty list \"[]\", this may mean that you don't have any currently running or pending subscriptions!\n",
    "sub_list"
   ]
  },
  {
   "cell_type": "markdown",
   "id": "fffa6e0e",
   "metadata": {},
   "source": [
    "## Creating a Subscription"
   ]
  },
  {
   "cell_type": "markdown",
   "id": "ce4e87b4",
   "metadata": {},
   "source": [
    "In order to create a subscription using the Client, we must provide a subscription description dictionary, including a `name`, and `catalog` source block (with item_types, asset_types, geometry, start_time, end_time), along with a `delivery` block with a specified cloud storage location. Subscriptions also support select tools.\n",
    "\n",
    "The `rrule` attribute leverages [iCalendar recurrence rules](https://icalendar.org/iCalendar-RFC-5545/3-8-5-3-recurrence-rule.html). This can be used to create subscriptions that deliver items for recurring periods within the total coverage time. In this example, we are getting monthly data between January to November, from 2022 to 2025. More information on how to use this attribute can be found [here](https://developers.planet.com/docs/subscriptions/source/#rrules-recurrence-rules).\n",
    "\n",
    "Feel free to use the below request format as a template to input the parameters you need for your own subscription."
   ]
  },
  {
   "cell_type": "code",
   "execution_count": 546,
   "id": "d8b4fd86",
   "metadata": {},
   "outputs": [],
   "source": [
    "sub_desc = {\n",
    "    \"name\": \"Recurring Subscription\",\n",
    "    \"source\": {\n",
    "        \"type\": \"catalog\",\n",
    "        \"parameters\": {\n",
    "            \"geometry\": {\n",
    "                \"coordinates\": [[[139.5648193359375,35.42374884923695],\n",
    "                                [140.1031494140625,35.42374884923695],\n",
    "                                [140.1031494140625,35.77102915686019],\n",
    "                                [139.5648193359375,35.77102915686019],\n",
    "                                [139.5648193359375,35.42374884923695]]],\n",
    "                \"type\": \"Polygon\"\n",
    "            },\n",
    "            \"start_time\": \"2022-01-01T00:00:00Z\",\n",
    "            \"end_time\": \"2025-11-01T00:00:00Z\",\n",
    "            \"rrule\": \"FREQ=MONTHLY;BYMONTH=3,4,5,6,7,8,9,10\",\n",
    "            \"item_types\": [\"PSScene\"],\n",
    "            \"asset_types\": [\"ortho_analytic_4b\"]\n",
    "        }\n",
    "    },\n",
    "    \"delivery\": {\"type\": \"google_cloud_storage\",\n",
    "                \"parameters\": {\n",
    "                    \"bucket\":bucket_name,\n",
    "         \"credentials\":gcs_key}\n",
    "                }\n",
    "}"
   ]
  },
  {
   "cell_type": "code",
   "execution_count": null,
   "id": "4e37a546",
   "metadata": {
    "scrolled": false
   },
   "outputs": [],
   "source": [
    "sub_desc"
   ]
  },
  {
   "cell_type": "code",
   "execution_count": 548,
   "id": "14aa50de",
   "metadata": {},
   "outputs": [],
   "source": [
    "# Now we can create a corresponding subscription using our description\n",
    "async with Session(auth=auth) as sess:\n",
    "    cl = SubscriptionsClient(sess)\n",
    "    subscription_desc = await cl.create_subscription(sub_desc)"
   ]
  },
  {
   "cell_type": "code",
   "execution_count": 549,
   "id": "1d51e43f",
   "metadata": {},
   "outputs": [
    {
     "data": {
      "text/plain": [
       "{'name': 'Recurring Subscription',\n",
       " 'source': {'type': 'catalog',\n",
       "  'parameters': {'asset_types': ['ortho_analytic_4b'],\n",
       "   'end_time': '2025-11-01T00:00:00Z',\n",
       "   'geometry': {'coordinates': [[[139.5648193359375, 35.42374884923695],\n",
       "      [140.1031494140625, 35.42374884923695],\n",
       "      [140.1031494140625, 35.77102915686019],\n",
       "      [139.5648193359375, 35.77102915686019],\n",
       "      [139.5648193359375, 35.42374884923695]]],\n",
       "    'type': 'Polygon'},\n",
       "   'item_types': ['PSScene'],\n",
       "   'rrule': 'FREQ=MONTHLY;BYMONTH=3,4,5,6,7,8,9,10',\n",
       "   'start_time': '2022-01-01T00:00:00Z'}},\n",
       " 'delivery': {'type': 'google_cloud_storage',\n",
       "  'parameters': {'bucket': 'jub-orders-delivery',\n",
       "   'credentials': '<REDACTED>'}},\n",
       " 'created': '2022-11-21T16:09:00.250108Z',\n",
       " '_links': {'_self': 'https://api.planet.com/subscriptions/v1/2607a8b6-d4a9-4b76-85b9-6de967c5f8e0'},\n",
       " 'status': 'preparing',\n",
       " 'id': '2607a8b6-d4a9-4b76-85b9-6de967c5f8e0',\n",
       " 'updated': '2022-11-21T16:09:00.250108Z'}"
      ]
     },
     "execution_count": 549,
     "metadata": {},
     "output_type": "execute_result"
    }
   ],
   "source": [
    "subscription_desc"
   ]
  },
  {
   "cell_type": "markdown",
   "id": "50446022",
   "metadata": {},
   "source": [
    "## Listing a Subscription"
   ]
  },
  {
   "cell_type": "markdown",
   "id": "edbbe508",
   "metadata": {},
   "source": [
    "Let's try listing our 5 most recent existing subscriptions we have associated with our Planet account. We should see the subscription we just created above as part of this.\n",
    "\n",
    "You can filter the subscriptions listed by status- `preparing`, `running`, `pending`, `completed`, or `canceled`.\n",
    "\n",
    "For this example, we will only list the subscriptions we have that have not been canceled."
   ]
  },
  {
   "cell_type": "code",
   "execution_count": 550,
   "id": "ecba6fd4",
   "metadata": {},
   "outputs": [],
   "source": [
    "# We want to initiate and authenticate into the Client, and then list up to 5 of our recent subscriptions\n",
    "async with Session(auth=auth) as sess:\n",
    "    cl = SubscriptionsClient(sess)\n",
    "    subscriptions = cl.list_subscriptions(limit=5, status=['preparing', 'running', 'pending', 'completed'])\n",
    "    sub_list = [i async for i in subscriptions]"
   ]
  },
  {
   "cell_type": "code",
   "execution_count": 551,
   "id": "8e7af0c7",
   "metadata": {
    "scrolled": true
   },
   "outputs": [
    {
     "data": {
      "text/plain": [
       "[{'name': 'Recurring Subscription',\n",
       "  'source': {'type': 'catalog',\n",
       "   'parameters': {'asset_types': ['ortho_analytic_4b'],\n",
       "    'end_time': '2025-11-01T00:00:00Z',\n",
       "    'geometry': {'coordinates': [[[139.5648193359375, 35.42374884923695],\n",
       "       [140.1031494140625, 35.42374884923695],\n",
       "       [140.1031494140625, 35.77102915686019],\n",
       "       [139.5648193359375, 35.77102915686019],\n",
       "       [139.5648193359375, 35.42374884923695]]],\n",
       "     'type': 'Polygon'},\n",
       "    'item_types': ['PSScene'],\n",
       "    'rrule': 'FREQ=MONTHLY;BYMONTH=3,4,5,6,7,8,9,10',\n",
       "    'start_time': '2022-01-01T00:00:00Z'}},\n",
       "  'delivery': {'type': 'google_cloud_storage',\n",
       "   'parameters': {'bucket': 'jub-orders-delivery',\n",
       "    'credentials': '<REDACTED>'}},\n",
       "  'created': '2022-11-21T16:09:00.250108Z',\n",
       "  '_links': {'_self': 'https://api.planet.com/subscriptions/v1/2607a8b6-d4a9-4b76-85b9-6de967c5f8e0'},\n",
       "  'status': 'preparing',\n",
       "  'id': '2607a8b6-d4a9-4b76-85b9-6de967c5f8e0',\n",
       "  'updated': '2022-11-21T16:09:00.250108Z'}]"
      ]
     },
     "execution_count": 551,
     "metadata": {},
     "output_type": "execute_result"
    }
   ],
   "source": [
    "# You should see at least the subscription we created above as part of this list!\n",
    "sub_list"
   ]
  },
  {
   "cell_type": "code",
   "execution_count": 552,
   "id": "a978c768",
   "metadata": {},
   "outputs": [],
   "source": [
    "# Let's save the subscription ID for our first subscription. \n",
    "# We will need this in order to retrieve information about our subscription in the next \"Get Subscription\" step.\n",
    "sub_id = sub_list[0][\"id\"]"
   ]
  },
  {
   "cell_type": "markdown",
   "id": "536476c9",
   "metadata": {},
   "source": [
    "## Get a Subscription"
   ]
  },
  {
   "cell_type": "markdown",
   "id": "381ce7bf",
   "metadata": {},
   "source": [
    "We can use our subscription ID for a given subscription to retrieve the corresponding subscription's description. Let's see this in action using the subscription ID we saved above."
   ]
  },
  {
   "cell_type": "code",
   "execution_count": 553,
   "id": "b0c96f58",
   "metadata": {},
   "outputs": [],
   "source": [
    "# We want to initiate and authenticate into the Client, and then get our subscription description matching the ID\n",
    "async with Session(auth=auth) as sess:\n",
    "    cl = SubscriptionsClient(sess)\n",
    "    subscription_desc = await cl.get_subscription(subscription_id=sub_id)"
   ]
  },
  {
   "cell_type": "code",
   "execution_count": 554,
   "id": "b4929556",
   "metadata": {
    "scrolled": true
   },
   "outputs": [
    {
     "data": {
      "text/plain": [
       "{'name': 'Recurring Subscription',\n",
       " 'source': {'type': 'catalog',\n",
       "  'parameters': {'asset_types': ['ortho_analytic_4b'],\n",
       "   'end_time': '2025-11-01T00:00:00Z',\n",
       "   'geometry': {'coordinates': [[[139.5648193359375, 35.42374884923695],\n",
       "      [140.1031494140625, 35.42374884923695],\n",
       "      [140.1031494140625, 35.77102915686019],\n",
       "      [139.5648193359375, 35.77102915686019],\n",
       "      [139.5648193359375, 35.42374884923695]]],\n",
       "    'type': 'Polygon'},\n",
       "   'item_types': ['PSScene'],\n",
       "   'rrule': 'FREQ=MONTHLY;BYMONTH=3,4,5,6,7,8,9,10',\n",
       "   'start_time': '2022-01-01T00:00:00Z'}},\n",
       " 'delivery': {'type': 'google_cloud_storage',\n",
       "  'parameters': {'bucket': 'jub-orders-delivery',\n",
       "   'credentials': '<REDACTED>'}},\n",
       " 'created': '2022-11-21T16:09:00.250108Z',\n",
       " '_links': {'_self': 'https://api.planet.com/subscriptions/v1/2607a8b6-d4a9-4b76-85b9-6de967c5f8e0'},\n",
       " 'status': 'running',\n",
       " 'id': '2607a8b6-d4a9-4b76-85b9-6de967c5f8e0',\n",
       " 'updated': '2022-11-21T16:09:08.179889Z'}"
      ]
     },
     "execution_count": 554,
     "metadata": {},
     "output_type": "execute_result"
    }
   ],
   "source": [
    "subscription_desc"
   ]
  },
  {
   "cell_type": "markdown",
   "id": "6a937955",
   "metadata": {},
   "source": [
    "## Update a Subscription"
   ]
  },
  {
   "cell_type": "markdown",
   "id": "5497b7c8",
   "metadata": {},
   "source": [
    "What if we see something about our subscription that we want to change? We can update a subscription by specifying the subscription ID whose attributes we want to alter, along with a new request with the updated parameters. \n",
    "\n",
    "**Note**: After a subscription transitions to `running`, changes to the `start_time` and `item_types` fields are not allowed. The edit will only apply to future item publications and deliveries and no items will be redelivered. \n",
    "Backfill subscriptions cannot be edited. If you need to reorder archive items based on an updated filter or tool specifications, you can search for and order archive items with the Data API and Orders API."
   ]
  },
  {
   "cell_type": "code",
   "execution_count": null,
   "id": "7846787f",
   "metadata": {
    "scrolled": true
   },
   "outputs": [],
   "source": [
    "# Let's look at our original request once more:\n",
    "sub_desc"
   ]
  },
  {
   "cell_type": "markdown",
   "id": "d967322a",
   "metadata": {},
   "source": [
    "Let's change our end time January 1st, change our end year to 2027, and only look at images every other month."
   ]
  },
  {
   "cell_type": "code",
   "execution_count": 556,
   "id": "25fa2b81",
   "metadata": {},
   "outputs": [],
   "source": [
    "sub_desc1 = {\n",
    "    \"name\": \"Recurring Subscription 1\",\n",
    "    \"source\": {\n",
    "        \"type\": \"catalog\",\n",
    "        \"parameters\": {\n",
    "            \"geometry\": {\n",
    "                \"coordinates\": [[[139.5648193359375,35.42374884923695],\n",
    "                                [140.1031494140625,35.42374884923695],\n",
    "                                [140.1031494140625,35.77102915686019],\n",
    "                                [139.5648193359375,35.77102915686019],\n",
    "                                [139.5648193359375,35.42374884923695]]],\n",
    "                \"type\": \"Polygon\"\n",
    "            },\n",
    "            \"start_time\": \"2022-01-01T00:00:00Z\",\n",
    "            \"end_time\": \"2027-01-01T00:00:00Z\",\n",
    "            \"rrule\": \"FREQ=MONTHLY;BYMONTH=2,4,6,8,10,12\",\n",
    "            \"item_types\": [\"PSScene\"],\n",
    "            \"asset_types\": [\"ortho_analytic_4b\"]\n",
    "        }\n",
    "    },\n",
    "    \"delivery\": {\"type\": \"google_cloud_storage\",\n",
    "                \"parameters\": {\n",
    "                    \"bucket\":bucket_name,\n",
    "         \"credentials\":gcs_key}\n",
    "                }\n",
    "}"
   ]
  },
  {
   "cell_type": "markdown",
   "id": "a8c56a30",
   "metadata": {},
   "source": [
    "Now, we can update our subscription with this new request:"
   ]
  },
  {
   "cell_type": "code",
   "execution_count": 557,
   "id": "6a7be1b6",
   "metadata": {},
   "outputs": [],
   "source": [
    "async with Session(auth=auth) as sess:\n",
    "    cl = SubscriptionsClient(sess)\n",
    "    subscription_desc1 = await cl.update_subscription(subscription_id=sub_id, request = sub_desc1)"
   ]
  },
  {
   "cell_type": "markdown",
   "id": "d747f142",
   "metadata": {},
   "source": [
    "Check out the new parameters of our subscription below. Notice that the frequency and end dates of the subscription have changed! Also note that this is still the same subscription ID as we were working with above."
   ]
  },
  {
   "cell_type": "code",
   "execution_count": 558,
   "id": "9a674243",
   "metadata": {
    "scrolled": true
   },
   "outputs": [
    {
     "data": {
      "text/plain": [
       "{'name': 'Recurring Subscription 1',\n",
       " 'source': {'type': 'catalog',\n",
       "  'parameters': {'asset_types': ['ortho_analytic_4b'],\n",
       "   'end_time': '2027-01-01T00:00:00Z',\n",
       "   'geometry': {'coordinates': [[[139.5648193359375, 35.42374884923695],\n",
       "      [140.1031494140625, 35.42374884923695],\n",
       "      [140.1031494140625, 35.77102915686019],\n",
       "      [139.5648193359375, 35.77102915686019],\n",
       "      [139.5648193359375, 35.42374884923695]]],\n",
       "    'type': 'Polygon'},\n",
       "   'item_types': ['PSScene'],\n",
       "   'rrule': 'FREQ=MONTHLY;BYMONTH=2,4,6,8,10,12',\n",
       "   'start_time': '2022-01-01T00:00:00Z'}},\n",
       " 'delivery': {'type': 'google_cloud_storage',\n",
       "  'parameters': {'bucket': 'jub-orders-delivery',\n",
       "   'credentials': '<REDACTED>'}},\n",
       " 'created': '2022-11-21T16:09:00.250108Z',\n",
       " '_links': {'_self': 'https://api.planet.com/subscriptions/v1/2607a8b6-d4a9-4b76-85b9-6de967c5f8e0'},\n",
       " 'status': 'running',\n",
       " 'id': '2607a8b6-d4a9-4b76-85b9-6de967c5f8e0',\n",
       " 'updated': '2022-11-21T16:09:27.805202Z'}"
      ]
     },
     "execution_count": 558,
     "metadata": {},
     "output_type": "execute_result"
    }
   ],
   "source": [
    "subscription_desc1"
   ]
  },
  {
   "cell_type": "markdown",
   "id": "69e76a96",
   "metadata": {},
   "source": [
    "## Get Subscription Results"
   ]
  },
  {
   "cell_type": "markdown",
   "id": "21ca35ed",
   "metadata": {},
   "source": [
    "Now that we've made sure our subscription description matches what we want, we can see our subscription results using the `get_results` Client method."
   ]
  },
  {
   "cell_type": "code",
   "execution_count": 559,
   "id": "707788b5",
   "metadata": {},
   "outputs": [],
   "source": [
    "# We want to initiate and authenticate into the Client, and then get our subscription results description matching the ID\n",
    "async with Session(auth=auth) as sess:\n",
    "    cl = SubscriptionsClient(sess)\n",
    "    results_desc = cl.get_results(subscription_id=sub_id, limit=5)\n",
    "    results_desc_list = [i async for i in results_desc]"
   ]
  },
  {
   "cell_type": "code",
   "execution_count": 560,
   "id": "f555f289",
   "metadata": {},
   "outputs": [
    {
     "data": {
      "text/plain": [
       "<async_generator object SubscriptionsClient.get_results at 0x7fa2a8d833a0>"
      ]
     },
     "execution_count": 560,
     "metadata": {},
     "output_type": "execute_result"
    }
   ],
   "source": [
    "results_desc"
   ]
  },
  {
   "cell_type": "markdown",
   "id": "d274ef1a",
   "metadata": {},
   "source": [
    "Check out the results description below. Note that we can see the subscription created and updated date, as well as the status. \n",
    "\n",
    "Note that this step will only work for subscriptions that are currently running. \n",
    "If you get an empty list, it may mean that your subscription is still pending, especially if the start date of the subscription has not arrived yet."
   ]
  },
  {
   "cell_type": "code",
   "execution_count": 561,
   "id": "c54a0a8e",
   "metadata": {
    "scrolled": true
   },
   "outputs": [
    {
     "data": {
      "text/plain": [
       "[{'id': '6c13f808-192a-4d81-9f8b-0f640633ac4d',\n",
       "  'status': 'queued',\n",
       "  'properties': {'item_id': '20220410_010050_90_248b',\n",
       "   'item_types': ['PSScene']},\n",
       "  'created': '2022-11-21T16:09:12.900168Z',\n",
       "  'updated': '2022-11-21T16:09:28.326435Z',\n",
       "  'errors': {},\n",
       "  'outputs': []},\n",
       " {'id': '36c6ad46-2481-468e-8df6-30409663660a',\n",
       "  'status': 'queued',\n",
       "  'properties': {'item_id': '20220410_010055_51_248b',\n",
       "   'item_types': ['PSScene']},\n",
       "  'created': '2022-11-21T16:09:12.899517Z',\n",
       "  'updated': '2022-11-21T16:09:28.398142Z',\n",
       "  'errors': {},\n",
       "  'outputs': []},\n",
       " {'id': 'ddec7fc7-6a6d-458b-b512-e5f94d6c6487',\n",
       "  'status': 'queued',\n",
       "  'properties': {'item_id': '20220409_002847_38_2455',\n",
       "   'item_types': ['PSScene']},\n",
       "  'created': '2022-11-21T16:09:12.899373Z',\n",
       "  'updated': '2022-11-21T16:09:28.396796Z',\n",
       "  'errors': {},\n",
       "  'outputs': []},\n",
       " {'id': 'ea5df5b4-f27b-4d29-be18-ec02e8f34242',\n",
       "  'status': 'queued',\n",
       "  'properties': {'item_id': '20220409_002845_09_2455',\n",
       "   'item_types': ['PSScene']},\n",
       "  'created': '2022-11-21T16:09:12.899217Z',\n",
       "  'updated': '2022-11-21T16:09:28.348573Z',\n",
       "  'errors': {},\n",
       "  'outputs': []},\n",
       " {'id': '032d3e33-a0cb-4379-b435-b27c8ae2be87',\n",
       "  'status': 'queued',\n",
       "  'properties': {'item_id': '20220410_010057_82_248b',\n",
       "   'item_types': ['PSScene']},\n",
       "  'created': '2022-11-21T16:09:12.897948Z',\n",
       "  'updated': '2022-11-21T16:09:28.408015Z',\n",
       "  'errors': {},\n",
       "  'outputs': []}]"
      ]
     },
     "execution_count": 561,
     "metadata": {},
     "output_type": "execute_result"
    }
   ],
   "source": [
    "results_desc_list"
   ]
  },
  {
   "cell_type": "markdown",
   "id": "52b980b3",
   "metadata": {},
   "source": [
    "## Cancel A Subscription"
   ]
  },
  {
   "cell_type": "markdown",
   "id": "b7894f6b",
   "metadata": {},
   "source": [
    "We can cancel a subscription by using the `cancel_subscription` method and providing the subscription_id corresponding to the subscription we want to cancel."
   ]
  },
  {
   "cell_type": "code",
   "execution_count": 562,
   "id": "3db7348e",
   "metadata": {},
   "outputs": [],
   "source": [
    "async with Session(auth=auth) as sess:\n",
    "    cl = SubscriptionsClient(sess)\n",
    "    cancel_sub = await cl.cancel_subscription(subscription_id=sub_id)"
   ]
  },
  {
   "cell_type": "markdown",
   "id": "0fec6ea5",
   "metadata": {},
   "source": [
    "We can confirm this subscription is canceled by getting a description of this subscription using this ID. We should its status reported as 'canceled'."
   ]
  },
  {
   "cell_type": "code",
   "execution_count": 563,
   "id": "3a2ded3a",
   "metadata": {},
   "outputs": [],
   "source": [
    "async with Session(auth=auth) as sess:\n",
    "    cl = SubscriptionsClient(sess)\n",
    "    subscription_desc = await cl.get_subscription(subscription_id=sub_id)"
   ]
  },
  {
   "cell_type": "code",
   "execution_count": 564,
   "id": "88dcd8b2",
   "metadata": {},
   "outputs": [
    {
     "data": {
      "text/plain": [
       "'cancelled'"
      ]
     },
     "execution_count": 564,
     "metadata": {},
     "output_type": "execute_result"
    }
   ],
   "source": [
    "subscription_desc['status']"
   ]
  },
  {
   "cell_type": "markdown",
   "id": "cad6f5c7",
   "metadata": {},
   "source": [
    "## Congratulations!"
   ]
  },
  {
   "cell_type": "markdown",
   "id": "78e51bd8",
   "metadata": {},
   "source": [
    "You now have all the tools you need to create and edit your own subscriptions using our Subscriptions API Client tool. For more information on our subscriptions API, please check out our [Subscriptions API  Documentation](https://developers.planet.com/docs/subscriptions/)"
   ]
  }
 ],
 "metadata": {
  "kernelspec": {
   "display_name": "Python 3 (ipykernel)",
   "language": "python",
   "name": "python3"
  },
  "language_info": {
   "codemirror_mode": {
    "name": "ipython",
    "version": 3
   },
   "file_extension": ".py",
   "mimetype": "text/x-python",
   "name": "python",
   "nbconvert_exporter": "python",
   "pygments_lexer": "ipython3",
   "version": "3.8.13"
  }
 },
 "nbformat": 4,
 "nbformat_minor": 5
}
