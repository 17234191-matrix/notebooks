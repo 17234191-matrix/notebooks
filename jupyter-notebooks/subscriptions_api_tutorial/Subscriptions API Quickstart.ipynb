{
 "cells": [
  {
   "cell_type": "markdown",
   "id": "4ff14791",
   "metadata": {},
   "source": [
    "# Subscriptions API & Planet SDK Quickstart\n",
    "\n",
    "\n",
    "Getting started with Planet SDK and the Subscriptions API.\n",
    "\n",
    "The Subscriptions API is Planet's next-gen data delivery API. With a single API call, the Subscriptions API allows you to subscribe to continuous cloud delivery of imagery and metadata collections, which meet your item filter criteria. In this notebook, we'll take a look at this functionality and how you might be able to incorporate it into your own workflows."
   ]
  },
  {
   "cell_type": "markdown",
   "id": "add66e0a",
   "metadata": {},
   "source": [
    "## Authentication\n",
    "The new SDK supports a couple different methods of authentication (and soon, will support OIDC / Okta token-based authentication as well). Read more in the docs here.\n",
    "\n",
    "For this example, we'll use the getpass tool to pass in our API key as a string to the from_key method."
   ]
  },
  {
   "cell_type": "code",
   "execution_count": 1,
   "id": "6f19d411",
   "metadata": {},
   "outputs": [
    {
     "name": "stdout",
     "output_type": "stream",
     "text": [
      "Enter your API key:········\n"
     ]
    }
   ],
   "source": [
    "from getpass import getpass\n",
    "from planet import Auth\n",
    "api_key = getpass('Enter your API key:')\n",
    "\n",
    "auth = Auth.from_key(api_key)"
   ]
  },
  {
   "cell_type": "markdown",
   "id": "e9cd5453",
   "metadata": {},
   "source": [
    "## Creating a Subscription"
   ]
  },
  {
   "cell_type": "code",
   "execution_count": 6,
   "id": "3879c0c4",
   "metadata": {},
   "outputs": [],
   "source": [
    "from planet import Session\n",
    "from planet.clients.subscriptions import SubscriptionsClient"
   ]
  },
  {
   "cell_type": "code",
   "execution_count": 20,
   "id": "2cef1b0c",
   "metadata": {},
   "outputs": [],
   "source": [
    "async with Session(auth=auth) as sess:\n",
    "    cl = SubscriptionsClient(sess)\n",
    "    subscriptions = cl.list_subscriptions(limit=5)\n",
    "    sub_list = [i async for i in subscriptions]"
   ]
  },
  {
   "cell_type": "code",
   "execution_count": 21,
   "id": "f1ec14ea",
   "metadata": {},
   "outputs": [
    {
     "data": {
      "text/plain": [
       "<async_generator object SubscriptionsClient.list_subscriptions at 0x7faa08bf7d30>"
      ]
     },
     "execution_count": 21,
     "metadata": {},
     "output_type": "execute_result"
    }
   ],
   "source": [
    "subscriptions"
   ]
  },
  {
   "cell_type": "code",
   "execution_count": null,
   "id": "e9dbfb73",
   "metadata": {},
   "outputs": [],
   "source": []
  }
 ],
 "metadata": {
  "kernelspec": {
   "display_name": "Python 3 (ipykernel)",
   "language": "python",
   "name": "python3"
  },
  "language_info": {
   "codemirror_mode": {
    "name": "ipython",
    "version": 3
   },
   "file_extension": ".py",
   "mimetype": "text/x-python",
   "name": "python",
   "nbconvert_exporter": "python",
   "pygments_lexer": "ipython3",
   "version": "3.8.13"
  }
 },
 "nbformat": 4,
 "nbformat_minor": 5
}
