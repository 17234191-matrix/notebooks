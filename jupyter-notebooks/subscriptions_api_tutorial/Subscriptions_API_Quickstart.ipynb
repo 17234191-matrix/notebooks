{
 "cells": [
  {
   "cell_type": "markdown",
   "id": "4ff14791",
   "metadata": {},
   "source": [
    "# Subscriptions API & Planet SDK Quickstart\n",
    "\n",
    "\n",
    "Getting started with Planet SDK and the Subscriptions API.\n",
    "\n",
    "The Subscriptions API is Planet's next-gen data delivery API. With a single API call, the Subscriptions API allows you to subscribe to continuous cloud delivery of imagery and metadata collections, which meet your item filter criteria. In this notebook, we'll take a look at this functionality and how you might be able to incorporate it into your own workflows."
   ]
  },
  {
   "cell_type": "markdown",
   "id": "add66e0a",
   "metadata": {},
   "source": [
    "## Planet API Authentication & Cloud Delivery Credentials\n",
    "The new SDK supports a couple different methods of authentication (and soon, will support OIDC / Okta token-based authentication as well). Read more in the docs here.\n",
    "\n",
    "For this example, we'll use the getpass tool to pass in our API key as a string to the from_key method.\n",
    "\n",
    "In this example, we will also be using Gogle Cloud Storage as our cloud delivery service. However, it is also possible to use: <br> <br> - Amazon S3 <br>  - Oracle Cloud Storage <br>  - Microsoft Azure <br> <br> Regardless of the platform you're using, ensure that you have both write and delete access to your storage location. <br> For how details on how to change the delivery schema when using each of these cloud delivery platforms, see the [Subscriptions API Delivery Documentation](https://developers.planet.com/docs/subscriptions/delivery/) on our Developer's Center."
   ]
  },
  {
   "cell_type": "code",
   "execution_count": 26,
   "id": "6f19d411",
   "metadata": {},
   "outputs": [
    {
     "name": "stdout",
     "output_type": "stream",
     "text": [
      "Enter your API key:········\n"
     ]
    }
   ],
   "source": [
    "from getpass import getpass\n",
    "from planet import Auth\n",
    "api_key = getpass('Enter your API key:')\n",
    "bucket_name = \"GCS_BUCKET_NAME_HERE\"\n",
    "gcs_key = \"GCS_API_KEY_HERE\"\n",
    "\n",
    "auth = Auth.from_key(api_key)"
   ]
  },
  {
   "cell_type": "markdown",
   "id": "e9cd5453",
   "metadata": {},
   "source": [
    "## Listing a Subscription"
   ]
  },
  {
   "cell_type": "code",
   "execution_count": 12,
   "id": "5a4d82b1",
   "metadata": {},
   "outputs": [],
   "source": [
    "# if none exist, this will result in none (description will empty)"
   ]
  },
  {
   "cell_type": "code",
   "execution_count": 13,
   "id": "3879c0c4",
   "metadata": {},
   "outputs": [],
   "source": [
    "from planet import Session\n",
    "from planet.clients.subscriptions import SubscriptionsClient"
   ]
  },
  {
   "cell_type": "code",
   "execution_count": 14,
   "id": "2cef1b0c",
   "metadata": {},
   "outputs": [],
   "source": [
    "async with Session(auth=auth) as sess:\n",
    "    cl = SubscriptionsClient(sess)\n",
    "    subscriptions = cl.list_subscriptions(limit=5)\n",
    "    sub_list = [i async for i in subscriptions]"
   ]
  },
  {
   "cell_type": "code",
   "execution_count": 15,
   "id": "f1ec14ea",
   "metadata": {},
   "outputs": [
    {
     "data": {
      "text/plain": [
       "<async_generator object SubscriptionsClient.list_subscriptions at 0x7fa2a8a22ee0>"
      ]
     },
     "execution_count": 15,
     "metadata": {},
     "output_type": "execute_result"
    }
   ],
   "source": [
    "subscriptions"
   ]
  },
  {
   "cell_type": "code",
   "execution_count": 16,
   "id": "366c35c6",
   "metadata": {},
   "outputs": [
    {
     "data": {
      "text/plain": [
       "[]"
      ]
     },
     "execution_count": 16,
     "metadata": {},
     "output_type": "execute_result"
    }
   ],
   "source": [
    "sub_list"
   ]
  },
  {
   "cell_type": "markdown",
   "id": "de5cc481",
   "metadata": {},
   "source": [
    "## Creating a Subscription"
   ]
  },
  {
   "cell_type": "code",
   "execution_count": 27,
   "id": "28e6a1f8",
   "metadata": {},
   "outputs": [],
   "source": [
    "sub_desc = {\n",
    "    \"name\": \"Recurring Subscription\",\n",
    "    \"source\": {\n",
    "        \"type\": \"catalog\",\n",
    "        \"parameters\": {\n",
    "            \"geometry\": {\n",
    "                \"coordinates\": [[[139.5648193359375,35.42374884923695],\n",
    "                                [140.1031494140625,35.42374884923695],\n",
    "                                [140.1031494140625,35.77102915686019],\n",
    "                                [139.5648193359375,35.77102915686019],\n",
    "                                [139.5648193359375,35.42374884923695]]],\n",
    "                \"type\": \"Polygon\"\n",
    "            },\n",
    "            \"start_time\": \"2021-03-01T00:00:00Z\",\n",
    "            \"end_time\": \"2023-11-01T00:00:00Z\",\n",
    "            \"rrule\": \"FREQ=MONTHLY;BYMONTH=3,4,5,6,7,8,9,10\",\n",
    "            \"item_types\": [\"PSScene\"],\n",
    "            \"asset_types\": [\"ortho_analytic_4b\"]\n",
    "        }\n",
    "    },\n",
    "    \"delivery\": {\"type\": \"google_cloud_storage\",\n",
    "                \"parameters\": {\n",
    "                    \"bucket\": bucket_name,\n",
    "                    \"credentials\": gcs_key}\n",
    "                }\n",
    "}"
   ]
  },
  {
   "cell_type": "code",
   "execution_count": 28,
   "id": "f05ddbc0",
   "metadata": {},
   "outputs": [
    {
     "data": {
      "text/plain": [
       "{'name': 'Recurring Subscription',\n",
       " 'source': {'type': 'catalog',\n",
       "  'parameters': {'geometry': {'coordinates': [[[139.5648193359375,\n",
       "       35.42374884923695],\n",
       "      [140.1031494140625, 35.42374884923695],\n",
       "      [140.1031494140625, 35.77102915686019],\n",
       "      [139.5648193359375, 35.77102915686019],\n",
       "      [139.5648193359375, 35.42374884923695]]],\n",
       "    'type': 'Polygon'},\n",
       "   'start_time': '2021-03-01T00:00:00Z',\n",
       "   'end_time': '2023-11-01T00:00:00Z',\n",
       "   'rrule': 'FREQ=MONTHLY;BYMONTH=3,4,5,6,7,8,9,10',\n",
       "   'item_types': ['PSScene'],\n",
       "   'asset_types': ['ortho_analytic_4b']}},\n",
       " 'delivery': {'type': 'google_cloud_storage',\n",
       "  'parameters': {'bucket': 'GCS_BUCKET_NAME_HERE',\n",
       "   'credentials': 'GCS_API_KEY_HERE'}}}"
      ]
     },
     "execution_count": 28,
     "metadata": {},
     "output_type": "execute_result"
    }
   ],
   "source": [
    "sub_desc"
   ]
  },
  {
   "cell_type": "code",
   "execution_count": 23,
   "id": "adeac8aa",
   "metadata": {},
   "outputs": [
    {
     "ename": "BadQuery",
     "evalue": "{\"error\":{\"reason\":\"Problem with request\",\"details\":[\"Block 'delivery': You must have write/delete access to bucket: dxd_project_2022 - Problem decoding credentials: illegal base64 data at input byte 7\"]}}",
     "output_type": "error",
     "traceback": [
      "\u001b[0;31m---------------------------------------------------------------------------\u001b[0m",
      "\u001b[0;31mHTTPStatusError\u001b[0m                           Traceback (most recent call last)",
      "File \u001b[0;32m~/Documents/Code/notebooks/notebooks_env/lib/python3.8/site-packages/planet/http.py:273\u001b[0m, in \u001b[0;36mSession._raise_for_status\u001b[0;34m(cls, response)\u001b[0m\n\u001b[1;32m    272\u001b[0m \u001b[38;5;28;01mtry\u001b[39;00m:\n\u001b[0;32m--> 273\u001b[0m     \u001b[43mresponse\u001b[49m\u001b[38;5;241;43m.\u001b[39;49m\u001b[43mraise_for_status\u001b[49m\u001b[43m(\u001b[49m\u001b[43m)\u001b[49m\n\u001b[1;32m    274\u001b[0m \u001b[38;5;28;01mexcept\u001b[39;00m httpx\u001b[38;5;241m.\u001b[39mHTTPStatusError \u001b[38;5;28;01mas\u001b[39;00m e:\n",
      "File \u001b[0;32m~/Documents/Code/notebooks/notebooks_env/lib/python3.8/site-packages/httpx/_models.py:736\u001b[0m, in \u001b[0;36mResponse.raise_for_status\u001b[0;34m(self)\u001b[0m\n\u001b[1;32m    735\u001b[0m message \u001b[38;5;241m=\u001b[39m message\u001b[38;5;241m.\u001b[39mformat(\u001b[38;5;28mself\u001b[39m, error_type\u001b[38;5;241m=\u001b[39merror_type)\n\u001b[0;32m--> 736\u001b[0m \u001b[38;5;28;01mraise\u001b[39;00m HTTPStatusError(message, request\u001b[38;5;241m=\u001b[39mrequest, response\u001b[38;5;241m=\u001b[39m\u001b[38;5;28mself\u001b[39m)\n",
      "\u001b[0;31mHTTPStatusError\u001b[0m: Client error '400 Bad Request' for url 'https://api.planet.com/subscriptions/v1'\nFor more information check: https://httpstatuses.com/400",
      "\nDuring handling of the above exception, another exception occurred:\n",
      "\u001b[0;31mBadQuery\u001b[0m                                  Traceback (most recent call last)",
      "Input \u001b[0;32mIn [23]\u001b[0m, in \u001b[0;36m<cell line: 1>\u001b[0;34m()\u001b[0m\n\u001b[1;32m      1\u001b[0m \u001b[38;5;28;01masync\u001b[39;00m \u001b[38;5;28;01mwith\u001b[39;00m Session(auth\u001b[38;5;241m=\u001b[39mauth) \u001b[38;5;28;01mas\u001b[39;00m sess:\n\u001b[1;32m      2\u001b[0m     cl \u001b[38;5;241m=\u001b[39m SubscriptionsClient(sess)\n\u001b[0;32m----> 3\u001b[0m     subscription_desc \u001b[38;5;241m=\u001b[39m \u001b[38;5;28;01mawait\u001b[39;00m cl\u001b[38;5;241m.\u001b[39mcreate_subscription(sub_desc)\n",
      "File \u001b[0;32m~/Documents/Code/notebooks/notebooks_env/lib/python3.8/site-packages/planet/clients/subscriptions.py:98\u001b[0m, in \u001b[0;36mSubscriptionsClient.create_subscription\u001b[0;34m(self, request)\u001b[0m\n\u001b[1;32m     95\u001b[0m req \u001b[38;5;241m=\u001b[39m Request(url, method\u001b[38;5;241m=\u001b[39m\u001b[38;5;124m'\u001b[39m\u001b[38;5;124mPOST\u001b[39m\u001b[38;5;124m'\u001b[39m, json\u001b[38;5;241m=\u001b[39mrequest)\n\u001b[1;32m     97\u001b[0m \u001b[38;5;28;01mtry\u001b[39;00m:\n\u001b[0;32m---> 98\u001b[0m     resp \u001b[38;5;241m=\u001b[39m \u001b[38;5;28;01mawait\u001b[39;00m \u001b[38;5;28mself\u001b[39m\u001b[38;5;241m.\u001b[39msession\u001b[38;5;241m.\u001b[39mrequest(req)\n\u001b[1;32m     99\u001b[0m \u001b[38;5;66;03m# Forward APIError. We don't strictly need this clause, but it\u001b[39;00m\n\u001b[1;32m    100\u001b[0m \u001b[38;5;66;03m# makes our intent clear.\u001b[39;00m\n\u001b[1;32m    101\u001b[0m \u001b[38;5;28;01mexcept\u001b[39;00m APIError:\n",
      "File \u001b[0;32m~/Documents/Code/notebooks/notebooks_env/lib/python3.8/site-packages/planet/http.py:372\u001b[0m, in \u001b[0;36mSession.request\u001b[0;34m(self, request, stream)\u001b[0m\n\u001b[1;32m    353\u001b[0m \u001b[38;5;124;03m\"\"\"Submit a request with retry.\u001b[39;00m\n\u001b[1;32m    354\u001b[0m \n\u001b[1;32m    355\u001b[0m \u001b[38;5;124;03mParameters:\u001b[39;00m\n\u001b[0;32m   (...)\u001b[0m\n\u001b[1;32m    364\u001b[0m \u001b[38;5;124;03m    planet.exceptions.ClientError: When retry limit is exceeded.\u001b[39;00m\n\u001b[1;32m    365\u001b[0m \u001b[38;5;124;03m\"\"\"\u001b[39;00m\n\u001b[1;32m    366\u001b[0m \u001b[38;5;66;03m# TODO: retry will be provided in httpx v1 [1] with usage [2]\u001b[39;00m\n\u001b[1;32m    367\u001b[0m \u001b[38;5;66;03m# 1. https://github.com/encode/httpcore/pull/221\u001b[39;00m\n\u001b[1;32m    368\u001b[0m \u001b[38;5;66;03m# 2. https://github.com/encode/httpx/blob/\u001b[39;00m\n\u001b[1;32m    369\u001b[0m \u001b[38;5;66;03m# 89fb0cbc69ea07b123dd7b36dc1ed9151c5d398f/docs/async.md#explicit-transport-instances # noqa\u001b[39;00m\n\u001b[1;32m    370\u001b[0m \u001b[38;5;66;03m# TODO: if throttling is necessary, check out [1] once v1\u001b[39;00m\n\u001b[1;32m    371\u001b[0m \u001b[38;5;66;03m# 1. https://github.com/encode/httpx/issues/984\u001b[39;00m\n\u001b[0;32m--> 372\u001b[0m \u001b[38;5;28;01mreturn\u001b[39;00m \u001b[38;5;28;01mawait\u001b[39;00m \u001b[38;5;28mself\u001b[39m\u001b[38;5;241m.\u001b[39m_retry(\u001b[38;5;28mself\u001b[39m\u001b[38;5;241m.\u001b[39m_request, request, stream\u001b[38;5;241m=\u001b[39mstream)\n",
      "File \u001b[0;32m~/Documents/Code/notebooks/notebooks_env/lib/python3.8/site-packages/planet/http.py:324\u001b[0m, in \u001b[0;36mSession._retry\u001b[0;34m(self, func, *a, **kw)\u001b[0m\n\u001b[1;32m    322\u001b[0m                 \u001b[38;5;28;01mawait\u001b[39;00m asyncio\u001b[38;5;241m.\u001b[39msleep(wait_time)\n\u001b[1;32m    323\u001b[0m         \u001b[38;5;28;01melse\u001b[39;00m:\n\u001b[0;32m--> 324\u001b[0m             \u001b[38;5;28;01mraise\u001b[39;00m e\n\u001b[1;32m    326\u001b[0m \u001b[38;5;28mself\u001b[39m\u001b[38;5;241m.\u001b[39moutcomes\u001b[38;5;241m.\u001b[39mupdate([\u001b[38;5;124m'\u001b[39m\u001b[38;5;124mSuccessful\u001b[39m\u001b[38;5;124m'\u001b[39m])\n\u001b[1;32m    327\u001b[0m \u001b[38;5;28;01mreturn\u001b[39;00m resp\n",
      "File \u001b[0;32m~/Documents/Code/notebooks/notebooks_env/lib/python3.8/site-packages/planet/http.py:309\u001b[0m, in \u001b[0;36mSession._retry\u001b[0;34m(self, func, *a, **kw)\u001b[0m\n\u001b[1;32m    307\u001b[0m num_tries \u001b[38;5;241m+\u001b[39m\u001b[38;5;241m=\u001b[39m \u001b[38;5;241m1\u001b[39m\n\u001b[1;32m    308\u001b[0m \u001b[38;5;28;01mtry\u001b[39;00m:\n\u001b[0;32m--> 309\u001b[0m     resp \u001b[38;5;241m=\u001b[39m \u001b[38;5;28;01mawait\u001b[39;00m func(\u001b[38;5;241m*\u001b[39ma, \u001b[38;5;241m*\u001b[39m\u001b[38;5;241m*\u001b[39mkw)\n\u001b[1;32m    310\u001b[0m     \u001b[38;5;28;01mbreak\u001b[39;00m\n\u001b[1;32m    311\u001b[0m \u001b[38;5;28;01mexcept\u001b[39;00m \u001b[38;5;167;01mException\u001b[39;00m \u001b[38;5;28;01mas\u001b[39;00m e:\n",
      "File \u001b[0;32m~/Documents/Code/notebooks/notebooks_env/lib/python3.8/site-packages/planet/http.py:377\u001b[0m, in \u001b[0;36mSession._request\u001b[0;34m(self, request, stream)\u001b[0m\n\u001b[1;32m    375\u001b[0m \u001b[38;5;124;03m\"\"\"Submit a request with rate/worker limiting.\"\"\"\u001b[39;00m\n\u001b[1;32m    376\u001b[0m \u001b[38;5;28;01masync\u001b[39;00m \u001b[38;5;28;01mwith\u001b[39;00m \u001b[38;5;28mself\u001b[39m\u001b[38;5;241m.\u001b[39m_limiter:\n\u001b[0;32m--> 377\u001b[0m     http_resp \u001b[38;5;241m=\u001b[39m \u001b[38;5;28;01mawait\u001b[39;00m \u001b[38;5;28mself\u001b[39m\u001b[38;5;241m.\u001b[39m_client\u001b[38;5;241m.\u001b[39msend(request\u001b[38;5;241m.\u001b[39mhttp_request,\n\u001b[1;32m    378\u001b[0m                                         stream\u001b[38;5;241m=\u001b[39mstream)\n\u001b[1;32m    379\u001b[0m \u001b[38;5;28;01mreturn\u001b[39;00m models\u001b[38;5;241m.\u001b[39mResponse(request, http_resp)\n",
      "File \u001b[0;32m~/Documents/Code/notebooks/notebooks_env/lib/python3.8/site-packages/httpx/_client.py:1614\u001b[0m, in \u001b[0;36mAsyncClient.send\u001b[0;34m(self, request, stream, auth, follow_redirects)\u001b[0m\n\u001b[1;32m   1606\u001b[0m follow_redirects \u001b[38;5;241m=\u001b[39m (\n\u001b[1;32m   1607\u001b[0m     \u001b[38;5;28mself\u001b[39m\u001b[38;5;241m.\u001b[39mfollow_redirects\n\u001b[1;32m   1608\u001b[0m     \u001b[38;5;28;01mif\u001b[39;00m \u001b[38;5;28misinstance\u001b[39m(follow_redirects, UseClientDefault)\n\u001b[1;32m   1609\u001b[0m     \u001b[38;5;28;01melse\u001b[39;00m follow_redirects\n\u001b[1;32m   1610\u001b[0m )\n\u001b[1;32m   1612\u001b[0m auth \u001b[38;5;241m=\u001b[39m \u001b[38;5;28mself\u001b[39m\u001b[38;5;241m.\u001b[39m_build_request_auth(request, auth)\n\u001b[0;32m-> 1614\u001b[0m response \u001b[38;5;241m=\u001b[39m \u001b[38;5;28;01mawait\u001b[39;00m \u001b[38;5;28mself\u001b[39m\u001b[38;5;241m.\u001b[39m_send_handling_auth(\n\u001b[1;32m   1615\u001b[0m     request,\n\u001b[1;32m   1616\u001b[0m     auth\u001b[38;5;241m=\u001b[39mauth,\n\u001b[1;32m   1617\u001b[0m     follow_redirects\u001b[38;5;241m=\u001b[39mfollow_redirects,\n\u001b[1;32m   1618\u001b[0m     history\u001b[38;5;241m=\u001b[39m[],\n\u001b[1;32m   1619\u001b[0m )\n\u001b[1;32m   1620\u001b[0m \u001b[38;5;28;01mtry\u001b[39;00m:\n\u001b[1;32m   1621\u001b[0m     \u001b[38;5;28;01mif\u001b[39;00m \u001b[38;5;129;01mnot\u001b[39;00m stream:\n",
      "File \u001b[0;32m~/Documents/Code/notebooks/notebooks_env/lib/python3.8/site-packages/httpx/_client.py:1642\u001b[0m, in \u001b[0;36mAsyncClient._send_handling_auth\u001b[0;34m(self, request, auth, follow_redirects, history)\u001b[0m\n\u001b[1;32m   1639\u001b[0m request \u001b[38;5;241m=\u001b[39m \u001b[38;5;28;01mawait\u001b[39;00m auth_flow\u001b[38;5;241m.\u001b[39m\u001b[38;5;21m__anext__\u001b[39m()\n\u001b[1;32m   1641\u001b[0m \u001b[38;5;28;01mwhile\u001b[39;00m \u001b[38;5;28;01mTrue\u001b[39;00m:\n\u001b[0;32m-> 1642\u001b[0m     response \u001b[38;5;241m=\u001b[39m \u001b[38;5;28;01mawait\u001b[39;00m \u001b[38;5;28mself\u001b[39m\u001b[38;5;241m.\u001b[39m_send_handling_redirects(\n\u001b[1;32m   1643\u001b[0m         request,\n\u001b[1;32m   1644\u001b[0m         follow_redirects\u001b[38;5;241m=\u001b[39mfollow_redirects,\n\u001b[1;32m   1645\u001b[0m         history\u001b[38;5;241m=\u001b[39mhistory,\n\u001b[1;32m   1646\u001b[0m     )\n\u001b[1;32m   1647\u001b[0m     \u001b[38;5;28;01mtry\u001b[39;00m:\n\u001b[1;32m   1648\u001b[0m         \u001b[38;5;28;01mtry\u001b[39;00m:\n",
      "File \u001b[0;32m~/Documents/Code/notebooks/notebooks_env/lib/python3.8/site-packages/httpx/_client.py:1700\u001b[0m, in \u001b[0;36mAsyncClient._send_handling_redirects\u001b[0;34m(self, request, follow_redirects, history)\u001b[0m\n\u001b[1;32m   1698\u001b[0m \u001b[38;5;28;01mexcept\u001b[39;00m \u001b[38;5;167;01mBaseException\u001b[39;00m \u001b[38;5;28;01mas\u001b[39;00m exc:\n\u001b[1;32m   1699\u001b[0m     \u001b[38;5;28;01mawait\u001b[39;00m response\u001b[38;5;241m.\u001b[39maclose()\n\u001b[0;32m-> 1700\u001b[0m     \u001b[38;5;28;01mraise\u001b[39;00m exc\n",
      "File \u001b[0;32m~/Documents/Code/notebooks/notebooks_env/lib/python3.8/site-packages/httpx/_client.py:1682\u001b[0m, in \u001b[0;36mAsyncClient._send_handling_redirects\u001b[0;34m(self, request, follow_redirects, history)\u001b[0m\n\u001b[1;32m   1680\u001b[0m \u001b[38;5;28;01mtry\u001b[39;00m:\n\u001b[1;32m   1681\u001b[0m     \u001b[38;5;28;01mfor\u001b[39;00m hook \u001b[38;5;129;01min\u001b[39;00m \u001b[38;5;28mself\u001b[39m\u001b[38;5;241m.\u001b[39m_event_hooks[\u001b[38;5;124m\"\u001b[39m\u001b[38;5;124mresponse\u001b[39m\u001b[38;5;124m\"\u001b[39m]:\n\u001b[0;32m-> 1682\u001b[0m         \u001b[38;5;28;01mawait\u001b[39;00m hook(response)\n\u001b[1;32m   1684\u001b[0m     response\u001b[38;5;241m.\u001b[39mhistory \u001b[38;5;241m=\u001b[39m \u001b[38;5;28mlist\u001b[39m(history)\n\u001b[1;32m   1686\u001b[0m     \u001b[38;5;28;01mif\u001b[39;00m \u001b[38;5;129;01mnot\u001b[39;00m response\u001b[38;5;241m.\u001b[39mhas_redirect_location:\n",
      "File \u001b[0;32m~/Documents/Code/notebooks/notebooks_env/lib/python3.8/site-packages/planet/http.py:276\u001b[0m, in \u001b[0;36mSession._raise_for_status\u001b[0;34m(cls, response)\u001b[0m\n\u001b[1;32m    274\u001b[0m     \u001b[38;5;28;01mexcept\u001b[39;00m httpx\u001b[38;5;241m.\u001b[39mHTTPStatusError \u001b[38;5;28;01mas\u001b[39;00m e:\n\u001b[1;32m    275\u001b[0m         \u001b[38;5;28;01mawait\u001b[39;00m e\u001b[38;5;241m.\u001b[39mresponse\u001b[38;5;241m.\u001b[39maread()\n\u001b[0;32m--> 276\u001b[0m         \u001b[38;5;28;43mcls\u001b[39;49m\u001b[38;5;241;43m.\u001b[39;49m\u001b[43m_convert_and_raise\u001b[49m\u001b[43m(\u001b[49m\u001b[43me\u001b[49m\u001b[43m)\u001b[49m\n\u001b[1;32m    278\u001b[0m \u001b[38;5;28;01mreturn\u001b[39;00m\n",
      "File \u001b[0;32m~/Documents/Code/notebooks/notebooks_env/lib/python3.8/site-packages/planet/http.py:92\u001b[0m, in \u001b[0;36mBaseSession._convert_and_raise\u001b[0;34m(cls, error)\u001b[0m\n\u001b[1;32m     81\u001b[0m error_types \u001b[38;5;241m=\u001b[39m {\n\u001b[1;32m     82\u001b[0m     HTTPStatus\u001b[38;5;241m.\u001b[39mBAD_REQUEST: exceptions\u001b[38;5;241m.\u001b[39mBadQuery,\n\u001b[1;32m     83\u001b[0m     HTTPStatus\u001b[38;5;241m.\u001b[39mUNAUTHORIZED: exceptions\u001b[38;5;241m.\u001b[39mInvalidAPIKey,\n\u001b[0;32m   (...)\u001b[0m\n\u001b[1;32m     89\u001b[0m     HTTPStatus\u001b[38;5;241m.\u001b[39mBAD_GATEWAY: exceptions\u001b[38;5;241m.\u001b[39mBadGateway\n\u001b[1;32m     90\u001b[0m }\n\u001b[1;32m     91\u001b[0m error_type \u001b[38;5;241m=\u001b[39m error_types\u001b[38;5;241m.\u001b[39mget(response\u001b[38;5;241m.\u001b[39mstatus_code, exceptions\u001b[38;5;241m.\u001b[39mAPIError)\n\u001b[0;32m---> 92\u001b[0m \u001b[38;5;28;01mraise\u001b[39;00m error_type(response\u001b[38;5;241m.\u001b[39mtext)\n",
      "\u001b[0;31mBadQuery\u001b[0m: {\"error\":{\"reason\":\"Problem with request\",\"details\":[\"Block 'delivery': You must have write/delete access to bucket: dxd_project_2022 - Problem decoding credentials: illegal base64 data at input byte 7\"]}}"
     ]
    }
   ],
   "source": [
    "async with Session(auth=auth) as sess:\n",
    "    cl = SubscriptionsClient(sess)\n",
    "    subscription_desc = await cl.create_subscription(sub_desc)"
   ]
  },
  {
   "cell_type": "code",
   "execution_count": 21,
   "id": "cae1ca79",
   "metadata": {},
   "outputs": [
    {
     "data": {
      "text/plain": [
       "<coroutine object SubscriptionsClient.create_subscription at 0x7fa248a29940>"
      ]
     },
     "execution_count": 21,
     "metadata": {},
     "output_type": "execute_result"
    }
   ],
   "source": [
    "subscription_desc"
   ]
  },
  {
   "cell_type": "markdown",
   "id": "b50b64d3",
   "metadata": {},
   "source": [
    "## Get a Subscription"
   ]
  },
  {
   "cell_type": "code",
   "execution_count": null,
   "id": "1fab7e9d",
   "metadata": {},
   "outputs": [],
   "source": [
    "# need a subscription id"
   ]
  }
 ],
 "metadata": {
  "kernelspec": {
   "display_name": "Python 3 (ipykernel)",
   "language": "python",
   "name": "python3"
  },
  "language_info": {
   "codemirror_mode": {
    "name": "ipython",
    "version": 3
   },
   "file_extension": ".py",
   "mimetype": "text/x-python",
   "name": "python",
   "nbconvert_exporter": "python",
   "pygments_lexer": "ipython3",
   "version": "3.8.13"
  }
 },
 "nbformat": 4,
 "nbformat_minor": 5
}
