{
  "cells": [
    {
      "cell_type": "markdown",
      "metadata": {
        "id": "uR7aUo2JRwgD"
      },
      "source": [
        "# Creating a Heatmap of Vector Results"
      ]
    },
    {
      "cell_type": "markdown",
      "metadata": {
        "id": "ut6H39xiRwgG"
      },
      "source": [
        "In this notebook, you'll learn how to use Planet's [Analytics API](https://developers.planet.com/docs/analytics/) to display a heatmap of vector analytic results, specifically buildng change detections. This can be used to identify where the most change is happining.\n",
        "\n"
      ]
    },
    {
      "cell_type": "markdown",
      "metadata": {
        "id": "TKJZSb-cRwgH"
      },
      "source": [
        "Open this notebook in Colab below:"
      ]
    },
    {
      "cell_type": "markdown",
      "metadata": {
        "id": "i-Oc6PcqRwgI"
      },
      "source": [
        "<a target=\"_blank\" href=\"https://colab.research.google.com/github/planetlabs/notebooks/blob/master/jupyter-notebooks/analytics/change_detection_heatmap.ipynb\">\n",
        "  <img src=\"https://colab.research.google.com/assets/colab-badge.svg\" alt=\"Open In Colab\"/>\n",
        "</a>"
      ]
    },
    {
      "cell_type": "markdown",
      "metadata": {
        "id": "Cs-ZtkJwRwgI"
      },
      "source": [
        "## Setup\n",
        "\n",
        "\n",
        "### Install additional dependencies\n",
        "\n",
        "Install `cartopy` v0.18 beta, so that we can render OSM tiles under the heatmap:"
      ]
    },
    {
      "cell_type": "code",
      "execution_count": 1,
      "metadata": {
        "scrolled": true,
        "id": "SOw2e9q1RwgJ",
        "outputId": "7b1eaaae-92a5-4909-ea4c-42702c9b0f10",
        "colab": {
          "base_uri": "https://localhost:8080/"
        }
      },
      "outputs": [
        {
          "output_type": "stream",
          "name": "stdout",
          "text": [
            "Requirement already satisfied: cython in /usr/local/lib/python3.12/dist-packages (3.0.12)\n",
            "Collecting https://github.com/SciTools/cartopy/archive/v0.18.0.zip\n",
            "  Downloading https://github.com/SciTools/cartopy/archive/v0.18.0.zip\n",
            "\u001b[2K     \u001b[32m|\u001b[0m \u001b[32m14.3 MB\u001b[0m \u001b[31m21.3 MB/s\u001b[0m \u001b[33m0:00:00\u001b[0m\n",
            "\u001b[?25h  \u001b[1;31merror\u001b[0m: \u001b[1msubprocess-exited-with-error\u001b[0m\n",
            "  \n",
            "  \u001b[31m×\u001b[0m \u001b[32mpython setup.py egg_info\u001b[0m did not run successfully.\n",
            "  \u001b[31m│\u001b[0m exit code: \u001b[1;36m1\u001b[0m\n",
            "  \u001b[31m╰─>\u001b[0m See above for output.\n",
            "  \n",
            "  \u001b[1;35mnote\u001b[0m: This error originates from a subprocess, and is likely not a problem with pip.\n",
            "  Preparing metadata (setup.py) ... \u001b[?25l\u001b[?25herror\n",
            "\u001b[1;31merror\u001b[0m: \u001b[1mmetadata-generation-failed\u001b[0m\n",
            "\n",
            "\u001b[31m×\u001b[0m Encountered error while generating package metadata.\n",
            "\u001b[31m╰─>\u001b[0m See above for output.\n",
            "\n",
            "\u001b[1;35mnote\u001b[0m: This is an issue with the package mentioned above, not pip.\n",
            "\u001b[1;36mhint\u001b[0m: See above for details.\n"
          ]
        }
      ],
      "source": [
        "!pip install cython\n",
        "!pip install https://github.com/SciTools/cartopy/archive/v0.18.0.zip"
      ]
    },
    {
      "cell_type": "markdown",
      "metadata": {
        "id": "Hkcyvxd8RwgM"
      },
      "source": [
        "### Import Packages"
      ]
    },
    {
      "cell_type": "code",
      "execution_count": 4,
      "metadata": {
        "id": "akkaK7D5RwgN"
      },
      "outputs": [],
      "source": [
        "import os\n",
        "import requests\n",
        "import statistics\n",
        "import pyproj\n",
        "import matplotlib.pylab as pl\n",
        "import numpy as np\n",
        "\n",
        "from matplotlib.colors import ListedColormap\n",
        "import matplotlib.pyplot as plt\n",
        "import pandas as pd\n",
        "import cartopy.io.img_tiles as cimgt\n",
        "import cartopy.crs as ccrs\n",
        "import shapely"
      ]
    },
    {
      "cell_type": "code",
      "source": [
        "!pip install cartopy\n",
        "import cartopy"
      ],
      "metadata": {
        "id": "zuuwW0aLSGgl",
        "outputId": "6cf815cb-24e6-46e2-ecc4-c2f2951c4efc",
        "colab": {
          "base_uri": "https://localhost:8080/"
        }
      },
      "execution_count": 3,
      "outputs": [
        {
          "output_type": "stream",
          "name": "stdout",
          "text": [
            "Collecting cartopy\n",
            "  Downloading cartopy-0.25.0-cp312-cp312-manylinux_2_24_x86_64.manylinux_2_28_x86_64.whl.metadata (6.1 kB)\n",
            "Requirement already satisfied: numpy>=1.23 in /usr/local/lib/python3.12/dist-packages (from cartopy) (2.0.2)\n",
            "Requirement already satisfied: matplotlib>=3.6 in /usr/local/lib/python3.12/dist-packages (from cartopy) (3.10.0)\n",
            "Requirement already satisfied: shapely>=2.0 in /usr/local/lib/python3.12/dist-packages (from cartopy) (2.1.1)\n",
            "Requirement already satisfied: packaging>=21 in /usr/local/lib/python3.12/dist-packages (from cartopy) (25.0)\n",
            "Requirement already satisfied: pyshp>=2.3 in /usr/local/lib/python3.12/dist-packages (from cartopy) (2.3.1)\n",
            "Requirement already satisfied: pyproj>=3.3.1 in /usr/local/lib/python3.12/dist-packages (from cartopy) (3.7.2)\n",
            "Requirement already satisfied: contourpy>=1.0.1 in /usr/local/lib/python3.12/dist-packages (from matplotlib>=3.6->cartopy) (1.3.3)\n",
            "Requirement already satisfied: cycler>=0.10 in /usr/local/lib/python3.12/dist-packages (from matplotlib>=3.6->cartopy) (0.12.1)\n",
            "Requirement already satisfied: fonttools>=4.22.0 in /usr/local/lib/python3.12/dist-packages (from matplotlib>=3.6->cartopy) (4.59.2)\n",
            "Requirement already satisfied: kiwisolver>=1.3.1 in /usr/local/lib/python3.12/dist-packages (from matplotlib>=3.6->cartopy) (1.4.9)\n",
            "Requirement already satisfied: pillow>=8 in /usr/local/lib/python3.12/dist-packages (from matplotlib>=3.6->cartopy) (11.3.0)\n",
            "Requirement already satisfied: pyparsing>=2.3.1 in /usr/local/lib/python3.12/dist-packages (from matplotlib>=3.6->cartopy) (3.2.3)\n",
            "Requirement already satisfied: python-dateutil>=2.7 in /usr/local/lib/python3.12/dist-packages (from matplotlib>=3.6->cartopy) (2.9.0.post0)\n",
            "Requirement already satisfied: certifi in /usr/local/lib/python3.12/dist-packages (from pyproj>=3.3.1->cartopy) (2025.8.3)\n",
            "Requirement already satisfied: six>=1.5 in /usr/local/lib/python3.12/dist-packages (from python-dateutil>=2.7->matplotlib>=3.6->cartopy) (1.17.0)\n",
            "Downloading cartopy-0.25.0-cp312-cp312-manylinux_2_24_x86_64.manylinux_2_28_x86_64.whl (11.8 MB)\n",
            "\u001b[2K   \u001b[90m━━━━━━━━━━━━━━━━━━━━━━━━━━━━━━━━━━━━━━━━\u001b[0m \u001b[32m11.8/11.8 MB\u001b[0m \u001b[31m81.7 MB/s\u001b[0m eta \u001b[36m0:00:00\u001b[0m\n",
            "\u001b[?25hInstalling collected packages: cartopy\n",
            "Successfully installed cartopy-0.25.0\n"
          ]
        }
      ]
    },
    {
      "cell_type": "markdown",
      "metadata": {
        "id": "wlIrg8v3RwgN"
      },
      "source": [
        "### API configuration\n",
        "\n",
        "Before getting items from the API, you must set your `API_KEY` and the `SUBSCRIPTION_ID` of the analytic feed change detection subscription to use.\n",
        "If you want to limit the heatmap to a specific time range, also set `TIMES` to a [valid time range](https://developers.planet.com/docs/analytics/reference/#tag/Results%2Fpaths%2F~1collections~1%7BsubscriptionID%7D~1items~1%2Fget)."
      ]
    },
    {
      "cell_type": "code",
      "execution_count": 5,
      "metadata": {
        "id": "3Ui7Yd4CRwgO"
      },
      "outputs": [],
      "source": [
        "if os.environ.get('PL_API_KEY', ''):\n",
        "    API_KEY = os.environ.get('PL_API_KEY', '')\n",
        "else:\n",
        "    API_KEY = 'YOUR_API_KEY_HERE'\n",
        "\n",
        "# We'll use a subscriptions ID looking at monthly building construction in Melbourne, Australia\n",
        "SUBSCRIPTION_ID = \"dd2878b3-eaf0-4cff-b7f9-7a39d6f460a5\"\n",
        "TIMES = None\n",
        "\n",
        "planet = requests.session()\n",
        "planet.auth = (API_KEY, '')"
      ]
    },
    {
      "cell_type": "markdown",
      "metadata": {
        "id": "fX_1mBWYRwgP"
      },
      "source": [
        "## Fetch Items\n",
        "\n",
        "Next, we fetch the items from the API in batches of 500 items, and return only the relevant data - the centroid and the calculated area. This might take a few minutes to run, as some change detection feeds have thousands of items."
      ]
    },
    {
      "cell_type": "code",
      "execution_count": 6,
      "metadata": {
        "id": "dio6O2ohRwgQ",
        "outputId": "ab876e64-1751-4979-9a14-76f879aaa026",
        "colab": {
          "base_uri": "https://localhost:8080/",
          "height": 228
        }
      },
      "outputs": [
        {
          "output_type": "stream",
          "name": "stdout",
          "text": [
            "Fetching items from https://api.planet.com/analytics/collections/dd2878b3-eaf0-4cff-b7f9-7a39d6f460a5/items?limit=500\n"
          ]
        },
        {
          "output_type": "error",
          "ename": "TypeError",
          "evalue": "object of type 'NoneType' has no len()",
          "traceback": [
            "\u001b[0;31m---------------------------------------------------------------------------\u001b[0m",
            "\u001b[0;31mTypeError\u001b[0m                                 Traceback (most recent call last)",
            "\u001b[0;32m/tmp/ipython-input-3446284293.py\u001b[0m in \u001b[0;36m<cell line: 0>\u001b[0;34m()\u001b[0m\n\u001b[1;32m     48\u001b[0m \u001b[0;34m\u001b[0m\u001b[0m\n\u001b[1;32m     49\u001b[0m \u001b[0mitems\u001b[0m \u001b[0;34m=\u001b[0m \u001b[0mget_items_from_feed\u001b[0m\u001b[0;34m(\u001b[0m\u001b[0;34m)\u001b[0m\u001b[0;34m\u001b[0m\u001b[0;34m\u001b[0m\u001b[0m\n\u001b[0;32m---> 50\u001b[0;31m \u001b[0mprint\u001b[0m\u001b[0;34m(\u001b[0m\u001b[0;34m\"Fetched \"\u001b[0m \u001b[0;34m+\u001b[0m \u001b[0mstr\u001b[0m\u001b[0;34m(\u001b[0m\u001b[0mlen\u001b[0m\u001b[0;34m(\u001b[0m\u001b[0mitems\u001b[0m\u001b[0;34m)\u001b[0m\u001b[0;34m)\u001b[0m \u001b[0;34m+\u001b[0m \u001b[0;34m\" items\"\u001b[0m\u001b[0;34m)\u001b[0m\u001b[0;34m\u001b[0m\u001b[0;34m\u001b[0m\u001b[0m\n\u001b[0m\u001b[1;32m     51\u001b[0m \u001b[0;31m# Get the bounding box coordinates of this AOI.\u001b[0m\u001b[0;34m\u001b[0m\u001b[0;34m\u001b[0m\u001b[0m\n\u001b[1;32m     52\u001b[0m \u001b[0murl\u001b[0m \u001b[0;34m=\u001b[0m \u001b[0;34m'https://api.planet.com/analytics/subscriptions/{}'\u001b[0m\u001b[0;34m.\u001b[0m\u001b[0mformat\u001b[0m\u001b[0;34m(\u001b[0m\u001b[0mSUBSCRIPTION_ID\u001b[0m\u001b[0;34m)\u001b[0m\u001b[0;34m\u001b[0m\u001b[0;34m\u001b[0m\u001b[0m\n",
            "\u001b[0;31mTypeError\u001b[0m: object of type 'NoneType' has no len()"
          ]
        }
      ],
      "source": [
        "def get_next_url(result):\n",
        "    \"\"\"\n",
        "    Retrieves the URL of the next page from the result object,\n",
        "    ensuring pagination is taken into account.\n",
        "\n",
        "    Args:\n",
        "        result (dict): The result object containing the links.\n",
        "\n",
        "    Returns:\n",
        "        str: The URL of the next page if it exists, None otherwise.\n",
        "    \"\"\"\n",
        "    if 'links' in result:\n",
        "        for link in result['links']:\n",
        "            if link['rel'] == 'next':\n",
        "                return link['href']\n",
        "\n",
        "def get_items_from_feed():\n",
        "    \"\"\"\n",
        "    Fetches items from a feed URL and extracts relevant information.\n",
        "\n",
        "    Returns:\n",
        "        list: A list of dictionaries representing the extracted items.\n",
        "    \"\"\"\n",
        "    url = 'https://api.planet.com/analytics/collections/{}/items?limit={}'.format(\n",
        "        SUBSCRIPTION_ID, 500)\n",
        "    if TIMES:\n",
        "        url += '&datetime={}'.format(TIMES)\n",
        "\n",
        "    print(\"Fetching items from \" + url)\n",
        "\n",
        "    result = planet.get(url).json()\n",
        "\n",
        "    items = []\n",
        "    while len(result.get('features', [])) > 0:\n",
        "        for f in result['features']:\n",
        "            coords = f['geometry']['coordinates'][0]\n",
        "            items.append({\n",
        "                'lon': statistics.mean([c[0] for c in coords]),\n",
        "                'lat': statistics.mean([c[1] for c in coords]),\n",
        "                'area': shapely.geometry.shape(f['geometry']).area\n",
        "            })\n",
        "        url = get_next_url(result)\n",
        "        if not url:\n",
        "            return items\n",
        "        print(\"Fetching items from \" + url)\n",
        "        result = planet.get(url).json()\n",
        "\n",
        "\n",
        "items = get_items_from_feed()\n",
        "print(\"Fetched \" + str(len(items)) + \" items\")\n",
        "# Get the bounding box coordinates of this AOI.\n",
        "url = 'https://api.planet.com/analytics/subscriptions/{}'.format(SUBSCRIPTION_ID)\n",
        "result = planet.get(url).json()\n",
        "geometry = result['geometry']"
      ]
    },
    {
      "cell_type": "markdown",
      "metadata": {
        "id": "1cfGW08nRwgR"
      },
      "source": [
        "## Displaying the Heatmap\n",
        "\n",
        "Once you've fetched all the items, you are nearly ready to display them as a heatmap.\n",
        "\n",
        "### Coordinate Systems\n",
        "\n",
        "The items fetched from the API are in WGS84 (lat/lon) coordinates. However, it can be useful to display the data in  an equal area projection like EPSG:3857 so that the heatmap shows change per square meter.\n",
        "\n",
        "To do this, we use [pyproj](https://pyproj4.github.io/pyproj/stable/index.html) to transfrom the item coordinates between projections."
      ]
    },
    {
      "cell_type": "code",
      "execution_count": 7,
      "metadata": {
        "id": "ka1ff8ToRwgR"
      },
      "outputs": [],
      "source": [
        "SRC_PROJ = 'EPSG:4326'\n",
        "DEST_PROJ = 'EPSG:3857'\n",
        "PROJ_UNITS = 'm'\n",
        "\n",
        "transformer = pyproj.Transformer.from_crs(SRC_PROJ, DEST_PROJ, always_xy=True)"
      ]
    },
    {
      "cell_type": "markdown",
      "metadata": {
        "id": "v_ooliYURwgS"
      },
      "source": [
        "### Colormap\n",
        "\n",
        "Matplotlib provides a number of colormaps that are useful to render heatmaps. However, all of these are solid color - in order to see an underlying map, we need to add an alpha chanel.\n",
        "\n",
        "For this example, we will use the \"plasma\" colormap, and add a transparent gradient to the first half of the map, so that it starts out completely transparent, and gradually becomes opaque, such that all values above the midpoint have no transparency."
      ]
    },
    {
      "cell_type": "code",
      "execution_count": 8,
      "metadata": {
        "id": "OeCJOFzzRwgS"
      },
      "outputs": [],
      "source": [
        "src_colormap = pl.cm.plasma\n",
        "alpha_vals = src_colormap(np.arange(src_colormap.N))\n",
        "alpha_vals[:int(src_colormap.N/2),-1] = np.linspace(0, 1, int(src_colormap.N/2))\n",
        "alpha_vals[int(src_colormap.N/2):src_colormap.N,-1] = 1\n",
        "alpha_colormap = ListedColormap(alpha_vals)"
      ]
    },
    {
      "cell_type": "markdown",
      "metadata": {
        "id": "K5qNn6_eRwgS"
      },
      "source": [
        "### Heatmap configuration\n",
        "\n",
        "**Note**: These final four sections are presented together in one code block, to make it easier to re-run with different configurations of bounds or intervals.\n",
        "\n",
        "Set `BOUNDS` to the area of interest to display `(min lon,max lon,min lat,max lat)`. The default bounds are centered on Sydney, Australia - you should change this to match the AOI of your change detection subscription feed.\n",
        "\n",
        "Set `INTERVALS` to the number of bins along the x-axis. Items are categorized into equal-size square bins based on this number of intervals and the aspect ratio of your bounds. For a square AOI, the default value of `INTERVALS = 36` would give 36 * 36 = 1296 bins; an AOI with the same width that is half as tall would give 36 * 18 = 648 bins.\n",
        "The area (in square meters) of each bin is displayed in the legend to the right of the plot.\n",
        "\n",
        "### Categorization\n",
        "\n",
        "This configuration is used to categorize the items into bins for display as a heatmap.\n",
        "\n",
        "1. The bounds and intervals are used to generate an array of midpoints representing the bins.\n",
        "2. Categorize the items retrieved from the API into these  bins based on which midpoint they are closest to.\n",
        "3. Aggregate up the areas of all the items in each bin.\n",
        "4. Convert the resulting data into an xy grid of areas and fill in missing cells with zeros.\n",
        "\n",
        "### OSM Basemap\n",
        "\n",
        "So that we can see where our heatmap values actually are, we will [use cartopy to display OSM tiles](../webtiles/osm_basemap.ipynb) underneath the heatmap. Note that this requires an internet connection.\n",
        "\n",
        "For an offline alternative, you could plot a [vector basemap](../vector/shapefile.ipynb) or imshow to display a local raster image.\n",
        "\n",
        "### Display Heatmap\n",
        "\n",
        "The final step is to display the grid data as a heatmap, using [imshow](https://matplotlib.org/stable/api/_as_gen/matplotlib.pyplot.imshow.html). You can use the parameters here to change how the heatmap is rendered. For example, chose a different `cmap` to change the color, or add the `interpolation='bicubic'` parameter to display smooth output instead of individual pixels.\n",
        "\n",
        "To make it clear where the heatmap is being displayed, use [Natural Earth](https://www.naturalearthdata.com/) 1:110m datasets to render a map alongside the heatmap data."
      ]
    },
    {
      "cell_type": "code",
      "execution_count": 9,
      "metadata": {
        "id": "iUZVEXAoRwgT",
        "outputId": "3f151565-773f-499a-ccea-7aa46138a193",
        "colab": {
          "base_uri": "https://localhost:8080/",
          "height": 211
        }
      },
      "outputs": [
        {
          "output_type": "error",
          "ename": "NameError",
          "evalue": "name 'geometry' is not defined",
          "traceback": [
            "\u001b[0;31m---------------------------------------------------------------------------\u001b[0m",
            "\u001b[0;31mNameError\u001b[0m                                 Traceback (most recent call last)",
            "\u001b[0;32m/tmp/ipython-input-2320207485.py\u001b[0m in \u001b[0;36m<cell line: 0>\u001b[0;34m()\u001b[0m\n\u001b[1;32m      2\u001b[0m \u001b[0;34m\u001b[0m\u001b[0m\n\u001b[1;32m      3\u001b[0m \u001b[0;31m# Heatmap Configuration\u001b[0m\u001b[0;34m\u001b[0m\u001b[0;34m\u001b[0m\u001b[0m\n\u001b[0;32m----> 4\u001b[0;31m \u001b[0mRAW_BOUNDS\u001b[0m \u001b[0;34m=\u001b[0m \u001b[0mshapely\u001b[0m\u001b[0;34m.\u001b[0m\u001b[0mgeometry\u001b[0m\u001b[0;34m.\u001b[0m\u001b[0mshape\u001b[0m\u001b[0;34m(\u001b[0m\u001b[0mgeometry\u001b[0m\u001b[0;34m)\u001b[0m\u001b[0;34m.\u001b[0m\u001b[0mbounds\u001b[0m\u001b[0;34m\u001b[0m\u001b[0;34m\u001b[0m\u001b[0m\n\u001b[0m\u001b[1;32m      5\u001b[0m \u001b[0mINTERVALS\u001b[0m\u001b[0;34m:\u001b[0m \u001b[0mint\u001b[0m \u001b[0;34m=\u001b[0m \u001b[0;36m36\u001b[0m\u001b[0;34m\u001b[0m\u001b[0;34m\u001b[0m\u001b[0m\n\u001b[1;32m      6\u001b[0m \u001b[0;34m\u001b[0m\u001b[0m\n",
            "\u001b[0;31mNameError\u001b[0m: name 'geometry' is not defined"
          ]
        }
      ],
      "source": [
        "%matplotlib inline\n",
        "\n",
        "# Heatmap Configuration\n",
        "RAW_BOUNDS = shapely.geometry.shape(geometry).bounds\n",
        "INTERVALS: int = 36\n",
        "\n",
        "BOUNDS = [0.] * 4\n",
        "BOUNDS[0],BOUNDS[2] = transformer.transform(RAW_BOUNDS[0],RAW_BOUNDS[1])\n",
        "BOUNDS[1],BOUNDS[3] = transformer.transform(RAW_BOUNDS[2],RAW_BOUNDS[3])\n",
        "print (BOUNDS[0], BOUNDS[1], BOUNDS[2], BOUNDS[3])\n",
        "\n",
        "\n",
        "# Categorization\n",
        "\n",
        "# 1. Generate bins from bounds + intervals\n",
        "aspect_ratio = (BOUNDS[1] - BOUNDS[0]) / (BOUNDS[3] - BOUNDS[2])\n",
        "x_bins = np.linspace(BOUNDS[0], BOUNDS[1], INTERVALS, endpoint=False)\n",
        "y_bins = np.linspace(BOUNDS[2], BOUNDS[3], int(INTERVALS/aspect_ratio), endpoint=False)\n",
        "\n",
        "x_delta2 = (x_bins[1] - x_bins[0])/2\n",
        "y_delta2 = (y_bins[1] - y_bins[0])/2\n",
        "x_bins = x_bins + x_delta2\n",
        "y_bins = y_bins + y_delta2\n",
        "\n",
        "\n",
        "# 2. Categorize items in bins\n",
        "binned = []\n",
        "for f in items:\n",
        "    fx,fy = transformer.transform(f['lon'], f['lat'])\n",
        "    if (BOUNDS[0] < fx < BOUNDS[1]) and (BOUNDS[2] < fy < BOUNDS[3]):\n",
        "        binned.append({\n",
        "            'x': min(x_bins, key=(lambda x: abs(x - fx))),\n",
        "            'y': min(y_bins, key=(lambda y: abs(y - fy))),\n",
        "            'area': f['area']\n",
        "        })\n",
        "\n",
        "# 3. Aggregate binned values\n",
        "hist = pd.DataFrame(binned)\n",
        "hist = hist.groupby(['x', 'y']).sum().reset_index()\n",
        "\n",
        "# 4. Pivot into an xy grid and fill in empty cells with 0.\n",
        "hist = hist.pivot(index = 'y', columns = 'x', values = 'area').fillna(0)\n",
        "hist = hist.reindex(y_bins, axis=0, fill_value=0).reindex(x_bins, axis=1, fill_value=0).fillna(0)\n",
        "\n",
        "# OSM Basemap\n",
        "osm_tiles = cimgt.OSM()\n",
        "carto_proj = ccrs.GOOGLE_MERCATOR\n",
        "\n",
        "fig = plt.figure()\n",
        "ax = fig.add_subplot(1, 1, 1, projection=carto_proj)\n",
        "ax.axis(BOUNDS)\n",
        "\n",
        "tile_image = ax.add_image(osm_tiles, 8)\n",
        "\n",
        "# Display Heatmap\n",
        "heatmap = ax.imshow(hist.values, zorder=1, aspect='equal', origin='lower', extent=BOUNDS, cmap=alpha_colormap, interpolation='bicubic')\n",
        "plt.colorbar(heatmap, ax=ax).set_label(\"Square meters of new buildings per {:.3e} {}²\".format(4 * x_delta2 * y_delta2,PROJ_UNITS))"
      ]
    }
  ],
  "metadata": {
    "kernelspec": {
      "display_name": "Python 3 (ipykernel)",
      "language": "python",
      "name": "python3"
    },
    "language_info": {
      "codemirror_mode": {
        "name": "ipython",
        "version": 3
      },
      "file_extension": ".py",
      "mimetype": "text/x-python",
      "name": "python",
      "nbconvert_exporter": "python",
      "pygments_lexer": "ipython3",
      "version": "3.9.12"
    },
    "colab": {
      "provenance": []
    }
  },
  "nbformat": 4,
  "nbformat_minor": 0
}