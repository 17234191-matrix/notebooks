{
  "cells": [
    {
      "cell_type": "markdown",
      "metadata": {
        "id": "2L-epE_vPdrF"
      },
      "source": [
        "###  Planet Analytics API Tutorial\n",
        "\n",
        "<h1 style=\"margin-top:10px;\">Case Study: Flood and Displacement Mapping in Syria</h1>\n",
        "</div>\n",
        "<div class=\"content-block\">\n",
        "\n",
        "## Overview\n",
        "\n",
        "1. [Setup](#1.-Setup)\n",
        "\n",
        "2. [Case Study](#2.-Case-Study)\n",
        "\n",
        "3. [Mapping our Area of Interest](#3.-Mapping-AOI)\n",
        "\n",
        "4. [Working with Collections](#4.-Working-with-Collections)\n",
        "    \n",
        "5. [Parsing Results](#5.-Parse-Results-Links)\n",
        "    \n",
        "6. [Segmentation Results](#6.-Segmentation-Results)\n",
        "    \n",
        "7. [Quantifying Change](#7.-Quantifying-Change)\n",
        "    \n",
        "8. [Line Charts](#8.-Line-Charts)\n",
        "    \n",
        "</div>"
      ]
    },
    {
      "cell_type": "markdown",
      "metadata": {
        "id": "xjx6bIYnPdrJ"
      },
      "source": [
        "Open this notebook in Colab below:"
      ]
    },
    {
      "cell_type": "markdown",
      "metadata": {
        "id": "wMpcvPNSPdrK"
      },
      "source": [
        "<a target=\"_blank\" href=\"https://colab.research.google.com/github/planetlabs/notebooks/blob/master/jupyter-notebooks/analytics/case_study_syria_idp_camps.ipynb\">\n",
        "  <img src=\"https://colab.research.google.com/assets/colab-badge.svg\" alt=\"Open In Colab\"/>\n",
        "</a>"
      ]
    },
    {
      "cell_type": "markdown",
      "metadata": {
        "id": "ylSMJdkkPdrL"
      },
      "source": [
        "## 1. Setup\n",
        "To run through this notebook, you will need access to the following:\n",
        "- A Planet account and Planet API Key\n",
        "- Access to the Analytics API"
      ]
    },
    {
      "cell_type": "code",
      "execution_count": null,
      "metadata": {
        "id": "CiqWDH5uPdrM"
      },
      "outputs": [],
      "source": [
        "# Import Packages\n",
        "\n",
        "from ipyleaflet import Map, GeoJSON, LocalTileLayer, LayersControl, SplitMapControl, WidgetControl\n",
        "from ipywidgets import SelectionSlider, VBox\n",
        "import matplotlib.pyplot as plt\n",
        "from numpy import mean\n",
        "from numpy import count_nonzero\n",
        "import os\n",
        "import pandas as pd\n",
        "\n",
        "from pprint import pprint\n",
        "import rasterio\n",
        "import requests\n",
        "from rasterio.warp import transform_geom\n",
        "from shapely.geometry import shape\n",
        "from tqdm import tqdm"
      ]
    },
    {
      "cell_type": "code",
      "execution_count": 2,
      "metadata": {
        "id": "h9XMjOX7PdrO"
      },
      "outputs": [],
      "source": [
        "# If your Planet API Key is not set as an environment variable, you can paste it below\n",
        "# Note: please be sure to follow the security guidelines put forth by your\n",
        "# organization when using this API Key in the keychain\n",
        "if os.environ.get('PL_API_KEY', ''):\n",
        "    API_KEY = os.environ.get('PL_API_KEY', '')\n",
        "else:\n",
        "    API_KEY = 'PASTE YOUR API KEY HERE'\n",
        "\n",
        "# Construct auth tuple for use in the requests library\n",
        "BASIC_AUTH = (API_KEY, '')"
      ]
    },
    {
      "cell_type": "markdown",
      "metadata": {
        "id": "HWdefIszPdrP"
      },
      "source": [
        "**Set the base url for the Planet Analytic Feeds product**\n",
        "\n",
        "See the [Analytics API Docs](https://developers.planet.com/docs/analytics/) for more details."
      ]
    },
    {
      "cell_type": "code",
      "execution_count": 3,
      "metadata": {
        "id": "rkgvRXEmPdrQ"
      },
      "outputs": [],
      "source": [
        "BASE_URL = \"https://api.planet.com/analytics/\""
      ]
    },
    {
      "cell_type": "markdown",
      "metadata": {
        "id": "QeKXa2GzPdrR"
      },
      "source": [
        "Check API Connection"
      ]
    },
    {
      "cell_type": "code",
      "execution_count": 4,
      "metadata": {
        "colab": {
          "base_uri": "https://localhost:8080/",
          "height": 211
        },
        "id": "6lGsT9YCPdrR",
        "outputId": "ed22e5a7-0ea7-4e28-fa75-94692f9c899d"
      },
      "outputs": [
        {
          "output_type": "error",
          "ename": "NameError",
          "evalue": "name 'requests' is not defined",
          "traceback": [
            "\u001b[0;31m---------------------------------------------------------------------------\u001b[0m",
            "\u001b[0;31mNameError\u001b[0m                                 Traceback (most recent call last)",
            "\u001b[0;32m/tmp/ipython-input-3540068638.py\u001b[0m in \u001b[0;36m<cell line: 0>\u001b[0;34m()\u001b[0m\n\u001b[1;32m      1\u001b[0m \u001b[0mfeed_list_url\u001b[0m \u001b[0;34m=\u001b[0m \u001b[0mBASE_URL\u001b[0m \u001b[0;34m+\u001b[0m \u001b[0;34m'feeds'\u001b[0m\u001b[0;34m\u001b[0m\u001b[0;34m\u001b[0m\u001b[0m\n\u001b[0;32m----> 2\u001b[0;31m \u001b[0mresp\u001b[0m \u001b[0;34m=\u001b[0m \u001b[0mrequests\u001b[0m\u001b[0;34m.\u001b[0m\u001b[0mget\u001b[0m\u001b[0;34m(\u001b[0m\u001b[0mfeed_list_url\u001b[0m\u001b[0;34m,\u001b[0m \u001b[0mauth\u001b[0m\u001b[0;34m=\u001b[0m\u001b[0mBASIC_AUTH\u001b[0m\u001b[0;34m,\u001b[0m \u001b[0mparams\u001b[0m\u001b[0;34m=\u001b[0m\u001b[0;34m{\u001b[0m\u001b[0;34m'limit'\u001b[0m\u001b[0;34m:\u001b[0m \u001b[0;36m1\u001b[0m\u001b[0;34m}\u001b[0m\u001b[0;34m)\u001b[0m\u001b[0;34m\u001b[0m\u001b[0;34m\u001b[0m\u001b[0m\n\u001b[0m\u001b[1;32m      3\u001b[0m \u001b[0;32mif\u001b[0m \u001b[0mresp\u001b[0m\u001b[0;34m.\u001b[0m\u001b[0mstatus_code\u001b[0m \u001b[0;34m==\u001b[0m \u001b[0;36m200\u001b[0m\u001b[0;34m:\u001b[0m\u001b[0;34m\u001b[0m\u001b[0;34m\u001b[0m\u001b[0m\n\u001b[1;32m      4\u001b[0m     \u001b[0mprint\u001b[0m\u001b[0;34m(\u001b[0m\u001b[0;34m'Yay, you can access the Analytics API'\u001b[0m\u001b[0;34m)\u001b[0m\u001b[0;34m\u001b[0m\u001b[0;34m\u001b[0m\u001b[0m\n\u001b[1;32m      5\u001b[0m \u001b[0;32melse\u001b[0m\u001b[0;34m:\u001b[0m\u001b[0;34m\u001b[0m\u001b[0;34m\u001b[0m\u001b[0m\n",
            "\u001b[0;31mNameError\u001b[0m: name 'requests' is not defined"
          ]
        }
      ],
      "source": [
        "feed_list_url = BASE_URL + 'feeds'\n",
        "resp = requests.get(feed_list_url, auth=BASIC_AUTH, params={'limit': 1})\n",
        "if resp.status_code == 200:\n",
        "    print('Yay, you can access the Analytics API')\n",
        "else:\n",
        "    print('Something is wrong:', resp.content)"
      ]
    },
    {
      "cell_type": "markdown",
      "metadata": {
        "id": "Ne1BnsetPdrU"
      },
      "source": [
        "## 2. Case Study\n",
        "\n",
        "Near the end of 2018, Syria experienced severe rainfall and flooding across much of the Northern latitudes of the country. This flooding had devastating impacts to several Internally Displaced Persons (IDP) camps  across the region, as [reported](https://www.savethechildren.net/news/northern-syria-flooding-thousands-children-risk-further-displacement)  in [several](https://reliefweb.int/report/syrian-arab-republic/record-rainfall-devastates-idp-camps-northern-syria) small media [outlets](https://arab24.com/portal/index.php/arab24-stories/syria/item/12613-2018-12-07-15-17-41).\n",
        "\n",
        "Today, we are interested using Planet's Analytic Feeds to explore both the development of an IDP Camp south of Al Hasakah, and the impacts of the flooding of this area in subsequent years. We will use the following buildings and roads suscription IDs to collect our data.\n",
        "\n",
        "**Note:** If you do not have access to these subscriptions, please [get in touch](https://www.planet.com/contact-sales/)."
      ]
    },
    {
      "cell_type": "code",
      "execution_count": 5,
      "metadata": {
        "id": "k5bk5LV0PdrV"
      },
      "outputs": [],
      "source": [
        "buildings_sub_id = '76d06ec1-8507-4035-97cd-b3ea87b5b699'\n",
        "roads_sub_id = '6696da5c-88b8-49c2-a423-c936c0f386a5'"
      ]
    },
    {
      "cell_type": "markdown",
      "metadata": {
        "id": "WkSB4zZ3PdrV"
      },
      "source": [
        "Let's create a new url to request the subscriptions endpoint."
      ]
    },
    {
      "cell_type": "code",
      "execution_count": 6,
      "metadata": {
        "colab": {
          "base_uri": "https://localhost:8080/",
          "height": 211
        },
        "id": "vU-NJlrYPdrW",
        "outputId": "508fbb5f-a498-4807-d315-7b6584b74778"
      },
      "outputs": [
        {
          "output_type": "error",
          "ename": "NameError",
          "evalue": "name 'requests' is not defined",
          "traceback": [
            "\u001b[0;31m---------------------------------------------------------------------------\u001b[0m",
            "\u001b[0;31mNameError\u001b[0m                                 Traceback (most recent call last)",
            "\u001b[0;32m/tmp/ipython-input-3072065547.py\u001b[0m in \u001b[0;36m<cell line: 0>\u001b[0;34m()\u001b[0m\n\u001b[1;32m      1\u001b[0m \u001b[0msubscriptions_url\u001b[0m \u001b[0;34m=\u001b[0m \u001b[0mBASE_URL\u001b[0m \u001b[0;34m+\u001b[0m \u001b[0;34m'subscriptions/'\u001b[0m\u001b[0;34m\u001b[0m\u001b[0;34m\u001b[0m\u001b[0m\n\u001b[1;32m      2\u001b[0m \u001b[0;34m\u001b[0m\u001b[0m\n\u001b[0;32m----> 3\u001b[0;31m syria_buildings = requests.get(\n\u001b[0m\u001b[1;32m      4\u001b[0m     subscriptions_url + buildings_sub_id, auth=BASIC_AUTH).json()\n\u001b[1;32m      5\u001b[0m syria_roads = requests.get(\n",
            "\u001b[0;31mNameError\u001b[0m: name 'requests' is not defined"
          ]
        }
      ],
      "source": [
        "subscriptions_url = BASE_URL + 'subscriptions/'\n",
        "\n",
        "syria_buildings = requests.get(\n",
        "    subscriptions_url + buildings_sub_id, auth=BASIC_AUTH).json()\n",
        "syria_roads = requests.get(\n",
        "    subscriptions_url + roads_sub_id, auth=BASIC_AUTH) .json()"
      ]
    },
    {
      "cell_type": "markdown",
      "metadata": {
        "id": "3ISqxqxtPdrX"
      },
      "source": [
        "We can use the `pprint` library to structure our json responses."
      ]
    },
    {
      "cell_type": "code",
      "execution_count": null,
      "metadata": {
        "id": "Kcc1tQ8iPdrY",
        "outputId": "6bdf9b14-e0e2-458f-ef1e-f0fadfae4c49"
      },
      "outputs": [
        {
          "name": "stdout",
          "output_type": "stream",
          "text": [
            "{'created': '2019-09-25T15:59:50.534Z',\n",
            " 'description': 'Monthly Building Detection',\n",
            " 'endTime': '2020-04-01T00:00:00.000Z',\n",
            " 'feedID': 'b442c53b-fc72-4bee-bab4-0b7aa318ccd9',\n",
            " 'geometry': {'coordinates': [[[40.7427978515625, 36.3001851641895],\n",
            "                               [40.7421112060547, 36.2625458590656],\n",
            "                               [40.8011627197266, 36.2622690322517],\n",
            "                               [40.8001327514648, 36.2993550811912],\n",
            "                               [40.7427978515625, 36.3001851641895]]],\n",
            "              'type': 'Polygon'},\n",
            " 'id': '76d06ec1-8507-4035-97cd-b3ea87b5b699',\n",
            " 'links': [{'href': 'https://api.planet.com/analytics/subscriptions/76d06ec1-8507-4035-97cd-b3ea87b5b699',\n",
            "            'rel': 'self',\n",
            "            'type': 'application/json'},\n",
            "           {'href': 'https://api.planet.com/analytics/collections/76d06ec1-8507-4035-97cd-b3ea87b5b699/items',\n",
            "            'rel': 'results',\n",
            "            'type': 'application/geo+json'},\n",
            "           {'href': 'https://api.planet.com/analytics/feeds/b442c53b-fc72-4bee-bab4-0b7aa318ccd9',\n",
            "            'rel': 'feed',\n",
            "            'type': 'application/json'},\n",
            "           {'href': 'https://api.planet.com/analytics/subscriptions',\n",
            "            'rel': 'subscriptions',\n",
            "            'type': 'application/json'}],\n",
            " 'maxQueued': 10000,\n",
            " 'sourceUpdated': '2020-06-01T00:00:00.000Z',\n",
            " 'startTime': '2017-07-01T00:00:00.000Z',\n",
            " 'title': 'Al-Hasakah, Syria (extended TOI)',\n",
            " 'updated': '2021-10-14T16:56:45.086Z'}\n",
            "\n",
            "{'created': '2019-09-25T16:00:03.580Z',\n",
            " 'description': 'Monthly Road Detection',\n",
            " 'endTime': '2020-04-01T00:00:00.000Z',\n",
            " 'feedID': '36d9d1b0-dcd4-40bc-b411-5eb8e06062a2',\n",
            " 'geometry': {'coordinates': [[[40.7427978515625, 36.3001851641895],\n",
            "                               [40.7421112060547, 36.2625458590656],\n",
            "                               [40.8011627197266, 36.2622690322517],\n",
            "                               [40.8001327514648, 36.2993550811912],\n",
            "                               [40.7427978515625, 36.3001851641895]]],\n",
            "              'type': 'Polygon'},\n",
            " 'id': '6696da5c-88b8-49c2-a423-c936c0f386a5',\n",
            " 'links': [{'href': 'https://api.planet.com/analytics/subscriptions/6696da5c-88b8-49c2-a423-c936c0f386a5',\n",
            "            'rel': 'self',\n",
            "            'type': 'application/json'},\n",
            "           {'href': 'https://api.planet.com/analytics/collections/6696da5c-88b8-49c2-a423-c936c0f386a5/items',\n",
            "            'rel': 'results',\n",
            "            'type': 'application/geo+json'},\n",
            "           {'href': 'https://api.planet.com/analytics/feeds/36d9d1b0-dcd4-40bc-b411-5eb8e06062a2',\n",
            "            'rel': 'feed',\n",
            "            'type': 'application/json'},\n",
            "           {'href': 'https://api.planet.com/analytics/subscriptions',\n",
            "            'rel': 'subscriptions',\n",
            "            'type': 'application/json'}],\n",
            " 'maxQueued': 10000,\n",
            " 'sourceUpdated': '2020-06-01T00:00:00.000Z',\n",
            " 'startTime': '2017-07-01T00:00:00.000Z',\n",
            " 'title': 'Al-Hasakah, Syria (extended TOI)',\n",
            " 'updated': '2021-10-14T16:59:46.780Z'}\n"
          ]
        }
      ],
      "source": [
        "pprint(syria_buildings)\n",
        "print('')\n",
        "pprint(syria_roads)"
      ]
    },
    {
      "cell_type": "markdown",
      "metadata": {
        "id": "xvM4cVSmPdrZ"
      },
      "source": [
        "## 3. Mapping AOI\n",
        "\n",
        "**Inspecting subscription details**\n",
        "\n",
        "Subscriptions have a spatial area of interest described by a GeoJSON geometry. We can visualize the area of interest for a subscription on a map. First, let's just confirm that the geometries are the same for both roads and buildings subscriptions."
      ]
    },
    {
      "cell_type": "code",
      "execution_count": 7,
      "metadata": {
        "colab": {
          "base_uri": "https://localhost:8080/",
          "height": 176
        },
        "id": "5KUuiodHPdra",
        "outputId": "b72e484e-9a09-41ce-9378-4c76fc623470"
      },
      "outputs": [
        {
          "output_type": "error",
          "ename": "NameError",
          "evalue": "name 'syria_buildings' is not defined",
          "traceback": [
            "\u001b[0;31m---------------------------------------------------------------------------\u001b[0m",
            "\u001b[0;31mNameError\u001b[0m                                 Traceback (most recent call last)",
            "\u001b[0;32m/tmp/ipython-input-4285786011.py\u001b[0m in \u001b[0;36m<cell line: 0>\u001b[0;34m()\u001b[0m\n\u001b[0;32m----> 1\u001b[0;31m \u001b[0;32mif\u001b[0m \u001b[0msyria_buildings\u001b[0m\u001b[0;34m[\u001b[0m\u001b[0;34m'geometry'\u001b[0m\u001b[0;34m]\u001b[0m \u001b[0;34m==\u001b[0m \u001b[0msyria_roads\u001b[0m\u001b[0;34m[\u001b[0m\u001b[0;34m'geometry'\u001b[0m\u001b[0;34m]\u001b[0m\u001b[0;34m:\u001b[0m\u001b[0;34m\u001b[0m\u001b[0;34m\u001b[0m\u001b[0m\n\u001b[0m\u001b[1;32m      2\u001b[0m     \u001b[0mprint\u001b[0m\u001b[0;34m(\u001b[0m\u001b[0;34m'The geometries are the same!'\u001b[0m\u001b[0;34m)\u001b[0m\u001b[0;34m\u001b[0m\u001b[0;34m\u001b[0m\u001b[0m\n\u001b[1;32m      3\u001b[0m     \u001b[0maoi\u001b[0m \u001b[0;34m=\u001b[0m \u001b[0msyria_buildings\u001b[0m\u001b[0;34m[\u001b[0m\u001b[0;34m'geometry'\u001b[0m\u001b[0;34m]\u001b[0m\u001b[0;34m\u001b[0m\u001b[0;34m\u001b[0m\u001b[0m\n",
            "\u001b[0;31mNameError\u001b[0m: name 'syria_buildings' is not defined"
          ]
        }
      ],
      "source": [
        "if syria_buildings['geometry'] == syria_roads['geometry']:\n",
        "    print('The geometries are the same!')\n",
        "    aoi = syria_buildings['geometry']"
      ]
    },
    {
      "cell_type": "markdown",
      "metadata": {
        "id": "EeBZ7mnJPdra"
      },
      "source": [
        "First, let's center the map at the centroid of our geometry."
      ]
    },
    {
      "cell_type": "code",
      "execution_count": 8,
      "metadata": {
        "colab": {
          "base_uri": "https://localhost:8080/",
          "height": 141
        },
        "id": "mdIMYWxCPdrb",
        "outputId": "4af5b21e-c079-4691-a5f4-36f5fa9b98fd"
      },
      "outputs": [
        {
          "output_type": "error",
          "ename": "NameError",
          "evalue": "name 'aoi' is not defined",
          "traceback": [
            "\u001b[0;31m---------------------------------------------------------------------------\u001b[0m",
            "\u001b[0;31mNameError\u001b[0m                                 Traceback (most recent call last)",
            "\u001b[0;32m/tmp/ipython-input-3214199723.py\u001b[0m in \u001b[0;36m<cell line: 0>\u001b[0;34m()\u001b[0m\n\u001b[0;32m----> 1\u001b[0;31m \u001b[0mpprint\u001b[0m\u001b[0;34m(\u001b[0m\u001b[0maoi\u001b[0m\u001b[0;34m)\u001b[0m\u001b[0;34m\u001b[0m\u001b[0;34m\u001b[0m\u001b[0m\n\u001b[0m",
            "\u001b[0;31mNameError\u001b[0m: name 'aoi' is not defined"
          ]
        }
      ],
      "source": [
        "pprint(aoi)"
      ]
    },
    {
      "cell_type": "code",
      "execution_count": 9,
      "metadata": {
        "colab": {
          "base_uri": "https://localhost:8080/",
          "height": 211
        },
        "id": "wi_1oBvnPdrb",
        "outputId": "3b58f9a8-450e-4095-bf45-f93858f02aac"
      },
      "outputs": [
        {
          "output_type": "error",
          "ename": "NameError",
          "evalue": "name 'aoi' is not defined",
          "traceback": [
            "\u001b[0;31m---------------------------------------------------------------------------\u001b[0m",
            "\u001b[0;31mNameError\u001b[0m                                 Traceback (most recent call last)",
            "\u001b[0;32m/tmp/ipython-input-3612089692.py\u001b[0m in \u001b[0;36m<cell line: 0>\u001b[0;34m()\u001b[0m\n\u001b[0;32m----> 1\u001b[0;31m \u001b[0mmin_lat\u001b[0m \u001b[0;34m=\u001b[0m \u001b[0mmin\u001b[0m\u001b[0;34m(\u001b[0m\u001b[0mcoord\u001b[0m\u001b[0;34m[\u001b[0m\u001b[0;36m1\u001b[0m\u001b[0;34m]\u001b[0m \u001b[0;32mfor\u001b[0m \u001b[0mcoord\u001b[0m \u001b[0;32min\u001b[0m \u001b[0maoi\u001b[0m\u001b[0;34m[\u001b[0m\u001b[0;34m'coordinates'\u001b[0m\u001b[0;34m]\u001b[0m\u001b[0;34m[\u001b[0m\u001b[0;36m0\u001b[0m\u001b[0;34m]\u001b[0m\u001b[0;34m)\u001b[0m\u001b[0;34m\u001b[0m\u001b[0;34m\u001b[0m\u001b[0m\n\u001b[0m\u001b[1;32m      2\u001b[0m \u001b[0mmax_lat\u001b[0m \u001b[0;34m=\u001b[0m \u001b[0mmax\u001b[0m\u001b[0;34m(\u001b[0m\u001b[0mcoord\u001b[0m\u001b[0;34m[\u001b[0m\u001b[0;36m1\u001b[0m\u001b[0;34m]\u001b[0m \u001b[0;32mfor\u001b[0m \u001b[0mcoord\u001b[0m \u001b[0;32min\u001b[0m \u001b[0maoi\u001b[0m\u001b[0;34m[\u001b[0m\u001b[0;34m'coordinates'\u001b[0m\u001b[0;34m]\u001b[0m\u001b[0;34m[\u001b[0m\u001b[0;36m0\u001b[0m\u001b[0;34m]\u001b[0m\u001b[0;34m)\u001b[0m\u001b[0;34m\u001b[0m\u001b[0;34m\u001b[0m\u001b[0m\n\u001b[1;32m      3\u001b[0m \u001b[0mmin_lon\u001b[0m \u001b[0;34m=\u001b[0m \u001b[0mmin\u001b[0m\u001b[0;34m(\u001b[0m\u001b[0mcoord\u001b[0m\u001b[0;34m[\u001b[0m\u001b[0;36m0\u001b[0m\u001b[0;34m]\u001b[0m \u001b[0;32mfor\u001b[0m \u001b[0mcoord\u001b[0m \u001b[0;32min\u001b[0m \u001b[0maoi\u001b[0m\u001b[0;34m[\u001b[0m\u001b[0;34m'coordinates'\u001b[0m\u001b[0;34m]\u001b[0m\u001b[0;34m[\u001b[0m\u001b[0;36m0\u001b[0m\u001b[0;34m]\u001b[0m\u001b[0;34m)\u001b[0m\u001b[0;34m\u001b[0m\u001b[0;34m\u001b[0m\u001b[0m\n\u001b[1;32m      4\u001b[0m \u001b[0mmax_lon\u001b[0m \u001b[0;34m=\u001b[0m \u001b[0mmax\u001b[0m\u001b[0;34m(\u001b[0m\u001b[0mcoord\u001b[0m\u001b[0;34m[\u001b[0m\u001b[0;36m0\u001b[0m\u001b[0;34m]\u001b[0m \u001b[0;32mfor\u001b[0m \u001b[0mcoord\u001b[0m \u001b[0;32min\u001b[0m \u001b[0maoi\u001b[0m\u001b[0;34m[\u001b[0m\u001b[0;34m'coordinates'\u001b[0m\u001b[0;34m]\u001b[0m\u001b[0;34m[\u001b[0m\u001b[0;36m0\u001b[0m\u001b[0;34m]\u001b[0m\u001b[0;34m)\u001b[0m\u001b[0;34m\u001b[0m\u001b[0;34m\u001b[0m\u001b[0m\n\u001b[1;32m      5\u001b[0m \u001b[0;34m\u001b[0m\u001b[0m\n",
            "\u001b[0;31mNameError\u001b[0m: name 'aoi' is not defined"
          ]
        }
      ],
      "source": [
        "min_lat = min(coord[1] for coord in aoi['coordinates'][0])\n",
        "max_lat = max(coord[1] for coord in aoi['coordinates'][0])\n",
        "min_lon = min(coord[0] for coord in aoi['coordinates'][0])\n",
        "max_lon = max(coord[0] for coord in aoi['coordinates'][0])\n",
        "\n",
        "map_center = (mean([min_lat, max_lat]), mean([min_lon, max_lon]))\n",
        "print(map_center)"
      ]
    },
    {
      "cell_type": "code",
      "execution_count": 10,
      "metadata": {
        "colab": {
          "base_uri": "https://localhost:8080/",
          "height": 211
        },
        "id": "JisVVOPCPdrd",
        "outputId": "9088fa53-e03f-4114-8467-1d991124eb27"
      },
      "outputs": [
        {
          "output_type": "error",
          "ename": "NameError",
          "evalue": "name 'map_center' is not defined",
          "traceback": [
            "\u001b[0;31m---------------------------------------------------------------------------\u001b[0m",
            "\u001b[0;31mNameError\u001b[0m                                 Traceback (most recent call last)",
            "\u001b[0;32m/tmp/ipython-input-2542675180.py\u001b[0m in \u001b[0;36m<cell line: 0>\u001b[0;34m()\u001b[0m\n\u001b[1;32m      1\u001b[0m \u001b[0;31m# make a map, and draw the subscription geometry\u001b[0m\u001b[0;34m\u001b[0m\u001b[0;34m\u001b[0m\u001b[0m\n\u001b[0;32m----> 2\u001b[0;31m \u001b[0mm\u001b[0m \u001b[0;34m=\u001b[0m \u001b[0mMap\u001b[0m\u001b[0;34m(\u001b[0m\u001b[0mcenter\u001b[0m\u001b[0;34m=\u001b[0m\u001b[0mmap_center\u001b[0m\u001b[0;34m,\u001b[0m \u001b[0mzoom\u001b[0m\u001b[0;34m=\u001b[0m\u001b[0;36m12\u001b[0m\u001b[0;34m)\u001b[0m\u001b[0;34m\u001b[0m\u001b[0;34m\u001b[0m\u001b[0m\n\u001b[0m\u001b[1;32m      3\u001b[0m \u001b[0;34m\u001b[0m\u001b[0m\n\u001b[1;32m      4\u001b[0m \u001b[0;31m# convert to leaflet GeoJSON object\u001b[0m\u001b[0;34m\u001b[0m\u001b[0;34m\u001b[0m\u001b[0m\n\u001b[1;32m      5\u001b[0m map_AOI = GeoJSON(\n",
            "\u001b[0;31mNameError\u001b[0m: name 'map_center' is not defined"
          ]
        }
      ],
      "source": [
        "# make a map, and draw the subscription geometry\n",
        "m = Map(center=map_center, zoom=12)\n",
        "\n",
        "# convert to leaflet GeoJSON object\n",
        "map_AOI = GeoJSON(\n",
        "    data=aoi,\n",
        "    style={'color': 'blue', 'opacity': 0.5, 'weight': 1.5,\n",
        "           'dashArray': '5', 'fillOpacity': 0.1}\n",
        ")\n",
        "\n",
        "m.add_layer(map_AOI)\n",
        "\n",
        "m"
      ]
    },
    {
      "cell_type": "markdown",
      "metadata": {
        "id": "BOOqViXBPdrd"
      },
      "source": [
        "Now that we have a sense of our study AOI, let's inspect Planet's source imagery and Analytic Feeds results."
      ]
    },
    {
      "cell_type": "markdown",
      "metadata": {
        "id": "nOra83-KPdre"
      },
      "source": [
        "## 4. Working with Collections\n",
        "\n",
        "As should now be familiar, Planet Analytic Feeds results can be accessed via the `collections` endpoint. We can find the results for our particular subscriptions in the `links` property from the results of our last `subscriptions` requests."
      ]
    },
    {
      "cell_type": "code",
      "execution_count": 11,
      "metadata": {
        "colab": {
          "base_uri": "https://localhost:8080/",
          "height": 211
        },
        "id": "5eUUiX5pPdre",
        "outputId": "09c339d2-bee0-4891-8a90-52db3b441dc3"
      },
      "outputs": [
        {
          "output_type": "error",
          "ename": "NameError",
          "evalue": "name 'syria_buildings' is not defined",
          "traceback": [
            "\u001b[0;31m---------------------------------------------------------------------------\u001b[0m",
            "\u001b[0;31mNameError\u001b[0m                                 Traceback (most recent call last)",
            "\u001b[0;32m/tmp/ipython-input-2336428946.py\u001b[0m in \u001b[0;36m<cell line: 0>\u001b[0;34m()\u001b[0m\n\u001b[1;32m      1\u001b[0m buildings_collection_endpoint = [\n\u001b[0;32m----> 2\u001b[0;31m     link['href'] for link in syria_buildings['links'] if link['rel'] == 'results'][0]\n\u001b[0m\u001b[1;32m      3\u001b[0m roads_collection_endpoint = [\n\u001b[1;32m      4\u001b[0m     link['href'] for link in syria_roads['links'] if link['rel'] == 'results'][0]\n\u001b[1;32m      5\u001b[0m \u001b[0;34m\u001b[0m\u001b[0m\n",
            "\u001b[0;31mNameError\u001b[0m: name 'syria_buildings' is not defined"
          ]
        }
      ],
      "source": [
        "buildings_collection_endpoint = [\n",
        "    link['href'] for link in syria_buildings['links'] if link['rel'] == 'results'][0]\n",
        "roads_collection_endpoint = [\n",
        "    link['href'] for link in syria_roads['links'] if link['rel'] == 'results'][0]\n",
        "\n",
        "print('Buildings Collection URL: {}'.format(buildings_collection_endpoint))\n",
        "print('Roads Collection URL: {}'.format(roads_collection_endpoint))"
      ]
    },
    {
      "cell_type": "markdown",
      "metadata": {
        "id": "XGDQlsU6Pdrf"
      },
      "source": [
        "**Request the Collections API**"
      ]
    },
    {
      "cell_type": "code",
      "execution_count": 13,
      "metadata": {
        "colab": {
          "base_uri": "https://localhost:8080/",
          "height": 211
        },
        "id": "sd1rhZPhPdrg",
        "outputId": "a0dab794-8c86-4c5f-9971-b86493f02240"
      },
      "outputs": [
        {
          "output_type": "error",
          "ename": "NameError",
          "evalue": "name 'requests' is not defined",
          "traceback": [
            "\u001b[0;31m---------------------------------------------------------------------------\u001b[0m",
            "\u001b[0;31mNameError\u001b[0m                                 Traceback (most recent call last)",
            "\u001b[0;32m/tmp/ipython-input-1011264429.py\u001b[0m in \u001b[0;36m<cell line: 0>\u001b[0;34m()\u001b[0m\n\u001b[0;32m----> 1\u001b[0;31m building_results = requests.get(\n\u001b[0m\u001b[1;32m      2\u001b[0m     buildings_collection_endpoint, auth=BASIC_AUTH).json()\n\u001b[1;32m      3\u001b[0m \u001b[0mroads_results\u001b[0m \u001b[0;34m=\u001b[0m \u001b[0mrequests\u001b[0m\u001b[0;34m.\u001b[0m\u001b[0mget\u001b[0m\u001b[0;34m(\u001b[0m\u001b[0mroads_collection_endpoint\u001b[0m\u001b[0;34m,\u001b[0m \u001b[0mauth\u001b[0m\u001b[0;34m=\u001b[0m\u001b[0mBASIC_AUTH\u001b[0m\u001b[0;34m)\u001b[0m\u001b[0;34m.\u001b[0m\u001b[0mjson\u001b[0m\u001b[0;34m(\u001b[0m\u001b[0;34m)\u001b[0m\u001b[0;34m\u001b[0m\u001b[0;34m\u001b[0m\u001b[0m\n\u001b[1;32m      4\u001b[0m \u001b[0;34m\u001b[0m\u001b[0m\n\u001b[1;32m      5\u001b[0m \u001b[0mprint\u001b[0m\u001b[0;34m(\u001b[0m\u001b[0;34m'We got {} buildings results!'\u001b[0m\u001b[0;34m.\u001b[0m\u001b[0mformat\u001b[0m\u001b[0;34m(\u001b[0m\u001b[0mlen\u001b[0m\u001b[0;34m(\u001b[0m\u001b[0mbuilding_results\u001b[0m\u001b[0;34m[\u001b[0m\u001b[0;34m'features'\u001b[0m\u001b[0;34m]\u001b[0m\u001b[0;34m)\u001b[0m\u001b[0;34m)\u001b[0m\u001b[0;34m)\u001b[0m\u001b[0;34m\u001b[0m\u001b[0;34m\u001b[0m\u001b[0m\n",
            "\u001b[0;31mNameError\u001b[0m: name 'requests' is not defined"
          ]
        }
      ],
      "source": [
        "building_results = requests.get(\n",
        "    buildings_collection_endpoint, auth=BASIC_AUTH).json()\n",
        "roads_results = requests.get(roads_collection_endpoint, auth=BASIC_AUTH).json()\n",
        "\n",
        "print('We got {} buildings results!'.format(len(building_results['features'])))\n",
        "print('We got {} roads results!'.format(len(roads_results['features'])))"
      ]
    },
    {
      "cell_type": "markdown",
      "metadata": {
        "id": "jgjWqduePdrg"
      },
      "source": [
        "## 5. Parse Results Links\n",
        "\n",
        "Our results come back nicely wrapped as GeoJSON FeatureCollection. We can easily put them into a Pandas Dataframe."
      ]
    },
    {
      "cell_type": "markdown",
      "metadata": {
        "id": "e22ZqsDCPdrh"
      },
      "source": [
        "**Parse Buildings Results**"
      ]
    },
    {
      "cell_type": "code",
      "execution_count": 14,
      "metadata": {
        "colab": {
          "base_uri": "https://localhost:8080/",
          "height": 211
        },
        "id": "-oL9vkPfPdrh",
        "outputId": "cfc7b1d1-d280-4eeb-e4a2-c59025b712c5"
      },
      "outputs": [
        {
          "output_type": "error",
          "ename": "NameError",
          "evalue": "name 'building_results' is not defined",
          "traceback": [
            "\u001b[0;31m---------------------------------------------------------------------------\u001b[0m",
            "\u001b[0;31mNameError\u001b[0m                                 Traceback (most recent call last)",
            "\u001b[0;32m/tmp/ipython-input-376693013.py\u001b[0m in \u001b[0;36m<cell line: 0>\u001b[0;34m()\u001b[0m\n\u001b[1;32m      1\u001b[0m \u001b[0;31m# Convert links and properties to dataframe\u001b[0m\u001b[0;34m\u001b[0m\u001b[0;34m\u001b[0m\u001b[0m\n\u001b[0;32m----> 2\u001b[0;31m buildings = pd.json_normalize(building_results['features']).loc[:, [\n\u001b[0m\u001b[1;32m      3\u001b[0m     'links', 'properties.observed']]\n\u001b[1;32m      4\u001b[0m \u001b[0;34m\u001b[0m\u001b[0m\n\u001b[1;32m      5\u001b[0m \u001b[0;31m# extract links\u001b[0m\u001b[0;34m\u001b[0m\u001b[0;34m\u001b[0m\u001b[0m\n",
            "\u001b[0;31mNameError\u001b[0m: name 'building_results' is not defined"
          ]
        }
      ],
      "source": [
        "# Convert links and properties to dataframe\n",
        "buildings = pd.json_normalize(building_results['features']).loc[:, [\n",
        "    'links', 'properties.observed']]\n",
        "\n",
        "# extract links\n",
        "buildings['source_tiles'] = buildings['links'].map(\n",
        "    lambda links: [link['href'] for link in links if link['rel'] == 'source-tiles'][0])\n",
        "buildings['buildings_tiles'] = buildings['links'].map(lambda links: [\n",
        "                                                      link['href'] for link in links if link['rel'] == 'target-tiles'][0]).map(lambda x: x + '&exp=bincat:0|39039e')\n",
        "buildings['b_source_quad'] = buildings['links'].map(\n",
        "    lambda links: [link['href'] for link in links if link['rel'] == 'source-quad'][0])\n",
        "buildings['buildings_quad'] = buildings['links'].map(\n",
        "    lambda links: [link['href'] for link in links if link['rel'] == 'target-quad'][0])\n",
        "\n",
        "# drop links column\n",
        "buildings.drop(labels=['links'], axis=1, inplace=True)\n",
        "\n",
        "# change column names\n",
        "buildings.rename(columns={'properties.observed': 'date'}, inplace=True)\n",
        "buildings['date'] = buildings['date'].map(lambda x: x.split('T')[0])\n",
        "buildings.head()"
      ]
    },
    {
      "cell_type": "markdown",
      "metadata": {
        "id": "VsVKpnoMPdri"
      },
      "source": [
        "Now, let's do the same as above for our Roads Segmentation results."
      ]
    },
    {
      "cell_type": "code",
      "execution_count": 15,
      "metadata": {
        "colab": {
          "base_uri": "https://localhost:8080/",
          "height": 211
        },
        "id": "MPESxyVTPdrj",
        "outputId": "04782847-a55d-4a09-ba49-b8b6c66c4a44"
      },
      "outputs": [
        {
          "output_type": "error",
          "ename": "NameError",
          "evalue": "name 'roads_results' is not defined",
          "traceback": [
            "\u001b[0;31m---------------------------------------------------------------------------\u001b[0m",
            "\u001b[0;31mNameError\u001b[0m                                 Traceback (most recent call last)",
            "\u001b[0;32m/tmp/ipython-input-1941691760.py\u001b[0m in \u001b[0;36m<cell line: 0>\u001b[0;34m()\u001b[0m\n\u001b[0;32m----> 1\u001b[0;31m roads = pd.json_normalize(roads_results['features']).loc[:, [\n\u001b[0m\u001b[1;32m      2\u001b[0m     'links', 'properties.observed']]\n\u001b[1;32m      3\u001b[0m \u001b[0;34m\u001b[0m\u001b[0m\n\u001b[1;32m      4\u001b[0m \u001b[0;31m# Extract links\u001b[0m\u001b[0;34m\u001b[0m\u001b[0;34m\u001b[0m\u001b[0m\n\u001b[1;32m      5\u001b[0m roads['source_tiles'] = roads['links'].map(\n",
            "\u001b[0;31mNameError\u001b[0m: name 'roads_results' is not defined"
          ]
        }
      ],
      "source": [
        "roads = pd.json_normalize(roads_results['features']).loc[:, [\n",
        "    'links', 'properties.observed']]\n",
        "\n",
        "# Extract links\n",
        "roads['source_tiles'] = roads['links'].map(\n",
        "    lambda links: [link['href'] for link in links if link['rel'] == 'source-tiles'][0])\n",
        "roads['roads_tiles'] = roads['links'].map(lambda links: [\n",
        "                                          link['href'] for link in links if link['rel'] == 'target-tiles'][0]).map(lambda x: x + '&exp=bincat:0|d65a45')\n",
        "roads['r_source_quad'] = roads['links'].map(\n",
        "    lambda links: [link['href'] for link in links if link['rel'] == 'source-quad'][0])\n",
        "roads['roads_quad'] = roads['links'].map(\n",
        "    lambda links: [link['href'] for link in links if link['rel'] == 'target-quad'][0])\n",
        "\n",
        "# Drop links column\n",
        "roads.drop(labels=['links'], axis=1, inplace=True)\n",
        "\n",
        "# Change column names\n",
        "roads.rename(columns={'properties.observed': 'date'}, inplace=True)\n",
        "roads['date'] = roads['date'].map(lambda x: x.split('T')[0])\n",
        "\n",
        "roads.head()"
      ]
    },
    {
      "cell_type": "markdown",
      "metadata": {
        "id": "tamqy4T5Pdrk"
      },
      "source": [
        "Next, let's combine our roads and buildings results into a single feature dataframe."
      ]
    },
    {
      "cell_type": "code",
      "execution_count": 16,
      "metadata": {
        "colab": {
          "base_uri": "https://localhost:8080/",
          "height": 159
        },
        "id": "-FXdU1HNPdrl",
        "outputId": "555ad952-8967-4c65-9d9d-37533b7dcbe9"
      },
      "outputs": [
        {
          "output_type": "error",
          "ename": "NameError",
          "evalue": "name 'buildings' is not defined",
          "traceback": [
            "\u001b[0;31m---------------------------------------------------------------------------\u001b[0m",
            "\u001b[0;31mNameError\u001b[0m                                 Traceback (most recent call last)",
            "\u001b[0;32m/tmp/ipython-input-1711214072.py\u001b[0m in \u001b[0;36m<cell line: 0>\u001b[0;34m()\u001b[0m\n\u001b[0;32m----> 1\u001b[0;31m \u001b[0mrnb\u001b[0m \u001b[0;34m=\u001b[0m \u001b[0mbuildings\u001b[0m\u001b[0;34m.\u001b[0m\u001b[0mmerge\u001b[0m\u001b[0;34m(\u001b[0m\u001b[0mroads\u001b[0m\u001b[0;34m,\u001b[0m \u001b[0mon\u001b[0m\u001b[0;34m=\u001b[0m\u001b[0;34m[\u001b[0m\u001b[0;34m'date'\u001b[0m\u001b[0;34m,\u001b[0m \u001b[0;34m'source_tiles'\u001b[0m\u001b[0;34m]\u001b[0m\u001b[0;34m)\u001b[0m\u001b[0;34m\u001b[0m\u001b[0;34m\u001b[0m\u001b[0m\n\u001b[0m\u001b[1;32m      2\u001b[0m \u001b[0mrnb\u001b[0m\u001b[0;34m.\u001b[0m\u001b[0mhead\u001b[0m\u001b[0;34m(\u001b[0m\u001b[0;34m)\u001b[0m\u001b[0;34m\u001b[0m\u001b[0;34m\u001b[0m\u001b[0m\n",
            "\u001b[0;31mNameError\u001b[0m: name 'buildings' is not defined"
          ]
        }
      ],
      "source": [
        "rnb = buildings.merge(roads, on=['date', 'source_tiles'])\n",
        "rnb.head()"
      ]
    },
    {
      "cell_type": "markdown",
      "metadata": {
        "id": "3ooE_wPXPdrl"
      },
      "source": [
        "Finally, let's create separate dataframes for tiles and quads. We'll use the tiles to visualize our AOI in a few web maps, and the quads for a later analysis."
      ]
    },
    {
      "cell_type": "code",
      "execution_count": 17,
      "metadata": {
        "colab": {
          "base_uri": "https://localhost:8080/",
          "height": 211
        },
        "id": "Fhe6WVeiPdrm",
        "outputId": "5cae573c-6c5c-4564-fc1c-fa5d74851d95"
      },
      "outputs": [
        {
          "output_type": "error",
          "ename": "NameError",
          "evalue": "name 'rnb' is not defined",
          "traceback": [
            "\u001b[0;31m---------------------------------------------------------------------------\u001b[0m",
            "\u001b[0;31mNameError\u001b[0m                                 Traceback (most recent call last)",
            "\u001b[0;32m/tmp/ipython-input-2765359613.py\u001b[0m in \u001b[0;36m<cell line: 0>\u001b[0;34m()\u001b[0m\n\u001b[0;32m----> 1\u001b[0;31m tiles = rnb.loc[:, ['date', 'source_tiles',\n\u001b[0m\u001b[1;32m      2\u001b[0m                     'buildings_tiles', 'roads_tiles']].drop_duplicates()\n\u001b[1;32m      3\u001b[0m \u001b[0;34m\u001b[0m\u001b[0m\n\u001b[1;32m      4\u001b[0m \u001b[0;31m# Sort dataframe by time\u001b[0m\u001b[0;34m\u001b[0m\u001b[0;34m\u001b[0m\u001b[0m\n\u001b[1;32m      5\u001b[0m \u001b[0mtiles\u001b[0m \u001b[0;34m=\u001b[0m \u001b[0mtiles\u001b[0m\u001b[0;34m.\u001b[0m\u001b[0msort_values\u001b[0m\u001b[0;34m(\u001b[0m\u001b[0mby\u001b[0m\u001b[0;34m=\u001b[0m\u001b[0;34m'date'\u001b[0m\u001b[0;34m)\u001b[0m\u001b[0;34m.\u001b[0m\u001b[0mreset_index\u001b[0m\u001b[0;34m(\u001b[0m\u001b[0mdrop\u001b[0m\u001b[0;34m=\u001b[0m\u001b[0;32mTrue\u001b[0m\u001b[0;34m)\u001b[0m\u001b[0;34m\u001b[0m\u001b[0;34m\u001b[0m\u001b[0m\n",
            "\u001b[0;31mNameError\u001b[0m: name 'rnb' is not defined"
          ]
        }
      ],
      "source": [
        "tiles = rnb.loc[:, ['date', 'source_tiles',\n",
        "                    'buildings_tiles', 'roads_tiles']].drop_duplicates()\n",
        "\n",
        "# Sort dataframe by time\n",
        "tiles = tiles.sort_values(by='date').reset_index(drop=True)\n",
        "tiles.head()"
      ]
    },
    {
      "cell_type": "markdown",
      "metadata": {
        "id": "RG0VddEVPdrn"
      },
      "source": [
        "Quads dataframe"
      ]
    },
    {
      "cell_type": "code",
      "execution_count": 18,
      "metadata": {
        "colab": {
          "base_uri": "https://localhost:8080/",
          "height": 211
        },
        "id": "rhK6wHhqPdrn",
        "outputId": "28eac0b4-f920-4c06-c9a1-b42b97b7ae7e"
      },
      "outputs": [
        {
          "output_type": "error",
          "ename": "NameError",
          "evalue": "name 'rnb' is not defined",
          "traceback": [
            "\u001b[0;31m---------------------------------------------------------------------------\u001b[0m",
            "\u001b[0;31mNameError\u001b[0m                                 Traceback (most recent call last)",
            "\u001b[0;32m/tmp/ipython-input-4102432804.py\u001b[0m in \u001b[0;36m<cell line: 0>\u001b[0;34m()\u001b[0m\n\u001b[0;32m----> 1\u001b[0;31m quads = rnb.loc[:, ['date', 'r_source_quad',\n\u001b[0m\u001b[1;32m      2\u001b[0m                     'b_source_quad', 'roads_quad', 'buildings_quad']]\n\u001b[1;32m      3\u001b[0m \u001b[0;34m\u001b[0m\u001b[0m\n\u001b[1;32m      4\u001b[0m \u001b[0;31m# Sort dataframe by time\u001b[0m\u001b[0;34m\u001b[0m\u001b[0;34m\u001b[0m\u001b[0m\n\u001b[1;32m      5\u001b[0m \u001b[0mquads\u001b[0m\u001b[0;34m.\u001b[0m\u001b[0msort_values\u001b[0m\u001b[0;34m(\u001b[0m\u001b[0mby\u001b[0m\u001b[0;34m=\u001b[0m\u001b[0;34m'date'\u001b[0m\u001b[0;34m,\u001b[0m \u001b[0minplace\u001b[0m\u001b[0;34m=\u001b[0m\u001b[0;32mTrue\u001b[0m\u001b[0;34m)\u001b[0m\u001b[0;34m\u001b[0m\u001b[0;34m\u001b[0m\u001b[0m\n",
            "\u001b[0;31mNameError\u001b[0m: name 'rnb' is not defined"
          ]
        }
      ],
      "source": [
        "quads = rnb.loc[:, ['date', 'r_source_quad',\n",
        "                    'b_source_quad', 'roads_quad', 'buildings_quad']]\n",
        "\n",
        "# Sort dataframe by time\n",
        "quads.sort_values(by='date', inplace=True)\n",
        "quads.reset_index(drop=True, inplace=True)\n",
        "quads.head()"
      ]
    },
    {
      "cell_type": "markdown",
      "metadata": {
        "id": "qdYweh3mPdro"
      },
      "source": [
        "## 6. Segmentation Results\n",
        "\n",
        "First, let's take a look at our results for the first date in our subscription."
      ]
    },
    {
      "cell_type": "code",
      "execution_count": 20,
      "metadata": {
        "colab": {
          "base_uri": "https://localhost:8080/",
          "height": 159
        },
        "id": "xyRt0Vk7Pdrp",
        "outputId": "265f1752-2bef-474a-b1cf-5f1c31e73547"
      },
      "outputs": [
        {
          "output_type": "error",
          "ename": "NameError",
          "evalue": "name 'tiles' is not defined",
          "traceback": [
            "\u001b[0;31m---------------------------------------------------------------------------\u001b[0m",
            "\u001b[0;31mNameError\u001b[0m                                 Traceback (most recent call last)",
            "\u001b[0;32m/tmp/ipython-input-3362667053.py\u001b[0m in \u001b[0;36m<cell line: 0>\u001b[0;34m()\u001b[0m\n\u001b[0;32m----> 1\u001b[0;31m \u001b[0mtimes\u001b[0m \u001b[0;34m=\u001b[0m \u001b[0mtiles\u001b[0m\u001b[0;34m[\u001b[0m\u001b[0;34m'date'\u001b[0m\u001b[0;34m]\u001b[0m\u001b[0;34m.\u001b[0m\u001b[0munique\u001b[0m\u001b[0;34m(\u001b[0m\u001b[0;34m)\u001b[0m\u001b[0;34m\u001b[0m\u001b[0;34m\u001b[0m\u001b[0m\n\u001b[0m\u001b[1;32m      2\u001b[0m \u001b[0mprint\u001b[0m\u001b[0;34m(\u001b[0m\u001b[0;34m'First date: {}'\u001b[0m\u001b[0;34m.\u001b[0m\u001b[0mformat\u001b[0m\u001b[0;34m(\u001b[0m\u001b[0mtimes\u001b[0m\u001b[0;34m[\u001b[0m\u001b[0;36m0\u001b[0m\u001b[0;34m]\u001b[0m\u001b[0;34m)\u001b[0m\u001b[0;34m)\u001b[0m\u001b[0;34m\u001b[0m\u001b[0;34m\u001b[0m\u001b[0m\n",
            "\u001b[0;31mNameError\u001b[0m: name 'tiles' is not defined"
          ]
        }
      ],
      "source": [
        "times = tiles['date'].unique()\n",
        "print('First date: {}'.format(times[0]))"
      ]
    },
    {
      "cell_type": "code",
      "execution_count": 21,
      "metadata": {
        "colab": {
          "base_uri": "https://localhost:8080/",
          "height": 211
        },
        "id": "fHFjx9_hPdrq",
        "outputId": "48c20cac-cde9-4315-9506-951b9c94c78e"
      },
      "outputs": [
        {
          "output_type": "error",
          "ename": "NameError",
          "evalue": "name 'map_center' is not defined",
          "traceback": [
            "\u001b[0;31m---------------------------------------------------------------------------\u001b[0m",
            "\u001b[0;31mNameError\u001b[0m                                 Traceback (most recent call last)",
            "\u001b[0;32m/tmp/ipython-input-2343746237.py\u001b[0m in \u001b[0;36m<cell line: 0>\u001b[0;34m()\u001b[0m\n\u001b[0;32m----> 1\u001b[0;31m \u001b[0mm\u001b[0m \u001b[0;34m=\u001b[0m \u001b[0mMap\u001b[0m\u001b[0;34m(\u001b[0m\u001b[0mcenter\u001b[0m\u001b[0;34m=\u001b[0m\u001b[0mmap_center\u001b[0m\u001b[0;34m,\u001b[0m \u001b[0mzoom\u001b[0m\u001b[0;34m=\u001b[0m\u001b[0;36m13\u001b[0m\u001b[0;34m)\u001b[0m\u001b[0;34m\u001b[0m\u001b[0;34m\u001b[0m\u001b[0m\n\u001b[0m\u001b[1;32m      2\u001b[0m \u001b[0;34m\u001b[0m\u001b[0m\n\u001b[1;32m      3\u001b[0m building_mask = LocalTileLayer(\n\u001b[1;32m      4\u001b[0m     \u001b[0mpath\u001b[0m\u001b[0;34m=\u001b[0m\u001b[0mtiles\u001b[0m\u001b[0;34m.\u001b[0m\u001b[0mloc\u001b[0m\u001b[0;34m[\u001b[0m\u001b[0;36m0\u001b[0m\u001b[0;34m,\u001b[0m \u001b[0;34m'buildings_tiles'\u001b[0m\u001b[0;34m]\u001b[0m\u001b[0;34m,\u001b[0m\u001b[0;34m\u001b[0m\u001b[0;34m\u001b[0m\u001b[0m\n\u001b[1;32m      5\u001b[0m     \u001b[0mname\u001b[0m\u001b[0;34m=\u001b[0m\u001b[0;34mf\"Buildings: {tiles.loc[0, 'date']}\"\u001b[0m\u001b[0;34m\u001b[0m\u001b[0;34m\u001b[0m\u001b[0m\n",
            "\u001b[0;31mNameError\u001b[0m: name 'map_center' is not defined"
          ]
        }
      ],
      "source": [
        "m = Map(center=map_center, zoom=13)\n",
        "\n",
        "building_mask = LocalTileLayer(\n",
        "    path=tiles.loc[0, 'buildings_tiles'],\n",
        "    name=f\"Buildings: {tiles.loc[0, 'date']}\"\n",
        ")\n",
        "\n",
        "road_mask = LocalTileLayer(\n",
        "    path=tiles.loc[0, 'roads_tiles'],\n",
        "    name=f\"Roads: {tiles.loc[0, 'date']}\"\n",
        ")\n",
        "\n",
        "basemap = LocalTileLayer(\n",
        "    path=tiles.loc[0, 'source_tiles'],\n",
        "    name='Source image'\n",
        ")\n",
        "\n",
        "m.add_layer(basemap)\n",
        "m.add_layer(road_mask)\n",
        "m.add_layer(building_mask)\n",
        "\n",
        "m.add_control(LayersControl(position='topright'))\n",
        "\n",
        "m"
      ]
    },
    {
      "cell_type": "markdown",
      "metadata": {
        "id": "CHLBcEvZPdrs"
      },
      "source": [
        "**Split Map**"
      ]
    },
    {
      "cell_type": "markdown",
      "metadata": {
        "id": "qswPLTy9Pdrt"
      },
      "source": [
        "Using the `SplitMapControl`, we can easily swipe between pre- and post-flood imagery and building overlays."
      ]
    },
    {
      "cell_type": "code",
      "execution_count": 22,
      "metadata": {
        "colab": {
          "base_uri": "https://localhost:8080/",
          "height": 211
        },
        "id": "05vWdZSAPdrt",
        "outputId": "fe02af64-a04d-486f-edb5-5190a122984e"
      },
      "outputs": [
        {
          "output_type": "error",
          "ename": "NameError",
          "evalue": "name 'map_center' is not defined",
          "traceback": [
            "\u001b[0;31m---------------------------------------------------------------------------\u001b[0m",
            "\u001b[0;31mNameError\u001b[0m                                 Traceback (most recent call last)",
            "\u001b[0;32m/tmp/ipython-input-3742615125.py\u001b[0m in \u001b[0;36m<cell line: 0>\u001b[0;34m()\u001b[0m\n\u001b[0;32m----> 1\u001b[0;31m \u001b[0mm\u001b[0m \u001b[0;34m=\u001b[0m \u001b[0mMap\u001b[0m\u001b[0;34m(\u001b[0m\u001b[0mcenter\u001b[0m\u001b[0;34m=\u001b[0m\u001b[0mmap_center\u001b[0m\u001b[0;34m,\u001b[0m \u001b[0mzoom\u001b[0m\u001b[0;34m=\u001b[0m\u001b[0;36m13\u001b[0m\u001b[0;34m)\u001b[0m\u001b[0;34m\u001b[0m\u001b[0;34m\u001b[0m\u001b[0m\n\u001b[0m\u001b[1;32m      2\u001b[0m \u001b[0;34m\u001b[0m\u001b[0m\n\u001b[1;32m      3\u001b[0m \u001b[0;31m# first time-point\u001b[0m\u001b[0;34m\u001b[0m\u001b[0;34m\u001b[0m\u001b[0m\n\u001b[1;32m      4\u001b[0m building_mask_1 = LocalTileLayer(\n\u001b[1;32m      5\u001b[0m     path=tiles.loc[16, 'buildings_tiles'], name=f\"Buildings: {tiles.loc[16, 'date']}\")\n",
            "\u001b[0;31mNameError\u001b[0m: name 'map_center' is not defined"
          ]
        }
      ],
      "source": [
        "m = Map(center=map_center, zoom=13)\n",
        "\n",
        "# first time-point\n",
        "building_mask_1 = LocalTileLayer(\n",
        "    path=tiles.loc[16, 'buildings_tiles'], name=f\"Buildings: {tiles.loc[16, 'date']}\")\n",
        "\n",
        "road_mask_1 = LocalTileLayer(\n",
        "    path=tiles.loc[16, 'roads_tiles'], name=f\"Roads: {tiles.loc[16, 'date']}\")\n",
        "\n",
        "basemap_1 = LocalTileLayer(\n",
        "    path=tiles.loc[16, 'source_tiles'], name=tiles.loc[17, 'date'])\n",
        "\n",
        "\n",
        "# add second time series\n",
        "building_mask_2 = LocalTileLayer(\n",
        "    path=tiles.loc[18, 'buildings_tiles'], name=f\"Buildings: {tiles.loc[18, 'date']}\")\n",
        "\n",
        "road_mask_2 = LocalTileLayer(\n",
        "    path=tiles.loc[18, 'roads_tiles'], name=f\"Roads: {tiles.loc[18, 'date']}\")\n",
        "\n",
        "basemap_2 = LocalTileLayer(\n",
        "    path=tiles.loc[18, 'source_tiles'], name=tiles.loc[18, 'date'])\n",
        "\n",
        "# add layers\n",
        "m.add_layer(road_mask_1)\n",
        "m.add_layer(building_mask_1)\n",
        "\n",
        "m.add_layer(road_mask_2)\n",
        "m.add_layer(building_mask_2)\n",
        "\n",
        "splitter = SplitMapControl(left_layer=[building_mask_1, road_mask_1, basemap_1],\n",
        "                           right_layer=[building_mask_2, road_mask_2, basemap_2])\n",
        "\n",
        "# add controls\n",
        "m.add_control(LayersControl(position='topright'))\n",
        "m.add_control(splitter)\n",
        "\n",
        "m"
      ]
    },
    {
      "cell_type": "markdown",
      "metadata": {
        "id": "JfZ4iNBhPdrv"
      },
      "source": [
        "**Date Slider**\n",
        "\n",
        "We can toggle through our time points with greater granularity using a Date Slider widget."
      ]
    },
    {
      "cell_type": "code",
      "execution_count": 23,
      "metadata": {
        "colab": {
          "base_uri": "https://localhost:8080/",
          "height": 211
        },
        "id": "Z01j7WDGPdrv",
        "outputId": "06eee2aa-1661-4d02-b0df-f71bc2bebc71"
      },
      "outputs": [
        {
          "output_type": "error",
          "ename": "NameError",
          "evalue": "name 'map_center' is not defined",
          "traceback": [
            "\u001b[0;31m---------------------------------------------------------------------------\u001b[0m",
            "\u001b[0;31mNameError\u001b[0m                                 Traceback (most recent call last)",
            "\u001b[0;32m/tmp/ipython-input-3053658182.py\u001b[0m in \u001b[0;36m<cell line: 0>\u001b[0;34m()\u001b[0m\n\u001b[0;32m----> 1\u001b[0;31m \u001b[0mm\u001b[0m \u001b[0;34m=\u001b[0m \u001b[0mMap\u001b[0m\u001b[0;34m(\u001b[0m\u001b[0mcenter\u001b[0m\u001b[0;34m=\u001b[0m\u001b[0mmap_center\u001b[0m\u001b[0;34m,\u001b[0m \u001b[0mzoom\u001b[0m\u001b[0;34m=\u001b[0m\u001b[0;36m13\u001b[0m\u001b[0;34m)\u001b[0m\u001b[0;34m\u001b[0m\u001b[0;34m\u001b[0m\u001b[0m\n\u001b[0m\u001b[1;32m      2\u001b[0m \u001b[0;34m\u001b[0m\u001b[0m\n\u001b[1;32m      3\u001b[0m \u001b[0mdate_slider\u001b[0m \u001b[0;34m=\u001b[0m \u001b[0mSelectionSlider\u001b[0m\u001b[0;34m(\u001b[0m\u001b[0mdescription\u001b[0m\u001b[0;34m=\u001b[0m\u001b[0;34m'Time:'\u001b[0m\u001b[0;34m,\u001b[0m \u001b[0moptions\u001b[0m\u001b[0;34m=\u001b[0m\u001b[0mtimes\u001b[0m\u001b[0;34m)\u001b[0m\u001b[0;34m\u001b[0m\u001b[0;34m\u001b[0m\u001b[0m\n\u001b[1;32m      4\u001b[0m \u001b[0;34m\u001b[0m\u001b[0m\n\u001b[1;32m      5\u001b[0m \u001b[0mcurrent_date\u001b[0m \u001b[0;34m=\u001b[0m \u001b[0;34m'2017-07-01'\u001b[0m\u001b[0;34m\u001b[0m\u001b[0;34m\u001b[0m\u001b[0m\n",
            "\u001b[0;31mNameError\u001b[0m: name 'map_center' is not defined"
          ]
        }
      ],
      "source": [
        "m = Map(center=map_center, zoom=13)\n",
        "\n",
        "date_slider = SelectionSlider(description='Time:', options=times)\n",
        "\n",
        "current_date = '2017-07-01'\n",
        "\n",
        "# Create and add initial layers\n",
        "source_layer = LocalTileLayer(\n",
        "    path=tiles.loc[tiles['date'] == current_date, 'source_tiles'].iloc[0])\n",
        "roads_layer = LocalTileLayer(\n",
        "    path=tiles.loc[tiles['date'] == current_date, 'roads_tiles'].iloc[0])\n",
        "buildings_layer = LocalTileLayer(\n",
        "    path=tiles.loc[tiles['date'] == current_date, 'buildings_tiles'].iloc[0])\n",
        "\n",
        "m.add_layer(source_layer)\n",
        "m.add_layer(roads_layer)\n",
        "m.add_layer(buildings_layer)\n",
        "\n",
        "def get_source_url(change):\n",
        "    \"\"\"\n",
        "    Returns the source tiles URL corresponding to the given change.\n",
        "\n",
        "    Args:\n",
        "        change (str): The changed value of the date slider.\n",
        "\n",
        "    Returns:\n",
        "        str: The URL of the source tiles for the specified change.\n",
        "    \"\"\"\n",
        "    global tiles\n",
        "    source_url = tiles.loc[tiles['date'] == change, 'source_tiles'].iloc[0]\n",
        "    return source_url\n",
        "\n",
        "def get_road_url(change):\n",
        "    \"\"\"\n",
        "    Returns the roads tiles URL corresponding to the given change.\n",
        "\n",
        "    Args:\n",
        "        change (str): The changed value of the date slider.\n",
        "\n",
        "    Returns:\n",
        "        str: The URL of the roads tiles for the specified change.\n",
        "    \"\"\"\n",
        "    global tiles\n",
        "    roads_url = tiles.loc[tiles['date'] == change, 'roads_tiles'].iloc[0]\n",
        "    return roads_url\n",
        "\n",
        "def get_building_url(change):\n",
        "    \"\"\"\n",
        "    Returns the buildings tiles URL corresponding to the given change.\n",
        "\n",
        "    Args:\n",
        "        change (str): The changed value of the date slider.\n",
        "\n",
        "    Returns:\n",
        "        str: The URL of the buildings tiles for the specified change.\n",
        "    \"\"\"\n",
        "    global tiles\n",
        "    buildings_url = tiles.loc[tiles['date']\n",
        "                              == change, 'buildings_tiles'].iloc[0]\n",
        "    return buildings_url\n",
        "\n",
        "def display_tiles(change):\n",
        "    \"\"\"\n",
        "    Updates and displays the map layers based on the changed date value.\n",
        "\n",
        "    Args:\n",
        "        change (dict): The change event triggered by the date slider.\n",
        "\n",
        "    Returns:\n",
        "        None. Updates and displays the map layers accordingly.\n",
        "    \"\"\"\n",
        "    global source_layer\n",
        "    global roads_layer\n",
        "    global buildings_layer\n",
        "    global current_date\n",
        "\n",
        "    if current_date != date_slider.value:\n",
        "        current_date = date_slider.value\n",
        "\n",
        "   # Update source imagery\n",
        "    source_layer = LocalTileLayer(path=get_source_url(current_date))\n",
        "\n",
        "    # Update roads mask\n",
        "    roads_layer = LocalTileLayer(path=get_road_url(current_date))\n",
        "\n",
        "    # Update buildings mask\n",
        "    buildings_layer = LocalTileLayer(path=get_building_url(current_date))\n",
        "\n",
        "    # Add new layers\n",
        "    m.add_layer(source_layer)\n",
        "    m.add_layer(roads_layer)\n",
        "    m.add_layer(buildings_layer)\n",
        "\n",
        "# Link\n",
        "date_slider.observe(display_tiles, 'value')"
      ]
    },
    {
      "cell_type": "markdown",
      "metadata": {
        "id": "tpjs_yv7PdtL"
      },
      "source": [
        "**Display Map**"
      ]
    },
    {
      "cell_type": "code",
      "execution_count": 24,
      "metadata": {
        "colab": {
          "base_uri": "https://localhost:8080/",
          "height": 141
        },
        "id": "ZwoaQP4NPdtM",
        "outputId": "ac31edc4-79f8-4a59-d901-ef85db0a49c8"
      },
      "outputs": [
        {
          "output_type": "error",
          "ename": "NameError",
          "evalue": "name 'date_slider' is not defined",
          "traceback": [
            "\u001b[0;31m---------------------------------------------------------------------------\u001b[0m",
            "\u001b[0;31mNameError\u001b[0m                                 Traceback (most recent call last)",
            "\u001b[0;32m/tmp/ipython-input-178055980.py\u001b[0m in \u001b[0;36m<cell line: 0>\u001b[0;34m()\u001b[0m\n\u001b[0;32m----> 1\u001b[0;31m \u001b[0mVBox\u001b[0m\u001b[0;34m(\u001b[0m\u001b[0;34m[\u001b[0m\u001b[0mdate_slider\u001b[0m\u001b[0;34m,\u001b[0m \u001b[0mm\u001b[0m\u001b[0;34m]\u001b[0m\u001b[0;34m)\u001b[0m\u001b[0;34m\u001b[0m\u001b[0;34m\u001b[0m\u001b[0m\n\u001b[0m",
            "\u001b[0;31mNameError\u001b[0m: name 'date_slider' is not defined"
          ]
        }
      ],
      "source": [
        "VBox([date_slider, m])"
      ]
    },
    {
      "cell_type": "markdown",
      "metadata": {
        "id": "jgqfl91vPdtN"
      },
      "source": [
        "## 7. Quantifying Change\n",
        "_Calculating Buildings and Roads Pixels_\n",
        "\n",
        "The above visualizations allow for a great qualitative analysis of our AOI, with the roads and buildings masks drawing our attention to the changing features over time. Now, let's use some raster tools to quantitatively measure the changes."
      ]
    },
    {
      "cell_type": "markdown",
      "metadata": {
        "id": "uvbGu0H7PdtN"
      },
      "source": [
        "**Specify New AOI**\n",
        "\n",
        "We'll use a condensed polygon centered around the region of development and flooding we observed above."
      ]
    },
    {
      "cell_type": "code",
      "execution_count": 25,
      "metadata": {
        "id": "jR5_VtOSPdtO"
      },
      "outputs": [],
      "source": [
        "new_aoi = {'type': 'Polygon',\n",
        "           'coordinates': [[[40.746897, 36.270941],\n",
        "                            [40.746897, 36.294431],\n",
        "                            [40.790485, 36.294431],\n",
        "                            [40.790485, 36.270941],\n",
        "                            [40.746897, 36.270941]]]\n",
        "           }"
      ]
    },
    {
      "cell_type": "markdown",
      "metadata": {
        "id": "i4K4PZPFPdtP"
      },
      "source": [
        "**Note**: Coordinate Reference Systems\n",
        "\n",
        "Leaflet Maps and Planet's Tile Services/ Quads use a different coordinate reference system. So, we'll need to transform the above geometry to properly align our AOI and imagery.\n",
        "\n",
        "   - Leaflet CRS: `EPSG 4326`\n",
        "   - Planet CRS: `EPSG 3857`"
      ]
    },
    {
      "cell_type": "code",
      "execution_count": 26,
      "metadata": {
        "colab": {
          "base_uri": "https://localhost:8080/",
          "height": 211
        },
        "id": "Yy0MilpDPdtQ",
        "outputId": "b7cd41b7-7450-4854-f6d5-0cb126411ea4"
      },
      "outputs": [
        {
          "output_type": "error",
          "ename": "NameError",
          "evalue": "name 'rasterio' is not defined",
          "traceback": [
            "\u001b[0;31m---------------------------------------------------------------------------\u001b[0m",
            "\u001b[0;31mNameError\u001b[0m                                 Traceback (most recent call last)",
            "\u001b[0;32m/tmp/ipython-input-1015655928.py\u001b[0m in \u001b[0;36m<cell line: 0>\u001b[0;34m()\u001b[0m\n\u001b[1;32m      1\u001b[0m \u001b[0;31m# Transform AOI\u001b[0m\u001b[0;34m\u001b[0m\u001b[0;34m\u001b[0m\u001b[0m\n\u001b[0;32m----> 2\u001b[0;31m transformed_aoi = rasterio.warp.transform_geom(\n\u001b[0m\u001b[1;32m      3\u001b[0m     src_crs='EPSG:4326', dst_crs='EPSG:3857', geom=new_aoi, precision=6)\n\u001b[1;32m      4\u001b[0m \u001b[0;34m\u001b[0m\u001b[0m\n\u001b[1;32m      5\u001b[0m \u001b[0mpprint\u001b[0m\u001b[0;34m(\u001b[0m\u001b[0mtransformed_aoi\u001b[0m\u001b[0;34m)\u001b[0m\u001b[0;34m\u001b[0m\u001b[0;34m\u001b[0m\u001b[0m\n",
            "\u001b[0;31mNameError\u001b[0m: name 'rasterio' is not defined"
          ]
        }
      ],
      "source": [
        "# Transform AOI\n",
        "transformed_aoi = rasterio.warp.transform_geom(\n",
        "    src_crs='EPSG:4326', dst_crs='EPSG:3857', geom=new_aoi, precision=6)\n",
        "\n",
        "pprint(transformed_aoi)"
      ]
    },
    {
      "cell_type": "markdown",
      "metadata": {
        "id": "5Z-QRnU9PdtR"
      },
      "source": [
        "**Helper functions**"
      ]
    },
    {
      "cell_type": "code",
      "execution_count": 27,
      "metadata": {
        "id": "lNgznsVrPdtS"
      },
      "outputs": [],
      "source": [
        "def get_download_url(quad_url, auth):\n",
        "    \"\"\"\n",
        "    Utility function to get the target-quad download url\n",
        "\n",
        "    This enables reading Planet Quads using Rasterio without local download!\n",
        "    \"\"\"\n",
        "    resp = requests.get(quad_url,\n",
        "                        auth=auth,\n",
        "                        allow_redirects=False)\n",
        "\n",
        "    assert resp.status_code == 302\n",
        "\n",
        "    return resp.headers['Location']\n",
        "\n",
        "def get_geometry_bounds(aoi):\n",
        "    \"\"\"\n",
        "    Converts GeoJSON-like feature to Shapely geometry object.\n",
        "\n",
        "    Returns bounds of object\n",
        "    \"\"\"\n",
        "    geo_to_shape = shape(aoi)\n",
        "\n",
        "    xmin, ymin, xmax, ymax = geo_to_shape.bounds\n",
        "\n",
        "    return xmin, ymin, xmax, ymax\n",
        "\n",
        "def read_window(dataset, xmin, ymin, xmax, ymax):\n",
        "    \"\"\"\n",
        "    Performs a windowed read of a GeoTiff using the geometry bounds of an AOI\n",
        "\n",
        "    Returns the window as a 1 dimensional numpy array.\n",
        "    \"\"\"\n",
        "    windarray = dataset.read(\n",
        "        indexes=1,  # only reads the binary segmentation mask band\n",
        "        window=rasterio.windows.from_bounds(\n",
        "            xmin, ymin, xmax, ymax,\n",
        "            transform=dataset.transform))\n",
        "\n",
        "    return windarray\n",
        "\n",
        "def get_pixel_counts(windarray):\n",
        "    \"\"\"\n",
        "    Calculates the sum of non-zero (e.g. roads, buildings) pixels in an array\n",
        "    \"\"\"\n",
        "    return count_nonzero(windarray)"
      ]
    },
    {
      "cell_type": "markdown",
      "metadata": {
        "id": "pRcaI9PmPdtS"
      },
      "source": [
        "As a proof of concept, let's read in one Quad to get a sense of it's shape."
      ]
    },
    {
      "cell_type": "code",
      "execution_count": 28,
      "metadata": {
        "colab": {
          "base_uri": "https://localhost:8080/",
          "height": 193
        },
        "id": "tga3wm5uPdtT",
        "outputId": "4536dc67-f197-422d-d58c-68b9e2854767"
      },
      "outputs": [
        {
          "output_type": "error",
          "ename": "NameError",
          "evalue": "name 'quads' is not defined",
          "traceback": [
            "\u001b[0;31m---------------------------------------------------------------------------\u001b[0m",
            "\u001b[0;31mNameError\u001b[0m                                 Traceback (most recent call last)",
            "\u001b[0;32m/tmp/ipython-input-3885077311.py\u001b[0m in \u001b[0;36m<cell line: 0>\u001b[0;34m()\u001b[0m\n\u001b[0;32m----> 1\u001b[0;31m \u001b[0mfirst_quad_url\u001b[0m \u001b[0;34m=\u001b[0m \u001b[0mget_download_url\u001b[0m\u001b[0;34m(\u001b[0m\u001b[0mquads\u001b[0m\u001b[0;34m.\u001b[0m\u001b[0mloc\u001b[0m\u001b[0;34m[\u001b[0m\u001b[0;36m0\u001b[0m\u001b[0;34m,\u001b[0m \u001b[0;34m'roads_quad'\u001b[0m\u001b[0;34m]\u001b[0m\u001b[0;34m,\u001b[0m \u001b[0mauth\u001b[0m\u001b[0;34m=\u001b[0m\u001b[0mBASIC_AUTH\u001b[0m\u001b[0;34m)\u001b[0m\u001b[0;34m\u001b[0m\u001b[0;34m\u001b[0m\u001b[0m\n\u001b[0m\u001b[1;32m      2\u001b[0m \u001b[0;34m\u001b[0m\u001b[0m\n\u001b[1;32m      3\u001b[0m \u001b[0mex_quad\u001b[0m \u001b[0;34m=\u001b[0m \u001b[0mrasterio\u001b[0m\u001b[0;34m.\u001b[0m\u001b[0mopen\u001b[0m\u001b[0;34m(\u001b[0m\u001b[0mfirst_quad_url\u001b[0m\u001b[0;34m)\u001b[0m\u001b[0;34m\u001b[0m\u001b[0;34m\u001b[0m\u001b[0m\n\u001b[1;32m      4\u001b[0m \u001b[0mprint\u001b[0m\u001b[0;34m(\u001b[0m\u001b[0mex_quad\u001b[0m\u001b[0;34m.\u001b[0m\u001b[0mread\u001b[0m\u001b[0;34m(\u001b[0m\u001b[0;34m)\u001b[0m\u001b[0;34m.\u001b[0m\u001b[0mshape\u001b[0m\u001b[0;34m)\u001b[0m\u001b[0;34m\u001b[0m\u001b[0;34m\u001b[0m\u001b[0m\n",
            "\u001b[0;31mNameError\u001b[0m: name 'quads' is not defined"
          ]
        }
      ],
      "source": [
        "first_quad_url = get_download_url(quads.loc[0, 'roads_quad'], auth=BASIC_AUTH)\n",
        "\n",
        "ex_quad = rasterio.open(first_quad_url)\n",
        "print(ex_quad.read().shape)"
      ]
    },
    {
      "cell_type": "markdown",
      "metadata": {
        "id": "AnPK0U-4PdtU"
      },
      "source": [
        "As per the [docs](https://developers.planet.com/docs/analytics/apiresponse/#collections-for-raster-results), raster results are in the form of a two band GEOTIFF. The first band contains the binary mask data (this is what we are interested in!). The second band represents valid or invalid source imagery pixels."
      ]
    },
    {
      "cell_type": "markdown",
      "metadata": {
        "id": "VnbHqRpxPdtV"
      },
      "source": [
        "Now, let's read all of our Quads and store their pixel counts in a `pixel_counts` dictionary.\n",
        "\n",
        "Our AOI intersects two source quads, and the segmentation results overlay those quads for each of our time points. So, we'll be reading data from four quads for every point in our time series."
      ]
    },
    {
      "cell_type": "code",
      "execution_count": 29,
      "metadata": {
        "colab": {
          "base_uri": "https://localhost:8080/",
          "height": 211
        },
        "id": "hdt0aDASPdtW",
        "outputId": "4075b4f0-a54e-4472-d0bf-4199c7f1cf99"
      },
      "outputs": [
        {
          "output_type": "error",
          "ename": "NameError",
          "evalue": "name 'times' is not defined",
          "traceback": [
            "\u001b[0;31m---------------------------------------------------------------------------\u001b[0m",
            "\u001b[0;31mNameError\u001b[0m                                 Traceback (most recent call last)",
            "\u001b[0;32m/tmp/ipython-input-2000111033.py\u001b[0m in \u001b[0;36m<cell line: 0>\u001b[0;34m()\u001b[0m\n\u001b[1;32m      1\u001b[0m pixel_counts = {time: {'building_px': 0, 'road_px': 0, 'total_px': 0}\n\u001b[0;32m----> 2\u001b[0;31m                 for time in times}\n\u001b[0m\u001b[1;32m      3\u001b[0m \u001b[0;34m\u001b[0m\u001b[0m\n\u001b[1;32m      4\u001b[0m \u001b[0;31m# Get bounds of our AOI\u001b[0m\u001b[0;34m\u001b[0m\u001b[0;34m\u001b[0m\u001b[0m\n\u001b[1;32m      5\u001b[0m \u001b[0mxmin\u001b[0m\u001b[0;34m,\u001b[0m \u001b[0mymin\u001b[0m\u001b[0;34m,\u001b[0m \u001b[0mxmax\u001b[0m\u001b[0;34m,\u001b[0m \u001b[0mymax\u001b[0m \u001b[0;34m=\u001b[0m \u001b[0mget_geometry_bounds\u001b[0m\u001b[0;34m(\u001b[0m\u001b[0mtransformed_aoi\u001b[0m\u001b[0;34m)\u001b[0m\u001b[0;34m\u001b[0m\u001b[0;34m\u001b[0m\u001b[0m\n",
            "\u001b[0;31mNameError\u001b[0m: name 'times' is not defined"
          ]
        }
      ],
      "source": [
        "pixel_counts = {time: {'building_px': 0, 'road_px': 0, 'total_px': 0}\n",
        "                for time in times}\n",
        "\n",
        "# Get bounds of our AOI\n",
        "xmin, ymin, xmax, ymax = get_geometry_bounds(transformed_aoi)\n",
        "\n",
        "# This will take a little while...\n",
        "for time in tqdm(times):\n",
        "    building_pixels = 0\n",
        "    roads_pixels = 0\n",
        "\n",
        "    for idx, row in quads.loc[quads['date'] == time, :].iterrows():\n",
        "\n",
        "        # Get quad items urls\n",
        "        buildings_quad = row['buildings_quad']\n",
        "        roads_quad = row['roads_quad']\n",
        "\n",
        "        # Get quad download urls\n",
        "        buildings_url = get_download_url(buildings_quad, auth=BASIC_AUTH)\n",
        "        roads_url = get_download_url(roads_quad, auth=BASIC_AUTH)\n",
        "\n",
        "        # Read quad segmentation mask band\n",
        "        buildings_data = rasterio.open(buildings_url)\n",
        "        roads_data = rasterio.open(roads_url)\n",
        "\n",
        "        buildings_window = read_window(buildings_data, xmin, ymin, xmax, ymax)\n",
        "        roads_window = read_window(roads_data, xmin, ymin, xmax, ymax)\n",
        "\n",
        "        # Count buildings and road pixels\n",
        "        building_count = count_nonzero(buildings_window)\n",
        "        roads_count = count_nonzero(roads_window)\n",
        "\n",
        "        # Store in dictionary under time key\n",
        "        building_pixels += building_count\n",
        "        roads_pixels += roads_count\n",
        "\n",
        "    pixel_counts[time]['building_px'] = building_pixels\n",
        "    pixel_counts[time]['road_px'] = roads_pixels\n",
        "    pixel_counts[time]['total_px'] = building_pixels + roads_pixels"
      ]
    },
    {
      "cell_type": "markdown",
      "metadata": {
        "id": "TzSNsMoNPdtY"
      },
      "source": [
        "Converting `pixel_counts` to a dataframe will make plotting a breeze!"
      ]
    },
    {
      "cell_type": "code",
      "execution_count": 30,
      "metadata": {
        "colab": {
          "base_uri": "https://localhost:8080/",
          "height": 176
        },
        "id": "e_J35-NpPdtZ",
        "outputId": "69b0db3c-5ea6-49c4-8830-2d5439da6f4e"
      },
      "outputs": [
        {
          "output_type": "error",
          "ename": "NameError",
          "evalue": "name 'pixel_counts' is not defined",
          "traceback": [
            "\u001b[0;31m---------------------------------------------------------------------------\u001b[0m",
            "\u001b[0;31mNameError\u001b[0m                                 Traceback (most recent call last)",
            "\u001b[0;32m/tmp/ipython-input-3870686656.py\u001b[0m in \u001b[0;36m<cell line: 0>\u001b[0;34m()\u001b[0m\n\u001b[1;32m      1\u001b[0m pixel_counts = pd.DataFrame(\n\u001b[0;32m----> 2\u001b[0;31m     data=pixel_counts.values(), index=pixel_counts.keys())\n\u001b[0m\u001b[1;32m      3\u001b[0m \u001b[0mpixel_counts\u001b[0m\u001b[0;34m.\u001b[0m\u001b[0mhead\u001b[0m\u001b[0;34m(\u001b[0m\u001b[0;34m)\u001b[0m\u001b[0;34m\u001b[0m\u001b[0;34m\u001b[0m\u001b[0m\n",
            "\u001b[0;31mNameError\u001b[0m: name 'pixel_counts' is not defined"
          ]
        }
      ],
      "source": [
        "pixel_counts = pd.DataFrame(\n",
        "    data=pixel_counts.values(), index=pixel_counts.keys())\n",
        "pixel_counts.head()"
      ]
    },
    {
      "cell_type": "markdown",
      "metadata": {
        "id": "PQMAjavhPdta"
      },
      "source": [
        "# 8. Line Charts"
      ]
    },
    {
      "cell_type": "code",
      "execution_count": 31,
      "metadata": {
        "colab": {
          "base_uri": "https://localhost:8080/",
          "height": 667
        },
        "id": "eZUMSvGYPdtb",
        "outputId": "8f8e147c-f923-4e01-8308-567c48f2ca5c"
      },
      "outputs": [
        {
          "output_type": "error",
          "ename": "NameError",
          "evalue": "name 'times' is not defined",
          "traceback": [
            "\u001b[0;31m---------------------------------------------------------------------------\u001b[0m",
            "\u001b[0;31mNameError\u001b[0m                                 Traceback (most recent call last)",
            "\u001b[0;32m/tmp/ipython-input-4118087597.py\u001b[0m in \u001b[0;36m<cell line: 0>\u001b[0;34m()\u001b[0m\n\u001b[1;32m      4\u001b[0m \u001b[0mplt\u001b[0m\u001b[0;34m.\u001b[0m\u001b[0mtitle\u001b[0m\u001b[0;34m(\u001b[0m\u001b[0;34m'Building Pixels over Time'\u001b[0m\u001b[0;34m,\u001b[0m \u001b[0mfontdict\u001b[0m\u001b[0;34m=\u001b[0m\u001b[0;34m{\u001b[0m\u001b[0;34m'size'\u001b[0m\u001b[0;34m:\u001b[0m \u001b[0;36m18\u001b[0m\u001b[0;34m}\u001b[0m\u001b[0;34m)\u001b[0m\u001b[0;34m\u001b[0m\u001b[0;34m\u001b[0m\u001b[0m\n\u001b[1;32m      5\u001b[0m \u001b[0;34m\u001b[0m\u001b[0m\n\u001b[0;32m----> 6\u001b[0;31m plt.vlines(x=[idx for idx, time in enumerate(times) if time == '2017-09-01'][0],\n\u001b[0m\u001b[1;32m      7\u001b[0m            \u001b[0mymin\u001b[0m\u001b[0;34m=\u001b[0m\u001b[0mpixel_counts\u001b[0m\u001b[0;34m[\u001b[0m\u001b[0;34m'building_px'\u001b[0m\u001b[0;34m]\u001b[0m\u001b[0;34m.\u001b[0m\u001b[0mmin\u001b[0m\u001b[0;34m(\u001b[0m\u001b[0;34m)\u001b[0m\u001b[0;34m,\u001b[0m\u001b[0;34m\u001b[0m\u001b[0;34m\u001b[0m\u001b[0m\n\u001b[1;32m      8\u001b[0m            \u001b[0mymax\u001b[0m\u001b[0;34m=\u001b[0m\u001b[0mpixel_counts\u001b[0m\u001b[0;34m[\u001b[0m\u001b[0;34m'building_px'\u001b[0m\u001b[0;34m]\u001b[0m\u001b[0;34m.\u001b[0m\u001b[0mmax\u001b[0m\u001b[0;34m(\u001b[0m\u001b[0;34m)\u001b[0m\u001b[0;34m,\u001b[0m\u001b[0;34m\u001b[0m\u001b[0;34m\u001b[0m\u001b[0m\n",
            "\u001b[0;31mNameError\u001b[0m: name 'times' is not defined"
          ]
        },
        {
          "output_type": "display_data",
          "data": {
            "text/plain": [
              "<Figure size 1000x500 with 1 Axes>"
            ],
            "image/png": "[encoded data removed]"
          },
          "metadata": {}
        }
      ],
      "source": [
        "# Plot building pixels over time\n",
        "\n",
        "plt.figure(figsize=(10, 5))\n",
        "plt.title('Building Pixels over Time', fontdict={'size': 18})\n",
        "\n",
        "plt.vlines(x=[idx for idx, time in enumerate(times) if time == '2017-09-01'][0],\n",
        "           ymin=pixel_counts['building_px'].min(),\n",
        "           ymax=pixel_counts['building_px'].max(),\n",
        "           colors='r', linestyles='dashed', alpha=0.5)\n",
        "\n",
        "plt.vlines(x=[idx for idx, time in enumerate(times) if time == '2018-11-01'][0],\n",
        "           ymin=pixel_counts['building_px'].min(),\n",
        "           ymax=pixel_counts['building_px'].max(),\n",
        "           colors='r', linestyles='dashed', alpha=0.5)\n",
        "\n",
        "pixel_counts['building_px'].plot()"
      ]
    },
    {
      "cell_type": "markdown",
      "metadata": {
        "id": "gZZ55A6GPdtc"
      },
      "source": [
        "Looking at the above plot for building pixels, we can broadly quantify the change in buildings in our AOI over the time of our subscription. As indicated on the plot, we see a sudden spike in buildings from September to Novemeber 2017, as the IDP camp settles on the same penninsula. Then - despite some noise in the pixel counts - we can detect the drop in buildings at the end of 2018 as severe flooding alters the camp and surrounding landscape.\n",
        "\n",
        "Next, let's look at the pattern for roads."
      ]
    },
    {
      "cell_type": "code",
      "execution_count": 32,
      "metadata": {
        "colab": {
          "base_uri": "https://localhost:8080/",
          "height": 667
        },
        "id": "gXDK9H5oPdtd",
        "outputId": "29a7b518-9c3b-47e7-a228-262bb0db9b90"
      },
      "outputs": [
        {
          "output_type": "error",
          "ename": "NameError",
          "evalue": "name 'times' is not defined",
          "traceback": [
            "\u001b[0;31m---------------------------------------------------------------------------\u001b[0m",
            "\u001b[0;31mNameError\u001b[0m                                 Traceback (most recent call last)",
            "\u001b[0;32m/tmp/ipython-input-1284139895.py\u001b[0m in \u001b[0;36m<cell line: 0>\u001b[0;34m()\u001b[0m\n\u001b[1;32m      2\u001b[0m \u001b[0mplt\u001b[0m\u001b[0;34m.\u001b[0m\u001b[0mtitle\u001b[0m\u001b[0;34m(\u001b[0m\u001b[0;34m'Road Pixels over Time'\u001b[0m\u001b[0;34m,\u001b[0m \u001b[0mfontdict\u001b[0m\u001b[0;34m=\u001b[0m\u001b[0;34m{\u001b[0m\u001b[0;34m'size'\u001b[0m\u001b[0;34m:\u001b[0m \u001b[0;36m18\u001b[0m\u001b[0;34m}\u001b[0m\u001b[0;34m)\u001b[0m\u001b[0;34m\u001b[0m\u001b[0;34m\u001b[0m\u001b[0m\n\u001b[1;32m      3\u001b[0m \u001b[0;34m\u001b[0m\u001b[0m\n\u001b[0;32m----> 4\u001b[0;31m plt.vlines(x=[idx for idx, time in enumerate(times) if time == '2017-09-01'][0],\n\u001b[0m\u001b[1;32m      5\u001b[0m            \u001b[0mymin\u001b[0m\u001b[0;34m=\u001b[0m\u001b[0mpixel_counts\u001b[0m\u001b[0;34m[\u001b[0m\u001b[0;34m'road_px'\u001b[0m\u001b[0;34m]\u001b[0m\u001b[0;34m.\u001b[0m\u001b[0mmin\u001b[0m\u001b[0;34m(\u001b[0m\u001b[0;34m)\u001b[0m\u001b[0;34m,\u001b[0m\u001b[0;34m\u001b[0m\u001b[0;34m\u001b[0m\u001b[0m\n\u001b[1;32m      6\u001b[0m            \u001b[0mymax\u001b[0m\u001b[0;34m=\u001b[0m\u001b[0mpixel_counts\u001b[0m\u001b[0;34m[\u001b[0m\u001b[0;34m'road_px'\u001b[0m\u001b[0;34m]\u001b[0m\u001b[0;34m.\u001b[0m\u001b[0mmax\u001b[0m\u001b[0;34m(\u001b[0m\u001b[0;34m)\u001b[0m\u001b[0;34m,\u001b[0m\u001b[0;34m\u001b[0m\u001b[0;34m\u001b[0m\u001b[0m\n",
            "\u001b[0;31mNameError\u001b[0m: name 'times' is not defined"
          ]
        },
        {
          "output_type": "display_data",
          "data": {
            "text/plain": [
              "<Figure size 1000x500 with 1 Axes>"
            ],
            "image/png": "[encoded data removed]"
          },
          "metadata": {}
        }
      ],
      "source": [
        "plt.figure(figsize=(10, 5))\n",
        "plt.title('Road Pixels over Time', fontdict={'size': 18})\n",
        "\n",
        "plt.vlines(x=[idx for idx, time in enumerate(times) if time == '2017-09-01'][0],\n",
        "           ymin=pixel_counts['road_px'].min(),\n",
        "           ymax=pixel_counts['road_px'].max(),\n",
        "           colors='r', linestyles='dashed', alpha=0.5)\n",
        "\n",
        "plt.vlines(x=[idx for idx, time in enumerate(times) if time == '2018-11-01'][0],\n",
        "           ymin=pixel_counts['road_px'].min(),\n",
        "           ymax=pixel_counts['road_px'].max(),\n",
        "           colors='r', linestyles='dashed', alpha=0.5)\n",
        "\n",
        "pixel_counts['road_px'].plot()"
      ]
    },
    {
      "cell_type": "markdown",
      "metadata": {
        "id": "cPQtPk5GPdte"
      },
      "source": [
        "Our plot of road pixels over time shows a different trend. While also prone to some month-to-month noise, we can see early that the high number of road pixels is consistent with the construction of the roads scaffolding as early as August, 2017. After the flooding, we see a slight change in road pixels, too. However, this coincides with new road construction in an adjacent camp in our AOI.\n",
        "\n",
        "Finally, we can visualize the count of combined roads and buildings pixels."
      ]
    },
    {
      "cell_type": "code",
      "execution_count": 33,
      "metadata": {
        "colab": {
          "base_uri": "https://localhost:8080/",
          "height": 667
        },
        "id": "9lLXayTyPdtf",
        "outputId": "3d1e418b-edc5-4627-e8a4-df2310b3f990"
      },
      "outputs": [
        {
          "output_type": "error",
          "ename": "NameError",
          "evalue": "name 'times' is not defined",
          "traceback": [
            "\u001b[0;31m---------------------------------------------------------------------------\u001b[0m",
            "\u001b[0;31mNameError\u001b[0m                                 Traceback (most recent call last)",
            "\u001b[0;32m/tmp/ipython-input-3382722152.py\u001b[0m in \u001b[0;36m<cell line: 0>\u001b[0;34m()\u001b[0m\n\u001b[1;32m      3\u001b[0m \u001b[0mplt\u001b[0m\u001b[0;34m.\u001b[0m\u001b[0mtitle\u001b[0m\u001b[0;34m(\u001b[0m\u001b[0;34m'Roads & Buildings Pixels over Time'\u001b[0m\u001b[0;34m,\u001b[0m \u001b[0mfontdict\u001b[0m\u001b[0;34m=\u001b[0m\u001b[0;34m{\u001b[0m\u001b[0;34m'size'\u001b[0m\u001b[0;34m:\u001b[0m \u001b[0;36m18\u001b[0m\u001b[0;34m}\u001b[0m\u001b[0;34m)\u001b[0m\u001b[0;34m\u001b[0m\u001b[0;34m\u001b[0m\u001b[0m\n\u001b[1;32m      4\u001b[0m \u001b[0;34m\u001b[0m\u001b[0m\n\u001b[0;32m----> 5\u001b[0;31m plt.vlines(x=[idx for idx, time in enumerate(times) if time == '2017-09-01'][0],\n\u001b[0m\u001b[1;32m      6\u001b[0m            \u001b[0mymin\u001b[0m\u001b[0;34m=\u001b[0m\u001b[0mpixel_counts\u001b[0m\u001b[0;34m[\u001b[0m\u001b[0;34m'total_px'\u001b[0m\u001b[0;34m]\u001b[0m\u001b[0;34m.\u001b[0m\u001b[0mmin\u001b[0m\u001b[0;34m(\u001b[0m\u001b[0;34m)\u001b[0m\u001b[0;34m,\u001b[0m\u001b[0;34m\u001b[0m\u001b[0;34m\u001b[0m\u001b[0m\n\u001b[1;32m      7\u001b[0m            \u001b[0mymax\u001b[0m\u001b[0;34m=\u001b[0m\u001b[0mpixel_counts\u001b[0m\u001b[0;34m[\u001b[0m\u001b[0;34m'total_px'\u001b[0m\u001b[0;34m]\u001b[0m\u001b[0;34m.\u001b[0m\u001b[0mmax\u001b[0m\u001b[0;34m(\u001b[0m\u001b[0;34m)\u001b[0m\u001b[0;34m,\u001b[0m\u001b[0;34m\u001b[0m\u001b[0;34m\u001b[0m\u001b[0m\n",
            "\u001b[0;31mNameError\u001b[0m: name 'times' is not defined"
          ]
        },
        {
          "output_type": "display_data",
          "data": {
            "text/plain": [
              "<Figure size 1000x500 with 1 Axes>"
            ],
            "image/png": "[encoded data removed]"
          },
          "metadata": {}
        }
      ],
      "source": [
        "plt.figure(figsize=(10, 5))\n",
        "\n",
        "plt.title('Roads & Buildings Pixels over Time', fontdict={'size': 18})\n",
        "\n",
        "plt.vlines(x=[idx for idx, time in enumerate(times) if time == '2017-09-01'][0],\n",
        "           ymin=pixel_counts['total_px'].min(),\n",
        "           ymax=pixel_counts['total_px'].max(),\n",
        "           colors='r', linestyles='dashed', alpha=0.5)\n",
        "\n",
        "plt.vlines(x=[idx for idx, time in enumerate(times) if time == '2018-11-01'][0],\n",
        "           ymin=pixel_counts['total_px'].min(),\n",
        "           ymax=pixel_counts['total_px'].max(),\n",
        "           colors='r', linestyles='dashed', alpha=0.5)\n",
        "\n",
        "pixel_counts['total_px'].plot()"
      ]
    },
    {
      "cell_type": "markdown",
      "metadata": {
        "id": "SvmKfvKZPdth"
      },
      "source": [
        "Looking at the line chart for combined roads and buildings pixels, we can observe the overall trend in the development and change to this IDP camp. With this simple method of quantifying change, we can readily pick out specific time points with broader changes from a large time range.\n",
        "\n",
        "With Planet Analytic Feeds, change can be observed in near real-time, enabling enhanced monitoring capabilities, insights at the speed of change, and data-driven decisions."
      ]
    }
  ],
  "metadata": {
    "kernelspec": {
      "display_name": "Python 3 (ipykernel)",
      "language": "python",
      "name": "python3"
    },
    "language_info": {
      "codemirror_mode": {
        "name": "ipython",
        "version": 3
      },
      "file_extension": ".py",
      "mimetype": "text/x-python",
      "name": "python",
      "nbconvert_exporter": "python",
      "pygments_lexer": "ipython3",
      "version": "3.9.12"
    },
    "colab": {
      "provenance": []
    }
  },
  "nbformat": 4,
  "nbformat_minor": 0
}