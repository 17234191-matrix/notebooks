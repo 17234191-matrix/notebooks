{
 "cells": [
  {
   "attachments": {},
   "cell_type": "markdown",
   "metadata": {},
   "source": [
    "## Overview ##\n",
    "---\n",
    "In this notebook, you will learn how to order a [Planet Basemap](https://developers.planet.com/docs/data/visual-basemaps/) using your [Area of Interest](https://developers.planet.com/apis/orders/basemaps/#order-basemaps-by-area-of-interest-aoi) (AOI) and a [Quad ID](https://developers.planet.com/apis/orders/basemaps/#order-basemaps-by-quad-ids-and-deliver-to-cloud). We will place this order via Planet's [Orders API](https://developers.planet.com/apis/orders/) using our Planet Python [SDK](https://planet-sdk-for-python-v2.readthedocs.io/en/latest/python/sdk-guide/). \n",
    "\n",
    "First, you'll learn how to get a Basemap ID using either Planet Explorer or the Basemap Viewer. Then, you'll set up a JSON order packet, set up a session with the Planet SDK, and place the order.  \n"
   ]
  },
  {
   "attachments": {},
   "cell_type": "markdown",
   "metadata": {},
   "source": [
    "<a name=\"Get-a-basemap-ID\"></a> \n",
    "## Get a Basemap ID\n",
    "---\n",
    "\n",
    "You can get a Basemap ID from Planet Explorer or the Basemap Viewer.\n",
    "\n",
    "### Get a basemap ID from Planet Explorer\n",
    "You&#8217;ll need a basemap ID to identify what basemap to download.\n",
    "\n",
    "To pick a basemap, you can open <a href=\"https://www.planet.com/explorer/#\" target=\"_blank\">Planet Explorer</a> (you can learn more about Planet Explorer [here](https://developers.planet.com/docs/apps/explorer/)) and select a basemap from the dropdown menu in the lower left corner. (If you don't have access to basemaps, you'll see a message confirming in the lower right corner. Select \"Get Access\" to sign up for Basemaps or speak to your customer service manager.)\n",
    "\n",
    "Once you've selected a Basemap, the Explorer updates to include that basemap in the view.\n",
    "\n",
    "Select the search icon and time cadence, for example monthly or quarterly. Then select one of the resulting basemap IDs, such as \"global_monthly_2022_05_mosaic.\" That's the value you'll be passing into the Orders API. \n",
    "\n",
    "### Get a basemap ID from the Basemap Viewer\n",
    "\n",
    "To pick a basemap, you can open the [Basemap Viewer](https://www.planet.com/basemaps/#/mosaic/) (you can learn more about the Basemap Viewer [here](https://developers.planet.com/docs/apps/basemapsviewer/)) and select a basemap from the left sidebar menu, using the filter to narrow down the basemap you want. \n",
    "\n",
    "Once you've selected a basemap, and selected the right arrow >, the basemap ID displays, such as \"global_monthly_2022_01_mosaic.\" That's the value you'll be passing into the Orders API."
   ]
  },
  {
   "attachments": {},
   "cell_type": "markdown",
   "metadata": {},
   "source": [
    "<a name=\"how-to-get-started\"></a> \n",
    "## Start coding\n",
    "\n",
    "---\n",
    "\n",
    "Make sure you have Planet's Python package properly downloaded. You can find out more about this [here](https://developers.planet.com/docs/pythonclient/). Find your [API key](https://developers.planet.com/quickstart/apis/).\n",
    "\n",
    "Next set up a session by importing needed Python packages, pulling in your API Key, and make an initial request (to retrieve the Orders API parameters) to confirm a connection with the server."
   ]
  },
  {
   "cell_type": "code",
   "execution_count": null,
   "metadata": {},
   "outputs": [],
   "source": [
    "import os\n",
    "import requests\n",
    "from requests.auth import HTTPBasicAuth\n",
    "import json\n",
    "import time\n"
   ]
  },
  {
   "attachments": {},
   "cell_type": "markdown",
   "metadata": {},
   "source": [
    "<a name=\"setup-session\"></a> \n",
    "## Setup Session Using Orders API\n",
    "---\n",
    "The first step is to setup a session to access the Orders API. The Orders API can be used to download full mosaics, or to download individual parts of the mosaic known as quads. "
   ]
  },
  {
   "attachments": {},
   "cell_type": "markdown",
   "metadata": {},
   "source": [
    "### Create Session to Access API\n",
    "---\n",
    "Use your Planet API key for successful authentication. Here, the API key is saved to a .zsh file and imported into the Python script. You can also save your key in an environment variable. "
   ]
  },
  {
   "cell_type": "code",
   "execution_count": null,
   "metadata": {},
   "outputs": [],
   "source": [
    "PL_API_KEY = os.environ.get('PL_API_KEY')\n",
    "GCP_CREDENTIALS = os.environ.get('GCP_CREDENTIALS')\n",
    "orders_url = 'https://api.planet.com/compute/ops/orders/v2'\n",
    "auth = HTTPBasicAuth(PL_API_KEY, '')\n",
    "\n",
    "# Setup the session\n",
    "session = requests.Session()\n",
    "\n",
    "# Authenticate\n",
    "session.auth = (PL_API_KEY, '')\n"
   ]
  },
  {
   "cell_type": "markdown",
   "metadata": {},
   "source": [
    "### Send Request and Check Status Code\n",
    "---\n",
    "When sending the request, we will provide one parameter. Assuming we know the name of the mosaic, we can include those details in the request to access the corresponding metadata. After sending the request, let's check the status code to ensure it was successful."
   ]
  },
  {
   "cell_type": "markdown",
   "metadata": {},
   "source": [
    "Send a get request and print out the response, which should return `<Response [200]>`."
   ]
  },
  {
   "cell_type": "code",
   "execution_count": null,
   "metadata": {},
   "outputs": [],
   "source": [
    "response = requests.get(orders_url, auth=session.auth)\n",
    "print(response)\n"
   ]
  },
  {
   "attachments": {},
   "cell_type": "markdown",
   "metadata": {},
   "source": [
    "### Create an order packet\n",
    "---\n",
    "Package up the details of your order in a JSON object and make a POST request, passing in the Orders URL, your JSON, your API key, and the content-type header. In this request, we are also using the tools [Merge](https://developers.planet.com/apis/orders/tools/#merge) and [Clip](https://developers.planet.com/apis/orders/tools/#clip). "
   ]
  },
  {
   "cell_type": "code",
   "execution_count": null,
   "metadata": {},
   "outputs": [],
   "source": [
    "order_params = {\n",
    "    \"name\": \"basemap order with geometry\",\n",
    "    \"source_type\": \"basemaps\",\n",
    "    \"order_type\": \"partial\",\n",
    "    \"products\": [\n",
    "        {\n",
    "            \"mosaic_name\": \"global_monthly_2022_01_mosaic\",\n",
    "            \"geometry\": {\n",
    "                \"type\": \"Polygon\",\n",
    "                \"coordinates\": [\n",
    "                   [\n",
    "                       [4.607406, 52.353994],\n",
    "                       [4.680005, 52.353994],\n",
    "                       [4.680005, 52.395523],\n",
    "                       [4.607406, 52.395523],\n",
    "                       [4.607406, 52.353994]\n",
    "                   ]\n",
    "                ]\n",
    "            }\n",
    "        }\n",
    "    ],\n",
    "    \"tools\": [\n",
    "        {\"merge\": {}},\n",
    "        {\"clip\": {}}\n",
    "\n",
    "\n",
    "    ],\n",
    "    \"delivery\": {\n",
    "        \"google_cloud_storage\": {\n",
    "            \"bucket\": \"devrel-notebooks\",\n",
    "            \"credentials\": GCP_CREDENTIALS,\n",
    "            \"path_prefix\": \"basemaps-to-cloud/\"\n",
    "        }\n",
    "\n",
    "\n",
    "    }\n",
    "}\n"
   ]
  },
  {
   "cell_type": "markdown",
   "metadata": {},
   "source": [
    "### Print the response object\n",
    "---\n",
    "Retrieve the response object as text to print out if there are no errors."
   ]
  },
  {
   "cell_type": "code",
   "execution_count": null,
   "metadata": {},
   "outputs": [],
   "source": [
    "ORDERS_API_URL = 'https://api.planet.com/compute/ops/orders/v2'\n",
    "headers = {'content-type': 'application/json'}\n",
    "param_req = requests.post(ORDERS_API_URL, data=json.dumps(\n",
    "    order_params), auth=auth, headers={'content-type': 'application/json'})\n",
    "\n",
    "print(param_req.text)\n"
   ]
  },
  {
   "attachments": {},
   "cell_type": "markdown",
   "metadata": {},
   "source": [
    "### Place the order\n",
    "---\n",
    "The following code places the order."
   ]
  },
  {
   "cell_type": "code",
   "execution_count": null,
   "metadata": {},
   "outputs": [],
   "source": [
    "def place_order(order_params, auth):\n",
    "    response = requests.post(ORDERS_API_URL, data=json.dumps(\n",
    "        order_params), auth=auth, headers=headers)\n",
    "    order_id = response.json()['id']\n",
    "    order_url = ORDERS_API_URL + '/' + order_id\n",
    "    return order_url\n"
   ]
  },
  {
   "cell_type": "code",
   "execution_count": null,
   "metadata": {},
   "outputs": [],
   "source": [
    "order_url = place_order(order_params, session.auth)\n"
   ]
  },
  {
   "cell_type": "markdown",
   "metadata": {},
   "source": [
    "### Poll for data success\n",
    "---\n",
    "When you're ready to pull the data, you can poll for when it's ready. Here, the polling is limited to a number of loops routine."
   ]
  },
  {
   "cell_type": "code",
   "execution_count": null,
   "metadata": {},
   "outputs": [],
   "source": [
    "def poll_for_success(order_url, auth, num_loops=30):\n",
    "    count = 0\n",
    "    while(count < num_loops):\n",
    "        count += 1\n",
    "        r = requests.get(order_url, auth=session.auth)\n",
    "        response = r.json()\n",
    "        state = response['state']\n",
    "        print(state)\n",
    "        end_states = ['success', 'failed', 'partial']\n",
    "        if state in end_states:\n",
    "            break\n",
    "        time.sleep(10)\n"
   ]
  },
  {
   "cell_type": "code",
   "execution_count": null,
   "metadata": {},
   "outputs": [],
   "source": [
    "poll_for_success(order_url, auth)\n"
   ]
  },
  {
   "cell_type": "code",
   "execution_count": null,
   "metadata": {},
   "outputs": [],
   "source": [
    "r = requests.get(order_url, auth=session.auth)\n",
    "response = r.json()\n",
    "results = response['_links']['results']\n",
    "\n",
    "print([r['name'] for r in results])\n"
   ]
  },
  {
   "cell_type": "markdown",
   "metadata": {},
   "source": [
    "<a name=\"Get-quad-IDs\"></a> \n",
    "## Get quad IDs\n",
    "---\n",
    "\n",
    "You can get a basemap ID from Planet Explorer or the Basemap Viewer, as described in jupyter-notebooks/quad_tutorial/basemaps_ordersv2_aoi.ipynb. Each basemap is broken down into quads. To get the quad IDs for a basemap:\n",
    "\n",
    "1. In the Basemap Viewer, enter your basemap ID, such as point_reyes_rolling_normalized_2020-04-30_mosaic\n",
    "2. On the resulting basemap, select the arrow to view the quads and scenes, for example: 325-1260,326-1260,325-1259,326-1259\n"
   ]
  },
  {
   "attachments": {},
   "cell_type": "markdown",
   "metadata": {},
   "source": [
    "## Use Basemaps API to get the Basemap and Quad IDs\n",
    "---\n",
    "\n",
    "Use the Basemap APIs to retrieve the basemap you want and the quad IDs. You can get the base URL you'll need to communicate with the Basemap API service:\n",
    "\n",
    "1. Go to the [Basemap API reference](https://developers.planet.com/docs/basemaps/reference/) at https://developers.planet.com/docs/basemaps/reference/. \n",
    "2. Under List Mosaics, select GET /mosaics.\n",
    "\n",
    "A dropdown UI element appears with the URL to use:\n",
    "\n",
    "https://api.planet.com/basemaps/v1/mosaics\n"
   ]
  },
  {
   "attachments": {},
   "cell_type": "markdown",
   "metadata": {},
   "source": [
    "#### Search for the mosaic ID to get its quad IDs\n",
    "\n",
    "Here, we are using the full name of the mosaic, but with the `name__contains` field, you can use a partial name based on the names of the mosaics available through your account.\n",
    "\n",
    "Declare the search string for `requests.get()`. You will use the dictionary you create with the mosaic name to pass to the requests.get() function.\n"
   ]
  },
  {
   "cell_type": "code",
   "execution_count": null,
   "metadata": {},
   "outputs": [],
   "source": [
    "BASEMAP_API_URL = 'https://api.planet.com/basemaps/v1/mosaics'\n",
    "headers = {'content-type': 'application/json'}\n",
    "\n",
    "basemap_params = {\n",
    "    'name__contains': 'point_reyes_rolling_normalized_2020-04-30_mosaic'\n",
    "}\n",
    "\n",
    "basemapServiceResponse = requests.get(\n",
    "    url=BASEMAP_API_URL, params=basemap_params, auth=auth, headers=headers)\n",
    "\n",
    "basemaps = basemapServiceResponse.raise_for_status()\n",
    "if basemapServiceResponse.status_code != 204:\n",
    "    basemaps = json.loads(basemapServiceResponse.text)\n"
   ]
  },
  {
   "cell_type": "code",
   "execution_count": null,
   "metadata": {},
   "outputs": [],
   "source": [
    "mosaicID = basemaps['mosaics'][0]['id']\n",
    "mosaicBbox = basemaps['mosaics'][0]['bbox']\n",
    "mosaicBboxStr = ','.join(map(str, mosaicBbox))\n",
    "\n",
    "quad_params = {\n",
    "    'mosaic_id': mosaicID,\n",
    "    'bbox': mosaicBboxStr,\n",
    "}\n",
    "\n",
    "quads_url = \"{}/{}/quads\".format(BASEMAP_API_URL, mosaicID)\n",
    "quadServiceResponse = requests.get(\n",
    "    url=quads_url, params=quad_params, auth=auth, headers=headers)\n",
    "quads = quadServiceResponse.json()\n",
    "items = quads['items']\n",
    "\n",
    "quadIds = []\n",
    "for i in items:\n",
    "    quadId = i['id']\n",
    "    quadIds.append(quadId)\n"
   ]
  },
  {
   "attachments": {},
   "cell_type": "markdown",
   "metadata": {},
   "source": [
    "### Create an order packet\n",
    "---\n",
    "Package up the details of your order in a JSON object and make a POST request, passing in the Orders URL, your JSON, your API key, and the content-type header. In this example, we are using the tools [Bandmath](https://developers.planet.com/apis/orders/tools/#band-math) and [Reproject](https://developers.planet.com/apis/orders/tools/#reproject)."
   ]
  },
  {
   "cell_type": "code",
   "execution_count": null,
   "metadata": {},
   "outputs": [],
   "source": [
    "order_params = {\n",
    "    \"name\": \"basemap order with quad_ids\",\n",
    "    \"source_type\": \"basemaps\",\n",
    "    \"products\": [\n",
    "        {\n",
    "            \"mosaic_name\": \"point_reyes_rolling_normalized_2020-04-30_mosaic\",\n",
    "            \"quad_ids\": quadIds\n",
    "        }\n",
    "    ],\n",
    "    \"tools\": [\n",
    "        {\n",
    "            \"reproject\": {\n",
    "                \"projection\": \"EPSG:4326\",\n",
    "                \"resolution\": 3.0 / 111000.0,\n",
    "                \"kernel\": \"cubic\"\n",
    "            }\n",
    "        },\n",
    "        {\n",
    "            \"bandmath\": {\n",
    "                \"b1\": \"b1\",\n",
    "                \"b2\": \"b2\",\n",
    "                \"b3\": \"b3\",\n",
    "                \"b4\": \"arctan(b1)\",\n",
    "                \"b5\": \"(b4-b3)/(b4+b3)\",\n",
    "                \"pixel_type\": \"32R\"\n",
    "            }\n",
    "        }\n",
    "    ],\n",
    "    \"delivery\": {\n",
    "        \"google_cloud_storage\": {\n",
    "            \"bucket\": \"devrel-notebooks\",\n",
    "            \"credentials\": GCP_CREDENTIALS,\n",
    "            \"path_prefix\": \"basemaps-to-cloud/\",\n",
    "        }\n",
    "    }\n",
    "}\n"
   ]
  },
  {
   "cell_type": "markdown",
   "metadata": {},
   "source": [
    "### Send Request and Check Status Code\n",
    "---\n",
    "When sending the request, we will provide one parameter. Assuming we know the name of the mosaic, we can include those details in the request to access the corresponding metadata. After sending the request, let's check the status code to ensure it was successful."
   ]
  },
  {
   "cell_type": "markdown",
   "metadata": {},
   "source": [
    "Send a get request and print out the response, which should return `<Response [200]>`."
   ]
  },
  {
   "cell_type": "code",
   "execution_count": null,
   "metadata": {},
   "outputs": [],
   "source": [
    "paramRes = requests.post(ORDERS_API_URL, data=json.dumps(\n",
    "    order_params), auth=auth, headers=headers)\n",
    "\n",
    "paramRes.raise_for_status()\n",
    "if paramRes.status_code != 204:\n",
    "    print(paramRes.text)\n"
   ]
  },
  {
   "cell_type": "code",
   "execution_count": null,
   "metadata": {},
   "outputs": [],
   "source": [
    "r = requests.get(order_url, auth=session.auth)\n",
    "response = r.json()\n",
    "results = response['_links']['results']\n"
   ]
  },
  {
   "attachments": {},
   "cell_type": "markdown",
   "metadata": {},
   "source": [
    "### Check your results \n",
    "\n",
    "After a few simple steps, we have basemaps ordered to our Google Cloud Platform bucket using the Orders API and Python Requests Library. For more information, check out the docs here. \n"
   ]
  }
 ],
 "metadata": {
  "kernelspec": {
   "display_name": "base",
   "language": "python",
   "name": "python3"
  },
  "language_info": {
   "codemirror_mode": {
    "name": "ipython",
    "version": 3
   },
   "file_extension": ".py",
   "mimetype": "text/x-python",
   "name": "python",
   "nbconvert_exporter": "python",
   "pygments_lexer": "ipython3",
   "version": "3.9.12"
  },
  "orig_nbformat": 4,
  "vscode": {
   "interpreter": {
    "hash": "40d3a090f54c6569ab1632332b64b2c03c39dcf918b08424e98f38b5ae0af88f"
   }
  }
 },
 "nbformat": 4,
 "nbformat_minor": 2
}
