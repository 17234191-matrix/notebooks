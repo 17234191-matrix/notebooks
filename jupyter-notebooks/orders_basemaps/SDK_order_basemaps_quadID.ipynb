{
 "cells": [
  {
   "attachments": {},
   "cell_type": "markdown",
   "metadata": {},
   "source": [
    "# Order a Basemap Using the Orders API via Quad ID\n",
    "---\n",
    "\n",
    "## Overview ##\n",
    "---\n",
    "Download Basemap quads based on the mosaic name and quad IDs.\n",
    "\n",
    "For example:\n",
    "point_reyes_rolling_normalized_2020-04-30_mosaic\n",
    "\n",
    "and\n",
    "\n",
    "325-1260,326-1260,325-1259,326-1259\n"
   ]
  },
  {
   "attachments": {},
   "cell_type": "markdown",
   "metadata": {},
   "source": [
    "<a name=\"Get-quad-IDs\"></a> \n",
    "## Get quad IDs\n",
    "---\n",
    "\n",
    "You can get a basemap ID from Planet Explorer or the Basemap Viewer, as described in jupyter-notebooks/quad_tutorial/basemaps_ordersv2_aoi.ipynb. Each basemap is broken down into quads. To get the quad IDs for a basemap:\n",
    "\n",
    "1. In the Basemap Viewer, enter your basemap ID, such as point_reyes_rolling_normalized_2020-04-30_mosaic\n",
    "2. On the resulting basemap, select the arrow to view the quads and scenes, for example: 325-1260,326-1260,325-1259,326-1259\n"
   ]
  },
  {
   "attachments": {},
   "cell_type": "markdown",
   "metadata": {},
   "source": [
    "<a name=\"how-to-get-started\"></a> \n",
    "## Start coding\n",
    "\n",
    "---\n",
    "Next set up a session by importing needed Python packages, pulling in your API Key, and make an initial request (to retrieve the Orders API parameters) to confirm a connection with the server."
   ]
  },
  {
   "cell_type": "code",
   "execution_count": 18,
   "metadata": {},
   "outputs": [],
   "source": [
    "import planet\n",
    "import os\n",
    "import requests\n",
    "from requests.auth import HTTPBasicAuth\n",
    "import json\n",
    "from planet import Auth\n",
    "from planet import OrdersClient\n",
    "from planet import Session"
   ]
  },
  {
   "cell_type": "code",
   "execution_count": 19,
   "metadata": {},
   "outputs": [],
   "source": [
    "ORDERS_API_URL = 'https://api.planet.com/compute/ops/orders/v2'\n",
    "API_KEY = os.environ.get('PL_API_KEY')\n",
    "GCP_CREDENTIALS = os.environ.get('GCP_CREDENTIALS')\n",
    "orders_url = 'https://api.planet.com/compute/ops/orders/v2' \n",
    "auth = HTTPBasicAuth(API_KEY, '')\n",
    "\n",
    "    \n",
    "# Setup the session\n",
    "session = requests.Session()\n",
    "\n",
    "# Authenticate\n",
    "session.auth = (API_KEY, \"\")"
   ]
  },
  {
   "attachments": {},
   "cell_type": "markdown",
   "metadata": {},
   "source": [
    "### Send Request and Check Status Code\n",
    "---\n",
    "When sending the request, we will provide one parameter. Assuming we know the name of the mosaic, we can include those details in the request to access the corresponding metadata. After sending the request, let's check the status code to ensure it was successful.\n",
    "\n",
    "Send a get request and print out the response, which should return `<Response [200]>`."
   ]
  },
  {
   "cell_type": "code",
   "execution_count": 20,
   "metadata": {},
   "outputs": [
    {
     "data": {
      "text/plain": [
       "<Response [200]>"
      ]
     },
     "execution_count": 20,
     "metadata": {},
     "output_type": "execute_result"
    }
   ],
   "source": [
    "response = requests.get(orders_url, auth=session.auth)\n",
    "response"
   ]
  },
  {
   "attachments": {},
   "cell_type": "markdown",
   "metadata": {},
   "source": [
    "## Use Basemaps API to get the Basemap and quad IDs\n",
    "---\n",
    "\n",
    "Use the Basemap APIs to retrieve the basemap you want and the quad IDs. You can get the base URL you'll need to communicate with the Basemap API service:\n",
    "\n",
    "1. Go to the [Basemap API reference](https://developers.planet.com/docs/basemaps/reference/) at https://developers.planet.com/docs/basemaps/reference/. \n",
    "2. Under List Mosaics, select GET /mosaics.\n",
    "\n",
    "A dropdown UI element appears with the URL to use:\n",
    "\n",
    "https://api.planet.com/basemaps/v1/mosaics\n"
   ]
  },
  {
   "attachments": {},
   "cell_type": "markdown",
   "metadata": {},
   "source": [
    "#### Search for the mosaic ID to get its quad IDs\n",
    "\n",
    "Here, we are using the full name of the mosaic, but with the `name__contains` field, you can use a partial name based on the names of the mosaics available through your account.\n",
    "\n",
    "Declare the search string for `requests.get()`. You will use the dictionary you create with the mosaic name to pass to the requests.get() function.\n"
   ]
  },
  {
   "cell_type": "code",
   "execution_count": 21,
   "metadata": {},
   "outputs": [
    {
     "name": "stdout",
     "output_type": "stream",
     "text": [
      "{'_links': {'_self': 'https://api.planet.com/basemaps/v1/mosaics?api_key=PLAK86876acc5caa4ce4b06fa1b07a0b0d06'}, 'mosaics': [{'_links': {'_self': 'https://api.planet.com/basemaps/v1/mosaics/b7bed9c8-4dc7-4ecc-9968-d6b9fbcdcf3c?api_key=PLAK86876acc5caa4ce4b06fa1b07a0b0d06', 'quads': 'https://api.planet.com/basemaps/v1/mosaics/b7bed9c8-4dc7-4ecc-9968-d6b9fbcdcf3c/quads?api_key=PLAK86876acc5caa4ce4b06fa1b07a0b0d06&bbox={lx},{ly},{ux},{uy}', 'tiles': 'https://tiles.planet.com/basemaps/v1/planet-tiles/point_reyes_rolling_normalized_2020-04-30_mosaic/gmap/{z}/{x}/{y}.png?api_key=PLAK86876acc5caa4ce4b06fa1b07a0b0d06'}, 'bbox': [-123.22265623283, 37.857507151805, -122.519531232927, 38.548165418546], 'coordinate_system': 'EPSG:3857', 'datatype': 'uint16', 'first_acquired': '2020-04-01T00:00:00.000Z', 'grid': {'quad_size': 4096, 'resolution': 4.77731426716}, 'id': 'b7bed9c8-4dc7-4ecc-9968-d6b9fbcdcf3c', 'interval': '1 day', 'item_types': ['PSScene4Band'], 'last_acquired': '2020-05-01T00:00:00.000Z', 'level': 15, 'name': 'point_reyes_rolling_normalized_2020-04-30_mosaic', 'product_type': 'timelapse', 'quad_download': True}]}\n"
     ]
    }
   ],
   "source": [
    "BASEMAP_API_URL = 'https://api.planet.com/basemaps/v1/mosaics'\n",
    "headers = {'content-type': 'application/json'}\n",
    "\n",
    "basemap_params = {\n",
    "    'name__contains': 'point_reyes_rolling_normalized_2020-04-30_mosaic'\n",
    "}\n",
    "\n",
    "basemapServiceResponse = requests.get(url=BASEMAP_API_URL, params=basemap_params, auth=auth, headers=headers)\n",
    "\n",
    "basemaps = basemapServiceResponse.raise_for_status()\n",
    "if basemapServiceResponse.status_code != 204:\n",
    "    basemaps = json.loads(basemapServiceResponse.text)\n",
    "print(basemaps)"
   ]
  },
  {
   "cell_type": "code",
   "execution_count": 22,
   "metadata": {},
   "outputs": [],
   "source": [
    "mosaicID = basemaps['mosaics'][0]['id']\n",
    "mosaicBbox = basemaps['mosaics'][0]['bbox']\n",
    "mosaicBboxStr = ','.join(map(str, mosaicBbox))\n",
    "\n",
    "quad_params = {\n",
    "    'mosaic_id': mosaicID,\n",
    "    'bbox': mosaicBboxStr,\n",
    "}\n",
    "\n",
    "quads_url = \"{}/{}/quads\".format(BASEMAP_API_URL, mosaicID)\n",
    "quadServiceResponse = requests.get(url=quads_url, params=quad_params, auth=auth, headers=headers)\n",
    "quads = quadServiceResponse.json()\n",
    "items = quads['items']\n",
    "\n",
    "quadIds = []\n",
    "for i in items:\n",
    "    quadId = i['id']\n",
    "    quadIds.append(quadId)"
   ]
  },
  {
   "attachments": {},
   "cell_type": "markdown",
   "metadata": {},
   "source": [
    "### Create an order packet\n",
    "---\n",
    "Package up the details of your order in a JSON object and make a POST request, passing in the Orders URL, your JSON, your API key, and the content-type header. "
   ]
  },
  {
   "cell_type": "code",
   "execution_count": 23,
   "metadata": {},
   "outputs": [],
   "source": [
    "order_params = {\n",
    "   \"name\":\"basemap order with quad_ids\",\n",
    "   \"source_type\":\"basemaps\",\n",
    "   \"products\":[\n",
    "      {\n",
    "         \"mosaic_name\":\"point_reyes_rolling_normalized_2020-04-30_mosaic\",\n",
    "         \"quad_ids\": quadIds\n",
    "      }\n",
    "   ],\n",
    "    \"tools\": [\n",
    "      {\n",
    "         \"reproject\": {\n",
    "        \"projection\": \"EPSG:4326\",\n",
    "        \"resolution\": 3.0 / 111000.0,\n",
    "        \"kernel\": \"cubic\"\n",
    "      }\n",
    "      },\n",
    "      {\n",
    "      \"bandmath\": {\n",
    "        \"b1\": \"b1\",\n",
    "        \"b2\": \"b2\",\n",
    "        \"b3\": \"b3\",\n",
    "        \"b4\": \"arctan(b1)\",\n",
    "        \"b5\": \"(b4-b3)/(b4+b3)\",\n",
    "        \"pixel_type\": \"32R\"\n",
    "      }\n",
    "      \n",
    "      }\n",
    "   \n",
    "    ],\n",
    "\n",
    "    \n",
    "   \"delivery\":{\n",
    "      \"google_cloud_storage\":{\n",
    "         \"bucket\":\"notebook-practice\",\n",
    "         \"credentials\":GCP_CREDENTIALS,\n",
    "         \"path_prefix\":\"basemaps-to-cloud/\",\n",
    "      }\n",
    "   }\n",
    "}"
   ]
  },
  {
   "attachments": {},
   "cell_type": "markdown",
   "metadata": {},
   "source": [
    "### Create a session with SDK and poll for success\n",
    "\n",
    "Here, we are creating a session with the SDK and creating the order using the order parameters. Then, we are polling for success. This may take a few minutes to complete.\n",
    "\n"
   ]
  },
  {
   "cell_type": "code",
   "execution_count": 24,
   "metadata": {},
   "outputs": [
    {
     "name": "stderr",
     "output_type": "stream",
     "text": [
      "00:05 - order 5523bb2a-d69a-4060-adb8-24599658b0b5 - state: failed \n"
     ]
    }
   ],
   "source": [
    "with planet.reporting.StateBar(state='creating') as reporter:\n",
    "    async with Session() as sess:\n",
    "        client = OrdersClient(sess)\n",
    "        # perform operations here\n",
    "        order = await client.create_order(order_params)\n",
    "        reporter.update(state='created', order_id=order['id'])\n",
    "        await client.wait(order['id'], callback=reporter.update_state,\n",
    "                        max_attempts=0)"
   ]
  },
  {
   "attachments": {},
   "cell_type": "markdown",
   "metadata": {},
   "source": [
    "### Download the order\n",
    "\n",
    "Finally, we download the order using download_order from the SDK and print the result."
   ]
  },
  {
   "cell_type": "code",
   "execution_count": 1,
   "metadata": {},
   "outputs": [
    {
     "ename": "NameError",
     "evalue": "name 'order' is not defined",
     "output_type": "error",
     "traceback": [
      "\u001b[0;31m---------------------------------------------------------------------------\u001b[0m",
      "\u001b[0;31mNameError\u001b[0m                                 Traceback (most recent call last)",
      "\u001b[1;32m/Users/em.steuer/repos/notebooks/jupyter-notebooks/orders_basemaps/SDK_order_basemaps_quadID.ipynb Cell 19\u001b[0m in \u001b[0;36m<cell line: 12>\u001b[0;34m()\u001b[0m\n\u001b[1;32m     <a href='vscode-notebook-cell:/Users/em.steuer/repos/notebooks/jupyter-notebooks/orders_basemaps/SDK_order_basemaps_quadID.ipynb#X24sZmlsZQ%3D%3D?line=9'>10</a>\u001b[0m     \u001b[39m# download\u001b[39;00m\n\u001b[1;32m     <a href='vscode-notebook-cell:/Users/em.steuer/repos/notebooks/jupyter-notebooks/orders_basemaps/SDK_order_basemaps_quadID.ipynb#X24sZmlsZQ%3D%3D?line=10'>11</a>\u001b[0m     \u001b[39mawait\u001b[39;00m client\u001b[39m.\u001b[39mdownload_order(order[\u001b[39m'\u001b[39m\u001b[39mid\u001b[39m\u001b[39m'\u001b[39m], directory, progress_bar\u001b[39m=\u001b[39m\u001b[39mTrue\u001b[39;00m)\n\u001b[0;32m---> <a href='vscode-notebook-cell:/Users/em.steuer/repos/notebooks/jupyter-notebooks/orders_basemaps/SDK_order_basemaps_quadID.ipynb#X24sZmlsZQ%3D%3D?line=11'>12</a>\u001b[0m \u001b[39mprint\u001b[39m(order)\n",
      "\u001b[0;31mNameError\u001b[0m: name 'order' is not defined"
     ]
    }
   ],
   "source": [
    "async def create_and_download(order_detail, directory, client):\n",
    "    with planet.reporting.StateBar(state='creating') as reporter:\n",
    "        # create\n",
    "        order = await client.create_order(order_detail)\n",
    "        reporter.update(state='created', order_id=order['id'])\n",
    "\n",
    "        # wait for completion\n",
    "        await client.wait(order['id'], callback=reporter.update_state)\n",
    "\n",
    "    # download\n",
    "    await client.download_order(order['id'], directory, progress_bar=True)\n",
    "print(order)"
   ]
  }
 ],
 "metadata": {
  "kernelspec": {
   "display_name": "Python 3.9.12 ('base')",
   "language": "python",
   "name": "python3"
  },
  "language_info": {
   "codemirror_mode": {
    "name": "ipython",
    "version": 3
   },
   "file_extension": ".py",
   "mimetype": "text/x-python",
   "name": "python",
   "nbconvert_exporter": "python",
   "pygments_lexer": "ipython3",
   "version": "3.9.12"
  },
  "orig_nbformat": 4,
  "vscode": {
   "interpreter": {
    "hash": "40d3a090f54c6569ab1632332b64b2c03c39dcf918b08424e98f38b5ae0af88f"
   }
  }
 },
 "nbformat": 4,
 "nbformat_minor": 2
}
