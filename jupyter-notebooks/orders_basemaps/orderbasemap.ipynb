{
 "cells": [
  {
   "cell_type": "markdown",
   "metadata": {},
   "source": [
    "## Ordering Basemaps via Orders API"
   ]
  },
  {
   "cell_type": "code",
   "execution_count": 1,
   "metadata": {},
   "outputs": [],
   "source": [
    "import planet\n",
    "import os\n",
    "import requests\n",
    "from requests.auth import HTTPBasicAuth\n",
    "import json\n",
    "import time\n",
    "import pathlib"
   ]
  },
  {
   "cell_type": "code",
   "execution_count": null,
   "metadata": {},
   "outputs": [],
   "source": []
  },
  {
   "cell_type": "markdown",
   "metadata": {},
   "source": [
    "### Ordering a Basemap via an AOI  "
   ]
  },
  {
   "cell_type": "markdown",
   "metadata": {},
   "source": [
    "step 1: find name of basemap on:\n",
    "    planet explorer\n",
    "    basemap api URL\n"
   ]
  },
  {
   "cell_type": "markdown",
   "metadata": {},
   "source": [
    "step 2: create order"
   ]
  },
  {
   "cell_type": "code",
   "execution_count": null,
   "metadata": {},
   "outputs": [],
   "source": []
  },
  {
   "cell_type": "code",
   "execution_count": null,
   "metadata": {},
   "outputs": [],
   "source": []
  },
  {
   "cell_type": "code",
   "execution_count": 2,
   "metadata": {},
   "outputs": [],
   "source": [
    "API_KEY = os.environ.get('PL_API_KEY')\n",
    "GCP_CREDENTIALS = os.environ.get('GCP_CREDENTIALS')\n",
    "orders_url = 'https://api.planet.com/compute/ops/orders/v2' \n",
    "auth = HTTPBasicAuth(API_KEY, '')\n",
    "    \n",
    "# Setup the session\n",
    "session = requests.Session()\n",
    "\n",
    "# Authenticate\n",
    "session.auth = (API_KEY, \"\")"
   ]
  },
  {
   "cell_type": "code",
   "execution_count": 3,
   "metadata": {},
   "outputs": [
    {
     "data": {
      "text/plain": [
       "<Response [200]>"
      ]
     },
     "execution_count": 3,
     "metadata": {},
     "output_type": "execute_result"
    }
   ],
   "source": [
    "response = requests.get(orders_url, auth=session.auth)\n",
    "response"
   ]
  },
  {
   "cell_type": "code",
   "execution_count": 4,
   "metadata": {},
   "outputs": [],
   "source": [
    "order_params = {\n",
    "   \"name\": \"basemap order with geometry\",\n",
    "   \"source_type\": \"basemaps\",\n",
    "   \"order_type\":\"partial\",\n",
    "   \"products\": [\n",
    "       {\n",
    "           \"mosaic_name\": \"global_monthly_2022_01_mosaic\",\n",
    "           \"geometry\":{\n",
    "               \"type\": \"Polygon\",\n",
    "               \"coordinates\":[\n",
    "                   [\n",
    "                       [ 4.607406, 52.353994 ],\n",
    "                        [ 4.680005, 52.353994 ],\n",
    "                        [ 4.680005, 52.395523 ],\n",
    "                        [ 4.607406, 52.395523 ],\n",
    "                        [ 4.607406, 52.353994 ]\n",
    "                   ]\n",
    "               ]\n",
    "           }\n",
    "      }\n",
    "  ],\n",
    "    \"tools\": [\n",
    "      {\"merge\": {}},\n",
    "      {\"clip\": {}}\n",
    "      \n",
    "\n",
    "  ],\n",
    " \"delivery\":{\n",
    "      \"google_cloud_storage\":{\n",
    "         \"bucket\":\"notebook-practice\",\n",
    "         \"credentials\":GCP_CREDENTIALS,\n",
    "         \"path_prefix\":\"basemaps-to-cloud/\"\n",
    "      }\n",
    "\n",
    "\n",
    " }\n",
    "}\n",
    "\n"
   ]
  },
  {
   "cell_type": "code",
   "execution_count": 5,
   "metadata": {},
   "outputs": [
    {
     "name": "stdout",
     "output_type": "stream",
     "text": [
      "{\"_links\":{\"_self\":\"https://api.planet.com/compute/ops/orders/v2/88c0d40f-0c89-4262-97af-53936439aada\"},\"created_on\":\"2022-11-30T21:46:28.381Z\",\"delivery\":{\"google_cloud_storage\":{\"bucket\":\"notebook-practice\",\"credentials\":\"<REDACTED>\",\"path_prefix\":\"basemaps-to-cloud/\"}},\"error_hints\":[],\"id\":\"88c0d40f-0c89-4262-97af-53936439aada\",\"last_message\":\"Preparing order\",\"last_modified\":\"2022-11-30T21:46:28.381Z\",\"name\":\"basemap order with geometry\",\"order_type\":\"partial\",\"products\":[{\"geometry\":{\"coordinates\":[[[4.607406,52.353994],[4.680005,52.353994],[4.680005,52.395523],[4.607406,52.395523],[4.607406,52.353994]]],\"type\":\"Polygon\"},\"mosaic_name\":\"global_monthly_2022_01_mosaic\"}],\"source_type\":\"basemaps\",\"state\":\"queued\",\"tools\":[{\"merge\":{}},{\"clip\":{}}]}\n",
      "\n"
     ]
    }
   ],
   "source": [
    "ORDERS_API_URL = 'https://api.planet.com/compute/ops/orders/v2'\n",
    "headers = {'content-type': 'application/json'}\n",
    "paramRes = requests.post(ORDERS_API_URL, data=json.dumps(order_params), auth=auth, headers = {'content-type': 'application/json'})\n",
    "\n",
    "print(paramRes.text)"
   ]
  },
  {
   "cell_type": "code",
   "execution_count": 6,
   "metadata": {},
   "outputs": [],
   "source": [
    "def place_order(order_params, auth):\n",
    "    response = requests.post(ORDERS_API_URL, data=json.dumps(order_params), auth=auth, headers=headers)\n",
    "    print(response)\n",
    "    order_id = response.json()['id']\n",
    "    print(order_id)\n",
    "    order_url = ORDERS_API_URL + '/' + order_id\n",
    "    return order_url"
   ]
  },
  {
   "cell_type": "code",
   "execution_count": null,
   "metadata": {},
   "outputs": [],
   "source": []
  },
  {
   "cell_type": "code",
   "execution_count": 7,
   "metadata": {},
   "outputs": [
    {
     "name": "stdout",
     "output_type": "stream",
     "text": [
      "<Response [202]>\n",
      "c33d0332-0bf0-4eb6-95fd-a2715d065300\n"
     ]
    }
   ],
   "source": [
    "order_url = place_order(order_params, session.auth)"
   ]
  },
  {
   "cell_type": "code",
   "execution_count": 8,
   "metadata": {},
   "outputs": [
    {
     "name": "stdout",
     "output_type": "stream",
     "text": [
      "{'_links': {'_self': 'https://api.planet.com/compute/ops/orders/v2/c33d0332-0bf0-4eb6-95fd-a2715d065300'}, 'created_on': '2022-11-30T21:46:29.114Z', 'delivery': {'google_cloud_storage': {'bucket': 'notebook-practice', 'credentials': '<REDACTED>', 'path_prefix': 'basemaps-to-cloud/'}}, 'error_hints': [], 'id': 'c33d0332-0bf0-4eb6-95fd-a2715d065300', 'last_message': 'Preparing order', 'last_modified': '2022-11-30T21:46:29.114Z', 'name': 'basemap order with geometry', 'order_type': 'partial', 'products': [{'geometry': {'coordinates': [[[4.607406, 52.353994], [4.680005, 52.353994], [4.680005, 52.395523], [4.607406, 52.395523], [4.607406, 52.353994]]], 'type': 'Polygon'}, 'mosaic_name': 'global_monthly_2022_01_mosaic'}], 'source_type': 'basemaps', 'state': 'queued', 'tools': [{'merge': {}}, {'clip': {}}]}\n",
      "queued\n",
      "{'_links': {'_self': 'https://api.planet.com/compute/ops/orders/v2/c33d0332-0bf0-4eb6-95fd-a2715d065300'}, 'created_on': '2022-11-30T21:46:29.114Z', 'delivery': {'google_cloud_storage': {'bucket': 'notebook-practice', 'credentials': '<REDACTED>', 'path_prefix': 'basemaps-to-cloud/'}}, 'error_hints': [], 'id': 'c33d0332-0bf0-4eb6-95fd-a2715d065300', 'last_message': 'starting', 'last_modified': '2022-11-30T21:46:38.713Z', 'name': 'basemap order with geometry', 'order_type': 'partial', 'products': [{'geometry': {'coordinates': [[[4.607406, 52.353994], [4.680005, 52.353994], [4.680005, 52.395523], [4.607406, 52.395523], [4.607406, 52.353994]]], 'type': 'Polygon'}, 'mosaic_name': 'global_monthly_2022_01_mosaic'}], 'source_type': 'basemaps', 'state': 'running', 'tools': [{'merge': {}}, {'clip': {}}]}\n",
      "running\n",
      "{'_links': {'_self': 'https://api.planet.com/compute/ops/orders/v2/c33d0332-0bf0-4eb6-95fd-a2715d065300'}, 'created_on': '2022-11-30T21:46:29.114Z', 'delivery': {'google_cloud_storage': {'bucket': 'notebook-practice', 'credentials': '<REDACTED>', 'path_prefix': 'basemaps-to-cloud/'}}, 'error_hints': [], 'id': 'c33d0332-0bf0-4eb6-95fd-a2715d065300', 'last_message': 'Waiting for merge operations to complete', 'last_modified': '2022-11-30T21:46:49.050Z', 'name': 'basemap order with geometry', 'order_type': 'partial', 'products': [{'geometry': {'coordinates': [[[4.607406, 52.353994], [4.680005, 52.353994], [4.680005, 52.395523], [4.607406, 52.395523], [4.607406, 52.353994]]], 'type': 'Polygon'}, 'mosaic_name': 'global_monthly_2022_01_mosaic'}], 'source_type': 'basemaps', 'state': 'running', 'tools': [{'merge': {}}, {'clip': {}}]}\n",
      "running\n",
      "{'_links': {'_self': 'https://api.planet.com/compute/ops/orders/v2/c33d0332-0bf0-4eb6-95fd-a2715d065300'}, 'created_on': '2022-11-30T21:46:29.114Z', 'delivery': {'google_cloud_storage': {'bucket': 'notebook-practice', 'credentials': '<REDACTED>', 'path_prefix': 'basemaps-to-cloud/'}}, 'error_hints': [], 'id': 'c33d0332-0bf0-4eb6-95fd-a2715d065300', 'last_message': 'Waiting for merge operations to complete', 'last_modified': '2022-11-30T21:46:49.050Z', 'name': 'basemap order with geometry', 'order_type': 'partial', 'products': [{'geometry': {'coordinates': [[[4.607406, 52.353994], [4.680005, 52.353994], [4.680005, 52.395523], [4.607406, 52.395523], [4.607406, 52.353994]]], 'type': 'Polygon'}, 'mosaic_name': 'global_monthly_2022_01_mosaic'}], 'source_type': 'basemaps', 'state': 'running', 'tools': [{'merge': {}}, {'clip': {}}]}\n",
      "running\n",
      "{'_links': {'_self': 'https://api.planet.com/compute/ops/orders/v2/c33d0332-0bf0-4eb6-95fd-a2715d065300'}, 'created_on': '2022-11-30T21:46:29.114Z', 'delivery': {'google_cloud_storage': {'bucket': 'notebook-practice', 'credentials': '<REDACTED>', 'path_prefix': 'basemaps-to-cloud/'}}, 'error_hints': [], 'id': 'c33d0332-0bf0-4eb6-95fd-a2715d065300', 'last_message': 'Waiting for merge operations to complete', 'last_modified': '2022-11-30T21:46:49.050Z', 'name': 'basemap order with geometry', 'order_type': 'partial', 'products': [{'geometry': {'coordinates': [[[4.607406, 52.353994], [4.680005, 52.353994], [4.680005, 52.395523], [4.607406, 52.395523], [4.607406, 52.353994]]], 'type': 'Polygon'}, 'mosaic_name': 'global_monthly_2022_01_mosaic'}], 'source_type': 'basemaps', 'state': 'running', 'tools': [{'merge': {}}, {'clip': {}}]}\n",
      "running\n",
      "{'_links': {'_self': 'https://api.planet.com/compute/ops/orders/v2/c33d0332-0bf0-4eb6-95fd-a2715d065300'}, 'created_on': '2022-11-30T21:46:29.114Z', 'delivery': {'google_cloud_storage': {'bucket': 'notebook-practice', 'credentials': '<REDACTED>', 'path_prefix': 'basemaps-to-cloud/'}}, 'error_hints': [], 'id': 'c33d0332-0bf0-4eb6-95fd-a2715d065300', 'last_message': 'Waiting for merge operations to complete', 'last_modified': '2022-11-30T21:46:49.050Z', 'name': 'basemap order with geometry', 'order_type': 'partial', 'products': [{'geometry': {'coordinates': [[[4.607406, 52.353994], [4.680005, 52.353994], [4.680005, 52.395523], [4.607406, 52.395523], [4.607406, 52.353994]]], 'type': 'Polygon'}, 'mosaic_name': 'global_monthly_2022_01_mosaic'}], 'source_type': 'basemaps', 'state': 'running', 'tools': [{'merge': {}}, {'clip': {}}]}\n",
      "running\n",
      "{'_links': {'_self': 'https://api.planet.com/compute/ops/orders/v2/c33d0332-0bf0-4eb6-95fd-a2715d065300'}, 'created_on': '2022-11-30T21:46:29.114Z', 'delivery': {'google_cloud_storage': {'bucket': 'notebook-practice', 'credentials': '<REDACTED>', 'path_prefix': 'basemaps-to-cloud/'}}, 'error_hints': [], 'id': 'c33d0332-0bf0-4eb6-95fd-a2715d065300', 'last_message': 'Waiting for merge operations to complete', 'last_modified': '2022-11-30T21:46:49.050Z', 'name': 'basemap order with geometry', 'order_type': 'partial', 'products': [{'geometry': {'coordinates': [[[4.607406, 52.353994], [4.680005, 52.353994], [4.680005, 52.395523], [4.607406, 52.395523], [4.607406, 52.353994]]], 'type': 'Polygon'}, 'mosaic_name': 'global_monthly_2022_01_mosaic'}], 'source_type': 'basemaps', 'state': 'running', 'tools': [{'merge': {}}, {'clip': {}}]}\n",
      "running\n",
      "{'_links': {'_self': 'https://api.planet.com/compute/ops/orders/v2/c33d0332-0bf0-4eb6-95fd-a2715d065300'}, 'created_on': '2022-11-30T21:46:29.114Z', 'delivery': {'google_cloud_storage': {'bucket': 'notebook-practice', 'credentials': '<REDACTED>', 'path_prefix': 'basemaps-to-cloud/'}}, 'error_hints': [], 'id': 'c33d0332-0bf0-4eb6-95fd-a2715d065300', 'last_message': 'Waiting for merge operations to complete', 'last_modified': '2022-11-30T21:46:49.050Z', 'name': 'basemap order with geometry', 'order_type': 'partial', 'products': [{'geometry': {'coordinates': [[[4.607406, 52.353994], [4.680005, 52.353994], [4.680005, 52.395523], [4.607406, 52.395523], [4.607406, 52.353994]]], 'type': 'Polygon'}, 'mosaic_name': 'global_monthly_2022_01_mosaic'}], 'source_type': 'basemaps', 'state': 'running', 'tools': [{'merge': {}}, {'clip': {}}]}\n",
      "running\n",
      "{'_links': {'_self': 'https://api.planet.com/compute/ops/orders/v2/c33d0332-0bf0-4eb6-95fd-a2715d065300'}, 'created_on': '2022-11-30T21:46:29.114Z', 'delivery': {'google_cloud_storage': {'bucket': 'notebook-practice', 'credentials': '<REDACTED>', 'path_prefix': 'basemaps-to-cloud/'}}, 'error_hints': [], 'id': 'c33d0332-0bf0-4eb6-95fd-a2715d065300', 'last_message': 'Waiting for merge operations to complete', 'last_modified': '2022-11-30T21:47:50.570Z', 'name': 'basemap order with geometry', 'order_type': 'partial', 'products': [{'geometry': {'coordinates': [[[4.607406, 52.353994], [4.680005, 52.353994], [4.680005, 52.395523], [4.607406, 52.395523], [4.607406, 52.353994]]], 'type': 'Polygon'}, 'mosaic_name': 'global_monthly_2022_01_mosaic'}], 'source_type': 'basemaps', 'state': 'running', 'tools': [{'merge': {}}, {'clip': {}}]}\n",
      "running\n",
      "{'_links': {'_self': 'https://api.planet.com/compute/ops/orders/v2/c33d0332-0bf0-4eb6-95fd-a2715d065300'}, 'created_on': '2022-11-30T21:46:29.114Z', 'delivery': {'google_cloud_storage': {'bucket': 'notebook-practice', 'credentials': '<REDACTED>', 'path_prefix': 'basemaps-to-cloud/'}}, 'error_hints': [], 'id': 'c33d0332-0bf0-4eb6-95fd-a2715d065300', 'last_message': 'Waiting for merge operations to complete', 'last_modified': '2022-11-30T21:47:50.570Z', 'name': 'basemap order with geometry', 'order_type': 'partial', 'products': [{'geometry': {'coordinates': [[[4.607406, 52.353994], [4.680005, 52.353994], [4.680005, 52.395523], [4.607406, 52.395523], [4.607406, 52.353994]]], 'type': 'Polygon'}, 'mosaic_name': 'global_monthly_2022_01_mosaic'}], 'source_type': 'basemaps', 'state': 'running', 'tools': [{'merge': {}}, {'clip': {}}]}\n",
      "running\n",
      "{'_links': {'_self': 'https://api.planet.com/compute/ops/orders/v2/c33d0332-0bf0-4eb6-95fd-a2715d065300'}, 'created_on': '2022-11-30T21:46:29.114Z', 'delivery': {'google_cloud_storage': {'bucket': 'notebook-practice', 'credentials': '<REDACTED>', 'path_prefix': 'basemaps-to-cloud/'}}, 'error_hints': [], 'id': 'c33d0332-0bf0-4eb6-95fd-a2715d065300', 'last_message': 'Waiting for merge operations to complete', 'last_modified': '2022-11-30T21:47:50.570Z', 'name': 'basemap order with geometry', 'order_type': 'partial', 'products': [{'geometry': {'coordinates': [[[4.607406, 52.353994], [4.680005, 52.353994], [4.680005, 52.395523], [4.607406, 52.395523], [4.607406, 52.353994]]], 'type': 'Polygon'}, 'mosaic_name': 'global_monthly_2022_01_mosaic'}], 'source_type': 'basemaps', 'state': 'running', 'tools': [{'merge': {}}, {'clip': {}}]}\n",
      "running\n",
      "{'_links': {'_self': 'https://api.planet.com/compute/ops/orders/v2/c33d0332-0bf0-4eb6-95fd-a2715d065300'}, 'created_on': '2022-11-30T21:46:29.114Z', 'delivery': {'google_cloud_storage': {'bucket': 'notebook-practice', 'credentials': '<REDACTED>', 'path_prefix': 'basemaps-to-cloud/'}}, 'error_hints': [], 'id': 'c33d0332-0bf0-4eb6-95fd-a2715d065300', 'last_message': 'Waiting for merge operations to complete', 'last_modified': '2022-11-30T21:47:50.570Z', 'name': 'basemap order with geometry', 'order_type': 'partial', 'products': [{'geometry': {'coordinates': [[[4.607406, 52.353994], [4.680005, 52.353994], [4.680005, 52.395523], [4.607406, 52.395523], [4.607406, 52.353994]]], 'type': 'Polygon'}, 'mosaic_name': 'global_monthly_2022_01_mosaic'}], 'source_type': 'basemaps', 'state': 'running', 'tools': [{'merge': {}}, {'clip': {}}]}\n",
      "running\n",
      "{'_links': {'_self': 'https://api.planet.com/compute/ops/orders/v2/c33d0332-0bf0-4eb6-95fd-a2715d065300'}, 'created_on': '2022-11-30T21:46:29.114Z', 'delivery': {'google_cloud_storage': {'bucket': 'notebook-practice', 'credentials': '<REDACTED>', 'path_prefix': 'basemaps-to-cloud/'}}, 'error_hints': [], 'id': 'c33d0332-0bf0-4eb6-95fd-a2715d065300', 'last_message': 'Waiting for merge operations to complete', 'last_modified': '2022-11-30T21:47:50.570Z', 'name': 'basemap order with geometry', 'order_type': 'partial', 'products': [{'geometry': {'coordinates': [[[4.607406, 52.353994], [4.680005, 52.353994], [4.680005, 52.395523], [4.607406, 52.395523], [4.607406, 52.353994]]], 'type': 'Polygon'}, 'mosaic_name': 'global_monthly_2022_01_mosaic'}], 'source_type': 'basemaps', 'state': 'running', 'tools': [{'merge': {}}, {'clip': {}}]}\n",
      "running\n",
      "{'_links': {'_self': 'https://api.planet.com/compute/ops/orders/v2/c33d0332-0bf0-4eb6-95fd-a2715d065300'}, 'created_on': '2022-11-30T21:46:29.114Z', 'delivery': {'google_cloud_storage': {'bucket': 'notebook-practice', 'credentials': '<REDACTED>', 'path_prefix': 'basemaps-to-cloud/'}}, 'error_hints': [], 'id': 'c33d0332-0bf0-4eb6-95fd-a2715d065300', 'last_message': 'Waiting for merge operations to complete', 'last_modified': '2022-11-30T21:47:50.570Z', 'name': 'basemap order with geometry', 'order_type': 'partial', 'products': [{'geometry': {'coordinates': [[[4.607406, 52.353994], [4.680005, 52.353994], [4.680005, 52.395523], [4.607406, 52.395523], [4.607406, 52.353994]]], 'type': 'Polygon'}, 'mosaic_name': 'global_monthly_2022_01_mosaic'}], 'source_type': 'basemaps', 'state': 'running', 'tools': [{'merge': {}}, {'clip': {}}]}\n",
      "running\n",
      "{'_links': {'_self': 'https://api.planet.com/compute/ops/orders/v2/c33d0332-0bf0-4eb6-95fd-a2715d065300'}, 'created_on': '2022-11-30T21:46:29.114Z', 'delivery': {'google_cloud_storage': {'bucket': 'notebook-practice', 'credentials': '<REDACTED>', 'path_prefix': 'basemaps-to-cloud/'}}, 'error_hints': [], 'id': 'c33d0332-0bf0-4eb6-95fd-a2715d065300', 'last_message': 'Waiting for merge operations to complete', 'last_modified': '2022-11-30T21:48:51.138Z', 'name': 'basemap order with geometry', 'order_type': 'partial', 'products': [{'geometry': {'coordinates': [[[4.607406, 52.353994], [4.680005, 52.353994], [4.680005, 52.395523], [4.607406, 52.395523], [4.607406, 52.353994]]], 'type': 'Polygon'}, 'mosaic_name': 'global_monthly_2022_01_mosaic'}], 'source_type': 'basemaps', 'state': 'running', 'tools': [{'merge': {}}, {'clip': {}}]}\n",
      "running\n",
      "{'_links': {'_self': 'https://api.planet.com/compute/ops/orders/v2/c33d0332-0bf0-4eb6-95fd-a2715d065300'}, 'created_on': '2022-11-30T21:46:29.114Z', 'delivery': {'google_cloud_storage': {'bucket': 'notebook-practice', 'credentials': '<REDACTED>', 'path_prefix': 'basemaps-to-cloud/'}}, 'error_hints': [], 'id': 'c33d0332-0bf0-4eb6-95fd-a2715d065300', 'last_message': 'Waiting for merge operations to complete', 'last_modified': '2022-11-30T21:48:51.138Z', 'name': 'basemap order with geometry', 'order_type': 'partial', 'products': [{'geometry': {'coordinates': [[[4.607406, 52.353994], [4.680005, 52.353994], [4.680005, 52.395523], [4.607406, 52.395523], [4.607406, 52.353994]]], 'type': 'Polygon'}, 'mosaic_name': 'global_monthly_2022_01_mosaic'}], 'source_type': 'basemaps', 'state': 'running', 'tools': [{'merge': {}}, {'clip': {}}]}\n",
      "running\n",
      "{'_links': {'_self': 'https://api.planet.com/compute/ops/orders/v2/c33d0332-0bf0-4eb6-95fd-a2715d065300'}, 'created_on': '2022-11-30T21:46:29.114Z', 'delivery': {'google_cloud_storage': {'bucket': 'notebook-practice', 'credentials': '<REDACTED>', 'path_prefix': 'basemaps-to-cloud/'}}, 'error_hints': [], 'id': 'c33d0332-0bf0-4eb6-95fd-a2715d065300', 'last_message': 'Waiting for merge operations to complete', 'last_modified': '2022-11-30T21:48:51.138Z', 'name': 'basemap order with geometry', 'order_type': 'partial', 'products': [{'geometry': {'coordinates': [[[4.607406, 52.353994], [4.680005, 52.353994], [4.680005, 52.395523], [4.607406, 52.395523], [4.607406, 52.353994]]], 'type': 'Polygon'}, 'mosaic_name': 'global_monthly_2022_01_mosaic'}], 'source_type': 'basemaps', 'state': 'running', 'tools': [{'merge': {}}, {'clip': {}}]}\n",
      "running\n",
      "{'_links': {'_self': 'https://api.planet.com/compute/ops/orders/v2/c33d0332-0bf0-4eb6-95fd-a2715d065300'}, 'created_on': '2022-11-30T21:46:29.114Z', 'delivery': {'google_cloud_storage': {'bucket': 'notebook-practice', 'credentials': '<REDACTED>', 'path_prefix': 'basemaps-to-cloud/'}}, 'error_hints': [], 'id': 'c33d0332-0bf0-4eb6-95fd-a2715d065300', 'last_message': 'Waiting for merge operations to complete', 'last_modified': '2022-11-30T21:48:51.138Z', 'name': 'basemap order with geometry', 'order_type': 'partial', 'products': [{'geometry': {'coordinates': [[[4.607406, 52.353994], [4.680005, 52.353994], [4.680005, 52.395523], [4.607406, 52.395523], [4.607406, 52.353994]]], 'type': 'Polygon'}, 'mosaic_name': 'global_monthly_2022_01_mosaic'}], 'source_type': 'basemaps', 'state': 'running', 'tools': [{'merge': {}}, {'clip': {}}]}\n",
      "running\n",
      "{'_links': {'_self': 'https://api.planet.com/compute/ops/orders/v2/c33d0332-0bf0-4eb6-95fd-a2715d065300'}, 'created_on': '2022-11-30T21:46:29.114Z', 'delivery': {'google_cloud_storage': {'bucket': 'notebook-practice', 'credentials': '<REDACTED>', 'path_prefix': 'basemaps-to-cloud/'}}, 'error_hints': [], 'id': 'c33d0332-0bf0-4eb6-95fd-a2715d065300', 'last_message': 'Waiting for merge operations to complete', 'last_modified': '2022-11-30T21:48:51.138Z', 'name': 'basemap order with geometry', 'order_type': 'partial', 'products': [{'geometry': {'coordinates': [[[4.607406, 52.353994], [4.680005, 52.353994], [4.680005, 52.395523], [4.607406, 52.395523], [4.607406, 52.353994]]], 'type': 'Polygon'}, 'mosaic_name': 'global_monthly_2022_01_mosaic'}], 'source_type': 'basemaps', 'state': 'running', 'tools': [{'merge': {}}, {'clip': {}}]}\n",
      "running\n",
      "{'_links': {'_self': 'https://api.planet.com/compute/ops/orders/v2/c33d0332-0bf0-4eb6-95fd-a2715d065300'}, 'created_on': '2022-11-30T21:46:29.114Z', 'delivery': {'google_cloud_storage': {'bucket': 'notebook-practice', 'credentials': '<REDACTED>', 'path_prefix': 'basemaps-to-cloud/'}}, 'error_hints': [], 'id': 'c33d0332-0bf0-4eb6-95fd-a2715d065300', 'last_message': 'Waiting for merge operations to complete', 'last_modified': '2022-11-30T21:48:51.138Z', 'name': 'basemap order with geometry', 'order_type': 'partial', 'products': [{'geometry': {'coordinates': [[[4.607406, 52.353994], [4.680005, 52.353994], [4.680005, 52.395523], [4.607406, 52.395523], [4.607406, 52.353994]]], 'type': 'Polygon'}, 'mosaic_name': 'global_monthly_2022_01_mosaic'}], 'source_type': 'basemaps', 'state': 'running', 'tools': [{'merge': {}}, {'clip': {}}]}\n",
      "running\n",
      "{'_links': {'_self': 'https://api.planet.com/compute/ops/orders/v2/c33d0332-0bf0-4eb6-95fd-a2715d065300'}, 'created_on': '2022-11-30T21:46:29.114Z', 'delivery': {'google_cloud_storage': {'bucket': 'notebook-practice', 'credentials': '<REDACTED>', 'path_prefix': 'basemaps-to-cloud/'}}, 'error_hints': [], 'id': 'c33d0332-0bf0-4eb6-95fd-a2715d065300', 'last_message': 'Waiting for merge operations to complete', 'last_modified': '2022-11-30T21:49:52.499Z', 'name': 'basemap order with geometry', 'order_type': 'partial', 'products': [{'geometry': {'coordinates': [[[4.607406, 52.353994], [4.680005, 52.353994], [4.680005, 52.395523], [4.607406, 52.395523], [4.607406, 52.353994]]], 'type': 'Polygon'}, 'mosaic_name': 'global_monthly_2022_01_mosaic'}], 'source_type': 'basemaps', 'state': 'running', 'tools': [{'merge': {}}, {'clip': {}}]}\n",
      "running\n",
      "{'_links': {'_self': 'https://api.planet.com/compute/ops/orders/v2/c33d0332-0bf0-4eb6-95fd-a2715d065300'}, 'created_on': '2022-11-30T21:46:29.114Z', 'delivery': {'google_cloud_storage': {'bucket': 'notebook-practice', 'credentials': '<REDACTED>', 'path_prefix': 'basemaps-to-cloud/'}}, 'error_hints': [], 'id': 'c33d0332-0bf0-4eb6-95fd-a2715d065300', 'last_message': 'Waiting for merge operations to complete', 'last_modified': '2022-11-30T21:49:52.499Z', 'name': 'basemap order with geometry', 'order_type': 'partial', 'products': [{'geometry': {'coordinates': [[[4.607406, 52.353994], [4.680005, 52.353994], [4.680005, 52.395523], [4.607406, 52.395523], [4.607406, 52.353994]]], 'type': 'Polygon'}, 'mosaic_name': 'global_monthly_2022_01_mosaic'}], 'source_type': 'basemaps', 'state': 'running', 'tools': [{'merge': {}}, {'clip': {}}]}\n",
      "running\n",
      "{'_links': {'_self': 'https://api.planet.com/compute/ops/orders/v2/c33d0332-0bf0-4eb6-95fd-a2715d065300'}, 'created_on': '2022-11-30T21:46:29.114Z', 'delivery': {'google_cloud_storage': {'bucket': 'notebook-practice', 'credentials': '<REDACTED>', 'path_prefix': 'basemaps-to-cloud/'}}, 'error_hints': [], 'id': 'c33d0332-0bf0-4eb6-95fd-a2715d065300', 'last_message': 'Waiting for merge operations to complete', 'last_modified': '2022-11-30T21:49:52.499Z', 'name': 'basemap order with geometry', 'order_type': 'partial', 'products': [{'geometry': {'coordinates': [[[4.607406, 52.353994], [4.680005, 52.353994], [4.680005, 52.395523], [4.607406, 52.395523], [4.607406, 52.353994]]], 'type': 'Polygon'}, 'mosaic_name': 'global_monthly_2022_01_mosaic'}], 'source_type': 'basemaps', 'state': 'running', 'tools': [{'merge': {}}, {'clip': {}}]}\n",
      "running\n",
      "{'_links': {'_self': 'https://api.planet.com/compute/ops/orders/v2/c33d0332-0bf0-4eb6-95fd-a2715d065300'}, 'created_on': '2022-11-30T21:46:29.114Z', 'delivery': {'google_cloud_storage': {'bucket': 'notebook-practice', 'credentials': '<REDACTED>', 'path_prefix': 'basemaps-to-cloud/'}}, 'error_hints': [], 'id': 'c33d0332-0bf0-4eb6-95fd-a2715d065300', 'last_message': 'Waiting for merge operations to complete', 'last_modified': '2022-11-30T21:49:52.499Z', 'name': 'basemap order with geometry', 'order_type': 'partial', 'products': [{'geometry': {'coordinates': [[[4.607406, 52.353994], [4.680005, 52.353994], [4.680005, 52.395523], [4.607406, 52.395523], [4.607406, 52.353994]]], 'type': 'Polygon'}, 'mosaic_name': 'global_monthly_2022_01_mosaic'}], 'source_type': 'basemaps', 'state': 'running', 'tools': [{'merge': {}}, {'clip': {}}]}\n",
      "running\n",
      "{'_links': {'_self': 'https://api.planet.com/compute/ops/orders/v2/c33d0332-0bf0-4eb6-95fd-a2715d065300'}, 'created_on': '2022-11-30T21:46:29.114Z', 'delivery': {'google_cloud_storage': {'bucket': 'notebook-practice', 'credentials': '<REDACTED>', 'path_prefix': 'basemaps-to-cloud/'}}, 'error_hints': [], 'id': 'c33d0332-0bf0-4eb6-95fd-a2715d065300', 'last_message': 'Waiting for merge operations to complete', 'last_modified': '2022-11-30T21:49:52.499Z', 'name': 'basemap order with geometry', 'order_type': 'partial', 'products': [{'geometry': {'coordinates': [[[4.607406, 52.353994], [4.680005, 52.353994], [4.680005, 52.395523], [4.607406, 52.395523], [4.607406, 52.353994]]], 'type': 'Polygon'}, 'mosaic_name': 'global_monthly_2022_01_mosaic'}], 'source_type': 'basemaps', 'state': 'running', 'tools': [{'merge': {}}, {'clip': {}}]}\n",
      "running\n",
      "{'_links': {'_self': 'https://api.planet.com/compute/ops/orders/v2/c33d0332-0bf0-4eb6-95fd-a2715d065300'}, 'created_on': '2022-11-30T21:46:29.114Z', 'delivery': {'google_cloud_storage': {'bucket': 'notebook-practice', 'credentials': '<REDACTED>', 'path_prefix': 'basemaps-to-cloud/'}}, 'error_hints': [], 'id': 'c33d0332-0bf0-4eb6-95fd-a2715d065300', 'last_message': 'Waiting for merge operations to complete', 'last_modified': '2022-11-30T21:49:52.499Z', 'name': 'basemap order with geometry', 'order_type': 'partial', 'products': [{'geometry': {'coordinates': [[[4.607406, 52.353994], [4.680005, 52.353994], [4.680005, 52.395523], [4.607406, 52.395523], [4.607406, 52.353994]]], 'type': 'Polygon'}, 'mosaic_name': 'global_monthly_2022_01_mosaic'}], 'source_type': 'basemaps', 'state': 'running', 'tools': [{'merge': {}}, {'clip': {}}]}\n",
      "running\n",
      "{'_links': {'_self': 'https://api.planet.com/compute/ops/orders/v2/c33d0332-0bf0-4eb6-95fd-a2715d065300'}, 'created_on': '2022-11-30T21:46:29.114Z', 'delivery': {'google_cloud_storage': {'bucket': 'notebook-practice', 'credentials': '<REDACTED>', 'path_prefix': 'basemaps-to-cloud/'}}, 'error_hints': [], 'id': 'c33d0332-0bf0-4eb6-95fd-a2715d065300', 'last_message': 'merge+clip/ completed - delivering results', 'last_modified': '2022-11-30T21:50:56.630Z', 'name': 'basemap order with geometry', 'order_type': 'partial', 'products': [{'geometry': {'coordinates': [[[4.607406, 52.353994], [4.680005, 52.353994], [4.680005, 52.395523], [4.607406, 52.395523], [4.607406, 52.353994]]], 'type': 'Polygon'}, 'mosaic_name': 'global_monthly_2022_01_mosaic'}], 'source_type': 'basemaps', 'state': 'running', 'tools': [{'merge': {}}, {'clip': {}}]}\n",
      "running\n",
      "{'_links': {'_self': 'https://api.planet.com/compute/ops/orders/v2/c33d0332-0bf0-4eb6-95fd-a2715d065300'}, 'created_on': '2022-11-30T21:46:29.114Z', 'delivery': {'google_cloud_storage': {'bucket': 'notebook-practice', 'credentials': '<REDACTED>', 'path_prefix': 'basemaps-to-cloud/'}}, 'error_hints': [], 'id': 'c33d0332-0bf0-4eb6-95fd-a2715d065300', 'last_message': 'Waiting for delivery to complete (Running:1 Succeeded:0 Failed:0)', 'last_modified': '2022-11-30T21:51:00.030Z', 'name': 'basemap order with geometry', 'order_type': 'partial', 'products': [{'geometry': {'coordinates': [[[4.607406, 52.353994], [4.680005, 52.353994], [4.680005, 52.395523], [4.607406, 52.395523], [4.607406, 52.353994]]], 'type': 'Polygon'}, 'mosaic_name': 'global_monthly_2022_01_mosaic'}], 'source_type': 'basemaps', 'state': 'running', 'tools': [{'merge': {}}, {'clip': {}}]}\n",
      "running\n",
      "{'_links': {'_self': 'https://api.planet.com/compute/ops/orders/v2/c33d0332-0bf0-4eb6-95fd-a2715d065300'}, 'created_on': '2022-11-30T21:46:29.114Z', 'delivery': {'google_cloud_storage': {'bucket': 'notebook-practice', 'credentials': '<REDACTED>', 'path_prefix': 'basemaps-to-cloud/'}}, 'error_hints': [], 'id': 'c33d0332-0bf0-4eb6-95fd-a2715d065300', 'last_message': 'Waiting for delivery to complete (Running:1 Succeeded:0 Failed:0)', 'last_modified': '2022-11-30T21:51:00.030Z', 'name': 'basemap order with geometry', 'order_type': 'partial', 'products': [{'geometry': {'coordinates': [[[4.607406, 52.353994], [4.680005, 52.353994], [4.680005, 52.395523], [4.607406, 52.395523], [4.607406, 52.353994]]], 'type': 'Polygon'}, 'mosaic_name': 'global_monthly_2022_01_mosaic'}], 'source_type': 'basemaps', 'state': 'running', 'tools': [{'merge': {}}, {'clip': {}}]}\n",
      "running\n",
      "{'_links': {'_self': 'https://api.planet.com/compute/ops/orders/v2/c33d0332-0bf0-4eb6-95fd-a2715d065300'}, 'created_on': '2022-11-30T21:46:29.114Z', 'delivery': {'google_cloud_storage': {'bucket': 'notebook-practice', 'credentials': '<REDACTED>', 'path_prefix': 'basemaps-to-cloud/'}}, 'error_hints': [], 'id': 'c33d0332-0bf0-4eb6-95fd-a2715d065300', 'last_message': 'Waiting for delivery to complete (Running:1 Succeeded:0 Failed:0)', 'last_modified': '2022-11-30T21:51:00.030Z', 'name': 'basemap order with geometry', 'order_type': 'partial', 'products': [{'geometry': {'coordinates': [[[4.607406, 52.353994], [4.680005, 52.353994], [4.680005, 52.395523], [4.607406, 52.395523], [4.607406, 52.353994]]], 'type': 'Polygon'}, 'mosaic_name': 'global_monthly_2022_01_mosaic'}], 'source_type': 'basemaps', 'state': 'running', 'tools': [{'merge': {}}, {'clip': {}}]}\n",
      "running\n"
     ]
    }
   ],
   "source": [
    "def poll_for_success(order_url, auth, num_loops=30):\n",
    "    count = 0\n",
    "    while(count < num_loops):\n",
    "        count += 1\n",
    "        r = requests.get(order_url, auth=session.auth)\n",
    "        response = r.json()\n",
    "        state = response['state']\n",
    "        print(state)\n",
    "        end_states = ['success', 'failed', 'partial']\n",
    "        if state in end_states:\n",
    "            break\n",
    "        time.sleep(10)\n",
    "       \n",
    "        \n",
    "poll_for_success(order_url, auth)"
   ]
  },
  {
   "cell_type": "code",
   "execution_count": 9,
   "metadata": {},
   "outputs": [
    {
     "ename": "KeyError",
     "evalue": "'results'",
     "output_type": "error",
     "traceback": [
      "\u001b[0;31m---------------------------------------------------------------------------\u001b[0m",
      "\u001b[0;31mKeyError\u001b[0m                                  Traceback (most recent call last)",
      "\u001b[1;32m/Users/em.steuer/repos/notebooks/jupyter-notebooks/orders_basemaps/orderbasemap.ipynb Cell 17\u001b[0m in \u001b[0;36m<cell line: 3>\u001b[0;34m()\u001b[0m\n\u001b[1;32m      <a href='vscode-notebook-cell:/Users/em.steuer/repos/notebooks/jupyter-notebooks/orders_basemaps/orderbasemap.ipynb#X22sZmlsZQ%3D%3D?line=0'>1</a>\u001b[0m r \u001b[39m=\u001b[39m requests\u001b[39m.\u001b[39mget(order_url, auth\u001b[39m=\u001b[39msession\u001b[39m.\u001b[39mauth)\n\u001b[1;32m      <a href='vscode-notebook-cell:/Users/em.steuer/repos/notebooks/jupyter-notebooks/orders_basemaps/orderbasemap.ipynb#X22sZmlsZQ%3D%3D?line=1'>2</a>\u001b[0m response \u001b[39m=\u001b[39m r\u001b[39m.\u001b[39mjson()\n\u001b[0;32m----> <a href='vscode-notebook-cell:/Users/em.steuer/repos/notebooks/jupyter-notebooks/orders_basemaps/orderbasemap.ipynb#X22sZmlsZQ%3D%3D?line=2'>3</a>\u001b[0m results \u001b[39m=\u001b[39m response[\u001b[39m'\u001b[39;49m\u001b[39m_links\u001b[39;49m\u001b[39m'\u001b[39;49m][\u001b[39m'\u001b[39;49m\u001b[39mresults\u001b[39;49m\u001b[39m'\u001b[39;49m]\n",
      "\u001b[0;31mKeyError\u001b[0m: 'results'"
     ]
    }
   ],
   "source": [
    "r = requests.get(order_url, auth=session.auth)\n",
    "response = r.json()\n",
    "results = response['_links']['results']"
   ]
  },
  {
   "cell_type": "code",
   "execution_count": null,
   "metadata": {},
   "outputs": [
    {
     "data": {
      "text/plain": [
       "['basemaps-to-cloud/949f788f-7639-4d45-a6cf-06bbdda814a9/global_monthly_2022_01_mosaic/global_monthly_2022_01_mosaic_metadata_merge_clip.json',\n",
       " 'basemaps-to-cloud/949f788f-7639-4d45-a6cf-06bbdda814a9/global_monthly_2022_01_mosaic/global_monthly_2022_01_mosaic_provenance_raster_merge_clip.tif',\n",
       " 'basemaps-to-cloud/949f788f-7639-4d45-a6cf-06bbdda814a9/global_monthly_2022_01_mosaic/global_monthly_2022_01_mosaic_provenance_vector_merge_clip.zip',\n",
       " 'basemaps-to-cloud/949f788f-7639-4d45-a6cf-06bbdda814a9/global_monthly_2022_01_mosaic/global_monthly_2022_01_mosaic_merge_clip.tif',\n",
       " 'basemaps-to-cloud/949f788f-7639-4d45-a6cf-06bbdda814a9/global_monthly_2022_01_mosaic/global_monthly_2022_01_mosaic_ortho_udm_merge_clip.tif',\n",
       " 'basemaps-to-cloud/949f788f-7639-4d45-a6cf-06bbdda814a9/manifest.json']"
      ]
     },
     "execution_count": 46,
     "metadata": {},
     "output_type": "execute_result"
    }
   ],
   "source": [
    "[r['name'] for r in results]"
   ]
  },
  {
   "cell_type": "code",
   "execution_count": null,
   "metadata": {},
   "outputs": [
    {
     "ename": "KeyError",
     "evalue": "'location'",
     "output_type": "error",
     "traceback": [
      "\u001b[0;31m---------------------------------------------------------------------------\u001b[0m",
      "\u001b[0;31mKeyError\u001b[0m                                  Traceback (most recent call last)",
      "\u001b[1;32m/Users/em.steuer/Downloads/notebooks-ordering-basemaps/jupyter-notebooks/orders_basemaps/orderbasemap.ipynb Cell 19\u001b[0m in \u001b[0;36m<cell line: 16>\u001b[0;34m()\u001b[0m\n\u001b[1;32m     <a href='vscode-notebook-cell:/Users/em.steuer/Downloads/notebooks-ordering-basemaps/jupyter-notebooks/orders_basemaps/orderbasemap.ipynb#X24sZmlsZQ%3D%3D?line=13'>14</a>\u001b[0m         \u001b[39melse\u001b[39;00m:\n\u001b[1;32m     <a href='vscode-notebook-cell:/Users/em.steuer/Downloads/notebooks-ordering-basemaps/jupyter-notebooks/orders_basemaps/orderbasemap.ipynb#X24sZmlsZQ%3D%3D?line=14'>15</a>\u001b[0m             \u001b[39mprint\u001b[39m(\u001b[39m'\u001b[39m\u001b[39m{}\u001b[39;00m\u001b[39m already exists, skipping \u001b[39m\u001b[39m{}\u001b[39;00m\u001b[39m'\u001b[39m\u001b[39m.\u001b[39mformat(path, name))\n\u001b[0;32m---> <a href='vscode-notebook-cell:/Users/em.steuer/Downloads/notebooks-ordering-basemaps/jupyter-notebooks/orders_basemaps/orderbasemap.ipynb#X24sZmlsZQ%3D%3D?line=15'>16</a>\u001b[0m download_results(results)\n",
      "\u001b[1;32m/Users/em.steuer/Downloads/notebooks-ordering-basemaps/jupyter-notebooks/orders_basemaps/orderbasemap.ipynb Cell 19\u001b[0m in \u001b[0;36mdownload_results\u001b[0;34m(results, overwrite)\u001b[0m\n\u001b[1;32m      <a href='vscode-notebook-cell:/Users/em.steuer/Downloads/notebooks-ordering-basemaps/jupyter-notebooks/orders_basemaps/orderbasemap.ipynb#X24sZmlsZQ%3D%3D?line=0'>1</a>\u001b[0m \u001b[39mdef\u001b[39;00m \u001b[39mdownload_results\u001b[39m(results, overwrite\u001b[39m=\u001b[39m\u001b[39mFalse\u001b[39;00m):\n\u001b[0;32m----> <a href='vscode-notebook-cell:/Users/em.steuer/Downloads/notebooks-ordering-basemaps/jupyter-notebooks/orders_basemaps/orderbasemap.ipynb#X24sZmlsZQ%3D%3D?line=1'>2</a>\u001b[0m     results_urls \u001b[39m=\u001b[39m [r[\u001b[39m'\u001b[39m\u001b[39mlocation\u001b[39m\u001b[39m'\u001b[39m] \u001b[39mfor\u001b[39;00m r \u001b[39min\u001b[39;00m results]\n\u001b[1;32m      <a href='vscode-notebook-cell:/Users/em.steuer/Downloads/notebooks-ordering-basemaps/jupyter-notebooks/orders_basemaps/orderbasemap.ipynb#X24sZmlsZQ%3D%3D?line=2'>3</a>\u001b[0m     results_names \u001b[39m=\u001b[39m [r[\u001b[39m'\u001b[39m\u001b[39mname\u001b[39m\u001b[39m'\u001b[39m] \u001b[39mfor\u001b[39;00m r \u001b[39min\u001b[39;00m results]\n\u001b[1;32m      <a href='vscode-notebook-cell:/Users/em.steuer/Downloads/notebooks-ordering-basemaps/jupyter-notebooks/orders_basemaps/orderbasemap.ipynb#X24sZmlsZQ%3D%3D?line=3'>4</a>\u001b[0m     \u001b[39mprint\u001b[39m(\u001b[39m'\u001b[39m\u001b[39m{}\u001b[39;00m\u001b[39m items to download\u001b[39m\u001b[39m'\u001b[39m\u001b[39m.\u001b[39mformat(\u001b[39mlen\u001b[39m(results_urls)))\n",
      "\u001b[1;32m/Users/em.steuer/Downloads/notebooks-ordering-basemaps/jupyter-notebooks/orders_basemaps/orderbasemap.ipynb Cell 19\u001b[0m in \u001b[0;36m<listcomp>\u001b[0;34m(.0)\u001b[0m\n\u001b[1;32m      <a href='vscode-notebook-cell:/Users/em.steuer/Downloads/notebooks-ordering-basemaps/jupyter-notebooks/orders_basemaps/orderbasemap.ipynb#X24sZmlsZQ%3D%3D?line=0'>1</a>\u001b[0m \u001b[39mdef\u001b[39;00m \u001b[39mdownload_results\u001b[39m(results, overwrite\u001b[39m=\u001b[39m\u001b[39mFalse\u001b[39;00m):\n\u001b[0;32m----> <a href='vscode-notebook-cell:/Users/em.steuer/Downloads/notebooks-ordering-basemaps/jupyter-notebooks/orders_basemaps/orderbasemap.ipynb#X24sZmlsZQ%3D%3D?line=1'>2</a>\u001b[0m     results_urls \u001b[39m=\u001b[39m [r[\u001b[39m'\u001b[39;49m\u001b[39mlocation\u001b[39;49m\u001b[39m'\u001b[39;49m] \u001b[39mfor\u001b[39;00m r \u001b[39min\u001b[39;00m results]\n\u001b[1;32m      <a href='vscode-notebook-cell:/Users/em.steuer/Downloads/notebooks-ordering-basemaps/jupyter-notebooks/orders_basemaps/orderbasemap.ipynb#X24sZmlsZQ%3D%3D?line=2'>3</a>\u001b[0m     results_names \u001b[39m=\u001b[39m [r[\u001b[39m'\u001b[39m\u001b[39mname\u001b[39m\u001b[39m'\u001b[39m] \u001b[39mfor\u001b[39;00m r \u001b[39min\u001b[39;00m results]\n\u001b[1;32m      <a href='vscode-notebook-cell:/Users/em.steuer/Downloads/notebooks-ordering-basemaps/jupyter-notebooks/orders_basemaps/orderbasemap.ipynb#X24sZmlsZQ%3D%3D?line=3'>4</a>\u001b[0m     \u001b[39mprint\u001b[39m(\u001b[39m'\u001b[39m\u001b[39m{}\u001b[39;00m\u001b[39m items to download\u001b[39m\u001b[39m'\u001b[39m\u001b[39m.\u001b[39mformat(\u001b[39mlen\u001b[39m(results_urls)))\n",
      "\u001b[0;31mKeyError\u001b[0m: 'location'"
     ]
    }
   ],
   "source": []
  },
  {
   "cell_type": "markdown",
   "metadata": {},
   "source": [
    "### Ordering a Basemap With a Set of Quad IDs"
   ]
  },
  {
   "cell_type": "markdown",
   "metadata": {},
   "source": [
    "you can get the quad IDs from planet explorer or if you have the basemap, you can find the quad IDs like this:"
   ]
  },
  {
   "cell_type": "code",
   "execution_count": null,
   "metadata": {},
   "outputs": [],
   "source": [
    "ORDERS_API_URL = 'https://api.planet.com/compute/ops/orders/v2'"
   ]
  },
  {
   "cell_type": "code",
   "execution_count": null,
   "metadata": {},
   "outputs": [],
   "source": [
    "API_KEY = os.environ.get('PL_API_KEY')\n",
    "GCP_CREDENTIALS = os.environ.get('GCP_CREDENTIALS')\n",
    "orders_url = 'https://api.planet.com/compute/ops/orders/v2' \n",
    "auth = HTTPBasicAuth(API_KEY, '')\n",
    "\n",
    "    \n",
    "# Setup the session\n",
    "session = requests.Session()\n",
    "\n",
    "# Authenticate\n",
    "session.auth = (API_KEY, \"\")"
   ]
  },
  {
   "cell_type": "code",
   "execution_count": null,
   "metadata": {},
   "outputs": [],
   "source": [
    "response = requests.get(orders_url, auth=session.auth)\n",
    "response"
   ]
  },
  {
   "cell_type": "markdown",
   "metadata": {},
   "source": [
    "basemap_params = {\n",
    "    'name__is': 'point_reyes_rolling_normalized_2020-04-30_mosaic'\n",
    "}"
   ]
  },
  {
   "cell_type": "code",
   "execution_count": null,
   "metadata": {},
   "outputs": [],
   "source": [
    "BASEMAP_API_URL = 'https://api.planet.com/basemaps/v1/mosaics'\n",
    "headers = {'content-type': 'application/json'}\n",
    "\n",
    "basemap_params = {\n",
    "    'name__is': 'point_reyes_rolling_normalized_2020-04-30_mosaic'\n",
    "}\n",
    "\n",
    "basemapServiceResponse = requests.get(url=BASEMAP_API_URL, params=basemap_params, auth=auth, headers=headers)\n",
    "\n",
    "basemaps = basemapServiceResponse.raise_for_status()\n",
    "if basemapServiceResponse.status_code != 204:\n",
    "    basemaps = json.loads(basemapServiceResponse.text)\n",
    "print(basemaps)"
   ]
  },
  {
   "cell_type": "code",
   "execution_count": null,
   "metadata": {},
   "outputs": [],
   "source": [
    "mosaicID = basemaps['mosaics'][0]['id']\n",
    "mosaicBbox = basemaps['mosaics'][0]['bbox']\n",
    "mosaicBboxStr = ','.join(map(str, mosaicBbox))\n",
    "\n",
    "quad_params = {\n",
    "    'mosaic_id': mosaicID,\n",
    "    'bbox': mosaicBboxStr,\n",
    "}"
   ]
  },
  {
   "cell_type": "code",
   "execution_count": null,
   "metadata": {},
   "outputs": [],
   "source": [
    "quads_url = \"{}/{}/quads\".format(BASEMAP_API_URL, mosaicID)\n",
    "quadServiceResponse = requests.get(url=quads_url, params=quad_params, auth=auth, headers=headers)\n",
    "quads = quadServiceResponse.json()\n",
    "items = quads['items']"
   ]
  },
  {
   "cell_type": "code",
   "execution_count": null,
   "metadata": {},
   "outputs": [],
   "source": [
    "quadIds = []\n",
    "for i in items:\n",
    "    quadId = i['id']\n",
    "    quadIds.append(quadId)"
   ]
  },
  {
   "cell_type": "code",
   "execution_count": null,
   "metadata": {},
   "outputs": [],
   "source": [
    "order_params = {\n",
    "   \"name\":\"basemap order with quad_ids\",\n",
    "   \"source_type\":\"basemaps\",\n",
    "   \"products\":[\n",
    "      {\n",
    "         \"mosaic_name\":\"point_reyes_rolling_normalized_2020-04-30_mosaic\",\n",
    "         \"quad_ids\": quadIds\n",
    "      }\n",
    "   ],\n",
    "    \"tools\": [\n",
    "      {\n",
    "         \"reproject\": {\n",
    "        \"projection\": \"EPSG:4326\",\n",
    "        \"resolution\": 3.0 / 111000.0,\n",
    "        \"kernel\": \"cubic\"\n",
    "      }\n",
    "      },\n",
    "      {\n",
    "      \"bandmath\": {\n",
    "        \"b1\": \"b1\",\n",
    "        \"b2\": \"b2\",\n",
    "        \"b3\": \"b3\",\n",
    "        \"b4\": \"arctan(b1)\",\n",
    "        \"b5\": \"(b4-b3)/(b4+b3)\",\n",
    "        \"pixel_type\": \"32R\"\n",
    "      }\n",
    "      \n",
    "      }\n",
    "   \n",
    "    ],\n",
    "\n",
    "    \n",
    "   \"delivery\":{\n",
    "      \"google_cloud_storage\":{\n",
    "         \"bucket\":\"notebook-practice\",\n",
    "         \"credentials\":GCP_CREDENTIALS,\n",
    "         \"path_prefix\":\"basemaps-to-cloud/\",\n",
    "      }\n",
    "   }\n",
    "}"
   ]
  },
  {
   "cell_type": "code",
   "execution_count": null,
   "metadata": {},
   "outputs": [],
   "source": [
    "paramRes = requests.post(ORDERS_API_URL, data=json.dumps(order_params), auth=auth, headers=headers)\n",
    "\n",
    "paramRes.raise_for_status()\n",
    "if paramRes.status_code != 204:\n",
    "    print(paramRes.text)"
   ]
  },
  {
   "cell_type": "code",
   "execution_count": null,
   "metadata": {},
   "outputs": [],
   "source": [
    "def place_order(order_params, auth):\n",
    "    response = requests.post(ORDERS_API_URL, data=json.dumps(order_params), auth=auth, headers=headers)\n",
    "    print(response)\n",
    "    order_id = response.json()['id']\n",
    "    print(order_id)\n",
    "    order_url = ORDERS_API_URL + '/' + order_id\n",
    "    return order_url"
   ]
  },
  {
   "cell_type": "code",
   "execution_count": null,
   "metadata": {},
   "outputs": [],
   "source": [
    "order_url = place_order(order_params, session.auth)"
   ]
  },
  {
   "cell_type": "code",
   "execution_count": null,
   "metadata": {},
   "outputs": [],
   "source": [
    "def poll_for_success(order_url, auth, num_loops=30):\n",
    "    count = 0\n",
    "    while(count < num_loops):\n",
    "        count += 1\n",
    "        r = requests.get(order_url, auth=session.auth)\n",
    "        response = r.json()\n",
    "        state = response['state']\n",
    "        print(state)\n",
    "        end_states = ['success', 'failed', 'partial']\n",
    "        if state in end_states:\n",
    "            break\n",
    "        time.sleep(10)\n",
    "        \n",
    "        \n",
    "poll_for_success(order_url, auth)"
   ]
  },
  {
   "cell_type": "code",
   "execution_count": null,
   "metadata": {},
   "outputs": [],
   "source": [
    "r = requests.get(order_url, auth=session.auth)\n",
    "response = r.json()\n",
    "results = response['_links']['results']"
   ]
  },
  {
   "cell_type": "code",
   "execution_count": null,
   "metadata": {},
   "outputs": [],
   "source": [
    "[r['name'] for r in results]"
   ]
  },
  {
   "cell_type": "code",
   "execution_count": null,
   "metadata": {},
   "outputs": [],
   "source": []
  },
  {
   "cell_type": "code",
   "execution_count": null,
   "metadata": {},
   "outputs": [],
   "source": []
  }
 ],
 "metadata": {
  "kernelspec": {
   "display_name": "Python 3 (ipykernel)",
   "language": "python",
   "name": "python3"
  },
  "language_info": {
   "codemirror_mode": {
    "name": "ipython",
    "version": 3
   },
   "file_extension": ".py",
   "mimetype": "text/x-python",
   "name": "python",
   "nbconvert_exporter": "python",
   "pygments_lexer": "ipython3",
   "version": "3.9.12"
  },
  "vscode": {
   "interpreter": {
    "hash": "40d3a090f54c6569ab1632332b64b2c03c39dcf918b08424e98f38b5ae0af88f"
   }
  }
 },
 "nbformat": 4,
 "nbformat_minor": 2
}
