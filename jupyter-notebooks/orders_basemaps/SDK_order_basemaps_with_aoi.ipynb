{
 "cells": [
  {
   "attachments": {},
   "cell_type": "markdown",
   "metadata": {},
   "source": [
    "## Overview ##\n",
    "---\n",
    "Download Basemap quads based on the mosaic name, merged and clipped to area of interest.\n",
    "\n",
    "For example, from Explorer, I've defined my area of interest and downloaded that geoJSON.\n",
    "\n",
    "I've selected the basemap:\n",
    "\n",
    "global_monthly_2022_01_mosaic\n",
    "\n",
    "and downloaded my Area of Interest.\n",
    "\n",
    "To view the basemap, I clicked on the arrow-in-a-box icon to open that basemap in the Basemap viewer.\n",
    "\n",
    "To see all quads in my subject area, I uploaded my Area of Interest.\n",
    "\n",
    "326-1257,327-1257,328-1257,326-1256,327-1256,328-1256,326-1255,327-1255,328-1255\n"
   ]
  },
  {
   "attachments": {},
   "cell_type": "markdown",
   "metadata": {},
   "source": [
    "<a name=\"Get-a-basemap-ID\"></a> \n",
    "## Get a basemap ID\n",
    "---\n",
    "\n",
    "You can get a basemap ID from Planet Explorer or the Basemap Viewer.\n",
    "\n",
    "### Get a basemap ID from Planet Explorer\n",
    "You&#8217;ll need a basemap ID to work identify what basemap to download.\n",
    "\n",
    "To pick a basemap, you can open <a href=\"https://www.planet.com/explorer/#\" target=\"_blank\">Planet Explorer</a> and select a basemap from the dropdown menu in the lower left corner. (If you don't have access to basemaps, you'll see a message confirming in the lower right corner. Select \"Get Access\" to sign up for basemaps or speak to your customer service manager.)\n",
    "\n",
    "Once you've selected a basemap, the Explorer updates to include that basemap in the view.\n",
    "\n",
    "Select the search icon and time cadence, for example monthly or quarterly. Then select one of the resulting basemap IDs, such as \"global_monthly_2022_05_mosaic.\" That's the value you'll be passing into the Orders API. \n",
    "\n",
    "### Get a basemap ID from the Basemap Viewer\n",
    "\n",
    "To pick a basemap, you can open the Basemap Viewer and select a basemap from the left sidebar menu, using the filter to narrow down the basemap you want.\n",
    "\n",
    "Once you've selected a basemap, and selected the right arrow >, the basemap ID displays, such as \"global_monthly_2022_01_mosaic.\" That's the value you'll be passing into the Orders API."
   ]
  },
  {
   "attachments": {},
   "cell_type": "markdown",
   "metadata": {},
   "source": [
    "<a name=\"how-to-get-started\"></a> \n",
    "## Start coding\n",
    "\n",
    "---\n",
    "Next set up a session by importing needed Python packages, pulling in your API Key, and make an initial request (to retrieve the Orders API parameters) to confirm a connection with the server."
   ]
  },
  {
   "cell_type": "code",
   "execution_count": 17,
   "metadata": {},
   "outputs": [],
   "source": [
    "import planet\n",
    "import os\n",
    "from planet import Auth\n",
    "from planet import OrdersClient\n",
    "from planet import Session\n",
    "\n"
   ]
  },
  {
   "cell_type": "code",
   "execution_count": 18,
   "metadata": {},
   "outputs": [],
   "source": [
    "API_KEY = os.environ.get('PL_API_KEY')\n",
    "GCP_CREDENTIALS = os.environ.get('GCP_CREDENTIALS')\n",
    "auth = Auth.from_key(API_KEY)\n"
   ]
  },
  {
   "attachments": {},
   "cell_type": "markdown",
   "metadata": {},
   "source": [
    "### Create an order packet\n",
    "---\n",
    "Package up the details of your order in a JSON object and make a POST request, passing in the Orders URL, your JSON, your API key, and the content-type header. "
   ]
  },
  {
   "cell_type": "code",
   "execution_count": 19,
   "metadata": {},
   "outputs": [],
   "source": [
    "order_params = {\n",
    "   \"name\": \"basemap order with geometry\",\n",
    "   \"source_type\": \"basemaps\",\n",
    "   \"order_type\":\"partial\",\n",
    "   \"products\": [\n",
    "       {\n",
    "           \"mosaic_name\": \"global_monthly_2022_01_mosaic\",\n",
    "           \"geometry\":{\n",
    "               \"type\": \"Polygon\",\n",
    "               \"coordinates\":[\n",
    "                   [\n",
    "                       [ 4.607406, 52.353994 ],\n",
    "                        [ 4.680005, 52.353994 ],\n",
    "                        [ 4.680005, 52.395523 ],\n",
    "                        [ 4.607406, 52.395523 ],\n",
    "                        [ 4.607406, 52.353994 ]\n",
    "                   ]\n",
    "               ]\n",
    "           }\n",
    "      }\n",
    "  ],\n",
    "    \"tools\": [\n",
    "      {\"merge\": {}},\n",
    "      {\"clip\": {}}\n",
    "      \n",
    "\n",
    "  ],\n",
    " \"delivery\":{\n",
    "      \"google_cloud_storage\":{\n",
    "         \"bucket\":\"notebook-practice\",\n",
    "         \"credentials\":GCP_CREDENTIALS,\n",
    "         \"path_prefix\":\"basemaps-to-cloud/\"\n",
    "      }\n",
    "\n",
    "\n",
    " }\n",
    "}\n",
    "\n"
   ]
  },
  {
   "attachments": {},
   "cell_type": "markdown",
   "metadata": {},
   "source": [
    "### Create a session with SDK and poll for success\n",
    "\n",
    "Here, we are creating a session with the SDK and creating the order using the order parameters. Then, we are polling for success. This may take a few minutes to complete.\n",
    "\n"
   ]
  },
  {
   "cell_type": "code",
   "execution_count": 20,
   "metadata": {},
   "outputs": [
    {
     "name": "stderr",
     "output_type": "stream",
     "text": [
      "00:05 - order db5ed0e0-c8fe-48d6-ad15-a62243b47632 - state: failed \n"
     ]
    }
   ],
   "source": [
    "with planet.reporting.StateBar(state='creating') as reporter:\n",
    "    async with Session() as sess:\n",
    "        client = OrdersClient(sess)\n",
    "        # perform operations here\n",
    "        order = await client.create_order(order_params)\n",
    "        reporter.update(state='created', order_id=order['id'])\n",
    "        await client.wait(order['id'], callback=reporter.update_state,\n",
    "                        max_attempts=0)"
   ]
  },
  {
   "attachments": {},
   "cell_type": "markdown",
   "metadata": {},
   "source": [
    "### Download the order\n",
    "\n",
    "Finally, we download the order using download_order from the SDK and print the result."
   ]
  },
  {
   "cell_type": "code",
   "execution_count": 21,
   "metadata": {},
   "outputs": [
    {
     "name": "stdout",
     "output_type": "stream",
     "text": [
      "{'_links': {'_self': 'https://api.planet.com/compute/ops/orders/v2/db5ed0e0-c8fe-48d6-ad15-a62243b47632'}, 'created_on': '2023-01-10T22:45:43.100Z', 'delivery': {'google_cloud_storage': {'bucket': 'notebook-practice', 'credentials': '<REDACTED>', 'path_prefix': 'basemaps-to-cloud/'}}, 'error_hints': [], 'id': 'db5ed0e0-c8fe-48d6-ad15-a62243b47632', 'last_message': 'Preparing order', 'last_modified': '2023-01-10T22:45:43.100Z', 'name': 'basemap order with geometry', 'order_type': 'partial', 'products': [{'geometry': {'coordinates': [[[4.607406, 52.353994], [4.680005, 52.353994], [4.680005, 52.395523], [4.607406, 52.395523], [4.607406, 52.353994]]], 'type': 'Polygon'}, 'mosaic_name': 'global_monthly_2022_01_mosaic'}], 'source_type': 'basemaps', 'state': 'queued', 'tools': [{'merge': {}}, {'clip': {}}]}\n"
     ]
    }
   ],
   "source": [
    "async def create_and_download(order_detail, directory, client):\n",
    "    with planet.reporting.StateBar(state='creating') as reporter:\n",
    "        # create\n",
    "        order = await client.create_order(order_detail)\n",
    "        reporter.update(state='created', order_id=order['id'])\n",
    "\n",
    "        # wait for completion\n",
    "        await client.wait(order['id'], callback=reporter.update_state)\n",
    "\n",
    "    # download\n",
    "    await client.download_order(order['id'], directory, progress_bar=True)\n",
    "\n",
    "print(order)"
   ]
  }
 ],
 "metadata": {
  "kernelspec": {
   "display_name": "Python 3.9.12 ('base')",
   "language": "python",
   "name": "python3"
  },
  "language_info": {
   "codemirror_mode": {
    "name": "ipython",
    "version": 3
   },
   "file_extension": ".py",
   "mimetype": "text/x-python",
   "name": "python",
   "nbconvert_exporter": "python",
   "pygments_lexer": "ipython3",
   "version": "3.9.12"
  },
  "orig_nbformat": 4,
  "vscode": {
   "interpreter": {
    "hash": "40d3a090f54c6569ab1632332b64b2c03c39dcf918b08424e98f38b5ae0af88f"
   }
  }
 },
 "nbformat": 4,
 "nbformat_minor": 2
}
