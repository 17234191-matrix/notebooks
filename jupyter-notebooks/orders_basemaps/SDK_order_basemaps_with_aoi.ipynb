{
 "cells": [
  {
   "cell_type": "code",
   "execution_count": 4,
   "metadata": {},
   "outputs": [],
   "source": [
    "import planet\n",
    "import os\n",
    "from planet import Auth\n",
    "from planet import OrdersClient\n",
    "from planet import Session\n",
    "\n"
   ]
  },
  {
   "cell_type": "code",
   "execution_count": 5,
   "metadata": {},
   "outputs": [
    {
     "name": "stdout",
     "output_type": "stream",
     "text": [
      "<planet.auth.APIKeyAuth object at 0x7fb60879e610>\n",
      "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\n"
     ]
    }
   ],
   "source": [
    "API_KEY = os.environ.get('PL_API_KEY')\n",
    "GCP_CREDENTIALS = os.environ.get('GCP_CREDENTIALS')\n",
    "auth = Auth.from_key(API_KEY)\n",
    "print(auth)\n",
    "print(GCP_CREDENTIALS)"
   ]
  },
  {
   "cell_type": "code",
   "execution_count": 6,
   "metadata": {},
   "outputs": [],
   "source": [
    "order_params = {\n",
    "   \"name\": \"basemap order with geometry\",\n",
    "   \"source_type\": \"basemaps\",\n",
    "   \"order_type\":\"partial\",\n",
    "   \"products\": [\n",
    "       {\n",
    "           \"mosaic_name\": \"global_monthly_2022_01_mosaic\",\n",
    "           \"geometry\":{\n",
    "               \"type\": \"Polygon\",\n",
    "               \"coordinates\":[\n",
    "                   [\n",
    "                       [ 4.607406, 52.353994 ],\n",
    "                        [ 4.680005, 52.353994 ],\n",
    "                        [ 4.680005, 52.395523 ],\n",
    "                        [ 4.607406, 52.395523 ],\n",
    "                        [ 4.607406, 52.353994 ]\n",
    "                   ]\n",
    "               ]\n",
    "           }\n",
    "      }\n",
    "  ],\n",
    "    \"tools\": [\n",
    "      {\"merge\": {}},\n",
    "      {\"clip\": {}}\n",
    "      \n",
    "\n",
    "  ],\n",
    " \"delivery\":{\n",
    "      \"google_cloud_storage\":{\n",
    "         \"bucket\":\"notebook-practice\",\n",
    "         \"credentials\":GCP_CREDENTIALS,\n",
    "         \"path_prefix\":\"basemaps-to-cloud/\"\n",
    "      }\n",
    "\n",
    "\n",
    " }\n",
    "}\n",
    "\n"
   ]
  },
  {
   "cell_type": "code",
   "execution_count": 7,
   "metadata": {},
   "outputs": [
    {
     "name": "stderr",
     "output_type": "stream",
     "text": [
      "05:56 - order b45a3b81-dea6-42f7-a9fa-85c6a8afe0c2 - state: success\n"
     ]
    }
   ],
   "source": [
    "with planet.reporting.StateBar(state='creating') as reporter:\n",
    "    async with Session() as sess:\n",
    "        client = OrdersClient(sess)\n",
    "        # perform operations here\n",
    "        order = await client.create_order(order_params)\n",
    "        reporter.update(state='created', order_id=order['id'])\n",
    "        await client.wait(order['id'], callback=reporter.update_state,\n",
    "                        max_attempts=0)"
   ]
  },
  {
   "cell_type": "code",
   "execution_count": 8,
   "metadata": {},
   "outputs": [],
   "source": [
    "async def create_and_download(order_detail, directory, client):\n",
    "    with planet.reporting.StateBar(state='creating') as reporter:\n",
    "        # create\n",
    "        order = await client.create_order(order_detail)\n",
    "        reporter.update(state='created', order_id=order['id'])\n",
    "\n",
    "        # wait for completion\n",
    "        await client.wait(order['id'], callback=reporter.update_state)\n",
    "\n",
    "    # download\n",
    "    await client.download_order(order['id'], directory, progress_bar=True)"
   ]
  },
  {
   "cell_type": "code",
   "execution_count": 9,
   "metadata": {},
   "outputs": [
    {
     "name": "stdout",
     "output_type": "stream",
     "text": [
      "{'_links': {'_self': 'https://api.planet.com/compute/ops/orders/v2/b45a3b81-dea6-42f7-a9fa-85c6a8afe0c2'}, 'created_on': '2022-12-07T00:52:28.521Z', 'delivery': {'google_cloud_storage': {'bucket': 'notebook-practice', 'credentials': '<REDACTED>', 'path_prefix': 'basemaps-to-cloud/'}}, 'error_hints': [], 'id': 'b45a3b81-dea6-42f7-a9fa-85c6a8afe0c2', 'last_message': 'Preparing order', 'last_modified': '2022-12-07T00:52:28.521Z', 'name': 'basemap order with geometry', 'order_type': 'partial', 'products': [{'geometry': {'coordinates': [[[4.607406, 52.353994], [4.680005, 52.353994], [4.680005, 52.395523], [4.607406, 52.395523], [4.607406, 52.353994]]], 'type': 'Polygon'}, 'mosaic_name': 'global_monthly_2022_01_mosaic'}], 'source_type': 'basemaps', 'state': 'queued', 'tools': [{'merge': {}}, {'clip': {}}]}\n"
     ]
    }
   ],
   "source": [
    "print(order)"
   ]
  },
  {
   "cell_type": "code",
   "execution_count": 10,
   "metadata": {},
   "outputs": [],
   "source": [
    "order_id = order['id']"
   ]
  },
  {
   "cell_type": "markdown",
   "metadata": {},
   "source": []
  },
  {
   "cell_type": "markdown",
   "metadata": {},
   "source": [
    "Quad id"
   ]
  },
  {
   "cell_type": "markdown",
   "metadata": {},
   "source": []
  }
 ],
 "metadata": {
  "kernelspec": {
   "display_name": "Python 3.9.12 ('base')",
   "language": "python",
   "name": "python3"
  },
  "language_info": {
   "codemirror_mode": {
    "name": "ipython",
    "version": 3
   },
   "file_extension": ".py",
   "mimetype": "text/x-python",
   "name": "python",
   "nbconvert_exporter": "python",
   "pygments_lexer": "ipython3",
   "version": "3.9.12"
  },
  "orig_nbformat": 4,
  "vscode": {
   "interpreter": {
    "hash": "40d3a090f54c6569ab1632332b64b2c03c39dcf918b08424e98f38b5ae0af88f"
   }
  }
 },
 "nbformat": 4,
 "nbformat_minor": 2
}
