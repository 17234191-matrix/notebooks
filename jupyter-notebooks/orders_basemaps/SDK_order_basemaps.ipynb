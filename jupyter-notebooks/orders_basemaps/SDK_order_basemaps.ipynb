{
 "cells": [
  {
   "attachments": {},
   "cell_type": "markdown",
   "metadata": {},
   "source": [
    "# Order a Basemap Using the Orders API & SDK via AOI & Quad ID"
   ]
  },
  {
   "attachments": {},
   "cell_type": "markdown",
   "metadata": {},
   "source": [
    "## Overview ##\n",
    "---\n",
    "In this notebook, you will learn how to order a [Planet Basemap](https://developers.planet.com/docs/data/visual-basemaps/) using your [Area of Interest](https://developers.planet.com/apis/orders/basemaps/#order-basemaps-by-area-of-interest-aoi) (AOI) and a [Quad ID](https://developers.planet.com/apis/orders/basemaps/#order-basemaps-by-quad-ids-and-deliver-to-cloud). We will place this order via Planet's [Orders API](https://developers.planet.com/apis/orders/) using our Planet Python [SDK](https://planet-sdk-for-python-v2.readthedocs.io/en/latest/python/sdk-guide/). \n",
    "\n",
    "1. Get a Basemap ID using either [Planet Explorer](https://developers.planet.com/docs/apps/explorer/) or the [Basemap Viewer](https://www.planet.com/basemaps/#/mosaic/). \n",
    "2. Create a JSON order packet with order parameters.\n",
    "3. Set up a session with the Planet SDK, and place the order, [delivering]((https://developers.planet.com/apis/orders/delivery/)) the resulting Basemap to a Google Cloud Storage bucket. \n",
    "4. Repeat steps 1-3 using quad IDs. "
   ]
  },
  {
   "attachments": {},
   "cell_type": "markdown",
   "metadata": {},
   "source": [
    "## Order a Basemap using an AOI\n",
    "---\n",
    "### First, find a Basemap to order\n",
    "You can get a Basemap ID from Planet Explorer or the Basemap Viewer.\n",
    "\n",
    "#### Option 1: Get a basemap ID from Planet Explorer\n",
    "You'll need a basemap ID to identify what basemap to download.\n",
    "\n",
    "To pick a basemap, you can open [Planet Explorer](https://www.planet.com/explorer/#) (you can learn more about Planet Explorer [here](https://developers.planet.com/docs/apps/explorer/)) and select a basemap from the dropdown menu in the lower left corner. (If you don't have access to basemaps, you'll see a message confirming in the lower right corner. Select \"Get Access\" to sign up for Basemaps or speak to your customer service manager.)\n",
    "\n",
    "Once you've selected a Basemap, the Explorer updates to include that basemap in the view.\n",
    "\n",
    "Select the search icon and time cadence, for example `monthly` or `quarterly`. Then select one of the resulting basemap IDs, such as `global_monthly_2022_01_mosaic`. That's the value you'll be passing into the Orders API. \n",
    "\n",
    "#### Option 2: Get a basemap ID from the Basemap Viewer\n",
    "\n",
    "To pick a basemap, you can open the [Basemap Viewer](https://www.planet.com/basemaps/#/mosaic/) (you can learn more about the Basemap Viewer [here](https://developers.planet.com/docs/apps/basemapsviewer/)) and select a basemap from the left sidebar menu, using the filter to narrow down the basemap you want. \n",
    "\n",
    "Once you've selected a basemap, and selected the right arrow >, the basemap ID displays, such as `global_monthly_2022_01_mosaic`. That's the value you'll be passing into the Orders API."
   ]
  },
  {
   "attachments": {},
   "cell_type": "markdown",
   "metadata": {},
   "source": [
    "### Import Planet and Related Packages\n",
    "\n",
    "---\n",
    "\n",
    "Make sure you have Planet's Python SDK properly downloaded. You can find out more about this [here](https://developers.planet.com/docs/pythonclient/). Find your [API key](https://developers.planet.com/quickstart/apis/).\n",
    "\n",
    "Next set up a session by importing needed Python packages, pulling in your API Key, and make an initial request (to retrieve the Orders API parameters) to confirm a connection with the server.\n",
    "\n",
    "Create a Google Cloud Platform (GCP) storage bucket with these [instructions](https://cloud.google.com/storage/docs/creating-buckets). This is where we are delivering the data. Creating the bucket will create the credentials for you, and you can convert it to Base64 using these [instructions](https://cloud.google.com/vision/docs/base64) and save this as an environment variable. "
   ]
  },
  {
   "cell_type": "code",
   "execution_count": 81,
   "metadata": {},
   "outputs": [],
   "source": [
    "import planet\n",
    "import os\n",
    "import copy\n",
    "import requests\n",
    "from requests.auth import HTTPBasicAuth\n",
    "from urllib3.util.retry import Retry\n",
    "from requests.adapters import HTTPAdapter\n",
    "import asyncio"
   ]
  },
  {
   "cell_type": "code",
   "execution_count": 82,
   "metadata": {},
   "outputs": [],
   "source": [
    "PL_API_KEY = os.environ.get('PL_API_KEY')\n",
    "GCP_CREDENTIALS = os.environ.get('GCP_CREDENTIALS')\n",
    "auth = planet.Auth.from_key(PL_API_KEY)"
   ]
  },
  {
   "attachments": {},
   "cell_type": "markdown",
   "metadata": {},
   "source": [
    "### Create an order packet\n",
    "---\n",
    "Package up the details of your order in a [JSON object](https://developers.planet.com/apis/orders/basemaps/#example-order-query-json-block) and make a POST request, passing in the Orders URL, your JSON, your API key, and the content-type header. We are [delivering](https://developers.planet.com/apis/orders/delivery/) this order to a Google Cloud Storage bucket. In this request, we are also using the tools [merge](https://developers.planet.com/apis/orders/tools/#merge) and [clip](https://developers.planet.com/apis/orders/tools/#clip).  ADD MOSAIC NAME HERE !!!!"
   ]
  },
  {
   "cell_type": "code",
   "execution_count": 49,
   "metadata": {},
   "outputs": [],
   "source": [
    "BASEMAP_API_URL = 'https://api.planet.com/basemaps/v1/mosaics'\n"
   ]
  },
  {
   "cell_type": "code",
   "execution_count": 50,
   "metadata": {},
   "outputs": [],
   "source": [
    "order_params = {\n",
    "    \"name\": \"basemap order with geometry\",\n",
    "    \"source_type\": \"basemaps\",\n",
    "    \"order_type\": \"partial\",\n",
    "    \"products\": [\n",
    "        {\n",
    "            \"mosaic_name\": \"global_monthly_2022_01_mosaic\",\n",
    "            \"geometry\": {\n",
    "                \"type\": \"Polygon\",\n",
    "                \"coordinates\": [\n",
    "                   [\n",
    "                       [4.607406, 52.353994],\n",
    "                       [4.680005, 52.353994],\n",
    "                       [4.680005, 52.395523],\n",
    "                       [4.607406, 52.395523],\n",
    "                       [4.607406, 52.353994]\n",
    "                   ]\n",
    "                ]\n",
    "            }\n",
    "        }\n",
    "    ],\n",
    "    \"delivery\": {\n",
    "        \"google_cloud_storage\": {\n",
    "            \"bucket\": \"devrel-notebooks\",\n",
    "            \"credentials\": GCP_CREDENTIALS,\n",
    "            \"path_prefix\": \"basemaps-to-cloud/\"\n",
    "        }\n",
    "    }\n",
    "}"
   ]
  },
  {
   "attachments": {},
   "cell_type": "markdown",
   "metadata": {},
   "source": [
    "### Create a session with SDK and poll for success\n",
    "\n",
    "Here, we are creating an order using the SDK. Then we are waiting for the order to be delievered to our GCP storage bucket. Note that this can take some time."
   ]
  },
  {
   "cell_type": "code",
   "execution_count": 51,
   "metadata": {},
   "outputs": [],
   "source": [
    "async def create_and_deliver_order(order_params, client):\n",
    "    '''Create an order and wait for it to delivered\n",
    "\n",
    "    Parameters:\n",
    "        order_params: An order request\n",
    "        client: An Order client object\n",
    "    '''\n",
    "    with planet.reporting.StateBar(state='creating') as reporter:\n",
    "        # Place an order to the Orders API\n",
    "        order = await client.create_order(order_params)\n",
    "        reporter.update(state='created', order_id=order['id'])\n",
    "        # Wait while the order is being completed\n",
    "        await client.wait(order['id'], callback=reporter.update_state,\n",
    "                          max_attempts=0)"
   ]
  },
  {
   "cell_type": "code",
   "execution_count": 52,
   "metadata": {},
   "outputs": [
    {
     "name": "stderr",
     "output_type": "stream",
     "text": [
      "00:21 - order 8f325f58-35f3-4918-87a3-e0c5ea7e660a - state: running\n"
     ]
    },
    {
     "ename": "CancelledError",
     "evalue": "",
     "output_type": "error",
     "traceback": [
      "\u001b[0;31m---------------------------------------------------------------------------\u001b[0m",
      "\u001b[0;31mCancelledError\u001b[0m                            Traceback (most recent call last)",
      "\u001b[1;32m/Users/em.steuer/repos/notebooks/jupyter-notebooks/orders_basemaps/SDK_order_basemaps.ipynb Cell 12\u001b[0m in \u001b[0;36mcreate_and_deliver_order\u001b[0;34m(order_params, client)\u001b[0m\n\u001b[1;32m     <a href='vscode-notebook-cell:/Users/em.steuer/repos/notebooks/jupyter-notebooks/orders_basemaps/SDK_order_basemaps.ipynb#X53sZmlsZQ%3D%3D?line=11'>12</a>\u001b[0m \u001b[39m# Wait while the order is being completed\u001b[39;00m\n\u001b[0;32m---> <a href='vscode-notebook-cell:/Users/em.steuer/repos/notebooks/jupyter-notebooks/orders_basemaps/SDK_order_basemaps.ipynb#X53sZmlsZQ%3D%3D?line=12'>13</a>\u001b[0m \u001b[39mawait\u001b[39;00m client\u001b[39m.\u001b[39mwait(order[\u001b[39m'\u001b[39m\u001b[39mid\u001b[39m\u001b[39m'\u001b[39m], callback\u001b[39m=\u001b[39mreporter\u001b[39m.\u001b[39mupdate_state,\n\u001b[1;32m     <a href='vscode-notebook-cell:/Users/em.steuer/repos/notebooks/jupyter-notebooks/orders_basemaps/SDK_order_basemaps.ipynb#X53sZmlsZQ%3D%3D?line=13'>14</a>\u001b[0m                   max_attempts\u001b[39m=\u001b[39m\u001b[39m0\u001b[39m)\n",
      "File \u001b[0;32m/opt/anaconda3/lib/python3.9/site-packages/planet/clients/orders.py:455\u001b[0m, in \u001b[0;36mOrdersClient.wait\u001b[0;34m(self, order_id, state, delay, max_attempts, callback)\u001b[0m\n\u001b[1;32m    454\u001b[0m LOGGER\u001b[39m.\u001b[39mdebug(\u001b[39mf\u001b[39m\u001b[39m'\u001b[39m\u001b[39msleeping \u001b[39m\u001b[39m{\u001b[39;00msleep_time\u001b[39m}\u001b[39;00m\u001b[39ms\u001b[39m\u001b[39m'\u001b[39m)\n\u001b[0;32m--> 455\u001b[0m \u001b[39mawait\u001b[39;00m asyncio\u001b[39m.\u001b[39msleep(sleep_time)\n\u001b[1;32m    457\u001b[0m num_attempts \u001b[39m+\u001b[39m\u001b[39m=\u001b[39m \u001b[39m1\u001b[39m\n",
      "File \u001b[0;32m/opt/anaconda3/lib/python3.9/asyncio/tasks.py:652\u001b[0m, in \u001b[0;36msleep\u001b[0;34m(delay, result, loop)\u001b[0m\n\u001b[1;32m    651\u001b[0m \u001b[39mtry\u001b[39;00m:\n\u001b[0;32m--> 652\u001b[0m     \u001b[39mreturn\u001b[39;00m \u001b[39mawait\u001b[39;00m future\n\u001b[1;32m    653\u001b[0m \u001b[39mfinally\u001b[39;00m:\n",
      "\u001b[0;31mCancelledError\u001b[0m: ",
      "\nDuring handling of the above exception, another exception occurred:\n",
      "\u001b[0;31mCancelledError\u001b[0m                            Traceback (most recent call last)",
      "\u001b[1;32m/Users/em.steuer/repos/notebooks/jupyter-notebooks/orders_basemaps/SDK_order_basemaps.ipynb Cell 12\u001b[0m in \u001b[0;36m<cell line: 1>\u001b[0;34m()\u001b[0m\n\u001b[1;32m      <a href='vscode-notebook-cell:/Users/em.steuer/repos/notebooks/jupyter-notebooks/orders_basemaps/SDK_order_basemaps.ipynb#X53sZmlsZQ%3D%3D?line=2'>3</a>\u001b[0m client \u001b[39m=\u001b[39m ps\u001b[39m.\u001b[39mclient(\u001b[39m'\u001b[39m\u001b[39morders\u001b[39m\u001b[39m'\u001b[39m)\n\u001b[1;32m      <a href='vscode-notebook-cell:/Users/em.steuer/repos/notebooks/jupyter-notebooks/orders_basemaps/SDK_order_basemaps.ipynb#X53sZmlsZQ%3D%3D?line=3'>4</a>\u001b[0m \u001b[39m# Create the order and deliver it to GCP\u001b[39;00m\n\u001b[0;32m----> <a href='vscode-notebook-cell:/Users/em.steuer/repos/notebooks/jupyter-notebooks/orders_basemaps/SDK_order_basemaps.ipynb#X53sZmlsZQ%3D%3D?line=4'>5</a>\u001b[0m \u001b[39mawait\u001b[39;00m asyncio\u001b[39m.\u001b[39mgather(create_and_deliver_order(order_params, client))\n",
      "\u001b[0;31mCancelledError\u001b[0m: "
     ]
    }
   ],
   "source": [
    "async with planet.Session() as ps:\n",
    "    # The Orders API client\n",
    "    client = ps.client('orders')\n",
    "    # Create the order and deliver it to GCP\n",
    "    await asyncio.gather(create_and_deliver_order(order_params, client))\n",
    "    \n",
    "    "
   ]
  },
  {
   "attachments": {},
   "cell_type": "markdown",
   "metadata": {},
   "source": [
    "### Check your results\n",
    "\n",
    "After a few simple steps, we have a basemap delivered to our Google Cloud Platform bucket using the Planet Python SDK."
   ]
  },
  {
   "attachments": {},
   "cell_type": "markdown",
   "metadata": {},
   "source": [
    "## Use Basemaps API to get the Basemap and quad IDs\n",
    "---\n",
    "\n",
    "### What is a Quad ID? \n",
    "\n",
    "A quad ID is a unique identifer to access a square tile of imagery of the Earth's surface, whereas a Basemap is a combination of squares. \n",
    "\n",
    "Use the Basemap APIs to retrieve the basemap you want and the quad IDs you are looking for. You can get the base URL you'll need to communicate with the Basemap API service:\n",
    "\n",
    "1. Go to the [Basemap API reference](https://developers.planet.com/docs/basemaps/reference/) at https://developers.planet.com/docs/basemaps/reference/. \n",
    "2. Under List Mosaics, select GET /mosaics.\n",
    "\n",
    "A dropdown UI element appears with the URL to use:\n",
    "\n",
    "https://api.planet.com/basemaps/v1/mosaics\n"
   ]
  },
  {
   "cell_type": "code",
   "execution_count": 53,
   "metadata": {},
   "outputs": [],
   "source": [
    "from requests.adapters import HTTPAdapter\n",
    "from urllib3.util.retry import Retry"
   ]
  },
  {
   "cell_type": "code",
   "execution_count": 54,
   "metadata": {},
   "outputs": [],
   "source": [
    "auth = HTTPBasicAuth(PL_API_KEY, '')\n",
    "session = requests.Session()\n",
    "\n",
    "# Authenticate\n",
    "session.auth = (PL_API_KEY, '')"
   ]
  },
  {
   "cell_type": "code",
   "execution_count": 55,
   "metadata": {},
   "outputs": [],
   "source": [
    "def handle_pagination(session, url, params, key='items'):\n",
    "    \"\"\"Handle paginated URLs\"\"\"\n",
    "    while True:\n",
    "        response = session.get(url, params=params)\n",
    "        response.raise_for_status()\n",
    "        body = response.json()\n",
    "        for item in body[key]:\n",
    "            yield item\n",
    "\n",
    "        if '_next' in body['_links']:\n",
    "            url = body['_links']['_next']\n",
    "        else:\n",
    "            break"
   ]
  },
  {
   "cell_type": "code",
   "execution_count": 56,
   "metadata": {},
   "outputs": [],
   "source": [
    "BASEMAP_API_URL = 'https://api.planet.com/basemaps/v1/mosaics'\n",
    "\n",
    "# Wait and retry automatically on 429 \"slow down\" responses\n",
    "retries = Retry(total=10, backoff_factor=1, status_forcelist=[429])\n",
    "session.mount('https://', HTTPAdapter(max_retries=retries))\n",
    "\n",
    "\n",
    "basemap_params = {\n",
    "    'name__is': 'fusion_v120rc4_2022-11-04_mosaic'\n",
    "}\n",
    "\n",
    "session.headers.update({'content-type': 'application/json'})"
   ]
  },
  {
   "cell_type": "code",
   "execution_count": 57,
   "metadata": {},
   "outputs": [],
   "source": [
    "mosaic, = handle_pagination(session, BASEMAP_API_URL, basemap_params, 'mosaics')\n",
    "\n",
    "quad_params = {\n",
    "    'bbox': ','.join(map(str, mosaic['bbox']))\n",
    "}\n",
    "quads_url = \"{}/{}/quads\".format(BASEMAP_API_URL, mosaic['id'])\n",
    "quads = handle_pagination(session, quads_url, quad_params)\n",
    "\n",
    "quad_ids = [item['id'] for item in quads if 'download' in item['_links']]\n"
   ]
  },
  {
   "cell_type": "code",
   "execution_count": 58,
   "metadata": {},
   "outputs": [],
   "source": [
    "order_params = {\n",
    "    \"name\": \"basemap order with quad_ids\",\n",
    "    \"source_type\": \"basemaps\",\n",
    "    \"products\": [\n",
    "        {\n",
    "            \"mosaic_name\": \"fusion_v120rc4_2022-11-04_mosaic\",\n",
    "            \"quad_ids\": quad_ids\n",
    "        }\n",
    "    ],\n",
    "    \"tools\": [\n",
    "        {\n",
    "            \"bandmath\": {\n",
    "                \"b1\": \"b1\",\n",
    "                \"b2\": \"b2\",\n",
    "                \"b3\": \"b3\",\n",
    "                \"b4\": \"b4\",\n",
    "                \"b5\": \"(b4-b3)/(b4+b3)\",\n",
    "                \"pixel_type\": \"32R\"\n",
    "            }\n",
    "        }\n",
    "    ],\n",
    "    \"delivery\": {\n",
    "        \"google_cloud_storage\": {\n",
    "            \"bucket\": \"devrel-notebooks\",\n",
    "            \"credentials\": GCP_CREDENTIALS,\n",
    "            \"path_prefix\": \"basemaps-to-cloud/\",\n",
    "        }\n",
    "    }\n",
    "}"
   ]
  },
  {
   "cell_type": "code",
   "execution_count": 59,
   "metadata": {},
   "outputs": [
    {
     "data": {
      "text/plain": [
       "[None, None]"
      ]
     },
     "execution_count": 59,
     "metadata": {},
     "output_type": "execute_result"
    }
   ],
   "source": [
    "order_params_1 = copy.deepcopy(order_params)\n",
    "order_params_2 = copy.deepcopy(order_params)\n",
    "\n",
    "all_order_params = [order_params_1, order_params_2]\n",
    "batched_quad_ids = [quad_ids[i:i + 100] for i in range(0, len(quad_ids), 100)]\n",
    "[all_order_params[i]['products'][0].__setitem__('quad_ids', batched_quad_ids[i]) for i in range(len(batched_quad_ids))]"
   ]
  },
  {
   "cell_type": "code",
   "execution_count": 60,
   "metadata": {},
   "outputs": [
    {
     "name": "stderr",
     "output_type": "stream",
     "text": [
      "00:00 - order  - state: creating\n"
     ]
    },
    {
     "ename": "BadQuery",
     "evalue": "{\"field\":null,\"general\":[{\"message\":\"Unable to accept order: validation of input quads failed: Bad Request : {\\\"message\\\":\\\"Maximum number of IDS is 100\\\"}\\n\"}]}\n",
     "output_type": "error",
     "traceback": [
      "\u001b[0;31m---------------------------------------------------------------------------\u001b[0m",
      "\u001b[0;31mHTTPStatusError\u001b[0m                           Traceback (most recent call last)",
      "File \u001b[0;32m/opt/anaconda3/lib/python3.9/site-packages/planet/http.py:279\u001b[0m, in \u001b[0;36mSession._raise_for_status\u001b[0;34m(cls, response)\u001b[0m\n\u001b[1;32m    278\u001b[0m \u001b[39mtry\u001b[39;00m:\n\u001b[0;32m--> 279\u001b[0m     response\u001b[39m.\u001b[39;49mraise_for_status()\n\u001b[1;32m    280\u001b[0m \u001b[39mexcept\u001b[39;00m httpx\u001b[39m.\u001b[39mHTTPStatusError \u001b[39mas\u001b[39;00m e:\n",
      "File \u001b[0;32m/opt/anaconda3/lib/python3.9/site-packages/httpx/_models.py:736\u001b[0m, in \u001b[0;36mResponse.raise_for_status\u001b[0;34m(self)\u001b[0m\n\u001b[1;32m    735\u001b[0m message \u001b[39m=\u001b[39m message\u001b[39m.\u001b[39mformat(\u001b[39mself\u001b[39m, error_type\u001b[39m=\u001b[39merror_type)\n\u001b[0;32m--> 736\u001b[0m \u001b[39mraise\u001b[39;00m HTTPStatusError(message, request\u001b[39m=\u001b[39mrequest, response\u001b[39m=\u001b[39m\u001b[39mself\u001b[39m)\n",
      "\u001b[0;31mHTTPStatusError\u001b[0m: Client error '400 Bad Request' for url 'https://api.planet.com/compute/ops/orders/v2'\nFor more information check: https://httpstatuses.com/400",
      "\nDuring handling of the above exception, another exception occurred:\n",
      "\u001b[0;31mBadQuery\u001b[0m                                  Traceback (most recent call last)",
      "\u001b[1;32m/Users/em.steuer/repos/notebooks/jupyter-notebooks/orders_basemaps/SDK_order_basemaps.ipynb Cell 22\u001b[0m in \u001b[0;36m<cell line: 1>\u001b[0;34m()\u001b[0m\n\u001b[1;32m      <a href='vscode-notebook-cell:/Users/em.steuer/repos/notebooks/jupyter-notebooks/orders_basemaps/SDK_order_basemaps.ipynb#X54sZmlsZQ%3D%3D?line=2'>3</a>\u001b[0m client \u001b[39m=\u001b[39m ps\u001b[39m.\u001b[39mclient(\u001b[39m'\u001b[39m\u001b[39morders\u001b[39m\u001b[39m'\u001b[39m)\n\u001b[1;32m      <a href='vscode-notebook-cell:/Users/em.steuer/repos/notebooks/jupyter-notebooks/orders_basemaps/SDK_order_basemaps.ipynb#X54sZmlsZQ%3D%3D?line=3'>4</a>\u001b[0m \u001b[39m# Create the order and deliver it to GCP\u001b[39;00m\n\u001b[0;32m----> <a href='vscode-notebook-cell:/Users/em.steuer/repos/notebooks/jupyter-notebooks/orders_basemaps/SDK_order_basemaps.ipynb#X54sZmlsZQ%3D%3D?line=4'>5</a>\u001b[0m \u001b[39mawait\u001b[39;00m (create_and_deliver_order(order_params, client))\n",
      "\u001b[1;32m/Users/em.steuer/repos/notebooks/jupyter-notebooks/orders_basemaps/SDK_order_basemaps.ipynb Cell 22\u001b[0m in \u001b[0;36mcreate_and_deliver_order\u001b[0;34m(order_params, client)\u001b[0m\n\u001b[1;32m      <a href='vscode-notebook-cell:/Users/em.steuer/repos/notebooks/jupyter-notebooks/orders_basemaps/SDK_order_basemaps.ipynb#X54sZmlsZQ%3D%3D?line=1'>2</a>\u001b[0m \u001b[39m'''Create an order and wait for it to delivered\u001b[39;00m\n\u001b[1;32m      <a href='vscode-notebook-cell:/Users/em.steuer/repos/notebooks/jupyter-notebooks/orders_basemaps/SDK_order_basemaps.ipynb#X54sZmlsZQ%3D%3D?line=2'>3</a>\u001b[0m \n\u001b[1;32m      <a href='vscode-notebook-cell:/Users/em.steuer/repos/notebooks/jupyter-notebooks/orders_basemaps/SDK_order_basemaps.ipynb#X54sZmlsZQ%3D%3D?line=3'>4</a>\u001b[0m \u001b[39mParameters:\u001b[39;00m\n\u001b[1;32m      <a href='vscode-notebook-cell:/Users/em.steuer/repos/notebooks/jupyter-notebooks/orders_basemaps/SDK_order_basemaps.ipynb#X54sZmlsZQ%3D%3D?line=4'>5</a>\u001b[0m \u001b[39m    order_params: An order request\u001b[39;00m\n\u001b[1;32m      <a href='vscode-notebook-cell:/Users/em.steuer/repos/notebooks/jupyter-notebooks/orders_basemaps/SDK_order_basemaps.ipynb#X54sZmlsZQ%3D%3D?line=5'>6</a>\u001b[0m \u001b[39m    client: An Order client object\u001b[39;00m\n\u001b[1;32m      <a href='vscode-notebook-cell:/Users/em.steuer/repos/notebooks/jupyter-notebooks/orders_basemaps/SDK_order_basemaps.ipynb#X54sZmlsZQ%3D%3D?line=6'>7</a>\u001b[0m \u001b[39m'''\u001b[39;00m\n\u001b[1;32m      <a href='vscode-notebook-cell:/Users/em.steuer/repos/notebooks/jupyter-notebooks/orders_basemaps/SDK_order_basemaps.ipynb#X54sZmlsZQ%3D%3D?line=7'>8</a>\u001b[0m \u001b[39mwith\u001b[39;00m planet\u001b[39m.\u001b[39mreporting\u001b[39m.\u001b[39mStateBar(state\u001b[39m=\u001b[39m\u001b[39m'\u001b[39m\u001b[39mcreating\u001b[39m\u001b[39m'\u001b[39m) \u001b[39mas\u001b[39;00m reporter:\n\u001b[1;32m      <a href='vscode-notebook-cell:/Users/em.steuer/repos/notebooks/jupyter-notebooks/orders_basemaps/SDK_order_basemaps.ipynb#X54sZmlsZQ%3D%3D?line=8'>9</a>\u001b[0m     \u001b[39m# Place an order to the Orders API\u001b[39;00m\n\u001b[0;32m---> <a href='vscode-notebook-cell:/Users/em.steuer/repos/notebooks/jupyter-notebooks/orders_basemaps/SDK_order_basemaps.ipynb#X54sZmlsZQ%3D%3D?line=9'>10</a>\u001b[0m     order \u001b[39m=\u001b[39m \u001b[39mawait\u001b[39;00m client\u001b[39m.\u001b[39mcreate_order(order_params)\n\u001b[1;32m     <a href='vscode-notebook-cell:/Users/em.steuer/repos/notebooks/jupyter-notebooks/orders_basemaps/SDK_order_basemaps.ipynb#X54sZmlsZQ%3D%3D?line=10'>11</a>\u001b[0m     reporter\u001b[39m.\u001b[39mupdate(state\u001b[39m=\u001b[39m\u001b[39m'\u001b[39m\u001b[39mcreated\u001b[39m\u001b[39m'\u001b[39m, order_id\u001b[39m=\u001b[39morder[\u001b[39m'\u001b[39m\u001b[39mid\u001b[39m\u001b[39m'\u001b[39m])\n\u001b[1;32m     <a href='vscode-notebook-cell:/Users/em.steuer/repos/notebooks/jupyter-notebooks/orders_basemaps/SDK_order_basemaps.ipynb#X54sZmlsZQ%3D%3D?line=11'>12</a>\u001b[0m     \u001b[39m# Wait while the order is being completed\u001b[39;00m\n",
      "File \u001b[0;32m/opt/anaconda3/lib/python3.9/site-packages/planet/clients/orders.py:148\u001b[0m, in \u001b[0;36mOrdersClient.create_order\u001b[0;34m(self, request)\u001b[0m\n\u001b[1;32m    116\u001b[0m \u001b[39m'''Create an order request.\u001b[39;00m\n\u001b[1;32m    117\u001b[0m \n\u001b[1;32m    118\u001b[0m \u001b[39mExample:\u001b[39;00m\n\u001b[0;32m   (...)\u001b[0m\n\u001b[1;32m    145\u001b[0m \u001b[39m    planet.exceptions.APIError: On API error.\u001b[39;00m\n\u001b[1;32m    146\u001b[0m \u001b[39m'''\u001b[39;00m\n\u001b[1;32m    147\u001b[0m url \u001b[39m=\u001b[39m \u001b[39mself\u001b[39m\u001b[39m.\u001b[39m_orders_url()\n\u001b[0;32m--> 148\u001b[0m response \u001b[39m=\u001b[39m \u001b[39mawait\u001b[39;00m \u001b[39mself\u001b[39m\u001b[39m.\u001b[39m_session\u001b[39m.\u001b[39mrequest(method\u001b[39m=\u001b[39m\u001b[39m'\u001b[39m\u001b[39mPOST\u001b[39m\u001b[39m'\u001b[39m,\n\u001b[1;32m    149\u001b[0m                                        url\u001b[39m=\u001b[39murl,\n\u001b[1;32m    150\u001b[0m                                        json\u001b[39m=\u001b[39mrequest)\n\u001b[1;32m    151\u001b[0m \u001b[39mreturn\u001b[39;00m response\u001b[39m.\u001b[39mjson()\n",
      "File \u001b[0;32m/opt/anaconda3/lib/python3.9/site-packages/planet/http.py:387\u001b[0m, in \u001b[0;36mSession.request\u001b[0;34m(self, method, url, json, params)\u001b[0m\n\u001b[1;32m    379\u001b[0m     headers \u001b[39m=\u001b[39m \u001b[39mNone\u001b[39;00m\n\u001b[1;32m    381\u001b[0m request \u001b[39m=\u001b[39m \u001b[39mself\u001b[39m\u001b[39m.\u001b[39m_client\u001b[39m.\u001b[39mbuild_request(method\u001b[39m=\u001b[39mmethod,\n\u001b[1;32m    382\u001b[0m                                      url\u001b[39m=\u001b[39murl,\n\u001b[1;32m    383\u001b[0m                                      json\u001b[39m=\u001b[39mjson,\n\u001b[1;32m    384\u001b[0m                                      params\u001b[39m=\u001b[39mparams,\n\u001b[1;32m    385\u001b[0m                                      headers\u001b[39m=\u001b[39mheaders)\n\u001b[0;32m--> 387\u001b[0m http_response \u001b[39m=\u001b[39m \u001b[39mawait\u001b[39;00m \u001b[39mself\u001b[39m\u001b[39m.\u001b[39m_retry(\u001b[39mself\u001b[39m\u001b[39m.\u001b[39m_send, request, stream\u001b[39m=\u001b[39m\u001b[39mFalse\u001b[39;00m)\n\u001b[1;32m    388\u001b[0m \u001b[39mreturn\u001b[39;00m models\u001b[39m.\u001b[39mResponse(http_response)\n",
      "File \u001b[0;32m/opt/anaconda3/lib/python3.9/site-packages/planet/http.py:330\u001b[0m, in \u001b[0;36mSession._retry\u001b[0;34m(self, func, *a, **kw)\u001b[0m\n\u001b[1;32m    328\u001b[0m                 \u001b[39mawait\u001b[39;00m asyncio\u001b[39m.\u001b[39msleep(wait_time)\n\u001b[1;32m    329\u001b[0m         \u001b[39melse\u001b[39;00m:\n\u001b[0;32m--> 330\u001b[0m             \u001b[39mraise\u001b[39;00m e\n\u001b[1;32m    332\u001b[0m \u001b[39mself\u001b[39m\u001b[39m.\u001b[39moutcomes\u001b[39m.\u001b[39mupdate([\u001b[39m'\u001b[39m\u001b[39mSuccessful\u001b[39m\u001b[39m'\u001b[39m])\n\u001b[1;32m    333\u001b[0m \u001b[39mreturn\u001b[39;00m resp\n",
      "File \u001b[0;32m/opt/anaconda3/lib/python3.9/site-packages/planet/http.py:315\u001b[0m, in \u001b[0;36mSession._retry\u001b[0;34m(self, func, *a, **kw)\u001b[0m\n\u001b[1;32m    313\u001b[0m num_tries \u001b[39m+\u001b[39m\u001b[39m=\u001b[39m \u001b[39m1\u001b[39m\n\u001b[1;32m    314\u001b[0m \u001b[39mtry\u001b[39;00m:\n\u001b[0;32m--> 315\u001b[0m     resp \u001b[39m=\u001b[39m \u001b[39mawait\u001b[39;00m func(\u001b[39m*\u001b[39ma, \u001b[39m*\u001b[39m\u001b[39m*\u001b[39mkw)\n\u001b[1;32m    316\u001b[0m     \u001b[39mbreak\u001b[39;00m\n\u001b[1;32m    317\u001b[0m \u001b[39mexcept\u001b[39;00m \u001b[39mException\u001b[39;00m \u001b[39mas\u001b[39;00m e:\n",
      "File \u001b[0;32m/opt/anaconda3/lib/python3.9/site-packages/planet/http.py:393\u001b[0m, in \u001b[0;36mSession._send\u001b[0;34m(self, request, stream)\u001b[0m\n\u001b[1;32m    391\u001b[0m \u001b[39m\"\"\"Send request with with rate/worker limiting.\"\"\"\u001b[39;00m\n\u001b[1;32m    392\u001b[0m \u001b[39masync\u001b[39;00m \u001b[39mwith\u001b[39;00m \u001b[39mself\u001b[39m\u001b[39m.\u001b[39m_limiter:\n\u001b[0;32m--> 393\u001b[0m     http_resp \u001b[39m=\u001b[39m \u001b[39mawait\u001b[39;00m \u001b[39mself\u001b[39m\u001b[39m.\u001b[39m_client\u001b[39m.\u001b[39msend(request, stream\u001b[39m=\u001b[39mstream)\n\u001b[1;32m    395\u001b[0m \u001b[39mreturn\u001b[39;00m http_resp\n",
      "File \u001b[0;32m/opt/anaconda3/lib/python3.9/site-packages/httpx/_client.py:1614\u001b[0m, in \u001b[0;36mAsyncClient.send\u001b[0;34m(self, request, stream, auth, follow_redirects)\u001b[0m\n\u001b[1;32m   1606\u001b[0m follow_redirects \u001b[39m=\u001b[39m (\n\u001b[1;32m   1607\u001b[0m     \u001b[39mself\u001b[39m\u001b[39m.\u001b[39mfollow_redirects\n\u001b[1;32m   1608\u001b[0m     \u001b[39mif\u001b[39;00m \u001b[39misinstance\u001b[39m(follow_redirects, UseClientDefault)\n\u001b[1;32m   1609\u001b[0m     \u001b[39melse\u001b[39;00m follow_redirects\n\u001b[1;32m   1610\u001b[0m )\n\u001b[1;32m   1612\u001b[0m auth \u001b[39m=\u001b[39m \u001b[39mself\u001b[39m\u001b[39m.\u001b[39m_build_request_auth(request, auth)\n\u001b[0;32m-> 1614\u001b[0m response \u001b[39m=\u001b[39m \u001b[39mawait\u001b[39;00m \u001b[39mself\u001b[39m\u001b[39m.\u001b[39m_send_handling_auth(\n\u001b[1;32m   1615\u001b[0m     request,\n\u001b[1;32m   1616\u001b[0m     auth\u001b[39m=\u001b[39mauth,\n\u001b[1;32m   1617\u001b[0m     follow_redirects\u001b[39m=\u001b[39mfollow_redirects,\n\u001b[1;32m   1618\u001b[0m     history\u001b[39m=\u001b[39m[],\n\u001b[1;32m   1619\u001b[0m )\n\u001b[1;32m   1620\u001b[0m \u001b[39mtry\u001b[39;00m:\n\u001b[1;32m   1621\u001b[0m     \u001b[39mif\u001b[39;00m \u001b[39mnot\u001b[39;00m stream:\n",
      "File \u001b[0;32m/opt/anaconda3/lib/python3.9/site-packages/httpx/_client.py:1642\u001b[0m, in \u001b[0;36mAsyncClient._send_handling_auth\u001b[0;34m(self, request, auth, follow_redirects, history)\u001b[0m\n\u001b[1;32m   1639\u001b[0m request \u001b[39m=\u001b[39m \u001b[39mawait\u001b[39;00m auth_flow\u001b[39m.\u001b[39m\u001b[39m__anext__\u001b[39m()\n\u001b[1;32m   1641\u001b[0m \u001b[39mwhile\u001b[39;00m \u001b[39mTrue\u001b[39;00m:\n\u001b[0;32m-> 1642\u001b[0m     response \u001b[39m=\u001b[39m \u001b[39mawait\u001b[39;00m \u001b[39mself\u001b[39m\u001b[39m.\u001b[39m_send_handling_redirects(\n\u001b[1;32m   1643\u001b[0m         request,\n\u001b[1;32m   1644\u001b[0m         follow_redirects\u001b[39m=\u001b[39mfollow_redirects,\n\u001b[1;32m   1645\u001b[0m         history\u001b[39m=\u001b[39mhistory,\n\u001b[1;32m   1646\u001b[0m     )\n\u001b[1;32m   1647\u001b[0m     \u001b[39mtry\u001b[39;00m:\n\u001b[1;32m   1648\u001b[0m         \u001b[39mtry\u001b[39;00m:\n",
      "File \u001b[0;32m/opt/anaconda3/lib/python3.9/site-packages/httpx/_client.py:1700\u001b[0m, in \u001b[0;36mAsyncClient._send_handling_redirects\u001b[0;34m(self, request, follow_redirects, history)\u001b[0m\n\u001b[1;32m   1698\u001b[0m \u001b[39mexcept\u001b[39;00m \u001b[39mBaseException\u001b[39;00m \u001b[39mas\u001b[39;00m exc:\n\u001b[1;32m   1699\u001b[0m     \u001b[39mawait\u001b[39;00m response\u001b[39m.\u001b[39maclose()\n\u001b[0;32m-> 1700\u001b[0m     \u001b[39mraise\u001b[39;00m exc\n",
      "File \u001b[0;32m/opt/anaconda3/lib/python3.9/site-packages/httpx/_client.py:1682\u001b[0m, in \u001b[0;36mAsyncClient._send_handling_redirects\u001b[0;34m(self, request, follow_redirects, history)\u001b[0m\n\u001b[1;32m   1680\u001b[0m \u001b[39mtry\u001b[39;00m:\n\u001b[1;32m   1681\u001b[0m     \u001b[39mfor\u001b[39;00m hook \u001b[39min\u001b[39;00m \u001b[39mself\u001b[39m\u001b[39m.\u001b[39m_event_hooks[\u001b[39m\"\u001b[39m\u001b[39mresponse\u001b[39m\u001b[39m\"\u001b[39m]:\n\u001b[0;32m-> 1682\u001b[0m         \u001b[39mawait\u001b[39;00m hook(response)\n\u001b[1;32m   1684\u001b[0m     response\u001b[39m.\u001b[39mhistory \u001b[39m=\u001b[39m \u001b[39mlist\u001b[39m(history)\n\u001b[1;32m   1686\u001b[0m     \u001b[39mif\u001b[39;00m \u001b[39mnot\u001b[39;00m response\u001b[39m.\u001b[39mhas_redirect_location:\n",
      "File \u001b[0;32m/opt/anaconda3/lib/python3.9/site-packages/planet/http.py:282\u001b[0m, in \u001b[0;36mSession._raise_for_status\u001b[0;34m(cls, response)\u001b[0m\n\u001b[1;32m    280\u001b[0m     \u001b[39mexcept\u001b[39;00m httpx\u001b[39m.\u001b[39mHTTPStatusError \u001b[39mas\u001b[39;00m e:\n\u001b[1;32m    281\u001b[0m         \u001b[39mawait\u001b[39;00m e\u001b[39m.\u001b[39mresponse\u001b[39m.\u001b[39maread()\n\u001b[0;32m--> 282\u001b[0m         \u001b[39mcls\u001b[39;49m\u001b[39m.\u001b[39;49m_convert_and_raise(e)\n\u001b[1;32m    284\u001b[0m \u001b[39mreturn\u001b[39;00m\n",
      "File \u001b[0;32m/opt/anaconda3/lib/python3.9/site-packages/planet/http.py:95\u001b[0m, in \u001b[0;36mBaseSession._convert_and_raise\u001b[0;34m(cls, error)\u001b[0m\n\u001b[1;32m     84\u001b[0m error_types \u001b[39m=\u001b[39m {\n\u001b[1;32m     85\u001b[0m     HTTPStatus\u001b[39m.\u001b[39mBAD_REQUEST: exceptions\u001b[39m.\u001b[39mBadQuery,\n\u001b[1;32m     86\u001b[0m     HTTPStatus\u001b[39m.\u001b[39mUNAUTHORIZED: exceptions\u001b[39m.\u001b[39mInvalidAPIKey,\n\u001b[0;32m   (...)\u001b[0m\n\u001b[1;32m     92\u001b[0m     HTTPStatus\u001b[39m.\u001b[39mBAD_GATEWAY: exceptions\u001b[39m.\u001b[39mBadGateway\n\u001b[1;32m     93\u001b[0m }\n\u001b[1;32m     94\u001b[0m error_type \u001b[39m=\u001b[39m error_types\u001b[39m.\u001b[39mget(response\u001b[39m.\u001b[39mstatus_code, exceptions\u001b[39m.\u001b[39mAPIError)\n\u001b[0;32m---> 95\u001b[0m \u001b[39mraise\u001b[39;00m error_type(response\u001b[39m.\u001b[39mtext)\n",
      "\u001b[0;31mBadQuery\u001b[0m: {\"field\":null,\"general\":[{\"message\":\"Unable to accept order: validation of input quads failed: Bad Request : {\\\"message\\\":\\\"Maximum number of IDS is 100\\\"}\\n\"}]}\n"
     ]
    }
   ],
   "source": [
    "async with planet.Session() as ps:\n",
    "    # The Orders API client\n",
    "    client = ps.client('orders')\n",
    "    # Create the order and deliver it to GCP\n",
    "    await (create_and_deliver_order(order_params, client))\n",
    "    \n",
    "    "
   ]
  },
  {
   "attachments": {},
   "cell_type": "markdown",
   "metadata": {},
   "source": [
    "#### Search for the mosaic ID to get its quad IDs\n",
    "\n",
    "Declare the search string for `requests.get()`. You will use the dictionary you create with the mosaic name to pass to the requests.get() function.\n"
   ]
  },
  {
   "attachments": {},
   "cell_type": "markdown",
   "metadata": {},
   "source": [
    "This code sets the URL and headers for an HTTP request to Planet's Basemap API and sends a GET request with the specified search parameters. If the response returns the correct status, the JSON response is loaded into a Python dictionary with mosaics information from which we'll extract quad ID information."
   ]
  },
  {
   "attachments": {},
   "cell_type": "markdown",
   "metadata": {},
   "source": [
    "This code retrieves the ID and bounding box coordinates of the mosaic we loaded above and uses these to construct an API request to retrieve the corresponding quad IDs for a specific area."
   ]
  },
  {
   "cell_type": "code",
   "execution_count": null,
   "metadata": {},
   "outputs": [],
   "source": [
    "mosaic_name = 'ps_biweekly_sen2_normalized_analytic_subscription_2023-04-17_2023-05-01_mosaic'\n",
    "geometry = {\n",
    "    \"coordinates\": [[[-93.2969252074559, 31.625920464644352],\n",
    "                        [-91.12907701200592, 31.462828609443292],\n",
    "                        [-89.55957445650489, 35.19041389553804],\n",
    "                        [-84.17442809744674, 37.558687870257046],\n",
    "                        [-90.25210159772769, 37.773797433818345],\n",
    "                        [-92.93646531283778, 35.481589006307814],\n",
    "                        [-93.2969252074559, 31.625920464644352]]],\n",
    "    \"type\": \"Polygon\"\n",
    "    }"
   ]
  },
  {
   "cell_type": "code",
   "execution_count": 86,
   "metadata": {},
   "outputs": [],
   "source": [
    "def polygon_search(mosaic_name, geometry, base_url):\n",
    "\n",
    "    retries = Retry(total=5, backoff_factor=0.2, status_forcelist=[429])\n",
    "    session.mount('https://', HTTPAdapter(max_retries=retries))\n",
    "\n",
    "    rv = session.get(f'{base_url}/mosaics', params={'name__is': mosaic_name})\n",
    "    rv.raise_for_status()\n",
    "    mosaic_id = rv.json()['mosaics'][0]['id']\n",
    "\n",
    "    url = None\n",
    "    while True:\n",
    "        if url is None:\n",
    "            url = f'{base_url}/mosaics/{mosaic_id}/quads/search'\n",
    "            rv = session.post(url, json=geometry)\n",
    "        else:\n",
    "            rv = session.get(url)\n",
    "        rv.raise_for_status()\n",
    "        response = rv.json()\n",
    "\n",
    "        for item in response['items']:\n",
    "            yield item\n",
    "\n",
    "        if '_next' in response['_links']:\n",
    "            url = response['_links']['_next']\n",
    "        else:\n",
    "            break\n",
    "\n",
    "    return quad_ids"
   ]
  },
  {
   "cell_type": "code",
   "execution_count": 88,
   "metadata": {},
   "outputs": [],
   "source": [
    "quad_ids = []\n",
    "\n",
    "for quad in polygon_search(mosaic_name, geometry, BASEMAP_API_URL):\n",
    "    quad_ids.append(quad['id'])"
   ]
  },
  {
   "attachments": {},
   "cell_type": "markdown",
   "metadata": {},
   "source": [
    "### Create an order packet\n",
    "---\n",
    "Create an order packet with details including the mosaic name and quad IDs, and the tools and delivery method. In this example, we are using the tools [bandmath](https://developers.planet.com/apis/orders/tools/#band-math) and [reproject](https://developers.planet.com/apis/orders/tools/#reproject). "
   ]
  },
  {
   "attachments": {},
   "cell_type": "markdown",
   "metadata": {},
   "source": [
    "#### Bandmath \n",
    "\n",
    "The bandmath tool allows you to apply band math expressions to the bands of your input files to produce derived outputs and indices for analysis. Note that `b5` in this example is being assigned to [NDVI](https://en.wikipedia.org/wiki/Normalized_difference_vegetation_index). "
   ]
  },
  {
   "cell_type": "code",
   "execution_count": null,
   "metadata": {},
   "outputs": [],
   "source": [
    "order_params = {\n",
    "    \"name\": \"basemap order with quad_ids\",\n",
    "    \"source_type\": \"basemaps\",\n",
    "    \"products\": [\n",
    "        {\n",
    "            \"mosaic_name\": \"ps_biweekly_sen2_normalized_analytic_subscription_2023-04-17_2023-05-01_mosaic\",\n",
    "            \"quad_ids\": quad_ids\n",
    "        }\n",
    "    ],\n",
    "    \"tools\": [\n",
    "        {\n",
    "            \"bandmath\": {\n",
    "                \"b1\": \"b1\",\n",
    "                \"b2\": \"b2\",\n",
    "                \"b3\": \"b3\",\n",
    "                \"b4\": \"b4\",\n",
    "                \"b5\": \"(b4-b3)/(b4+b3)\",\n",
    "                \"pixel_type\": \"32R\"\n",
    "            }\n",
    "        }\n",
    "    ],\n",
    "    \"delivery\": {\n",
    "        \"google_cloud_storage\": {\n",
    "            \"bucket\": \"devrel-notebooks\",\n",
    "            \"credentials\": GCP_CREDENTIALS,\n",
    "            \"path_prefix\": \"basemaps-to-cloud/\",\n",
    "        }\n",
    "    }\n",
    "}"
   ]
  },
  {
   "cell_type": "code",
   "execution_count": null,
   "metadata": {},
   "outputs": [],
   "source": [
    "order_params_1 = copy.deepcopy(order_params)\n",
    "order_params_2 = copy.deepcopy(order_params)\n",
    "order_params_3 = copy.deepcopy(order_params)\n",
    "order_params_4 = copy.deepcopy(order_params)\n",
    "order_params_5 = copy.deepcopy(order_params)\n",
    "order_params_6 = copy.deepcopy(order_params)\n",
    "order_params_7 = copy.deepcopy(order_params)\n",
    "order_params_8 = copy.deepcopy(order_params)\n",
    "order_params_9 = copy.deepcopy(order_params)\n",
    "order_params_10 = copy.deepcopy(order_params)\n",
    "all_order_params = [order_params_1, order_params_2, order_params_3, order_params_4, order_params_5, order_params_6, order_params_7, order_params_8, order_params_9, order_params_10]\n",
    "batched_quad_ids = [quad_ids[i:i + 100] for i in range(0, len(quad_ids), 100)]\n",
    "[all_order_params[i]['products'][0].__setitem__('quad_ids', batched_quad_ids[i]) for i in range(len(batched_quad_ids))]"
   ]
  },
  {
   "cell_type": "code",
   "execution_count": null,
   "metadata": {},
   "outputs": [],
   "source": [
    "print(len(all_order_params))"
   ]
  },
  {
   "attachments": {},
   "cell_type": "markdown",
   "metadata": {},
   "source": [
    "### Create and deliver order with the SDK\n",
    "\n"
   ]
  },
  {
   "cell_type": "code",
   "execution_count": 61,
   "metadata": {},
   "outputs": [
    {
     "name": "stderr",
     "output_type": "stream",
     "text": [
      "00:10 - order 0c517ace-9a6b-4ce6-b099-4ad7975bfa33 - state: running\n",
      "00:10 - order 288c5798-510f-4823-ad88-6c456dbb42b9 - state: running\n"
     ]
    },
    {
     "ename": "CancelledError",
     "evalue": "",
     "output_type": "error",
     "traceback": [
      "\u001b[0;31m---------------------------------------------------------------------------\u001b[0m",
      "\u001b[0;31mCancelledError\u001b[0m                            Traceback (most recent call last)",
      "\u001b[1;32m/Users/em.steuer/repos/notebooks/jupyter-notebooks/orders_basemaps/SDK_order_basemaps.ipynb Cell 34\u001b[0m in \u001b[0;36mcreate_and_deliver_order\u001b[0;34m(order_params, client)\u001b[0m\n\u001b[1;32m     <a href='vscode-notebook-cell:/Users/em.steuer/repos/notebooks/jupyter-notebooks/orders_basemaps/SDK_order_basemaps.ipynb#X50sZmlsZQ%3D%3D?line=11'>12</a>\u001b[0m \u001b[39m# Wait while the order is being completed\u001b[39;00m\n\u001b[0;32m---> <a href='vscode-notebook-cell:/Users/em.steuer/repos/notebooks/jupyter-notebooks/orders_basemaps/SDK_order_basemaps.ipynb#X50sZmlsZQ%3D%3D?line=12'>13</a>\u001b[0m \u001b[39mawait\u001b[39;00m client\u001b[39m.\u001b[39mwait(order[\u001b[39m'\u001b[39m\u001b[39mid\u001b[39m\u001b[39m'\u001b[39m], callback\u001b[39m=\u001b[39mreporter\u001b[39m.\u001b[39mupdate_state,\n\u001b[1;32m     <a href='vscode-notebook-cell:/Users/em.steuer/repos/notebooks/jupyter-notebooks/orders_basemaps/SDK_order_basemaps.ipynb#X50sZmlsZQ%3D%3D?line=13'>14</a>\u001b[0m                   max_attempts\u001b[39m=\u001b[39m\u001b[39m0\u001b[39m)\n",
      "File \u001b[0;32m/opt/anaconda3/lib/python3.9/site-packages/planet/clients/orders.py:455\u001b[0m, in \u001b[0;36mOrdersClient.wait\u001b[0;34m(self, order_id, state, delay, max_attempts, callback)\u001b[0m\n\u001b[1;32m    454\u001b[0m LOGGER\u001b[39m.\u001b[39mdebug(\u001b[39mf\u001b[39m\u001b[39m'\u001b[39m\u001b[39msleeping \u001b[39m\u001b[39m{\u001b[39;00msleep_time\u001b[39m}\u001b[39;00m\u001b[39ms\u001b[39m\u001b[39m'\u001b[39m)\n\u001b[0;32m--> 455\u001b[0m \u001b[39mawait\u001b[39;00m asyncio\u001b[39m.\u001b[39msleep(sleep_time)\n\u001b[1;32m    457\u001b[0m num_attempts \u001b[39m+\u001b[39m\u001b[39m=\u001b[39m \u001b[39m1\u001b[39m\n",
      "File \u001b[0;32m/opt/anaconda3/lib/python3.9/asyncio/tasks.py:652\u001b[0m, in \u001b[0;36msleep\u001b[0;34m(delay, result, loop)\u001b[0m\n\u001b[1;32m    651\u001b[0m \u001b[39mtry\u001b[39;00m:\n\u001b[0;32m--> 652\u001b[0m     \u001b[39mreturn\u001b[39;00m \u001b[39mawait\u001b[39;00m future\n\u001b[1;32m    653\u001b[0m \u001b[39mfinally\u001b[39;00m:\n",
      "\u001b[0;31mCancelledError\u001b[0m: ",
      "\nDuring handling of the above exception, another exception occurred:\n",
      "\u001b[0;31mCancelledError\u001b[0m                            Traceback (most recent call last)",
      "\u001b[1;32m/Users/em.steuer/repos/notebooks/jupyter-notebooks/orders_basemaps/SDK_order_basemaps.ipynb Cell 34\u001b[0m in \u001b[0;36m<cell line: 1>\u001b[0;34m()\u001b[0m\n\u001b[1;32m      <a href='vscode-notebook-cell:/Users/em.steuer/repos/notebooks/jupyter-notebooks/orders_basemaps/SDK_order_basemaps.ipynb#X50sZmlsZQ%3D%3D?line=2'>3</a>\u001b[0m client \u001b[39m=\u001b[39m ps\u001b[39m.\u001b[39mclient(\u001b[39m'\u001b[39m\u001b[39morders\u001b[39m\u001b[39m'\u001b[39m)\n\u001b[1;32m      <a href='vscode-notebook-cell:/Users/em.steuer/repos/notebooks/jupyter-notebooks/orders_basemaps/SDK_order_basemaps.ipynb#X50sZmlsZQ%3D%3D?line=3'>4</a>\u001b[0m \u001b[39m# Create the order and deliver it to GCP\u001b[39;00m\n\u001b[0;32m----> <a href='vscode-notebook-cell:/Users/em.steuer/repos/notebooks/jupyter-notebooks/orders_basemaps/SDK_order_basemaps.ipynb#X50sZmlsZQ%3D%3D?line=4'>5</a>\u001b[0m \u001b[39mawait\u001b[39;00m asyncio\u001b[39m.\u001b[39mgather(\u001b[39m*\u001b[39m[create_and_deliver_order(params, client) \u001b[39mfor\u001b[39;00m params \u001b[39min\u001b[39;00m all_order_params])\n",
      "\u001b[0;31mCancelledError\u001b[0m: "
     ]
    }
   ],
   "source": [
    "async with planet.Session() as ps:\n",
    "    # The Orders API client\n",
    "    client = ps.client('orders')\n",
    "    # Create the order and deliver it to GCP\n",
    "    await asyncio.gather(*[create_and_deliver_order(params, client) for params in all_order_params])\n",
    "    \n",
    "    "
   ]
  },
  {
   "attachments": {},
   "cell_type": "markdown",
   "metadata": {},
   "source": [
    "### Check your results\n",
    "\n",
    "After a few simple steps, we have a basemap delivered to our Google Cloud Platform bucket using the Planet Python SDK.  For more information, check out the SDK docs [here](https://planet-sdk-for-python-v2.readthedocs.io/en/latest/python/sdk-guide/). "
   ]
  }
 ],
 "metadata": {
  "kernelspec": {
   "display_name": "base",
   "language": "python",
   "name": "python3"
  },
  "language_info": {
   "codemirror_mode": {
    "name": "ipython",
    "version": 3
   },
   "file_extension": ".py",
   "mimetype": "text/x-python",
   "name": "python",
   "nbconvert_exporter": "python",
   "pygments_lexer": "ipython3",
   "version": "3.9.12"
  },
  "orig_nbformat": 4,
  "vscode": {
   "interpreter": {
    "hash": "40d3a090f54c6569ab1632332b64b2c03c39dcf918b08424e98f38b5ae0af88f"
   }
  }
 },
 "nbformat": 4,
 "nbformat_minor": 2
}
