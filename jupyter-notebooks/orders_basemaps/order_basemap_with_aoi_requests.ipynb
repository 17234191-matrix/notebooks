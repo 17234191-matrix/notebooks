{
 "cells": [
  {
   "cell_type": "markdown",
   "metadata": {},
   "source": [
    "## Ordering Basemaps via Orders API"
   ]
  },
  {
   "cell_type": "code",
   "execution_count": 11,
   "metadata": {},
   "outputs": [],
   "source": [
    "import planet\n",
    "import os\n",
    "import requests\n",
    "from requests.auth import HTTPBasicAuth\n",
    "import json\n",
    "import time\n",
    "import pathlib\n"
   ]
  },
  {
   "cell_type": "markdown",
   "metadata": {},
   "source": [
    "### Ordering a Basemap via an AOI  "
   ]
  },
  {
   "cell_type": "code",
   "execution_count": 12,
   "metadata": {},
   "outputs": [],
   "source": [
    "API_KEY = os.environ.get('PL_API_KEY')\n",
    "GCP_CREDENTIALS = os.environ.get('GCP_CREDENTIALS')\n",
    "orders_url = 'https://api.planet.com/compute/ops/orders/v2' \n",
    "auth = HTTPBasicAuth(API_KEY, '')\n",
    "    \n",
    "# Setup the session\n",
    "session = requests.Session()\n",
    "\n",
    "# Authenticate\n",
    "session.auth = (API_KEY, \"\")"
   ]
  },
  {
   "cell_type": "code",
   "execution_count": 13,
   "metadata": {},
   "outputs": [
    {
     "data": {
      "text/plain": [
       "<Response [200]>"
      ]
     },
     "execution_count": 13,
     "metadata": {},
     "output_type": "execute_result"
    }
   ],
   "source": [
    "response = requests.get(orders_url, auth=session.auth)\n",
    "response"
   ]
  },
  {
   "cell_type": "code",
   "execution_count": 14,
   "metadata": {},
   "outputs": [],
   "source": [
    "order_params = {\n",
    "   \"name\": \"basemap order with geometry\",\n",
    "   \"source_type\": \"basemaps\",\n",
    "   \"order_type\":\"partial\",\n",
    "   \"products\": [\n",
    "       {\n",
    "           \"mosaic_name\": \"global_monthly_2022_01_mosaic\",\n",
    "           \"geometry\":{\n",
    "               \"type\": \"Polygon\",\n",
    "               \"coordinates\":[\n",
    "                   [\n",
    "                       [ 4.607406, 52.353994 ],\n",
    "                        [ 4.680005, 52.353994 ],\n",
    "                        [ 4.680005, 52.395523 ],\n",
    "                        [ 4.607406, 52.395523 ],\n",
    "                        [ 4.607406, 52.353994 ]\n",
    "                   ]\n",
    "               ]\n",
    "           }\n",
    "      }\n",
    "  ],\n",
    "    \"tools\": [\n",
    "      {\"merge\": {}},\n",
    "      {\"clip\": {}}\n",
    "      \n",
    "\n",
    "  ],\n",
    " \"delivery\":{\n",
    "      \"google_cloud_storage\":{\n",
    "         \"bucket\":\"notebook-practice\",\n",
    "         \"credentials\":GCP_CREDENTIALS,\n",
    "         \"path_prefix\":\"basemaps-to-cloud/\"\n",
    "      }\n",
    "\n",
    "\n",
    " }\n",
    "}\n",
    "\n"
   ]
  },
  {
   "cell_type": "code",
   "execution_count": 15,
   "metadata": {},
   "outputs": [
    {
     "name": "stdout",
     "output_type": "stream",
     "text": [
      "{\"code\":602,\"message\":\"credentials in body is required\"}\n"
     ]
    }
   ],
   "source": [
    "ORDERS_API_URL = 'https://api.planet.com/compute/ops/orders/v2'\n",
    "headers = {'content-type': 'application/json'}\n",
    "paramRes = requests.post(ORDERS_API_URL, data=json.dumps(order_params), auth=auth, headers = {'content-type': 'application/json'})\n",
    "\n",
    "print(paramRes.text)"
   ]
  },
  {
   "cell_type": "code",
   "execution_count": 16,
   "metadata": {},
   "outputs": [],
   "source": [
    "def place_order(order_params, auth):\n",
    "    response = requests.post(ORDERS_API_URL, data=json.dumps(order_params), auth=auth, headers=headers)\n",
    "    print(response)\n",
    "    order_id = response.json()['id']\n",
    "    print(order_id)\n",
    "    order_url = ORDERS_API_URL + '/' + order_id\n",
    "    return order_url"
   ]
  },
  {
   "cell_type": "code",
   "execution_count": null,
   "metadata": {},
   "outputs": [],
   "source": []
  },
  {
   "cell_type": "code",
   "execution_count": 17,
   "metadata": {},
   "outputs": [
    {
     "name": "stdout",
     "output_type": "stream",
     "text": [
      "<Response [400]>\n"
     ]
    },
    {
     "ename": "KeyError",
     "evalue": "'id'",
     "output_type": "error",
     "traceback": [
      "\u001b[0;31m---------------------------------------------------------------------------\u001b[0m",
      "\u001b[0;31mKeyError\u001b[0m                                  Traceback (most recent call last)",
      "\u001b[1;32m/Users/em.steuer/repos/notebooks/jupyter-notebooks/orders_basemaps/orderbasemap.ipynb Cell 15\u001b[0m in \u001b[0;36m<cell line: 1>\u001b[0;34m()\u001b[0m\n\u001b[0;32m----> <a href='vscode-notebook-cell:/Users/em.steuer/repos/notebooks/jupyter-notebooks/orders_basemaps/orderbasemap.ipynb#X20sZmlsZQ%3D%3D?line=0'>1</a>\u001b[0m order_url \u001b[39m=\u001b[39m place_order(order_params, session\u001b[39m.\u001b[39;49mauth)\n",
      "\u001b[1;32m/Users/em.steuer/repos/notebooks/jupyter-notebooks/orders_basemaps/orderbasemap.ipynb Cell 15\u001b[0m in \u001b[0;36mplace_order\u001b[0;34m(order_params, auth)\u001b[0m\n\u001b[1;32m      <a href='vscode-notebook-cell:/Users/em.steuer/repos/notebooks/jupyter-notebooks/orders_basemaps/orderbasemap.ipynb#X20sZmlsZQ%3D%3D?line=1'>2</a>\u001b[0m response \u001b[39m=\u001b[39m requests\u001b[39m.\u001b[39mpost(ORDERS_API_URL, data\u001b[39m=\u001b[39mjson\u001b[39m.\u001b[39mdumps(order_params), auth\u001b[39m=\u001b[39mauth, headers\u001b[39m=\u001b[39mheaders)\n\u001b[1;32m      <a href='vscode-notebook-cell:/Users/em.steuer/repos/notebooks/jupyter-notebooks/orders_basemaps/orderbasemap.ipynb#X20sZmlsZQ%3D%3D?line=2'>3</a>\u001b[0m \u001b[39mprint\u001b[39m(response)\n\u001b[0;32m----> <a href='vscode-notebook-cell:/Users/em.steuer/repos/notebooks/jupyter-notebooks/orders_basemaps/orderbasemap.ipynb#X20sZmlsZQ%3D%3D?line=3'>4</a>\u001b[0m order_id \u001b[39m=\u001b[39m response\u001b[39m.\u001b[39;49mjson()[\u001b[39m'\u001b[39;49m\u001b[39mid\u001b[39;49m\u001b[39m'\u001b[39;49m]\n\u001b[1;32m      <a href='vscode-notebook-cell:/Users/em.steuer/repos/notebooks/jupyter-notebooks/orders_basemaps/orderbasemap.ipynb#X20sZmlsZQ%3D%3D?line=4'>5</a>\u001b[0m \u001b[39mprint\u001b[39m(order_id)\n\u001b[1;32m      <a href='vscode-notebook-cell:/Users/em.steuer/repos/notebooks/jupyter-notebooks/orders_basemaps/orderbasemap.ipynb#X20sZmlsZQ%3D%3D?line=5'>6</a>\u001b[0m order_url \u001b[39m=\u001b[39m ORDERS_API_URL \u001b[39m+\u001b[39m \u001b[39m'\u001b[39m\u001b[39m/\u001b[39m\u001b[39m'\u001b[39m \u001b[39m+\u001b[39m order_id\n",
      "\u001b[0;31mKeyError\u001b[0m: 'id'"
     ]
    }
   ],
   "source": [
    "order_url = place_order(order_params, session.auth)"
   ]
  },
  {
   "cell_type": "code",
   "execution_count": null,
   "metadata": {},
   "outputs": [
    {
     "name": "stdout",
     "output_type": "stream",
     "text": [
      "{'_links': {'_self': 'https://api.planet.com/compute/ops/orders/v2/c33d0332-0bf0-4eb6-95fd-a2715d065300'}, 'created_on': '2022-11-30T21:46:29.114Z', 'delivery': {'google_cloud_storage': {'bucket': 'notebook-practice', 'credentials': '<REDACTED>', 'path_prefix': 'basemaps-to-cloud/'}}, 'error_hints': [], 'id': 'c33d0332-0bf0-4eb6-95fd-a2715d065300', 'last_message': 'Preparing order', 'last_modified': '2022-11-30T21:46:29.114Z', 'name': 'basemap order with geometry', 'order_type': 'partial', 'products': [{'geometry': {'coordinates': [[[4.607406, 52.353994], [4.680005, 52.353994], [4.680005, 52.395523], [4.607406, 52.395523], [4.607406, 52.353994]]], 'type': 'Polygon'}, 'mosaic_name': 'global_monthly_2022_01_mosaic'}], 'source_type': 'basemaps', 'state': 'queued', 'tools': [{'merge': {}}, {'clip': {}}]}\n",
      "queued\n",
      "{'_links': {'_self': 'https://api.planet.com/compute/ops/orders/v2/c33d0332-0bf0-4eb6-95fd-a2715d065300'}, 'created_on': '2022-11-30T21:46:29.114Z', 'delivery': {'google_cloud_storage': {'bucket': 'notebook-practice', 'credentials': '<REDACTED>', 'path_prefix': 'basemaps-to-cloud/'}}, 'error_hints': [], 'id': 'c33d0332-0bf0-4eb6-95fd-a2715d065300', 'last_message': 'starting', 'last_modified': '2022-11-30T21:46:38.713Z', 'name': 'basemap order with geometry', 'order_type': 'partial', 'products': [{'geometry': {'coordinates': [[[4.607406, 52.353994], [4.680005, 52.353994], [4.680005, 52.395523], [4.607406, 52.395523], [4.607406, 52.353994]]], 'type': 'Polygon'}, 'mosaic_name': 'global_monthly_2022_01_mosaic'}], 'source_type': 'basemaps', 'state': 'running', 'tools': [{'merge': {}}, {'clip': {}}]}\n",
      "running\n",
      "{'_links': {'_self': 'https://api.planet.com/compute/ops/orders/v2/c33d0332-0bf0-4eb6-95fd-a2715d065300'}, 'created_on': '2022-11-30T21:46:29.114Z', 'delivery': {'google_cloud_storage': {'bucket': 'notebook-practice', 'credentials': '<REDACTED>', 'path_prefix': 'basemaps-to-cloud/'}}, 'error_hints': [], 'id': 'c33d0332-0bf0-4eb6-95fd-a2715d065300', 'last_message': 'Waiting for merge operations to complete', 'last_modified': '2022-11-30T21:46:49.050Z', 'name': 'basemap order with geometry', 'order_type': 'partial', 'products': [{'geometry': {'coordinates': [[[4.607406, 52.353994], [4.680005, 52.353994], [4.680005, 52.395523], [4.607406, 52.395523], [4.607406, 52.353994]]], 'type': 'Polygon'}, 'mosaic_name': 'global_monthly_2022_01_mosaic'}], 'source_type': 'basemaps', 'state': 'running', 'tools': [{'merge': {}}, {'clip': {}}]}\n",
      "running\n",
      "{'_links': {'_self': 'https://api.planet.com/compute/ops/orders/v2/c33d0332-0bf0-4eb6-95fd-a2715d065300'}, 'created_on': '2022-11-30T21:46:29.114Z', 'delivery': {'google_cloud_storage': {'bucket': 'notebook-practice', 'credentials': '<REDACTED>', 'path_prefix': 'basemaps-to-cloud/'}}, 'error_hints': [], 'id': 'c33d0332-0bf0-4eb6-95fd-a2715d065300', 'last_message': 'Waiting for merge operations to complete', 'last_modified': '2022-11-30T21:46:49.050Z', 'name': 'basemap order with geometry', 'order_type': 'partial', 'products': [{'geometry': {'coordinates': [[[4.607406, 52.353994], [4.680005, 52.353994], [4.680005, 52.395523], [4.607406, 52.395523], [4.607406, 52.353994]]], 'type': 'Polygon'}, 'mosaic_name': 'global_monthly_2022_01_mosaic'}], 'source_type': 'basemaps', 'state': 'running', 'tools': [{'merge': {}}, {'clip': {}}]}\n",
      "running\n",
      "{'_links': {'_self': 'https://api.planet.com/compute/ops/orders/v2/c33d0332-0bf0-4eb6-95fd-a2715d065300'}, 'created_on': '2022-11-30T21:46:29.114Z', 'delivery': {'google_cloud_storage': {'bucket': 'notebook-practice', 'credentials': '<REDACTED>', 'path_prefix': 'basemaps-to-cloud/'}}, 'error_hints': [], 'id': 'c33d0332-0bf0-4eb6-95fd-a2715d065300', 'last_message': 'Waiting for merge operations to complete', 'last_modified': '2022-11-30T21:46:49.050Z', 'name': 'basemap order with geometry', 'order_type': 'partial', 'products': [{'geometry': {'coordinates': [[[4.607406, 52.353994], [4.680005, 52.353994], [4.680005, 52.395523], [4.607406, 52.395523], [4.607406, 52.353994]]], 'type': 'Polygon'}, 'mosaic_name': 'global_monthly_2022_01_mosaic'}], 'source_type': 'basemaps', 'state': 'running', 'tools': [{'merge': {}}, {'clip': {}}]}\n",
      "running\n",
      "{'_links': {'_self': 'https://api.planet.com/compute/ops/orders/v2/c33d0332-0bf0-4eb6-95fd-a2715d065300'}, 'created_on': '2022-11-30T21:46:29.114Z', 'delivery': {'google_cloud_storage': {'bucket': 'notebook-practice', 'credentials': '<REDACTED>', 'path_prefix': 'basemaps-to-cloud/'}}, 'error_hints': [], 'id': 'c33d0332-0bf0-4eb6-95fd-a2715d065300', 'last_message': 'Waiting for merge operations to complete', 'last_modified': '2022-11-30T21:46:49.050Z', 'name': 'basemap order with geometry', 'order_type': 'partial', 'products': [{'geometry': {'coordinates': [[[4.607406, 52.353994], [4.680005, 52.353994], [4.680005, 52.395523], [4.607406, 52.395523], [4.607406, 52.353994]]], 'type': 'Polygon'}, 'mosaic_name': 'global_monthly_2022_01_mosaic'}], 'source_type': 'basemaps', 'state': 'running', 'tools': [{'merge': {}}, {'clip': {}}]}\n",
      "running\n",
      "{'_links': {'_self': 'https://api.planet.com/compute/ops/orders/v2/c33d0332-0bf0-4eb6-95fd-a2715d065300'}, 'created_on': '2022-11-30T21:46:29.114Z', 'delivery': {'google_cloud_storage': {'bucket': 'notebook-practice', 'credentials': '<REDACTED>', 'path_prefix': 'basemaps-to-cloud/'}}, 'error_hints': [], 'id': 'c33d0332-0bf0-4eb6-95fd-a2715d065300', 'last_message': 'Waiting for merge operations to complete', 'last_modified': '2022-11-30T21:46:49.050Z', 'name': 'basemap order with geometry', 'order_type': 'partial', 'products': [{'geometry': {'coordinates': [[[4.607406, 52.353994], [4.680005, 52.353994], [4.680005, 52.395523], [4.607406, 52.395523], [4.607406, 52.353994]]], 'type': 'Polygon'}, 'mosaic_name': 'global_monthly_2022_01_mosaic'}], 'source_type': 'basemaps', 'state': 'running', 'tools': [{'merge': {}}, {'clip': {}}]}\n",
      "running\n",
      "{'_links': {'_self': 'https://api.planet.com/compute/ops/orders/v2/c33d0332-0bf0-4eb6-95fd-a2715d065300'}, 'created_on': '2022-11-30T21:46:29.114Z', 'delivery': {'google_cloud_storage': {'bucket': 'notebook-practice', 'credentials': '<REDACTED>', 'path_prefix': 'basemaps-to-cloud/'}}, 'error_hints': [], 'id': 'c33d0332-0bf0-4eb6-95fd-a2715d065300', 'last_message': 'Waiting for merge operations to complete', 'last_modified': '2022-11-30T21:46:49.050Z', 'name': 'basemap order with geometry', 'order_type': 'partial', 'products': [{'geometry': {'coordinates': [[[4.607406, 52.353994], [4.680005, 52.353994], [4.680005, 52.395523], [4.607406, 52.395523], [4.607406, 52.353994]]], 'type': 'Polygon'}, 'mosaic_name': 'global_monthly_2022_01_mosaic'}], 'source_type': 'basemaps', 'state': 'running', 'tools': [{'merge': {}}, {'clip': {}}]}\n",
      "running\n",
      "{'_links': {'_self': 'https://api.planet.com/compute/ops/orders/v2/c33d0332-0bf0-4eb6-95fd-a2715d065300'}, 'created_on': '2022-11-30T21:46:29.114Z', 'delivery': {'google_cloud_storage': {'bucket': 'notebook-practice', 'credentials': '<REDACTED>', 'path_prefix': 'basemaps-to-cloud/'}}, 'error_hints': [], 'id': 'c33d0332-0bf0-4eb6-95fd-a2715d065300', 'last_message': 'Waiting for merge operations to complete', 'last_modified': '2022-11-30T21:47:50.570Z', 'name': 'basemap order with geometry', 'order_type': 'partial', 'products': [{'geometry': {'coordinates': [[[4.607406, 52.353994], [4.680005, 52.353994], [4.680005, 52.395523], [4.607406, 52.395523], [4.607406, 52.353994]]], 'type': 'Polygon'}, 'mosaic_name': 'global_monthly_2022_01_mosaic'}], 'source_type': 'basemaps', 'state': 'running', 'tools': [{'merge': {}}, {'clip': {}}]}\n",
      "running\n",
      "{'_links': {'_self': 'https://api.planet.com/compute/ops/orders/v2/c33d0332-0bf0-4eb6-95fd-a2715d065300'}, 'created_on': '2022-11-30T21:46:29.114Z', 'delivery': {'google_cloud_storage': {'bucket': 'notebook-practice', 'credentials': '<REDACTED>', 'path_prefix': 'basemaps-to-cloud/'}}, 'error_hints': [], 'id': 'c33d0332-0bf0-4eb6-95fd-a2715d065300', 'last_message': 'Waiting for merge operations to complete', 'last_modified': '2022-11-30T21:47:50.570Z', 'name': 'basemap order with geometry', 'order_type': 'partial', 'products': [{'geometry': {'coordinates': [[[4.607406, 52.353994], [4.680005, 52.353994], [4.680005, 52.395523], [4.607406, 52.395523], [4.607406, 52.353994]]], 'type': 'Polygon'}, 'mosaic_name': 'global_monthly_2022_01_mosaic'}], 'source_type': 'basemaps', 'state': 'running', 'tools': [{'merge': {}}, {'clip': {}}]}\n",
      "running\n",
      "{'_links': {'_self': 'https://api.planet.com/compute/ops/orders/v2/c33d0332-0bf0-4eb6-95fd-a2715d065300'}, 'created_on': '2022-11-30T21:46:29.114Z', 'delivery': {'google_cloud_storage': {'bucket': 'notebook-practice', 'credentials': '<REDACTED>', 'path_prefix': 'basemaps-to-cloud/'}}, 'error_hints': [], 'id': 'c33d0332-0bf0-4eb6-95fd-a2715d065300', 'last_message': 'Waiting for merge operations to complete', 'last_modified': '2022-11-30T21:47:50.570Z', 'name': 'basemap order with geometry', 'order_type': 'partial', 'products': [{'geometry': {'coordinates': [[[4.607406, 52.353994], [4.680005, 52.353994], [4.680005, 52.395523], [4.607406, 52.395523], [4.607406, 52.353994]]], 'type': 'Polygon'}, 'mosaic_name': 'global_monthly_2022_01_mosaic'}], 'source_type': 'basemaps', 'state': 'running', 'tools': [{'merge': {}}, {'clip': {}}]}\n",
      "running\n",
      "{'_links': {'_self': 'https://api.planet.com/compute/ops/orders/v2/c33d0332-0bf0-4eb6-95fd-a2715d065300'}, 'created_on': '2022-11-30T21:46:29.114Z', 'delivery': {'google_cloud_storage': {'bucket': 'notebook-practice', 'credentials': '<REDACTED>', 'path_prefix': 'basemaps-to-cloud/'}}, 'error_hints': [], 'id': 'c33d0332-0bf0-4eb6-95fd-a2715d065300', 'last_message': 'Waiting for merge operations to complete', 'last_modified': '2022-11-30T21:47:50.570Z', 'name': 'basemap order with geometry', 'order_type': 'partial', 'products': [{'geometry': {'coordinates': [[[4.607406, 52.353994], [4.680005, 52.353994], [4.680005, 52.395523], [4.607406, 52.395523], [4.607406, 52.353994]]], 'type': 'Polygon'}, 'mosaic_name': 'global_monthly_2022_01_mosaic'}], 'source_type': 'basemaps', 'state': 'running', 'tools': [{'merge': {}}, {'clip': {}}]}\n",
      "running\n",
      "{'_links': {'_self': 'https://api.planet.com/compute/ops/orders/v2/c33d0332-0bf0-4eb6-95fd-a2715d065300'}, 'created_on': '2022-11-30T21:46:29.114Z', 'delivery': {'google_cloud_storage': {'bucket': 'notebook-practice', 'credentials': '<REDACTED>', 'path_prefix': 'basemaps-to-cloud/'}}, 'error_hints': [], 'id': 'c33d0332-0bf0-4eb6-95fd-a2715d065300', 'last_message': 'Waiting for merge operations to complete', 'last_modified': '2022-11-30T21:47:50.570Z', 'name': 'basemap order with geometry', 'order_type': 'partial', 'products': [{'geometry': {'coordinates': [[[4.607406, 52.353994], [4.680005, 52.353994], [4.680005, 52.395523], [4.607406, 52.395523], [4.607406, 52.353994]]], 'type': 'Polygon'}, 'mosaic_name': 'global_monthly_2022_01_mosaic'}], 'source_type': 'basemaps', 'state': 'running', 'tools': [{'merge': {}}, {'clip': {}}]}\n",
      "running\n",
      "{'_links': {'_self': 'https://api.planet.com/compute/ops/orders/v2/c33d0332-0bf0-4eb6-95fd-a2715d065300'}, 'created_on': '2022-11-30T21:46:29.114Z', 'delivery': {'google_cloud_storage': {'bucket': 'notebook-practice', 'credentials': '<REDACTED>', 'path_prefix': 'basemaps-to-cloud/'}}, 'error_hints': [], 'id': 'c33d0332-0bf0-4eb6-95fd-a2715d065300', 'last_message': 'Waiting for merge operations to complete', 'last_modified': '2022-11-30T21:47:50.570Z', 'name': 'basemap order with geometry', 'order_type': 'partial', 'products': [{'geometry': {'coordinates': [[[4.607406, 52.353994], [4.680005, 52.353994], [4.680005, 52.395523], [4.607406, 52.395523], [4.607406, 52.353994]]], 'type': 'Polygon'}, 'mosaic_name': 'global_monthly_2022_01_mosaic'}], 'source_type': 'basemaps', 'state': 'running', 'tools': [{'merge': {}}, {'clip': {}}]}\n",
      "running\n",
      "{'_links': {'_self': 'https://api.planet.com/compute/ops/orders/v2/c33d0332-0bf0-4eb6-95fd-a2715d065300'}, 'created_on': '2022-11-30T21:46:29.114Z', 'delivery': {'google_cloud_storage': {'bucket': 'notebook-practice', 'credentials': '<REDACTED>', 'path_prefix': 'basemaps-to-cloud/'}}, 'error_hints': [], 'id': 'c33d0332-0bf0-4eb6-95fd-a2715d065300', 'last_message': 'Waiting for merge operations to complete', 'last_modified': '2022-11-30T21:48:51.138Z', 'name': 'basemap order with geometry', 'order_type': 'partial', 'products': [{'geometry': {'coordinates': [[[4.607406, 52.353994], [4.680005, 52.353994], [4.680005, 52.395523], [4.607406, 52.395523], [4.607406, 52.353994]]], 'type': 'Polygon'}, 'mosaic_name': 'global_monthly_2022_01_mosaic'}], 'source_type': 'basemaps', 'state': 'running', 'tools': [{'merge': {}}, {'clip': {}}]}\n",
      "running\n",
      "{'_links': {'_self': 'https://api.planet.com/compute/ops/orders/v2/c33d0332-0bf0-4eb6-95fd-a2715d065300'}, 'created_on': '2022-11-30T21:46:29.114Z', 'delivery': {'google_cloud_storage': {'bucket': 'notebook-practice', 'credentials': '<REDACTED>', 'path_prefix': 'basemaps-to-cloud/'}}, 'error_hints': [], 'id': 'c33d0332-0bf0-4eb6-95fd-a2715d065300', 'last_message': 'Waiting for merge operations to complete', 'last_modified': '2022-11-30T21:48:51.138Z', 'name': 'basemap order with geometry', 'order_type': 'partial', 'products': [{'geometry': {'coordinates': [[[4.607406, 52.353994], [4.680005, 52.353994], [4.680005, 52.395523], [4.607406, 52.395523], [4.607406, 52.353994]]], 'type': 'Polygon'}, 'mosaic_name': 'global_monthly_2022_01_mosaic'}], 'source_type': 'basemaps', 'state': 'running', 'tools': [{'merge': {}}, {'clip': {}}]}\n",
      "running\n",
      "{'_links': {'_self': 'https://api.planet.com/compute/ops/orders/v2/c33d0332-0bf0-4eb6-95fd-a2715d065300'}, 'created_on': '2022-11-30T21:46:29.114Z', 'delivery': {'google_cloud_storage': {'bucket': 'notebook-practice', 'credentials': '<REDACTED>', 'path_prefix': 'basemaps-to-cloud/'}}, 'error_hints': [], 'id': 'c33d0332-0bf0-4eb6-95fd-a2715d065300', 'last_message': 'Waiting for merge operations to complete', 'last_modified': '2022-11-30T21:48:51.138Z', 'name': 'basemap order with geometry', 'order_type': 'partial', 'products': [{'geometry': {'coordinates': [[[4.607406, 52.353994], [4.680005, 52.353994], [4.680005, 52.395523], [4.607406, 52.395523], [4.607406, 52.353994]]], 'type': 'Polygon'}, 'mosaic_name': 'global_monthly_2022_01_mosaic'}], 'source_type': 'basemaps', 'state': 'running', 'tools': [{'merge': {}}, {'clip': {}}]}\n",
      "running\n",
      "{'_links': {'_self': 'https://api.planet.com/compute/ops/orders/v2/c33d0332-0bf0-4eb6-95fd-a2715d065300'}, 'created_on': '2022-11-30T21:46:29.114Z', 'delivery': {'google_cloud_storage': {'bucket': 'notebook-practice', 'credentials': '<REDACTED>', 'path_prefix': 'basemaps-to-cloud/'}}, 'error_hints': [], 'id': 'c33d0332-0bf0-4eb6-95fd-a2715d065300', 'last_message': 'Waiting for merge operations to complete', 'last_modified': '2022-11-30T21:48:51.138Z', 'name': 'basemap order with geometry', 'order_type': 'partial', 'products': [{'geometry': {'coordinates': [[[4.607406, 52.353994], [4.680005, 52.353994], [4.680005, 52.395523], [4.607406, 52.395523], [4.607406, 52.353994]]], 'type': 'Polygon'}, 'mosaic_name': 'global_monthly_2022_01_mosaic'}], 'source_type': 'basemaps', 'state': 'running', 'tools': [{'merge': {}}, {'clip': {}}]}\n",
      "running\n",
      "{'_links': {'_self': 'https://api.planet.com/compute/ops/orders/v2/c33d0332-0bf0-4eb6-95fd-a2715d065300'}, 'created_on': '2022-11-30T21:46:29.114Z', 'delivery': {'google_cloud_storage': {'bucket': 'notebook-practice', 'credentials': '<REDACTED>', 'path_prefix': 'basemaps-to-cloud/'}}, 'error_hints': [], 'id': 'c33d0332-0bf0-4eb6-95fd-a2715d065300', 'last_message': 'Waiting for merge operations to complete', 'last_modified': '2022-11-30T21:48:51.138Z', 'name': 'basemap order with geometry', 'order_type': 'partial', 'products': [{'geometry': {'coordinates': [[[4.607406, 52.353994], [4.680005, 52.353994], [4.680005, 52.395523], [4.607406, 52.395523], [4.607406, 52.353994]]], 'type': 'Polygon'}, 'mosaic_name': 'global_monthly_2022_01_mosaic'}], 'source_type': 'basemaps', 'state': 'running', 'tools': [{'merge': {}}, {'clip': {}}]}\n",
      "running\n",
      "{'_links': {'_self': 'https://api.planet.com/compute/ops/orders/v2/c33d0332-0bf0-4eb6-95fd-a2715d065300'}, 'created_on': '2022-11-30T21:46:29.114Z', 'delivery': {'google_cloud_storage': {'bucket': 'notebook-practice', 'credentials': '<REDACTED>', 'path_prefix': 'basemaps-to-cloud/'}}, 'error_hints': [], 'id': 'c33d0332-0bf0-4eb6-95fd-a2715d065300', 'last_message': 'Waiting for merge operations to complete', 'last_modified': '2022-11-30T21:48:51.138Z', 'name': 'basemap order with geometry', 'order_type': 'partial', 'products': [{'geometry': {'coordinates': [[[4.607406, 52.353994], [4.680005, 52.353994], [4.680005, 52.395523], [4.607406, 52.395523], [4.607406, 52.353994]]], 'type': 'Polygon'}, 'mosaic_name': 'global_monthly_2022_01_mosaic'}], 'source_type': 'basemaps', 'state': 'running', 'tools': [{'merge': {}}, {'clip': {}}]}\n",
      "running\n",
      "{'_links': {'_self': 'https://api.planet.com/compute/ops/orders/v2/c33d0332-0bf0-4eb6-95fd-a2715d065300'}, 'created_on': '2022-11-30T21:46:29.114Z', 'delivery': {'google_cloud_storage': {'bucket': 'notebook-practice', 'credentials': '<REDACTED>', 'path_prefix': 'basemaps-to-cloud/'}}, 'error_hints': [], 'id': 'c33d0332-0bf0-4eb6-95fd-a2715d065300', 'last_message': 'Waiting for merge operations to complete', 'last_modified': '2022-11-30T21:49:52.499Z', 'name': 'basemap order with geometry', 'order_type': 'partial', 'products': [{'geometry': {'coordinates': [[[4.607406, 52.353994], [4.680005, 52.353994], [4.680005, 52.395523], [4.607406, 52.395523], [4.607406, 52.353994]]], 'type': 'Polygon'}, 'mosaic_name': 'global_monthly_2022_01_mosaic'}], 'source_type': 'basemaps', 'state': 'running', 'tools': [{'merge': {}}, {'clip': {}}]}\n",
      "running\n",
      "{'_links': {'_self': 'https://api.planet.com/compute/ops/orders/v2/c33d0332-0bf0-4eb6-95fd-a2715d065300'}, 'created_on': '2022-11-30T21:46:29.114Z', 'delivery': {'google_cloud_storage': {'bucket': 'notebook-practice', 'credentials': '<REDACTED>', 'path_prefix': 'basemaps-to-cloud/'}}, 'error_hints': [], 'id': 'c33d0332-0bf0-4eb6-95fd-a2715d065300', 'last_message': 'Waiting for merge operations to complete', 'last_modified': '2022-11-30T21:49:52.499Z', 'name': 'basemap order with geometry', 'order_type': 'partial', 'products': [{'geometry': {'coordinates': [[[4.607406, 52.353994], [4.680005, 52.353994], [4.680005, 52.395523], [4.607406, 52.395523], [4.607406, 52.353994]]], 'type': 'Polygon'}, 'mosaic_name': 'global_monthly_2022_01_mosaic'}], 'source_type': 'basemaps', 'state': 'running', 'tools': [{'merge': {}}, {'clip': {}}]}\n",
      "running\n",
      "{'_links': {'_self': 'https://api.planet.com/compute/ops/orders/v2/c33d0332-0bf0-4eb6-95fd-a2715d065300'}, 'created_on': '2022-11-30T21:46:29.114Z', 'delivery': {'google_cloud_storage': {'bucket': 'notebook-practice', 'credentials': '<REDACTED>', 'path_prefix': 'basemaps-to-cloud/'}}, 'error_hints': [], 'id': 'c33d0332-0bf0-4eb6-95fd-a2715d065300', 'last_message': 'Waiting for merge operations to complete', 'last_modified': '2022-11-30T21:49:52.499Z', 'name': 'basemap order with geometry', 'order_type': 'partial', 'products': [{'geometry': {'coordinates': [[[4.607406, 52.353994], [4.680005, 52.353994], [4.680005, 52.395523], [4.607406, 52.395523], [4.607406, 52.353994]]], 'type': 'Polygon'}, 'mosaic_name': 'global_monthly_2022_01_mosaic'}], 'source_type': 'basemaps', 'state': 'running', 'tools': [{'merge': {}}, {'clip': {}}]}\n",
      "running\n",
      "{'_links': {'_self': 'https://api.planet.com/compute/ops/orders/v2/c33d0332-0bf0-4eb6-95fd-a2715d065300'}, 'created_on': '2022-11-30T21:46:29.114Z', 'delivery': {'google_cloud_storage': {'bucket': 'notebook-practice', 'credentials': '<REDACTED>', 'path_prefix': 'basemaps-to-cloud/'}}, 'error_hints': [], 'id': 'c33d0332-0bf0-4eb6-95fd-a2715d065300', 'last_message': 'Waiting for merge operations to complete', 'last_modified': '2022-11-30T21:49:52.499Z', 'name': 'basemap order with geometry', 'order_type': 'partial', 'products': [{'geometry': {'coordinates': [[[4.607406, 52.353994], [4.680005, 52.353994], [4.680005, 52.395523], [4.607406, 52.395523], [4.607406, 52.353994]]], 'type': 'Polygon'}, 'mosaic_name': 'global_monthly_2022_01_mosaic'}], 'source_type': 'basemaps', 'state': 'running', 'tools': [{'merge': {}}, {'clip': {}}]}\n",
      "running\n",
      "{'_links': {'_self': 'https://api.planet.com/compute/ops/orders/v2/c33d0332-0bf0-4eb6-95fd-a2715d065300'}, 'created_on': '2022-11-30T21:46:29.114Z', 'delivery': {'google_cloud_storage': {'bucket': 'notebook-practice', 'credentials': '<REDACTED>', 'path_prefix': 'basemaps-to-cloud/'}}, 'error_hints': [], 'id': 'c33d0332-0bf0-4eb6-95fd-a2715d065300', 'last_message': 'Waiting for merge operations to complete', 'last_modified': '2022-11-30T21:49:52.499Z', 'name': 'basemap order with geometry', 'order_type': 'partial', 'products': [{'geometry': {'coordinates': [[[4.607406, 52.353994], [4.680005, 52.353994], [4.680005, 52.395523], [4.607406, 52.395523], [4.607406, 52.353994]]], 'type': 'Polygon'}, 'mosaic_name': 'global_monthly_2022_01_mosaic'}], 'source_type': 'basemaps', 'state': 'running', 'tools': [{'merge': {}}, {'clip': {}}]}\n",
      "running\n",
      "{'_links': {'_self': 'https://api.planet.com/compute/ops/orders/v2/c33d0332-0bf0-4eb6-95fd-a2715d065300'}, 'created_on': '2022-11-30T21:46:29.114Z', 'delivery': {'google_cloud_storage': {'bucket': 'notebook-practice', 'credentials': '<REDACTED>', 'path_prefix': 'basemaps-to-cloud/'}}, 'error_hints': [], 'id': 'c33d0332-0bf0-4eb6-95fd-a2715d065300', 'last_message': 'Waiting for merge operations to complete', 'last_modified': '2022-11-30T21:49:52.499Z', 'name': 'basemap order with geometry', 'order_type': 'partial', 'products': [{'geometry': {'coordinates': [[[4.607406, 52.353994], [4.680005, 52.353994], [4.680005, 52.395523], [4.607406, 52.395523], [4.607406, 52.353994]]], 'type': 'Polygon'}, 'mosaic_name': 'global_monthly_2022_01_mosaic'}], 'source_type': 'basemaps', 'state': 'running', 'tools': [{'merge': {}}, {'clip': {}}]}\n",
      "running\n",
      "{'_links': {'_self': 'https://api.planet.com/compute/ops/orders/v2/c33d0332-0bf0-4eb6-95fd-a2715d065300'}, 'created_on': '2022-11-30T21:46:29.114Z', 'delivery': {'google_cloud_storage': {'bucket': 'notebook-practice', 'credentials': '<REDACTED>', 'path_prefix': 'basemaps-to-cloud/'}}, 'error_hints': [], 'id': 'c33d0332-0bf0-4eb6-95fd-a2715d065300', 'last_message': 'merge+clip/ completed - delivering results', 'last_modified': '2022-11-30T21:50:56.630Z', 'name': 'basemap order with geometry', 'order_type': 'partial', 'products': [{'geometry': {'coordinates': [[[4.607406, 52.353994], [4.680005, 52.353994], [4.680005, 52.395523], [4.607406, 52.395523], [4.607406, 52.353994]]], 'type': 'Polygon'}, 'mosaic_name': 'global_monthly_2022_01_mosaic'}], 'source_type': 'basemaps', 'state': 'running', 'tools': [{'merge': {}}, {'clip': {}}]}\n",
      "running\n",
      "{'_links': {'_self': 'https://api.planet.com/compute/ops/orders/v2/c33d0332-0bf0-4eb6-95fd-a2715d065300'}, 'created_on': '2022-11-30T21:46:29.114Z', 'delivery': {'google_cloud_storage': {'bucket': 'notebook-practice', 'credentials': '<REDACTED>', 'path_prefix': 'basemaps-to-cloud/'}}, 'error_hints': [], 'id': 'c33d0332-0bf0-4eb6-95fd-a2715d065300', 'last_message': 'Waiting for delivery to complete (Running:1 Succeeded:0 Failed:0)', 'last_modified': '2022-11-30T21:51:00.030Z', 'name': 'basemap order with geometry', 'order_type': 'partial', 'products': [{'geometry': {'coordinates': [[[4.607406, 52.353994], [4.680005, 52.353994], [4.680005, 52.395523], [4.607406, 52.395523], [4.607406, 52.353994]]], 'type': 'Polygon'}, 'mosaic_name': 'global_monthly_2022_01_mosaic'}], 'source_type': 'basemaps', 'state': 'running', 'tools': [{'merge': {}}, {'clip': {}}]}\n",
      "running\n",
      "{'_links': {'_self': 'https://api.planet.com/compute/ops/orders/v2/c33d0332-0bf0-4eb6-95fd-a2715d065300'}, 'created_on': '2022-11-30T21:46:29.114Z', 'delivery': {'google_cloud_storage': {'bucket': 'notebook-practice', 'credentials': '<REDACTED>', 'path_prefix': 'basemaps-to-cloud/'}}, 'error_hints': [], 'id': 'c33d0332-0bf0-4eb6-95fd-a2715d065300', 'last_message': 'Waiting for delivery to complete (Running:1 Succeeded:0 Failed:0)', 'last_modified': '2022-11-30T21:51:00.030Z', 'name': 'basemap order with geometry', 'order_type': 'partial', 'products': [{'geometry': {'coordinates': [[[4.607406, 52.353994], [4.680005, 52.353994], [4.680005, 52.395523], [4.607406, 52.395523], [4.607406, 52.353994]]], 'type': 'Polygon'}, 'mosaic_name': 'global_monthly_2022_01_mosaic'}], 'source_type': 'basemaps', 'state': 'running', 'tools': [{'merge': {}}, {'clip': {}}]}\n",
      "running\n",
      "{'_links': {'_self': 'https://api.planet.com/compute/ops/orders/v2/c33d0332-0bf0-4eb6-95fd-a2715d065300'}, 'created_on': '2022-11-30T21:46:29.114Z', 'delivery': {'google_cloud_storage': {'bucket': 'notebook-practice', 'credentials': '<REDACTED>', 'path_prefix': 'basemaps-to-cloud/'}}, 'error_hints': [], 'id': 'c33d0332-0bf0-4eb6-95fd-a2715d065300', 'last_message': 'Waiting for delivery to complete (Running:1 Succeeded:0 Failed:0)', 'last_modified': '2022-11-30T21:51:00.030Z', 'name': 'basemap order with geometry', 'order_type': 'partial', 'products': [{'geometry': {'coordinates': [[[4.607406, 52.353994], [4.680005, 52.353994], [4.680005, 52.395523], [4.607406, 52.395523], [4.607406, 52.353994]]], 'type': 'Polygon'}, 'mosaic_name': 'global_monthly_2022_01_mosaic'}], 'source_type': 'basemaps', 'state': 'running', 'tools': [{'merge': {}}, {'clip': {}}]}\n",
      "running\n"
     ]
    }
   ],
   "source": [
    "def poll_for_success(order_url, auth, num_loops=30):\n",
    "    count = 0\n",
    "    while(count < num_loops):\n",
    "        count += 1\n",
    "        r = requests.get(order_url, auth=session.auth)\n",
    "        response = r.json()\n",
    "        state = response['state']\n",
    "        print(state)\n",
    "        end_states = ['success', 'failed', 'partial']\n",
    "        if state in end_states:\n",
    "            break\n",
    "        time.sleep(10)\n",
    "       \n",
    "        \n",
    "poll_for_success(order_url, auth)"
   ]
  },
  {
   "cell_type": "code",
   "execution_count": null,
   "metadata": {},
   "outputs": [
    {
     "ename": "KeyError",
     "evalue": "'results'",
     "output_type": "error",
     "traceback": [
      "\u001b[0;31m---------------------------------------------------------------------------\u001b[0m",
      "\u001b[0;31mKeyError\u001b[0m                                  Traceback (most recent call last)",
      "\u001b[1;32m/Users/em.steuer/repos/notebooks/jupyter-notebooks/orders_basemaps/orderbasemap.ipynb Cell 17\u001b[0m in \u001b[0;36m<cell line: 3>\u001b[0;34m()\u001b[0m\n\u001b[1;32m      <a href='vscode-notebook-cell:/Users/em.steuer/repos/notebooks/jupyter-notebooks/orders_basemaps/orderbasemap.ipynb#X22sZmlsZQ%3D%3D?line=0'>1</a>\u001b[0m r \u001b[39m=\u001b[39m requests\u001b[39m.\u001b[39mget(order_url, auth\u001b[39m=\u001b[39msession\u001b[39m.\u001b[39mauth)\n\u001b[1;32m      <a href='vscode-notebook-cell:/Users/em.steuer/repos/notebooks/jupyter-notebooks/orders_basemaps/orderbasemap.ipynb#X22sZmlsZQ%3D%3D?line=1'>2</a>\u001b[0m response \u001b[39m=\u001b[39m r\u001b[39m.\u001b[39mjson()\n\u001b[0;32m----> <a href='vscode-notebook-cell:/Users/em.steuer/repos/notebooks/jupyter-notebooks/orders_basemaps/orderbasemap.ipynb#X22sZmlsZQ%3D%3D?line=2'>3</a>\u001b[0m results \u001b[39m=\u001b[39m response[\u001b[39m'\u001b[39;49m\u001b[39m_links\u001b[39;49m\u001b[39m'\u001b[39;49m][\u001b[39m'\u001b[39;49m\u001b[39mresults\u001b[39;49m\u001b[39m'\u001b[39;49m]\n",
      "\u001b[0;31mKeyError\u001b[0m: 'results'"
     ]
    }
   ],
   "source": [
    "r = requests.get(order_url, auth=session.auth)\n",
    "response = r.json()\n",
    "results = response['_links']['results']"
   ]
  },
  {
   "cell_type": "code",
   "execution_count": null,
   "metadata": {},
   "outputs": [
    {
     "data": {
      "text/plain": [
       "['basemaps-to-cloud/949f788f-7639-4d45-a6cf-06bbdda814a9/global_monthly_2022_01_mosaic/global_monthly_2022_01_mosaic_metadata_merge_clip.json',\n",
       " 'basemaps-to-cloud/949f788f-7639-4d45-a6cf-06bbdda814a9/global_monthly_2022_01_mosaic/global_monthly_2022_01_mosaic_provenance_raster_merge_clip.tif',\n",
       " 'basemaps-to-cloud/949f788f-7639-4d45-a6cf-06bbdda814a9/global_monthly_2022_01_mosaic/global_monthly_2022_01_mosaic_provenance_vector_merge_clip.zip',\n",
       " 'basemaps-to-cloud/949f788f-7639-4d45-a6cf-06bbdda814a9/global_monthly_2022_01_mosaic/global_monthly_2022_01_mosaic_merge_clip.tif',\n",
       " 'basemaps-to-cloud/949f788f-7639-4d45-a6cf-06bbdda814a9/global_monthly_2022_01_mosaic/global_monthly_2022_01_mosaic_ortho_udm_merge_clip.tif',\n",
       " 'basemaps-to-cloud/949f788f-7639-4d45-a6cf-06bbdda814a9/manifest.json']"
      ]
     },
     "execution_count": 46,
     "metadata": {},
     "output_type": "execute_result"
    }
   ],
   "source": [
    "[r['name'] for r in results]"
   ]
  },
  {
   "cell_type": "code",
   "execution_count": null,
   "metadata": {},
   "outputs": [],
   "source": []
  }
 ],
 "metadata": {
  "kernelspec": {
   "display_name": "Python 3 (ipykernel)",
   "language": "python",
   "name": "python3"
  },
  "language_info": {
   "codemirror_mode": {
    "name": "ipython",
    "version": 3
   },
   "file_extension": ".py",
   "mimetype": "text/x-python",
   "name": "python",
   "nbconvert_exporter": "python",
   "pygments_lexer": "ipython3",
   "version": "3.9.12"
  },
  "vscode": {
   "interpreter": {
    "hash": "40d3a090f54c6569ab1632332b64b2c03c39dcf918b08424e98f38b5ae0af88f"
   }
  }
 },
 "nbformat": 4,
 "nbformat_minor": 2
}
