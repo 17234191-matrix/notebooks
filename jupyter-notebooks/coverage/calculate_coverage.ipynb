{
 "cells": [
  {
   "cell_type": "markdown",
   "metadata": {},
   "source": [
    "# Calculate Coverage\n",
    "\n",
    "You've defined an AOI, you've specified the image type you are interested and the search query. Great! But what is the coverage of your AOI given your search query? Wouldn't you like to know before you start downloading images?\n",
    "\n",
    "This notebook will allow you to answer that question quickly and painlessly.\n",
    "\n",
    "Coverage calculation is performed in the UTM [projected coordinate system](http://resources.arcgis.com/en/help/main/10.1/index.html#//003r0000000p000000). The geojson features are defined in the WGS84 [geographic coordinate system](http://resources.arcgis.com/en/help/main/10.1/index.html#//003r00000006000000), which is not a 2D projection. \n",
    "UTM preserves shape and minimizes distortion ([wikipedia](https://en.wikipedia.org/wiki/Universal_Transverse_Mercator_coordinate_system))"
   ]
  },
  {
   "cell_type": "code",
   "execution_count": null,
   "metadata": {},
   "outputs": [],
   "source": [
    "# Notebook dependencies\n",
    "from __future__ import print_function\n",
    "\n",
    "from datetime import datetime\n",
    "import copy\n",
    "from functools import partial\n",
    "import geopandas as gpd\n",
    "import os\n",
    "\n",
    "from IPython.display import display, Image\n",
    "import matplotlib\n",
    "from matplotlib import cm\n",
    "import matplotlib.pyplot as plt\n",
    "import numpy as np\n",
    "import pandas as pd\n",
    "from planet import Auth\n",
    "from planet import Session, DataClient, OrdersClient\n",
    "import pyproj\n",
    "import rasterio\n",
    "from rasterio import features as rfeatures\n",
    "from shapely.ops import transform\n",
    "from shapely.geometry import shape\n",
    "import shapely.ops\n",
    "\n",
    "%matplotlib inline"
   ]
  },
  {
   "cell_type": "markdown",
   "metadata": {},
   "source": [
    "## Define AOI\n",
    "\n",
    "Define the AOI as a geojson polygon. This can be done at [geojson.io](http://geojson.io). If you use geojson.io, only copy the single aoi feature, not the entire feature collection."
   ]
  },
  {
   "cell_type": "code",
   "execution_count": null,
   "metadata": {},
   "outputs": [],
   "source": [
    "# define test data for the filter\n",
    "\n",
    "# AOI: Cary, NC\n",
    "test_aoi_geom = {\n",
    "    \"type\": \"Polygon\",\n",
    "    \"coordinates\": [\n",
    "        [\n",
    "            [-78.83102416992188, 35.86345667898701],\n",
    "            [-78.88458251953125, 35.8250510782599],\n",
    "            [-78.88801574707031, 35.747905467846515],\n",
    "            [-78.8540267944336, 35.755149755962755],\n",
    "            [-78.79291534423828, 35.74121784739981],\n",
    "            [-78.74141693115234, 35.76740781814028],\n",
    "            [-78.75274658203125, 35.78495584591914],\n",
    "            [-78.74038696289062, 35.813915544045656],\n",
    "            [-78.77986907958984, 35.83757668704619],\n",
    "            [-78.83102416992188, 35.86345667898701]\n",
    "        ]\n",
    "    ]\n",
    "}\n",
    "\n",
    "\n",
    "# this notebook uses rasterio Shapes for processing, so lets convert that geojson to a shape\n",
    "aoi_shape = shape(test_aoi_geom)\n",
    "\n",
    "\n",
    "### Let's search:\n",
    "# for the geometry above\n",
    "# Date Range: June 1st - Oct 31st 2016\n",
    "# Cloud Cover: less than 0.5 of the image should be covered with clouds"
   ]
  },
  {
   "cell_type": "markdown",
   "metadata": {},
   "source": [
    "## Build Request\n",
    "\n",
    "Build the Planet API Filter request.\n",
    "\n",
    "Customize this code for your own purposes"
   ]
  },
  {
   "cell_type": "code",
   "execution_count": null,
   "metadata": {},
   "outputs": [],
   "source": [
    "# create an API Request from the search specifications\n",
    "\n",
    "item_type = ['PSScene']\n",
    "\n",
    "geom_filter = data_filter.geometry_filter(test_aoi_geom)\n",
    "date_range_filter = data_filter.date_range_filter(\"acquired\", datetime(month=6, day=1, year=2016), datetime(month=10, day=1, year=2016))\n",
    "cloud_cover_filter = data_filter.range_filter('cloud_cover', None, 0.5)\n",
    "\n",
    "combined_filter = data_filter.and_filter([geom_filter, date_range_filter, cloud_cover_filter])\n",
    "\n",
    "async with Session() as sess:\n",
    "    cl = DataClient(sess)\n",
    "    request = await cl.create_search(name='calc_coverage_search',search_filter=combined_filter, item_types=item_type)\n"
   ]
  },
  {
   "cell_type": "code",
   "execution_count": null,
   "metadata": {},
   "outputs": [],
   "source": [
    "# Let's look at our search request.\n",
    "# Note: This is just the request's structure, the search hasn't been implemented yet\n",
    "request"
   ]
  },
  {
   "cell_type": "markdown",
   "metadata": {},
   "source": [
    "## Check AOI and Determine Coverage Grid Dimensions\n",
    "\n",
    "We convert the AOI to UTM and ensure that it is large enough to include at least a few grid cells 9m x 9m (approximately 3x PSScene resolution). Then we determine the appropriate coverage grid dimensions from the AOI.\n",
    "\n",
    "There are a lot of UTM zones, and the UTM zone we project to depends on the location of the AOI. Once this zone is determined, we create a function that can be used to project any shape. We will use that function to project the scene footprints to the same UTM zone once we get them."
   ]
  },
  {
   "cell_type": "code",
   "execution_count": null,
   "metadata": {
    "scrolled": false
   },
   "outputs": [],
   "source": [
    "# Utility functions: projecting a feature to the appropriate UTM zone\n",
    "\n",
    "def get_utm_projection_fcn(geom):\n",
    "    # define projection\n",
    "    # from shapely [docs](http://toblerity.org/shapely/manual.html#shapely.ops.transform)\n",
    "    proj_fcn = partial(\n",
    "        pyproj.transform,\n",
    "        pyproj.Proj(init='EPSG:4326'), #wgs84\n",
    "        _get_utm_projection(geom))\n",
    "    return proj_fcn\n",
    "\n",
    "\n",
    "def _get_utm_zone(geom):\n",
    "    '''geom: geojson geometry'''\n",
    "    coordinates = shape(geom)\n",
    "    lon = coordinates.centroid.x\n",
    "    lat = coordinates.centroid.y\n",
    "    \n",
    "    if lat > 84 or lat < -80:\n",
    "        raise Exception('UTM Zones only valid within [-80, 84] latitude')\n",
    "    \n",
    "    # this is adapted from\n",
    "    # https://www.e-education.psu.edu/natureofgeoinfo/book/export/html/1696\n",
    "    zone = int((lon + 180) / 6 + 1)\n",
    "    \n",
    "    hemisphere = 'north' if lat > 0 else 'south'\n",
    "    \n",
    "    return (zone, hemisphere)\n",
    "\n",
    "\n",
    "def _get_utm_projection(geom):\n",
    "    proj_str = \"EPSG:32617\"\n",
    "    return pyproj.Proj(proj_str)\n",
    "\n",
    "\n",
    "proj_fcn = get_utm_projection_fcn(aoi_shape)\n",
    "aoi_shape_utm = shapely.ops.transform(proj_fcn, aoi_shape)\n"
   ]
  },
  {
   "cell_type": "code",
   "execution_count": null,
   "metadata": {},
   "outputs": [],
   "source": [
    "def get_coverage_dimensions(aoi_shape_utm):\n",
    "    '''Checks that aoi is big enough and calculates the dimensions for coverage grid.'''\n",
    "    minx, miny, maxx, maxy = aoi_shape_utm.bounds\n",
    "    width = maxx - minx\n",
    "    height = maxy - miny\n",
    "    \n",
    "    min_cell_size = 9 # in meters, approx 3x ground sampling distance\n",
    "    min_number_of_cells = 3\n",
    "    max_number_of_cells = 3000\n",
    "    \n",
    "    \n",
    "    min_dim = min_cell_size * min_number_of_cells\n",
    "    if height < min_dim:\n",
    "        raise Exception('AOI height too small, should be {}m.'.format(min_dim))\n",
    "\n",
    "    if width < min_dim:\n",
    "        raise Exception('AOI width too small, should be {}m.'.format(min_dim))\n",
    "    \n",
    "    def _dim(length):\n",
    "        return min(int(length/min_cell_size), max_number_of_cells)\n",
    "\n",
    "    return [_dim(l) for l in (height, width)]\n",
    "\n",
    "\n",
    "dimensions = get_coverage_dimensions(aoi_shape_utm)\n",
    "print(dimensions)"
   ]
  },
  {
   "cell_type": "markdown",
   "metadata": {},
   "source": [
    "## Search using the Planet Data API\n",
    "\n",
    "The client is how we interact with the Planet API. It is created with the user-specific API Key, which is pulled from $PL_API_KEY environment variable.\n",
    "\n",
    "Unless you are expecting over 500 images (in which case, why are you concerned about coverage?), this code doesn't need to be altered.\n",
    "\n",
    "Here we'll use the quick search functionality that saves searches for up to a month!"
   ]
  },
  {
   "cell_type": "code",
   "execution_count": null,
   "metadata": {},
   "outputs": [],
   "source": [
    "# if your Planet API Key is not set as an environment variable, you can paste it below\n",
    "API_KEY = os.environ.get('PL_API_KEY', 'PASTE_API_KEY_HERE')\n",
    "\n",
    "client = Auth.from_key(API_KEY)\n",
    "\n",
    "# Use our API key as the basic authentication username\n",
    "apiAuth = (API_KEY, '')"
   ]
  },
  {
   "cell_type": "code",
   "execution_count": null,
   "metadata": {},
   "outputs": [],
   "source": [
    "async with Session() as sess:\n",
    "    cl = DataClient(sess)\n",
    "    items = await cl.search(name='calc_coverage_search',search_filter=combined_filter, item_types=item_type, limit=500)\n",
    "    item_list = [i async for i in items]"
   ]
  },
  {
   "cell_type": "markdown",
   "metadata": {},
   "source": [
    "## Calculate Coverage\n",
    "\n",
    "First query the planet api for the items that match the request defined above, then calculate the overlap between each item and the aoi. Finally, convert each overlap to a grid using [`rasterio.rasterize`](https://mapbox.github.io/rasterio/topics/features.html#burning-shapes-into-a-raster), accumulate coverage over the overlap grids, and display the coverage grid."
   ]
  },
  {
   "cell_type": "code",
   "execution_count": null,
   "metadata": {},
   "outputs": [],
   "source": [
    "# Let's look at the list of items that match our quick search\n",
    "\n",
    "item_list"
   ]
  },
  {
   "cell_type": "code",
   "execution_count": null,
   "metadata": {},
   "outputs": [],
   "source": [
    "def get_overlap_shapes_utm(items, aoi_shape):\n",
    "    '''Determine overlap between item footprint and AOI in UTM.'''\n",
    "    \n",
    "    proj_fcn = get_utm_projection_fcn(aoi_shape)\n",
    "    aoi_shape_utm = shapely.ops.transform(proj_fcn, aoi_shape)\n",
    "\n",
    "    def _calculate_overlap(item):\n",
    "        footprint_shape = shape(item['geometry'])\n",
    "        footprint_shape_utm = shapely.ops.transform(proj_fcn, footprint_shape)\n",
    "        return aoi_shape_utm.intersection(footprint_shape_utm)\n",
    "\n",
    "    for i in items:\n",
    "        yield _calculate_overlap(i)\n",
    "\n",
    "        \n",
    "# cache the overlaps as a list so we don't have to refetch items\n",
    "overlaps = list(get_overlap_shapes_utm(item_list, aoi_shape))\n",
    "print(len(overlaps))"
   ]
  },
  {
   "cell_type": "code",
   "execution_count": null,
   "metadata": {
    "scrolled": true
   },
   "outputs": [],
   "source": [
    "# what do overlaps look like?\n",
    "# lets just look at the first overlap to avoid a long output cell\n",
    "display(overlaps[0])"
   ]
  },
  {
   "cell_type": "code",
   "execution_count": null,
   "metadata": {},
   "outputs": [],
   "source": [
    "def calculate_coverage(overlaps, dimensions, bounds):\n",
    "    \n",
    "    # get dimensions of coverage raster\n",
    "    mminx, mminy, mmaxx, mmaxy = bounds\n",
    "\n",
    "    y_count, x_count = dimensions\n",
    "    \n",
    "    # determine pixel width and height for transform\n",
    "    width = (mmaxx - mminx) / x_count\n",
    "    height = (mminy - mmaxy) / y_count # should be negative\n",
    "\n",
    "    # Affine(a, b, c, d, e, f) where:\n",
    "    # a = width of a pixel\n",
    "    # b = row rotation (typically zero)\n",
    "    # c = x-coordinate of the upper-left corner of the upper-left pixel\n",
    "    # d = column rotation (typically zero)\n",
    "    # e = height of a pixel (typically negative)\n",
    "    # f = y-coordinate of the of the upper-left corner of the upper-left pixel\n",
    "    # ref: http://www.perrygeo.com/python-affine-transforms.html\n",
    "    transform = rasterio.Affine(width, 0, mminx, 0, height, mmaxy)\n",
    "    \n",
    "    coverage = np.zeros(dimensions, dtype=np.uint16)\n",
    "    for overlap in overlaps:\n",
    "        if not overlap.is_empty:\n",
    "            # rasterize overlap vector, transforming to coverage raster\n",
    "            # pixels inside overlap have a value of 1, others have a value of 0\n",
    "            overlap_raster = rfeatures.rasterize(\n",
    "                    [sgeom.mapping(overlap)],\n",
    "                    fill=0,\n",
    "                    default_value=1,\n",
    "                    out_shape=dimensions,\n",
    "                    transform=transform)\n",
    "            \n",
    "            # add overlap raster to coverage raster\n",
    "            coverage += overlap_raster\n",
    "    return coverage\n",
    "\n",
    "\n",
    "# what is a low-resolution look at the coverage grid?\n",
    "display(calculate_coverage(overlaps, (6,3), aoi_shape_utm.bounds))"
   ]
  },
  {
   "cell_type": "code",
   "execution_count": null,
   "metadata": {},
   "outputs": [],
   "source": [
    "def plot_coverage(coverage):\n",
    "    fig, ax = plt.subplots()\n",
    "    cax = ax.imshow(coverage, interpolation='nearest', cmap=cm.viridis)\n",
    "    ax.set_title('Coverage\\n(median: {})'.format(int(np.median(coverage))))\n",
    "    ax.axis('off')\n",
    "    \n",
    "    ticks_min = coverage.min()\n",
    "    ticks_max = coverage.max()\n",
    "    cbar = fig.colorbar(cax,ticks=[ticks_min, ticks_max])\n",
    "\n",
    "\n",
    "plot_coverage(calculate_coverage(overlaps, dimensions, aoi_shape_utm.bounds))"
   ]
  },
  {
   "cell_type": "markdown",
   "metadata": {},
   "source": [
    "Now we see the distribution of coverage of our AOI/TOI !"
   ]
  },
  {
   "cell_type": "markdown",
   "metadata": {},
   "source": [
    "## Demo: Comparing Coverage\n",
    "\n",
    "We will compare coverage of PSScene June and July between 2016 and 2017 for the same aoi."
   ]
  },
  {
   "cell_type": "code",
   "execution_count": null,
   "metadata": {},
   "outputs": [],
   "source": [
    "demo_aoi = test_aoi_geom  # use the same aoi that was used before\n",
    "\n",
    "demo_aoi_shape = shape(test_aoi_geom)\n",
    "\n",
    "proj_fcn = get_utm_projection_fcn(demo_aoi_shape)\n",
    "demo_aoi_shape_utm = shapely.ops.transform(proj_fcn, demo_aoi_shape)\n",
    "demo_dimensions = get_coverage_dimensions(demo_aoi_shape_utm)                               "
   ]
  },
  {
   "cell_type": "code",
   "execution_count": null,
   "metadata": {},
   "outputs": [],
   "source": [
    "# 2016 search\n",
    "# create an API Request from the search specifications\n",
    "# keep the same item type, geometry & cloud-cover filters as before\n",
    "\n",
    "date_range_filter = data_filter.date_range_filter(\"acquired\", datetime(month=6, day=1, year=2016), datetime(month=8, day=1, year=2016))\n",
    "combined_filter_2016 = data_filter.and_filter([geom_filter, date_range_filter, cloud_cover_filter])\n",
    "\n",
    "# Run the quick search\n",
    "async with Session() as sess:\n",
    "    cl = DataClient(sess)\n",
    "    items = await cl.search(name='calc_coverage_search_2016',search_filter=combined_filter_2016, item_types=item_type, limit=500)\n",
    "    item_list_2016 = [i async for i in items]\n",
    "    \n",
    "# cache the overlaps as a list so we don't have to refetch items\n",
    "overlaps_2016 = list(get_overlap_shapes_utm(item_list_2016, aoi_shape))\n",
    "print(len(overlaps_2016))"
   ]
  },
  {
   "cell_type": "code",
   "execution_count": null,
   "metadata": {},
   "outputs": [],
   "source": [
    "plot_coverage(calculate_coverage(overlaps_2016, dimensions, aoi_shape_utm.bounds))"
   ]
  },
  {
   "cell_type": "code",
   "execution_count": null,
   "metadata": {},
   "outputs": [],
   "source": [
    "# 2017 search\n",
    "# create an API Request from the search specifications\n",
    "# keep the same item type, geometry & cloud-cover filters as before\n",
    "\n",
    "date_range_filter = data_filter.date_range_filter(\"acquired\", datetime(month=6, day=1, year=2017), datetime(month=8, day=1, year=2017))\n",
    "combined_filter_2017 = data_filter.and_filter([geom_filter, date_range_filter, cloud_cover_filter])\n",
    "\n",
    "# Run the quick search\n",
    "async with Session() as sess:\n",
    "    cl = DataClient(sess)\n",
    "    items = await cl.search(name='calc_coverage_search_2017',search_filter=combined_filter_2017, item_types=item_type, limit=500)\n",
    "    item_list_2017 = [i async for i in items]\n",
    "    \n",
    "# cache the overlaps as a list so we don't have to refetch items\n",
    "overlaps_2017 = list(get_overlap_shapes_utm(item_list_2017, aoi_shape))\n",
    "print(len(overlaps_2017))"
   ]
  },
  {
   "cell_type": "code",
   "execution_count": null,
   "metadata": {},
   "outputs": [],
   "source": [
    "plot_coverage(calculate_coverage(overlaps_2017, dimensions, aoi_shape_utm.bounds))"
   ]
  },
  {
   "cell_type": "markdown",
   "metadata": {},
   "source": [
    "Median coverage over 2 months has increased from 5 to almost 250! That's an increase in average revisit rate from 1+/week to 4+/day. That's what a constellation of over 100 satellites will do for you!"
   ]
  }
 ],
 "metadata": {
  "kernelspec": {
   "display_name": "Python 3 (ipykernel)",
   "language": "python",
   "name": "python3"
  },
  "language_info": {
   "codemirror_mode": {
    "name": "ipython",
    "version": 3
   },
   "file_extension": ".py",
   "mimetype": "text/x-python",
   "name": "python",
   "nbconvert_exporter": "python",
   "pygments_lexer": "ipython3",
   "version": "3.8.13"
  }
 },
 "nbformat": 4,
 "nbformat_minor": 2
}
