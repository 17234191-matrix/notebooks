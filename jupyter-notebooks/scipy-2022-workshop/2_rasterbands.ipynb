{
 "cells": [
  {
   "cell_type": "markdown",
   "metadata": {},
   "source": [
    "# Working with Raster Bands"
   ]
  },
  {
   "cell_type": "markdown",
   "metadata": {},
   "source": [
    "## Import Packages & Load Data"
   ]
  },
  {
   "cell_type": "code",
   "execution_count": null,
   "metadata": {},
   "outputs": [],
   "source": [
    "import rasterio\n",
    "import numpy as np\n",
    "import matplotlib.pyplot as plt"
   ]
  },
  {
   "cell_type": "markdown",
   "metadata": {},
   "source": [
    "In addition to Rasterio, we'll be working with NumPy, which is a useful package for working with arrays, like our images. We will also be using Matplotlib's Pyplot module to visualize our data."
   ]
  },
  {
   "cell_type": "code",
   "execution_count": null,
   "metadata": {},
   "outputs": [],
   "source": [
    "image_file = \"/Users/mansi/Downloads/20170831_172754_101c_3b_Visual.tif\""
   ]
  },
  {
   "cell_type": "code",
   "execution_count": null,
   "metadata": {},
   "outputs": [],
   "source": [
    "satdat = rasterio.open(image_file)\n",
    "\n",
    "# satdat is our open dataset object\n",
    "print(satdat)"
   ]
  },
  {
   "cell_type": "markdown",
   "metadata": {},
   "source": [
    "## Examining Metadata"
   ]
  },
  {
   "cell_type": "code",
   "execution_count": null,
   "metadata": {},
   "outputs": [],
   "source": [
    "# Get the image's coordinate reference system\n",
    "\n",
    "satdat.crs"
   ]
  },
  {
   "cell_type": "markdown",
   "metadata": {},
   "source": [
    "Because this image's CRS is in UTM, we know the projected units are in meters."
   ]
  },
  {
   "cell_type": "code",
   "execution_count": null,
   "metadata": {},
   "outputs": [],
   "source": [
    "# Minimum bounding box in projected units (meters)\n",
    "\n",
    "\n",
    "print(satdat.bounds)"
   ]
  },
  {
   "cell_type": "code",
   "execution_count": null,
   "metadata": {},
   "outputs": [],
   "source": [
    "# Get dimensions, in projected units (using the example GeoTIFF, that's meters)\n",
    "\n",
    "width_in_projected_units = satdat.bounds.right - satdat.bounds.left\n",
    "height_in_projected_units = satdat.bounds.top - satdat.bounds.bottom\n",
    "\n",
    "print(\"Width: {}, Height: {}\".format(width_in_projected_units, height_in_projected_units))"
   ]
  },
  {
   "cell_type": "code",
   "execution_count": null,
   "metadata": {},
   "outputs": [],
   "source": [
    "# Number of rows and columns (pixels)\n",
    "\n",
    "print(\"Rows: {}, Columns: {}\".format(satdat.height, satdat.width))"
   ]
  },
  {
   "cell_type": "code",
   "execution_count": null,
   "metadata": {},
   "outputs": [],
   "source": [
    "# This dataset's projection uses meters as projected units.  What are the dimensions of a single pixel in meters?\n",
    "\n",
    "xres = (satdat.bounds.right - satdat.bounds.left) / satdat.width\n",
    "yres = (satdat.bounds.top - satdat.bounds.bottom) / satdat.height\n",
    "\n",
    "print(xres, yres)\n",
    "print(\"Are the pixels square: {}\".format(xres == yres)) #sanity check"
   ]
  },
  {
   "cell_type": "code",
   "execution_count": null,
   "metadata": {},
   "outputs": [],
   "source": [
    "# Convert pixel coordinates on the image to geographic coordinates on the globe\n",
    "\n",
    "# Upper left pixel\n",
    "row_min = 0\n",
    "col_min = 0\n",
    "\n",
    "# Lower right pixel.  Rows and columns are zero indexing.\n",
    "row_max = satdat.height - 1\n",
    "col_max = satdat.width - 1\n",
    "\n",
    "# Transform coordinates with the dataset's affine transformation.\n",
    "topleft = satdat.transform * (row_min, col_min)\n",
    "botright = satdat.transform * (row_max, col_max)\n",
    "\n",
    "# These are UTM coordinates, not lat/long. UTM coordinates are printed with a cardinal direction (E/W, N/S)\n",
    "print(\"Top left corner coordinates: {}\".format(topleft)) \n",
    "print(\"Bottom right corner coordinates: {}\".format(botright))"
   ]
  },
  {
   "cell_type": "code",
   "execution_count": null,
   "metadata": {},
   "outputs": [],
   "source": [
    "# All of the metadata required to create an image of the same dimensions, datatype, format, etc. is stored in\n",
    "# the dataset's profile:\n",
    "\n",
    "satdat.profile"
   ]
  },
  {
   "cell_type": "markdown",
   "metadata": {},
   "source": [
    "## Composing a scene"
   ]
  },
  {
   "cell_type": "code",
   "execution_count": null,
   "metadata": {
    "scrolled": true
   },
   "outputs": [],
   "source": [
    "# Again, let's examine band count and indexes to ensure we have a 3-band visual image\n",
    "print(satdat.count)\n",
    "print(satdat.indexes)"
   ]
  },
  {
   "cell_type": "markdown",
   "metadata": {},
   "source": [
    "Because we know we're look at a PlanetScope 3-band visual satellite image here, we can define the bands by their order:"
   ]
  },
  {
   "cell_type": "code",
   "execution_count": null,
   "metadata": {},
   "outputs": [],
   "source": [
    "# PlanetScope 3-band band order: BGR\n",
    "\n",
    "blue, green, red = satdat.read()"
   ]
  },
  {
   "cell_type": "code",
   "execution_count": null,
   "metadata": {},
   "outputs": [],
   "source": [
    "# To construct a visual image, we will need the red, green, and blue bands\n",
    "\n",
    "visual_image = np.dstack((red, green, blue))"
   ]
  },
  {
   "cell_type": "markdown",
   "metadata": {},
   "source": [
    "## Visualizing an Image"
   ]
  },
  {
   "cell_type": "code",
   "execution_count": null,
   "metadata": {},
   "outputs": [],
   "source": [
    "plt.figure(0)\n",
    "plt.imshow(visual_image)\n",
    "plt.title(\"Visual Image\")"
   ]
  },
  {
   "cell_type": "markdown",
   "metadata": {},
   "source": [
    "Congratulations!! Here we see an image of Houston during floods caused by Hurricane Harvey in August of 2017."
   ]
  }
 ],
 "metadata": {
  "kernelspec": {
   "display_name": "Python 3",
   "language": "python",
   "name": "python3"
  },
  "language_info": {
   "codemirror_mode": {
    "name": "ipython",
    "version": 3
   },
   "file_extension": ".py",
   "mimetype": "text/x-python",
   "name": "python",
   "nbconvert_exporter": "python",
   "pygments_lexer": "ipython3",
   "version": "3.8.10"
  }
 },
 "nbformat": 4,
 "nbformat_minor": 2
}
