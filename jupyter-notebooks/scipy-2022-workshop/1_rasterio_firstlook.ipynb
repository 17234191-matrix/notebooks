{
 "cells": [
  {
   "cell_type": "markdown",
   "metadata": {},
   "source": [
    "# Reading satellite data with rasterio"
   ]
  },
  {
   "cell_type": "markdown",
   "metadata": {},
   "source": [
    "[![Open in Colab](https://colab.research.google.com/assets/colab-badge.svg)](https://colab.research.google.com/github/planetlabs/notebooks/blob/scipy-2022/jupyter-notebooks/scipy-2022-workshop/1_rasterio_firstlook.ipynb)"
   ]
  },
  {
   "cell_type": "markdown",
   "metadata": {},
   "source": [
    "For these examples, we will be using an image of Houston flooded during Hurrican Harvey in August of 2017. \n",
    "\n",
    "Did You Know: This imagery was released during the immediate days following the hurricane, and first responders on the ground used it to help plan & facilitate rescuing people stuck in flooded neighborhoods."
   ]
  },
  {
   "cell_type": "markdown",
   "metadata": {},
   "source": [
    "You can download the image here: https://storage.googleapis.com/pdd-stac/disasters/hurricane-harvey/0831/20170831_172754_101c_3B_AnalyticMS.tif"
   ]
  },
  {
   "cell_type": "markdown",
   "metadata": {},
   "source": [
    "# Preparing Your Workspace"
   ]
  },
  {
   "cell_type": "markdown",
   "metadata": {},
   "source": [
    "## Option 1: (recommended) Run in Google Colab"
   ]
  },
  {
   "cell_type": "markdown",
   "metadata": {},
   "source": [
    "[Open this Notebook in Colab](https://colab.research.google.com/github/planetlabs/notebooks/blob/scipy-2022/jupyter-notebooks/scipy-2022-workshop/1_rasterio_firstlook.ipynb), then run the following:"
   ]
  },
  {
   "cell_type": "code",
   "execution_count": 1,
   "metadata": {},
   "outputs": [
    {
     "name": "stdout",
     "output_type": "stream",
     "text": [
      "\u001b[33mWARNING: Ignoring invalid distribution -nidecode (/opt/anaconda3/lib/python3.8/site-packages)\u001b[0m\n",
      "\u001b[33mWARNING: Ignoring invalid distribution -nidecode (/opt/anaconda3/lib/python3.8/site-packages)\u001b[0m\n",
      "Requirement already satisfied: rasterio in /opt/anaconda3/lib/python3.8/site-packages (1.2.10)\n",
      "Requirement already satisfied: snuggs>=1.4.1 in /opt/anaconda3/lib/python3.8/site-packages (from rasterio) (1.4.7)\n",
      "Requirement already satisfied: setuptools in /opt/anaconda3/lib/python3.8/site-packages (from rasterio) (58.0.4)\n",
      "Requirement already satisfied: numpy in /opt/anaconda3/lib/python3.8/site-packages (from rasterio) (1.21.2)\n",
      "Requirement already satisfied: affine in /opt/anaconda3/lib/python3.8/site-packages (from rasterio) (2.3.0)\n",
      "Requirement already satisfied: attrs in /opt/anaconda3/lib/python3.8/site-packages (from rasterio) (21.4.0)\n",
      "Requirement already satisfied: certifi in /opt/anaconda3/lib/python3.8/site-packages (from rasterio) (2021.10.8)\n",
      "Requirement already satisfied: click-plugins in /opt/anaconda3/lib/python3.8/site-packages (from rasterio) (1.1.1)\n",
      "Requirement already satisfied: cligj>=0.5 in /opt/anaconda3/lib/python3.8/site-packages (from rasterio) (0.7.2)\n",
      "Requirement already satisfied: click>=4.0 in /opt/anaconda3/lib/python3.8/site-packages (from rasterio) (8.0.4)\n",
      "Requirement already satisfied: pyparsing>=2.1.6 in /opt/anaconda3/lib/python3.8/site-packages (from snuggs>=1.4.1->rasterio) (3.0.4)\n",
      "\u001b[33mWARNING: Ignoring invalid distribution -nidecode (/opt/anaconda3/lib/python3.8/site-packages)\u001b[0m\n",
      "\u001b[33mWARNING: Ignoring invalid distribution -nidecode (/opt/anaconda3/lib/python3.8/site-packages)\u001b[0m\n",
      "\u001b[33mWARNING: Ignoring invalid distribution -nidecode (/opt/anaconda3/lib/python3.8/site-packages)\u001b[0m\n",
      "\u001b[33mWARNING: Ignoring invalid distribution -nidecode (/opt/anaconda3/lib/python3.8/site-packages)\u001b[0m\n",
      "zsh:1: command not found: wget\n",
      "zsh:1: command not found: wget\n"
     ]
    }
   ],
   "source": [
    "!pip install rasterio\n",
    "!wget https://storage.googleapis.com/pdd-stac/disasters/hurricane-harvey/0831/20170831_172754_101c_3B_AnalyticMS.tif\n",
    "!wget https://storage.googleapis.com/pdd-stac/disasters/hurricane-harvey/0831/20170831_172754_101c_3b_Visual.tif"
   ]
  },
  {
   "cell_type": "markdown",
   "metadata": {},
   "source": [
    "## Option 2: Run local Jupyter instance"
   ]
  },
  {
   "cell_type": "markdown",
   "metadata": {},
   "source": [
    "You can also choose to open this Notebook in your own local Jupyter instance."
   ]
  },
  {
   "cell_type": "markdown",
   "metadata": {},
   "source": [
    "**Prerequisites**\n",
    "- Install: [rasterio](https://pypi.org/project/rasterio) library\n",
    "- Download example data: [20170831_172754_101c_3B_AnalyticMS.tif](https://storage.googleapis.com/pdd-stac/disasters/hurricane-harvey/0831/20170831_172754_101c_3B_AnalyticMS.tif) & [20170831_172754_101c_3b_Visual.tif](https://storage.googleapis.com/pdd-stac/disasters/hurricane-harvey/0831/20170831_172754_101c_3b_Visual.tif)\n",
    "- Download tutorial data: [Tutorial Data](http://go.planet.com/scipy2022repo)"
   ]
  },
  {
   "cell_type": "markdown",
   "metadata": {},
   "source": [
    "## Loading a dataset"
   ]
  },
  {
   "cell_type": "code",
   "execution_count": null,
   "metadata": {},
   "outputs": [],
   "source": [
    "# Let's import Rasterio\n",
    "import rasterio"
   ]
  },
  {
   "cell_type": "code",
   "execution_count": null,
   "metadata": {},
   "outputs": [],
   "source": [
    "# This notebook explores a single 4 band (blue, green, red, NIR) PlanetScope scene in a UTM projection.\n",
    "image_file = \"FILEPATH_HERE\""
   ]
  },
  {
   "cell_type": "code",
   "execution_count": null,
   "metadata": {},
   "outputs": [],
   "source": [
    "satdat = rasterio.open(image_file)\n",
    "\n",
    "# satdat is our open dataset object\n",
    "print(satdat)"
   ]
  },
  {
   "cell_type": "code",
   "execution_count": null,
   "metadata": {},
   "outputs": [],
   "source": [
    "# let's look at some basic information about this geoTIFF:\n",
    "\n",
    "# dataset name\n",
    "print(satdat.name)\n",
    "\n",
    "# number of bands in this dataset\n",
    "print(satdat.count)"
   ]
  },
  {
   "cell_type": "markdown",
   "metadata": {},
   "source": [
    "## Parsing bands"
   ]
  },
  {
   "cell_type": "code",
   "execution_count": null,
   "metadata": {},
   "outputs": [],
   "source": [
    "# The dataset reports a band count.\n",
    "print(satdat.count)\n",
    "\n",
    "# And provides a sequence of band indexes.  These are one indexing, not zero indexing like Numpy arrays.\n",
    "print(satdat.indexes)"
   ]
  },
  {
   "cell_type": "markdown",
   "metadata": {},
   "source": [
    "Because we know we're look at a PlanetScope 4-band analytic satellite image, we can define the bands by their order:"
   ]
  },
  {
   "cell_type": "code",
   "execution_count": null,
   "metadata": {},
   "outputs": [],
   "source": [
    "# PlanetScope 4-band band order: BGRN\n",
    "\n",
    "blue, green, red, nir = satdat.read()\n",
    "\n",
    "# Or the slightly less efficient:\n",
    "#    blue = satdat.read(1)\n",
    "#    green = satdat.read(2)\n",
    "#    red = satdat.read(3)\n",
    "#    nir = satdat.read(4)\n",
    "\n",
    "# Or read the entire dataset into a single 3D array:\n",
    "#    data = satdat.read()"
   ]
  },
  {
   "cell_type": "code",
   "execution_count": null,
   "metadata": {},
   "outputs": [],
   "source": [
    "# each band is stored as a numpy array, and its values are a numpy data type\n",
    "print(blue.dtype)"
   ]
  },
  {
   "cell_type": "code",
   "execution_count": null,
   "metadata": {},
   "outputs": [],
   "source": [
    "# using the blue band as an example, examine the width & height of the image (in pixels)\n",
    "\n",
    "w = blue.shape[0]\n",
    "h = blue.shape[1]\n",
    "\n",
    "print(\"width: {w}, height: {h}\".format(w=w, h=h))"
   ]
  }
 ],
 "metadata": {
  "kernelspec": {
   "display_name": "Python 3",
   "language": "python",
   "name": "python3"
  },
  "language_info": {
   "codemirror_mode": {
    "name": "ipython",
    "version": 3
   },
   "file_extension": ".py",
   "mimetype": "text/x-python",
   "name": "python",
   "nbconvert_exporter": "python",
   "pygments_lexer": "ipython3",
   "version": "3.8.10"
  }
 },
 "nbformat": 4,
 "nbformat_minor": 2
}
