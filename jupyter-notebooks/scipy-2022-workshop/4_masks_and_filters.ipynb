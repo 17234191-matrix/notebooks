{
 "cells": [
  {
   "cell_type": "markdown",
   "metadata": {},
   "source": [
    "# Applying Masks & Filters"
   ]
  },
  {
   "cell_type": "markdown",
   "metadata": {},
   "source": [
    "[![Open in Colab](https://colab.research.google.com/assets/colab-badge.svg)](https://colab.research.google.com/github/planetlabs/notebooks/blob/scipy-2022/jupyter-notebooks/scipy-2022-workshop/4_masks_and_filters.ipynb)"
   ]
  },
  {
   "cell_type": "markdown",
   "metadata": {},
   "source": [
    "## Preparing Your Workspace"
   ]
  },
  {
   "cell_type": "markdown",
   "metadata": {},
   "source": [
    "### Option 1: (recommended) Run in Google Colab"
   ]
  },
  {
   "cell_type": "markdown",
   "metadata": {},
   "source": [
    "[Open this Notebook in Colab](https://colab.research.google.com/github/planetlabs/notebooks/blob/scipy-2022/jupyter-notebooks/scipy-2022-workshop/4_masks_and_filters.ipynb), then run the following:"
   ]
  },
  {
   "cell_type": "code",
   "execution_count": null,
   "metadata": {},
   "outputs": [],
   "source": [
    "!pip install rasterio\n",
    "!wget https://storage.googleapis.com/pdd-stac/disasters/hurricane-harvey/0831/20170831_172754_101c_3B_AnalyticMS.tif\n",
    "!wget https://storage.googleapis.com/pdd-stac/disasters/hurricane-harvey/0831/20170831_172754_101c_3b_Visual.tif"
   ]
  },
  {
   "cell_type": "markdown",
   "metadata": {},
   "source": [
    "### Option 2: Run local Jupyter instance"
   ]
  },
  {
   "cell_type": "markdown",
   "metadata": {},
   "source": [
    "You can also choose to open this Notebook in your own local Jupyter instance."
   ]
  },
  {
   "cell_type": "markdown",
   "metadata": {},
   "source": [
    "**Prerequisites**\n",
    "- Install: [rasterio](https://pypi.org/project/rasterio) library\n",
    "- Download example data: [20170831_172754_101c_3B_AnalyticMS.tif](https://storage.googleapis.com/pdd-stac/disasters/hurricane-harvey/0831/20170831_172754_101c_3B_AnalyticMS.tif) & [20170831_172754_101c_3b_Visual.tif](https://storage.googleapis.com/pdd-stac/disasters/hurricane-harvey/0831/20170831_172754_101c_3b_Visual.tif)\n",
    "- Download tutorial data: [Tutorial Data](http://go.planet.com/scipy2022repo)"
   ]
  },
  {
   "cell_type": "markdown",
   "metadata": {},
   "source": [
    "## NDWI Calculation"
   ]
  },
  {
   "cell_type": "code",
   "execution_count": null,
   "metadata": {},
   "outputs": [],
   "source": [
    "import rasterio\n",
    "import numpy as np\n",
    "import matplotlib.pyplot as plt\n",
    "import cv2"
   ]
  },
  {
   "cell_type": "code",
   "execution_count": null,
   "metadata": {},
   "outputs": [],
   "source": [
    "image_file = \"/content/20170831_172754_101c_3B_AnalyticMS.tif\"\n",
    "satdat = rasterio.open(image_file)"
   ]
  },
  {
   "cell_type": "code",
   "execution_count": null,
   "metadata": {},
   "outputs": [],
   "source": [
    "# Allow division by zero\n",
    "np.seterr(divide='ignore', invalid='ignore')"
   ]
  },
  {
   "cell_type": "code",
   "execution_count": null,
   "metadata": {},
   "outputs": [],
   "source": [
    "blue, green, red, nir = satdat.read()"
   ]
  },
  {
   "cell_type": "code",
   "execution_count": null,
   "metadata": {},
   "outputs": [],
   "source": [
    "# Calculate NDWI\n",
    "ndwi = (green.astype(float) - nir.astype(float)) / (green + nir)"
   ]
  },
  {
   "cell_type": "code",
   "execution_count": null,
   "metadata": {},
   "outputs": [],
   "source": [
    "water_mask = np.full(ndwi.shape, np.nan)\n",
    "land_mask = np.full(ndwi.shape, np.nan)\n",
    "\n",
    "water_mask[ndwi >= 0] = 1\n",
    "land_mask[ndwi < 0] = 1"
   ]
  },
  {
   "cell_type": "markdown",
   "metadata": {},
   "source": [
    "## Visualizing Masks"
   ]
  },
  {
   "cell_type": "markdown",
   "metadata": {},
   "source": [
    "Let's take a look at our water and land masks:"
   ]
  },
  {
   "cell_type": "code",
   "execution_count": null,
   "metadata": {
    "scrolled": true
   },
   "outputs": [],
   "source": [
    "# In the below image, purple areas are those identified as water\n",
    "\n",
    "plt.imshow(water_mask)\n",
    "plt.title(\"Houston water mask\")\n",
    "plt.colorbar()"
   ]
  },
  {
   "cell_type": "code",
   "execution_count": null,
   "metadata": {},
   "outputs": [],
   "source": [
    "# In the below image, purple areas are those identified as land\n",
    "\n",
    "plt.imshow(land_mask)\n",
    "plt.title(\"Houston land mask\")\n",
    "plt.colorbar()"
   ]
  },
  {
   "cell_type": "markdown",
   "metadata": {},
   "source": [
    "You might notice that in both images, there are still small portions of water within the land areas, and vice versa. What if we wanted to clean up this mask to get a more general area of where land and water areas are? We can do this by applying morphological filters to our masks."
   ]
  },
  {
   "cell_type": "markdown",
   "metadata": {},
   "source": [
    "## Apply Filters"
   ]
  },
  {
   "cell_type": "markdown",
   "metadata": {},
   "source": [
    "More info about morphological filters using OpenCV: https://docs.opencv.org/4.x/d9/d61/tutorial_py_morphological_ops.html"
   ]
  },
  {
   "cell_type": "code",
   "execution_count": null,
   "metadata": {},
   "outputs": [],
   "source": [
    "# kernel size for empty pixels within the mask\n",
    "closing_kernel_size = 35,"
    "# kernel size for filled pixels outside of mask",
    "opening_kernel_size = 15"
   ]
  },
  {
   "cell_type": "code",
   "execution_count": null,
   "metadata": {},
   "outputs": [],
   "source": [
    "# Apply closing filter (remove empty pixels within mask)\n",
    "closing_kernel_element = (closing_kernel_size, closing_kernel_size)\n",
    "closing_kernel = cv2.getStructuringElement(cv2.MORPH_RECT,closing_kernel_element)\n",
    "mask_closed = cv2.morphologyEx(np.nan_to_num(water_mask), cv2.MORPH_CLOSE, closing_kernel)\n",
    "\n",
    "# Apply opening filter (removing filled pixels outside of mask)\n",
    "opening_kernel_element = (opening_kernel_size, opening_kernel_size)\n",
    "opening_kernel = cv2.getStructuringElement(cv2.MORPH_RECT, opening_kernel_element)\n",
    "mask_closed_opened = cv2.morphologyEx(mask_closed, cv2.MORPH_OPEN, opening_kernel)\n",
    "\n",
    "# Ensure the clipped areas remain clipped\n",
    "mask_closed_opened[mask_closed_opened == 0] = np.nan\n",
    "\n",
    "water_mask_filtered = mask_closed_opened"
   ]
  },
  {
   "cell_type": "code",
   "execution_count": null,
   "metadata": {},
   "outputs": [],
   "source": [
    "plt.figure(3)\n",
    "plt.imshow(water_mask_filtered)\n",
    "plt.title(\"Houston filtered water mask\")"
   ]
  },
  {
   "cell_type": "markdown",
   "metadata": {},
   "source": [
    "Now we have a much better idea of the large areas affected by floods!"
   ]
  }
 ],
 "metadata": {
  "kernelspec": {
   "display_name": "Python 3 (ipykernel)",
   "language": "python",
   "name": "python3"
  },
  "language_info": {
   "codemirror_mode": {
    "name": "ipython",
    "version": 3
   },
   "file_extension": ".py",
   "mimetype": "text/x-python",
   "name": "python",
   "nbconvert_exporter": "python",
   "pygments_lexer": "ipython3",
   "version": "3.8.13"
  }
 },
 "nbformat": 4,
 "nbformat_minor": 2
}
