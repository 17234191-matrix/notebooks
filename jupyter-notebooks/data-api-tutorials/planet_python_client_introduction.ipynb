{
 "cells": [
  {
   "cell_type": "markdown",
   "metadata": {},
   "source": [
    "# Planet API Python Client\n"
   ]
  },
  {
   "cell_type": "markdown",
   "metadata": {},
   "source": [
    "This tutorial is an introduction to [Planet](https://www.planet.com)'s Data API using the official [Python client](https://github.com/planetlabs/planet-client-python), the `planet` module.\n",
    "\n",
    "## Requirements\n",
    "\n",
    "This tutorial assumes familiarity with the [Python](https://python.org) programming language throughout. Python modules used in this tutorial are:\n",
    "* [IPython](https://ipython.org/) and [Jupyter](https://jupyter.org/)\n",
    "* [planet](https://github.com/planetlabs/planet-client-python)\n",
    "* [geojsonio](https://pypi.python.org/pypi/geojsonio)\n",
    "\n",
    "You should also have an account on the Planet Platform and retrieve your API key from your [account page](https://www.planet.com/account/).\n",
    "\n",
    "## Useful links \n",
    "* [Documentation](https://planetlabs.github.io/planet-client-python/index.html)\n",
    "* [Planet Data API reference](https://www.planet.com/docs/reference/data-api/)"
   ]
  },
  {
   "cell_type": "markdown",
   "metadata": {},
   "source": [
    "This tutorial will cover the basic operations possible with the Python client, particularly those that interact with the Data API."
   ]
  },
  {
   "cell_type": "markdown",
   "metadata": {},
   "source": [
    "The basic workflow for interacting with the Data API is:\n",
    "1. search item types based on filters\n",
    "1. activate assets\n",
    "1. download assets"
   ]
  },
  {
   "cell_type": "markdown",
   "metadata": {},
   "source": [
    "## Set up\n",
    "\n",
    "In order to interact with the Planet API using the client, we need to import `planet.api`."
   ]
  },
  {
   "cell_type": "code",
   "execution_count": 58,
   "metadata": {},
   "outputs": [],
   "source": [
    "from planet import api"
   ]
  },
  {
   "cell_type": "markdown",
   "metadata": {},
   "source": [
    "We next need to create a `ClientV1` object registered with our API key. The API key will be automatically read from the `PL_API_KEY` environment variable if it exists. If not it can be provided when creating the `api` object."
   ]
  },
  {
   "cell_type": "code",
   "execution_count": 59,
   "metadata": {},
   "outputs": [],
   "source": [
    "client = api.ClientV1()\n",
    "# client = api.ClientV1(api_key=\"abcdef0123456789\") <-- not a real key\n",
    "\n",
    "# print client.auth.value"
   ]
  },
  {
   "cell_type": "markdown",
   "metadata": {},
   "source": [
    "`ClientV1` provides basic low-level access to Planet’s API. Only one `ClientV1` should be in existence for an application. The client is thread safe and takes care to avoid API throttling and also retries any throttled requests. Any exceptional HTTP responses are handled by translation to one of the `planet.api.exceptions` classes."
   ]
  },
  {
   "cell_type": "markdown",
   "metadata": {},
   "source": [
    "We will also create a small helper function to print out JSON with proper indentation."
   ]
  },
  {
   "cell_type": "code",
   "execution_count": 60,
   "metadata": {},
   "outputs": [],
   "source": [
    "import json\n",
    "\n",
    "def p(data):\n",
    "    print(json.dumps(data, indent=2))"
   ]
  },
  {
   "cell_type": "markdown",
   "metadata": {},
   "source": [
    "Let's also read in a GeoJSON geometry into a variable so we can use it during testing."
   ]
  },
  {
   "cell_type": "code",
   "execution_count": 61,
   "metadata": {},
   "outputs": [],
   "source": [
    "with open(\"data/san-francisco.json\") as f:\n",
    "    geom = json.loads(f.read())"
   ]
  },
  {
   "cell_type": "markdown",
   "metadata": {},
   "source": [
    "## Searching\n",
    "\n",
    "We can search for items that are interesting by using the `quick_search` member function. Searches, however, always require a proper request that includes a filter that selects the specific items to return as seach results.\n",
    "\n",
    "### Filters\n",
    "\n",
    "The Planet Python client also includes `planet.api.filters` to assist in the creation of search filters."
   ]
  },
  {
   "cell_type": "code",
   "execution_count": 62,
   "metadata": {},
   "outputs": [],
   "source": [
    "from planet.api import filters"
   ]
  },
  {
   "cell_type": "markdown",
   "metadata": {},
   "source": [
    "The possible filters include `and_filter`, `date_filter`, `range_filter` and so on, mirroring the options supported by the Planet API.\n"
   ]
  },
  {
   "cell_type": "code",
   "execution_count": 63,
   "metadata": {},
   "outputs": [],
   "source": [
    "from datetime import datetime\n",
    "start_date = datetime(year=2017, month=1, day=1)\n",
    "\n",
    "date_filter = filters.date_range('acquired', gte=start_date)\n",
    "cloud_filter = filters.range_filter('cloud_cover', lte=0.1)"
   ]
  },
  {
   "cell_type": "code",
   "execution_count": 64,
   "metadata": {},
   "outputs": [],
   "source": [
    "and_filter = filters.and_filter(date_filter, cloud_filter)"
   ]
  },
  {
   "cell_type": "code",
   "execution_count": 65,
   "metadata": {},
   "outputs": [
    {
     "name": "stdout",
     "output_type": "stream",
     "text": [
      "{\n",
      "  \"type\": \"AndFilter\",\n",
      "  \"config\": [\n",
      "    {\n",
      "      \"field_name\": \"acquired\",\n",
      "      \"type\": \"DateRangeFilter\",\n",
      "      \"config\": {\n",
      "        \"gte\": \"2017-01-01T00:00:00Z\"\n",
      "      }\n",
      "    },\n",
      "    {\n",
      "      \"field_name\": \"cloud_cover\",\n",
      "      \"type\": \"RangeFilter\",\n",
      "      \"config\": {\n",
      "        \"lte\": 0.1\n",
      "      }\n",
      "    }\n",
      "  ]\n",
      "}\n"
     ]
    }
   ],
   "source": [
    "p(and_filter)"
   ]
  },
  {
   "cell_type": "markdown",
   "metadata": {},
   "source": [
    "In addition to the filter, a properly-constructed request also contains the list of item types that we want to select."
   ]
  },
  {
   "cell_type": "code",
   "execution_count": 66,
   "metadata": {},
   "outputs": [],
   "source": [
    "item_types = [\"REOrthoTile\", \"PSOrthoTile\"]\n",
    "req = filters.build_search_request(and_filter, item_types)"
   ]
  },
  {
   "cell_type": "code",
   "execution_count": 67,
   "metadata": {},
   "outputs": [
    {
     "name": "stdout",
     "output_type": "stream",
     "text": [
      "{\n",
      "  \"item_types\": [\n",
      "    \"PSOrthoTile\",\n",
      "    \"REOrthoTile\"\n",
      "  ],\n",
      "  \"filter\": {\n",
      "    \"type\": \"AndFilter\",\n",
      "    \"config\": [\n",
      "      {\n",
      "        \"field_name\": \"acquired\",\n",
      "        \"type\": \"DateRangeFilter\",\n",
      "        \"config\": {\n",
      "          \"gte\": \"2017-01-01T00:00:00Z\"\n",
      "        }\n",
      "      },\n",
      "      {\n",
      "        \"field_name\": \"cloud_cover\",\n",
      "        \"type\": \"RangeFilter\",\n",
      "        \"config\": {\n",
      "          \"lte\": 0.1\n",
      "        }\n",
      "      }\n",
      "    ]\n",
      "  }\n",
      "}\n"
     ]
    }
   ],
   "source": [
    "p(req)"
   ]
  },
  {
   "cell_type": "code",
   "execution_count": 68,
   "metadata": {},
   "outputs": [],
   "source": [
    "res = client.quick_search(req)"
   ]
  },
  {
   "cell_type": "markdown",
   "metadata": {},
   "source": [
    "The results of `quick_search` can be handled in different ways, but most commonly the user will either iterating through the list of items (`items_iter`) or writing items to a GeoJSON file (`json_encode`).\n",
    "\n",
    "In either case, the number of items must be specified."
   ]
  },
  {
   "cell_type": "code",
   "execution_count": 69,
   "metadata": {},
   "outputs": [
    {
     "name": "stdout",
     "output_type": "stream",
     "text": [
      "5013040_4256214_2021-10-19_241d PSOrthoTile\n",
      "5013040_4255714_2021-10-19_241d PSOrthoTile\n",
      "5013040_4252405_2021-10-19_241d PSOrthoTile\n",
      "5013040_4259823_2021-10-19_241d PSOrthoTile\n"
     ]
    }
   ],
   "source": [
    "for item in res.items_iter(4):\n",
    "    print(item['id'], item['properties']['item_type'])"
   ]
  },
  {
   "cell_type": "markdown",
   "metadata": {},
   "source": [
    "If the number of items requested is more than 250, the client will automatically fetch more pages of results in order to get the exact number requested."
   ]
  },
  {
   "cell_type": "code",
   "execution_count": 70,
   "metadata": {},
   "outputs": [],
   "source": [
    "with open('output/results.json','w') as f:\n",
    "    res.json_encode(f,1000)"
   ]
  },
  {
   "cell_type": "markdown",
   "metadata": {},
   "source": [
    "This GeoJSON file can be opened and viewed in any compatible application."
   ]
  },
  {
   "cell_type": "markdown",
   "metadata": {
    "collapsed": true
   },
   "source": [
    "## Assets and downloads\n",
    "\n",
    "After a search returns results, the Python client can be used to check for assets and initiate downloads.\n",
    "\n",
    "The list of assets for an item can be retrieved with `get_assets` or `get_assets_by_id`."
   ]
  },
  {
   "cell_type": "code",
   "execution_count": 71,
   "metadata": {
    "scrolled": true
   },
   "outputs": [
    {
     "name": "stdout",
     "output_type": "stream",
     "text": [
      "5013040_4259823_2021-10-19_241d\n"
     ]
    }
   ],
   "source": [
    "print(item['id'])"
   ]
  },
  {
   "cell_type": "code",
   "execution_count": 72,
   "metadata": {},
   "outputs": [],
   "source": [
    "assets = client.get_assets(item).get()"
   ]
  },
  {
   "cell_type": "code",
   "execution_count": 73,
   "metadata": {},
   "outputs": [
    {
     "name": "stdout",
     "output_type": "stream",
     "text": [
      "analytic\n",
      "analytic_5b\n",
      "analytic_5b_xml\n",
      "analytic_dn\n",
      "analytic_dn_xml\n",
      "analytic_xml\n",
      "udm\n",
      "udm2\n",
      "visual\n",
      "visual_xml\n"
     ]
    }
   ],
   "source": [
    "for asset in sorted(assets.keys()):\n",
    "    print(asset)"
   ]
  },
  {
   "cell_type": "code",
   "execution_count": 74,
   "metadata": {},
   "outputs": [
    {
     "data": {
      "text/plain": [
       "202"
      ]
     },
     "execution_count": 74,
     "metadata": {},
     "output_type": "execute_result"
    }
   ],
   "source": [
    "activation = client.activate(assets['analytic'])\n",
    "activation.response.status_code"
   ]
  },
  {
   "cell_type": "markdown",
   "metadata": {},
   "source": [
    "A response of 202 means that the request has been accepted and the activation will begin shortly. A 204 code indicates that the asset is already active and no further action is needed. A 401 code means the user does not have permissions to download this file.\n",
    "\n",
    "Below, we are polling the API until the item is done activation. This may take awhile."
   ]
  },
  {
   "cell_type": "code",
   "execution_count": null,
   "metadata": {
    "scrolled": false
   },
   "outputs": [
    {
     "name": "stdout",
     "output_type": "stream",
     "text": [
      "...Still waiting for asset activation...\n",
      "...Still waiting for asset activation...\n",
      "...Still waiting for asset activation...\n",
      "...Still waiting for asset activation...\n",
      "...Still waiting for asset activation...\n",
      "...Still waiting for asset activation...\n",
      "...Still waiting for asset activation...\n",
      "...Still waiting for asset activation...\n",
      "...Still waiting for asset activation...\n",
      "...Still waiting for asset activation...\n",
      "...Still waiting for asset activation...\n",
      "...Still waiting for asset activation...\n",
      "...Still waiting for asset activation...\n",
      "...Still waiting for asset activation...\n",
      "...Still waiting for asset activation...\n",
      "...Still waiting for asset activation...\n",
      "...Still waiting for asset activation...\n",
      "...Still waiting for asset activation...\n",
      "...Still waiting for asset activation...\n",
      "...Still waiting for asset activation...\n",
      "...Still waiting for asset activation...\n",
      "...Still waiting for asset activation...\n",
      "...Still waiting for asset activation...\n",
      "...Still waiting for asset activation...\n",
      "...Still waiting for asset activation...\n",
      "...Still waiting for asset activation...\n",
      "...Still waiting for asset activation...\n",
      "...Still waiting for asset activation...\n",
      "...Still waiting for asset activation...\n",
      "...Still waiting for asset activation...\n",
      "...Still waiting for asset activation...\n",
      "...Still waiting for asset activation...\n",
      "...Still waiting for asset activation...\n",
      "...Still waiting for asset activation...\n",
      "...Still waiting for asset activation...\n",
      "...Still waiting for asset activation...\n",
      "...Still waiting for asset activation...\n",
      "...Still waiting for asset activation...\n",
      "...Still waiting for asset activation...\n",
      "...Still waiting for asset activation...\n",
      "...Still waiting for asset activation...\n",
      "...Still waiting for asset activation...\n",
      "...Still waiting for asset activation...\n",
      "...Still waiting for asset activation...\n",
      "...Still waiting for asset activation...\n",
      "...Still waiting for asset activation...\n",
      "...Still waiting for asset activation...\n",
      "...Still waiting for asset activation...\n",
      "...Still waiting for asset activation...\n",
      "...Still waiting for asset activation...\n",
      "...Still waiting for asset activation...\n",
      "...Still waiting for asset activation...\n",
      "...Still waiting for asset activation...\n",
      "...Still waiting for asset activation...\n",
      "...Still waiting for asset activation...\n",
      "...Still waiting for asset activation...\n",
      "...Still waiting for asset activation...\n",
      "...Still waiting for asset activation...\n",
      "...Still waiting for asset activation...\n",
      "...Still waiting for asset activation...\n",
      "...Still waiting for asset activation...\n",
      "...Still waiting for asset activation...\n",
      "...Still waiting for asset activation...\n",
      "...Still waiting for asset activation...\n",
      "...Still waiting for asset activation...\n",
      "...Still waiting for asset activation...\n",
      "...Still waiting for asset activation...\n",
      "...Still waiting for asset activation...\n",
      "...Still waiting for asset activation...\n",
      "...Still waiting for asset activation...\n",
      "...Still waiting for asset activation...\n",
      "...Still waiting for asset activation...\n",
      "...Still waiting for asset activation...\n",
      "...Still waiting for asset activation...\n",
      "...Still waiting for asset activation...\n",
      "...Still waiting for asset activation...\n",
      "...Still waiting for asset activation...\n",
      "...Still waiting for asset activation...\n",
      "...Still waiting for asset activation...\n",
      "...Still waiting for asset activation...\n",
      "...Still waiting for asset activation...\n",
      "...Still waiting for asset activation...\n",
      "...Still waiting for asset activation...\n",
      "...Still waiting for asset activation...\n",
      "...Still waiting for asset activation...\n",
      "...Still waiting for asset activation...\n",
      "...Still waiting for asset activation...\n",
      "...Still waiting for asset activation...\n",
      "...Still waiting for asset activation...\n",
      "...Still waiting for asset activation...\n",
      "...Still waiting for asset activation...\n",
      "...Still waiting for asset activation...\n",
      "...Still waiting for asset activation...\n",
      "...Still waiting for asset activation...\n",
      "...Still waiting for asset activation...\n",
      "...Still waiting for asset activation...\n",
      "...Still waiting for asset activation...\n",
      "...Still waiting for asset activation...\n",
      "...Still waiting for asset activation...\n",
      "...Still waiting for asset activation...\n",
      "...Still waiting for asset activation...\n",
      "...Still waiting for asset activation...\n",
      "...Still waiting for asset activation...\n",
      "...Still waiting for asset activation...\n",
      "...Still waiting for asset activation...\n",
      "...Still waiting for asset activation...\n"
     ]
    }
   ],
   "source": [
    "import time\n",
    "\n",
    "asset_activated = False\n",
    "\n",
    "while asset_activated == False:\n",
    "    \n",
    "    # Get asset and its activation status\n",
    "    assets = client.get_assets(item).get()\n",
    "    asset = assets.get('analytic')\n",
    "    asset_status = asset[\"status\"]\n",
    "    \n",
    "    # If asset is already active, we are done\n",
    "    if asset_status == 'active':\n",
    "        asset_activated = True\n",
    "        print(\"Asset is active and ready to download\")\n",
    "   \n",
    "    # Still activating. Wait and check again.\n",
    "    else:\n",
    "        print(\"...Still waiting for asset activation...\")\n",
    "        time.sleep(3)"
   ]
  },
  {
   "cell_type": "code",
   "execution_count": null,
   "metadata": {
    "scrolled": false
   },
   "outputs": [],
   "source": [
    "callback = api.write_to_file(directory='output/')\n",
    "body = client.download(assets['analytic_xml'], callback=callback)\n",
    "print(body)"
   ]
  },
  {
   "cell_type": "markdown",
   "metadata": {},
   "source": [
    "## Saved Searches\n",
    "\n",
    "The Python API client can also help in managing saved searches on the Planet Platform."
   ]
  },
  {
   "cell_type": "code",
   "execution_count": 38,
   "metadata": {},
   "outputs": [],
   "source": [
    "searches = client.get_searches()"
   ]
  },
  {
   "cell_type": "code",
   "execution_count": 39,
   "metadata": {},
   "outputs": [
    {
     "name": "stdout",
     "output_type": "stream",
     "text": [
      "6950887354d84e23889c3e308355fdcf Vancouver Island\n",
      "fe44f67590ae44d6a4e5e8030de85f90 Vancouver Island\n"
     ]
    }
   ],
   "source": [
    "for search in searches.items_iter(100):\n",
    "    print(search['id'], search['name'])"
   ]
  },
  {
   "cell_type": "code",
   "execution_count": 40,
   "metadata": {},
   "outputs": [],
   "source": [
    "item_types = [\"PSScene3Band\"]\n",
    "san_francisco_filter = filters.geom_filter(geom)\n",
    "req = filters.build_search_request(san_francisco_filter, item_types, name=\"San Francisco\")"
   ]
  },
  {
   "cell_type": "code",
   "execution_count": 41,
   "metadata": {},
   "outputs": [
    {
     "name": "stdout",
     "output_type": "stream",
     "text": [
      "{\n",
      "  \"item_types\": [\n",
      "    \"PSScene3Band\"\n",
      "  ],\n",
      "  \"filter\": {\n",
      "    \"field_name\": \"geometry\",\n",
      "    \"type\": \"GeometryFilter\",\n",
      "    \"config\": {\n",
      "      \"type\": \"Polygon\",\n",
      "      \"coordinates\": [\n",
      "        [\n",
      "          [\n",
      "            -122.47455596923828,\n",
      "            37.810326435534755\n",
      "          ],\n",
      "          [\n",
      "            -122.49172210693358,\n",
      "            37.795406713958236\n",
      "          ],\n",
      "          [\n",
      "            -122.52056121826172,\n",
      "            37.784282779035216\n",
      "          ],\n",
      "          [\n",
      "            -122.51953124999999,\n",
      "            37.6971326434885\n",
      "          ],\n",
      "          [\n",
      "            -122.38941192626953,\n",
      "            37.69441603823106\n",
      "          ],\n",
      "          [\n",
      "            -122.38872528076173,\n",
      "            37.705010235842614\n",
      "          ],\n",
      "          [\n",
      "            -122.36228942871092,\n",
      "            37.70935613533687\n",
      "          ],\n",
      "          [\n",
      "            -122.34992980957031,\n",
      "            37.727280276860036\n",
      "          ],\n",
      "          [\n",
      "            -122.37773895263672,\n",
      "            37.76230130281876\n",
      "          ],\n",
      "          [\n",
      "            -122.38494873046875,\n",
      "            37.794592824285104\n",
      "          ],\n",
      "          [\n",
      "            -122.40554809570311,\n",
      "            37.813310018173155\n",
      "          ],\n",
      "          [\n",
      "            -122.46150970458983,\n",
      "            37.805715207044685\n",
      "          ],\n",
      "          [\n",
      "            -122.47455596923828,\n",
      "            37.810326435534755\n",
      "          ]\n",
      "        ]\n",
      "      ]\n",
      "    }\n",
      "  },\n",
      "  \"name\": \"San Francisco\"\n",
      "}\n"
     ]
    }
   ],
   "source": [
    "p(req)"
   ]
  },
  {
   "cell_type": "code",
   "execution_count": 42,
   "metadata": {},
   "outputs": [],
   "source": [
    "res = client.create_search(req)"
   ]
  },
  {
   "cell_type": "code",
   "execution_count": 43,
   "metadata": {},
   "outputs": [
    {
     "name": "stdout",
     "output_type": "stream",
     "text": [
      "a7a648fca59245bca42d2466b289f34f San Francisco\n"
     ]
    }
   ],
   "source": [
    "search = res.get()\n",
    "print(search[\"id\"], search[\"name\"])"
   ]
  },
  {
   "cell_type": "code",
   "execution_count": 44,
   "metadata": {},
   "outputs": [],
   "source": [
    "res = client.saved_search(search[\"id\"])"
   ]
  },
  {
   "cell_type": "code",
   "execution_count": 45,
   "metadata": {},
   "outputs": [
    {
     "name": "stdout",
     "output_type": "stream",
     "text": [
      "20211017_180741_66_2463 5\n",
      "20211017_180739_36_2463 5\n",
      "20211017_183250_103b 2\n",
      "20211017_183249_103b 1.9\n",
      "20211015_185028_06_2416 3\n",
      "20211015_185025_58_2416 3\n",
      "20211015_180740_54_2206 5.1\n",
      "20211015_180738_33_2206 5.1\n",
      "20211015_183336_1005 1\n",
      "20211015_183334_1005 1\n",
      "20211015_183335_1005 1\n",
      "20211015_180900_61_2432 5.1\n",
      "20211014_180933_17_2223 5.1\n",
      "20211014_180930_96_2223 5.1\n",
      "20211014_180928_75_2223 5\n",
      "20211013_180324_31_2449 3\n",
      "20211013_180322_00_2449 3\n",
      "20211013_180319_70_2449 3\n",
      "20211012_185145_98_241c 2\n",
      "20211012_182955_1039 5.1\n"
     ]
    }
   ],
   "source": [
    "for item in res.items_iter(20):\n",
    "    print(item[\"id\"], item[\"properties\"][\"view_angle\"])"
   ]
  },
  {
   "cell_type": "markdown",
   "metadata": {},
   "source": [
    "# Statistics\n",
    "\n",
    "The Python API client can also help report statistical summaries of the amount of data in the Planet API."
   ]
  },
  {
   "cell_type": "code",
   "execution_count": 46,
   "metadata": {},
   "outputs": [],
   "source": [
    "item_types = [\"PSScene3Band\"]\n",
    "san_francisco_filter = filters.geom_filter(geom)\n",
    "req = filters.build_search_request(san_francisco_filter, item_types, interval=\"year\")"
   ]
  },
  {
   "cell_type": "code",
   "execution_count": 47,
   "metadata": {},
   "outputs": [],
   "source": [
    "stats = client.stats(req).get()"
   ]
  },
  {
   "cell_type": "code",
   "execution_count": 48,
   "metadata": {},
   "outputs": [
    {
     "name": "stdout",
     "output_type": "stream",
     "text": [
      "{\n",
      "  \"buckets\": [\n",
      "    {\n",
      "      \"count\": 3,\n",
      "      \"start_time\": \"2014-01-01T00:00:00.000000Z\"\n",
      "    },\n",
      "    {\n",
      "      \"count\": 60,\n",
      "      \"start_time\": \"2015-01-01T00:00:00.000000Z\"\n",
      "    },\n",
      "    {\n",
      "      \"count\": 200,\n",
      "      \"start_time\": \"2016-01-01T00:00:00.000000Z\"\n",
      "    },\n",
      "    {\n",
      "      \"count\": 1072,\n",
      "      \"start_time\": \"2017-01-01T00:00:00.000000Z\"\n",
      "    },\n",
      "    {\n",
      "      \"count\": 1637,\n",
      "      \"start_time\": \"2018-01-01T00:00:00.000000Z\"\n",
      "    },\n",
      "    {\n",
      "      \"count\": 1452,\n",
      "      \"start_time\": \"2019-01-01T00:00:00.000000Z\"\n",
      "    },\n",
      "    {\n",
      "      \"count\": 1434,\n",
      "      \"start_time\": \"2020-01-01T00:00:00.000000Z\"\n",
      "    },\n",
      "    {\n",
      "      \"count\": 1371,\n",
      "      \"start_time\": \"2021-01-01T00:00:00.000000Z\"\n",
      "    }\n",
      "  ],\n",
      "  \"interval\": \"year\",\n",
      "  \"utc_offset\": \"+0h\"\n",
      "}\n"
     ]
    }
   ],
   "source": [
    "p(stats)"
   ]
  },
  {
   "cell_type": "code",
   "execution_count": 49,
   "metadata": {},
   "outputs": [],
   "source": [
    "assets = client.get_assets(item)"
   ]
  },
  {
   "cell_type": "code",
   "execution_count": 50,
   "metadata": {},
   "outputs": [],
   "source": [
    "assets.last_modified()"
   ]
  },
  {
   "cell_type": "code",
   "execution_count": 51,
   "metadata": {},
   "outputs": [
    {
     "data": {
      "text/plain": [
       "{'analytic': {'_links': {'_self': 'https://api.planet.com/data/v1/assets/eyJpIjogIjIwMjExMDEyXzE4Mjk1NV8xMDM5IiwgImMiOiAiUFNTY2VuZTNCYW5kIiwgInQiOiAiYW5hbHl0aWMiLCAiY3QiOiAiaXRlbS10eXBlIn0',\n",
       "   'activate': 'https://api.planet.com/data/v1/assets/eyJpIjogIjIwMjExMDEyXzE4Mjk1NV8xMDM5IiwgImMiOiAiUFNTY2VuZTNCYW5kIiwgInQiOiAiYW5hbHl0aWMiLCAiY3QiOiAiaXRlbS10eXBlIn0/activate',\n",
       "   'type': 'https://api.planet.com/data/v1/asset-types/analytic'},\n",
       "  '_permissions': ['download'],\n",
       "  'md5_digest': None,\n",
       "  'status': 'inactive',\n",
       "  'type': 'analytic'},\n",
       " 'analytic_dn': {'_links': {'_self': 'https://api.planet.com/data/v1/assets/eyJpIjogIjIwMjExMDEyXzE4Mjk1NV8xMDM5IiwgImMiOiAiUFNTY2VuZTNCYW5kIiwgInQiOiAiYW5hbHl0aWNfZG4iLCAiY3QiOiAiaXRlbS10eXBlIn0',\n",
       "   'activate': 'https://api.planet.com/data/v1/assets/eyJpIjogIjIwMjExMDEyXzE4Mjk1NV8xMDM5IiwgImMiOiAiUFNTY2VuZTNCYW5kIiwgInQiOiAiYW5hbHl0aWNfZG4iLCAiY3QiOiAiaXRlbS10eXBlIn0/activate',\n",
       "   'type': 'https://api.planet.com/data/v1/asset-types/analytic_dn'},\n",
       "  '_permissions': ['download'],\n",
       "  'md5_digest': None,\n",
       "  'status': 'inactive',\n",
       "  'type': 'analytic_dn'},\n",
       " 'analytic_dn_xml': {'_links': {'_self': 'https://api.planet.com/data/v1/assets/eyJpIjogIjIwMjExMDEyXzE4Mjk1NV8xMDM5IiwgImMiOiAiUFNTY2VuZTNCYW5kIiwgInQiOiAiYW5hbHl0aWNfZG5feG1sIiwgImN0IjogIml0ZW0tdHlwZSJ9',\n",
       "   'activate': 'https://api.planet.com/data/v1/assets/eyJpIjogIjIwMjExMDEyXzE4Mjk1NV8xMDM5IiwgImMiOiAiUFNTY2VuZTNCYW5kIiwgInQiOiAiYW5hbHl0aWNfZG5feG1sIiwgImN0IjogIml0ZW0tdHlwZSJ9/activate',\n",
       "   'type': 'https://api.planet.com/data/v1/asset-types/analytic_dn_xml'},\n",
       "  '_permissions': ['download'],\n",
       "  'md5_digest': None,\n",
       "  'status': 'inactive',\n",
       "  'type': 'analytic_dn_xml'},\n",
       " 'analytic_xml': {'_links': {'_self': 'https://api.planet.com/data/v1/assets/eyJpIjogIjIwMjExMDEyXzE4Mjk1NV8xMDM5IiwgImMiOiAiUFNTY2VuZTNCYW5kIiwgInQiOiAiYW5hbHl0aWNfeG1sIiwgImN0IjogIml0ZW0tdHlwZSJ9',\n",
       "   'activate': 'https://api.planet.com/data/v1/assets/eyJpIjogIjIwMjExMDEyXzE4Mjk1NV8xMDM5IiwgImMiOiAiUFNTY2VuZTNCYW5kIiwgInQiOiAiYW5hbHl0aWNfeG1sIiwgImN0IjogIml0ZW0tdHlwZSJ9/activate',\n",
       "   'type': 'https://api.planet.com/data/v1/asset-types/analytic_xml'},\n",
       "  '_permissions': ['download'],\n",
       "  'md5_digest': None,\n",
       "  'status': 'inactive',\n",
       "  'type': 'analytic_xml'},\n",
       " 'basic_analytic': {'_links': {'_self': 'https://api.planet.com/data/v1/assets/eyJpIjogIjIwMjExMDEyXzE4Mjk1NV8xMDM5IiwgImMiOiAiUFNTY2VuZTNCYW5kIiwgInQiOiAiYmFzaWNfYW5hbHl0aWMiLCAiY3QiOiAiaXRlbS10eXBlIn0',\n",
       "   'activate': 'https://api.planet.com/data/v1/assets/eyJpIjogIjIwMjExMDEyXzE4Mjk1NV8xMDM5IiwgImMiOiAiUFNTY2VuZTNCYW5kIiwgInQiOiAiYmFzaWNfYW5hbHl0aWMiLCAiY3QiOiAiaXRlbS10eXBlIn0/activate',\n",
       "   'type': 'https://api.planet.com/data/v1/asset-types/basic_analytic'},\n",
       "  '_permissions': ['download'],\n",
       "  'md5_digest': None,\n",
       "  'status': 'inactive',\n",
       "  'type': 'basic_analytic'},\n",
       " 'basic_analytic_dn': {'_links': {'_self': 'https://api.planet.com/data/v1/assets/eyJpIjogIjIwMjExMDEyXzE4Mjk1NV8xMDM5IiwgImMiOiAiUFNTY2VuZTNCYW5kIiwgInQiOiAiYmFzaWNfYW5hbHl0aWNfZG4iLCAiY3QiOiAiaXRlbS10eXBlIn0',\n",
       "   'activate': 'https://api.planet.com/data/v1/assets/eyJpIjogIjIwMjExMDEyXzE4Mjk1NV8xMDM5IiwgImMiOiAiUFNTY2VuZTNCYW5kIiwgInQiOiAiYmFzaWNfYW5hbHl0aWNfZG4iLCAiY3QiOiAiaXRlbS10eXBlIn0/activate',\n",
       "   'type': 'https://api.planet.com/data/v1/asset-types/basic_analytic_dn'},\n",
       "  '_permissions': ['download'],\n",
       "  'md5_digest': None,\n",
       "  'status': 'inactive',\n",
       "  'type': 'basic_analytic_dn'},\n",
       " 'basic_analytic_dn_rpc': {'_links': {'_self': 'https://api.planet.com/data/v1/assets/eyJpIjogIjIwMjExMDEyXzE4Mjk1NV8xMDM5IiwgImMiOiAiUFNTY2VuZTNCYW5kIiwgInQiOiAiYmFzaWNfYW5hbHl0aWNfZG5fcnBjIiwgImN0IjogIml0ZW0tdHlwZSJ9',\n",
       "   'activate': 'https://api.planet.com/data/v1/assets/eyJpIjogIjIwMjExMDEyXzE4Mjk1NV8xMDM5IiwgImMiOiAiUFNTY2VuZTNCYW5kIiwgInQiOiAiYmFzaWNfYW5hbHl0aWNfZG5fcnBjIiwgImN0IjogIml0ZW0tdHlwZSJ9/activate',\n",
       "   'type': 'https://api.planet.com/data/v1/asset-types/basic_analytic_dn_rpc'},\n",
       "  '_permissions': ['download'],\n",
       "  'md5_digest': None,\n",
       "  'status': 'inactive',\n",
       "  'type': 'basic_analytic_dn_rpc'},\n",
       " 'basic_analytic_dn_xml': {'_links': {'_self': 'https://api.planet.com/data/v1/assets/eyJpIjogIjIwMjExMDEyXzE4Mjk1NV8xMDM5IiwgImMiOiAiUFNTY2VuZTNCYW5kIiwgInQiOiAiYmFzaWNfYW5hbHl0aWNfZG5feG1sIiwgImN0IjogIml0ZW0tdHlwZSJ9',\n",
       "   'activate': 'https://api.planet.com/data/v1/assets/eyJpIjogIjIwMjExMDEyXzE4Mjk1NV8xMDM5IiwgImMiOiAiUFNTY2VuZTNCYW5kIiwgInQiOiAiYmFzaWNfYW5hbHl0aWNfZG5feG1sIiwgImN0IjogIml0ZW0tdHlwZSJ9/activate',\n",
       "   'type': 'https://api.planet.com/data/v1/asset-types/basic_analytic_dn_xml'},\n",
       "  '_permissions': ['download'],\n",
       "  'md5_digest': None,\n",
       "  'status': 'inactive',\n",
       "  'type': 'basic_analytic_dn_xml'},\n",
       " 'basic_analytic_rpc': {'_links': {'_self': 'https://api.planet.com/data/v1/assets/eyJpIjogIjIwMjExMDEyXzE4Mjk1NV8xMDM5IiwgImMiOiAiUFNTY2VuZTNCYW5kIiwgInQiOiAiYmFzaWNfYW5hbHl0aWNfcnBjIiwgImN0IjogIml0ZW0tdHlwZSJ9',\n",
       "   'activate': 'https://api.planet.com/data/v1/assets/eyJpIjogIjIwMjExMDEyXzE4Mjk1NV8xMDM5IiwgImMiOiAiUFNTY2VuZTNCYW5kIiwgInQiOiAiYmFzaWNfYW5hbHl0aWNfcnBjIiwgImN0IjogIml0ZW0tdHlwZSJ9/activate',\n",
       "   'type': 'https://api.planet.com/data/v1/asset-types/basic_analytic_rpc'},\n",
       "  '_permissions': ['download'],\n",
       "  'md5_digest': None,\n",
       "  'status': 'inactive',\n",
       "  'type': 'basic_analytic_rpc'},\n",
       " 'basic_analytic_xml': {'_links': {'_self': 'https://api.planet.com/data/v1/assets/eyJpIjogIjIwMjExMDEyXzE4Mjk1NV8xMDM5IiwgImMiOiAiUFNTY2VuZTNCYW5kIiwgInQiOiAiYmFzaWNfYW5hbHl0aWNfeG1sIiwgImN0IjogIml0ZW0tdHlwZSJ9',\n",
       "   'activate': 'https://api.planet.com/data/v1/assets/eyJpIjogIjIwMjExMDEyXzE4Mjk1NV8xMDM5IiwgImMiOiAiUFNTY2VuZTNCYW5kIiwgInQiOiAiYmFzaWNfYW5hbHl0aWNfeG1sIiwgImN0IjogIml0ZW0tdHlwZSJ9/activate',\n",
       "   'type': 'https://api.planet.com/data/v1/asset-types/basic_analytic_xml'},\n",
       "  '_permissions': ['download'],\n",
       "  'md5_digest': None,\n",
       "  'status': 'inactive',\n",
       "  'type': 'basic_analytic_xml'},\n",
       " 'basic_udm': {'_links': {'_self': 'https://api.planet.com/data/v1/assets/eyJpIjogIjIwMjExMDEyXzE4Mjk1NV8xMDM5IiwgImMiOiAiUFNTY2VuZTNCYW5kIiwgInQiOiAiYmFzaWNfdWRtIiwgImN0IjogIml0ZW0tdHlwZSJ9',\n",
       "   'activate': 'https://api.planet.com/data/v1/assets/eyJpIjogIjIwMjExMDEyXzE4Mjk1NV8xMDM5IiwgImMiOiAiUFNTY2VuZTNCYW5kIiwgInQiOiAiYmFzaWNfdWRtIiwgImN0IjogIml0ZW0tdHlwZSJ9/activate',\n",
       "   'type': 'https://api.planet.com/data/v1/asset-types/basic_udm'},\n",
       "  '_permissions': ['download'],\n",
       "  'md5_digest': None,\n",
       "  'status': 'inactive',\n",
       "  'type': 'basic_udm'},\n",
       " 'udm': {'_links': {'_self': 'https://api.planet.com/data/v1/assets/eyJpIjogIjIwMjExMDEyXzE4Mjk1NV8xMDM5IiwgImMiOiAiUFNTY2VuZTNCYW5kIiwgInQiOiAidWRtIiwgImN0IjogIml0ZW0tdHlwZSJ9',\n",
       "   'activate': 'https://api.planet.com/data/v1/assets/eyJpIjogIjIwMjExMDEyXzE4Mjk1NV8xMDM5IiwgImMiOiAiUFNTY2VuZTNCYW5kIiwgInQiOiAidWRtIiwgImN0IjogIml0ZW0tdHlwZSJ9/activate',\n",
       "   'type': 'https://api.planet.com/data/v1/asset-types/udm'},\n",
       "  '_permissions': ['download'],\n",
       "  'md5_digest': None,\n",
       "  'status': 'inactive',\n",
       "  'type': 'udm'},\n",
       " 'visual': {'_links': {'_self': 'https://api.planet.com/data/v1/assets/eyJpIjogIjIwMjExMDEyXzE4Mjk1NV8xMDM5IiwgImMiOiAiUFNTY2VuZTNCYW5kIiwgInQiOiAidmlzdWFsIiwgImN0IjogIml0ZW0tdHlwZSJ9',\n",
       "   'activate': 'https://api.planet.com/data/v1/assets/eyJpIjogIjIwMjExMDEyXzE4Mjk1NV8xMDM5IiwgImMiOiAiUFNTY2VuZTNCYW5kIiwgInQiOiAidmlzdWFsIiwgImN0IjogIml0ZW0tdHlwZSJ9/activate',\n",
       "   'type': 'https://api.planet.com/data/v1/asset-types/visual'},\n",
       "  '_permissions': ['download'],\n",
       "  'md5_digest': None,\n",
       "  'status': 'inactive',\n",
       "  'type': 'visual'},\n",
       " 'visual_xml': {'_links': {'_self': 'https://api.planet.com/data/v1/assets/eyJpIjogIjIwMjExMDEyXzE4Mjk1NV8xMDM5IiwgImMiOiAiUFNTY2VuZTNCYW5kIiwgInQiOiAidmlzdWFsX3htbCIsICJjdCI6ICJpdGVtLXR5cGUifQ',\n",
       "   'activate': 'https://api.planet.com/data/v1/assets/eyJpIjogIjIwMjExMDEyXzE4Mjk1NV8xMDM5IiwgImMiOiAiUFNTY2VuZTNCYW5kIiwgInQiOiAidmlzdWFsX3htbCIsICJjdCI6ICJpdGVtLXR5cGUifQ/activate',\n",
       "   'type': 'https://api.planet.com/data/v1/asset-types/visual_xml'},\n",
       "  '_permissions': ['download'],\n",
       "  'md5_digest': None,\n",
       "  'status': 'inactive',\n",
       "  'type': 'visual_xml'}}"
      ]
     },
     "execution_count": 51,
     "metadata": {},
     "output_type": "execute_result"
    }
   ],
   "source": [
    "assets.get()"
   ]
  },
  {
   "cell_type": "code",
   "execution_count": null,
   "metadata": {},
   "outputs": [],
   "source": []
  }
 ],
 "metadata": {
  "kernelspec": {
   "display_name": "Python 3",
   "language": "python",
   "name": "python3"
  },
  "language_info": {
   "codemirror_mode": {
    "name": "ipython",
    "version": 3
   },
   "file_extension": ".py",
   "mimetype": "text/x-python",
   "name": "python",
   "nbconvert_exporter": "python",
   "pygments_lexer": "ipython3",
   "version": "3.7.8"
  }
 },
 "nbformat": 4,
 "nbformat_minor": 1
}
