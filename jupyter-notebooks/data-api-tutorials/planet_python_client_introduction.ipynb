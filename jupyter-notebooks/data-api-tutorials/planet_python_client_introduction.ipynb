{
 "cells": [
  {
   "cell_type": "markdown",
   "metadata": {},
   "source": [
    "# Planet API Python Client\n"
   ]
  },
  {
   "cell_type": "markdown",
   "metadata": {},
   "source": [
    "This tutorial is an introduction to [Planet](https://www.planet.com)'s Data API using the official [Python client](https://github.com/planetlabs/planet-client-python), the `planet` module.\n",
    "\n",
    "## Requirements\n",
    "\n",
    "This tutorial assumes familiarity with the [Python](https://python.org) programming language throughout. Python modules used in this tutorial are:\n",
    "* [IPython](https://ipython.org/) and [Jupyter](https://jupyter.org/)\n",
    "* [planet](https://github.com/planetlabs/planet-client-python)\n",
    "* [geojsonio](https://pypi.python.org/pypi/geojsonio)\n",
    "\n",
    "You should also have an account on the Planet Platform and retrieve your API key from your [account page](https://www.planet.com/account/).\n",
    "\n",
    "## Useful links \n",
    "* [Planet Client V2 Documentation](https://github.com/planetlabs/planet-client-python)\n",
    "* [Planet Data API reference](https://developers.planet.com/docs/apis/data/)"
   ]
  },
  {
   "cell_type": "markdown",
   "metadata": {},
   "source": [
    "This tutorial will cover the basic operations possible with the Python client, particularly those that interact with the Data API."
   ]
  },
  {
   "cell_type": "markdown",
   "metadata": {},
   "source": [
    "The basic workflow for interacting with the Data API is:\n",
    "1. search item types based on filters\n",
    "1. activate assets\n",
    "1. download assets"
   ]
  },
  {
   "cell_type": "markdown",
   "metadata": {},
   "source": [
    "## Set up\n",
    "\n",
    "In order to interact with the Planet API using the client, we need to import the necessary packages & define helper functions."
   ]
  },
  {
   "cell_type": "code",
   "execution_count": 1,
   "metadata": {},
   "outputs": [],
   "source": [
    "from datetime import datetime\n",
    "from planet import Auth\n",
    "from planet import Session, data_filter\n",
    "import json\n",
    "import time\n",
    "import os\n",
    "\n",
    "# We will also create a small helper function to print out JSON with proper indentation.\n",
    "def indent(data):\n",
    "    print(json.dumps(data, indent=2))"
   ]
  },
  {
   "cell_type": "markdown",
   "metadata": {},
   "source": [
    "We next need to create a `client` object registered with our API key. The API key will be automatically read from the `PL_API_KEY` environment variable if it exists. If not, you can provide it below. "
   ]
  },
  {
   "cell_type": "code",
   "execution_count": 2,
   "metadata": {},
   "outputs": [],
   "source": [
    "# if your Planet API Key is not set as an environment variable, you can paste it below\n",
    "if 'PL_API_KEY' in os.environ:\n",
    "    API_KEY = os.environ['PL_API_KEY']\n",
    "else:\n",
    "    API_KEY = 'PASTE_API_KEY_HERE'\n",
    "    os.environ['PL_API_KEY'] = API_KEY\n",
    "\n",
    "client = Auth.from_key(API_KEY)"
   ]
  },
  {
   "cell_type": "markdown",
   "metadata": {},
   "source": [
    "Let's also read in a GeoJSON geometry into a variable so we can use it during testing."
   ]
  },
  {
   "cell_type": "code",
   "execution_count": 3,
   "metadata": {},
   "outputs": [],
   "source": [
    "with open(\"data/san-francisco.json\") as f:\n",
    "    geom = json.loads(f.read())"
   ]
  },
  {
   "cell_type": "markdown",
   "metadata": {},
   "source": [
    "## Searching\n",
    "\n",
    "We can search for items that are interesting by using the `quick_search` member function. Searches, however, always require a proper request that includes a filter that selects the specific items to return as seach results."
   ]
  },
  {
   "cell_type": "markdown",
   "metadata": {},
   "source": [
    "### Filters"
   ]
  },
  {
   "cell_type": "markdown",
   "metadata": {},
   "source": [
    "The possible filters include `and_filter`, `date_range_filter`, `range_filter` and so on, mirroring the options supported by the Planet API.\n"
   ]
  },
  {
   "cell_type": "code",
   "execution_count": 4,
   "metadata": {},
   "outputs": [],
   "source": [
    "# Define the filters we'll use to find our data\n",
    "\n",
    "item_types = [\"REOrthoTile\", \"PSScene\"]\n",
    "\n",
    "geom_filter = data_filter.geometry_filter(geom)\n",
    "clear_percent_filter = data_filter.range_filter('clear_percent', 90)\n",
    "date_range_filter = data_filter.date_range_filter(\"acquired\", gt = datetime(month=1, day=1, year=2017))\n",
    "cloud_cover_filter = data_filter.range_filter('cloud_cover', None, 0.1)\n",
    "\n",
    "combined_filter = data_filter.and_filter([geom_filter, clear_percent_filter, date_range_filter, cloud_cover_filter])"
   ]
  },
  {
   "cell_type": "code",
   "execution_count": 5,
   "metadata": {
    "scrolled": true
   },
   "outputs": [
    {
     "data": {
      "text/plain": [
       "{'type': 'AndFilter',\n",
       " 'config': [{'type': 'GeometryFilter',\n",
       "   'field_name': 'geometry',\n",
       "   'config': {'type': 'Polygon',\n",
       "    'coordinates': [[[-122.47455596923828, 37.810326435534755],\n",
       "      [-122.49172210693358, 37.795406713958236],\n",
       "      [-122.52056121826172, 37.784282779035216],\n",
       "      [-122.51953124999999, 37.6971326434885],\n",
       "      [-122.38941192626953, 37.69441603823106],\n",
       "      [-122.38872528076173, 37.705010235842614],\n",
       "      [-122.36228942871092, 37.70935613533687],\n",
       "      [-122.34992980957031, 37.727280276860036],\n",
       "      [-122.37773895263672, 37.76230130281876],\n",
       "      [-122.38494873046875, 37.794592824285104],\n",
       "      [-122.40554809570311, 37.813310018173155],\n",
       "      [-122.46150970458983, 37.805715207044685],\n",
       "      [-122.47455596923828, 37.810326435534755]]]}},\n",
       "  {'type': 'RangeFilter', 'field_name': 'clear_percent', 'config': {'gt': 90}},\n",
       "  {'type': 'DateRangeFilter',\n",
       "   'field_name': 'acquired',\n",
       "   'config': {'gt': '2017-01-01T00:00:00Z'}},\n",
       "  {'type': 'RangeFilter', 'field_name': 'cloud_cover', 'config': {'lt': 0.1}}]}"
      ]
     },
     "execution_count": 5,
     "metadata": {},
     "output_type": "execute_result"
    }
   ],
   "source": [
    "combined_filter"
   ]
  },
  {
   "cell_type": "markdown",
   "metadata": {},
   "source": [
    "Now let's build the request:"
   ]
  },
  {
   "cell_type": "code",
   "execution_count": 6,
   "metadata": {},
   "outputs": [],
   "source": [
    "async with Session() as sess:\n",
    "    cl = sess.client('data')\n",
    "    request = await cl.create_search(name='planet_client_demo',search_filter=combined_filter, item_types=item_types)"
   ]
  },
  {
   "cell_type": "code",
   "execution_count": 7,
   "metadata": {},
   "outputs": [
    {
     "data": {
      "text/plain": [
       "{'__daily_email_enabled': False,\n",
       " '_links': {'_self': 'https://api.planet.com/data/v1/searches/0c8832ef98504fb8a37463f653aa8f9a',\n",
       "  'results': 'https://api.planet.com/data/v1/searches/0c8832ef98504fb8a37463f653aa8f9a/results'},\n",
       " 'created': '2023-03-31T14:46:44.252598Z',\n",
       " 'filter': {'config': [{'config': {'coordinates': [[[-122.47455596923828,\n",
       "        37.810326435534755],\n",
       "       [-122.49172210693358, 37.795406713958236],\n",
       "       [-122.52056121826172, 37.784282779035216],\n",
       "       [-122.51953124999999, 37.6971326434885],\n",
       "       [-122.38941192626953, 37.69441603823106],\n",
       "       [-122.38872528076173, 37.705010235842614],\n",
       "       [-122.36228942871092, 37.70935613533687],\n",
       "       [-122.34992980957031, 37.727280276860036],\n",
       "       [-122.37773895263672, 37.76230130281876],\n",
       "       [-122.38494873046875, 37.794592824285104],\n",
       "       [-122.40554809570311, 37.813310018173155],\n",
       "       [-122.46150970458983, 37.805715207044685],\n",
       "       [-122.47455596923828, 37.810326435534755]]],\n",
       "     'type': 'Polygon'},\n",
       "    'field_name': 'geometry',\n",
       "    'type': 'GeometryFilter'},\n",
       "   {'config': {'gt': 90.0},\n",
       "    'field_name': 'clear_percent',\n",
       "    'type': 'RangeFilter'},\n",
       "   {'config': {'gt': '2017-01-01T00:00:00Z'},\n",
       "    'field_name': 'acquired',\n",
       "    'type': 'DateRangeFilter'},\n",
       "   {'config': {'lt': 0.1},\n",
       "    'field_name': 'cloud_cover',\n",
       "    'type': 'RangeFilter'}],\n",
       "  'type': 'AndFilter'},\n",
       " 'id': '0c8832ef98504fb8a37463f653aa8f9a',\n",
       " 'item_types': ['REOrthoTile', 'PSScene'],\n",
       " 'last_executed': None,\n",
       " 'name': 'planet_client_demo',\n",
       " 'search_type': 'saved',\n",
       " 'updated': '2023-03-31T14:46:44.252598Z'}"
      ]
     },
     "execution_count": 7,
     "metadata": {},
     "output_type": "execute_result"
    }
   ],
   "source": [
    "request"
   ]
  },
  {
   "cell_type": "code",
   "execution_count": 9,
   "metadata": {},
   "outputs": [],
   "source": [
    "# Search the Data API\n",
    "\n",
    "# The limit paramter allows us to limit the number of results from our search that are returned.\n",
    "# The default limit is 100. Here, we're setting our result limit to 50.\n",
    "async with Session() as sess:\n",
    "    cl = sess.client('data')\n",
    "    items = cl.run_search(search_id=request['id'], limit=50)\n",
    "    item_list = [i async for i in items]"
   ]
  },
  {
   "cell_type": "markdown",
   "metadata": {},
   "source": [
    "Now, we can iterate through our search results."
   ]
  },
  {
   "cell_type": "code",
   "execution_count": 10,
   "metadata": {
    "scrolled": true
   },
   "outputs": [
    {
     "name": "stdout",
     "output_type": "stream",
     "text": [
      "20230327_182710_28_247f PSScene\n",
      "20230327_182707_89_247f PSScene\n",
      "20230327_184115_35_2479 PSScene\n",
      "20230327_184119_73_2479 PSScene\n",
      "20230327_184117_54_2479 PSScene\n",
      "20230327_180039_26_2447 PSScene\n",
      "20230327_180037_08_2447 PSScene\n",
      "20230326_180347_13_24d0 PSScene\n",
      "20230326_180344_75_24d0 PSScene\n",
      "20230326_180602_94_24c7 PSScene\n",
      "20230326_180600_59_24c7 PSScene\n",
      "20230325_183720_99_247a PSScene\n",
      "20230325_183723_19_247a PSScene\n",
      "20230325_175550_47_2460 PSScene\n",
      "20230325_175548_26_2460 PSScene\n",
      "20230324_182240_80_2251 PSScene\n",
      "20230324_182242_84_2251 PSScene\n",
      "20230317_183408_23_2486 PSScene\n",
      "20230315_175637_54_2447 PSScene\n",
      "20230315_175639_71_2447 PSScene\n",
      "20230315_183426_77_249a PSScene\n",
      "20220511_183556_26_249c PSScene\n",
      "20220524_180049_18_2442 PSScene\n",
      "20220611_183304_29_2474 PSScene\n",
      "20220622_183136_03_2470 PSScene\n",
      "20220622_183138_31_2470 PSScene\n",
      "20220625_183343_26_2474 PSScene\n",
      "20220624_183354_67_2484 PSScene\n",
      "20220624_183352_39_2484 PSScene\n",
      "20220713_182927_06_2470 PSScene\n",
      "20230120_180119_31_24cf PSScene\n",
      "20230121_180343_04_24b9 PSScene\n",
      "20230302_180143_41_24bb PSScene\n",
      "20230302_180140_99_24bb PSScene\n",
      "20230305_175957_62_2429 PSScene\n",
      "20230305_175955_44_2429 PSScene\n",
      "20230301_183356_11_2495 PSScene\n",
      "20230221_183432_70_2485 PSScene\n",
      "20230219_183202_26_249d PSScene\n",
      "20230218_180207_60_2421 PSScene\n",
      "20230218_184140_54_227c PSScene\n",
      "20230218_184624_09_2402 PSScene\n",
      "20230214_184341_59_241c PSScene\n",
      "20230214_183438_24_2481 PSScene\n",
      "20230214_183435_98_2481 PSScene\n",
      "20230209_183344_48_247f PSScene\n",
      "20230208_184843_21_2413 PSScene\n",
      "20230208_175515_99_2464 PSScene\n",
      "20230208_175513_78_2464 PSScene\n",
      "20230208_183351_49_249e PSScene\n"
     ]
    }
   ],
   "source": [
    "for item in item_list:\n",
    "    print(item['id'], item['properties']['item_type'])"
   ]
  },
  {
   "cell_type": "markdown",
   "metadata": {},
   "source": [
    "If the number of items requested is more than 250, the client will automatically fetch more pages of results in order to get the exact number requested."
   ]
  },
  {
   "cell_type": "code",
   "execution_count": 11,
   "metadata": {},
   "outputs": [],
   "source": [
    "with open('output/results.json','w') as f:\n",
    "    jsonStr = json.dumps(item_list)\n",
    "    f.write(jsonStr)\n",
    "    f.close()"
   ]
  },
  {
   "cell_type": "markdown",
   "metadata": {},
   "source": [
    "This GeoJSON file can be opened and viewed in any compatible application."
   ]
  },
  {
   "cell_type": "markdown",
   "metadata": {
    "collapsed": true
   },
   "source": [
    "## Assets and downloads\n",
    "\n",
    "After a search returns results, the Python client can be used to check for assets and initiate downloads. Let's start by looking at one item and the assets available to download for that item.\n",
    "\n",
    "For more information on Items and Assets, check out [Items & Assets](https://developers.planet.com/docs/apis/data/items-assets/) on the Planet Developer Center."
   ]
  },
  {
   "cell_type": "code",
   "execution_count": 12,
   "metadata": {},
   "outputs": [
    {
     "name": "stdout",
     "output_type": "stream",
     "text": [
      "20230327_182710_28_247f PSScene\n"
     ]
    }
   ],
   "source": [
    "# As an example, let's look at the first result in our item_list and grab the item_id and item_type:\n",
    "item = item_list[0]\n",
    "\n",
    "print(item['id'], item['properties']['item_type'])"
   ]
  },
  {
   "cell_type": "code",
   "execution_count": 13,
   "metadata": {},
   "outputs": [
    {
     "data": {
      "text/plain": [
       "['assets.basic_analytic_4b:download',\n",
       " 'assets.basic_analytic_4b_rpc:download',\n",
       " 'assets.basic_analytic_4b_xml:download',\n",
       " 'assets.basic_analytic_8b:download',\n",
       " 'assets.basic_analytic_8b_xml:download',\n",
       " 'assets.basic_udm2:download',\n",
       " 'assets.ortho_analytic_4b:download',\n",
       " 'assets.ortho_analytic_4b_sr:download',\n",
       " 'assets.ortho_analytic_4b_xml:download',\n",
       " 'assets.ortho_analytic_8b:download',\n",
       " 'assets.ortho_analytic_8b_sr:download',\n",
       " 'assets.ortho_analytic_8b_xml:download',\n",
       " 'assets.ortho_udm2:download',\n",
       " 'assets.ortho_visual:download',\n",
       " 'assets.ps3b_analytic:download',\n",
       " 'assets.ps3b_analytic_dn:download',\n",
       " 'assets.ps3b_analytic_dn_xml:download',\n",
       " 'assets.ps3b_analytic_xml:download',\n",
       " 'assets.ps3b_basic_analytic:download',\n",
       " 'assets.ps3b_basic_analytic_dn:download',\n",
       " 'assets.ps3b_basic_analytic_dn_rpc:download',\n",
       " 'assets.ps3b_basic_analytic_dn_xml:download',\n",
       " 'assets.ps3b_basic_analytic_rpc:download',\n",
       " 'assets.ps3b_basic_analytic_xml:download',\n",
       " 'assets.ps3b_basic_udm:download',\n",
       " 'assets.ps3b_udm:download',\n",
       " 'assets.ps3b_visual_xml:download',\n",
       " 'assets.ps4b_analytic:download',\n",
       " 'assets.ps4b_analytic_dn:download',\n",
       " 'assets.ps4b_analytic_dn_xml:download',\n",
       " 'assets.ps4b_analytic_sr:download',\n",
       " 'assets.ps4b_analytic_xml:download',\n",
       " 'assets.ps4b_basic_analytic:download',\n",
       " 'assets.ps4b_basic_analytic_dn:download',\n",
       " 'assets.ps4b_basic_analytic_dn_nitf:download',\n",
       " 'assets.ps4b_basic_analytic_dn_rpc:download',\n",
       " 'assets.ps4b_basic_analytic_dn_rpc_nitf:download',\n",
       " 'assets.ps4b_basic_analytic_dn_xml:download',\n",
       " 'assets.ps4b_basic_analytic_dn_xml_nitf:download',\n",
       " 'assets.ps4b_basic_analytic_nitf:download',\n",
       " 'assets.ps4b_basic_analytic_rpc:download',\n",
       " 'assets.ps4b_basic_analytic_rpc_nitf:download',\n",
       " 'assets.ps4b_basic_analytic_xml:download',\n",
       " 'assets.ps4b_basic_analytic_xml_nitf:download',\n",
       " 'assets.ps4b_basic_udm:download',\n",
       " 'assets.ps4b_udm:download']"
      ]
     },
     "execution_count": 13,
     "metadata": {},
     "output_type": "execute_result"
    }
   ],
   "source": [
    "# The list of assets for an item that a user has access to can be retrieved with `permissions`\n",
    "item['_permissions']"
   ]
  },
  {
   "cell_type": "code",
   "execution_count": 14,
   "metadata": {},
   "outputs": [],
   "source": [
    "# Define our item_id, and item_type\n",
    "\n",
    "item_id = item['id']\n",
    "item_type = item['properties']['item_type']"
   ]
  },
  {
   "cell_type": "markdown",
   "metadata": {},
   "source": [
    "There are a few steps involved in order to download an asset using the Planet Python Client:\n",
    "\n",
    "* **Get Asset:** Get a description of our asset based on the specifications we're looking for\n",
    "* **Activate Asset:** Activate the asset with the given description\n",
    "* **Wait Asset:** Wait for the asset to be activated\n",
    "* **Download Asset:** Now our asset is ready for download!\n",
    "\n",
    "Let's go through these steps below. We'll do this for our analytic asset, as well as the analytic_xml asset."
   ]
  },
  {
   "cell_type": "code",
   "execution_count": 16,
   "metadata": {},
   "outputs": [
    {
     "name": "stderr",
     "output_type": "stream",
     "text": [
      "output/20230327_182710_28_247f_3B_AnalyticMS.tif: 100%|█████| 601k/601k [00:45<00:00, 13.8MB/s]\n"
     ]
    }
   ],
   "source": [
    "# Analytic Asset\n",
    "async with Session() as sess:\n",
    "    cl = sess.client('data')\n",
    "    # Get Asset\n",
    "    asset_desc = await cl.get_asset(item_type_id=item_type,item_id=item_id, asset_type_id='ortho_analytic_4b')\n",
    "    # Activate Asset\n",
    "    await cl.activate_asset(asset=asset_desc)\n",
    "    # Wait Asset\n",
    "    await cl.wait_asset(asset=asset_desc)\n",
    "    # Download Asset\n",
    "    asset_path = await cl.download_asset(asset=asset_desc, directory='output', overwrite=True)"
   ]
  },
  {
   "cell_type": "code",
   "execution_count": 17,
   "metadata": {},
   "outputs": [
    {
     "name": "stderr",
     "output_type": "stream",
     "text": [
      "output/20230327_182710_28_247f_3B_AnalyticMS_metadata.xml: 100%|█| 0.01k/0.01k [00:00<00:00, 2.\n"
     ]
    }
   ],
   "source": [
    "# Analytic XML Asset\n",
    "async with Session() as sess:\n",
    "    cl = sess.client('data')\n",
    "    # Get Asset\n",
    "    asset_desc = await cl.get_asset(item_type_id=item_type,item_id=item_id, asset_type_id='ortho_analytic_4b_xml')\n",
    "    # Activate Asset\n",
    "    await cl.activate_asset(asset=asset_desc)\n",
    "    # Wait Asset (this may take some time!)\n",
    "    await cl.wait_asset(asset=asset_desc)\n",
    "    # Download Asset\n",
    "    asset_path = await cl.download_asset(asset=asset_desc, directory='output', overwrite=True)"
   ]
  },
  {
   "cell_type": "markdown",
   "metadata": {},
   "source": [
    "Congratulations! Both the `ortho_analytic_4b` and `ortho_analytic_4b_xml` assets should be saved in our `output` directory."
   ]
  },
  {
   "cell_type": "markdown",
   "metadata": {},
   "source": [
    "## Saved Searches\n",
    "\n",
    "The Data API client can also help in managing saved searches on the Planet Platform."
   ]
  },
  {
   "cell_type": "code",
   "execution_count": 19,
   "metadata": {},
   "outputs": [],
   "source": [
    "async with Session() as sess:\n",
    "    cl = sess.client('data')\n",
    "    searches = cl.list_searches()\n",
    "    searches_list = [i async for i in searches]"
   ]
  },
  {
   "cell_type": "code",
   "execution_count": 20,
   "metadata": {},
   "outputs": [
    {
     "data": {
      "text/plain": [
       "100"
      ]
     },
     "execution_count": 20,
     "metadata": {},
     "output_type": "execute_result"
    }
   ],
   "source": [
    "# We may have a lot of saved searches!\n",
    "\n",
    "len(searches_list)"
   ]
  },
  {
   "cell_type": "markdown",
   "metadata": {},
   "source": [
    "View your saved searches. Here we're viewing our first 50 results."
   ]
  },
  {
   "cell_type": "code",
   "execution_count": 21,
   "metadata": {
    "scrolled": true
   },
   "outputs": [
    {
     "name": "stdout",
     "output_type": "stream",
     "text": [
      "0c8832ef98504fb8a37463f653aa8f9a planet_client_demo\n",
      "e1bf9d24d195427284a7899d94e9d4d9 e1bf9d24d195427284a7899d94e9d4d9\n",
      "f5fddc1399f34aea8a72cfbe6d200ad9 f5fddc1399f34aea8a72cfbe6d200ad9\n",
      "bcf953420177451d82caacd6de7d7009 bcf953420177451d82caacd6de7d7009\n",
      "f39f83c804694a07a9f5f43b32893250 f39f83c804694a07a9f5f43b32893250\n",
      "11a602c144ab49a48b21d2c9ce82046c 11a602c144ab49a48b21d2c9ce82046c\n",
      "8c0688e66ff14ee0b475e5babe15b808 8c0688e66ff14ee0b475e5babe15b808\n",
      "dd73eb107fcd457cb6a8cd10e9338030 dd73eb107fcd457cb6a8cd10e9338030\n",
      "9507024fbbb94af09567e2059d4cd3c8 9507024fbbb94af09567e2059d4cd3c8\n",
      "630395709d974cbe85eb9feb1ee93f7d 630395709d974cbe85eb9feb1ee93f7d\n",
      "f43fa8595b8d4f5c866567887f72973c f43fa8595b8d4f5c866567887f72973c\n",
      "e8bcf17286c54e69b98e70f6143ecda9 e8bcf17286c54e69b98e70f6143ecda9\n",
      "7f8440f5cf8b4ed8b1757dc2295e963c 7f8440f5cf8b4ed8b1757dc2295e963c\n",
      "43c46cc0fe074483a0e07a625efd8101 43c46cc0fe074483a0e07a625efd8101\n",
      "144d242ed8734d8fa1e8f24230ad815c 144d242ed8734d8fa1e8f24230ad815c\n",
      "78bce0ad640f48fdb02fd9834e9cbcfb 78bce0ad640f48fdb02fd9834e9cbcfb\n",
      "cfb4827451c84e75859c935a37e402d7 cfb4827451c84e75859c935a37e402d7\n",
      "eaeb2503bbc743ad831895c7f2a83148 eaeb2503bbc743ad831895c7f2a83148\n",
      "f6d273bc50a64169a7b7287d374e6096 f6d273bc50a64169a7b7287d374e6096\n",
      "b762466a77a44ac5b9844b044e87ae67 b762466a77a44ac5b9844b044e87ae67\n",
      "946e725748f240389cbb46709dc331d4 946e725748f240389cbb46709dc331d4\n",
      "e8c98fae46c54f83be96c746d1f66a7f e8c98fae46c54f83be96c746d1f66a7f\n",
      "38c67096bbb0475c9a0108f885bb5236 38c67096bbb0475c9a0108f885bb5236\n",
      "9fee33d03c0c4c1f921d98d3a897cee8 9fee33d03c0c4c1f921d98d3a897cee8\n",
      "00164aaf21cc42749deb6ccca9648a8b 00164aaf21cc42749deb6ccca9648a8b\n",
      "f84f6c30a8ca4033bafacc7e4078381d f84f6c30a8ca4033bafacc7e4078381d\n",
      "5076f2c2abcb4d93a99f9a38ec82aca9 5076f2c2abcb4d93a99f9a38ec82aca9\n",
      "0f86ddd242534e59ae4205404298af80 0f86ddd242534e59ae4205404298af80\n",
      "439d0786855f4315876b2bda6fd76159 439d0786855f4315876b2bda6fd76159\n",
      "ac2f4b5f032d483f8399aeabcf5b31de ac2f4b5f032d483f8399aeabcf5b31de\n",
      "16eb1202b3ef45249c1ab90ac82b081f 16eb1202b3ef45249c1ab90ac82b081f\n",
      "9cfff1f2d4564f1fa59322e98f2ef695 9cfff1f2d4564f1fa59322e98f2ef695\n",
      "c2de147bc4504e70b441b84ca910e7dd c2de147bc4504e70b441b84ca910e7dd\n",
      "5f54337bdf234535897126b5b6c05238 5f54337bdf234535897126b5b6c05238\n",
      "4178f625fe184552af41503d4f3f88b0 4178f625fe184552af41503d4f3f88b0\n",
      "c377836cecb2414bb8f06509b46582b7 c377836cecb2414bb8f06509b46582b7\n",
      "3a8cac322e8e47b29bf9fb2b02480256 3a8cac322e8e47b29bf9fb2b02480256\n",
      "b6abfc3e3c2b4fa7aa27831298e67d81 b6abfc3e3c2b4fa7aa27831298e67d81\n",
      "a4c238d8db1a4443ba22a05cbdae6aa5 a4c238d8db1a4443ba22a05cbdae6aa5\n",
      "27cb9c44da524342af83028d577c16ff 27cb9c44da524342af83028d577c16ff\n",
      "73a0b9a0c91a4db9ab7e4ab08b9b1547 73a0b9a0c91a4db9ab7e4ab08b9b1547\n",
      "7b553bd38c044acebf36697efff029a3 7b553bd38c044acebf36697efff029a3\n",
      "d39594e955494da784e0b91206702f57 d39594e955494da784e0b91206702f57\n",
      "2efc29534f274954b71c30adf83dce1b 2efc29534f274954b71c30adf83dce1b\n",
      "6640916814744f4680d492b1e5d98328 6640916814744f4680d492b1e5d98328\n",
      "ab756a4169c94a00931a0a6732c59ef3 ab756a4169c94a00931a0a6732c59ef3\n",
      "bdc763d372e640fc89f2c97922475c5e bdc763d372e640fc89f2c97922475c5e\n",
      "6f24fe4f8e9e4c46b9a59e0c4f5f86c9 6f24fe4f8e9e4c46b9a59e0c4f5f86c9\n",
      "9b2b700d33314e6d8f4896a83faec232 9b2b700d33314e6d8f4896a83faec232\n",
      "68294f2013a14fb79a040e73e262a364 duke_forest_patch\n"
     ]
    }
   ],
   "source": [
    "for search in searches_list[:50]:\n",
    "    print(search['id'], search['name'])"
   ]
  },
  {
   "cell_type": "markdown",
   "metadata": {},
   "source": [
    "We can find the saved search we're looking for by filtering on our search id:"
   ]
  },
  {
   "cell_type": "code",
   "execution_count": 22,
   "metadata": {},
   "outputs": [],
   "source": [
    "async with Session() as sess:\n",
    "    cl = sess.client('data')\n",
    "    search = await cl.get_search(searches_list[0]['id'])"
   ]
  },
  {
   "cell_type": "code",
   "execution_count": 23,
   "metadata": {},
   "outputs": [
    {
     "data": {
      "text/plain": [
       "{'__daily_email_enabled': False,\n",
       " '_links': {'_self': 'https://api.planet.com/data/v1/searches/0c8832ef98504fb8a37463f653aa8f9a',\n",
       "  'results': 'https://api.planet.com/data/v1/searches/0c8832ef98504fb8a37463f653aa8f9a/results'},\n",
       " 'created': '2023-03-31T14:46:44.252598Z',\n",
       " 'filter': {'config': [{'config': {'coordinates': [[[-122.47455596923828,\n",
       "        37.810326435534755],\n",
       "       [-122.49172210693358, 37.795406713958236],\n",
       "       [-122.52056121826172, 37.784282779035216],\n",
       "       [-122.51953124999999, 37.6971326434885],\n",
       "       [-122.38941192626953, 37.69441603823106],\n",
       "       [-122.38872528076173, 37.705010235842614],\n",
       "       [-122.36228942871092, 37.70935613533687],\n",
       "       [-122.34992980957031, 37.727280276860036],\n",
       "       [-122.37773895263672, 37.76230130281876],\n",
       "       [-122.38494873046875, 37.794592824285104],\n",
       "       [-122.40554809570311, 37.813310018173155],\n",
       "       [-122.46150970458983, 37.805715207044685],\n",
       "       [-122.47455596923828, 37.810326435534755]]],\n",
       "     'type': 'Polygon'},\n",
       "    'field_name': 'geometry',\n",
       "    'type': 'GeometryFilter'},\n",
       "   {'config': {'gt': 90.0},\n",
       "    'field_name': 'clear_percent',\n",
       "    'type': 'RangeFilter'},\n",
       "   {'config': {'gt': '2017-01-01T00:00:00Z'},\n",
       "    'field_name': 'acquired',\n",
       "    'type': 'DateRangeFilter'},\n",
       "   {'config': {'lt': 0.1},\n",
       "    'field_name': 'cloud_cover',\n",
       "    'type': 'RangeFilter'}],\n",
       "  'type': 'AndFilter'},\n",
       " 'id': '0c8832ef98504fb8a37463f653aa8f9a',\n",
       " 'item_types': ['REOrthoTile', 'PSScene'],\n",
       " 'last_executed': '2023-03-31T14:47:05.087708Z',\n",
       " 'name': 'planet_client_demo',\n",
       " 'search_type': 'saved',\n",
       " 'updated': '2023-03-31T14:47:05.087947Z'}"
      ]
     },
     "execution_count": 23,
     "metadata": {},
     "output_type": "execute_result"
    }
   ],
   "source": [
    "search"
   ]
  },
  {
   "cell_type": "markdown",
   "metadata": {},
   "source": [
    "# Statistics\n",
    "\n",
    "The Data API client can also help report statistical summaries of the amount of data in the Planet API."
   ]
  },
  {
   "cell_type": "code",
   "execution_count": 24,
   "metadata": {},
   "outputs": [],
   "source": [
    "# Here, we can look at the stats for the search we've been working with:\n",
    "\n",
    "async with Session() as sess:\n",
    "    cl = sess.client('data')\n",
    "    stats = await cl.get_stats(interval='year', search_filter=combined_filter, item_types=item_types)"
   ]
  },
  {
   "cell_type": "code",
   "execution_count": 25,
   "metadata": {
    "scrolled": true
   },
   "outputs": [
    {
     "name": "stdout",
     "output_type": "stream",
     "text": [
      "{\n",
      "  \"buckets\": [\n",
      "    {\n",
      "      \"count\": 21,\n",
      "      \"start_time\": \"2017-01-01T00:00:00.000000Z\"\n",
      "    },\n",
      "    {\n",
      "      \"count\": 388,\n",
      "      \"start_time\": \"2018-01-01T00:00:00.000000Z\"\n",
      "    },\n",
      "    {\n",
      "      \"count\": 615,\n",
      "      \"start_time\": \"2019-01-01T00:00:00.000000Z\"\n",
      "    },\n",
      "    {\n",
      "      \"count\": 731,\n",
      "      \"start_time\": \"2020-01-01T00:00:00.000000Z\"\n",
      "    },\n",
      "    {\n",
      "      \"count\": 656,\n",
      "      \"start_time\": \"2021-01-01T00:00:00.000000Z\"\n",
      "    },\n",
      "    {\n",
      "      \"count\": 447,\n",
      "      \"start_time\": \"2022-01-01T00:00:00.000000Z\"\n",
      "    },\n",
      "    {\n",
      "      \"count\": 64,\n",
      "      \"start_time\": \"2023-01-01T00:00:00.000000Z\"\n",
      "    }\n",
      "  ],\n",
      "  \"interval\": \"year\",\n",
      "  \"utc_offset\": \"+0h\"\n",
      "}\n"
     ]
    }
   ],
   "source": [
    "indent(stats)"
   ]
  }
 ],
 "metadata": {
  "kernelspec": {
   "display_name": "Python 3 (ipykernel)",
   "language": "python",
   "name": "python3"
  },
  "language_info": {
   "codemirror_mode": {
    "name": "ipython",
    "version": 3
   },
   "file_extension": ".py",
   "mimetype": "text/x-python",
   "name": "python",
   "nbconvert_exporter": "python",
   "pygments_lexer": "ipython3",
   "version": "3.8.13"
  }
 },
 "nbformat": 4,
 "nbformat_minor": 1
}
